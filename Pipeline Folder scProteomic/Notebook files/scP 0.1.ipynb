{
 "cells": [
  {
   "cell_type": "code",
   "execution_count": 1,
   "id": "98e6c044-5c68-4580-bc4f-f3cb36c9a80c",
   "metadata": {},
   "outputs": [],
   "source": [
    "import scanpy as sc\n",
    "import os\n",
    "import seaborn as sns\n",
    "import matplotlib.pyplot as plt\n",
    "import pandas as pd\n",
    "#import doubletdetection\n",
    "from scipy.stats import median_abs_deviation as mad\n",
    "import numpy as np\n",
    "import anndata as adt"
   ]
  },
  {
   "cell_type": "code",
   "execution_count": 2,
   "id": "be5aaaeb-a975-4803-97ab-b30a2ae9872b",
   "metadata": {},
   "outputs": [],
   "source": [
    "import warnings \n",
    "warnings.simplefilter(\"ignore\", FutureWarning)\n",
    "warnings.simplefilter(\"ignore\", UserWarning)\n",
    "warnings.simplefilter(\"ignore\", RuntimeWarning)"
   ]
  },
  {
   "cell_type": "code",
   "execution_count": 4,
   "id": "d36708da-b70c-4084-8914-74e896c1b6ec",
   "metadata": {},
   "outputs": [],
   "source": [
    "path = '/home/ybeaumatin/Documents/Data processing pipeline/scP/Data/data.treatment_allconditions_pg_.xlsx'"
   ]
  },
  {
   "cell_type": "markdown",
   "id": "8769720e-460d-404f-92c0-79dbf12427bf",
   "metadata": {},
   "source": [
    "# Dataset formating"
   ]
  },
  {
   "cell_type": "code",
   "execution_count": 4,
   "id": "9ae19264-da95-4e69-948f-ddbdbdee570b",
   "metadata": {},
   "outputs": [],
   "source": [
    "sheets = pd.read_excel(path, sheet_name=None, header = None)"
   ]
  },
  {
   "cell_type": "code",
   "execution_count": 5,
   "id": "9063df5f-dfd4-4669-958d-b1d2a2c479db",
   "metadata": {},
   "outputs": [],
   "source": [
    "cles = list(sheets.keys())"
   ]
  },
  {
   "cell_type": "code",
   "execution_count": 6,
   "id": "d365fb35-8888-4e02-89c6-d5d857010694",
   "metadata": {},
   "outputs": [
    {
     "data": {
      "text/plain": [
       "['Mock3dpi_pg',\n",
       " 'GFP.NEG3dpi_pg',\n",
       " 'GFP.POS3dpi_pg',\n",
       " 'Mock6dpi_pg',\n",
       " 'GFP.NEG6dpi_pg',\n",
       " 'GFP.POS6dpi_pg']"
      ]
     },
     "execution_count": 6,
     "metadata": {},
     "output_type": "execute_result"
    }
   ],
   "source": [
    "cles"
   ]
  },
  {
   "cell_type": "code",
   "execution_count": 7,
   "id": "99ccc5dc-d40b-4de2-b329-96b1353e9a3e",
   "metadata": {},
   "outputs": [],
   "source": [
    "adatas = []\n",
    "\n",
    "for x in cles:\n",
    "    sheet_part = sheets[x]\n",
    "    var = sheet_part.iloc[1:, 0:5]  \n",
    "    obs = pd.DataFrame(sheet_part.iloc[0, 5:])  \n",
    "    data = sheet_part.iloc[1:, 5:].T\n",
    "\n",
    "    adata = sc.AnnData(X=data, obs=obs, var=var) #create anndata\n",
    "    \n",
    "    #remodele the indexs\n",
    "    #idx_var = pd.DataFrame(sheet_part.iloc[1:, 3]) \n",
    "    adata.obs.index = obs\n",
    "    \n",
    "    adata.obs.index = adata.obs.index.map(str)\n",
    "    adata.obs.index = adata.obs.index.str.replace(r\"[()']\", \"\", regex=True)\n",
    "    adata.obs.index = adata.obs.index.str.replace(\";\", \"\")\n",
    "    adata.obs.index = adata.obs.index.str.replace(\",\", \"\")\n",
    "\n",
    "\n",
    "    idx_var = pd.DataFrame(sheet_part.iloc[1:, 2])  # Index pour var (colonne cible)\n",
    "    adata.var.index = [str(idx[0]) if isinstance(idx, tuple) else str(idx) for idx in idx_var.iloc[:, 0]]\n",
    "    adata.var.index = [idx.replace(\"(\", \"\").replace(\")\", \"\").replace(\"'\", \"\").replace(\";\", \"\").replace(\",\", \"\") for idx in adata.var.index]\n",
    "    \n",
    "    adata.var.columns = sheet_part.iloc[0, 0:5]\n",
    "\n",
    "    \n",
    "    adata.obs = adata.obs.drop(columns=[0])\n",
    "    \n",
    "    adatas.append(adata)"
   ]
  },
  {
   "cell_type": "code",
   "execution_count": 8,
   "id": "8f51980c-27f5-410f-ab6b-2756de877ed4",
   "metadata": {},
   "outputs": [
    {
     "data": {
      "text/plain": [
       "[AnnData object with n_obs × n_vars = 145 × 5701\n",
       "     var: 'Protein.Group', 'Protein.Ids', 'Protein.Names', 'Genes', 'First.Protein.Description',\n",
       " AnnData object with n_obs × n_vars = 138 × 4142\n",
       "     var: 'Protein.Group', 'Protein.Ids', 'Protein.Names', 'Genes', 'First.Protein.Description',\n",
       " AnnData object with n_obs × n_vars = 133 × 2969\n",
       "     var: 'Protein.Group', 'Protein.Ids', 'Protein.Names', 'Genes', 'First.Protein.Description',\n",
       " AnnData object with n_obs × n_vars = 139 × 3223\n",
       "     var: 'Protein.Group', 'Protein.Ids', 'Protein.Names', 'Genes', 'First.Protein.Description',\n",
       " AnnData object with n_obs × n_vars = 108 × 3212\n",
       "     var: 'Protein.Group', 'Protein.Ids', 'Protein.Names', 'Genes', 'First.Protein.Description',\n",
       " AnnData object with n_obs × n_vars = 140 × 4385\n",
       "     var: 'Protein.Group', 'Protein.Ids', 'Protein.Names', 'Genes', 'First.Protein.Description']"
      ]
     },
     "execution_count": 8,
     "metadata": {},
     "output_type": "execute_result"
    }
   ],
   "source": [
    "adatas"
   ]
  },
  {
   "cell_type": "code",
   "execution_count": 9,
   "id": "3a9545c9-73b6-445c-b4e1-b01cbd574453",
   "metadata": {},
   "outputs": [],
   "source": [
    "def load_it(i, adata):\n",
    "    adata.obs['Id'] = cles[i]\n",
    "    return adata"
   ]
  },
  {
   "cell_type": "code",
   "execution_count": 10,
   "id": "0af75f92-d05e-43ff-ad54-ec7191ea5647",
   "metadata": {},
   "outputs": [],
   "source": [
    "adatas = [load_it(i, ad) for i, ad in enumerate(adatas)]"
   ]
  },
  {
   "cell_type": "code",
   "execution_count": 11,
   "id": "4069bd88-6144-427e-a20b-a448d0aec50a",
   "metadata": {},
   "outputs": [],
   "source": [
    "from scipy.sparse import csr_matrix\n",
    "for ad in adatas: \n",
    "    \n",
    "    if isinstance(ad.X, np.ndarray):\n",
    "         ad.X = ad.X.astype(np.float32)\n",
    "\n",
    "    if isinstance(ad.X, csr_matrix):\n",
    "         ad.X = csr_matrix(ad.X, dtype=np.float32)\n",
    "    # Convertir toutes les colonnes de obs et var en chaînes\n",
    "    ad.obs = ad.obs.astype(str)\n",
    "    ad.var = ad.var.astype(str)\n",
    "\n",
    "    # Convertir les index d'obs et var en chaînes\n",
    "    ad.obs.index = ad.obs.index.map(str)\n",
    "    ad.var.index = ad.var.index.map(str)"
   ]
  },
  {
   "cell_type": "code",
   "execution_count": 12,
   "id": "0f4f28f2-c62c-416c-974d-6febafaf36a5",
   "metadata": {},
   "outputs": [
    {
     "name": "stdout",
     "output_type": "stream",
     "text": [
      "Saved: /home/ybeaumatin/Documents/Data processing pipeline/scP/Data/adata_Mock3dpi_pg.h5ad\n",
      "Saved: /home/ybeaumatin/Documents/Data processing pipeline/scP/Data/adata_GFP.NEG3dpi_pg.h5ad\n",
      "Saved: /home/ybeaumatin/Documents/Data processing pipeline/scP/Data/adata_GFP.POS3dpi_pg.h5ad\n",
      "Saved: /home/ybeaumatin/Documents/Data processing pipeline/scP/Data/adata_Mock6dpi_pg.h5ad\n",
      "Saved: /home/ybeaumatin/Documents/Data processing pipeline/scP/Data/adata_GFP.NEG6dpi_pg.h5ad\n",
      "Saved: /home/ybeaumatin/Documents/Data processing pipeline/scP/Data/adata_GFP.POS6dpi_pg.h5ad\n"
     ]
    }
   ],
   "source": [
    "for ad in adatas:\n",
    "    unique_id = ad.obs['Id'][0]\n",
    "    file_path = os.path.join('/home/ybeaumatin/Documents/Data processing pipeline/scP/Data/', f'adata_{unique_id}.h5ad')\n",
    "    ad.write(file_path)\n",
    "    print(f\"Saved: {file_path}\")"
   ]
  },
  {
   "cell_type": "code",
   "execution_count": null,
   "id": "3a5a81a6-6fa0-436d-8231-e29a602172f1",
   "metadata": {},
   "outputs": [],
   "source": []
  },
  {
   "cell_type": "markdown",
   "id": "9208b515-2437-472c-9f07-b2cc3f11a11f",
   "metadata": {},
   "source": [
    "# Data exploration"
   ]
  },
  {
   "cell_type": "code",
   "execution_count": 5,
   "id": "a9a1386f-aabf-4551-b187-770fd872370d",
   "metadata": {},
   "outputs": [
    {
     "name": "stdout",
     "output_type": "stream",
     "text": [
      "Nombre de fichiers h5ad chargés avec succès : 6\n"
     ]
    }
   ],
   "source": [
    "adatas = []\n",
    "data_dir = '/home/ybeaumatin/Documents/Data processing pipeline/scP/Data'\n",
    "\n",
    "for filename in os.listdir(data_dir):\n",
    "    if filename.endswith('.h5ad'):\n",
    "            adata = sc.read_h5ad(os.path.join(data_dir, filename))\n",
    "            adata.var_names_make_unique()\n",
    "            adatas.append(adata)\n",
    "\n",
    "print(f\"Nombre de fichiers h5ad chargés avec succès : {len(adatas)}\")\n"
   ]
  },
  {
   "cell_type": "code",
   "execution_count": 6,
   "id": "5ab35f7c-e04f-40f0-93ac-a98d780d7f4e",
   "metadata": {},
   "outputs": [
    {
     "name": "stdout",
     "output_type": "stream",
     "text": [
      "Pourcentage of NaN values: 15.965015451316821%\n",
      "Pourcentage of NaN values: 36.266736224191334%\n",
      "Pourcentage of NaN values: 34.17766997925349%\n",
      "Pourcentage of NaN values: 28.933675895151083%\n",
      "Pourcentage of NaN values: 26.015800618993325%\n",
      "Pourcentage of NaN values: 14.870642901629822%\n"
     ]
    }
   ],
   "source": [
    "for ad in adatas:\n",
    "    nbmiss = np.sum(np.isnan(ad.X))/ np.sum(np.size(ad.X)) *100# ad.X contient la matrice de données\n",
    "    print(f\"Pourcentage of NaN values: {nbmiss}%\")"
   ]
  },
  {
   "cell_type": "code",
   "execution_count": 7,
   "id": "bd0d2fd2-a3f7-4baf-8831-6ef0a91f7ac4",
   "metadata": {
    "scrolled": true
   },
   "outputs": [
    {
     "data": {
      "text/plain": [
       "[AnnData object with n_obs × n_vars = 108 × 3212\n",
       "     obs: 'Id'\n",
       "     var: 'Protein.Group', 'Protein.Ids', 'Protein.Names', 'Genes', 'First.Protein.Description',\n",
       " AnnData object with n_obs × n_vars = 133 × 2969\n",
       "     obs: 'Id'\n",
       "     var: 'Protein.Group', 'Protein.Ids', 'Protein.Names', 'Genes', 'First.Protein.Description',\n",
       " AnnData object with n_obs × n_vars = 145 × 5701\n",
       "     obs: 'Id'\n",
       "     var: 'Protein.Group', 'Protein.Ids', 'Protein.Names', 'Genes', 'First.Protein.Description',\n",
       " AnnData object with n_obs × n_vars = 139 × 3223\n",
       "     obs: 'Id'\n",
       "     var: 'Protein.Group', 'Protein.Ids', 'Protein.Names', 'Genes', 'First.Protein.Description',\n",
       " AnnData object with n_obs × n_vars = 140 × 4385\n",
       "     obs: 'Id'\n",
       "     var: 'Protein.Group', 'Protein.Ids', 'Protein.Names', 'Genes', 'First.Protein.Description',\n",
       " AnnData object with n_obs × n_vars = 138 × 4142\n",
       "     obs: 'Id'\n",
       "     var: 'Protein.Group', 'Protein.Ids', 'Protein.Names', 'Genes', 'First.Protein.Description']"
      ]
     },
     "execution_count": 7,
     "metadata": {},
     "output_type": "execute_result"
    }
   ],
   "source": [
    "adatas"
   ]
  },
  {
   "cell_type": "code",
   "execution_count": 8,
   "id": "8c9376a5-e09a-4bb3-9aa1-6ee198a93f8a",
   "metadata": {
    "scrolled": true
   },
   "outputs": [
    {
     "data": {
      "text/plain": [
       "array([[    nan, 2108.71, 4227.87, ...,     nan,     nan, 1750.73],\n",
       "       [    nan, 2618.78, 4938.56, ..., 4525.85,     nan,     nan],\n",
       "       [    nan, 4620.57, 6304.49, ...,     nan,     nan,     nan],\n",
       "       ...,\n",
       "       [    nan,     nan,     nan, ...,     nan,     nan,     nan],\n",
       "       [    nan,     nan,     nan, ...,     nan,     nan,     nan],\n",
       "       [    nan,     nan,     nan, ...,     nan,     nan,     nan]],\n",
       "      dtype=float32)"
      ]
     },
     "execution_count": 8,
     "metadata": {},
     "output_type": "execute_result"
    }
   ],
   "source": [
    "adatas[1].X"
   ]
  },
  {
   "cell_type": "code",
   "execution_count": 9,
   "id": "1c4cb4fd-3c6a-4b78-a734-79959ace2a23",
   "metadata": {
    "scrolled": true
   },
   "outputs": [
    {
     "name": "stdout",
     "output_type": "stream",
     "text": [
      "GFP.NEG6dpi_pg\n",
      "Incorrect name in column 'Genes' :\n",
      "SYMC_HUMAN    2001-03-01 00:00:00\n",
      "Name: Genes, dtype: object\n",
      "\n",
      "Nombre total d'entrées incorrectes : 1\n",
      "\n",
      "Incorrect distribution :\n",
      "Genes\n",
      "2001-03-01 00:00:00    1\n",
      "Name: count, dtype: int64\n",
      "\n",
      "Incorrect Index :\n",
      "['SYMC_HUMAN']\n",
      "GFP.POS3dpi_pg\n",
      "Incorrect name in column 'Genes' :\n",
      "SEPT2_HUMAN    2002-09-01 00:00:00\n",
      "SEPT7_HUMAN    2007-09-01 00:00:00\n",
      "YI025_HUMAN                    nan\n",
      "SEPT8_HUMAN    2008-09-01 00:00:00\n",
      "SEP11_HUMAN    2011-09-01 00:00:00\n",
      "SEP10_HUMAN    2010-09-01 00:00:00\n",
      "SEPT9_HUMAN    2009-09-01 00:00:00\n",
      "Name: Genes, dtype: object\n",
      "\n",
      "Nombre total d'entrées incorrectes : 7\n",
      "\n",
      "Incorrect distribution :\n",
      "Genes\n",
      "2002-09-01 00:00:00    1\n",
      "2007-09-01 00:00:00    1\n",
      "nan                    1\n",
      "2008-09-01 00:00:00    1\n",
      "2011-09-01 00:00:00    1\n",
      "2010-09-01 00:00:00    1\n",
      "2009-09-01 00:00:00    1\n",
      "Name: count, dtype: int64\n",
      "\n",
      "Incorrect Index :\n",
      "['SEPT2_HUMAN', 'SEPT7_HUMAN', 'YI025_HUMAN', 'SEPT8_HUMAN', 'SEP11_HUMAN', 'SEP10_HUMAN', 'SEPT9_HUMAN']\n",
      "Mock3dpi_pg\n",
      "Incorrect name in column 'Genes' :\n",
      "SYMC_HUMAN     2001-03-01 00:00:00\n",
      "YJ005_HUMAN                    nan\n",
      "SYMM_HUMAN     2002-03-01 00:00:00\n",
      "Name: Genes, dtype: object\n",
      "\n",
      "Nombre total d'entrées incorrectes : 3\n",
      "\n",
      "Incorrect distribution :\n",
      "Genes\n",
      "2001-03-01 00:00:00    1\n",
      "nan                    1\n",
      "2002-03-01 00:00:00    1\n",
      "Name: count, dtype: int64\n",
      "\n",
      "Incorrect Index :\n",
      "['SYMC_HUMAN', 'YJ005_HUMAN', 'SYMM_HUMAN']\n",
      "Mock6dpi_pg\n",
      "Incorrect name in column 'Genes' :\n",
      "IGA2_HUMAN                    nan\n",
      "IGL1_HUMAN                    nan\n",
      "SYMC_HUMAN    2001-03-01 00:00:00\n",
      "Name: Genes, dtype: object\n",
      "\n",
      "Nombre total d'entrées incorrectes : 3\n",
      "\n",
      "Incorrect distribution :\n",
      "Genes\n",
      "nan                    2\n",
      "2001-03-01 00:00:00    1\n",
      "Name: count, dtype: int64\n",
      "\n",
      "Incorrect Index :\n",
      "['IGA2_HUMAN', 'IGL1_HUMAN', 'SYMC_HUMAN']\n",
      "GFP.POS6dpi_pg\n",
      "Incorrect name in column 'Genes' :\n",
      "SYMC_HUMAN     2001-03-01 00:00:00\n",
      "YJ005_HUMAN                    nan\n",
      "SYMM_HUMAN     2002-03-01 00:00:00\n",
      "Name: Genes, dtype: object\n",
      "\n",
      "Nombre total d'entrées incorrectes : 3\n",
      "\n",
      "Incorrect distribution :\n",
      "Genes\n",
      "2001-03-01 00:00:00    1\n",
      "nan                    1\n",
      "2002-03-01 00:00:00    1\n",
      "Name: count, dtype: int64\n",
      "\n",
      "Incorrect Index :\n",
      "['SYMC_HUMAN', 'YJ005_HUMAN', 'SYMM_HUMAN']\n",
      "GFP.NEG3dpi_pg\n",
      "Incorrect name in column 'Genes' :\n",
      "SEPT6_HUMAN    2006-09-01 00:00:00\n",
      "SEPT2_HUMAN    2002-09-01 00:00:00\n",
      "SEPT7_HUMAN    2007-09-01 00:00:00\n",
      "YJ005_HUMAN                    nan\n",
      "YI025_HUMAN                    nan\n",
      "SEPT8_HUMAN    2008-09-01 00:00:00\n",
      "SEPT5_HUMAN    2005-09-01 00:00:00\n",
      "SEP11_HUMAN    2011-09-01 00:00:00\n",
      "SEP10_HUMAN    2010-09-01 00:00:00\n",
      "SEPT9_HUMAN    2009-09-01 00:00:00\n",
      "Name: Genes, dtype: object\n",
      "\n",
      "Nombre total d'entrées incorrectes : 10\n",
      "\n",
      "Incorrect distribution :\n",
      "Genes\n",
      "nan                    2\n",
      "2006-09-01 00:00:00    1\n",
      "2002-09-01 00:00:00    1\n",
      "2007-09-01 00:00:00    1\n",
      "2008-09-01 00:00:00    1\n",
      "2005-09-01 00:00:00    1\n",
      "2011-09-01 00:00:00    1\n",
      "2010-09-01 00:00:00    1\n",
      "2009-09-01 00:00:00    1\n",
      "Name: count, dtype: int64\n",
      "\n",
      "Incorrect Index :\n",
      "['SEPT6_HUMAN', 'SEPT2_HUMAN', 'SEPT7_HUMAN', 'YJ005_HUMAN', 'YI025_HUMAN', 'SEPT8_HUMAN', 'SEPT5_HUMAN', 'SEP11_HUMAN', 'SEP10_HUMAN', 'SEPT9_HUMAN']\n",
      "\n",
      "Tous les indices incorrects uniques :\n",
      "['IGA2_HUMAN', 'IGL1_HUMAN', 'SEP10_HUMAN', 'SEP11_HUMAN', 'SEPT2_HUMAN', 'SEPT5_HUMAN', 'SEPT6_HUMAN', 'SEPT7_HUMAN', 'SEPT8_HUMAN', 'SEPT9_HUMAN', 'SYMC_HUMAN', 'SYMM_HUMAN', 'YI025_HUMAN', 'YJ005_HUMAN']\n",
      "\n",
      "Nombre total d'indices incorrects uniques : 14\n"
     ]
    }
   ],
   "source": [
    "all_incorrect_indices = set()\n",
    "\n",
    "for ad in adatas:\n",
    "    print(ad.obs['Id'][0])\n",
    "    ad.var['Genes'] = ad.var['Genes'].astype(str)\n",
    "    if 'Genes' not in ad.var.columns:\n",
    "        print(\"The column doesn't exist in adata.var\")\n",
    "    else:\n",
    "        # Create a mask for the datas with date name\n",
    "        date_mask = pd.to_datetime(ad.var['Genes'], format='%Y-%m-%d %H:%M:%S', errors='coerce').notna()\n",
    "        other_date_mask = pd.to_datetime(ad.var['Genes'], format='%Y-%d-%m %H:%M:%S', errors='coerce').notna()\n",
    "\n",
    "    # same for NaN\n",
    "        nan_mask = ad.var['Genes'].astype(str).str.lower() == 'nan'\n",
    "\n",
    "    # Combine\n",
    "        incorrect_entries = date_mask | nan_mask | other_date_mask\n",
    "\n",
    "        incorrect_genes = ad.var.loc[incorrect_entries, 'Genes']\n",
    "\n",
    "        print(\"Incorrect name in column 'Genes' :\")\n",
    "        print(incorrect_genes)\n",
    "        print(f\"\\nNombre total d'entrées incorrectes : {incorrect_entries.sum()}\")\n",
    "        print(\"\\nIncorrect distribution :\")\n",
    "        print(incorrect_genes.value_counts())\n",
    "\n",
    "   \n",
    "        print(\"\\nIncorrect Index :\")\n",
    "        print(incorrect_genes.index.tolist())\n",
    "        all_incorrect_indices.update(incorrect_genes.index)\n",
    "\n",
    "\n",
    "print(\"\\nTous les indices incorrects uniques :\")\n",
    "print(sorted(list(all_incorrect_indices)))\n",
    "print(f\"\\nNombre total d'indices incorrects uniques : {len(all_incorrect_indices)}\")"
   ]
  },
  {
   "cell_type": "code",
   "execution_count": 10,
   "id": "4d336f46-935c-46e9-afa2-c35f13d77e7f",
   "metadata": {},
   "outputs": [],
   "source": [
    "wrong_gene_name = {\n",
    "\"IGA2_HUMAN\":\"IGA2\",\n",
    "\"IGL1_HUMAN\":\"IGL1\",\n",
    "\"SEP10_HUMAN\":\"SEPTIN10\",\n",
    "\"SEP11_HUMAN\":\"SEPTIN11\",\n",
    "\"SEPT2_HUMAN\":\"SEPTIN2\",\n",
    "\"SEPT5_HUMAN\":\"SEPTIN5\",\n",
    "\"SEPT6_HUMAN\":\"SEPTIN6\",\n",
    "\"SEPT7_HUMAN\":\"SEPTIN7\",\n",
    "\"SEPT8_HUMAN\":\"SEPTIN8\",\n",
    "\"SEPT9_HUMAN\":\"SEPTIN9\",\n",
    "\"SYMC_HUMAN\":\"MARS1\",\n",
    "\"SYMM_HUMAN\":\"MARS2\",\n",
    "\"YI025_HUMAN\":\"YI025\",\n",
    "\"YJ005_HUMAN\":\"YJ005\"\n",
    "}"
   ]
  },
  {
   "cell_type": "code",
   "execution_count": 11,
   "id": "fd47d6f9-8b76-4f99-bf30-da1a04762bb4",
   "metadata": {},
   "outputs": [],
   "source": [
    "def corriger_noms_genes(adatas, corrections):\n",
    "    for ad in adatas:\n",
    "\n",
    "        ad.var['Genes'] = ad.var['Genes'].astype(str)\n",
    "        \n",
    "\n",
    "        ad.var['Genes'] = ad.var['Genes'].replace(corrections)\n",
    "        \n",
    "        date_mask = pd.to_datetime(ad.var['Genes'], format='%Y-%m-%d %H:%M:%S', errors='coerce').notna()\n",
    "        \n",
    "        mask_a_corriger = date_mask | (ad.var['Genes'].str.lower() == 'nan')\n",
    "        ad.var.loc[mask_a_corriger, 'Genes'] = ad.var.index[mask_a_corriger].str.split('_').str[0]\n",
    "\n",
    "\n",
    "corriger_noms_genes(adatas, wrong_gene_name)"
   ]
  },
  {
   "cell_type": "code",
   "execution_count": 12,
   "id": "5c113775-2608-4f8f-a592-d35ce763de34",
   "metadata": {
    "scrolled": true
   },
   "outputs": [
    {
     "name": "stdout",
     "output_type": "stream",
     "text": [
      "GFP.NEG6dpi_pg\n",
      "Incorrect name in column 'Genes' :\n",
      "Series([], Name: Genes, dtype: object)\n",
      "\n",
      "Nombre total d'entrées incorrectes : 0\n",
      "\n",
      "Incorrect distribution :\n",
      "Series([], Name: count, dtype: int64)\n",
      "\n",
      "Incorrect Index :\n",
      "[]\n",
      "GFP.POS3dpi_pg\n",
      "Incorrect name in column 'Genes' :\n",
      "Series([], Name: Genes, dtype: object)\n",
      "\n",
      "Nombre total d'entrées incorrectes : 0\n",
      "\n",
      "Incorrect distribution :\n",
      "Series([], Name: count, dtype: int64)\n",
      "\n",
      "Incorrect Index :\n",
      "[]\n",
      "Mock3dpi_pg\n",
      "Incorrect name in column 'Genes' :\n",
      "Series([], Name: Genes, dtype: object)\n",
      "\n",
      "Nombre total d'entrées incorrectes : 0\n",
      "\n",
      "Incorrect distribution :\n",
      "Series([], Name: count, dtype: int64)\n",
      "\n",
      "Incorrect Index :\n",
      "[]\n",
      "Mock6dpi_pg\n",
      "Incorrect name in column 'Genes' :\n",
      "Series([], Name: Genes, dtype: object)\n",
      "\n",
      "Nombre total d'entrées incorrectes : 0\n",
      "\n",
      "Incorrect distribution :\n",
      "Series([], Name: count, dtype: int64)\n",
      "\n",
      "Incorrect Index :\n",
      "[]\n",
      "GFP.POS6dpi_pg\n",
      "Incorrect name in column 'Genes' :\n",
      "Series([], Name: Genes, dtype: object)\n",
      "\n",
      "Nombre total d'entrées incorrectes : 0\n",
      "\n",
      "Incorrect distribution :\n",
      "Series([], Name: count, dtype: int64)\n",
      "\n",
      "Incorrect Index :\n",
      "[]\n",
      "GFP.NEG3dpi_pg\n",
      "Incorrect name in column 'Genes' :\n",
      "Series([], Name: Genes, dtype: object)\n",
      "\n",
      "Nombre total d'entrées incorrectes : 0\n",
      "\n",
      "Incorrect distribution :\n",
      "Series([], Name: count, dtype: int64)\n",
      "\n",
      "Incorrect Index :\n",
      "[]\n",
      "\n",
      "Tous les indices incorrects uniques :\n",
      "[]\n",
      "\n",
      "Nombre total d'indices incorrects uniques : 0\n"
     ]
    }
   ],
   "source": [
    "all_incorrect_indices = set()\n",
    "\n",
    "for ad in adatas:\n",
    "    print(ad.obs['Id'][0])\n",
    "    ad.var['Genes'] = ad.var['Genes'].astype(str)\n",
    "    if 'Genes' not in ad.var.columns:\n",
    "        print(\"The column doesn't exist in adata.var\")\n",
    "    else:\n",
    "        # Create a mask for the datas with date name\n",
    "        date_mask = pd.to_datetime(ad.var['Genes'], format='%Y-%m-%d %H:%M:%S', errors='coerce').notna()\n",
    "        other_date_mask = pd.to_datetime(ad.var['Genes'], format='%Y-%d-%m %H:%M:%S', errors='coerce').notna()\n",
    "\n",
    "    # same for NaN\n",
    "        nan_mask = ad.var['Genes'].astype(str).str.lower() == 'nan'\n",
    "\n",
    "    # Combine\n",
    "        incorrect_entries = date_mask | nan_mask | other_date_mask\n",
    "\n",
    "        incorrect_genes = ad.var.loc[incorrect_entries, 'Genes']\n",
    "\n",
    "        print(\"Incorrect name in column 'Genes' :\")\n",
    "        print(incorrect_genes)\n",
    "        print(f\"\\nNombre total d'entrées incorrectes : {incorrect_entries.sum()}\")\n",
    "        print(\"\\nIncorrect distribution :\")\n",
    "        print(incorrect_genes.value_counts())\n",
    "\n",
    "   \n",
    "        print(\"\\nIncorrect Index :\")\n",
    "        print(incorrect_genes.index.tolist())\n",
    "        all_incorrect_indices.update(incorrect_genes.index)\n",
    "\n",
    "\n",
    "print(\"\\nTous les indices incorrects uniques :\")\n",
    "print(sorted(list(all_incorrect_indices)))\n",
    "print(f\"\\nNombre total d'indices incorrects uniques : {len(all_incorrect_indices)}\")"
   ]
  },
  {
   "cell_type": "markdown",
   "id": "ce02f6d4-c89f-40e0-a8d2-4a8f11883c45",
   "metadata": {},
   "source": [
    "### Differences between datasets"
   ]
  },
  {
   "cell_type": "code",
   "execution_count": 13,
   "id": "60cea1e7-5d31-4eae-accd-cc1062086377",
   "metadata": {},
   "outputs": [
    {
     "data": {
      "image/png": "[encoded data removed]",
      "text/plain": [
       "<Figure size 640x480 with 1 Axes>"
      ]
     },
     "metadata": {},
     "output_type": "display_data"
    }
   ],
   "source": [
    "for ad in adatas:\n",
    "    ax = sns.histplot(np.nan_to_num(ad.X, nan=0.0).sum(1), bins=100, kde=False, label = ad.obs['Id'][0])\n",
    "    ax.legend()\n",
    "#sum of cells for each "
   ]
  },
  {
   "cell_type": "code",
   "execution_count": 14,
   "id": "338b7725-aa1c-4f37-9c4e-48bb9a4212e0",
   "metadata": {},
   "outputs": [
    {
     "data": {
      "text/plain": [
       "array([[    nan, 2108.71, 4227.87, ...,     nan,     nan, 1750.73],\n",
       "       [    nan, 2618.78, 4938.56, ..., 4525.85,     nan,     nan],\n",
       "       [    nan, 4620.57, 6304.49, ...,     nan,     nan,     nan],\n",
       "       ...,\n",
       "       [    nan,     nan,     nan, ...,     nan,     nan,     nan],\n",
       "       [    nan,     nan,     nan, ...,     nan,     nan,     nan],\n",
       "       [    nan,     nan,     nan, ...,     nan,     nan,     nan]],\n",
       "      dtype=float32)"
      ]
     },
     "execution_count": 14,
     "metadata": {},
     "output_type": "execute_result"
    }
   ],
   "source": [
    "adatas[1].X"
   ]
  },
  {
   "cell_type": "code",
   "execution_count": 15,
   "id": "23b7f95b-cd1b-4476-8495-a410338444dc",
   "metadata": {},
   "outputs": [],
   "source": [
    "adata_raw = adt.concat(adatas, join=\"outer\", index_unique=\"-\", merge=\"unique\")"
   ]
  },
  {
   "cell_type": "code",
   "execution_count": 16,
   "id": "3da1c53e-ce32-475b-a566-f3a95e3af721",
   "metadata": {},
   "outputs": [],
   "source": [
    "adata_raw.X = np.nan_to_num(adata_raw.X, nan=0.0)"
   ]
  },
  {
   "cell_type": "code",
   "execution_count": 17,
   "id": "9f6927af-a636-425b-92f0-b5a82006df13",
   "metadata": {},
   "outputs": [],
   "source": [
    "sc.pp.highly_variable_genes(adata_raw, n_top_genes=2000, flavor=\"cell_ranger\", batch_key='Id')"
   ]
  },
  {
   "cell_type": "code",
   "execution_count": 18,
   "id": "6de7bda5-72e8-454f-88d2-2b2dfb2e0a99",
   "metadata": {},
   "outputs": [
    {
     "data": {
      "text/plain": [
       "Text(0.5, 1.0, 'Distribution des gènes hautement variables à travers les lots')"
      ]
     },
     "execution_count": 18,
     "metadata": {},
     "output_type": "execute_result"
    },
    {
     "data": {
      "image/png": "[encoded data removed]",
      "text/plain": [
       "<Figure size 640x480 with 1 Axes>"
      ]
     },
     "metadata": {},
     "output_type": "display_data"
    }
   ],
   "source": [
    "n_batches = adata_raw.var[\"highly_variable_nbatches\"].value_counts()\n",
    "ax = n_batches.plot(kind=\"bar\")\n",
    "n_batches\n",
    "ax.set_xlabel(\"Nombre de lots\")\n",
    "ax.set_ylabel(\"Nombre de gènes\")\n",
    "ax.set_title(\"Distribution des gènes hautement variables à travers les lots\")"
   ]
  },
  {
   "cell_type": "code",
   "execution_count": 19,
   "id": "b7d996ef-a4ba-404c-9c5e-f39bdc35093c",
   "metadata": {},
   "outputs": [
    {
     "data": {
      "text/html": [
       "<div>\n",
       "<style scoped>\n",
       "    .dataframe tbody tr th:only-of-type {\n",
       "        vertical-align: middle;\n",
       "    }\n",
       "\n",
       "    .dataframe tbody tr th {\n",
       "        vertical-align: top;\n",
       "    }\n",
       "\n",
       "    .dataframe thead th {\n",
       "        text-align: right;\n",
       "    }\n",
       "</style>\n",
       "<table border=\"1\" class=\"dataframe\">\n",
       "  <thead>\n",
       "    <tr style=\"text-align: right;\">\n",
       "      <th></th>\n",
       "      <th>Protein.Group</th>\n",
       "      <th>Protein.Ids</th>\n",
       "      <th>Protein.Names</th>\n",
       "      <th>Genes</th>\n",
       "      <th>First.Protein.Description</th>\n",
       "    </tr>\n",
       "  </thead>\n",
       "  <tbody>\n",
       "    <tr>\n",
       "      <th>NUD4B_HUMANNUDT4_HUMAN</th>\n",
       "      <td>A0A024RBG1;Q9NZJ9</td>\n",
       "      <td>A0A024RBG1;Q9NZJ9</td>\n",
       "      <td>NUD4B_HUMAN;NUDT4_HUMAN</td>\n",
       "      <td>NUDT4;NUDT4B</td>\n",
       "      <td>Diphosphoinositol polyphosphate phosphohydrola...</td>\n",
       "    </tr>\n",
       "    <tr>\n",
       "      <th>GAL3A_HUMANGAL3B_HUMAN</th>\n",
       "      <td>A0A0B4J2D5;P0DPI2</td>\n",
       "      <td>A0A0B4J2D5;P0DPI2</td>\n",
       "      <td>GAL3A_HUMAN;GAL3B_HUMAN</td>\n",
       "      <td>GATD3;GATD3B</td>\n",
       "      <td>Putative glutamine amidotransferase-like class...</td>\n",
       "    </tr>\n",
       "    <tr>\n",
       "      <th>A0A7S6HGT3_CVH22</th>\n",
       "      <td>A0A7S6HGT3</td>\n",
       "      <td>A0A7S6HGT3</td>\n",
       "      <td>A0A7S6HGT3_CVH22</td>\n",
       "      <td>N</td>\n",
       "      <td>Nucleoprotein</td>\n",
       "    </tr>\n",
       "    <tr>\n",
       "      <th>RBM47_HUMAN</th>\n",
       "      <td>A0AV96</td>\n",
       "      <td>A0AV96</td>\n",
       "      <td>RBM47_HUMAN</td>\n",
       "      <td>RBM47</td>\n",
       "      <td>RNA-binding protein 47</td>\n",
       "    </tr>\n",
       "    <tr>\n",
       "      <th>IFT56_HUMAN</th>\n",
       "      <td>A0AVF1</td>\n",
       "      <td>A0AVF1</td>\n",
       "      <td>IFT56_HUMAN</td>\n",
       "      <td>TTC26</td>\n",
       "      <td>Intraflagellar transport protein 56</td>\n",
       "    </tr>\n",
       "    <tr>\n",
       "      <th>...</th>\n",
       "      <td>...</td>\n",
       "      <td>...</td>\n",
       "      <td>...</td>\n",
       "      <td>...</td>\n",
       "      <td>...</td>\n",
       "    </tr>\n",
       "    <tr>\n",
       "      <th>M3K4_HUMAN</th>\n",
       "      <td>Q9Y6R4</td>\n",
       "      <td>Q9Y6R4</td>\n",
       "      <td>M3K4_HUMAN</td>\n",
       "      <td>MAP3K4</td>\n",
       "      <td>Mitogen-activated protein kinase kinase kinase 4</td>\n",
       "    </tr>\n",
       "    <tr>\n",
       "      <th>SCIN_HUMAN</th>\n",
       "      <td>Q9Y6U3</td>\n",
       "      <td>Q9Y6U3</td>\n",
       "      <td>SCIN_HUMAN</td>\n",
       "      <td>SCIN</td>\n",
       "      <td>Scinderin</td>\n",
       "    </tr>\n",
       "    <tr>\n",
       "      <th>CAN7_HUMAN</th>\n",
       "      <td>Q9Y6W3</td>\n",
       "      <td>Q9Y6W3</td>\n",
       "      <td>CAN7_HUMAN</td>\n",
       "      <td>CAPN7</td>\n",
       "      <td>Calpain-7</td>\n",
       "    </tr>\n",
       "    <tr>\n",
       "      <th>WASF2_HUMAN</th>\n",
       "      <td>Q9Y6W5</td>\n",
       "      <td>Q9Y6W5</td>\n",
       "      <td>WASF2_HUMAN</td>\n",
       "      <td>WASF2</td>\n",
       "      <td>Wiskott-Aldrich syndrome protein family member 2</td>\n",
       "    </tr>\n",
       "    <tr>\n",
       "      <th>S23IP_HUMAN</th>\n",
       "      <td>Q9Y6Y8</td>\n",
       "      <td>Q9Y6Y8</td>\n",
       "      <td>S23IP_HUMAN</td>\n",
       "      <td>SEC23IP</td>\n",
       "      <td>SEC23-interacting protein</td>\n",
       "    </tr>\n",
       "  </tbody>\n",
       "</table>\n",
       "<p>3212 rows × 5 columns</p>\n",
       "</div>"
      ],
      "text/plain": [
       "                            Protein.Group        Protein.Ids  \\\n",
       "NUD4B_HUMANNUDT4_HUMAN  A0A024RBG1;Q9NZJ9  A0A024RBG1;Q9NZJ9   \n",
       "GAL3A_HUMANGAL3B_HUMAN  A0A0B4J2D5;P0DPI2  A0A0B4J2D5;P0DPI2   \n",
       "A0A7S6HGT3_CVH22               A0A7S6HGT3         A0A7S6HGT3   \n",
       "RBM47_HUMAN                        A0AV96             A0AV96   \n",
       "IFT56_HUMAN                        A0AVF1             A0AVF1   \n",
       "...                                   ...                ...   \n",
       "M3K4_HUMAN                         Q9Y6R4             Q9Y6R4   \n",
       "SCIN_HUMAN                         Q9Y6U3             Q9Y6U3   \n",
       "CAN7_HUMAN                         Q9Y6W3             Q9Y6W3   \n",
       "WASF2_HUMAN                        Q9Y6W5             Q9Y6W5   \n",
       "S23IP_HUMAN                        Q9Y6Y8             Q9Y6Y8   \n",
       "\n",
       "                                  Protein.Names         Genes  \\\n",
       "NUD4B_HUMANNUDT4_HUMAN  NUD4B_HUMAN;NUDT4_HUMAN  NUDT4;NUDT4B   \n",
       "GAL3A_HUMANGAL3B_HUMAN  GAL3A_HUMAN;GAL3B_HUMAN  GATD3;GATD3B   \n",
       "A0A7S6HGT3_CVH22               A0A7S6HGT3_CVH22             N   \n",
       "RBM47_HUMAN                         RBM47_HUMAN         RBM47   \n",
       "IFT56_HUMAN                         IFT56_HUMAN         TTC26   \n",
       "...                                         ...           ...   \n",
       "M3K4_HUMAN                           M3K4_HUMAN        MAP3K4   \n",
       "SCIN_HUMAN                           SCIN_HUMAN          SCIN   \n",
       "CAN7_HUMAN                           CAN7_HUMAN         CAPN7   \n",
       "WASF2_HUMAN                         WASF2_HUMAN         WASF2   \n",
       "S23IP_HUMAN                         S23IP_HUMAN       SEC23IP   \n",
       "\n",
       "                                                First.Protein.Description  \n",
       "NUD4B_HUMANNUDT4_HUMAN  Diphosphoinositol polyphosphate phosphohydrola...  \n",
       "GAL3A_HUMANGAL3B_HUMAN  Putative glutamine amidotransferase-like class...  \n",
       "A0A7S6HGT3_CVH22                                            Nucleoprotein  \n",
       "RBM47_HUMAN                                        RNA-binding protein 47  \n",
       "IFT56_HUMAN                           Intraflagellar transport protein 56  \n",
       "...                                                                   ...  \n",
       "M3K4_HUMAN               Mitogen-activated protein kinase kinase kinase 4  \n",
       "SCIN_HUMAN                                                      Scinderin  \n",
       "CAN7_HUMAN                                                      Calpain-7  \n",
       "WASF2_HUMAN              Wiskott-Aldrich syndrome protein family member 2  \n",
       "S23IP_HUMAN                                     SEC23-interacting protein  \n",
       "\n",
       "[3212 rows x 5 columns]"
      ]
     },
     "execution_count": 19,
     "metadata": {},
     "output_type": "execute_result"
    }
   ],
   "source": [
    "adatas[0].var"
   ]
  },
  {
   "cell_type": "code",
   "execution_count": 20,
   "id": "59154d66-4111-477c-acf4-1cceee4c8fe4",
   "metadata": {},
   "outputs": [
    {
     "name": "stdout",
     "output_type": "stream",
     "text": [
      "6570\n"
     ]
    },
    {
     "data": {
      "image/png": "[encoded data removed]",
      "text/plain": [
       "<Figure size 800x600 with 1 Axes>"
      ]
     },
     "metadata": {},
     "output_type": "display_data"
    }
   ],
   "source": [
    "all_genes = list(set().union(*[set(adata.var_names) for adata in adatas]))\n",
    "print(len(all_genes))\n",
    "\n",
    "presence_matrix = pd.DataFrame(0, index=all_genes, columns=[f\"Dataset {ad.obs['Id'][0]}\" for ad in adatas])\n",
    "\n",
    "for adata in adatas:\n",
    "    presence_matrix.loc[adata.var_names, f\"Dataset {adata.obs['Id'][0]}\"] = 1  \n",
    "\n",
    "compte = pd.DataFrame(0, index=all_genes, columns=[f\"Seen in {i+1}\" for i in range(len(adatas))])\n",
    "sum_presencematrix = presence_matrix.sum(1)\n",
    "\n",
    "for gene in all_genes:\n",
    "    presence_count = sum_presencematrix[gene] \n",
    "    compte.loc[gene, f\"Seen in {presence_count}\"] = 1  \n",
    "\n",
    "\n",
    "column_sums = compte.sum(axis=0)\n",
    "\n",
    "\n",
    "plt.figure(figsize=(8, 6))\n",
    "sns.barplot(x=column_sums.index, y=column_sums.values, palette=\"viridis\")\n",
    "\n",
    "plt.xlabel(\"Number of datasets where gene seen\")\n",
    "plt.ylabel(\"Number of genes\")\n",
    "plt.title(\"Number of genes shared between datasets\")\n",
    "\n",
    "\n",
    "plt.xticks(rotation=45)\n",
    "\n",
    "plt.show()"
   ]
  },
  {
   "cell_type": "code",
   "execution_count": 21,
   "id": "35e99277-127f-40b9-aaf0-6e6efaa5ffb0",
   "metadata": {},
   "outputs": [
    {
     "data": {
      "text/plain": [
       "array([[    nan, 2108.71, 4227.87, ...,     nan,     nan, 1750.73],\n",
       "       [    nan, 2618.78, 4938.56, ..., 4525.85,     nan,     nan],\n",
       "       [    nan, 4620.57, 6304.49, ...,     nan,     nan,     nan],\n",
       "       ...,\n",
       "       [    nan,     nan,     nan, ...,     nan,     nan,     nan],\n",
       "       [    nan,     nan,     nan, ...,     nan,     nan,     nan],\n",
       "       [    nan,     nan,     nan, ...,     nan,     nan,     nan]],\n",
       "      dtype=float32)"
      ]
     },
     "execution_count": 21,
     "metadata": {},
     "output_type": "execute_result"
    }
   ],
   "source": [
    "adatas[1].X"
   ]
  },
  {
   "cell_type": "code",
   "execution_count": null,
   "id": "7d488282-5511-4ac1-a3e7-6271af8a073c",
   "metadata": {},
   "outputs": [],
   "source": []
  },
  {
   "cell_type": "code",
   "execution_count": null,
   "id": "861da46e-64f0-49c4-b6db-90dd9b157374",
   "metadata": {},
   "outputs": [],
   "source": []
  },
  {
   "cell_type": "code",
   "execution_count": null,
   "id": "6f02290a-7d44-4a4d-b9d3-9026bf8f1c71",
   "metadata": {},
   "outputs": [],
   "source": []
  },
  {
   "cell_type": "code",
   "execution_count": null,
   "id": "3bb0d1c6-d843-4cf5-ab6f-0c855b661931",
   "metadata": {},
   "outputs": [],
   "source": []
  },
  {
   "cell_type": "code",
   "execution_count": null,
   "id": "cd94a04e-f85d-4523-af03-e4ab5304eb88",
   "metadata": {},
   "outputs": [],
   "source": []
  },
  {
   "cell_type": "markdown",
   "id": "0974d963-cfc5-49e7-b9bf-a3a262a3b362",
   "metadata": {},
   "source": [
    "## Erase non detected genes in batch"
   ]
  },
  {
   "cell_type": "code",
   "execution_count": 22,
   "id": "b0aa55a0-8476-48c0-a84b-2bf6c3c284f3",
   "metadata": {},
   "outputs": [],
   "source": [
    "protein_diff = set(adatas[2].var_names)\n",
    "protein_diff2 = set(adatas[3].var_names)\n",
    "all_protein_diff = (protein_diff-protein_diff2)  ^(protein_diff2-protein_diff)"
   ]
  },
  {
   "cell_type": "code",
   "execution_count": 23,
   "id": "c6e95c4d-7742-4f07-b0f3-ede6c412f7ef",
   "metadata": {},
   "outputs": [
    {
     "data": {
      "text/plain": [
       "[View of AnnData object with n_obs × n_vars = 108 × 2837\n",
       "     obs: 'Id'\n",
       "     var: 'Protein.Group', 'Protein.Ids', 'Protein.Names', 'Genes', 'First.Protein.Description',\n",
       " View of AnnData object with n_obs × n_vars = 133 × 2402\n",
       "     obs: 'Id'\n",
       "     var: 'Protein.Group', 'Protein.Ids', 'Protein.Names', 'Genes', 'First.Protein.Description',\n",
       " View of AnnData object with n_obs × n_vars = 145 × 3065\n",
       "     obs: 'Id'\n",
       "     var: 'Protein.Group', 'Protein.Ids', 'Protein.Names', 'Genes', 'First.Protein.Description',\n",
       " View of AnnData object with n_obs × n_vars = 139 × 3065\n",
       "     obs: 'Id'\n",
       "     var: 'Protein.Group', 'Protein.Ids', 'Protein.Names', 'Genes', 'First.Protein.Description',\n",
       " View of AnnData object with n_obs × n_vars = 140 × 3113\n",
       "     obs: 'Id'\n",
       "     var: 'Protein.Group', 'Protein.Ids', 'Protein.Names', 'Genes', 'First.Protein.Description',\n",
       " View of AnnData object with n_obs × n_vars = 138 × 2926\n",
       "     obs: 'Id'\n",
       "     var: 'Protein.Group', 'Protein.Ids', 'Protein.Names', 'Genes', 'First.Protein.Description']"
      ]
     },
     "execution_count": 23,
     "metadata": {},
     "output_type": "execute_result"
    }
   ],
   "source": [
    "adatas_red = [adata.copy() for adata in adatas]\n",
    "for i,ad in enumerate(adatas_red): \n",
    "    adatas_red[i] = ad[:, ~ad.var_names.isin(all_protein_diff)]\n",
    "adatas_red"
   ]
  },
  {
   "cell_type": "code",
   "execution_count": 24,
   "id": "459c1303-44e9-4833-aaeb-eabb6b458079",
   "metadata": {},
   "outputs": [
    {
     "data": {
      "text/plain": [
       "<matplotlib.legend.Legend at 0x7685bdc33350>"
      ]
     },
     "execution_count": 24,
     "metadata": {},
     "output_type": "execute_result"
    },
    {
     "data": {
      "image/png": "[encoded data removed]",
      "text/plain": [
       "<Figure size 640x480 with 1 Axes>"
      ]
     },
     "metadata": {},
     "output_type": "display_data"
    }
   ],
   "source": [
    "ax = sns.histplot(np.nan_to_num(adatas_red[0].X, nan=0.0).sum(1), bins=100, kde=False, label = adatas_red[0].obs['Id'][0])\n",
    "ax.legend()"
   ]
  },
  {
   "cell_type": "code",
   "execution_count": 25,
   "id": "f0c0e349-60d5-4fc4-8756-41be86a715ae",
   "metadata": {},
   "outputs": [
    {
     "data": {
      "image/png": "[encoded data removed]",
      "text/plain": [
       "<Figure size 640x480 with 1 Axes>"
      ]
     },
     "metadata": {},
     "output_type": "display_data"
    }
   ],
   "source": [
    "for ad in adatas_red:\n",
    "    ax = sns.histplot(np.nan_to_num(ad.X, nan=0.0).sum(1), bins=100, kde=False, label = ad.obs['Id'][0])\n",
    "    ax.legend()\n",
    "#sum of cells for each"
   ]
  },
  {
   "cell_type": "code",
   "execution_count": 26,
   "id": "cc6b3cd1-40a6-4d84-81b7-d1cead6aaac8",
   "metadata": {},
   "outputs": [
    {
     "data": {
      "text/plain": [
       "ArrayView([[    nan, 2108.71, 4227.87, ...,     nan,     nan, 1750.73],\n",
       "           [    nan, 2618.78, 4938.56, ..., 4525.85,     nan,     nan],\n",
       "           [    nan, 4620.57, 6304.49, ...,     nan,     nan,     nan],\n",
       "           ...,\n",
       "           [    nan,     nan,     nan, ...,     nan,     nan,     nan],\n",
       "           [    nan,     nan,     nan, ...,     nan,     nan,     nan],\n",
       "           [    nan,     nan,     nan, ...,     nan,     nan,     nan]],\n",
       "          dtype=float32)"
      ]
     },
     "execution_count": 26,
     "metadata": {},
     "output_type": "execute_result"
    }
   ],
   "source": [
    "adatas_red[1].X"
   ]
  },
  {
   "cell_type": "markdown",
   "id": "ae07fe45-bdca-4ba9-85a8-b5269423fcf1",
   "metadata": {},
   "source": [
    "### Normalization tests"
   ]
  },
  {
   "cell_type": "code",
   "execution_count": 27,
   "id": "76b05da4-dbbb-4ade-b86f-ac9c97ca47a9",
   "metadata": {},
   "outputs": [
    {
     "data": {
      "image/png": "[encoded data removed]",
      "text/plain": [
       "<Figure size 640x480 with 1 Axes>"
      ]
     },
     "metadata": {},
     "output_type": "display_data"
    }
   ],
   "source": [
    "for adata in adatas_red:\n",
    "    ad = adata.copy()\n",
    "    ad.X = np.nan_to_num(ad.X, nan=0.0)\n",
    "    scales_counts = sc.pp.normalize_total(ad, target_sum=None, inplace=False)\n",
    "    ax = sns.histplot(sc.pp.log1p(scales_counts[\"X\"], copy=True).sum(1), bins=100, kde=False, label = ad.obs['Id'][0])\n",
    "    ax.legend()"
   ]
  },
  {
   "cell_type": "code",
   "execution_count": 28,
   "id": "54ebab75-b4f5-48d7-a08f-1d1518c5b62a",
   "metadata": {},
   "outputs": [
    {
     "data": {
      "text/plain": [
       "ArrayView([[    nan, 2108.71, 4227.87, ...,     nan,     nan, 1750.73],\n",
       "           [    nan, 2618.78, 4938.56, ..., 4525.85,     nan,     nan],\n",
       "           [    nan, 4620.57, 6304.49, ...,     nan,     nan,     nan],\n",
       "           ...,\n",
       "           [    nan,     nan,     nan, ...,     nan,     nan,     nan],\n",
       "           [    nan,     nan,     nan, ...,     nan,     nan,     nan],\n",
       "           [    nan,     nan,     nan, ...,     nan,     nan,     nan]],\n",
       "          dtype=float32)"
      ]
     },
     "execution_count": 28,
     "metadata": {},
     "output_type": "execute_result"
    }
   ],
   "source": [
    "adatas_red[1].X"
   ]
  },
  {
   "cell_type": "code",
   "execution_count": null,
   "id": "abd038ad-25e2-4cd2-859e-9076e5ed1e81",
   "metadata": {},
   "outputs": [],
   "source": []
  },
  {
   "cell_type": "code",
   "execution_count": 29,
   "id": "bbec7800-27f5-4a8f-9c13-6821bc711269",
   "metadata": {},
   "outputs": [],
   "source": [
    "from scipy.sparse import csr_matrix"
   ]
  },
  {
   "cell_type": "code",
   "execution_count": 30,
   "id": "07b1e19b-c75b-4daa-b402-de891c47a2d7",
   "metadata": {},
   "outputs": [
    {
     "data": {
      "image/png": "[encoded data removed]",
      "text/plain": [
       "<Figure size 640x480 with 1 Axes>"
      ]
     },
     "metadata": {},
     "output_type": "display_data"
    }
   ],
   "source": [
    "for adata in adatas_red:\n",
    "    ad = adata.copy()\n",
    "    ad.X = np.nan_to_num(ad.X, nan=0.0)\n",
    "    analytic_pearson = sc.experimental.pp.normalize_pearson_residuals(ad, inplace=False)\n",
    "    X_fixed = analytic_pearson[\"X\"]\n",
    "    X_fixed[np.isnan(X_fixed)] = 0 \n",
    "    ax = sns.histplot(csr_matrix(X_fixed).sum(1), bins=100, kde=False, label = ad.obs['Id'][0])\n",
    "    ax.legend()"
   ]
  },
  {
   "cell_type": "code",
   "execution_count": 31,
   "id": "f16bbb29-2443-4b07-af5c-b0076ec51869",
   "metadata": {},
   "outputs": [
    {
     "data": {
      "text/plain": [
       "ArrayView([[    nan, 2108.71, 4227.87, ...,     nan,     nan, 1750.73],\n",
       "           [    nan, 2618.78, 4938.56, ..., 4525.85,     nan,     nan],\n",
       "           [    nan, 4620.57, 6304.49, ...,     nan,     nan,     nan],\n",
       "           ...,\n",
       "           [    nan,     nan,     nan, ...,     nan,     nan,     nan],\n",
       "           [    nan,     nan,     nan, ...,     nan,     nan,     nan],\n",
       "           [    nan,     nan,     nan, ...,     nan,     nan,     nan]],\n",
       "          dtype=float32)"
      ]
     },
     "execution_count": 31,
     "metadata": {},
     "output_type": "execute_result"
    }
   ],
   "source": [
    "adatas_red[1].X"
   ]
  },
  {
   "cell_type": "code",
   "execution_count": 32,
   "id": "ca133af2-77c2-4dba-b988-83c605dac0d7",
   "metadata": {},
   "outputs": [
    {
     "data": {
      "image/png": "[encoded data removed]",
      "text/plain": [
       "<Figure size 1000x600 with 1 Axes>"
      ]
     },
     "metadata": {},
     "output_type": "display_data"
    }
   ],
   "source": [
    "plot_data = []\n",
    "\n",
    "for adata in adatas_red:\n",
    "    ad = adata.copy()\n",
    "    ad.X = np.nan_to_num(ad.X, nan=0.0)  \n",
    "    analytic_pearson = sc.experimental.pp.normalize_pearson_residuals(ad, inplace=False)\n",
    "    \n",
    "    X_fixed = analytic_pearson[\"X\"]\n",
    "    X_fixed[np.isnan(X_fixed)] = 0  \n",
    "\n",
    "    plot_data.extend([(x, ad.obs['Id'][0]) for x in csr_matrix(X_fixed).sum(1).A1])\n",
    "\n",
    "df_plot = pd.DataFrame(plot_data, columns=[\"Somme Normalisée\", \"Dataset\"])\n",
    "\n",
    "plt.figure(figsize=(10, 6))\n",
    "ax = sns.histplot(data=df_plot, x=\"Somme Normalisée\", hue=\"Dataset\", bins=100, kde=False, palette=\"tab10\")\n",
    "\n",
    "plt.xlabel(\"Somme des valeurs normalisées\")\n",
    "plt.ylabel(\"Nombre d'occurrences\")\n",
    "plt.title(\"Distribution des valeurs normalisées par dataset\")\n",
    "\n",
    "# Afficher le plot\n",
    "plt.show()\n"
   ]
  },
  {
   "cell_type": "code",
   "execution_count": 33,
   "id": "bf497823-6070-4ad6-acc9-73feb16f5151",
   "metadata": {},
   "outputs": [
    {
     "data": {
      "text/plain": [
       "ArrayView([[    nan, 2108.71, 4227.87, ...,     nan,     nan, 1750.73],\n",
       "           [    nan, 2618.78, 4938.56, ..., 4525.85,     nan,     nan],\n",
       "           [    nan, 4620.57, 6304.49, ...,     nan,     nan,     nan],\n",
       "           ...,\n",
       "           [    nan,     nan,     nan, ...,     nan,     nan,     nan],\n",
       "           [    nan,     nan,     nan, ...,     nan,     nan,     nan],\n",
       "           [    nan,     nan,     nan, ...,     nan,     nan,     nan]],\n",
       "          dtype=float32)"
      ]
     },
     "execution_count": 33,
     "metadata": {},
     "output_type": "execute_result"
    }
   ],
   "source": [
    "adatas_red[1].X"
   ]
  },
  {
   "cell_type": "markdown",
   "id": "04e292cb-62f3-46a9-8591-dbed56561986",
   "metadata": {},
   "source": [
    "### QC metrics"
   ]
  },
  {
   "cell_type": "code",
   "execution_count": 34,
   "id": "c5d5cb34-4830-4013-ab9f-8173aa3919ce",
   "metadata": {},
   "outputs": [],
   "source": [
    "adatas_red_snan = [adata.copy() for adata in adatas]"
   ]
  },
  {
   "cell_type": "code",
   "execution_count": 35,
   "id": "1f96a785-660d-4f46-92b5-68ce8d777e04",
   "metadata": {},
   "outputs": [],
   "source": [
    "for ad in adatas_red_snan:\n",
    "    ad.X = np.nan_to_num(ad.X, nan=0.0) \n",
    "    "
   ]
  },
  {
   "cell_type": "code",
   "execution_count": 36,
   "id": "b0ca7497-d0ba-4d70-9e3b-b1b7d90dd5f7",
   "metadata": {},
   "outputs": [],
   "source": [
    "def qc(adata):\n",
    "    sc.pp.calculate_qc_metrics(adata, inplace = True, percent_top = [20], log1p=True)\n",
    "    return adata"
   ]
  },
  {
   "cell_type": "code",
   "execution_count": 37,
   "id": "329f20f0-9c94-4a3f-bca1-f21f573289d5",
   "metadata": {},
   "outputs": [],
   "source": [
    "adatas_red_snan = [qc(ad) for ad in adatas_red_snan]"
   ]
  },
  {
   "cell_type": "code",
   "execution_count": 38,
   "id": "2f081f9d-4f48-4a71-afd7-94bcca3b6571",
   "metadata": {},
   "outputs": [
    {
     "data": {
      "text/html": [
       "<div>\n",
       "<style scoped>\n",
       "    .dataframe tbody tr th:only-of-type {\n",
       "        vertical-align: middle;\n",
       "    }\n",
       "\n",
       "    .dataframe tbody tr th {\n",
       "        vertical-align: top;\n",
       "    }\n",
       "\n",
       "    .dataframe thead th {\n",
       "        text-align: right;\n",
       "    }\n",
       "</style>\n",
       "<table border=\"1\" class=\"dataframe\">\n",
       "  <thead>\n",
       "    <tr style=\"text-align: right;\">\n",
       "      <th></th>\n",
       "      <th>Id</th>\n",
       "      <th>n_genes_by_counts</th>\n",
       "      <th>log1p_n_genes_by_counts</th>\n",
       "      <th>total_counts</th>\n",
       "      <th>log1p_total_counts</th>\n",
       "      <th>pct_counts_in_top_20_genes</th>\n",
       "    </tr>\n",
       "  </thead>\n",
       "  <tbody>\n",
       "    <tr>\n",
       "      <th>GFP_neg_6dpi/TU017444PAP_Slot1-06_1_5848.d</th>\n",
       "      <td>GFP.NEG6dpi_pg</td>\n",
       "      <td>2623</td>\n",
       "      <td>7.872455</td>\n",
       "      <td>81561328.0</td>\n",
       "      <td>18.216866</td>\n",
       "      <td>37.252361</td>\n",
       "    </tr>\n",
       "    <tr>\n",
       "      <th>GFP_neg_6dpi/TU017445PAP_Slot1-07_1_5849.d</th>\n",
       "      <td>GFP.NEG6dpi_pg</td>\n",
       "      <td>2588</td>\n",
       "      <td>7.859027</td>\n",
       "      <td>76149296.0</td>\n",
       "      <td>18.148207</td>\n",
       "      <td>38.597347</td>\n",
       "    </tr>\n",
       "    <tr>\n",
       "      <th>GFP_neg_6dpi/TU017446PAP_Slot1-08_1_5850.d</th>\n",
       "      <td>GFP.NEG6dpi_pg</td>\n",
       "      <td>2666</td>\n",
       "      <td>7.888710</td>\n",
       "      <td>82286816.0</td>\n",
       "      <td>18.225721</td>\n",
       "      <td>38.940031</td>\n",
       "    </tr>\n",
       "    <tr>\n",
       "      <th>GFP_neg_6dpi/TU017481PAP_Slot1-18_1_5885.d</th>\n",
       "      <td>GFP.NEG6dpi_pg</td>\n",
       "      <td>2443</td>\n",
       "      <td>7.801391</td>\n",
       "      <td>94369072.0</td>\n",
       "      <td>18.362724</td>\n",
       "      <td>50.758749</td>\n",
       "    </tr>\n",
       "    <tr>\n",
       "      <th>GFP_neg_6dpi/TU017482PAP_Slot1-19_1_5886.d</th>\n",
       "      <td>GFP.NEG6dpi_pg</td>\n",
       "      <td>2791</td>\n",
       "      <td>7.934513</td>\n",
       "      <td>76694224.0</td>\n",
       "      <td>18.155336</td>\n",
       "      <td>38.086211</td>\n",
       "    </tr>\n",
       "    <tr>\n",
       "      <th>...</th>\n",
       "      <td>...</td>\n",
       "      <td>...</td>\n",
       "      <td>...</td>\n",
       "      <td>...</td>\n",
       "      <td>...</td>\n",
       "      <td>...</td>\n",
       "    </tr>\n",
       "    <tr>\n",
       "      <th>GFP_neg_6dpi/TU017666PAP_Slot1-80_1_6060.d</th>\n",
       "      <td>GFP.NEG6dpi_pg</td>\n",
       "      <td>2977</td>\n",
       "      <td>7.999007</td>\n",
       "      <td>70791848.0</td>\n",
       "      <td>18.075254</td>\n",
       "      <td>32.171278</td>\n",
       "    </tr>\n",
       "    <tr>\n",
       "      <th>GFP_neg_6dpi/TU017667PAP_Slot1-81_1_6061.d</th>\n",
       "      <td>GFP.NEG6dpi_pg</td>\n",
       "      <td>2848</td>\n",
       "      <td>7.954723</td>\n",
       "      <td>73236280.0</td>\n",
       "      <td>18.109201</td>\n",
       "      <td>38.902020</td>\n",
       "    </tr>\n",
       "    <tr>\n",
       "      <th>GFP_neg_6dpi/TU017670PAP_Slot1-88_1_6064.d</th>\n",
       "      <td>GFP.NEG6dpi_pg</td>\n",
       "      <td>2815</td>\n",
       "      <td>7.943073</td>\n",
       "      <td>72736544.0</td>\n",
       "      <td>18.102354</td>\n",
       "      <td>37.440140</td>\n",
       "    </tr>\n",
       "    <tr>\n",
       "      <th>GFP_neg_6dpi/TU017671PAP_Slot1-89_1_6065.d</th>\n",
       "      <td>GFP.NEG6dpi_pg</td>\n",
       "      <td>2845</td>\n",
       "      <td>7.953670</td>\n",
       "      <td>68100832.0</td>\n",
       "      <td>18.036501</td>\n",
       "      <td>33.586806</td>\n",
       "    </tr>\n",
       "    <tr>\n",
       "      <th>GFP_neg_6dpi/TU017672PAP_Slot1-90_1_6066.d</th>\n",
       "      <td>GFP.NEG6dpi_pg</td>\n",
       "      <td>2799</td>\n",
       "      <td>7.937375</td>\n",
       "      <td>77534560.0</td>\n",
       "      <td>18.166235</td>\n",
       "      <td>41.838886</td>\n",
       "    </tr>\n",
       "  </tbody>\n",
       "</table>\n",
       "<p>108 rows × 6 columns</p>\n",
       "</div>"
      ],
      "text/plain": [
       "                                                        Id  n_genes_by_counts  \\\n",
       "GFP_neg_6dpi/TU017444PAP_Slot1-06_1_5848.d  GFP.NEG6dpi_pg               2623   \n",
       "GFP_neg_6dpi/TU017445PAP_Slot1-07_1_5849.d  GFP.NEG6dpi_pg               2588   \n",
       "GFP_neg_6dpi/TU017446PAP_Slot1-08_1_5850.d  GFP.NEG6dpi_pg               2666   \n",
       "GFP_neg_6dpi/TU017481PAP_Slot1-18_1_5885.d  GFP.NEG6dpi_pg               2443   \n",
       "GFP_neg_6dpi/TU017482PAP_Slot1-19_1_5886.d  GFP.NEG6dpi_pg               2791   \n",
       "...                                                    ...                ...   \n",
       "GFP_neg_6dpi/TU017666PAP_Slot1-80_1_6060.d  GFP.NEG6dpi_pg               2977   \n",
       "GFP_neg_6dpi/TU017667PAP_Slot1-81_1_6061.d  GFP.NEG6dpi_pg               2848   \n",
       "GFP_neg_6dpi/TU017670PAP_Slot1-88_1_6064.d  GFP.NEG6dpi_pg               2815   \n",
       "GFP_neg_6dpi/TU017671PAP_Slot1-89_1_6065.d  GFP.NEG6dpi_pg               2845   \n",
       "GFP_neg_6dpi/TU017672PAP_Slot1-90_1_6066.d  GFP.NEG6dpi_pg               2799   \n",
       "\n",
       "                                            log1p_n_genes_by_counts  \\\n",
       "GFP_neg_6dpi/TU017444PAP_Slot1-06_1_5848.d                 7.872455   \n",
       "GFP_neg_6dpi/TU017445PAP_Slot1-07_1_5849.d                 7.859027   \n",
       "GFP_neg_6dpi/TU017446PAP_Slot1-08_1_5850.d                 7.888710   \n",
       "GFP_neg_6dpi/TU017481PAP_Slot1-18_1_5885.d                 7.801391   \n",
       "GFP_neg_6dpi/TU017482PAP_Slot1-19_1_5886.d                 7.934513   \n",
       "...                                                             ...   \n",
       "GFP_neg_6dpi/TU017666PAP_Slot1-80_1_6060.d                 7.999007   \n",
       "GFP_neg_6dpi/TU017667PAP_Slot1-81_1_6061.d                 7.954723   \n",
       "GFP_neg_6dpi/TU017670PAP_Slot1-88_1_6064.d                 7.943073   \n",
       "GFP_neg_6dpi/TU017671PAP_Slot1-89_1_6065.d                 7.953670   \n",
       "GFP_neg_6dpi/TU017672PAP_Slot1-90_1_6066.d                 7.937375   \n",
       "\n",
       "                                            total_counts  log1p_total_counts  \\\n",
       "GFP_neg_6dpi/TU017444PAP_Slot1-06_1_5848.d    81561328.0           18.216866   \n",
       "GFP_neg_6dpi/TU017445PAP_Slot1-07_1_5849.d    76149296.0           18.148207   \n",
       "GFP_neg_6dpi/TU017446PAP_Slot1-08_1_5850.d    82286816.0           18.225721   \n",
       "GFP_neg_6dpi/TU017481PAP_Slot1-18_1_5885.d    94369072.0           18.362724   \n",
       "GFP_neg_6dpi/TU017482PAP_Slot1-19_1_5886.d    76694224.0           18.155336   \n",
       "...                                                  ...                 ...   \n",
       "GFP_neg_6dpi/TU017666PAP_Slot1-80_1_6060.d    70791848.0           18.075254   \n",
       "GFP_neg_6dpi/TU017667PAP_Slot1-81_1_6061.d    73236280.0           18.109201   \n",
       "GFP_neg_6dpi/TU017670PAP_Slot1-88_1_6064.d    72736544.0           18.102354   \n",
       "GFP_neg_6dpi/TU017671PAP_Slot1-89_1_6065.d    68100832.0           18.036501   \n",
       "GFP_neg_6dpi/TU017672PAP_Slot1-90_1_6066.d    77534560.0           18.166235   \n",
       "\n",
       "                                            pct_counts_in_top_20_genes  \n",
       "GFP_neg_6dpi/TU017444PAP_Slot1-06_1_5848.d                   37.252361  \n",
       "GFP_neg_6dpi/TU017445PAP_Slot1-07_1_5849.d                   38.597347  \n",
       "GFP_neg_6dpi/TU017446PAP_Slot1-08_1_5850.d                   38.940031  \n",
       "GFP_neg_6dpi/TU017481PAP_Slot1-18_1_5885.d                   50.758749  \n",
       "GFP_neg_6dpi/TU017482PAP_Slot1-19_1_5886.d                   38.086211  \n",
       "...                                                                ...  \n",
       "GFP_neg_6dpi/TU017666PAP_Slot1-80_1_6060.d                   32.171278  \n",
       "GFP_neg_6dpi/TU017667PAP_Slot1-81_1_6061.d                   38.902020  \n",
       "GFP_neg_6dpi/TU017670PAP_Slot1-88_1_6064.d                   37.440140  \n",
       "GFP_neg_6dpi/TU017671PAP_Slot1-89_1_6065.d                   33.586806  \n",
       "GFP_neg_6dpi/TU017672PAP_Slot1-90_1_6066.d                   41.838886  \n",
       "\n",
       "[108 rows x 6 columns]"
      ]
     },
     "execution_count": 38,
     "metadata": {},
     "output_type": "execute_result"
    }
   ],
   "source": [
    "adatas_red_snan[0].obs"
   ]
  },
  {
   "cell_type": "code",
   "execution_count": 39,
   "id": "4c74bde5-56dc-434a-a025-fac3c0a4cd6d",
   "metadata": {},
   "outputs": [],
   "source": [
    "df = pd.concat([x.obs for x in adatas_red_snan])"
   ]
  },
  {
   "cell_type": "code",
   "execution_count": 40,
   "id": "48191aac-6fad-4bb8-99ed-964896d6ee22",
   "metadata": {},
   "outputs": [],
   "source": [
    "df = df.sort_values('Id')"
   ]
  },
  {
   "cell_type": "code",
   "execution_count": 41,
   "id": "26160db4-3255-4b29-967e-65020596155c",
   "metadata": {},
   "outputs": [
    {
     "data": {
      "image/png": "[encoded data removed]",
      "text/plain": [
       "<Figure size 750x300 with 6 Axes>"
      ]
     },
     "metadata": {},
     "output_type": "display_data"
    }
   ],
   "source": [
    "value = \"pct_counts_in_top_20_genes\"\n",
    "\n",
    "with sns.axes_style(\"white\", rc={\"axes.facecolor\": (0, 0, 0, 0)}), sns.plotting_context(\"notebook\"):\n",
    "    g = sns.FacetGrid(df, row=\"Id\", hue=\"Id\", aspect=15, height=0.5, palette=\"tab20\")\n",
    "\n",
    "    g.map(sns.kdeplot, value, clip_on=False, fill=True, alpha=1, linewidth=1.5)\n",
    "    g.map(sns.kdeplot, value, clip_on=False, color=\"w\", lw=2)\n",
    "    g.map(plt.axhline, y=0, lw=2, clip_on=False)\n",
    "\n",
    "    def label(x, color, label):\n",
    "        ax = plt.gca()\n",
    "        ax.text(0, .2, label, fontweight=\"bold\", color=color,\n",
    "                ha=\"left\", va=\"center\", transform=ax.transAxes)\n",
    "\n",
    "    g.map(label, value)\n",
    "\n",
    "    g.figure.subplots_adjust(hspace=-.6)\n",
    "    g.set_titles(\"\")\n",
    "    g.set(yticks=[], ylabel=\"\")\n",
    "    g.despine(bottom=True, left=True)\n",
    "\n",
    "    for ax in g.axes.flat:\n",
    "        ax.axvline(x=df[value].median(), color='r', linestyle='-')\n",
    "\n",
    "    plt.show()"
   ]
  },
  {
   "cell_type": "code",
   "execution_count": 42,
   "id": "c1c4df42-5a92-46d3-a214-2e5d10c1c960",
   "metadata": {},
   "outputs": [
    {
     "data": {
      "image/png": "[encoded data removed]",
      "text/plain": [
       "<Figure size 750x300 with 6 Axes>"
      ]
     },
     "metadata": {},
     "output_type": "display_data"
    }
   ],
   "source": [
    "value = \"n_genes_by_counts\"\n",
    "\n",
    "with sns.axes_style(\"white\", rc={\"axes.facecolor\": (0, 0, 0, 0)}), sns.plotting_context(\"notebook\"):\n",
    "    g = sns.FacetGrid(df, row=\"Id\", hue=\"Id\", aspect=15, height=0.5, palette=\"tab20\")\n",
    "\n",
    "    g.map(sns.kdeplot, value, clip_on=False, fill=True, alpha=1, linewidth=1.5)\n",
    "    g.map(sns.kdeplot, value, clip_on=False, color=\"w\", lw=2)\n",
    "    g.map(plt.axhline, y=0, lw=2, clip_on=False)\n",
    "\n",
    "    def label(x, color, label):\n",
    "        ax = plt.gca()\n",
    "        ax.text(0, .2, label, fontweight=\"bold\", color=color,\n",
    "                ha=\"left\", va=\"center\", transform=ax.transAxes)\n",
    "\n",
    "    g.map(label, value)\n",
    "\n",
    "    g.figure.subplots_adjust(hspace=-.6)\n",
    "    g.set_titles(\"\")\n",
    "    g.set(yticks=[], ylabel=\"\")\n",
    "    g.despine(bottom=True, left=True)\n",
    "\n",
    "    for ax in g.axes.flat:\n",
    "        ax.axvline(x=df[value].median(), color='r', linestyle='-')\n",
    "\n",
    "    plt.show()"
   ]
  },
  {
   "cell_type": "code",
   "execution_count": 43,
   "id": "f6900b57-b7b9-4d78-9a3a-4577b2200996",
   "metadata": {},
   "outputs": [
    {
     "data": {
      "image/png": "[encoded data removed]",
      "text/plain": [
       "<Figure size 750x300 with 6 Axes>"
      ]
     },
     "metadata": {},
     "output_type": "display_data"
    }
   ],
   "source": [
    "value = \"total_counts\"\n",
    "\n",
    "with sns.axes_style(\"white\", rc={\"axes.facecolor\": (0, 0, 0, 0)}), sns.plotting_context(\"notebook\"):\n",
    "    g = sns.FacetGrid(df, row=\"Id\", hue=\"Id\", aspect=15, height=0.5, palette=\"tab20\")\n",
    "\n",
    "    g.map(sns.kdeplot, value, clip_on=False, fill=True, alpha=1, linewidth=1.5)\n",
    "    g.map(sns.kdeplot, value, clip_on=False, color=\"w\", lw=2)\n",
    "    g.map(plt.axhline, y=0, lw=2, clip_on=False)\n",
    "\n",
    "    def label(x, color, label):\n",
    "        ax = plt.gca()\n",
    "        ax.text(0, .2, label, fontweight=\"bold\", color=color,\n",
    "                ha=\"left\", va=\"center\", transform=ax.transAxes)\n",
    "\n",
    "    g.map(label, value)\n",
    "\n",
    "    g.figure.subplots_adjust(hspace=-.6)\n",
    "    g.set_titles(\"\")\n",
    "    g.set(yticks=[], ylabel=\"\")\n",
    "    g.despine(bottom=True, left=True)\n",
    "\n",
    "    for ax in g.axes.flat:\n",
    "        ax.axvline(x=df[value].median(), color='r', linestyle='-')\n",
    "\n",
    "    plt.show()"
   ]
  },
  {
   "cell_type": "code",
   "execution_count": 44,
   "id": "91a5ae38-c47d-490d-975e-782cbb1d263c",
   "metadata": {},
   "outputs": [
    {
     "data": {
      "text/plain": [
       "ArrayView([[    nan, 2108.71, 4227.87, ...,     nan,     nan, 1750.73],\n",
       "           [    nan, 2618.78, 4938.56, ..., 4525.85,     nan,     nan],\n",
       "           [    nan, 4620.57, 6304.49, ...,     nan,     nan,     nan],\n",
       "           ...,\n",
       "           [    nan,     nan,     nan, ...,     nan,     nan,     nan],\n",
       "           [    nan,     nan,     nan, ...,     nan,     nan,     nan],\n",
       "           [    nan,     nan,     nan, ...,     nan,     nan,     nan]],\n",
       "          dtype=float32)"
      ]
     },
     "execution_count": 44,
     "metadata": {},
     "output_type": "execute_result"
    }
   ],
   "source": [
    "adatas_red[1].X"
   ]
  },
  {
   "cell_type": "code",
   "execution_count": null,
   "id": "da86f625-ede4-46fa-835d-6183ab224598",
   "metadata": {},
   "outputs": [],
   "source": []
  },
  {
   "cell_type": "code",
   "execution_count": null,
   "id": "68afbdf3-1842-40a5-b942-b9b69e00ae62",
   "metadata": {},
   "outputs": [],
   "source": []
  },
  {
   "cell_type": "markdown",
   "id": "e99376a1-98f2-4c16-bb31-77702191f675",
   "metadata": {},
   "source": [
    "### Highly var proteins btw batches"
   ]
  },
  {
   "cell_type": "code",
   "execution_count": 46,
   "id": "1cf7f6d4-d5c8-41c5-b9d4-9f0ab83bca09",
   "metadata": {},
   "outputs": [],
   "source": [
    "adata_red = adt.concat(adatas_red, join=\"outer\", index_unique=\"-\", merge=\"unique\")"
   ]
  },
  {
   "cell_type": "code",
   "execution_count": 47,
   "id": "a1c6dea3-be08-48d3-9004-a4f41b65340b",
   "metadata": {},
   "outputs": [],
   "source": [
    "adata_red.X = np.nan_to_num(adata_red.X, nan=0.0)"
   ]
  },
  {
   "cell_type": "code",
   "execution_count": 48,
   "id": "ac7a64d3-84a3-4bfe-a1f6-2c04baf4ed5d",
   "metadata": {},
   "outputs": [
    {
     "data": {
      "text/plain": [
       "ArrayView([[    nan, 2108.71, 4227.87, ...,     nan,     nan, 1750.73],\n",
       "           [    nan, 2618.78, 4938.56, ..., 4525.85,     nan,     nan],\n",
       "           [    nan, 4620.57, 6304.49, ...,     nan,     nan,     nan],\n",
       "           ...,\n",
       "           [    nan,     nan,     nan, ...,     nan,     nan,     nan],\n",
       "           [    nan,     nan,     nan, ...,     nan,     nan,     nan],\n",
       "           [    nan,     nan,     nan, ...,     nan,     nan,     nan]],\n",
       "          dtype=float32)"
      ]
     },
     "execution_count": 48,
     "metadata": {},
     "output_type": "execute_result"
    }
   ],
   "source": [
    "adatas_red[1].X"
   ]
  },
  {
   "cell_type": "code",
   "execution_count": 49,
   "id": "70da4b7c-6a0a-4a6c-87df-0fc69fe57b73",
   "metadata": {},
   "outputs": [],
   "source": [
    "sc.pp.highly_variable_genes(adata_red, n_top_genes=2000, flavor=\"cell_ranger\", batch_key='Id')"
   ]
  },
  {
   "cell_type": "code",
   "execution_count": 50,
   "id": "9cc6e034-49d7-4d6b-a662-f8a5300c8c85",
   "metadata": {},
   "outputs": [
    {
     "data": {
      "text/plain": [
       "Text(0.5, 1.0, 'Distribution des gènes hautement variables à travers les lots')"
      ]
     },
     "execution_count": 50,
     "metadata": {},
     "output_type": "execute_result"
    },
    {
     "data": {
      "image/png": "[encoded data removed]",
      "text/plain": [
       "<Figure size 640x480 with 1 Axes>"
      ]
     },
     "metadata": {},
     "output_type": "display_data"
    }
   ],
   "source": [
    "n_batches = adata_red.var[\"highly_variable_nbatches\"].value_counts()\n",
    "ax = n_batches.plot(kind=\"bar\")\n",
    "n_batches\n",
    "ax.set_xlabel(\"Nombre de lots\")\n",
    "ax.set_ylabel(\"Nombre de gènes\")\n",
    "ax.set_title(\"Distribution des gènes hautement variables à travers les lots\")"
   ]
  },
  {
   "cell_type": "markdown",
   "id": "dbdf700a-8223-40ff-a9c0-e2e2ee3aefbc",
   "metadata": {},
   "source": [
    "### Shared proteins btw batches"
   ]
  },
  {
   "cell_type": "code",
   "execution_count": 51,
   "id": "bd198679-be4a-4032-be84-1c94a4173cfd",
   "metadata": {},
   "outputs": [
    {
     "name": "stdout",
     "output_type": "stream",
     "text": [
      "3776\n"
     ]
    },
    {
     "data": {
      "image/png": "[encoded data removed]",
      "text/plain": [
       "<Figure size 800x600 with 1 Axes>"
      ]
     },
     "metadata": {},
     "output_type": "display_data"
    }
   ],
   "source": [
    "all_genes = list(set().union(*[set(adata.var_names) for adata in adatas_red]))\n",
    "print(len(all_genes))\n",
    "\n",
    "presence_matrix = pd.DataFrame(0, index=all_genes, columns=[f\"Dataset {ad.obs['Id'][0]}\" for ad in adatas_red])\n",
    "\n",
    "for adata in adatas_red:\n",
    "    presence_matrix.loc[adata.var_names, f\"Dataset {adata.obs['Id'][0]}\"] = 1  \n",
    "\n",
    "compte = pd.DataFrame(0, index=all_genes, columns=[f\"Seen in {i+1}\" for i in range(len(adatas_red))])\n",
    "sum_presencematrix = presence_matrix.sum(1)\n",
    "\n",
    "for gene in all_genes:\n",
    "    presence_count = sum_presencematrix[gene] \n",
    "    compte.loc[gene, f\"Seen in {presence_count}\"] = 1  \n",
    "\n",
    "\n",
    "column_sums = compte.sum(axis=0)\n",
    "\n",
    "\n",
    "plt.figure(figsize=(8, 6))\n",
    "sns.barplot(x=column_sums.index, y=column_sums.values, palette=\"viridis\")\n",
    "\n",
    "plt.xlabel(\"Number of datasets where gene seen\")\n",
    "plt.ylabel(\"Number of genes\")\n",
    "plt.title(\"Number of genes shared between datasets\")\n",
    "\n",
    "\n",
    "plt.xticks(rotation=45)\n",
    "\n",
    "plt.show()"
   ]
  },
  {
   "cell_type": "code",
   "execution_count": null,
   "id": "dc277ca7-0f87-45e0-bf32-fb9b599e37b0",
   "metadata": {},
   "outputs": [],
   "source": []
  },
  {
   "cell_type": "markdown",
   "id": "29f92429-9d86-49ff-a7f5-327af3126d9d",
   "metadata": {},
   "source": [
    "#### Test pp QC (not interesting)"
   ]
  },
  {
   "cell_type": "code",
   "execution_count": 53,
   "id": "cef9bfde-a2c5-4bb7-9651-1a53f83635d3",
   "metadata": {},
   "outputs": [],
   "source": [
    "def mad_outlier(adata, metric, nmads, upper_only = False):\n",
    "    M = adata.obs[metric]\n",
    "    \n",
    "    if not upper_only:\n",
    "        return (M < np.median(M) - nmads * mad(M)) | (M > np.median(M) + nmads * mad(M))\n",
    "    \n",
    "    return (M > np.median(M) + nmads * mad(M))\n"
   ]
  },
  {
   "cell_type": "code",
   "execution_count": 54,
   "id": "515a7e6c-a833-411d-a8c8-931d5fdb03da",
   "metadata": {},
   "outputs": [],
   "source": [
    "def pp(adata):\n",
    "\n",
    "    bool_vector = mad_outlier(adata, 'log1p_total_counts', 5) +\\\n",
    "            mad_outlier(adata, 'log1p_n_genes_by_counts', 5) +\\\n",
    "            mad_outlier(adata, 'pct_counts_in_top_20_genes', 5)\n",
    "           \n",
    "    adata = adata[~bool_vector]\n",
    "    adata.uns['cells_removed'] = sum(bool_vector)\n",
    "    return adata\n"
   ]
  },
  {
   "cell_type": "code",
   "execution_count": 56,
   "id": "b09265d3-aa88-46ba-9926-ee17a2cf3c20",
   "metadata": {},
   "outputs": [],
   "source": [
    "adatas_red_pp = [pp(ad.copy()) for ad in adatas_red_snan]"
   ]
  },
  {
   "cell_type": "code",
   "execution_count": 57,
   "id": "c5bce592-f992-4fd5-b371-6eecffcb3aa6",
   "metadata": {},
   "outputs": [
    {
     "data": {
      "text/plain": [
       "[AnnData object with n_obs × n_vars = 99 × 3212\n",
       "     obs: 'Id', 'n_genes_by_counts', 'log1p_n_genes_by_counts', 'total_counts', 'log1p_total_counts', 'pct_counts_in_top_20_genes'\n",
       "     var: 'Protein.Group', 'Protein.Ids', 'Protein.Names', 'Genes', 'First.Protein.Description', 'n_cells_by_counts', 'mean_counts', 'log1p_mean_counts', 'pct_dropout_by_counts', 'total_counts', 'log1p_total_counts'\n",
       "     uns: 'cells_removed',\n",
       " AnnData object with n_obs × n_vars = 104 × 2969\n",
       "     obs: 'Id', 'n_genes_by_counts', 'log1p_n_genes_by_counts', 'total_counts', 'log1p_total_counts', 'pct_counts_in_top_20_genes'\n",
       "     var: 'Protein.Group', 'Protein.Ids', 'Protein.Names', 'Genes', 'First.Protein.Description', 'n_cells_by_counts', 'mean_counts', 'log1p_mean_counts', 'pct_dropout_by_counts', 'total_counts', 'log1p_total_counts'\n",
       "     uns: 'cells_removed',\n",
       " AnnData object with n_obs × n_vars = 136 × 5701\n",
       "     obs: 'Id', 'n_genes_by_counts', 'log1p_n_genes_by_counts', 'total_counts', 'log1p_total_counts', 'pct_counts_in_top_20_genes'\n",
       "     var: 'Protein.Group', 'Protein.Ids', 'Protein.Names', 'Genes', 'First.Protein.Description', 'n_cells_by_counts', 'mean_counts', 'log1p_mean_counts', 'pct_dropout_by_counts', 'total_counts', 'log1p_total_counts'\n",
       "     uns: 'cells_removed',\n",
       " AnnData object with n_obs × n_vars = 122 × 3223\n",
       "     obs: 'Id', 'n_genes_by_counts', 'log1p_n_genes_by_counts', 'total_counts', 'log1p_total_counts', 'pct_counts_in_top_20_genes'\n",
       "     var: 'Protein.Group', 'Protein.Ids', 'Protein.Names', 'Genes', 'First.Protein.Description', 'n_cells_by_counts', 'mean_counts', 'log1p_mean_counts', 'pct_dropout_by_counts', 'total_counts', 'log1p_total_counts'\n",
       "     uns: 'cells_removed',\n",
       " AnnData object with n_obs × n_vars = 130 × 4385\n",
       "     obs: 'Id', 'n_genes_by_counts', 'log1p_n_genes_by_counts', 'total_counts', 'log1p_total_counts', 'pct_counts_in_top_20_genes'\n",
       "     var: 'Protein.Group', 'Protein.Ids', 'Protein.Names', 'Genes', 'First.Protein.Description', 'n_cells_by_counts', 'mean_counts', 'log1p_mean_counts', 'pct_dropout_by_counts', 'total_counts', 'log1p_total_counts'\n",
       "     uns: 'cells_removed',\n",
       " AnnData object with n_obs × n_vars = 104 × 4142\n",
       "     obs: 'Id', 'n_genes_by_counts', 'log1p_n_genes_by_counts', 'total_counts', 'log1p_total_counts', 'pct_counts_in_top_20_genes'\n",
       "     var: 'Protein.Group', 'Protein.Ids', 'Protein.Names', 'Genes', 'First.Protein.Description', 'n_cells_by_counts', 'mean_counts', 'log1p_mean_counts', 'pct_dropout_by_counts', 'total_counts', 'log1p_total_counts'\n",
       "     uns: 'cells_removed']"
      ]
     },
     "execution_count": 57,
     "metadata": {},
     "output_type": "execute_result"
    }
   ],
   "source": [
    "adatas_red_pp"
   ]
  },
  {
   "cell_type": "code",
   "execution_count": 58,
   "id": "8f69335b-d713-496d-acdc-90cb7260a1ce",
   "metadata": {},
   "outputs": [
    {
     "data": {
      "image/png": "[encoded data removed]",
      "text/plain": [
       "<Figure size 640x480 with 1 Axes>"
      ]
     },
     "metadata": {},
     "output_type": "display_data"
    }
   ],
   "source": [
    "for ad in adatas_red_pp:\n",
    "    ax = sns.histplot(np.nan_to_num(ad.X, nan=0.0).sum(1), bins=100, kde=False, label = ad.obs['Id'][0])\n",
    "    ax.legend()"
   ]
  },
  {
   "cell_type": "code",
   "execution_count": null,
   "id": "af0d83c2-1eeb-42e4-b661-9f96ac6013ae",
   "metadata": {},
   "outputs": [],
   "source": []
  },
  {
   "cell_type": "code",
   "execution_count": null,
   "id": "94d95a6d-f00f-4077-b817-3d639d8a9cf6",
   "metadata": {},
   "outputs": [],
   "source": []
  },
  {
   "cell_type": "code",
   "execution_count": null,
   "id": "f8e6a52a-c85f-46b0-91e9-b328b2f730a3",
   "metadata": {},
   "outputs": [],
   "source": []
  },
  {
   "cell_type": "code",
   "execution_count": null,
   "id": "ddade882-3e83-43dc-be00-9c135f3f330e",
   "metadata": {},
   "outputs": [],
   "source": []
  },
  {
   "cell_type": "code",
   "execution_count": null,
   "id": "e0fecfa8-0e96-4d6a-8cbe-a82054b0b92b",
   "metadata": {},
   "outputs": [],
   "source": []
  },
  {
   "cell_type": "code",
   "execution_count": 60,
   "id": "7775c75f-542b-4570-b543-2b0a1ca9600b",
   "metadata": {},
   "outputs": [],
   "source": [
    "os.makedirs('/home/ybeaumatin/Documents/Data processing pipeline/scP/Output/Formated_data',exist_ok = True)"
   ]
  },
  {
   "cell_type": "code",
   "execution_count": 61,
   "id": "c4a42132-e471-4aa0-967c-4433c3c3f410",
   "metadata": {},
   "outputs": [
    {
     "name": "stdout",
     "output_type": "stream",
     "text": [
      "Saved: /home/ybeaumatin/Documents/Data processing pipeline/scP/Output/Formated_data/adata_GFP.NEG6dpi_pg.h5ad\n",
      "Saved: /home/ybeaumatin/Documents/Data processing pipeline/scP/Output/Formated_data/adata_GFP.POS3dpi_pg.h5ad\n",
      "Saved: /home/ybeaumatin/Documents/Data processing pipeline/scP/Output/Formated_data/adata_Mock3dpi_pg.h5ad\n",
      "Saved: /home/ybeaumatin/Documents/Data processing pipeline/scP/Output/Formated_data/adata_Mock6dpi_pg.h5ad\n",
      "Saved: /home/ybeaumatin/Documents/Data processing pipeline/scP/Output/Formated_data/adata_GFP.POS6dpi_pg.h5ad\n",
      "Saved: /home/ybeaumatin/Documents/Data processing pipeline/scP/Output/Formated_data/adata_GFP.NEG3dpi_pg.h5ad\n"
     ]
    }
   ],
   "source": [
    "for ad in adatas_red:\n",
    "    unique_id = ad.obs['Id'][0]\n",
    "    file_path = os.path.join('/home/ybeaumatin/Documents/Data processing pipeline/scP/Output/Formated_data', f'adata_{unique_id}.h5ad')\n",
    "    ad.write(file_path)\n",
    "    print(f\"Saved: {file_path}\")"
   ]
  },
  {
   "cell_type": "code",
   "execution_count": 43,
   "id": "62104b03-de85-4c34-b89b-6155b53f3ad6",
   "metadata": {},
   "outputs": [
    {
     "data": {
      "text/plain": [
       "array([[ 5544.32,  7190.33, 10628.2 , ...,  3585.08,  5518.76,  7944.28],\n",
       "       [ 4120.03,  5809.38, 12093.3 , ...,  2425.32,  6372.72,  8097.24],\n",
       "       [ 5531.19, 11922.  ,  9237.77, ...,  4091.65,  5796.29,  7071.44],\n",
       "       ...,\n",
       "       [ 3669.94,  6447.75,  8868.58, ...,  3251.86,  4072.56,  8222.58],\n",
       "       [ 3975.58,  4283.43,  9022.19, ...,  3668.98,  4208.38,  8004.19],\n",
       "       [ 2984.47,  3099.07,  8867.48, ...,  2828.09,  4721.6 ,  7507.2 ]],\n",
       "      dtype=float32)"
      ]
     },
     "execution_count": 43,
     "metadata": {},
     "output_type": "execute_result"
    }
   ],
   "source": [
    "adatas_red[1].X"
   ]
  },
  {
   "cell_type": "code",
   "execution_count": 3,
   "id": "79207a63-86e5-4f9e-8dd3-9f5262e1a528",
   "metadata": {},
   "outputs": [
    {
     "name": "stdout",
     "output_type": "stream",
     "text": [
      "Nombre de fichiers h5ad chargés avec succès : 6\n"
     ]
    }
   ],
   "source": [
    "adatas_red = []\n",
    "data_dir = 'G:/Data processing pipeline 0.1 Yohan/scP/Output/Formated_data'\n",
    "\n",
    "for filename in os.listdir(data_dir):\n",
    "    if filename.endswith('.h5ad'):\n",
    "            adata = sc.read_h5ad(os.path.join(data_dir, filename))\n",
    "            adata.var_names_make_unique()\n",
    "            adatas_red.append(adata)\n",
    "\n",
    "print(f\"Nombre de fichiers h5ad chargés avec succès : {len(adatas_red)}\")"
   ]
  },
  {
   "cell_type": "code",
   "execution_count": 4,
   "id": "61bdc02d-a8d0-439c-b90f-c962a0caa9fb",
   "metadata": {},
   "outputs": [
    {
     "data": {
      "text/plain": [
       "[AnnData object with n_obs × n_vars = 138 × 2926\n",
       "     obs: 'Id'\n",
       "     var: 'Protein.Group', 'Protein.Ids', 'Protein.Names', 'Genes', 'First.Protein.Description',\n",
       " AnnData object with n_obs × n_vars = 108 × 2837\n",
       "     obs: 'Id'\n",
       "     var: 'Protein.Group', 'Protein.Ids', 'Protein.Names', 'Genes', 'First.Protein.Description',\n",
       " AnnData object with n_obs × n_vars = 133 × 2402\n",
       "     obs: 'Id'\n",
       "     var: 'Protein.Group', 'Protein.Ids', 'Protein.Names', 'Genes', 'First.Protein.Description',\n",
       " AnnData object with n_obs × n_vars = 140 × 3113\n",
       "     obs: 'Id'\n",
       "     var: 'Protein.Group', 'Protein.Ids', 'Protein.Names', 'Genes', 'First.Protein.Description',\n",
       " AnnData object with n_obs × n_vars = 145 × 3065\n",
       "     obs: 'Id'\n",
       "     var: 'Protein.Group', 'Protein.Ids', 'Protein.Names', 'Genes', 'First.Protein.Description',\n",
       " AnnData object with n_obs × n_vars = 139 × 3065\n",
       "     obs: 'Id'\n",
       "     var: 'Protein.Group', 'Protein.Ids', 'Protein.Names', 'Genes', 'First.Protein.Description']"
      ]
     },
     "execution_count": 4,
     "metadata": {},
     "output_type": "execute_result"
    }
   ],
   "source": [
    "adatas_red"
   ]
  },
  {
   "cell_type": "code",
   "execution_count": 5,
   "id": "7049fb29-c296-401a-b1e8-f01ba1126ebd",
   "metadata": {},
   "outputs": [
    {
     "data": {
      "text/plain": [
       "array([[ 5544.32,  7190.33, 10628.2 , ...,  3585.08,  5518.76,  7944.28],\n",
       "       [ 4120.03,  5809.38, 12093.3 , ...,  2425.32,  6372.72,  8097.24],\n",
       "       [ 5531.19, 11922.  ,  9237.77, ...,  4091.65,  5796.29,  7071.44],\n",
       "       ...,\n",
       "       [ 3669.94,  6447.75,  8868.58, ...,  3251.86,  4072.56,  8222.58],\n",
       "       [ 3975.58,  4283.43,  9022.19, ...,  3668.98,  4208.38,  8004.19],\n",
       "       [ 2984.47,  3099.07,  8867.48, ...,  2828.09,  4721.6 ,  7507.2 ]],\n",
       "      dtype=float32)"
      ]
     },
     "execution_count": 5,
     "metadata": {},
     "output_type": "execute_result"
    }
   ],
   "source": [
    "adatas_red[1].X"
   ]
  },
  {
   "cell_type": "code",
   "execution_count": 6,
   "id": "7c089c12-e0b0-48c8-8aa3-24506f4f7ff1",
   "metadata": {},
   "outputs": [
    {
     "name": "stdout",
     "output_type": "stream",
     "text": [
      "<class 'numpy.ndarray'>\n"
     ]
    }
   ],
   "source": [
    "print(type(adatas_red[0].X))"
   ]
  },
  {
   "cell_type": "code",
   "execution_count": 7,
   "id": "60b42f56-5c5a-4330-8901-c18b06175c64",
   "metadata": {},
   "outputs": [
    {
     "data": {
      "text/plain": [
       "True"
      ]
     },
     "execution_count": 7,
     "metadata": {},
     "output_type": "execute_result"
    }
   ],
   "source": [
    "np.isnan(adatas_red[1].X).any()"
   ]
  },
  {
   "cell_type": "code",
   "execution_count": null,
   "id": "425d79f3-19fd-4e46-85c9-bfeed4e6764a",
   "metadata": {},
   "outputs": [],
   "source": []
  },
  {
   "cell_type": "code",
   "execution_count": 8,
   "id": "52946448-82af-44a4-868f-ed336c9f8f86",
   "metadata": {},
   "outputs": [
    {
     "name": "stdout",
     "output_type": "stream",
     "text": [
      "Collecting MissForestNote: you may need to restart the kernel to use updated packages.\n",
      "\n",
      "  Downloading MissForest-4.2.3-py3-none-any.whl.metadata (8.3 kB)\n",
      "Downloading MissForest-4.2.3-py3-none-any.whl (14 kB)\n",
      "Installing collected packages: MissForest\n",
      "Successfully installed MissForest-4.2.3\n"
     ]
    }
   ],
   "source": [
    "pip install MissForest"
   ]
  },
  {
   "cell_type": "code",
   "execution_count": 10,
   "id": "7494d0b0-3365-410e-a4af-fd2c88ac46d5",
   "metadata": {},
   "outputs": [
    {
     "name": "stdout",
     "output_type": "stream",
     "text": [
      "Collecting lightgbm\n",
      "  Downloading lightgbm-4.6.0-py3-none-win_amd64.whl.metadata (17 kB)\n",
      "Requirement already satisfied: numpy>=1.17.0 in c:\\users\\test\\anaconda3\\envs\\annot\\lib\\site-packages (from lightgbm) (2.1.3)\n",
      "Requirement already satisfied: scipy in c:\\users\\test\\anaconda3\\envs\\annot\\lib\\site-packages (from lightgbm) (1.15.2)\n",
      "Downloading lightgbm-4.6.0-py3-none-win_amd64.whl (1.5 MB)\n",
      "   ---------------------------------------- 0.0/1.5 MB ? eta -:--:--\n",
      "   ---------------------------------------- 1.5/1.5 MB 15.2 MB/s eta 0:00:00\n",
      "Installing collected packages: lightgbm\n",
      "Successfully installed lightgbm-4.6.0\n",
      "Note: you may need to restart the kernel to use updated packages.\n"
     ]
    }
   ],
   "source": [
    "pip install lightgbm"
   ]
  },
  {
   "cell_type": "code",
   "execution_count": 22,
   "id": "0379bb52-816f-4897-b3ef-5aae9f918691",
   "metadata": {},
   "outputs": [
    {
     "name": "stdout",
     "output_type": "stream",
     "text": [
      "Requirement already satisfied: joblib in c:\\users\\test\\anaconda3\\envs\\annot\\lib\\site-packages (1.4.2)\n",
      "Note: you may need to restart the kernel to use updated packages.\n"
     ]
    }
   ],
   "source": [
    "pip install --upgrade joblib"
   ]
  },
  {
   "cell_type": "code",
   "execution_count": 11,
   "id": "2784e0d5-732d-4e71-a36e-301528d7af70",
   "metadata": {},
   "outputs": [],
   "source": [
    "from missforest import MissForest"
   ]
  },
  {
   "cell_type": "code",
   "execution_count": 8,
   "id": "5ef1e53b-250c-41c3-86f2-34d2750cb73c",
   "metadata": {},
   "outputs": [
    {
     "name": "stdout",
     "output_type": "stream",
     "text": [
      "Proportion de NaN dans X : 9.95%\n"
     ]
    }
   ],
   "source": [
    "nan_percentage = np.isnan(adatas_red[0].X).mean()\n",
    "print(f\"Proportion de NaN dans X : {nan_percentage:.2%}\")"
   ]
  },
  {
   "cell_type": "code",
   "execution_count": 53,
   "id": "d666e688-6a54-4e0f-ac08-71a807dd1cca",
   "metadata": {},
   "outputs": [],
   "source": [
    "#miss_forest = MissForest()\n",
    "#X = adatas_red[1].X.copy()\n",
    "#X = X.astype(np.float64)\n",
    "# Impute away\n",
    "#X_imputed = miss_forest.fit_transform(X)"
   ]
  },
  {
   "cell_type": "code",
   "execution_count": null,
   "id": "c2fc8489-8c98-4fe5-8771-ba22d5d53b90",
   "metadata": {},
   "outputs": [],
   "source": [
    "X_imputed"
   ]
  },
  {
   "cell_type": "code",
   "execution_count": 19,
   "id": "930f3061-f5e3-43da-bfef-6b25c6a4f799",
   "metadata": {},
   "outputs": [],
   "source": [
    "df = adatas_red[1].to_df()"
   ]
  },
  {
   "cell_type": "code",
   "execution_count": 20,
   "id": "8f60f898-a2cf-4f76-8b07-bd368c0b6828",
   "metadata": {},
   "outputs": [
    {
     "data": {
      "text/html": [
       "<div>\n",
       "<style scoped>\n",
       "    .dataframe tbody tr th:only-of-type {\n",
       "        vertical-align: middle;\n",
       "    }\n",
       "\n",
       "    .dataframe tbody tr th {\n",
       "        vertical-align: top;\n",
       "    }\n",
       "\n",
       "    .dataframe thead th {\n",
       "        text-align: right;\n",
       "    }\n",
       "</style>\n",
       "<table border=\"1\" class=\"dataframe\">\n",
       "  <thead>\n",
       "    <tr style=\"text-align: right;\">\n",
       "      <th></th>\n",
       "      <th>NUD4B_HUMANNUDT4_HUMAN</th>\n",
       "      <th>GAL3A_HUMANGAL3B_HUMAN</th>\n",
       "      <th>RBM47_HUMAN</th>\n",
       "      <th>IFT56_HUMAN</th>\n",
       "      <th>UBA6_HUMAN</th>\n",
       "      <th>ESYT2_HUMAN</th>\n",
       "      <th>SHOT1_HUMAN</th>\n",
       "      <th>ARH37_HUMAN</th>\n",
       "      <th>SPD2B_HUMAN</th>\n",
       "      <th>DCD2B_HUMAN</th>\n",
       "      <th>...</th>\n",
       "      <th>DC1L1_HUMAN</th>\n",
       "      <th>OAS3_HUMAN</th>\n",
       "      <th>NEMO_HUMAN</th>\n",
       "      <th>IF2B2_HUMAN</th>\n",
       "      <th>SQOR_HUMAN</th>\n",
       "      <th>AP1M2_HUMAN</th>\n",
       "      <th>SCIN_HUMAN</th>\n",
       "      <th>CAN7_HUMAN</th>\n",
       "      <th>WASF2_HUMAN</th>\n",
       "      <th>S23IP_HUMAN</th>\n",
       "    </tr>\n",
       "  </thead>\n",
       "  <tbody>\n",
       "    <tr>\n",
       "      <th>GFP_neg_6dpi/TU017444PAP_Slot1-06_1_5848.d</th>\n",
       "      <td>5544.319824</td>\n",
       "      <td>7190.330078</td>\n",
       "      <td>10628.200195</td>\n",
       "      <td>8177.069824</td>\n",
       "      <td>7789.330078</td>\n",
       "      <td>3961.179932</td>\n",
       "      <td>1475.040039</td>\n",
       "      <td>NaN</td>\n",
       "      <td>5580.620117</td>\n",
       "      <td>5271.279785</td>\n",
       "      <td>...</td>\n",
       "      <td>6874.870117</td>\n",
       "      <td>6402.839844</td>\n",
       "      <td>NaN</td>\n",
       "      <td>6189.899902</td>\n",
       "      <td>10673.200195</td>\n",
       "      <td>16079.700195</td>\n",
       "      <td>5024.819824</td>\n",
       "      <td>3585.080078</td>\n",
       "      <td>5518.759766</td>\n",
       "      <td>7944.279785</td>\n",
       "    </tr>\n",
       "    <tr>\n",
       "      <th>GFP_neg_6dpi/TU017445PAP_Slot1-07_1_5849.d</th>\n",
       "      <td>4120.029785</td>\n",
       "      <td>5809.379883</td>\n",
       "      <td>12093.299805</td>\n",
       "      <td>7686.870117</td>\n",
       "      <td>9992.629883</td>\n",
       "      <td>5632.649902</td>\n",
       "      <td>2039.119995</td>\n",
       "      <td>1564.219971</td>\n",
       "      <td>6048.750000</td>\n",
       "      <td>NaN</td>\n",
       "      <td>...</td>\n",
       "      <td>5182.580078</td>\n",
       "      <td>5987.819824</td>\n",
       "      <td>2411.169922</td>\n",
       "      <td>5107.189941</td>\n",
       "      <td>13627.400391</td>\n",
       "      <td>18186.099609</td>\n",
       "      <td>3842.020020</td>\n",
       "      <td>2425.320068</td>\n",
       "      <td>6372.720215</td>\n",
       "      <td>8097.240234</td>\n",
       "    </tr>\n",
       "    <tr>\n",
       "      <th>GFP_neg_6dpi/TU017446PAP_Slot1-08_1_5850.d</th>\n",
       "      <td>5531.189941</td>\n",
       "      <td>11922.000000</td>\n",
       "      <td>9237.769531</td>\n",
       "      <td>5372.549805</td>\n",
       "      <td>9355.629883</td>\n",
       "      <td>3833.600098</td>\n",
       "      <td>1198.880005</td>\n",
       "      <td>1159.510010</td>\n",
       "      <td>8719.780273</td>\n",
       "      <td>2213.090088</td>\n",
       "      <td>...</td>\n",
       "      <td>3992.600098</td>\n",
       "      <td>8136.399902</td>\n",
       "      <td>NaN</td>\n",
       "      <td>4024.449951</td>\n",
       "      <td>27889.900391</td>\n",
       "      <td>18617.599609</td>\n",
       "      <td>6413.250000</td>\n",
       "      <td>4091.649902</td>\n",
       "      <td>5796.290039</td>\n",
       "      <td>7071.439941</td>\n",
       "    </tr>\n",
       "    <tr>\n",
       "      <th>GFP_neg_6dpi/TU017481PAP_Slot1-18_1_5885.d</th>\n",
       "      <td>3538.610107</td>\n",
       "      <td>4117.390137</td>\n",
       "      <td>11211.299805</td>\n",
       "      <td>6511.060059</td>\n",
       "      <td>9290.389648</td>\n",
       "      <td>6372.120117</td>\n",
       "      <td>2129.600098</td>\n",
       "      <td>1470.349976</td>\n",
       "      <td>5594.189941</td>\n",
       "      <td>1130.030029</td>\n",
       "      <td>...</td>\n",
       "      <td>7247.430176</td>\n",
       "      <td>9667.559570</td>\n",
       "      <td>1784.819946</td>\n",
       "      <td>3959.459961</td>\n",
       "      <td>14346.700195</td>\n",
       "      <td>16424.699219</td>\n",
       "      <td>5458.490234</td>\n",
       "      <td>4127.660156</td>\n",
       "      <td>7450.600098</td>\n",
       "      <td>7689.709961</td>\n",
       "    </tr>\n",
       "    <tr>\n",
       "      <th>GFP_neg_6dpi/TU017482PAP_Slot1-19_1_5886.d</th>\n",
       "      <td>3947.270020</td>\n",
       "      <td>4609.279785</td>\n",
       "      <td>9855.700195</td>\n",
       "      <td>3729.000000</td>\n",
       "      <td>8664.080078</td>\n",
       "      <td>5318.250000</td>\n",
       "      <td>1927.599976</td>\n",
       "      <td>1381.020020</td>\n",
       "      <td>6649.089844</td>\n",
       "      <td>2616.280029</td>\n",
       "      <td>...</td>\n",
       "      <td>6398.950195</td>\n",
       "      <td>6531.589844</td>\n",
       "      <td>3014.449951</td>\n",
       "      <td>3085.330078</td>\n",
       "      <td>9252.530273</td>\n",
       "      <td>15430.099609</td>\n",
       "      <td>4633.049805</td>\n",
       "      <td>3542.750000</td>\n",
       "      <td>5723.770020</td>\n",
       "      <td>7147.060059</td>\n",
       "    </tr>\n",
       "    <tr>\n",
       "      <th>...</th>\n",
       "      <td>...</td>\n",
       "      <td>...</td>\n",
       "      <td>...</td>\n",
       "      <td>...</td>\n",
       "      <td>...</td>\n",
       "      <td>...</td>\n",
       "      <td>...</td>\n",
       "      <td>...</td>\n",
       "      <td>...</td>\n",
       "      <td>...</td>\n",
       "      <td>...</td>\n",
       "      <td>...</td>\n",
       "      <td>...</td>\n",
       "      <td>...</td>\n",
       "      <td>...</td>\n",
       "      <td>...</td>\n",
       "      <td>...</td>\n",
       "      <td>...</td>\n",
       "      <td>...</td>\n",
       "      <td>...</td>\n",
       "      <td>...</td>\n",
       "    </tr>\n",
       "    <tr>\n",
       "      <th>GFP_neg_6dpi/TU017666PAP_Slot1-80_1_6060.d</th>\n",
       "      <td>3435.610107</td>\n",
       "      <td>7031.229980</td>\n",
       "      <td>8337.830078</td>\n",
       "      <td>4649.819824</td>\n",
       "      <td>8561.000000</td>\n",
       "      <td>4275.089844</td>\n",
       "      <td>883.783020</td>\n",
       "      <td>878.869995</td>\n",
       "      <td>5415.910156</td>\n",
       "      <td>1891.140015</td>\n",
       "      <td>...</td>\n",
       "      <td>4932.629883</td>\n",
       "      <td>6656.939941</td>\n",
       "      <td>2109.280029</td>\n",
       "      <td>3254.199951</td>\n",
       "      <td>15783.200195</td>\n",
       "      <td>20787.599609</td>\n",
       "      <td>5435.629883</td>\n",
       "      <td>2317.370117</td>\n",
       "      <td>4287.729980</td>\n",
       "      <td>7590.379883</td>\n",
       "    </tr>\n",
       "    <tr>\n",
       "      <th>GFP_neg_6dpi/TU017667PAP_Slot1-81_1_6061.d</th>\n",
       "      <td>4150.890137</td>\n",
       "      <td>4533.629883</td>\n",
       "      <td>8880.929688</td>\n",
       "      <td>6285.930176</td>\n",
       "      <td>9341.320312</td>\n",
       "      <td>4227.770020</td>\n",
       "      <td>1705.930054</td>\n",
       "      <td>1013.489990</td>\n",
       "      <td>5642.899902</td>\n",
       "      <td>2708.229980</td>\n",
       "      <td>...</td>\n",
       "      <td>5300.439941</td>\n",
       "      <td>8613.250000</td>\n",
       "      <td>NaN</td>\n",
       "      <td>2383.169922</td>\n",
       "      <td>11830.299805</td>\n",
       "      <td>22021.500000</td>\n",
       "      <td>5558.740234</td>\n",
       "      <td>4594.759766</td>\n",
       "      <td>5059.979980</td>\n",
       "      <td>7253.779785</td>\n",
       "    </tr>\n",
       "    <tr>\n",
       "      <th>GFP_neg_6dpi/TU017670PAP_Slot1-88_1_6064.d</th>\n",
       "      <td>3669.939941</td>\n",
       "      <td>6447.750000</td>\n",
       "      <td>8868.580078</td>\n",
       "      <td>6193.600098</td>\n",
       "      <td>9415.959961</td>\n",
       "      <td>4753.040039</td>\n",
       "      <td>1265.550049</td>\n",
       "      <td>NaN</td>\n",
       "      <td>6205.109863</td>\n",
       "      <td>3001.979980</td>\n",
       "      <td>...</td>\n",
       "      <td>5199.520020</td>\n",
       "      <td>8333.209961</td>\n",
       "      <td>2303.500000</td>\n",
       "      <td>2978.860107</td>\n",
       "      <td>12911.799805</td>\n",
       "      <td>20902.400391</td>\n",
       "      <td>5792.609863</td>\n",
       "      <td>3251.860107</td>\n",
       "      <td>4072.560059</td>\n",
       "      <td>8222.580078</td>\n",
       "    </tr>\n",
       "    <tr>\n",
       "      <th>GFP_neg_6dpi/TU017671PAP_Slot1-89_1_6065.d</th>\n",
       "      <td>3975.580078</td>\n",
       "      <td>4283.430176</td>\n",
       "      <td>9022.190430</td>\n",
       "      <td>5971.810059</td>\n",
       "      <td>8408.629883</td>\n",
       "      <td>3305.949951</td>\n",
       "      <td>1079.209961</td>\n",
       "      <td>601.354980</td>\n",
       "      <td>5957.490234</td>\n",
       "      <td>1913.750000</td>\n",
       "      <td>...</td>\n",
       "      <td>5476.319824</td>\n",
       "      <td>6447.560059</td>\n",
       "      <td>NaN</td>\n",
       "      <td>3456.790039</td>\n",
       "      <td>12528.299805</td>\n",
       "      <td>21360.300781</td>\n",
       "      <td>4297.620117</td>\n",
       "      <td>3668.979980</td>\n",
       "      <td>4208.379883</td>\n",
       "      <td>8004.189941</td>\n",
       "    </tr>\n",
       "    <tr>\n",
       "      <th>GFP_neg_6dpi/TU017672PAP_Slot1-90_1_6066.d</th>\n",
       "      <td>2984.469971</td>\n",
       "      <td>3099.070068</td>\n",
       "      <td>8867.480469</td>\n",
       "      <td>6189.740234</td>\n",
       "      <td>8596.370117</td>\n",
       "      <td>3943.800049</td>\n",
       "      <td>816.687012</td>\n",
       "      <td>1576.099976</td>\n",
       "      <td>6989.399902</td>\n",
       "      <td>2075.000000</td>\n",
       "      <td>...</td>\n",
       "      <td>4713.890137</td>\n",
       "      <td>7182.479980</td>\n",
       "      <td>1639.270020</td>\n",
       "      <td>3504.969971</td>\n",
       "      <td>11280.700195</td>\n",
       "      <td>19357.300781</td>\n",
       "      <td>6197.439941</td>\n",
       "      <td>2828.090088</td>\n",
       "      <td>4721.600098</td>\n",
       "      <td>7507.200195</td>\n",
       "    </tr>\n",
       "  </tbody>\n",
       "</table>\n",
       "<p>108 rows × 2837 columns</p>\n",
       "</div>"
      ],
      "text/plain": [
       "                                            NUD4B_HUMANNUDT4_HUMAN  \\\n",
       "GFP_neg_6dpi/TU017444PAP_Slot1-06_1_5848.d             5544.319824   \n",
       "GFP_neg_6dpi/TU017445PAP_Slot1-07_1_5849.d             4120.029785   \n",
       "GFP_neg_6dpi/TU017446PAP_Slot1-08_1_5850.d             5531.189941   \n",
       "GFP_neg_6dpi/TU017481PAP_Slot1-18_1_5885.d             3538.610107   \n",
       "GFP_neg_6dpi/TU017482PAP_Slot1-19_1_5886.d             3947.270020   \n",
       "...                                                            ...   \n",
       "GFP_neg_6dpi/TU017666PAP_Slot1-80_1_6060.d             3435.610107   \n",
       "GFP_neg_6dpi/TU017667PAP_Slot1-81_1_6061.d             4150.890137   \n",
       "GFP_neg_6dpi/TU017670PAP_Slot1-88_1_6064.d             3669.939941   \n",
       "GFP_neg_6dpi/TU017671PAP_Slot1-89_1_6065.d             3975.580078   \n",
       "GFP_neg_6dpi/TU017672PAP_Slot1-90_1_6066.d             2984.469971   \n",
       "\n",
       "                                            GAL3A_HUMANGAL3B_HUMAN  \\\n",
       "GFP_neg_6dpi/TU017444PAP_Slot1-06_1_5848.d             7190.330078   \n",
       "GFP_neg_6dpi/TU017445PAP_Slot1-07_1_5849.d             5809.379883   \n",
       "GFP_neg_6dpi/TU017446PAP_Slot1-08_1_5850.d            11922.000000   \n",
       "GFP_neg_6dpi/TU017481PAP_Slot1-18_1_5885.d             4117.390137   \n",
       "GFP_neg_6dpi/TU017482PAP_Slot1-19_1_5886.d             4609.279785   \n",
       "...                                                            ...   \n",
       "GFP_neg_6dpi/TU017666PAP_Slot1-80_1_6060.d             7031.229980   \n",
       "GFP_neg_6dpi/TU017667PAP_Slot1-81_1_6061.d             4533.629883   \n",
       "GFP_neg_6dpi/TU017670PAP_Slot1-88_1_6064.d             6447.750000   \n",
       "GFP_neg_6dpi/TU017671PAP_Slot1-89_1_6065.d             4283.430176   \n",
       "GFP_neg_6dpi/TU017672PAP_Slot1-90_1_6066.d             3099.070068   \n",
       "\n",
       "                                             RBM47_HUMAN  IFT56_HUMAN  \\\n",
       "GFP_neg_6dpi/TU017444PAP_Slot1-06_1_5848.d  10628.200195  8177.069824   \n",
       "GFP_neg_6dpi/TU017445PAP_Slot1-07_1_5849.d  12093.299805  7686.870117   \n",
       "GFP_neg_6dpi/TU017446PAP_Slot1-08_1_5850.d   9237.769531  5372.549805   \n",
       "GFP_neg_6dpi/TU017481PAP_Slot1-18_1_5885.d  11211.299805  6511.060059   \n",
       "GFP_neg_6dpi/TU017482PAP_Slot1-19_1_5886.d   9855.700195  3729.000000   \n",
       "...                                                  ...          ...   \n",
       "GFP_neg_6dpi/TU017666PAP_Slot1-80_1_6060.d   8337.830078  4649.819824   \n",
       "GFP_neg_6dpi/TU017667PAP_Slot1-81_1_6061.d   8880.929688  6285.930176   \n",
       "GFP_neg_6dpi/TU017670PAP_Slot1-88_1_6064.d   8868.580078  6193.600098   \n",
       "GFP_neg_6dpi/TU017671PAP_Slot1-89_1_6065.d   9022.190430  5971.810059   \n",
       "GFP_neg_6dpi/TU017672PAP_Slot1-90_1_6066.d   8867.480469  6189.740234   \n",
       "\n",
       "                                             UBA6_HUMAN  ESYT2_HUMAN  \\\n",
       "GFP_neg_6dpi/TU017444PAP_Slot1-06_1_5848.d  7789.330078  3961.179932   \n",
       "GFP_neg_6dpi/TU017445PAP_Slot1-07_1_5849.d  9992.629883  5632.649902   \n",
       "GFP_neg_6dpi/TU017446PAP_Slot1-08_1_5850.d  9355.629883  3833.600098   \n",
       "GFP_neg_6dpi/TU017481PAP_Slot1-18_1_5885.d  9290.389648  6372.120117   \n",
       "GFP_neg_6dpi/TU017482PAP_Slot1-19_1_5886.d  8664.080078  5318.250000   \n",
       "...                                                 ...          ...   \n",
       "GFP_neg_6dpi/TU017666PAP_Slot1-80_1_6060.d  8561.000000  4275.089844   \n",
       "GFP_neg_6dpi/TU017667PAP_Slot1-81_1_6061.d  9341.320312  4227.770020   \n",
       "GFP_neg_6dpi/TU017670PAP_Slot1-88_1_6064.d  9415.959961  4753.040039   \n",
       "GFP_neg_6dpi/TU017671PAP_Slot1-89_1_6065.d  8408.629883  3305.949951   \n",
       "GFP_neg_6dpi/TU017672PAP_Slot1-90_1_6066.d  8596.370117  3943.800049   \n",
       "\n",
       "                                            SHOT1_HUMAN  ARH37_HUMAN  \\\n",
       "GFP_neg_6dpi/TU017444PAP_Slot1-06_1_5848.d  1475.040039          NaN   \n",
       "GFP_neg_6dpi/TU017445PAP_Slot1-07_1_5849.d  2039.119995  1564.219971   \n",
       "GFP_neg_6dpi/TU017446PAP_Slot1-08_1_5850.d  1198.880005  1159.510010   \n",
       "GFP_neg_6dpi/TU017481PAP_Slot1-18_1_5885.d  2129.600098  1470.349976   \n",
       "GFP_neg_6dpi/TU017482PAP_Slot1-19_1_5886.d  1927.599976  1381.020020   \n",
       "...                                                 ...          ...   \n",
       "GFP_neg_6dpi/TU017666PAP_Slot1-80_1_6060.d   883.783020   878.869995   \n",
       "GFP_neg_6dpi/TU017667PAP_Slot1-81_1_6061.d  1705.930054  1013.489990   \n",
       "GFP_neg_6dpi/TU017670PAP_Slot1-88_1_6064.d  1265.550049          NaN   \n",
       "GFP_neg_6dpi/TU017671PAP_Slot1-89_1_6065.d  1079.209961   601.354980   \n",
       "GFP_neg_6dpi/TU017672PAP_Slot1-90_1_6066.d   816.687012  1576.099976   \n",
       "\n",
       "                                            SPD2B_HUMAN  DCD2B_HUMAN  ...  \\\n",
       "GFP_neg_6dpi/TU017444PAP_Slot1-06_1_5848.d  5580.620117  5271.279785  ...   \n",
       "GFP_neg_6dpi/TU017445PAP_Slot1-07_1_5849.d  6048.750000          NaN  ...   \n",
       "GFP_neg_6dpi/TU017446PAP_Slot1-08_1_5850.d  8719.780273  2213.090088  ...   \n",
       "GFP_neg_6dpi/TU017481PAP_Slot1-18_1_5885.d  5594.189941  1130.030029  ...   \n",
       "GFP_neg_6dpi/TU017482PAP_Slot1-19_1_5886.d  6649.089844  2616.280029  ...   \n",
       "...                                                 ...          ...  ...   \n",
       "GFP_neg_6dpi/TU017666PAP_Slot1-80_1_6060.d  5415.910156  1891.140015  ...   \n",
       "GFP_neg_6dpi/TU017667PAP_Slot1-81_1_6061.d  5642.899902  2708.229980  ...   \n",
       "GFP_neg_6dpi/TU017670PAP_Slot1-88_1_6064.d  6205.109863  3001.979980  ...   \n",
       "GFP_neg_6dpi/TU017671PAP_Slot1-89_1_6065.d  5957.490234  1913.750000  ...   \n",
       "GFP_neg_6dpi/TU017672PAP_Slot1-90_1_6066.d  6989.399902  2075.000000  ...   \n",
       "\n",
       "                                            DC1L1_HUMAN   OAS3_HUMAN  \\\n",
       "GFP_neg_6dpi/TU017444PAP_Slot1-06_1_5848.d  6874.870117  6402.839844   \n",
       "GFP_neg_6dpi/TU017445PAP_Slot1-07_1_5849.d  5182.580078  5987.819824   \n",
       "GFP_neg_6dpi/TU017446PAP_Slot1-08_1_5850.d  3992.600098  8136.399902   \n",
       "GFP_neg_6dpi/TU017481PAP_Slot1-18_1_5885.d  7247.430176  9667.559570   \n",
       "GFP_neg_6dpi/TU017482PAP_Slot1-19_1_5886.d  6398.950195  6531.589844   \n",
       "...                                                 ...          ...   \n",
       "GFP_neg_6dpi/TU017666PAP_Slot1-80_1_6060.d  4932.629883  6656.939941   \n",
       "GFP_neg_6dpi/TU017667PAP_Slot1-81_1_6061.d  5300.439941  8613.250000   \n",
       "GFP_neg_6dpi/TU017670PAP_Slot1-88_1_6064.d  5199.520020  8333.209961   \n",
       "GFP_neg_6dpi/TU017671PAP_Slot1-89_1_6065.d  5476.319824  6447.560059   \n",
       "GFP_neg_6dpi/TU017672PAP_Slot1-90_1_6066.d  4713.890137  7182.479980   \n",
       "\n",
       "                                             NEMO_HUMAN  IF2B2_HUMAN  \\\n",
       "GFP_neg_6dpi/TU017444PAP_Slot1-06_1_5848.d          NaN  6189.899902   \n",
       "GFP_neg_6dpi/TU017445PAP_Slot1-07_1_5849.d  2411.169922  5107.189941   \n",
       "GFP_neg_6dpi/TU017446PAP_Slot1-08_1_5850.d          NaN  4024.449951   \n",
       "GFP_neg_6dpi/TU017481PAP_Slot1-18_1_5885.d  1784.819946  3959.459961   \n",
       "GFP_neg_6dpi/TU017482PAP_Slot1-19_1_5886.d  3014.449951  3085.330078   \n",
       "...                                                 ...          ...   \n",
       "GFP_neg_6dpi/TU017666PAP_Slot1-80_1_6060.d  2109.280029  3254.199951   \n",
       "GFP_neg_6dpi/TU017667PAP_Slot1-81_1_6061.d          NaN  2383.169922   \n",
       "GFP_neg_6dpi/TU017670PAP_Slot1-88_1_6064.d  2303.500000  2978.860107   \n",
       "GFP_neg_6dpi/TU017671PAP_Slot1-89_1_6065.d          NaN  3456.790039   \n",
       "GFP_neg_6dpi/TU017672PAP_Slot1-90_1_6066.d  1639.270020  3504.969971   \n",
       "\n",
       "                                              SQOR_HUMAN   AP1M2_HUMAN  \\\n",
       "GFP_neg_6dpi/TU017444PAP_Slot1-06_1_5848.d  10673.200195  16079.700195   \n",
       "GFP_neg_6dpi/TU017445PAP_Slot1-07_1_5849.d  13627.400391  18186.099609   \n",
       "GFP_neg_6dpi/TU017446PAP_Slot1-08_1_5850.d  27889.900391  18617.599609   \n",
       "GFP_neg_6dpi/TU017481PAP_Slot1-18_1_5885.d  14346.700195  16424.699219   \n",
       "GFP_neg_6dpi/TU017482PAP_Slot1-19_1_5886.d   9252.530273  15430.099609   \n",
       "...                                                  ...           ...   \n",
       "GFP_neg_6dpi/TU017666PAP_Slot1-80_1_6060.d  15783.200195  20787.599609   \n",
       "GFP_neg_6dpi/TU017667PAP_Slot1-81_1_6061.d  11830.299805  22021.500000   \n",
       "GFP_neg_6dpi/TU017670PAP_Slot1-88_1_6064.d  12911.799805  20902.400391   \n",
       "GFP_neg_6dpi/TU017671PAP_Slot1-89_1_6065.d  12528.299805  21360.300781   \n",
       "GFP_neg_6dpi/TU017672PAP_Slot1-90_1_6066.d  11280.700195  19357.300781   \n",
       "\n",
       "                                             SCIN_HUMAN   CAN7_HUMAN  \\\n",
       "GFP_neg_6dpi/TU017444PAP_Slot1-06_1_5848.d  5024.819824  3585.080078   \n",
       "GFP_neg_6dpi/TU017445PAP_Slot1-07_1_5849.d  3842.020020  2425.320068   \n",
       "GFP_neg_6dpi/TU017446PAP_Slot1-08_1_5850.d  6413.250000  4091.649902   \n",
       "GFP_neg_6dpi/TU017481PAP_Slot1-18_1_5885.d  5458.490234  4127.660156   \n",
       "GFP_neg_6dpi/TU017482PAP_Slot1-19_1_5886.d  4633.049805  3542.750000   \n",
       "...                                                 ...          ...   \n",
       "GFP_neg_6dpi/TU017666PAP_Slot1-80_1_6060.d  5435.629883  2317.370117   \n",
       "GFP_neg_6dpi/TU017667PAP_Slot1-81_1_6061.d  5558.740234  4594.759766   \n",
       "GFP_neg_6dpi/TU017670PAP_Slot1-88_1_6064.d  5792.609863  3251.860107   \n",
       "GFP_neg_6dpi/TU017671PAP_Slot1-89_1_6065.d  4297.620117  3668.979980   \n",
       "GFP_neg_6dpi/TU017672PAP_Slot1-90_1_6066.d  6197.439941  2828.090088   \n",
       "\n",
       "                                            WASF2_HUMAN  S23IP_HUMAN  \n",
       "GFP_neg_6dpi/TU017444PAP_Slot1-06_1_5848.d  5518.759766  7944.279785  \n",
       "GFP_neg_6dpi/TU017445PAP_Slot1-07_1_5849.d  6372.720215  8097.240234  \n",
       "GFP_neg_6dpi/TU017446PAP_Slot1-08_1_5850.d  5796.290039  7071.439941  \n",
       "GFP_neg_6dpi/TU017481PAP_Slot1-18_1_5885.d  7450.600098  7689.709961  \n",
       "GFP_neg_6dpi/TU017482PAP_Slot1-19_1_5886.d  5723.770020  7147.060059  \n",
       "...                                                 ...          ...  \n",
       "GFP_neg_6dpi/TU017666PAP_Slot1-80_1_6060.d  4287.729980  7590.379883  \n",
       "GFP_neg_6dpi/TU017667PAP_Slot1-81_1_6061.d  5059.979980  7253.779785  \n",
       "GFP_neg_6dpi/TU017670PAP_Slot1-88_1_6064.d  4072.560059  8222.580078  \n",
       "GFP_neg_6dpi/TU017671PAP_Slot1-89_1_6065.d  4208.379883  8004.189941  \n",
       "GFP_neg_6dpi/TU017672PAP_Slot1-90_1_6066.d  4721.600098  7507.200195  \n",
       "\n",
       "[108 rows x 2837 columns]"
      ]
     },
     "execution_count": 20,
     "metadata": {},
     "output_type": "execute_result"
    }
   ],
   "source": [
    "df"
   ]
  },
  {
   "cell_type": "code",
   "execution_count": 54,
   "id": "0e01db17-597a-4dad-8630-e9c27fdf0dab",
   "metadata": {},
   "outputs": [],
   "source": [
    "#miss_forest = MissForest()\n",
    "# Impute away\n",
    "#X_imputed = miss_forest.fit_transform(df)"
   ]
  },
  {
   "cell_type": "code",
   "execution_count": null,
   "id": "adb271b7-205e-4849-8283-ffd55458d116",
   "metadata": {},
   "outputs": [],
   "source": []
  },
  {
   "cell_type": "code",
   "execution_count": 9,
   "id": "7d633100-24f1-4af9-89aa-f34b4598ba36",
   "metadata": {},
   "outputs": [],
   "source": [
    "os.makedirs( 'G:/Data processing pipeline 0.1 Yohan/scP/Output/missforest_completed',exist_ok = True)"
   ]
  },
  {
   "cell_type": "code",
   "execution_count": null,
   "id": "794a9d65-b5e8-4b7f-bc1d-657fffa013f6",
   "metadata": {},
   "outputs": [],
   "source": [
    "for ad in adatas_red:\n",
    "    \n",
    "    miss_forest = MissForest()\n",
    "    X = ad.X.copy()\n",
    "    X = X.astype(np.float64)\n",
    "    # Impute away\n",
    "    X_imputed = miss_forest.fit_transform(X)\n",
    "    ad.X = X_imputed\n",
    "    print(ad)\n",
    "    unique_id = ad.obs['Id'][0]\n",
    "    file_path = os.path.join('G:/Data processing pipeline 0.1 Yohan/scP/Output/missforest_completed', f'adata_{unique_id}.h5ad')\n",
    "    ad.write(file_path)\n",
    "    print(f\"Saved: {file_path}\")\n"
   ]
  },
  {
   "cell_type": "code",
   "execution_count": null,
   "id": "ca0bc672-616b-41d3-bd16-f359ebe03e0f",
   "metadata": {},
   "outputs": [],
   "source": []
  },
  {
   "cell_type": "code",
   "execution_count": 10,
   "id": "bcd4cbe3-5b0b-4688-88ec-10127466698a",
   "metadata": {},
   "outputs": [
    {
     "name": "stdout",
     "output_type": "stream",
     "text": [
      "Proportion de NaN dans X : 9.95%\n",
      "Proportion de NaN dans X : 12.67%\n",
      "Proportion de NaN dans X : 31.40%\n",
      "Proportion de NaN dans X : 16.42%\n",
      "Proportion de NaN dans X : 12.67%\n",
      "Proportion de NaN dans X : 27.06%\n"
     ]
    }
   ],
   "source": [
    "for ad in adatas_red:\n",
    "    nan_percentage = np.isnan(ad.X).mean()\n",
    "    print(f\"Proportion de NaN dans X : {nan_percentage:.2%}\")"
   ]
  },
  {
   "cell_type": "code",
   "execution_count": null,
   "id": "9db199b6-d8db-465e-bfce-be815e1e7747",
   "metadata": {},
   "outputs": [],
   "source": []
  },
  {
   "cell_type": "code",
   "execution_count": 11,
   "id": "3060c767-ac73-4f3c-b45a-dc28e8ee8ace",
   "metadata": {},
   "outputs": [],
   "source": [
    "import time"
   ]
  },
  {
   "cell_type": "code",
   "execution_count": 12,
   "id": "db2a9e9f-e95e-4831-b47c-4c4b13a26f33",
   "metadata": {},
   "outputs": [],
   "source": [
    "os.makedirs( 'G:/Data processing pipeline 0.1 Yohan/scP/Output/missforest_completed',exist_ok = True)"
   ]
  },
  {
   "cell_type": "code",
   "execution_count": null,
   "id": "3e07b02c-c333-4532-8805-675fc6af1da0",
   "metadata": {},
   "outputs": [
    {
     "name": "stderr",
     "output_type": "stream",
     "text": [
      "  File \"C:\\Users\\test\\anaconda3\\envs\\annot\\Lib\\site-packages\\joblib\\externals\\loky\\backend\\context.py\", line 257, in _count_physical_cores\n",
      "    cpu_info = subprocess.run(\n",
      "               ^^^^^^^^^^^^^^^\n",
      "  File \"C:\\Users\\test\\anaconda3\\envs\\annot\\Lib\\subprocess.py\", line 548, in run\n",
      "    with Popen(*popenargs, **kwargs) as process:\n",
      "         ^^^^^^^^^^^^^^^^^^^^^^^^^^^\n",
      "  File \"C:\\Users\\test\\anaconda3\\envs\\annot\\Lib\\subprocess.py\", line 1026, in __init__\n",
      "    self._execute_child(args, executable, preexec_fn, close_fds,\n",
      "  File \"C:\\Users\\test\\anaconda3\\envs\\annot\\Lib\\subprocess.py\", line 1538, in _execute_child\n",
      "    hp, ht, pid, tid = _winapi.CreateProcess(executable, args,\n",
      "                       ^^^^^^^^^^^^^^^^^^^^^^^^^^^^^^^^^^^^^^^\n"
     ]
    }
   ],
   "source": [
    "from missforest import MissForest\n",
    "\n",
    "\n",
    "for ad in adatas_red:\n",
    "    mf = MissForest()\n",
    "    X = ad.X.copy()\n",
    "    X = X.astype(np.float64)\n",
    "\n",
    "    X_df = pd.DataFrame(X)\n",
    "    X_imputed = mf.fit_transform(X_df)\n",
    "    X_imputed = X_imputed.to_numpy()\n",
    "    try:\n",
    "       print(\"Erreur OOB :\", mf.oob_imputation_error_) \n",
    "    except:\n",
    "        print('Error OOB not found')\n",
    "\n",
    "    ad.X = X_imputed.astype(np.float32)\n",
    "\n",
    "    print(ad)\n",
    "    unique_id = ad.obs['Id'][0]\n",
    "    time.sleep(1)\n",
    "\n",
    "    file_path = os.path.join('G:/Data processing pipeline 0.1 Yohan/scP/Output/missforest_completed', f'adata_{unique_id}.h5ad')\n",
    "    \n",
    "    try:\n",
    "        ad.write(file_path)\n",
    "        print(f\"Saved: {file_path}\")\n",
    "        \n",
    "    except Exception as e:\n",
    "        print(f\"Erreur lors de la sauvegarde de {file_path} : {e}\")\n",
    "        "
   ]
  },
  {
   "cell_type": "code",
   "execution_count": 23,
   "id": "3d5573be-c6d6-4b36-ba42-43ffeb0faf16",
   "metadata": {},
   "outputs": [
    {
     "name": "stdout",
     "output_type": "stream",
     "text": [
      "16\n"
     ]
    }
   ],
   "source": [
    "from joblib.externals.loky.backend.context import cpu_count\n",
    "print(cpu_count(only_physical_cores=True))"
   ]
  },
  {
   "cell_type": "code",
   "execution_count": 39,
   "id": "1283c886-8cd6-4117-9546-a7aebd19de5b",
   "metadata": {},
   "outputs": [
    {
     "data": {
      "text/plain": [
       "array([[1.00778000e+05, 1.86113000e+06, 8.90818984e+04, ...,\n",
       "        1.66608356e+04, 1.99545082e+03, 1.77994995e+03],\n",
       "       [1.18313000e+05, 1.70619000e+06, 8.19176016e+04, ...,\n",
       "        1.66460132e+04, 1.98100182e+03, 1.73226751e+03],\n",
       "       [8.71135000e+04, 1.87065000e+06, 8.83887031e+04, ...,\n",
       "        1.66630523e+04, 1.97112210e+03, 1.98883997e+03],\n",
       "       ...,\n",
       "       [2.15830000e+05, 2.49033000e+06, 1.08526000e+05, ...,\n",
       "        1.66711738e+04, 1.99039852e+03, 1.73503250e+03],\n",
       "       [5.54737000e+05, 1.87110000e+06, 5.88664000e+05, ...,\n",
       "        1.66856949e+04, 1.98082172e+03, 1.73698868e+03],\n",
       "       [4.21168000e+05, 2.52772000e+06, 7.96528984e+04, ...,\n",
       "        1.66889446e+04, 1.98603849e+03, 1.73453689e+03]])"
      ]
     },
     "execution_count": 39,
     "metadata": {},
     "output_type": "execute_result"
    }
   ],
   "source": [
    "X_imputed"
   ]
  },
  {
   "cell_type": "code",
   "execution_count": null,
   "id": "65794c52-128f-45ef-9ad4-113ed87d5933",
   "metadata": {},
   "outputs": [],
   "source": []
  },
  {
   "cell_type": "code",
   "execution_count": null,
   "id": "7d659aa6-38c1-40db-9981-52098138cfd7",
   "metadata": {},
   "outputs": [],
   "source": []
  },
  {
   "cell_type": "code",
   "execution_count": null,
   "id": "41e108d7-4a80-4a6e-b03c-423e90a26b6f",
   "metadata": {},
   "outputs": [],
   "source": []
  },
  {
   "cell_type": "code",
   "execution_count": null,
   "id": "8754f237-263e-49cc-82b0-0c570d6eb310",
   "metadata": {},
   "outputs": [],
   "source": []
  },
  {
   "cell_type": "code",
   "execution_count": null,
   "id": "0cd8935a-a85e-4f95-b6f1-a8eac97c15df",
   "metadata": {},
   "outputs": [],
   "source": []
  },
  {
   "cell_type": "code",
   "execution_count": null,
   "id": "08764101-3063-4e27-8eb9-d7d45567076a",
   "metadata": {},
   "outputs": [],
   "source": []
  },
  {
   "cell_type": "code",
   "execution_count": null,
   "id": "1ac2b3f1-8cd3-44f6-8374-0a37356218ad",
   "metadata": {},
   "outputs": [],
   "source": []
  },
  {
   "cell_type": "code",
   "execution_count": null,
   "id": "3e1bb63f-e4ab-48d2-8b51-2702ee9629b4",
   "metadata": {},
   "outputs": [],
   "source": []
  },
  {
   "cell_type": "code",
   "execution_count": 1,
   "id": "22e06da5-aaf6-4f26-a13a-cad8a4ca57a4",
   "metadata": {
    "scrolled": true
   },
   "outputs": [
    {
     "name": "stdout",
     "output_type": "stream",
     "text": [
      "Collecting ehrapy\n",
      "  Using cached ehrapy-0.12.0-py3-none-any.whl.metadata (18 kB)\n",
      "Collecting dowhy (from ehrapy)\n",
      "  Using cached dowhy-0.12-py3-none-any.whl.metadata (18 kB)\n",
      "Collecting fhiry (from ehrapy)\n",
      "  Using cached fhiry-4.0.0-py2.py3-none-any.whl.metadata (6.4 kB)\n",
      "Collecting filelock (from ehrapy)\n",
      "  Using cached filelock-3.17.0-py3-none-any.whl.metadata (2.9 kB)\n",
      "Collecting fknni>=1.2.0 (from ehrapy)\n",
      "  Using cached fknni-1.2.0-py3-none-any.whl.metadata (2.9 kB)\n",
      "Collecting imbalanced-learn (from ehrapy)\n",
      "  Using cached imbalanced_learn-0.13.0-py3-none-any.whl.metadata (8.8 kB)\n",
      "Collecting lamin-utils (from ehrapy)\n",
      "  Using cached lamin_utils-0.13.11-py2.py3-none-any.whl.metadata (940 bytes)\n",
      "Collecting lifelines (from ehrapy)\n",
      "  Using cached lifelines-0.30.0-py3-none-any.whl.metadata (3.2 kB)\n",
      "Collecting miceforest (from ehrapy)\n",
      "  Using cached miceforest-6.0.3-py3-none-any.whl.metadata (35 kB)\n",
      "Collecting missingno (from ehrapy)\n",
      "  Using cached missingno-0.5.2-py3-none-any.whl.metadata (639 bytes)\n",
      "Collecting pyampute (from ehrapy)\n",
      "  Using cached pyampute-0.0.3-py3-none-any.whl.metadata (1.3 kB)\n",
      "Requirement already satisfied: pynndescent in c:\\users\\test\\anaconda3\\envs\\annot\\lib\\site-packages (from ehrapy) (0.5.13)\n",
      "Requirement already satisfied: python-dateutil in c:\\users\\test\\anaconda3\\envs\\annot\\lib\\site-packages (from ehrapy) (2.9.0.post0)\n",
      "Requirement already satisfied: requests in c:\\users\\test\\anaconda3\\envs\\annot\\lib\\site-packages (from ehrapy) (2.32.3)\n",
      "Collecting rich (from ehrapy)\n",
      "  Using cached rich-13.9.4-py3-none-any.whl.metadata (18 kB)\n",
      "Requirement already satisfied: scanpy[leiden] in c:\\users\\test\\anaconda3\\envs\\annot\\lib\\site-packages (from ehrapy) (1.10.4)\n",
      "Collecting scikit-misc (from ehrapy)\n",
      "  Using cached scikit_misc-0.5.1-cp311-cp311-win_amd64.whl.metadata (5.0 kB)\n",
      "Collecting session-info2 (from ehrapy)\n",
      "  Using cached session_info2-0.1.2-py3-none-any.whl.metadata (2.5 kB)\n",
      "Collecting tableone (from ehrapy)\n",
      "  Using cached tableone-0.9.1-py3-none-any.whl.metadata (8.5 kB)\n",
      "Collecting thefuzz[speedup] (from ehrapy)\n",
      "  Using cached thefuzz-0.22.1-py3-none-any.whl.metadata (3.9 kB)\n",
      "Requirement already satisfied: scikit-learn in c:\\users\\test\\anaconda3\\envs\\annot\\lib\\site-packages (from fknni>=1.2.0->ehrapy) (1.6.1)\n",
      "Collecting faiss-cpu (from fknni>=1.2.0->ehrapy)\n",
      "  Using cached faiss_cpu-1.10.0-cp311-cp311-win_amd64.whl.metadata (4.5 kB)\n",
      "Requirement already satisfied: pandas in c:\\users\\test\\anaconda3\\envs\\annot\\lib\\site-packages (from fknni>=1.2.0->ehrapy) (2.2.3)\n",
      "Collecting causal-learn>=0.1.3.0 (from dowhy->ehrapy)\n",
      "  Using cached causal_learn-0.1.4.0-py3-none-any.whl.metadata (4.6 kB)\n",
      "Collecting cvxpy>=1.2.2 (from dowhy->ehrapy)\n",
      "  Using cached cvxpy-1.6.3-cp311-cp311-win_amd64.whl.metadata (9.5 kB)\n",
      "Collecting cython<3.0 (from dowhy->ehrapy)\n",
      "  Using cached Cython-0.29.37-py2.py3-none-any.whl.metadata (3.1 kB)\n",
      "Requirement already satisfied: joblib>=1.1.0 in c:\\users\\test\\anaconda3\\envs\\annot\\lib\\site-packages (from dowhy->ehrapy) (1.4.2)\n",
      "Requirement already satisfied: networkx>=2.8.5 in c:\\users\\test\\anaconda3\\envs\\annot\\lib\\site-packages (from dowhy->ehrapy) (3.4.2)\n",
      "Requirement already satisfied: numba>=0.59 in c:\\users\\test\\anaconda3\\envs\\annot\\lib\\site-packages (from dowhy->ehrapy) (0.61.0)\n",
      "Requirement already satisfied: numpy>1.0 in c:\\users\\test\\anaconda3\\envs\\annot\\lib\\site-packages (from dowhy->ehrapy) (2.1.3)\n",
      "Requirement already satisfied: scipy>=1.10 in c:\\users\\test\\anaconda3\\envs\\annot\\lib\\site-packages (from dowhy->ehrapy) (1.15.2)\n",
      "Requirement already satisfied: statsmodels>=0.13.5 in c:\\users\\test\\anaconda3\\envs\\annot\\lib\\site-packages (from dowhy->ehrapy) (0.14.4)\n",
      "Collecting sympy>=1.10.1 (from dowhy->ehrapy)\n",
      "  Using cached sympy-1.13.3-py3-none-any.whl.metadata (12 kB)\n",
      "Requirement already satisfied: tqdm>=4.64.0 in c:\\users\\test\\anaconda3\\envs\\annot\\lib\\site-packages (from dowhy->ehrapy) (4.67.1)\n",
      "Collecting db-dtypes (from fhiry->ehrapy)\n",
      "  Using cached db_dtypes-1.4.2-py2.py3-none-any.whl.metadata (3.0 kB)\n",
      "Collecting google-cloud-bigquery (from fhiry->ehrapy)\n",
      "  Using cached google_cloud_bigquery-3.30.0-py2.py3-none-any.whl.metadata (7.9 kB)\n",
      "Collecting timeago (from fhiry->ehrapy)\n",
      "  Using cached timeago-1.0.16-py3-none-any.whl.metadata (4.5 kB)\n",
      "Collecting prodict (from fhiry->ehrapy)\n",
      "  Using cached prodict-0.8.20.tar.gz (4.7 kB)\n",
      "  Installing build dependencies: started\n",
      "  Installing build dependencies: finished with status 'done'\n",
      "  Getting requirements to build wheel: started\n",
      "  Getting requirements to build wheel: finished with status 'done'\n",
      "  Preparing metadata (pyproject.toml): started\n",
      "  Preparing metadata (pyproject.toml): finished with status 'done'\n",
      "Collecting numpy>1.0 (from dowhy->ehrapy)\n",
      "  Using cached numpy-1.26.4-cp311-cp311-win_amd64.whl.metadata (61 kB)\n",
      "Collecting sklearn-compat<1,>=0.1 (from imbalanced-learn->ehrapy)\n",
      "  Using cached sklearn_compat-0.1.3-py3-none-any.whl.metadata (18 kB)\n",
      "Requirement already satisfied: threadpoolctl<4,>=2.0.0 in c:\\users\\test\\anaconda3\\envs\\annot\\lib\\site-packages (from imbalanced-learn->ehrapy) (3.5.0)\n",
      "Requirement already satisfied: matplotlib>=3.0 in c:\\users\\test\\anaconda3\\envs\\annot\\lib\\site-packages (from lifelines->ehrapy) (3.10.0)\n",
      "Collecting autograd>=1.5 (from lifelines->ehrapy)\n",
      "  Using cached autograd-1.7.0-py3-none-any.whl.metadata (7.5 kB)\n",
      "Collecting autograd-gamma>=0.3 (from lifelines->ehrapy)\n",
      "  Using cached autograd-gamma-0.5.0.tar.gz (4.0 kB)\n",
      "  Preparing metadata (setup.py): started\n",
      "  Preparing metadata (setup.py): finished with status 'done'\n",
      "Collecting formulaic>=0.2.2 (from lifelines->ehrapy)\n",
      "  Using cached formulaic-1.1.1-py3-none-any.whl.metadata (6.9 kB)\n",
      "Requirement already satisfied: lightgbm>=4.1.0 in c:\\users\\test\\anaconda3\\envs\\annot\\lib\\site-packages (from miceforest->ehrapy) (4.6.0)\n",
      "Collecting pyarrow>=6.0.1 (from miceforest->ehrapy)\n",
      "  Using cached pyarrow-19.0.1-cp311-cp311-win_amd64.whl.metadata (3.4 kB)\n",
      "Requirement already satisfied: seaborn in c:\\users\\test\\anaconda3\\envs\\annot\\lib\\site-packages (from missingno->ehrapy) (0.13.2)\n",
      "Requirement already satisfied: llvmlite>=0.30 in c:\\users\\test\\anaconda3\\envs\\annot\\lib\\site-packages (from pynndescent->ehrapy) (0.44.0)\n",
      "Requirement already satisfied: six>=1.5 in c:\\users\\test\\anaconda3\\envs\\annot\\lib\\site-packages (from python-dateutil->ehrapy) (1.17.0)\n",
      "Requirement already satisfied: charset_normalizer<4,>=2 in c:\\users\\test\\anaconda3\\envs\\annot\\lib\\site-packages (from requests->ehrapy) (3.4.1)\n",
      "Requirement already satisfied: idna<4,>=2.5 in c:\\users\\test\\anaconda3\\envs\\annot\\lib\\site-packages (from requests->ehrapy) (3.10)\n",
      "Requirement already satisfied: urllib3<3,>=1.21.1 in c:\\users\\test\\anaconda3\\envs\\annot\\lib\\site-packages (from requests->ehrapy) (2.3.0)\n",
      "Requirement already satisfied: certifi>=2017.4.17 in c:\\users\\test\\anaconda3\\envs\\annot\\lib\\site-packages (from requests->ehrapy) (2025.1.31)\n",
      "Collecting markdown-it-py>=2.2.0 (from rich->ehrapy)\n",
      "  Using cached markdown_it_py-3.0.0-py3-none-any.whl.metadata (6.9 kB)\n",
      "Requirement already satisfied: pygments<3.0.0,>=2.13.0 in c:\\users\\test\\anaconda3\\envs\\annot\\lib\\site-packages (from rich->ehrapy) (2.19.1)\n",
      "Requirement already satisfied: anndata>=0.8 in c:\\users\\test\\anaconda3\\envs\\annot\\lib\\site-packages (from scanpy[leiden]->ehrapy) (0.11.3)\n",
      "Requirement already satisfied: h5py>=3.6 in c:\\users\\test\\anaconda3\\envs\\annot\\lib\\site-packages (from scanpy[leiden]->ehrapy) (3.13.0)\n",
      "Requirement already satisfied: legacy-api-wrap>=1.4 in c:\\users\\test\\anaconda3\\envs\\annot\\lib\\site-packages (from scanpy[leiden]->ehrapy) (1.4.1)\n",
      "Requirement already satisfied: natsort in c:\\users\\test\\anaconda3\\envs\\annot\\lib\\site-packages (from scanpy[leiden]->ehrapy) (8.4.0)\n",
      "Requirement already satisfied: packaging>=21.3 in c:\\users\\test\\anaconda3\\envs\\annot\\lib\\site-packages (from scanpy[leiden]->ehrapy) (24.2)\n",
      "Requirement already satisfied: patsy!=1.0.0 in c:\\users\\test\\anaconda3\\envs\\annot\\lib\\site-packages (from scanpy[leiden]->ehrapy) (1.0.1)\n",
      "Requirement already satisfied: session-info in c:\\users\\test\\anaconda3\\envs\\annot\\lib\\site-packages (from scanpy[leiden]->ehrapy) (1.0.0)\n",
      "Requirement already satisfied: umap-learn!=0.5.0,>=0.5 in c:\\users\\test\\anaconda3\\envs\\annot\\lib\\site-packages (from scanpy[leiden]->ehrapy) (0.5.7)\n",
      "Requirement already satisfied: igraph>=0.10 in c:\\users\\test\\anaconda3\\envs\\annot\\lib\\site-packages (from scanpy[leiden]->ehrapy) (0.11.8)\n",
      "Requirement already satisfied: leidenalg>=0.9.0 in c:\\users\\test\\anaconda3\\envs\\annot\\lib\\site-packages (from scanpy[leiden]->ehrapy) (0.10.2)\n",
      "Requirement already satisfied: jinja2>=3.1.4 in c:\\users\\test\\anaconda3\\envs\\annot\\lib\\site-packages (from tableone->ehrapy) (3.1.5)\n",
      "Collecting openpyxl>=3.1.2 (from tableone->ehrapy)\n",
      "  Using cached openpyxl-3.1.5-py2.py3-none-any.whl.metadata (2.5 kB)\n",
      "Collecting tabulate>=0.9.0 (from tableone->ehrapy)\n",
      "  Using cached tabulate-0.9.0-py3-none-any.whl.metadata (34 kB)\n",
      "Collecting rapidfuzz<4.0.0,>=3.0.0 (from thefuzz[speedup]->ehrapy)\n",
      "  Using cached rapidfuzz-3.12.2-cp311-cp311-win_amd64.whl.metadata (12 kB)\n",
      "Requirement already satisfied: array-api-compat!=1.5,>1.4 in c:\\users\\test\\anaconda3\\envs\\annot\\lib\\site-packages (from anndata>=0.8->scanpy[leiden]->ehrapy) (1.10.0)\n",
      "Collecting graphviz (from causal-learn>=0.1.3.0->dowhy->ehrapy)\n",
      "  Using cached graphviz-0.20.3-py3-none-any.whl.metadata (12 kB)\n",
      "Collecting pydot (from causal-learn>=0.1.3.0->dowhy->ehrapy)\n",
      "  Using cached pydot-3.0.4-py3-none-any.whl.metadata (10 kB)\n",
      "Collecting momentchi2 (from causal-learn>=0.1.3.0->dowhy->ehrapy)\n",
      "  Using cached momentchi2-0.1.8-py3-none-any.whl.metadata (6.1 kB)\n",
      "Collecting osqp>=0.6.2 (from cvxpy>=1.2.2->dowhy->ehrapy)\n",
      "  Using cached osqp-0.6.7.post3-cp311-cp311-win_amd64.whl.metadata (2.0 kB)\n",
      "Collecting clarabel>=0.5.0 (from cvxpy>=1.2.2->dowhy->ehrapy)\n",
      "  Using cached clarabel-0.10.0-cp39-abi3-win_amd64.whl.metadata (4.8 kB)\n",
      "Collecting scs>=3.2.4.post1 (from cvxpy>=1.2.2->dowhy->ehrapy)\n",
      "  Using cached scs-3.2.7.post2-cp311-cp311-win_amd64.whl.metadata (2.1 kB)\n",
      "Collecting interface-meta>=1.2.0 (from formulaic>=0.2.2->lifelines->ehrapy)\n",
      "  Using cached interface_meta-1.3.0-py3-none-any.whl.metadata (6.7 kB)\n",
      "Requirement already satisfied: typing-extensions>=4.2.0 in c:\\users\\test\\anaconda3\\envs\\annot\\lib\\site-packages (from formulaic>=0.2.2->lifelines->ehrapy) (4.12.2)\n",
      "Collecting wrapt>=1.0 (from formulaic>=0.2.2->lifelines->ehrapy)\n",
      "  Using cached wrapt-1.17.2-cp311-cp311-win_amd64.whl.metadata (6.5 kB)\n",
      "Requirement already satisfied: texttable>=1.6.2 in c:\\users\\test\\anaconda3\\envs\\annot\\lib\\site-packages (from igraph>=0.10->scanpy[leiden]->ehrapy) (1.7.0)\n",
      "Requirement already satisfied: MarkupSafe>=2.0 in c:\\users\\test\\anaconda3\\envs\\annot\\lib\\site-packages (from jinja2>=3.1.4->tableone->ehrapy) (3.0.2)\n",
      "Collecting mdurl~=0.1 (from markdown-it-py>=2.2.0->rich->ehrapy)\n",
      "  Using cached mdurl-0.1.2-py3-none-any.whl.metadata (1.6 kB)\n",
      "Requirement already satisfied: contourpy>=1.0.1 in c:\\users\\test\\anaconda3\\envs\\annot\\lib\\site-packages (from matplotlib>=3.0->lifelines->ehrapy) (1.3.1)\n",
      "Requirement already satisfied: cycler>=0.10 in c:\\users\\test\\anaconda3\\envs\\annot\\lib\\site-packages (from matplotlib>=3.0->lifelines->ehrapy) (0.12.1)\n",
      "Requirement already satisfied: fonttools>=4.22.0 in c:\\users\\test\\anaconda3\\envs\\annot\\lib\\site-packages (from matplotlib>=3.0->lifelines->ehrapy) (4.56.0)\n",
      "Requirement already satisfied: kiwisolver>=1.3.1 in c:\\users\\test\\anaconda3\\envs\\annot\\lib\\site-packages (from matplotlib>=3.0->lifelines->ehrapy) (1.4.7)\n",
      "Requirement already satisfied: pillow>=8 in c:\\users\\test\\anaconda3\\envs\\annot\\lib\\site-packages (from matplotlib>=3.0->lifelines->ehrapy) (11.1.0)\n",
      "Requirement already satisfied: pyparsing>=2.3.1 in c:\\users\\test\\anaconda3\\envs\\annot\\lib\\site-packages (from matplotlib>=3.0->lifelines->ehrapy) (3.2.1)\n",
      "Collecting et-xmlfile (from openpyxl>=3.1.2->tableone->ehrapy)\n",
      "  Using cached et_xmlfile-2.0.0-py3-none-any.whl.metadata (2.7 kB)\n",
      "Requirement already satisfied: pytz>=2020.1 in c:\\users\\test\\anaconda3\\envs\\annot\\lib\\site-packages (from pandas->fknni>=1.2.0->ehrapy) (2024.1)\n",
      "Requirement already satisfied: tzdata>=2022.7 in c:\\users\\test\\anaconda3\\envs\\annot\\lib\\site-packages (from pandas->fknni>=1.2.0->ehrapy) (2025.1)\n",
      "Collecting mpmath<1.4,>=1.1.0 (from sympy>=1.10.1->dowhy->ehrapy)\n",
      "  Using cached mpmath-1.3.0-py3-none-any.whl.metadata (8.6 kB)\n",
      "Requirement already satisfied: colorama in c:\\users\\test\\anaconda3\\envs\\annot\\lib\\site-packages (from tqdm>=4.64.0->dowhy->ehrapy) (0.4.6)\n",
      "Collecting google-api-core<3.0.0dev,>=2.11.1 (from google-api-core[grpc]<3.0.0dev,>=2.11.1->google-cloud-bigquery->fhiry->ehrapy)\n",
      "  Using cached google_api_core-2.24.2-py3-none-any.whl.metadata (3.0 kB)\n",
      "Collecting google-auth<3.0.0dev,>=2.14.1 (from google-cloud-bigquery->fhiry->ehrapy)\n",
      "  Using cached google_auth-2.38.0-py2.py3-none-any.whl.metadata (4.8 kB)\n",
      "Collecting google-cloud-core<3.0.0dev,>=2.4.1 (from google-cloud-bigquery->fhiry->ehrapy)\n",
      "  Using cached google_cloud_core-2.4.3-py2.py3-none-any.whl.metadata (2.7 kB)\n",
      "Collecting google-resumable-media<3.0dev,>=2.0.0 (from google-cloud-bigquery->fhiry->ehrapy)\n",
      "  Using cached google_resumable_media-2.7.2-py2.py3-none-any.whl.metadata (2.2 kB)\n",
      "Requirement already satisfied: stdlib-list in c:\\users\\test\\anaconda3\\envs\\annot\\lib\\site-packages (from session-info->scanpy[leiden]->ehrapy) (0.11.1)\n",
      "Collecting googleapis-common-protos<2.0.0,>=1.56.2 (from google-api-core<3.0.0dev,>=2.11.1->google-api-core[grpc]<3.0.0dev,>=2.11.1->google-cloud-bigquery->fhiry->ehrapy)\n",
      "  Using cached googleapis_common_protos-1.69.1-py2.py3-none-any.whl.metadata (9.3 kB)\n",
      "Collecting protobuf!=3.20.0,!=3.20.1,!=4.21.0,!=4.21.1,!=4.21.2,!=4.21.3,!=4.21.4,!=4.21.5,<7.0.0,>=3.19.5 (from google-api-core<3.0.0dev,>=2.11.1->google-api-core[grpc]<3.0.0dev,>=2.11.1->google-cloud-bigquery->fhiry->ehrapy)\n",
      "  Using cached protobuf-6.30.0-cp310-abi3-win_amd64.whl.metadata (593 bytes)\n",
      "Collecting proto-plus<2.0.0,>=1.22.3 (from google-api-core<3.0.0dev,>=2.11.1->google-api-core[grpc]<3.0.0dev,>=2.11.1->google-cloud-bigquery->fhiry->ehrapy)\n",
      "  Using cached proto_plus-1.26.1-py3-none-any.whl.metadata (2.2 kB)\n",
      "Collecting grpcio<2.0dev,>=1.33.2 (from google-api-core[grpc]<3.0.0dev,>=2.11.1->google-cloud-bigquery->fhiry->ehrapy)\n",
      "  Using cached grpcio-1.71.0-cp311-cp311-win_amd64.whl.metadata (4.0 kB)\n",
      "Collecting grpcio-status<2.0.dev0,>=1.33.2 (from google-api-core[grpc]<3.0.0dev,>=2.11.1->google-cloud-bigquery->fhiry->ehrapy)\n",
      "  Using cached grpcio_status-1.71.0-py3-none-any.whl.metadata (1.1 kB)\n",
      "Collecting cachetools<6.0,>=2.0.0 (from google-auth<3.0.0dev,>=2.14.1->google-cloud-bigquery->fhiry->ehrapy)\n",
      "  Using cached cachetools-5.5.2-py3-none-any.whl.metadata (5.4 kB)\n",
      "Collecting pyasn1-modules>=0.2.1 (from google-auth<3.0.0dev,>=2.14.1->google-cloud-bigquery->fhiry->ehrapy)\n",
      "  Using cached pyasn1_modules-0.4.1-py3-none-any.whl.metadata (3.5 kB)\n",
      "Collecting rsa<5,>=3.1.4 (from google-auth<3.0.0dev,>=2.14.1->google-cloud-bigquery->fhiry->ehrapy)\n",
      "  Using cached rsa-4.9-py3-none-any.whl.metadata (4.2 kB)\n",
      "Collecting google-crc32c<2.0dev,>=1.0 (from google-resumable-media<3.0dev,>=2.0.0->google-cloud-bigquery->fhiry->ehrapy)\n",
      "  Using cached google_crc32c-1.6.0-cp311-cp311-win_amd64.whl.metadata (2.4 kB)\n",
      "Collecting qdldl (from osqp>=0.6.2->cvxpy>=1.2.2->dowhy->ehrapy)\n",
      "  Using cached qdldl-0.1.7.post5-cp311-cp311-win_amd64.whl.metadata (1.8 kB)\n",
      "Collecting protobuf!=3.20.0,!=3.20.1,!=4.21.0,!=4.21.1,!=4.21.2,!=4.21.3,!=4.21.4,!=4.21.5,<7.0.0,>=3.19.5 (from google-api-core<3.0.0dev,>=2.11.1->google-api-core[grpc]<3.0.0dev,>=2.11.1->google-cloud-bigquery->fhiry->ehrapy)\n",
      "  Using cached protobuf-5.29.3-cp310-abi3-win_amd64.whl.metadata (592 bytes)\n",
      "Collecting pyasn1<0.7.0,>=0.4.6 (from pyasn1-modules>=0.2.1->google-auth<3.0.0dev,>=2.14.1->google-cloud-bigquery->fhiry->ehrapy)\n",
      "  Using cached pyasn1-0.6.1-py3-none-any.whl.metadata (8.4 kB)\n",
      "Using cached ehrapy-0.12.0-py3-none-any.whl (165 kB)\n",
      "Using cached fknni-1.2.0-py3-none-any.whl (9.7 kB)\n",
      "Using cached dowhy-0.12-py3-none-any.whl (398 kB)\n",
      "Using cached fhiry-4.0.0-py2.py3-none-any.whl (13 kB)\n",
      "Using cached filelock-3.17.0-py3-none-any.whl (16 kB)\n",
      "Using cached imbalanced_learn-0.13.0-py3-none-any.whl (238 kB)\n",
      "Using cached lamin_utils-0.13.11-py2.py3-none-any.whl (25 kB)\n",
      "Using cached lifelines-0.30.0-py3-none-any.whl (349 kB)\n",
      "Using cached miceforest-6.0.3-py3-none-any.whl (40 kB)\n",
      "Using cached missingno-0.5.2-py3-none-any.whl (8.7 kB)\n",
      "Using cached pyampute-0.0.3-py3-none-any.whl (20 kB)\n",
      "Using cached rich-13.9.4-py3-none-any.whl (242 kB)\n",
      "Using cached scikit_misc-0.5.1-cp311-cp311-win_amd64.whl (157 kB)\n",
      "Using cached session_info2-0.1.2-py3-none-any.whl (14 kB)\n",
      "Using cached tableone-0.9.1-py3-none-any.whl (41 kB)\n",
      "Using cached autograd-1.7.0-py3-none-any.whl (52 kB)\n",
      "Using cached causal_learn-0.1.4.0-py3-none-any.whl (192 kB)\n",
      "Using cached cvxpy-1.6.3-cp311-cp311-win_amd64.whl (1.1 MB)\n",
      "Using cached Cython-0.29.37-py2.py3-none-any.whl (989 kB)\n",
      "Using cached formulaic-1.1.1-py3-none-any.whl (115 kB)\n",
      "Using cached markdown_it_py-3.0.0-py3-none-any.whl (87 kB)\n",
      "Using cached numpy-1.26.4-cp311-cp311-win_amd64.whl (15.8 MB)\n",
      "Using cached openpyxl-3.1.5-py2.py3-none-any.whl (250 kB)\n",
      "Using cached pyarrow-19.0.1-cp311-cp311-win_amd64.whl (25.3 MB)\n",
      "Using cached rapidfuzz-3.12.2-cp311-cp311-win_amd64.whl (1.6 MB)\n",
      "Using cached sklearn_compat-0.1.3-py3-none-any.whl (18 kB)\n",
      "Using cached sympy-1.13.3-py3-none-any.whl (6.2 MB)\n",
      "Using cached tabulate-0.9.0-py3-none-any.whl (35 kB)\n",
      "Using cached db_dtypes-1.4.2-py2.py3-none-any.whl (18 kB)\n",
      "Using cached faiss_cpu-1.10.0-cp311-cp311-win_amd64.whl (13.7 MB)\n",
      "Using cached google_cloud_bigquery-3.30.0-py2.py3-none-any.whl (247 kB)\n",
      "Using cached thefuzz-0.22.1-py3-none-any.whl (8.2 kB)\n",
      "Using cached timeago-1.0.16-py3-none-any.whl (29 kB)\n",
      "Downloading clarabel-0.10.0-cp39-abi3-win_amd64.whl (742 kB)\n",
      "   ---------------------------------------- 0.0/742.5 kB ? eta -:--:--\n",
      "   ---------------------------------------- 742.5/742.5 kB 7.7 MB/s eta 0:00:00\n",
      "Downloading google_api_core-2.24.2-py3-none-any.whl (160 kB)\n",
      "Downloading google_auth-2.38.0-py2.py3-none-any.whl (210 kB)\n",
      "Downloading google_cloud_core-2.4.3-py2.py3-none-any.whl (29 kB)\n",
      "Downloading google_resumable_media-2.7.2-py2.py3-none-any.whl (81 kB)\n",
      "Using cached interface_meta-1.3.0-py3-none-any.whl (14 kB)\n",
      "Downloading mdurl-0.1.2-py3-none-any.whl (10.0 kB)\n",
      "Downloading mpmath-1.3.0-py3-none-any.whl (536 kB)\n",
      "   ---------------------------------------- 0.0/536.2 kB ? eta -:--:--\n",
      "   ---------------------------------------- 536.2/536.2 kB 8.8 MB/s eta 0:00:00\n",
      "Downloading osqp-0.6.7.post3-cp311-cp311-win_amd64.whl (293 kB)\n",
      "Downloading scs-3.2.7.post2-cp311-cp311-win_amd64.whl (7.4 MB)\n",
      "   ---------------------------------------- 0.0/7.4 MB ? eta -:--:--\n",
      "   ---------------------------------------  7.3/7.4 MB 50.2 MB/s eta 0:00:01\n",
      "   ---------------------------------------- 7.4/7.4 MB 35.3 MB/s eta 0:00:00\n",
      "Downloading wrapt-1.17.2-cp311-cp311-win_amd64.whl (38 kB)\n",
      "Using cached et_xmlfile-2.0.0-py3-none-any.whl (18 kB)\n",
      "Downloading graphviz-0.20.3-py3-none-any.whl (47 kB)\n",
      "Downloading momentchi2-0.1.8-py3-none-any.whl (11 kB)\n",
      "Downloading pydot-3.0.4-py3-none-any.whl (35 kB)\n",
      "Downloading cachetools-5.5.2-py3-none-any.whl (10 kB)\n",
      "Downloading google_crc32c-1.6.0-cp311-cp311-win_amd64.whl (33 kB)\n",
      "Downloading googleapis_common_protos-1.69.1-py2.py3-none-any.whl (293 kB)\n",
      "Downloading grpcio-1.71.0-cp311-cp311-win_amd64.whl (4.3 MB)\n",
      "   ---------------------------------------- 0.0/4.3 MB ? eta -:--:--\n",
      "   ---------------------------------------- 4.3/4.3 MB 42.8 MB/s eta 0:00:00\n",
      "Downloading grpcio_status-1.71.0-py3-none-any.whl (14 kB)\n",
      "Downloading proto_plus-1.26.1-py3-none-any.whl (50 kB)\n",
      "Downloading protobuf-5.29.3-cp310-abi3-win_amd64.whl (434 kB)\n",
      "Downloading pyasn1_modules-0.4.1-py3-none-any.whl (181 kB)\n",
      "Downloading rsa-4.9-py3-none-any.whl (34 kB)\n",
      "Downloading qdldl-0.1.7.post5-cp311-cp311-win_amd64.whl (90 kB)\n",
      "Downloading pyasn1-0.6.1-py3-none-any.whl (83 kB)\n",
      "Building wheels for collected packages: autograd-gamma, prodict\n",
      "  Building wheel for autograd-gamma (setup.py): started\n",
      "  Building wheel for autograd-gamma (setup.py): finished with status 'done'\n",
      "  Created wheel for autograd-gamma: filename=autograd_gamma-0.5.0-py3-none-any.whl size=4105 sha256=8a0220a1ea1567c5f528dfe2806061e5832a80112cced9b85d57ff240db894af\n",
      "  Stored in directory: c:\\users\\test\\appdata\\local\\pip\\cache\\wheels\\8b\\67\\f4\\2caaae2146198dcb824f31a303833b07b14a5ec863fb3acd7b\n",
      "  Building wheel for prodict (pyproject.toml): started\n",
      "  Building wheel for prodict (pyproject.toml): finished with status 'done'\n",
      "  Created wheel for prodict: filename=prodict-0.8.20-py3-none-any.whl size=3920 sha256=1ea2c2be0cc93554a07d0d82c8d2e7b1f38cc3660fd7acd50b8ab3ef65ff43ad\n",
      "  Stored in directory: c:\\users\\test\\appdata\\local\\pip\\cache\\wheels\\f8\\78\\32\\1456a5830602bda8008db1814bcdd60720c295aeb78789e42f\n",
      "Successfully built autograd-gamma prodict\n",
      "Installing collected packages: timeago, mpmath, lamin-utils, wrapt, tabulate, sympy, session-info2, rapidfuzz, pydot, pyasn1, pyarrow, protobuf, prodict, numpy, mdurl, interface-meta, grpcio, graphviz, google-crc32c, filelock, et-xmlfile, cython, cachetools, thefuzz, scikit-misc, rsa, pyasn1-modules, proto-plus, openpyxl, markdown-it-py, googleapis-common-protos, google-resumable-media, faiss-cpu, autograd, scs, rich, qdldl, momentchi2, grpcio-status, google-auth, formulaic, db-dtypes, clarabel, autograd-gamma, tableone, sklearn-compat, pyampute, osqp, miceforest, lifelines, google-api-core, fknni, causal-learn, missingno, imbalanced-learn, google-cloud-core, cvxpy, google-cloud-bigquery, dowhy, fhiry, ehrapy\n",
      "  Attempting uninstall: numpy\n",
      "    Found existing installation: numpy 2.1.3\n",
      "    Uninstalling numpy-2.1.3:\n",
      "      Successfully uninstalled numpy-2.1.3\n",
      "Successfully installed autograd-1.7.0 autograd-gamma-0.5.0 cachetools-5.5.2 causal-learn-0.1.4.0 clarabel-0.10.0 cvxpy-1.6.3 cython-0.29.37 db-dtypes-1.4.2 dowhy-0.12 ehrapy-0.12.0 et-xmlfile-2.0.0 faiss-cpu-1.10.0 fhiry-4.0.0 filelock-3.17.0 fknni-1.2.0 formulaic-1.1.1 google-api-core-2.24.2 google-auth-2.38.0 google-cloud-bigquery-3.30.0 google-cloud-core-2.4.3 google-crc32c-1.6.0 google-resumable-media-2.7.2 googleapis-common-protos-1.69.1 graphviz-0.20.3 grpcio-1.71.0 grpcio-status-1.71.0 imbalanced-learn-0.13.0 interface-meta-1.3.0 lamin-utils-0.13.11 lifelines-0.30.0 markdown-it-py-3.0.0 mdurl-0.1.2 miceforest-6.0.3 missingno-0.5.2 momentchi2-0.1.8 mpmath-1.3.0 numpy-1.26.4 openpyxl-3.1.5 osqp-0.6.7.post3 prodict-0.8.20 proto-plus-1.26.1 protobuf-5.29.3 pyampute-0.0.3 pyarrow-19.0.1 pyasn1-0.6.1 pyasn1-modules-0.4.1 pydot-3.0.4 qdldl-0.1.7.post5 rapidfuzz-3.12.2 rich-13.9.4 rsa-4.9 scikit-misc-0.5.1 scs-3.2.7.post2 session-info2-0.1.2 sklearn-compat-0.1.3 sympy-1.13.3 tableone-0.9.1 tabulate-0.9.0 thefuzz-0.22.1 timeago-1.0.16 wrapt-1.17.2\n",
      "Note: you may need to restart the kernel to use updated packages.\n"
     ]
    }
   ],
   "source": [
    "pip install ehrapy"
   ]
  },
  {
   "cell_type": "code",
   "execution_count": 9,
   "id": "6b0ea320-a6be-4ddf-b075-2219b3bb399c",
   "metadata": {},
   "outputs": [],
   "source": [
    "import ehrapy as ep\n",
    "from sklearn.impute import KNNImputer"
   ]
  },
  {
   "cell_type": "code",
   "execution_count": 12,
   "id": "b0cff7a5-285c-4511-8d70-57ce26af0571",
   "metadata": {},
   "outputs": [
    {
     "name": "stdout",
     "output_type": "stream",
     "text": [
      "[[  8564.74    19492.7    160103.     ...  38799.4      1263.54\n",
      "   15399.4   ]\n",
      " [  8564.74    21016.      76261.7    ...  39394.9      1198.02\n",
      "   14672.9   ]\n",
      " [  4725.915   20000.1    169301.     ...  38115.8      1473.9\n",
      "   14499.3   ]\n",
      " ...\n",
      " [ 10039.3     22417.1    124142.     ...  51473.7      2307.\n",
      "   14743.2   ]\n",
      " [  7904.9746 119562.5    123474.95   ...  45482.9      1699.925\n",
      "   16548.55  ]\n",
      " [ 13106.25    21872.2    155874.     ...  52962.5      1010.91\n",
      "   16261.9   ]]\n"
     ]
    }
   ],
   "source": [
    "#imputation using KNN\n",
    "imputer = KNNImputer(n_neighbors=2)\n",
    "X = imputer.fit_transform(adatas_red[0].X)\n",
    "print(X)"
   ]
  },
  {
   "cell_type": "code",
   "execution_count": 14,
   "id": "df925bf2-2a63-410a-a25e-6a5ba114c34c",
   "metadata": {},
   "outputs": [
    {
     "name": "stdout",
     "output_type": "stream",
     "text": [
      "Collecting missingpy\n",
      "  Downloading missingpy-0.2.0-py3-none-any.whl.metadata (20 kB)\n",
      "Downloading missingpy-0.2.0-py3-none-any.whl (49 kB)\n",
      "Installing collected packages: missingpy\n",
      "Successfully installed missingpy-0.2.0\n",
      "Note: you may need to restart the kernel to use updated packages.\n"
     ]
    }
   ],
   "source": [
    "pip install missingpy"
   ]
  },
  {
   "cell_type": "code",
   "execution_count": 17,
   "id": "2dcb9418-c319-404a-9e3f-c5415e24a27d",
   "metadata": {},
   "outputs": [
    {
     "name": "stdout",
     "output_type": "stream",
     "text": [
      "Collecting sklearn\n",
      "  Downloading sklearn-0.0.post12.tar.gz (2.6 kB)\n",
      "  Preparing metadata (setup.py): started\n",
      "  Preparing metadata (setup.py): finished with status 'error'\n",
      "Note: you may need to restart the kernel to use updated packages.\n"
     ]
    },
    {
     "name": "stderr",
     "output_type": "stream",
     "text": [
      "  error: subprocess-exited-with-error\n",
      "  \n",
      "  python setup.py egg_info did not run successfully.\n",
      "  exit code: 1\n",
      "  \n",
      "  [15 lines of output]\n",
      "  The 'sklearn' PyPI package is deprecated, use 'scikit-learn'\n",
      "  rather than 'sklearn' for pip commands.\n",
      "  \n",
      "  Here is how to fix this error in the main use cases:\n",
      "  - use 'pip install scikit-learn' rather than 'pip install sklearn'\n",
      "  - replace 'sklearn' by 'scikit-learn' in your pip requirements files\n",
      "    (requirements.txt, setup.py, setup.cfg, Pipfile, etc ...)\n",
      "  - if the 'sklearn' package is used by one of your dependencies,\n",
      "    it would be great if you take some time to track which package uses\n",
      "    'sklearn' instead of 'scikit-learn' and report it to their issue tracker\n",
      "  - as a last resort, set the environment variable\n",
      "    SKLEARN_ALLOW_DEPRECATED_SKLEARN_PACKAGE_INSTALL=True to avoid this error\n",
      "  \n",
      "  More information is available at\n",
      "  https://github.com/scikit-learn/sklearn-pypi-package\n",
      "  [end of output]\n",
      "  \n",
      "  note: This error originates from a subprocess, and is likely not a problem with pip.\n",
      "error: metadata-generation-failed\n",
      "\n",
      "Encountered error while generating package metadata.\n",
      "\n",
      "See above for output.\n",
      "\n",
      "note: This is an issue with the package mentioned above, not pip.\n",
      "hint: See above for details.\n"
     ]
    }
   ],
   "source": [
    "pip install sklearn"
   ]
  },
  {
   "cell_type": "code",
   "execution_count": 19,
   "id": "3a2e5009-720c-43bf-8483-e6353c905d03",
   "metadata": {},
   "outputs": [
    {
     "ename": "ModuleNotFoundError",
     "evalue": "No module named 'sklearn.neighbors.base'",
     "output_type": "error",
     "traceback": [
      "\u001b[1;31m---------------------------------------------------------------------------\u001b[0m",
      "\u001b[1;31mModuleNotFoundError\u001b[0m                       Traceback (most recent call last)",
      "Cell \u001b[1;32mIn[19], line 1\u001b[0m\n\u001b[1;32m----> 1\u001b[0m \u001b[38;5;28;01mfrom\u001b[39;00m\u001b[38;5;250m \u001b[39m\u001b[38;5;21;01mmissingpy\u001b[39;00m\u001b[38;5;250m \u001b[39m\u001b[38;5;28;01mimport\u001b[39;00m MissForest\n\u001b[0;32m      3\u001b[0m imputer \u001b[38;5;241m=\u001b[39m MissForest(n_estimators\u001b[38;5;241m=\u001b[39m\u001b[38;5;241m100\u001b[39m, max_iter\u001b[38;5;241m=\u001b[39m\u001b[38;5;241m10\u001b[39m, random_state\u001b[38;5;241m=\u001b[39m\u001b[38;5;241m42\u001b[39m)\n\u001b[0;32m      4\u001b[0m adatas_red[\u001b[38;5;241m0\u001b[39m]\u001b[38;5;241m.\u001b[39mX \u001b[38;5;241m=\u001b[39m imputer\u001b[38;5;241m.\u001b[39mfit_transform(adatas_red[\u001b[38;5;241m0\u001b[39m]\u001b[38;5;241m.\u001b[39mX)\n",
      "File \u001b[1;32m~\\anaconda3\\envs\\annot\\Lib\\site-packages\\missingpy\\__init__.py:1\u001b[0m\n\u001b[1;32m----> 1\u001b[0m \u001b[38;5;28;01mfrom\u001b[39;00m\u001b[38;5;250m \u001b[39m\u001b[38;5;21;01m.\u001b[39;00m\u001b[38;5;21;01mknnimpute\u001b[39;00m\u001b[38;5;250m \u001b[39m\u001b[38;5;28;01mimport\u001b[39;00m KNNImputer\n\u001b[0;32m      2\u001b[0m \u001b[38;5;28;01mfrom\u001b[39;00m\u001b[38;5;250m \u001b[39m\u001b[38;5;21;01m.\u001b[39;00m\u001b[38;5;21;01mmissforest\u001b[39;00m\u001b[38;5;250m \u001b[39m\u001b[38;5;28;01mimport\u001b[39;00m MissForest\n\u001b[0;32m      4\u001b[0m __all__ \u001b[38;5;241m=\u001b[39m [\u001b[38;5;124m'\u001b[39m\u001b[38;5;124mKNNImputer\u001b[39m\u001b[38;5;124m'\u001b[39m, \u001b[38;5;124m'\u001b[39m\u001b[38;5;124mMissForest\u001b[39m\u001b[38;5;124m'\u001b[39m]\n",
      "File \u001b[1;32m~\\anaconda3\\envs\\annot\\Lib\\site-packages\\missingpy\\knnimpute.py:13\u001b[0m\n\u001b[0;32m     11\u001b[0m \u001b[38;5;28;01mfrom\u001b[39;00m\u001b[38;5;250m \u001b[39m\u001b[38;5;21;01msklearn\u001b[39;00m\u001b[38;5;21;01m.\u001b[39;00m\u001b[38;5;21;01mutils\u001b[39;00m\u001b[38;5;21;01m.\u001b[39;00m\u001b[38;5;21;01mvalidation\u001b[39;00m\u001b[38;5;250m \u001b[39m\u001b[38;5;28;01mimport\u001b[39;00m check_is_fitted\n\u001b[0;32m     12\u001b[0m \u001b[38;5;28;01mfrom\u001b[39;00m\u001b[38;5;250m \u001b[39m\u001b[38;5;21;01msklearn\u001b[39;00m\u001b[38;5;21;01m.\u001b[39;00m\u001b[38;5;21;01mutils\u001b[39;00m\u001b[38;5;21;01m.\u001b[39;00m\u001b[38;5;21;01mvalidation\u001b[39;00m\u001b[38;5;250m \u001b[39m\u001b[38;5;28;01mimport\u001b[39;00m FLOAT_DTYPES\n\u001b[1;32m---> 13\u001b[0m \u001b[38;5;28;01mfrom\u001b[39;00m\u001b[38;5;250m \u001b[39m\u001b[38;5;21;01msklearn\u001b[39;00m\u001b[38;5;21;01m.\u001b[39;00m\u001b[38;5;21;01mneighbors\u001b[39;00m\u001b[38;5;21;01m.\u001b[39;00m\u001b[38;5;21;01mbase\u001b[39;00m\u001b[38;5;250m \u001b[39m\u001b[38;5;28;01mimport\u001b[39;00m _check_weights\n\u001b[0;32m     14\u001b[0m \u001b[38;5;28;01mfrom\u001b[39;00m\u001b[38;5;250m \u001b[39m\u001b[38;5;21;01msklearn\u001b[39;00m\u001b[38;5;21;01m.\u001b[39;00m\u001b[38;5;21;01mneighbors\u001b[39;00m\u001b[38;5;21;01m.\u001b[39;00m\u001b[38;5;21;01mbase\u001b[39;00m\u001b[38;5;250m \u001b[39m\u001b[38;5;28;01mimport\u001b[39;00m _get_weights\n\u001b[0;32m     16\u001b[0m \u001b[38;5;28;01mfrom\u001b[39;00m\u001b[38;5;250m \u001b[39m\u001b[38;5;21;01m.\u001b[39;00m\u001b[38;5;21;01mpairwise_external\u001b[39;00m\u001b[38;5;250m \u001b[39m\u001b[38;5;28;01mimport\u001b[39;00m pairwise_distances\n",
      "\u001b[1;31mModuleNotFoundError\u001b[0m: No module named 'sklearn.neighbors.base'"
     ]
    }
   ],
   "source": [
    "from missingpy import MissForest\n",
    "\n",
    "imputer = MissForest(n_estimators=100, max_iter=10, random_state=42)\n",
    "adatas_red[0].X = imputer.fit_transform(adatas_red[0].X)"
   ]
  },
  {
   "cell_type": "code",
   "execution_count": null,
   "id": "d0f1bfeb-c8f2-4f09-b928-2665bef98aa9",
   "metadata": {},
   "outputs": [],
   "source": []
  },
  {
   "cell_type": "code",
   "execution_count": null,
   "id": "fc057442-2fb7-483c-a590-c8cf8a751eca",
   "metadata": {},
   "outputs": [],
   "source": []
  },
  {
   "cell_type": "code",
   "execution_count": null,
   "id": "702db506-532b-4c57-bace-6e4cb5ed0c1b",
   "metadata": {},
   "outputs": [],
   "source": []
  },
  {
   "cell_type": "code",
   "execution_count": null,
   "id": "84f18d8f-0bb4-4f18-9e9f-5b706706aed1",
   "metadata": {},
   "outputs": [],
   "source": []
  },
  {
   "cell_type": "code",
   "execution_count": null,
   "id": "6ba4a003-9aa8-48ff-b946-a805544fcdc4",
   "metadata": {},
   "outputs": [],
   "source": []
  }
 ],
 "metadata": {
  "kernelspec": {
   "display_name": "Python 3 (ipykernel)",
   "language": "python",
   "name": "python3"
  },
  "language_info": {
   "codemirror_mode": {
    "name": "ipython",
    "version": 3
   },
   "file_extension": ".py",
   "mimetype": "text/x-python",
   "name": "python",
   "nbconvert_exporter": "python",
   "pygments_lexer": "ipython3",
   "version": "3.11.11"
  }
 },
 "nbformat": 4,
 "nbformat_minor": 5
}
