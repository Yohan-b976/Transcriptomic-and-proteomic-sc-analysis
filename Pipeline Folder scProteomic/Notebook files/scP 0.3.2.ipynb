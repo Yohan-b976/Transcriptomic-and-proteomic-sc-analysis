{
 "cells": [
  {
   "cell_type": "code",
   "execution_count": null,
   "id": "0b5ac35a-1588-4f81-bdac-f1a3037d834c",
   "metadata": {},
   "outputs": [],
   "source": [
    "#%pip install openpyxl"
   ]
  },
  {
   "cell_type": "code",
   "execution_count": null,
   "id": "98e6c044-5c68-4580-bc4f-f3cb36c9a80c",
   "metadata": {},
   "outputs": [],
   "source": [
    "import scanpy as sc\n",
    "import os\n",
    "import seaborn as sns\n",
    "import matplotlib.pyplot as plt\n",
    "import pandas as pd\n",
    "from scipy.stats import median_abs_deviation as mad\n",
    "import numpy as np\n",
    "import anndata as adt\n",
    "from scipy.sparse import csr_matrix\n",
    "import umap\n",
    "import scanpy.external as sce"
   ]
  },
  {
   "cell_type": "code",
   "execution_count": null,
   "id": "be5aaaeb-a975-4803-97ab-b30a2ae9872b",
   "metadata": {},
   "outputs": [],
   "source": [
    "import warnings \n",
    "warnings.simplefilter(\"ignore\", FutureWarning)\n",
    "warnings.simplefilter(\"ignore\", UserWarning)\n",
    "warnings.simplefilter(\"ignore\", RuntimeWarning)"
   ]
  },
  {
   "cell_type": "code",
   "execution_count": null,
   "id": "d36708da-b70c-4084-8914-74e896c1b6ec",
   "metadata": {},
   "outputs": [],
   "source": [
    "path = 'C:/Users/MDV/Documents/Pipeline folder Yohan/scP/Data/data.treatment_allconditions_pg_.xlsx'"
   ]
  },
  {
   "cell_type": "markdown",
   "id": "8769720e-460d-404f-92c0-79dbf12427bf",
   "metadata": {},
   "source": [
    "# Dataset formating"
   ]
  },
  {
   "cell_type": "code",
   "execution_count": null,
   "id": "9ae19264-da95-4e69-948f-ddbdbdee570b",
   "metadata": {},
   "outputs": [],
   "source": [
    "sheets = pd.read_excel(path, sheet_name=None, header = None)"
   ]
  },
  {
   "cell_type": "code",
   "execution_count": null,
   "id": "9063df5f-dfd4-4669-958d-b1d2a2c479db",
   "metadata": {},
   "outputs": [],
   "source": [
    "cles = list(sheets.keys())"
   ]
  },
  {
   "cell_type": "code",
   "execution_count": null,
   "id": "d365fb35-8888-4e02-89c6-d5d857010694",
   "metadata": {},
   "outputs": [],
   "source": [
    "cles"
   ]
  },
  {
   "cell_type": "code",
   "execution_count": null,
   "id": "99ccc5dc-d40b-4de2-b329-96b1353e9a3e",
   "metadata": {},
   "outputs": [],
   "source": [
    "adatas = []\n",
    "\n",
    "for x in cles:\n",
    "    sheet_part = sheets[x]\n",
    "    var = sheet_part.iloc[1:, 0:5]  \n",
    "    obs = pd.DataFrame(sheet_part.iloc[0, 5:])  \n",
    "    data = sheet_part.iloc[1:, 5:].T\n",
    "\n",
    "    adata = sc.AnnData(X=data, obs=obs, var=var) #create anndata\n",
    "    \n",
    "    #remodele the indexs\n",
    "    #idx_var = pd.DataFrame(sheet_part.iloc[1:, 3]) \n",
    "    adata.obs.index = obs\n",
    "    \n",
    "    adata.obs.index = adata.obs.index.map(str)\n",
    "    adata.obs.index = adata.obs.index.str.replace(r\"[()']\", \"\", regex=True)\n",
    "    adata.obs.index = adata.obs.index.str.replace(\";\", \"\")\n",
    "    adata.obs.index = adata.obs.index.str.replace(\",\", \"\")\n",
    "\n",
    "\n",
    "    idx_var = pd.DataFrame(sheet_part.iloc[1:, 2])  # Index pour var (colonne cible)\n",
    "    adata.var.index = [str(idx[0]) if isinstance(idx, tuple) else str(idx) for idx in idx_var.iloc[:, 0]]\n",
    "    adata.var.index = [idx.replace(\"(\", \"\").replace(\")\", \"\").replace(\"'\", \"\").replace(\";\", \"\").replace(\",\", \"\") for idx in adata.var.index]\n",
    "    \n",
    "    adata.var.columns = sheet_part.iloc[0, 0:5]\n",
    "\n",
    "    \n",
    "    adata.obs = adata.obs.drop(columns=[0])\n",
    "    \n",
    "    adatas.append(adata)"
   ]
  },
  {
   "cell_type": "code",
   "execution_count": null,
   "id": "8f51980c-27f5-410f-ab6b-2756de877ed4",
   "metadata": {},
   "outputs": [],
   "source": [
    "adatas[0].var"
   ]
  },
  {
   "cell_type": "code",
   "execution_count": null,
   "id": "19e79090-9dc2-450c-b8bd-ed7d1de2a490",
   "metadata": {},
   "outputs": [],
   "source": [
    "np.nan_to_num(adatas[0].X, nan=0.0).min()"
   ]
  },
  {
   "cell_type": "code",
   "execution_count": null,
   "id": "4a095bf3-f9dc-4388-912a-0c84e81c8414",
   "metadata": {},
   "outputs": [],
   "source": [
    "np.nan_to_num(adatas[0].X, nan=0.0).max()"
   ]
  },
  {
   "cell_type": "code",
   "execution_count": null,
   "id": "41c8a49f-4efe-441a-b14d-b9f74fd156ed",
   "metadata": {},
   "outputs": [],
   "source": []
  },
  {
   "cell_type": "code",
   "execution_count": null,
   "id": "a2dff266-137a-4067-8970-b625baffed44",
   "metadata": {},
   "outputs": [],
   "source": []
  },
  {
   "cell_type": "code",
   "execution_count": null,
   "id": "1f2e2996-3e1f-4cec-b689-db5d8dd35e27",
   "metadata": {},
   "outputs": [],
   "source": []
  },
  {
   "cell_type": "code",
   "execution_count": null,
   "id": "8ff7b33f-dc3e-4b44-ab63-d6a97bf9abe6",
   "metadata": {},
   "outputs": [],
   "source": []
  },
  {
   "cell_type": "code",
   "execution_count": null,
   "id": "1cb3a7cb-d93d-4b9c-be44-782e37c1401a",
   "metadata": {},
   "outputs": [],
   "source": []
  },
  {
   "cell_type": "code",
   "execution_count": null,
   "id": "3a9545c9-73b6-445c-b4e1-b01cbd574453",
   "metadata": {},
   "outputs": [],
   "source": [
    "def load_it(i, adata):\n",
    "    adata.obs['Id'] = cles[i]\n",
    "    return adata"
   ]
  },
  {
   "cell_type": "code",
   "execution_count": null,
   "id": "0af75f92-d05e-43ff-ad54-ec7191ea5647",
   "metadata": {},
   "outputs": [],
   "source": [
    "adatas = [load_it(i, ad) for i, ad in enumerate(adatas)]"
   ]
  },
  {
   "cell_type": "code",
   "execution_count": null,
   "id": "4069bd88-6144-427e-a20b-a448d0aec50a",
   "metadata": {},
   "outputs": [],
   "source": [
    "from scipy.sparse import csr_matrix\n",
    "for ad in adatas: \n",
    "    \n",
    "    if isinstance(ad.X, np.ndarray):\n",
    "         ad.X = ad.X.astype(np.float32)\n",
    "\n",
    "    if isinstance(ad.X, csr_matrix):\n",
    "         ad.X = csr_matrix(ad.X, dtype=np.float32)\n",
    "    # Convertir toutes les colonnes de obs et var en chaînes\n",
    "    ad.obs = ad.obs.astype(str)\n",
    "    ad.var = ad.var.astype(str)\n",
    "\n",
    "    # Convertir les index d'obs et var en chaînes\n",
    "    ad.obs.index = ad.obs.index.map(str)\n",
    "    ad.var.index = ad.var.index.map(str)"
   ]
  },
  {
   "cell_type": "code",
   "execution_count": null,
   "id": "0f4f28f2-c62c-416c-974d-6febafaf36a5",
   "metadata": {},
   "outputs": [],
   "source": [
    "for ad in adatas:\n",
    "    unique_id = ad.obs['Id'][0]\n",
    "    file_path = os.path.join('C:/Users/MDV/Documents/Pipeline folder Yohan/scP/Data/', f'adata_{unique_id}.h5ad')\n",
    "    ad.write(file_path)\n",
    "    print(f\"Saved: {file_path}\")"
   ]
  },
  {
   "cell_type": "code",
   "execution_count": null,
   "id": "3a5a81a6-6fa0-436d-8231-e29a602172f1",
   "metadata": {},
   "outputs": [],
   "source": []
  },
  {
   "cell_type": "markdown",
   "id": "9208b515-2437-472c-9f07-b2cc3f11a11f",
   "metadata": {},
   "source": [
    "# Data exploration"
   ]
  },
  {
   "cell_type": "markdown",
   "id": "196435ae-5db6-447a-a381-24071e543d67",
   "metadata": {},
   "source": [
    "### Understanding of the data and dataset preparation"
   ]
  },
  {
   "cell_type": "code",
   "execution_count": null,
   "id": "a9a1386f-aabf-4551-b187-770fd872370d",
   "metadata": {},
   "outputs": [],
   "source": [
    "adatas = []\n",
    "data_dir = 'C:/Users/MDV/Documents/Pipeline folder Yohan/scP/Data'\n",
    "\n",
    "for filename in os.listdir(data_dir):\n",
    "    if filename.endswith('.h5ad'):\n",
    "            adata = sc.read_h5ad(os.path.join(data_dir, filename))\n",
    "            adata.var_names_make_unique()\n",
    "            adatas.append(adata)\n",
    "\n",
    "print(f\"Nombre de fichiers h5ad chargés avec succès : {len(adatas)}\")\n"
   ]
  },
  {
   "cell_type": "code",
   "execution_count": null,
   "id": "5ab35f7c-e04f-40f0-93ac-a98d780d7f4e",
   "metadata": {},
   "outputs": [],
   "source": [
    "for ad in adatas:\n",
    "    nbmiss = np.sum(np.isnan(ad.X))/ np.sum(np.size(ad.X)) *100# ad.X contient la matrice de données\n",
    "    print(f\"Pourcentage of NaN values: {nbmiss}%\")"
   ]
  },
  {
   "cell_type": "code",
   "execution_count": null,
   "id": "bd0d2fd2-a3f7-4baf-8831-6ef0a91f7ac4",
   "metadata": {
    "scrolled": true
   },
   "outputs": [],
   "source": [
    "adatas"
   ]
  },
  {
   "cell_type": "code",
   "execution_count": null,
   "id": "8c9376a5-e09a-4bb3-9aa1-6ee198a93f8a",
   "metadata": {
    "scrolled": true
   },
   "outputs": [],
   "source": [
    "adatas[1].X"
   ]
  },
  {
   "cell_type": "code",
   "execution_count": null,
   "id": "1c4cb4fd-3c6a-4b78-a734-79959ace2a23",
   "metadata": {
    "scrolled": true
   },
   "outputs": [],
   "source": [
    "all_incorrect_indices = set()\n",
    "\n",
    "for ad in adatas:\n",
    "    print(ad.obs['Id'][0])\n",
    "    ad.var['Genes'] = ad.var['Genes'].astype(str)\n",
    "    if 'Genes' not in ad.var.columns:\n",
    "        print(\"The column doesn't exist in adata.var\")\n",
    "    else:\n",
    "        # Create a mask for the datas with date name\n",
    "        date_mask = pd.to_datetime(ad.var['Genes'], format='%Y-%m-%d %H:%M:%S', errors='coerce').notna()\n",
    "        other_date_mask = pd.to_datetime(ad.var['Genes'], format='%Y-%d-%m %H:%M:%S', errors='coerce').notna()\n",
    "\n",
    "    # same for NaN\n",
    "        nan_mask = ad.var['Genes'].astype(str).str.lower() == 'nan'\n",
    "\n",
    "    # Combine\n",
    "        incorrect_entries = date_mask | nan_mask | other_date_mask\n",
    "\n",
    "        incorrect_genes = ad.var.loc[incorrect_entries, 'Genes']\n",
    "\n",
    "        print(\"Incorrect name in column 'Genes' :\")\n",
    "        print(incorrect_genes)\n",
    "        print(f\"\\nNombre total d'entrées incorrectes : {incorrect_entries.sum()}\")\n",
    "        print(\"\\nIncorrect distribution :\")\n",
    "        print(incorrect_genes.value_counts())\n",
    "\n",
    "   \n",
    "        print(\"\\nIncorrect Index :\")\n",
    "        print(incorrect_genes.index.tolist())\n",
    "        all_incorrect_indices.update(incorrect_genes.index)\n",
    "\n",
    "\n",
    "print(\"\\nTous les indices incorrects uniques :\")\n",
    "print(sorted(list(all_incorrect_indices)))\n",
    "print(f\"\\nNombre total d'indices incorrects uniques : {len(all_incorrect_indices)}\")"
   ]
  },
  {
   "cell_type": "code",
   "execution_count": null,
   "id": "4d336f46-935c-46e9-afa2-c35f13d77e7f",
   "metadata": {},
   "outputs": [],
   "source": [
    "wrong_gene_name = {\n",
    "\"IGA2_HUMAN\":\"IGA2\",\n",
    "\"IGL1_HUMAN\":\"IGL1\",\n",
    "\"SEP10_HUMAN\":\"SEPTIN10\",\n",
    "\"SEP11_HUMAN\":\"SEPTIN11\",\n",
    "\"SEPT2_HUMAN\":\"SEPTIN2\",\n",
    "\"SEPT5_HUMAN\":\"SEPTIN5\",\n",
    "\"SEPT6_HUMAN\":\"SEPTIN6\",\n",
    "\"SEPT7_HUMAN\":\"SEPTIN7\",\n",
    "\"SEPT8_HUMAN\":\"SEPTIN8\",\n",
    "\"SEPT9_HUMAN\":\"SEPTIN9\",\n",
    "\"SYMC_HUMAN\":\"MARS1\",\n",
    "\"SYMM_HUMAN\":\"MARS2\",\n",
    "\"YI025_HUMAN\":\"YI025\",\n",
    "\"YJ005_HUMAN\":\"YJ005\"\n",
    "}"
   ]
  },
  {
   "cell_type": "code",
   "execution_count": null,
   "id": "fd47d6f9-8b76-4f99-bf30-da1a04762bb4",
   "metadata": {},
   "outputs": [],
   "source": [
    "def corriger_noms_genes(adatas, corrections):\n",
    "    for ad in adatas:\n",
    "\n",
    "        ad.var['Genes'] = ad.var['Genes'].astype(str)\n",
    "        \n",
    "\n",
    "        ad.var['Genes'] = ad.var['Genes'].replace(corrections)\n",
    "        \n",
    "        date_mask = pd.to_datetime(ad.var['Genes'], format='%Y-%m-%d %H:%M:%S', errors='coerce').notna()\n",
    "        \n",
    "        mask_a_corriger = date_mask | (ad.var['Genes'].str.lower() == 'nan')\n",
    "        ad.var.loc[mask_a_corriger, 'Genes'] = ad.var.index[mask_a_corriger].str.split('_').str[0]\n",
    "\n",
    "\n",
    "corriger_noms_genes(adatas, wrong_gene_name)"
   ]
  },
  {
   "cell_type": "code",
   "execution_count": null,
   "id": "5c113775-2608-4f8f-a592-d35ce763de34",
   "metadata": {
    "scrolled": true
   },
   "outputs": [],
   "source": [
    "all_incorrect_indices = set()\n",
    "\n",
    "for ad in adatas:\n",
    "    print(ad.obs['Id'][0])\n",
    "    ad.var['Genes'] = ad.var['Genes'].astype(str)\n",
    "    if 'Genes' not in ad.var.columns:\n",
    "        print(\"The column doesn't exist in adata.var\")\n",
    "    else:\n",
    "        # Create a mask for the datas with date name\n",
    "        date_mask = pd.to_datetime(ad.var['Genes'], format='%Y-%m-%d %H:%M:%S', errors='coerce').notna()\n",
    "        other_date_mask = pd.to_datetime(ad.var['Genes'], format='%Y-%d-%m %H:%M:%S', errors='coerce').notna()\n",
    "\n",
    "    # same for NaN\n",
    "        nan_mask = ad.var['Genes'].astype(str).str.lower() == 'nan'\n",
    "\n",
    "    # Combine\n",
    "        incorrect_entries = date_mask | nan_mask | other_date_mask\n",
    "\n",
    "        incorrect_genes = ad.var.loc[incorrect_entries, 'Genes']\n",
    "\n",
    "        print(\"Incorrect name in column 'Genes' :\")\n",
    "        print(incorrect_genes)\n",
    "        print(f\"\\nNombre total d'entrées incorrectes : {incorrect_entries.sum()}\")\n",
    "        print(\"\\nIncorrect distribution :\")\n",
    "        print(incorrect_genes.value_counts())\n",
    "\n",
    "   \n",
    "        print(\"\\nIncorrect Index :\")\n",
    "        print(incorrect_genes.index.tolist())\n",
    "        all_incorrect_indices.update(incorrect_genes.index)\n",
    "\n",
    "\n",
    "print(\"\\nTous les indices incorrects uniques :\")\n",
    "print(sorted(list(all_incorrect_indices)))\n",
    "print(f\"\\nNombre total d'indices incorrects uniques : {len(all_incorrect_indices)}\")"
   ]
  },
  {
   "cell_type": "markdown",
   "id": "ce02f6d4-c89f-40e0-a8d2-4a8f11883c45",
   "metadata": {},
   "source": [
    "### Differences between datasets"
   ]
  },
  {
   "cell_type": "code",
   "execution_count": null,
   "id": "60cea1e7-5d31-4eae-accd-cc1062086377",
   "metadata": {},
   "outputs": [],
   "source": [
    "for ad in adatas:\n",
    "    ax = sns.histplot(np.nan_to_num(ad.X, nan=0.0).sum(1), bins=100, kde=False, label = ad.obs['Id'][0])\n",
    "    ax.legend()\n",
    "#sum of cells for each "
   ]
  },
  {
   "cell_type": "code",
   "execution_count": null,
   "id": "338b7725-aa1c-4f37-9c4e-48bb9a4212e0",
   "metadata": {},
   "outputs": [],
   "source": [
    "adatas[1].X"
   ]
  },
  {
   "cell_type": "code",
   "execution_count": null,
   "id": "23b7f95b-cd1b-4476-8495-a410338444dc",
   "metadata": {},
   "outputs": [],
   "source": [
    "adata_raw = adt.concat(adatas, join=\"outer\", index_unique=\"-\", merge=\"unique\")"
   ]
  },
  {
   "cell_type": "code",
   "execution_count": null,
   "id": "3da1c53e-ce32-475b-a566-f3a95e3af721",
   "metadata": {},
   "outputs": [],
   "source": [
    "adata_raw.X = np.nan_to_num(adata_raw.X, nan=0.0)"
   ]
  },
  {
   "cell_type": "code",
   "execution_count": null,
   "id": "9f6927af-a636-425b-92f0-b5a82006df13",
   "metadata": {},
   "outputs": [],
   "source": [
    "sc.pp.highly_variable_genes(adata_raw, n_top_genes=2000, flavor=\"cell_ranger\", batch_key='Id')"
   ]
  },
  {
   "cell_type": "code",
   "execution_count": null,
   "id": "6de7bda5-72e8-454f-88d2-2b2dfb2e0a99",
   "metadata": {},
   "outputs": [],
   "source": [
    "n_batches = adata_raw.var[\"highly_variable_nbatches\"].value_counts()\n",
    "ax = n_batches.plot(kind=\"bar\")\n",
    "n_batches\n",
    "ax.set_xlabel(\"Nombre de lots\")\n",
    "ax.set_ylabel(\"Nombre de gènes\")\n",
    "ax.set_title(\"Distribution des gènes hautement variables à travers les lots\")"
   ]
  },
  {
   "cell_type": "code",
   "execution_count": null,
   "id": "b7d996ef-a4ba-404c-9c5e-f39bdc35093c",
   "metadata": {},
   "outputs": [],
   "source": [
    "adatas[0].var"
   ]
  },
  {
   "cell_type": "code",
   "execution_count": null,
   "id": "59154d66-4111-477c-acf4-1cceee4c8fe4",
   "metadata": {},
   "outputs": [],
   "source": [
    "all_genes = list(set().union(*[set(adata.var_names) for adata in adatas]))\n",
    "print(len(all_genes))\n",
    "\n",
    "presence_matrix = pd.DataFrame(0, index=all_genes, columns=[f\"Dataset {ad.obs['Id'][0]}\" for ad in adatas])\n",
    "\n",
    "for adata in adatas:\n",
    "    presence_matrix.loc[adata.var_names, f\"Dataset {adata.obs['Id'][0]}\"] = 1  \n",
    "\n",
    "compte = pd.DataFrame(0, index=all_genes, columns=[f\"Seen in {i+1}\" for i in range(len(adatas))])\n",
    "sum_presencematrix = presence_matrix.sum(1)\n",
    "\n",
    "for gene in all_genes:\n",
    "    presence_count = sum_presencematrix[gene] \n",
    "    compte.loc[gene, f\"Seen in {presence_count}\"] = 1  \n",
    "\n",
    "\n",
    "column_sums = compte.sum(axis=0)\n",
    "\n",
    "\n",
    "plt.figure(figsize=(8, 6))\n",
    "sns.barplot(x=column_sums.index, y=column_sums.values, palette=\"viridis\")\n",
    "\n",
    "plt.xlabel(\"Number of datasets where gene seen\")\n",
    "plt.ylabel(\"Number of genes\")\n",
    "plt.title(\"Number of genes shared between datasets\")\n",
    "\n",
    "\n",
    "plt.xticks(rotation=45)\n",
    "\n",
    "plt.show()"
   ]
  },
  {
   "cell_type": "code",
   "execution_count": null,
   "id": "35e99277-127f-40b9-aaf0-6e6efaa5ffb0",
   "metadata": {},
   "outputs": [],
   "source": [
    "adatas[1].X"
   ]
  },
  {
   "cell_type": "code",
   "execution_count": null,
   "id": "7d488282-5511-4ac1-a3e7-6271af8a073c",
   "metadata": {},
   "outputs": [],
   "source": []
  },
  {
   "cell_type": "code",
   "execution_count": null,
   "id": "861da46e-64f0-49c4-b6db-90dd9b157374",
   "metadata": {},
   "outputs": [],
   "source": []
  },
  {
   "cell_type": "code",
   "execution_count": null,
   "id": "6f02290a-7d44-4a4d-b9d3-9026bf8f1c71",
   "metadata": {},
   "outputs": [],
   "source": []
  },
  {
   "cell_type": "code",
   "execution_count": null,
   "id": "3bb0d1c6-d843-4cf5-ab6f-0c855b661931",
   "metadata": {},
   "outputs": [],
   "source": []
  },
  {
   "cell_type": "code",
   "execution_count": null,
   "id": "cd94a04e-f85d-4523-af03-e4ab5304eb88",
   "metadata": {},
   "outputs": [],
   "source": []
  },
  {
   "cell_type": "markdown",
   "id": "0974d963-cfc5-49e7-b9bf-a3a262a3b362",
   "metadata": {},
   "source": [
    "## Erase non detected genes in batch"
   ]
  },
  {
   "cell_type": "code",
   "execution_count": null,
   "id": "b0aa55a0-8476-48c0-a84b-2bf6c3c284f3",
   "metadata": {},
   "outputs": [],
   "source": [
    "protein_diff = set(adatas[2].var_names)\n",
    "protein_diff2 = set(adatas[3].var_names)\n",
    "all_protein_diff = (protein_diff-protein_diff2)  ^(protein_diff2-protein_diff)"
   ]
  },
  {
   "cell_type": "code",
   "execution_count": null,
   "id": "c6e95c4d-7742-4f07-b0f3-ede6c412f7ef",
   "metadata": {},
   "outputs": [],
   "source": [
    "adatas_red = [adata.copy() for adata in adatas]\n",
    "for i,ad in enumerate(adatas_red): \n",
    "    adatas_red[i] = ad[:, ~ad.var_names.isin(all_protein_diff)]\n",
    "adatas_red"
   ]
  },
  {
   "cell_type": "code",
   "execution_count": null,
   "id": "459c1303-44e9-4833-aaeb-eabb6b458079",
   "metadata": {},
   "outputs": [],
   "source": [
    "ax = sns.histplot(np.nan_to_num(adatas_red[0].X, nan=0.0).sum(1), bins=100, kde=False, label = adatas_red[0].obs['Id'][0])\n",
    "ax.legend()"
   ]
  },
  {
   "cell_type": "code",
   "execution_count": null,
   "id": "f0c0e349-60d5-4fc4-8756-41be86a715ae",
   "metadata": {},
   "outputs": [],
   "source": [
    "for ad in adatas_red:\n",
    "    ax = sns.histplot(np.nan_to_num(ad.X, nan=0.0).sum(1), bins=100, kde=False, label = ad.obs['Id'][0])\n",
    "    ax.legend()\n",
    "#sum of cells for each"
   ]
  },
  {
   "cell_type": "code",
   "execution_count": null,
   "id": "cc6b3cd1-40a6-4d84-81b7-d1cead6aaac8",
   "metadata": {},
   "outputs": [],
   "source": [
    "adatas_red[1].X"
   ]
  },
  {
   "cell_type": "markdown",
   "id": "ae07fe45-bdca-4ba9-85a8-b5269423fcf1",
   "metadata": {},
   "source": [
    "### Normalization tests"
   ]
  },
  {
   "cell_type": "code",
   "execution_count": null,
   "id": "76b05da4-dbbb-4ade-b86f-ac9c97ca47a9",
   "metadata": {},
   "outputs": [],
   "source": [
    "for adata in adatas_red:\n",
    "    ad = adata.copy()\n",
    "    ad.X = np.nan_to_num(ad.X, nan=0.0)\n",
    "    scales_counts = sc.pp.normalize_total(ad, target_sum=None, inplace=False)\n",
    "    ax = sns.histplot(sc.pp.log1p(scales_counts[\"X\"], copy=True).sum(1), bins=100, kde=False, label = ad.obs['Id'][0])\n",
    "    ax.legend()"
   ]
  },
  {
   "cell_type": "code",
   "execution_count": null,
   "id": "54ebab75-b4f5-48d7-a08f-1d1518c5b62a",
   "metadata": {},
   "outputs": [],
   "source": [
    "adatas_red[1].X"
   ]
  },
  {
   "cell_type": "code",
   "execution_count": null,
   "id": "abd038ad-25e2-4cd2-859e-9076e5ed1e81",
   "metadata": {},
   "outputs": [],
   "source": []
  },
  {
   "cell_type": "code",
   "execution_count": null,
   "id": "bbec7800-27f5-4a8f-9c13-6821bc711269",
   "metadata": {},
   "outputs": [],
   "source": [
    "from scipy.sparse import csr_matrix"
   ]
  },
  {
   "cell_type": "code",
   "execution_count": null,
   "id": "07b1e19b-c75b-4daa-b402-de891c47a2d7",
   "metadata": {},
   "outputs": [],
   "source": [
    "for adata in adatas_red:\n",
    "    ad = adata.copy()\n",
    "    ad.X = np.nan_to_num(ad.X, nan=0.0)\n",
    "    analytic_pearson = sc.experimental.pp.normalize_pearson_residuals(ad, inplace=False)\n",
    "    X_fixed = analytic_pearson[\"X\"]\n",
    "    X_fixed[np.isnan(X_fixed)] = 0 \n",
    "    ax = sns.histplot(csr_matrix(X_fixed).sum(1), bins=100, kde=False, label = ad.obs['Id'][0])\n",
    "    ax.legend()"
   ]
  },
  {
   "cell_type": "code",
   "execution_count": null,
   "id": "f16bbb29-2443-4b07-af5c-b0076ec51869",
   "metadata": {},
   "outputs": [],
   "source": [
    "adatas_red[1].X"
   ]
  },
  {
   "cell_type": "code",
   "execution_count": null,
   "id": "ca133af2-77c2-4dba-b988-83c605dac0d7",
   "metadata": {},
   "outputs": [],
   "source": [
    "plot_data = []\n",
    "\n",
    "for adata in adatas_red:\n",
    "    ad = adata.copy()\n",
    "    ad.X = np.nan_to_num(ad.X, nan=0.0)  \n",
    "    analytic_pearson = sc.experimental.pp.normalize_pearson_residuals(ad, inplace=False)\n",
    "    \n",
    "    X_fixed = analytic_pearson[\"X\"]\n",
    "    X_fixed[np.isnan(X_fixed)] = 0  \n",
    "\n",
    "    plot_data.extend([(x, ad.obs['Id'][0]) for x in csr_matrix(X_fixed).sum(1).A1])\n",
    "\n",
    "df_plot = pd.DataFrame(plot_data, columns=[\"Somme Normalisée\", \"Dataset\"])\n",
    "\n",
    "plt.figure(figsize=(10, 6))\n",
    "ax = sns.histplot(data=df_plot, x=\"Somme Normalisée\", hue=\"Dataset\", bins=100, kde=False, palette=\"tab10\")\n",
    "\n",
    "plt.xlabel(\"Somme des valeurs normalisées\")\n",
    "plt.ylabel(\"Nombre d'occurrences\")\n",
    "plt.title(\"Distribution des valeurs normalisées par dataset\")\n",
    "\n",
    "# Afficher le plot\n",
    "plt.show()\n"
   ]
  },
  {
   "cell_type": "code",
   "execution_count": null,
   "id": "bf497823-6070-4ad6-acc9-73feb16f5151",
   "metadata": {},
   "outputs": [],
   "source": [
    "adatas_red[1].X"
   ]
  },
  {
   "cell_type": "markdown",
   "id": "04e292cb-62f3-46a9-8591-dbed56561986",
   "metadata": {},
   "source": [
    "### QC metrics"
   ]
  },
  {
   "cell_type": "code",
   "execution_count": null,
   "id": "c5d5cb34-4830-4013-ab9f-8173aa3919ce",
   "metadata": {},
   "outputs": [],
   "source": [
    "adatas_red_snan = [adata.copy() for adata in adatas]"
   ]
  },
  {
   "cell_type": "code",
   "execution_count": null,
   "id": "1f96a785-660d-4f46-92b5-68ce8d777e04",
   "metadata": {},
   "outputs": [],
   "source": [
    "for ad in adatas_red_snan:\n",
    "    ad.X = np.nan_to_num(ad.X, nan=0.0) \n",
    "    "
   ]
  },
  {
   "cell_type": "code",
   "execution_count": null,
   "id": "b0ca7497-d0ba-4d70-9e3b-b1b7d90dd5f7",
   "metadata": {},
   "outputs": [],
   "source": [
    "def qc(adata):\n",
    "    sc.pp.calculate_qc_metrics(adata, inplace = True, percent_top = [20], log1p=True)\n",
    "    return adata"
   ]
  },
  {
   "cell_type": "code",
   "execution_count": null,
   "id": "329f20f0-9c94-4a3f-bca1-f21f573289d5",
   "metadata": {},
   "outputs": [],
   "source": [
    "adatas_red_snan = [qc(ad) for ad in adatas_red_snan]"
   ]
  },
  {
   "cell_type": "code",
   "execution_count": null,
   "id": "2f081f9d-4f48-4a71-afd7-94bcca3b6571",
   "metadata": {},
   "outputs": [],
   "source": [
    "adatas_red_snan[0].obs"
   ]
  },
  {
   "cell_type": "code",
   "execution_count": null,
   "id": "4c74bde5-56dc-434a-a025-fac3c0a4cd6d",
   "metadata": {},
   "outputs": [],
   "source": [
    "df = pd.concat([x.obs for x in adatas_red_snan])"
   ]
  },
  {
   "cell_type": "code",
   "execution_count": null,
   "id": "48191aac-6fad-4bb8-99ed-964896d6ee22",
   "metadata": {},
   "outputs": [],
   "source": [
    "df = df.sort_values('Id')"
   ]
  },
  {
   "cell_type": "code",
   "execution_count": null,
   "id": "26160db4-3255-4b29-967e-65020596155c",
   "metadata": {},
   "outputs": [],
   "source": [
    "value = \"pct_counts_in_top_20_genes\"\n",
    "\n",
    "with sns.axes_style(\"white\", rc={\"axes.facecolor\": (0, 0, 0, 0)}), sns.plotting_context(\"notebook\"):\n",
    "    g = sns.FacetGrid(df, row=\"Id\", hue=\"Id\", aspect=15, height=0.5, palette=\"tab20\")\n",
    "\n",
    "    g.map(sns.kdeplot, value, clip_on=False, fill=True, alpha=1, linewidth=1.5)\n",
    "    g.map(sns.kdeplot, value, clip_on=False, color=\"w\", lw=2)\n",
    "    g.map(plt.axhline, y=0, lw=2, clip_on=False)\n",
    "\n",
    "    def label(x, color, label):\n",
    "        ax = plt.gca()\n",
    "        ax.text(0, .2, label, fontweight=\"bold\", color=color,\n",
    "                ha=\"left\", va=\"center\", transform=ax.transAxes)\n",
    "\n",
    "    g.map(label, value)\n",
    "\n",
    "    g.figure.subplots_adjust(hspace=-.6)\n",
    "    g.set_titles(\"\")\n",
    "    g.set(yticks=[], ylabel=\"\")\n",
    "    g.despine(bottom=True, left=True)\n",
    "\n",
    "    for ax in g.axes.flat:\n",
    "        ax.axvline(x=df[value].median(), color='r', linestyle='-')\n",
    "\n",
    "    plt.show()"
   ]
  },
  {
   "cell_type": "code",
   "execution_count": null,
   "id": "c1c4df42-5a92-46d3-a214-2e5d10c1c960",
   "metadata": {},
   "outputs": [],
   "source": [
    "value = \"n_genes_by_counts\"\n",
    "\n",
    "with sns.axes_style(\"white\", rc={\"axes.facecolor\": (0, 0, 0, 0)}), sns.plotting_context(\"notebook\"):\n",
    "    g = sns.FacetGrid(df, row=\"Id\", hue=\"Id\", aspect=15, height=0.5, palette=\"tab20\")\n",
    "\n",
    "    g.map(sns.kdeplot, value, clip_on=False, fill=True, alpha=1, linewidth=1.5)\n",
    "    g.map(sns.kdeplot, value, clip_on=False, color=\"w\", lw=2)\n",
    "    g.map(plt.axhline, y=0, lw=2, clip_on=False)\n",
    "\n",
    "    def label(x, color, label):\n",
    "        ax = plt.gca()\n",
    "        ax.text(0, .2, label, fontweight=\"bold\", color=color,\n",
    "                ha=\"left\", va=\"center\", transform=ax.transAxes)\n",
    "\n",
    "    g.map(label, value)\n",
    "\n",
    "    g.figure.subplots_adjust(hspace=-.6)\n",
    "    g.set_titles(\"\")\n",
    "    g.set(yticks=[], ylabel=\"\")\n",
    "    g.despine(bottom=True, left=True)\n",
    "\n",
    "    for ax in g.axes.flat:\n",
    "        ax.axvline(x=df[value].median(), color='r', linestyle='-')\n",
    "\n",
    "    plt.show()"
   ]
  },
  {
   "cell_type": "code",
   "execution_count": null,
   "id": "f6900b57-b7b9-4d78-9a3a-4577b2200996",
   "metadata": {},
   "outputs": [],
   "source": [
    "value = \"total_counts\"\n",
    "\n",
    "with sns.axes_style(\"white\", rc={\"axes.facecolor\": (0, 0, 0, 0)}), sns.plotting_context(\"notebook\"):\n",
    "    g = sns.FacetGrid(df, row=\"Id\", hue=\"Id\", aspect=15, height=0.5, palette=\"tab20\")\n",
    "\n",
    "    g.map(sns.kdeplot, value, clip_on=False, fill=True, alpha=1, linewidth=1.5)\n",
    "    g.map(sns.kdeplot, value, clip_on=False, color=\"w\", lw=2)\n",
    "    g.map(plt.axhline, y=0, lw=2, clip_on=False)\n",
    "\n",
    "    def label(x, color, label):\n",
    "        ax = plt.gca()\n",
    "        ax.text(0, .2, label, fontweight=\"bold\", color=color,\n",
    "                ha=\"left\", va=\"center\", transform=ax.transAxes)\n",
    "\n",
    "    g.map(label, value)\n",
    "\n",
    "    g.figure.subplots_adjust(hspace=-.6)\n",
    "    g.set_titles(\"\")\n",
    "    g.set(yticks=[], ylabel=\"\")\n",
    "    g.despine(bottom=True, left=True)\n",
    "\n",
    "    for ax in g.axes.flat:\n",
    "        ax.axvline(x=df[value].median(), color='r', linestyle='-')\n",
    "\n",
    "    plt.show()"
   ]
  },
  {
   "cell_type": "code",
   "execution_count": null,
   "id": "91a5ae38-c47d-490d-975e-782cbb1d263c",
   "metadata": {},
   "outputs": [],
   "source": [
    "adatas_red[1].X"
   ]
  },
  {
   "cell_type": "code",
   "execution_count": null,
   "id": "da86f625-ede4-46fa-835d-6183ab224598",
   "metadata": {},
   "outputs": [],
   "source": []
  },
  {
   "cell_type": "code",
   "execution_count": null,
   "id": "68afbdf3-1842-40a5-b942-b9b69e00ae62",
   "metadata": {},
   "outputs": [],
   "source": []
  },
  {
   "cell_type": "markdown",
   "id": "e99376a1-98f2-4c16-bb31-77702191f675",
   "metadata": {},
   "source": [
    "### Highly var proteins btw batches post dimension reduction"
   ]
  },
  {
   "cell_type": "code",
   "execution_count": null,
   "id": "1cf7f6d4-d5c8-41c5-b9d4-9f0ab83bca09",
   "metadata": {},
   "outputs": [],
   "source": [
    "adata_red = adt.concat(adatas_red, join=\"outer\", index_unique=\"-\", merge=\"unique\")"
   ]
  },
  {
   "cell_type": "code",
   "execution_count": null,
   "id": "a1c6dea3-be08-48d3-9004-a4f41b65340b",
   "metadata": {},
   "outputs": [],
   "source": [
    "adata_red.X = np.nan_to_num(adata_red.X, nan=0.0)"
   ]
  },
  {
   "cell_type": "code",
   "execution_count": null,
   "id": "ac7a64d3-84a3-4bfe-a1f6-2c04baf4ed5d",
   "metadata": {},
   "outputs": [],
   "source": [
    "adatas_red[1].X"
   ]
  },
  {
   "cell_type": "code",
   "execution_count": null,
   "id": "70da4b7c-6a0a-4a6c-87df-0fc69fe57b73",
   "metadata": {},
   "outputs": [],
   "source": [
    "sc.pp.highly_variable_genes(adata_red, n_top_genes=2000, flavor=\"cell_ranger\", batch_key='Id')"
   ]
  },
  {
   "cell_type": "code",
   "execution_count": null,
   "id": "9cc6e034-49d7-4d6b-a662-f8a5300c8c85",
   "metadata": {},
   "outputs": [],
   "source": [
    "n_batches = adata_red.var[\"highly_variable_nbatches\"].value_counts()\n",
    "ax = n_batches.plot(kind=\"bar\")\n",
    "n_batches\n",
    "ax.set_xlabel(\"Nombre de lots\")\n",
    "ax.set_ylabel(\"Nombre de gènes\")\n",
    "ax.set_title(\"Distribution des gènes hautement variables à travers les lots\")"
   ]
  },
  {
   "cell_type": "markdown",
   "id": "dbdf700a-8223-40ff-a9c0-e2e2ee3aefbc",
   "metadata": {},
   "source": [
    "### Shared proteins btw batches"
   ]
  },
  {
   "cell_type": "code",
   "execution_count": null,
   "id": "bd198679-be4a-4032-be84-1c94a4173cfd",
   "metadata": {},
   "outputs": [],
   "source": [
    "all_genes = list(set().union(*[set(adata.var_names) for adata in adatas_red]))\n",
    "print(len(all_genes))\n",
    "\n",
    "presence_matrix = pd.DataFrame(0, index=all_genes, columns=[f\"Dataset {ad.obs['Id'][0]}\" for ad in adatas_red])\n",
    "\n",
    "for adata in adatas_red:\n",
    "    presence_matrix.loc[adata.var_names, f\"Dataset {adata.obs['Id'][0]}\"] = 1  \n",
    "\n",
    "compte = pd.DataFrame(0, index=all_genes, columns=[f\"Seen in {i+1}\" for i in range(len(adatas_red))])\n",
    "sum_presencematrix = presence_matrix.sum(1)\n",
    "\n",
    "for gene in all_genes:\n",
    "    presence_count = sum_presencematrix[gene] \n",
    "    compte.loc[gene, f\"Seen in {presence_count}\"] = 1  \n",
    "\n",
    "\n",
    "column_sums = compte.sum(axis=0)\n",
    "\n",
    "\n",
    "plt.figure(figsize=(8, 6))\n",
    "sns.barplot(x=column_sums.index, y=column_sums.values, palette=\"viridis\")\n",
    "\n",
    "plt.xlabel(\"Number of datasets where gene seen\")\n",
    "plt.ylabel(\"Number of genes\")\n",
    "plt.title(\"Number of genes shared between datasets\")\n",
    "\n",
    "\n",
    "plt.xticks(rotation=45)\n",
    "\n",
    "plt.show()"
   ]
  },
  {
   "cell_type": "code",
   "execution_count": null,
   "id": "dc277ca7-0f87-45e0-bf32-fb9b599e37b0",
   "metadata": {},
   "outputs": [],
   "source": []
  },
  {
   "cell_type": "code",
   "execution_count": null,
   "id": "7775c75f-542b-4570-b543-2b0a1ca9600b",
   "metadata": {},
   "outputs": [],
   "source": [
    "os.makedirs('C:/Users/MDV/Documents/Pipeline folder Yohan/scP/Output/Formated_data',exist_ok = True)"
   ]
  },
  {
   "cell_type": "code",
   "execution_count": null,
   "id": "c4a42132-e471-4aa0-967c-4433c3c3f410",
   "metadata": {},
   "outputs": [],
   "source": [
    "for ad in adatas_red:\n",
    "    unique_id = ad.obs['Id'][0]\n",
    "    file_path = os.path.join('C:/Users/MDV/Documents/Pipeline folder Yohan/scP/Output/Formated_data', f'adata_{unique_id}.h5ad')\n",
    "    ad.write(file_path)\n",
    "    print(f\"Saved: {file_path}\")"
   ]
  },
  {
   "cell_type": "code",
   "execution_count": null,
   "id": "62104b03-de85-4c34-b89b-6155b53f3ad6",
   "metadata": {},
   "outputs": [],
   "source": [
    "adatas_red[1].X"
   ]
  },
  {
   "cell_type": "code",
   "execution_count": null,
   "id": "79207a63-86e5-4f9e-8dd3-9f5262e1a528",
   "metadata": {},
   "outputs": [],
   "source": [
    "adatas_red = []\n",
    "data_dir = 'C:/Users/MDV/Documents/Pipeline folder Yohan/scP/Output/Formated_data'\n",
    "\n",
    "for filename in os.listdir(data_dir):\n",
    "    if filename.endswith('.h5ad'):\n",
    "            adata = sc.read_h5ad(os.path.join(data_dir, filename))\n",
    "            adata.var_names_make_unique()\n",
    "            adatas_red.append(adata)\n",
    "\n",
    "print(f\"Nombre de fichiers h5ad chargés avec succès : {len(adatas_red)}\")"
   ]
  },
  {
   "cell_type": "code",
   "execution_count": null,
   "id": "61bdc02d-a8d0-439c-b90f-c962a0caa9fb",
   "metadata": {},
   "outputs": [],
   "source": [
    "adatas_red"
   ]
  },
  {
   "cell_type": "code",
   "execution_count": null,
   "id": "7049fb29-c296-401a-b1e8-f01ba1126ebd",
   "metadata": {},
   "outputs": [],
   "source": [
    "adatas_red[1].X"
   ]
  },
  {
   "cell_type": "code",
   "execution_count": null,
   "id": "7c089c12-e0b0-48c8-8aa3-24506f4f7ff1",
   "metadata": {},
   "outputs": [],
   "source": [
    "print(type(adatas_red[0].X))"
   ]
  },
  {
   "cell_type": "code",
   "execution_count": null,
   "id": "60b42f56-5c5a-4330-8901-c18b06175c64",
   "metadata": {},
   "outputs": [],
   "source": [
    "np.isnan(adatas_red[1].X).any()"
   ]
  },
  {
   "cell_type": "code",
   "execution_count": null,
   "id": "425d79f3-19fd-4e46-85c9-bfeed4e6764a",
   "metadata": {},
   "outputs": [],
   "source": [
    "np.nan_to_num(adatas_red[0].X, nan=0.0).min()"
   ]
  },
  {
   "cell_type": "code",
   "execution_count": null,
   "id": "0c56c98f-3ce6-4795-a63c-43d814ca8165",
   "metadata": {},
   "outputs": [],
   "source": [
    "np.nan_to_num(adatas_red[0].X, nan=0.0).max()"
   ]
  },
  {
   "cell_type": "code",
   "execution_count": null,
   "id": "c3f6ac26-c2b2-4ab4-a250-ea6c3b3485d4",
   "metadata": {},
   "outputs": [],
   "source": []
  },
  {
   "cell_type": "code",
   "execution_count": null,
   "id": "1517698b-4279-45bf-8980-8082cba9f618",
   "metadata": {},
   "outputs": [],
   "source": []
  },
  {
   "cell_type": "code",
   "execution_count": null,
   "id": "92fb53b9-96bf-47a1-9bee-e7de2e2e42be",
   "metadata": {},
   "outputs": [],
   "source": []
  },
  {
   "cell_type": "code",
   "execution_count": null,
   "id": "161dcedd-6568-450c-857d-636c18c712fa",
   "metadata": {},
   "outputs": [],
   "source": []
  },
  {
   "cell_type": "code",
   "execution_count": null,
   "id": "cb2f6433-5c0c-42c3-8f67-0921277cb770",
   "metadata": {},
   "outputs": [],
   "source": []
  },
  {
   "cell_type": "markdown",
   "id": "b07a8543-cd75-4bee-ada5-3c02351f3313",
   "metadata": {},
   "source": [
    "## Imputation of data with MissForest"
   ]
  },
  {
   "cell_type": "code",
   "execution_count": null,
   "id": "bd90ee07-7aa0-487a-af80-3346e6df4b47",
   "metadata": {},
   "outputs": [],
   "source": []
  },
  {
   "cell_type": "code",
   "execution_count": null,
   "id": "2784e0d5-732d-4e71-a36e-301528d7af70",
   "metadata": {},
   "outputs": [],
   "source": [
    "from missforest import MissForest"
   ]
  },
  {
   "cell_type": "code",
   "execution_count": null,
   "id": "5ef1e53b-250c-41c3-86f2-34d2750cb73c",
   "metadata": {},
   "outputs": [],
   "source": [
    "nan_percentage = np.isnan(adatas_red[0].X).mean()\n",
    "print(f\"Proportion de NaN dans X : {nan_percentage:.2%}\")"
   ]
  },
  {
   "cell_type": "code",
   "execution_count": null,
   "id": "7d633100-24f1-4af9-89aa-f34b4598ba36",
   "metadata": {},
   "outputs": [],
   "source": [
    "#os.makedirs( 'G:/Data processing pipeline 0.1 Yohan/scP/Output/missforest_completed',exist_ok = True)"
   ]
  },
  {
   "cell_type": "code",
   "execution_count": null,
   "id": "794a9d65-b5e8-4b7f-bc1d-657fffa013f6",
   "metadata": {},
   "outputs": [],
   "source": [
    "#for ad in adatas_red:\n",
    "    \n",
    "   # miss_forest = MissForest()\n",
    "   # X = ad.X.copy()\n",
    "   # X = X.astype(np.float64)\n",
    "    # Impute away\n",
    "   # X_imputed = miss_forest.fit_transform(X)\n",
    "   # ad.X = X_imputed\n",
    "   # print(ad)\n",
    "   # unique_id = ad.obs['Id'][0]\n",
    "   # file_path = os.path.join('G:/Data processing pipeline 0.1 Yohan/scP/Output/missforest_completed', f'adata_{unique_id}.h5ad')\n",
    "   # ad.write(file_path)\n",
    "   # print(f\"Saved: {file_path}\")\n"
   ]
  },
  {
   "cell_type": "code",
   "execution_count": null,
   "id": "ca0bc672-616b-41d3-bd16-f359ebe03e0f",
   "metadata": {},
   "outputs": [],
   "source": []
  },
  {
   "cell_type": "code",
   "execution_count": null,
   "id": "bcd4cbe3-5b0b-4688-88ec-10127466698a",
   "metadata": {},
   "outputs": [],
   "source": [
    "for ad in adatas_red:\n",
    "    nan_percentage = np.isnan(ad.X).mean()\n",
    "    print(f\"Proportion de NaN dans X : {nan_percentage:.2%}\")"
   ]
  },
  {
   "cell_type": "code",
   "execution_count": null,
   "id": "9db199b6-d8db-465e-bfce-be815e1e7747",
   "metadata": {},
   "outputs": [],
   "source": []
  },
  {
   "cell_type": "code",
   "execution_count": null,
   "id": "3060c767-ac73-4f3c-b45a-dc28e8ee8ace",
   "metadata": {},
   "outputs": [],
   "source": [
    "import time"
   ]
  },
  {
   "cell_type": "code",
   "execution_count": null,
   "id": "db2a9e9f-e95e-4831-b47c-4c4b13a26f33",
   "metadata": {},
   "outputs": [],
   "source": [
    "os.makedirs( 'C:/Users/MDV/Documents/Pipeline folder Yohan/scP/Output/missforest_completed',exist_ok = True)"
   ]
  },
  {
   "cell_type": "code",
   "execution_count": null,
   "id": "3e07b02c-c333-4532-8805-675fc6af1da0",
   "metadata": {},
   "outputs": [],
   "source": [
    "from missforest import MissForest\n",
    "\n",
    "\n",
    "for ad in adatas_red:\n",
    "    mf = MissForest()\n",
    "    X = ad.X.copy()\n",
    "    X = X.astype(np.float64)\n",
    "\n",
    "    X_df = pd.DataFrame(X)\n",
    "    X_imputed = mf.fit_transform(X_df)\n",
    "    X_imputed = X_imputed.to_numpy()\n",
    "    try:\n",
    "       print(\"Erreur OOB :\", mf.oob_imputation_error_) \n",
    "    except:\n",
    "        print('Error OOB not found')\n",
    "\n",
    "    ad.X = X_imputed.astype(np.float32)\n",
    "\n",
    "    print(ad)\n",
    "    unique_id = ad.obs['Id'][0]\n",
    "    time.sleep(1)\n",
    "\n",
    "    file_path = os.path.join('C:/Users/MDV/Documents/Pipeline folder Yohan/scP/Output/missforest_completed', f'adata_{unique_id}.h5ad')\n",
    "    \n",
    "    try:\n",
    "        ad.write(file_path)\n",
    "        print(f\"Saved: {file_path}\")\n",
    "        \n",
    "    except Exception as e:\n",
    "        print(f\"Erreur lors de la sauvegarde de {file_path} : {e}\")\n",
    "        "
   ]
  },
  {
   "cell_type": "code",
   "execution_count": null,
   "id": "3d5573be-c6d6-4b36-ba42-43ffeb0faf16",
   "metadata": {},
   "outputs": [],
   "source": [
    "from joblib.externals.loky.backend.context import cpu_count\n",
    "print(cpu_count(only_physical_cores=True))"
   ]
  },
  {
   "cell_type": "code",
   "execution_count": null,
   "id": "d4eb1e9b-fe67-4eaa-bc5b-6007a0762204",
   "metadata": {},
   "outputs": [],
   "source": [
    "adatas_red[0].X"
   ]
  },
  {
   "cell_type": "code",
   "execution_count": null,
   "id": "b4a0323d-df2c-4f0a-968d-5bc45288c3bf",
   "metadata": {},
   "outputs": [],
   "source": []
  },
  {
   "cell_type": "markdown",
   "id": "3f60439c-25d9-48d9-951a-731ad3905986",
   "metadata": {},
   "source": [
    "## Evaluation of the effect of missforest"
   ]
  },
  {
   "cell_type": "code",
   "execution_count": null,
   "id": "9fa45e64-d0e3-48fe-8388-b0f98819c6f5",
   "metadata": {},
   "outputs": [],
   "source": [
    "adatas_red = []\n",
    "data_dir = 'C:/Users/MDV/Documents/Pipeline folder Yohan/scP/Output/missforest_completed'\n",
    "\n",
    "for filename in os.listdir(data_dir):\n",
    "    if filename.endswith('.h5ad'):\n",
    "            adata = sc.read_h5ad(os.path.join(data_dir, filename))\n",
    "            adata.var_names_make_unique()\n",
    "            adatas_red.append(adata)\n",
    "\n",
    "print(f\"Nombre de fichiers h5ad chargés avec succès : {len(adatas_red)}\")"
   ]
  },
  {
   "cell_type": "code",
   "execution_count": null,
   "id": "36817e5c-8451-4e4e-a599-86d9a679c5b9",
   "metadata": {},
   "outputs": [],
   "source": [
    "adatas_red"
   ]
  },
  {
   "cell_type": "code",
   "execution_count": null,
   "id": "cbc80341-39ec-4fa1-bddf-8299bcbce461",
   "metadata": {},
   "outputs": [],
   "source": [
    "np.nan_to_num(adatas_red[0].X, nan=0.0).min()"
   ]
  },
  {
   "cell_type": "code",
   "execution_count": null,
   "id": "cbfc6f2a-4cd9-4aba-8f04-51da2ce0f08e",
   "metadata": {},
   "outputs": [],
   "source": [
    "X_no_nan = np.nan_to_num(adatas_red[5].X, nan=0.0)\n",
    "\n",
    "# Compter les valeurs inférieures à 0\n",
    "count_negatives = (X_no_nan < 0).sum()\n",
    "\n",
    "print(f\"Nombre de valeurs inférieures à 0 : {count_negatives}\")"
   ]
  },
  {
   "cell_type": "code",
   "execution_count": null,
   "id": "5526f60a-1c05-4c33-80d2-b1e5d0cdc93d",
   "metadata": {},
   "outputs": [],
   "source": [
    "for nb in range(len(adatas_red)):\n",
    "    \n",
    "    X_no_nan = np.nan_to_num(adatas_red[nb].X, nan=0.0)\n",
    "\n",
    "# Trouver les indices des valeurs négatives\n",
    "    negative_mask = X_no_nan < 0\n",
    "\n",
    "# Obtenir les indices des gènes (ou variables) avec des valeurs négatives\n",
    "    negative_genes_indices = np.where(negative_mask.any(axis=0))[0]\n",
    "\n",
    "# Récupérer les noms des gènes/variables associés à ces indices\n",
    "    negative_genes = adatas_red[nb].var_names[negative_genes_indices]\n",
    "\n",
    "# Afficher les gènes avec des valeurs négatives\n",
    "    print(f\"Gènes avec des valeurs négatives : {negative_genes}\")"
   ]
  },
  {
   "cell_type": "code",
   "execution_count": null,
   "id": "2039d84d-c475-40d3-886d-13f54206f048",
   "metadata": {},
   "outputs": [],
   "source": []
  },
  {
   "cell_type": "code",
   "execution_count": null,
   "id": "ad9d8284-1625-4c73-b32a-893ce31b1073",
   "metadata": {},
   "outputs": [],
   "source": []
  },
  {
   "cell_type": "code",
   "execution_count": null,
   "id": "6fcc770f-609b-427b-a86f-64604acffd4a",
   "metadata": {},
   "outputs": [],
   "source": []
  },
  {
   "cell_type": "code",
   "execution_count": null,
   "id": "98a44ee4-5f44-47dd-b2e6-c0a4f2afe835",
   "metadata": {},
   "outputs": [],
   "source": []
  },
  {
   "cell_type": "code",
   "execution_count": null,
   "id": "1203f4de-9e12-43d4-9336-1abe976e681a",
   "metadata": {},
   "outputs": [],
   "source": []
  },
  {
   "cell_type": "code",
   "execution_count": null,
   "id": "30641b8d-97d9-48a3-8c68-8507f9672b20",
   "metadata": {},
   "outputs": [],
   "source": []
  },
  {
   "cell_type": "code",
   "execution_count": null,
   "id": "0979952b-b2b1-41ac-bdc5-bb09cf8ca7ea",
   "metadata": {},
   "outputs": [],
   "source": [
    "for ad in adatas_red:\n",
    "    ax = sns.histplot(np.nan_to_num(ad.X, nan=0.0).sum(1), bins=100, kde=False, label = ad.obs['Id'][0])\n",
    "    ax.legend()"
   ]
  },
  {
   "cell_type": "code",
   "execution_count": null,
   "id": "fc057442-2fb7-483c-a590-c8cf8a751eca",
   "metadata": {},
   "outputs": [],
   "source": []
  },
  {
   "cell_type": "code",
   "execution_count": null,
   "id": "702db506-532b-4c57-bace-6e4cb5ed0c1b",
   "metadata": {},
   "outputs": [],
   "source": [
    "adata = adt.concat(adatas_red, join=\"outer\", index_unique=\"-\", merge=\"unique\")\n",
    "adata.layers['raw'] = adata.X\n",
    "adata.X = np.nan_to_num(adata.X, nan=0.0)\n",
    "adata.X = np.where(adata.X < 0, 0, adata.X)\n",
    "adata.layers['raw_woutnan'] = adata.X"
   ]
  },
  {
   "cell_type": "code",
   "execution_count": null,
   "id": "b23c75d0-c756-4f88-95fd-f00759b3b533",
   "metadata": {},
   "outputs": [],
   "source": [
    "adata.X.min()"
   ]
  },
  {
   "cell_type": "code",
   "execution_count": null,
   "id": "783ac084-93d7-4e4f-bcd2-f92609976d3e",
   "metadata": {},
   "outputs": [],
   "source": [
    "adata"
   ]
  },
  {
   "cell_type": "code",
   "execution_count": null,
   "id": "d3ed9f78-d13d-491a-80dc-5282371da529",
   "metadata": {},
   "outputs": [],
   "source": []
  },
  {
   "cell_type": "code",
   "execution_count": null,
   "id": "8ef53fa5-e12e-4d25-ad09-4c698649abca",
   "metadata": {},
   "outputs": [],
   "source": [
    "os.makedirs('C:/Users/MDV/Documents/Pipeline folder Yohan/scP/Output/concat',exist_ok = True)\n",
    "file_path = os.path.join('C:/Users/MDV/Documents/Pipeline folder Yohan/scP/Output/concat', 'adata_concat_normalized.h5ad')\n",
    "adata.write_h5ad(file_path)\n",
    "print(f\"Saved: {file_path}\")"
   ]
  },
  {
   "cell_type": "code",
   "execution_count": null,
   "id": "78f3ec35-b7df-4949-abbb-85f40dc9852d",
   "metadata": {},
   "outputs": [],
   "source": [
    "adata = sc.read_h5ad('C:/Users/MDV/Documents/Pipeline folder Yohan/scP/Output/concat/adata_concat_normalized.h5ad')"
   ]
  },
  {
   "cell_type": "code",
   "execution_count": null,
   "id": "d057d07e-c558-473c-9e30-e7bae17b7f7b",
   "metadata": {},
   "outputs": [],
   "source": [
    "limit_gene_acceptance = 0 # number considered as not commun gene"
   ]
  },
  {
   "cell_type": "code",
   "execution_count": null,
   "id": "f83bb794-5b75-448d-9d5d-23f6a01bc824",
   "metadata": {},
   "outputs": [],
   "source": [
    "all_genes = list(set().union(*[set(ad.var_names) for ad in adatas_red]))\n",
    "print(len(all_genes))\n",
    "\n",
    "\n",
    "\n",
    "presence_matrix = pd.DataFrame(0, index=all_genes, columns=[f\"Dataset {ad.obs['Id'][0]}\" for ad in adatas_red])\n",
    "\n",
    "for ad in adatas_red:\n",
    "    presence_matrix.loc[ad.var_names, f\"Dataset {ad.obs['Id'][0]}\"] = 1  \n",
    "\n",
    "compte = pd.DataFrame(0, index=all_genes, columns=[f\"Seen in {i+1}\" for i in range(len(adatas_red))])\n",
    "sum_presencematrix = presence_matrix.sum(1)\n",
    "\n",
    "commun_gene = []\n",
    "for gene in all_genes:\n",
    "    presence_count = sum_presencematrix[gene] \n",
    "    if presence_count>limit_gene_acceptance:\n",
    "        commun_gene.append(gene)\n",
    "    compte.loc[gene, f\"Seen in {presence_count}\"] = 1  \n",
    "\n",
    "adata.var['Common']=adata.var_names.isin(commun_gene)\n",
    "\n",
    "column_sums = compte.sum(axis=0)\n",
    "\n",
    "\n",
    "plt.figure(figsize=(8, 6))\n",
    "sns.barplot(x=column_sums.index, y=column_sums.values, palette=\"viridis\")\n",
    "\n",
    "plt.xlabel(\"Number of datasets where gene seen\")\n",
    "plt.ylabel(\"Number of genes\")\n",
    "plt.title(\"Number of genes shared between datasets\")\n",
    "\n",
    "\n",
    "plt.xticks(rotation=45)\n",
    "\n",
    "plt.show()"
   ]
  },
  {
   "cell_type": "code",
   "execution_count": null,
   "id": "fc9fa98e-ddf0-4268-b5e5-bcd68053b29f",
   "metadata": {},
   "outputs": [],
   "source": []
  },
  {
   "cell_type": "code",
   "execution_count": null,
   "id": "24f0111b-2e4f-4c07-80f4-1e88cc8aaa01",
   "metadata": {},
   "outputs": [],
   "source": []
  },
  {
   "cell_type": "code",
   "execution_count": null,
   "id": "a309562b-82a6-4316-a355-e5017ba2706e",
   "metadata": {},
   "outputs": [],
   "source": [
    "adata"
   ]
  },
  {
   "cell_type": "markdown",
   "id": "abf9db05-43bd-4d81-a791-16616c0dacfe",
   "metadata": {},
   "source": [
    "### Test umap with log1p norm and commun genes"
   ]
  },
  {
   "cell_type": "code",
   "execution_count": null,
   "id": "ceb97800-29d5-4428-a15b-eb90deed8a48",
   "metadata": {},
   "outputs": [],
   "source": [
    "adata_common = adata[:, adata.var['Common']]\n",
    "adata_common.layers[\"raw_counts\"] = adata_common.X.copy()"
   ]
  },
  {
   "cell_type": "code",
   "execution_count": null,
   "id": "d3e3a1f2-f48e-4326-a8cd-84e5bdd5e150",
   "metadata": {
    "scrolled": true
   },
   "outputs": [],
   "source": [
    "adata_common.X = np.nan_to_num(adata_common.X, nan=0.0)\n",
    "scales_counts = sc.pp.normalize_total(adata_common, target_sum=None, inplace=False)\n",
    "# log1p transform\n",
    "adata_common.layers[\"log1p_norm\"] = sc.pp.log1p(scales_counts[\"X\"], copy=True)\n",
    "adata_common.X = adata_common.layers['log1p_norm']\n",
    "sc.pp.pca(adata_common)\n",
    "sc.pp.neighbors(adata_common, use_rep = 'X_pca')\n",
    "sc.tl.leiden(adata_common, resolution = 2, key_added = 'overcluster')\n",
    "sc.tl.umap(adata_common)\n",
    "sc.pl.umap(\n",
    "    adata_common,\n",
    "    color=['Id']\n",
    ")"
   ]
  },
  {
   "cell_type": "code",
   "execution_count": null,
   "id": "ddefd396-32fa-40b9-817a-26a6866a9a95",
   "metadata": {},
   "outputs": [],
   "source": [
    "# lop1p post MissForest"
   ]
  },
  {
   "cell_type": "code",
   "execution_count": null,
   "id": "faf56ef2-dcf3-48ce-9e08-9b0bfbb348db",
   "metadata": {},
   "outputs": [],
   "source": [
    "for ada in adatas_red:\n",
    "    ad = ada.copy()\n",
    "    ad.X = np.nan_to_num(ad.X, nan=0.0)\n",
    "    scales_counts = sc.pp.normalize_total(ad, target_sum=None, inplace=False)\n",
    "    ax = sns.histplot(sc.pp.log1p(scales_counts[\"X\"], copy=True).sum(1), bins=100, kde=False, label = ad.obs['Id'][0])\n",
    "    ax.legend()"
   ]
  },
  {
   "cell_type": "code",
   "execution_count": null,
   "id": "7187d91f-993c-41fc-9cde-a80b3b6a7c11",
   "metadata": {},
   "outputs": [],
   "source": [
    "#did not work with log1p and need to use one more time nan to num"
   ]
  },
  {
   "cell_type": "code",
   "execution_count": null,
   "id": "84d7da51-e6f4-4269-8767-99bfd01c5705",
   "metadata": {},
   "outputs": [],
   "source": [
    "adata_common.X = np.nan_to_num(adata_common.X, nan=0.0)\n",
    "scales_counts = sc.pp.normalize_total(adata_common, target_sum=None, inplace=False)\n",
    "# log1p transform\n",
    "adata_common.layers[\"log1p_norm\"] = sc.pp.log1p(scales_counts[\"X\"], copy=True)\n",
    "adata_common.X = adata_common.layers['log1p_norm']\n",
    "adata_common.X = np.nan_to_num(adata_common.X, nan=0.0)\n",
    "sc.pp.pca(adata_common)\n",
    "sc.pp.neighbors(adata_common, use_rep = 'X_pca')\n",
    "sc.tl.leiden(adata_common, resolution = 2, key_added = 'overcluster')\n",
    "sc.tl.umap(adata_common)\n",
    "sc.pl.umap(\n",
    "    adata_common,\n",
    "    color=['Id']\n",
    ")"
   ]
  },
  {
   "cell_type": "markdown",
   "id": "3f4c667e-9823-45c6-b226-238a5e001bd4",
   "metadata": {},
   "source": [
    "### Effect of the normalization using pearson residue"
   ]
  },
  {
   "cell_type": "code",
   "execution_count": null,
   "id": "976bbaf8-ab02-4f7c-b572-7bbcf97f2d26",
   "metadata": {},
   "outputs": [],
   "source": [
    "plot_data = []\n",
    "\n",
    "for ade in adatas_red:\n",
    "    ad = ade.copy()\n",
    "    #ad.X = np.nan_to_num(ad.X, nan=0.0)  \n",
    "    analytic_pearson = sc.experimental.pp.normalize_pearson_residuals(ad, inplace=False)\n",
    "    \n",
    "    X_fixed = analytic_pearson[\"X\"]\n",
    "    \n",
    "    plot_data.extend([(x, ad.obs['Id'][0]) for x in csr_matrix(X_fixed).sum(1).A1])\n",
    "\n",
    "df_plot = pd.DataFrame(plot_data, columns=[\"Normalized Sum\", \"Dataset\"])\n",
    "\n",
    "plt.figure(figsize=(10, 6))\n",
    "ax = sns.histplot(data=df_plot, x=\"Normalized Sum\", hue=\"Dataset\", bins=100, kde=False, palette=\"tab10\")\n",
    "\n",
    "plt.xlabel(\"Sum of the normalized values\")\n",
    "plt.ylabel(\"Number of cells\")\n",
    "plt.title(\"Distribution of the Pearson Residue Normalization\")\n",
    "\n",
    "# Afficher le plot\n",
    "plt.show()"
   ]
  },
  {
   "cell_type": "code",
   "execution_count": null,
   "id": "35fc4d52-cc70-4522-8818-2502681d614b",
   "metadata": {},
   "outputs": [],
   "source": []
  },
  {
   "cell_type": "code",
   "execution_count": null,
   "id": "e9ccb464-6d1c-46f0-b101-dec457045e8d",
   "metadata": {},
   "outputs": [],
   "source": [
    "adata_common.X =adata_common.layers[\"raw_counts\"]\n",
    "analytic_pearson = sc.experimental.pp.normalize_pearson_residuals(adata_common, inplace=False)\n",
    "X_fixed = analytic_pearson[\"X\"]\n",
    "X_fixed[np.isnan(X_fixed)] = 0 \n",
    "adata_common.layers[\"analytic_pearson_residuals_train\"] = csr_matrix(X_fixed)\n",
    "adata_common.X = adata_common.layers[\"analytic_pearson_residuals_train\"]\n",
    "sc.pp.pca(adata_common)\n",
    "sc.pp.neighbors(adata_common, use_rep = 'X_pca')\n",
    "sc.tl.leiden(adata_common, resolution = 3, key_added = 'overcluster')\n",
    "sc.tl.umap(adata_common)\n",
    "sc.pl.umap(\n",
    "    adata_common,\n",
    "    color=['overcluster','Id']\n",
    ")"
   ]
  },
  {
   "cell_type": "code",
   "execution_count": null,
   "id": "ca91b5a5-ed4a-4abc-8550-6377a9c6acde",
   "metadata": {},
   "outputs": [],
   "source": [
    "adata"
   ]
  },
  {
   "cell_type": "code",
   "execution_count": null,
   "id": "0b2e96ae-a513-48e4-a579-cffc53b62bc1",
   "metadata": {},
   "outputs": [],
   "source": [
    "import scanpy.external as sce\n",
    "from scipy.sparse import csr_matrix"
   ]
  },
  {
   "cell_type": "code",
   "execution_count": null,
   "id": "dd824f2f-7b35-4925-8d20-cba1bcaf28db",
   "metadata": {},
   "outputs": [],
   "source": [
    "adata.X =adata.layers[\"raw_woutnan\"]\n",
    "analytic_pearson = sc.experimental.pp.normalize_pearson_residuals(adata, inplace=False)\n",
    "X_fixed = analytic_pearson[\"X\"]\n",
    "X_fixed[np.isnan(X_fixed)] = 0 \n",
    "adata.layers[\"analytic_pearson_residuals_train\"] = csr_matrix(X_fixed)\n",
    "adata.X = adata.layers[\"analytic_pearson_residuals_train\"]\n",
    "sc.pp.pca(adata)\n",
    "sce.pp.scanorama_integrate(adata, 'Id', verbose =1)"
   ]
  },
  {
   "cell_type": "code",
   "execution_count": null,
   "id": "765b97b5-51c2-448f-8ea1-a7bf178a8f47",
   "metadata": {},
   "outputs": [],
   "source": [
    "sc.pl.pca_variance_ratio(adata_common, log=True)"
   ]
  },
  {
   "cell_type": "code",
   "execution_count": null,
   "id": "e0030264-b591-4a39-a6c0-67db17bb4240",
   "metadata": {},
   "outputs": [],
   "source": [
    "sc.pp.neighbors(adata, use_rep = 'X_scanorama')\n",
    "sc.tl.leiden(adata, resolution = 3, key_added = 'overcluster')\n",
    "sc.tl.umap(adata)\n",
    "sc.pl.umap(\n",
    "    adata,\n",
    "    color=['overcluster','Id']\n",
    ")"
   ]
  },
  {
   "cell_type": "code",
   "execution_count": null,
   "id": "9e0b5a3d-a6db-4b70-978b-7d042e7ea2f5",
   "metadata": {},
   "outputs": [],
   "source": [
    "np.random.seed(1)\n",
    "ri = np.random.permutation(list(range(adata.shape[0])))\n",
    "\n",
    "sc.pl.umap(adata[ri,:], color = ['Id'], vmin = .5, size = 20)"
   ]
  },
  {
   "cell_type": "code",
   "execution_count": null,
   "id": "1875e45c-4608-4e20-9c8d-846f65b0f04c",
   "metadata": {},
   "outputs": [],
   "source": [
    "#ciliated\n",
    "sc.pl.umap(adata, color=['TPPP3_HUMAN','TBB4B_HUMAN','SNTAN_HUMAN','Id'],legend_loc=\"on data\",\n",
    ")"
   ]
  },
  {
   "cell_type": "code",
   "execution_count": null,
   "id": "3212b9bc-6590-4857-b55f-ea8b1bb81eee",
   "metadata": {},
   "outputs": [],
   "source": [
    "#basal\n",
    "sc.pl.umap(adata, color=['K1C15_HUMAN','K2C5_HUMAN','Id'],legend_loc=\"on data\",\n",
    ")"
   ]
  },
  {
   "cell_type": "code",
   "execution_count": null,
   "id": "28599555-158f-4881-9156-42332da40d4b",
   "metadata": {},
   "outputs": [],
   "source": [
    "#secretory club\n",
    "sc.pl.umap(adata, color=['UTER_HUMAN','BPIB1_HUMAN','Id'],legend_loc=\"on data\",\n",
    ")"
   ]
  },
  {
   "cell_type": "code",
   "execution_count": null,
   "id": "f61dd069-1d2a-4c9f-84b9-c65ffcb66a3c",
   "metadata": {},
   "outputs": [],
   "source": []
  },
  {
   "cell_type": "code",
   "execution_count": null,
   "id": "c4929e52-bdfb-4b39-b3e7-79a6a78a05f4",
   "metadata": {},
   "outputs": [],
   "source": [
    "#ciliated\n",
    "sc.pl.umap(adata, color=['TPPP3_HUMAN','TBB4B_HUMAN','SNTAN_HUMAN','CCD17_HUMAN','Id'],legend_loc=\"on data\",\n",
    ")"
   ]
  },
  {
   "cell_type": "code",
   "execution_count": null,
   "id": "a5eb692b-4347-4aab-92fc-b6e55844abb9",
   "metadata": {},
   "outputs": [],
   "source": []
  },
  {
   "cell_type": "code",
   "execution_count": null,
   "id": "b166ff53-281b-47c0-b344-882b94092c59",
   "metadata": {},
   "outputs": [],
   "source": []
  },
  {
   "cell_type": "code",
   "execution_count": null,
   "id": "09e06c02-8fb6-44dc-bec0-49173d8e16c8",
   "metadata": {},
   "outputs": [],
   "source": [
    "import umap\n",
    "umap_3d = umap.UMAP(n_components=3, random_state=42)\n",
    "\n",
    "adata.obsm['X_umap_3d'] = umap_3d.fit_transform(adata.obsm['X_scanorama'])"
   ]
  },
  {
   "cell_type": "code",
   "execution_count": null,
   "id": "e08b8698-5633-4ff2-9266-d4edfc03846d",
   "metadata": {},
   "outputs": [],
   "source": [
    "import plotly.graph_objects as go\n",
    "import plotly.express as px\n",
    "\n",
    "cell_types = list(adata.obs['Id'].unique())\n",
    "color_palette = px.colors.qualitative.Set1[:len(cell_types)]\n",
    "color_dict = {ct: color for ct, color in zip(cell_types, color_palette)}\n",
    "\n",
    "\n",
    "fig = go.Figure(data=[go.Scatter3d(\n",
    "    x=adata.obsm['X_umap_3d'][:, 0],\n",
    "    y=adata.obsm['X_umap_3d'][:, 1],\n",
    "    z=adata.obsm['X_umap_3d'][:, 2],\n",
    "    mode='markers',\n",
    "    marker=dict(\n",
    "        size=5,\n",
    "        color=[color_dict.get(cell_type, '#000000') for cell_type in adata.obs['Id']],\n",
    "        opacity=0.8\n",
    "    ),\n",
    "    text=adata.obs['Id'],\n",
    "    hoverinfo='text'\n",
    ")])\n",
    "# Mettez à jour la mise en page\n",
    "fig.update_layout(\n",
    "    scene=dict(aspectmode=\"data\"),\n",
    "    title=\"3D UMAP \"\n",
    ")\n",
    "\n",
    "fig.show()"
   ]
  },
  {
   "cell_type": "code",
   "execution_count": null,
   "id": "28a1de95-a052-4058-b051-3c946563ef96",
   "metadata": {},
   "outputs": [],
   "source": []
  },
  {
   "cell_type": "code",
   "execution_count": null,
   "id": "28bc54a4-bf98-4ec9-8974-3b79d4c3416d",
   "metadata": {},
   "outputs": [],
   "source": [
    "sc.pl.pca_scatter(adata, color=\"Id\")"
   ]
  },
  {
   "cell_type": "code",
   "execution_count": null,
   "id": "efef14ef-8426-44f0-93b1-84fdfa112c87",
   "metadata": {},
   "outputs": [],
   "source": []
  },
  {
   "cell_type": "code",
   "execution_count": null,
   "id": "d5925b05-3281-4224-ac37-e30f9052112f",
   "metadata": {},
   "outputs": [],
   "source": [
    "explained_variance = adata.uns[\"pca\"][\"variance_ratio\"] * 100  # Conversion en pourcentage\n",
    "for i, var in enumerate(explained_variance[:10]):  # Afficher les 10 premières composantes\n",
    "    print(f\"PC{i+1}: {var:.2f}% de variance expliquée\")"
   ]
  },
  {
   "cell_type": "code",
   "execution_count": null,
   "id": "064c827c-1f01-4fb3-9d19-a821bde36d95",
   "metadata": {},
   "outputs": [],
   "source": [
    "sc.pl.pca_scatter(adata, components=[\"3,4\"], color=\"Id\")"
   ]
  },
  {
   "cell_type": "code",
   "execution_count": null,
   "id": "41d53328-6318-4d47-bc9a-c813ab3632ce",
   "metadata": {},
   "outputs": [],
   "source": []
  },
  {
   "cell_type": "code",
   "execution_count": null,
   "id": "bd0fe2aa-3015-4c24-937b-c71fda101abb",
   "metadata": {},
   "outputs": [],
   "source": [
    "adata"
   ]
  },
  {
   "cell_type": "code",
   "execution_count": null,
   "id": "a6f67f60-f7c0-4078-9e75-1b504357dc5d",
   "metadata": {},
   "outputs": [],
   "source": [
    "os.makedirs('C:/Users/MDV/Documents/Pipeline folder Yohan/scP/Output/normalized_pearson_data',exist_ok = True)\n",
    "file_path = os.path.join('C:/Users/MDV/Documents/Pipeline folder Yohan/scP/Output/normalized_pearson_data', 'adata_concat_normalized.h5ad')\n",
    "adata.write_h5ad(file_path)\n",
    "print(f\"Saved: {file_path}\")"
   ]
  },
  {
   "cell_type": "code",
   "execution_count": null,
   "id": "ffc9dbc9-d581-4ad9-b225-24d0477fca3e",
   "metadata": {},
   "outputs": [],
   "source": []
  },
  {
   "cell_type": "code",
   "execution_count": null,
   "id": "40fa57bd-80fe-4ada-8a01-2bb539f1fa96",
   "metadata": {},
   "outputs": [],
   "source": []
  },
  {
   "cell_type": "code",
   "execution_count": null,
   "id": "eedcff7e-8c45-4119-a140-3ccaf0e52566",
   "metadata": {},
   "outputs": [],
   "source": []
  },
  {
   "cell_type": "code",
   "execution_count": null,
   "id": "16c7ef95-eb0a-4f26-b7e1-bef1cee08ffb",
   "metadata": {},
   "outputs": [],
   "source": []
  },
  {
   "cell_type": "code",
   "execution_count": null,
   "id": "4737a7fd-0216-4101-b766-a9e24a6babc8",
   "metadata": {},
   "outputs": [],
   "source": []
  },
  {
   "cell_type": "code",
   "execution_count": null,
   "id": "b8759da1-5e60-4817-88a6-ebfcc83a487a",
   "metadata": {},
   "outputs": [],
   "source": []
  },
  {
   "cell_type": "markdown",
   "id": "4585c9d7-f7f4-4b45-89b3-7dd47f1d4126",
   "metadata": {},
   "source": [
    "# Test avec données pré miss forest et scanorama"
   ]
  },
  {
   "cell_type": "code",
   "execution_count": null,
   "id": "c48f6c86-1c96-4364-9920-5b4a8af428d2",
   "metadata": {},
   "outputs": [],
   "source": [
    "adatas_red = []\n",
    "data_dir = 'C:/Users/MDV/Documents/Pipeline folder Yohan/scP/Output/Formated_data'\n",
    "\n",
    "for filename in os.listdir(data_dir):\n",
    "    if filename.endswith('.h5ad'):\n",
    "            adata = sc.read_h5ad(os.path.join(data_dir, filename))\n",
    "            adata.var_names_make_unique()\n",
    "            adatas_red.append(adata)\n",
    "\n",
    "print(f\"Nombre de fichiers h5ad chargés avec succès : {len(adatas_red)}\")"
   ]
  },
  {
   "cell_type": "code",
   "execution_count": null,
   "id": "6c19a7ee-5afc-4b78-9042-da78d5101e44",
   "metadata": {},
   "outputs": [],
   "source": [
    "plot_data = []\n",
    "\n",
    "for ade in adatas_red:\n",
    "    ad = ade.copy()\n",
    "    ad.X = np.nan_to_num(ad.X, nan=0.0)  \n",
    "    analytic_pearson = sc.experimental.pp.normalize_pearson_residuals(ad, inplace=False)\n",
    "    \n",
    "    X_fixed = analytic_pearson[\"X\"]\n",
    "    \n",
    "    plot_data.extend([(x, ad.obs['Id'][0]) for x in csr_matrix(X_fixed).sum(1).A1])\n",
    "\n",
    "df_plot = pd.DataFrame(plot_data, columns=[\"Normalized Sum\", \"Dataset\"])\n",
    "\n",
    "plt.figure(figsize=(10, 6))\n",
    "ax = sns.histplot(data=df_plot, x=\"Normalized Sum\", hue=\"Dataset\", bins=100, kde=False, palette=\"tab10\")\n",
    "\n",
    "plt.xlabel(\"Sum of the normalized values\")\n",
    "plt.ylabel(\"Number of cells\")\n",
    "plt.title(\"Distribution of the Pearson Residue Normalization\")\n",
    "\n",
    "# Afficher le plot\n",
    "plt.show()"
   ]
  },
  {
   "cell_type": "code",
   "execution_count": null,
   "id": "bfecf8ea-7708-47b2-8440-4fbbd9b1f89a",
   "metadata": {},
   "outputs": [],
   "source": [
    "adata1 = adt.concat(adatas_red, join=\"outer\", index_unique=\"-\", merge=\"unique\")\n",
    "adata1.layers['raw'] = adata1.X\n",
    "adata1.X = np.nan_to_num(adata1.X, nan=0.0)"
   ]
  },
  {
   "cell_type": "code",
   "execution_count": null,
   "id": "01b1977e-c10d-426a-8ee7-5ea0db3f6b93",
   "metadata": {},
   "outputs": [],
   "source": [
    "adata1.obs['expression_sum'] = np.array(adata1.X.sum(axis=1)).flatten()"
   ]
  },
  {
   "cell_type": "code",
   "execution_count": null,
   "id": "0fcad0f5-a670-4b71-b47c-907ba827c95c",
   "metadata": {},
   "outputs": [],
   "source": [
    "analytic_pearson = sc.experimental.pp.normalize_pearson_residuals(adata1, inplace=False)\n",
    "X_fixed = analytic_pearson[\"X\"]\n",
    "X_fixed[np.isnan(X_fixed)] = 0 \n",
    "adata1.layers[\"analytic_pearson_residuals_train\"] = csr_matrix(X_fixed)\n",
    "adata1.X = adata1.layers[\"analytic_pearson_residuals_train\"]\n",
    "sc.pp.pca(adata1)\n",
    "sce.pp.scanorama_integrate(adata1, 'Id', verbose =1)"
   ]
  },
  {
   "cell_type": "code",
   "execution_count": null,
   "id": "ecc88e82-44d3-4333-8c73-bbc60bf25f7a",
   "metadata": {},
   "outputs": [],
   "source": [
    "sc.pl.pca_variance_ratio(adata1, log=True)"
   ]
  },
  {
   "cell_type": "code",
   "execution_count": null,
   "id": "4ba26927-ccf7-4dc7-8e24-68450e9c9b87",
   "metadata": {},
   "outputs": [],
   "source": [
    "sc.pp.neighbors(adata1, use_rep = 'X_scanorama')\n",
    "sc.tl.leiden(adata1, resolution = 2, key_added = 'overcluster')\n",
    "sc.tl.umap(adata1)\n",
    "sc.pl.umap(\n",
    "    adata1,\n",
    "    color=['overcluster']\n",
    ")"
   ]
  },
  {
   "cell_type": "code",
   "execution_count": null,
   "id": "763213c4-076f-490b-893b-6f29f1969b41",
   "metadata": {},
   "outputs": [],
   "source": [
    "np.random.seed(1)\n",
    "ri = np.random.permutation(list(range(adata1.shape[0])))\n",
    "\n",
    "sc.pl.umap(adata1[ri,:], color = ['expression_sum','Id','overcluster'], vmin = .5, size = 20)"
   ]
  },
  {
   "cell_type": "code",
   "execution_count": null,
   "id": "ee2acc46-7e4d-409c-9d58-3ac4d9e11748",
   "metadata": {},
   "outputs": [],
   "source": [
    "adata1"
   ]
  },
  {
   "cell_type": "code",
   "execution_count": null,
   "id": "12c01c19-6e93-47a4-9156-a9f1b6a16b29",
   "metadata": {},
   "outputs": [],
   "source": []
  },
  {
   "cell_type": "code",
   "execution_count": null,
   "id": "9c34c78e-c261-492a-8867-e4a606d5722d",
   "metadata": {},
   "outputs": [],
   "source": [
    "sc.pl.umap(adata1, color=['TPPP3_HUMAN'],legend_loc=\"on data\",\n",
    ")"
   ]
  },
  {
   "cell_type": "code",
   "execution_count": null,
   "id": "7a598b6f-d799-40b3-a2ea-1b335a67b594",
   "metadata": {},
   "outputs": [],
   "source": [
    "#ciliated\n",
    "sc.pl.umap(adata1, color=['TPPP3_HUMAN','TBB4B_HUMAN','SNTAN_HUMAN','CCD17_HUMAN','Id'],legend_loc=\"on data\",\n",
    ")"
   ]
  },
  {
   "cell_type": "code",
   "execution_count": null,
   "id": "877c6621-18b6-490a-8e3d-ad297e8885f8",
   "metadata": {},
   "outputs": [],
   "source": []
  },
  {
   "cell_type": "code",
   "execution_count": null,
   "id": "aa9fda9f-93fe-4bac-837a-3c4228908d52",
   "metadata": {},
   "outputs": [],
   "source": [
    "#basal\n",
    "sc.pl.umap(adata1, color=['K1C15_HUMAN','K2C5_HUMAN','MUC4_HUMAN','MUC5B_HUMAN','MUC5A_HUMAN','Id'],legend_loc=\"on data\",\n",
    ")"
   ]
  },
  {
   "cell_type": "code",
   "execution_count": null,
   "id": "2a4c3b6f-ba17-4857-a298-781904926856",
   "metadata": {},
   "outputs": [],
   "source": []
  },
  {
   "cell_type": "code",
   "execution_count": null,
   "id": "760ff170-a195-4fb4-be09-7fbcaac20488",
   "metadata": {},
   "outputs": [],
   "source": [
    "#secretory club\n",
    "sc.pl.umap(adata1, color=['UTER_HUMAN','BPIB1_HUMAN','Id'],legend_loc=\"on data\",\n",
    ")"
   ]
  },
  {
   "cell_type": "code",
   "execution_count": null,
   "id": "a2380edd-98b0-4230-a4a1-e7ca5f6e16dc",
   "metadata": {},
   "outputs": [],
   "source": [
    "#secretory club\n",
    "sc.pl.umap(adata1, color=['TRFL_HUMAN','CADH1_HUMAN','MUC5A_HUMAN','Id'],legend_loc=\"on data\",\n",
    ")"
   ]
  },
  {
   "cell_type": "code",
   "execution_count": null,
   "id": "db7640c3-72fd-40a1-a854-f9ed27f212a4",
   "metadata": {},
   "outputs": [],
   "source": []
  },
  {
   "cell_type": "code",
   "execution_count": null,
   "id": "31b4392b-a5f6-40dc-ac4f-cf3e354537ed",
   "metadata": {
    "scrolled": true
   },
   "outputs": [],
   "source": [
    "sc.tl.rank_genes_groups(adata1, groupby = 'overcluster')\n",
    "marks = sc.get.rank_genes_groups_df(adata1, group = None)"
   ]
  },
  {
   "cell_type": "code",
   "execution_count": null,
   "id": "587d252a-c675-40c3-9f7c-e5e1ac1d4f87",
   "metadata": {
    "scrolled": true
   },
   "outputs": [],
   "source": [
    "marks[(marks.group == '14') ].sort_values('logfoldchanges', ascending = False).head(60)"
   ]
  },
  {
   "cell_type": "code",
   "execution_count": null,
   "id": "39c732f0-c373-4dcc-b5a6-f2122b6359f5",
   "metadata": {},
   "outputs": [],
   "source": []
  },
  {
   "cell_type": "code",
   "execution_count": null,
   "id": "8f005fcd-ea57-4a18-bfb9-68babb130c0f",
   "metadata": {},
   "outputs": [],
   "source": [
    "ax = sc.pl.umap(adata1, palette = 'lightgrey', show = False)\n",
    "sc.pl.umap(adata1[adata1.obs.overcluster == '10'], color = 'overcluster',size =45, ax = ax, legend_loc = None, palette = 'k')"
   ]
  },
  {
   "cell_type": "code",
   "execution_count": null,
   "id": "b2bfd5a6-0821-4b36-8508-695e74927761",
   "metadata": {},
   "outputs": [],
   "source": []
  },
  {
   "cell_type": "code",
   "execution_count": null,
   "id": "939b9616-a792-4b62-899c-cb56f0204d34",
   "metadata": {},
   "outputs": [],
   "source": [
    "marks"
   ]
  },
  {
   "cell_type": "markdown",
   "id": "edc1c41b-08e4-4d19-bc5d-90e16530f597",
   "metadata": {},
   "source": [
    "### Dendro with data non imputed"
   ]
  },
  {
   "cell_type": "code",
   "execution_count": null,
   "id": "2b66eebe-ecbe-41d1-847f-1664756caaac",
   "metadata": {},
   "outputs": [],
   "source": [
    "#marks['pvals'].mean()"
   ]
  },
  {
   "cell_type": "code",
   "execution_count": null,
   "id": "272ae998-1860-44c0-988a-abbcb6f1ef12",
   "metadata": {},
   "outputs": [],
   "source": [
    "#dendr_df = marks.pivot(index=\"group\", columns=\"names\", values=\"logfoldchanges\")"
   ]
  },
  {
   "cell_type": "code",
   "execution_count": null,
   "id": "f6061d4d-da1f-473b-8886-c200c4ed7c66",
   "metadata": {},
   "outputs": [],
   "source": [
    "#dendr_df"
   ]
  },
  {
   "cell_type": "code",
   "execution_count": null,
   "id": "b014e2bc-cab1-44b0-871f-36a13ae96053",
   "metadata": {},
   "outputs": [],
   "source": [
    "#nan_percentage = dendr_df.isnan().mean()\n",
    "#print(f\"Proportion de NaN dans X : {nan_percentage:.2%}\")"
   ]
  },
  {
   "cell_type": "code",
   "execution_count": null,
   "id": "a3835c6f-5ab4-4ed0-ab31-4d514e4c66f3",
   "metadata": {},
   "outputs": [],
   "source": [
    "total_nan_percentage = dendr_df.isna().mean().mean()\n",
    "print(f\"Proportion totale de NaN dans le DataFrame : {total_nan_percentage:.2%}\")"
   ]
  },
  {
   "cell_type": "code",
   "execution_count": null,
   "id": "cab6f700-647a-49cc-8b6c-691c34fd7d69",
   "metadata": {},
   "outputs": [],
   "source": []
  },
  {
   "cell_type": "code",
   "execution_count": null,
   "id": "f072579e-884c-4a74-8e72-25a78d162ca0",
   "metadata": {},
   "outputs": [],
   "source": []
  },
  {
   "cell_type": "code",
   "execution_count": null,
   "id": "66c575d3-fdfd-4869-8272-bf12818096a8",
   "metadata": {},
   "outputs": [],
   "source": [
    "#dendr_df_clean = dendr_df.loc[:, (dendr_df > 2).any(axis=0)]"
   ]
  },
  {
   "cell_type": "code",
   "execution_count": null,
   "id": "c7be10fd-2f1c-45db-97ec-9cdaae5253b5",
   "metadata": {},
   "outputs": [],
   "source": [
    "#dendr_df_clean"
   ]
  },
  {
   "cell_type": "code",
   "execution_count": null,
   "id": "a8e39dbb-1074-40bc-a0d8-b5deaf66e17a",
   "metadata": {},
   "outputs": [],
   "source": [
    "total_nan_percentage = dendr_df_clean.isna().mean().mean()\n",
    "print(f\"Proportion totale de NaN dans le DataFrame : {total_nan_percentage:.2%}\")"
   ]
  },
  {
   "cell_type": "markdown",
   "id": "be66f996-5abc-4d48-996d-fade4ea5e88f",
   "metadata": {},
   "source": [
    "# only the pos expressed genes"
   ]
  },
  {
   "cell_type": "code",
   "execution_count": null,
   "id": "6196b526-349c-486e-9043-58f1c4ccb52e",
   "metadata": {},
   "outputs": [],
   "source": [
    "import scipy.cluster.hierarchy as sch\n",
    "import scipy.spatial.distance as ssd"
   ]
  },
  {
   "cell_type": "code",
   "execution_count": null,
   "id": "4778585b-79b5-4bcb-b8d1-d7a03fde856a",
   "metadata": {},
   "outputs": [],
   "source": [
    "def ranking_evaluation_cluster(marks_cluster, size_rk):\n",
    "    selected_genes = marks_cluster['names'][:size_rk]\n",
    "    if marks_cluster.loc[marks_cluster['names'].isin(selected_genes), 'logfoldchanges'].isna().any():\n",
    "        raise ValueError(\"Error; NaN values found in the selected proteins\")\n",
    "\n",
    "    ranking_id = marks_cluster['group'].unique()[0]\n",
    "    rankings_cluster = {f\"{ranking_id}\": {prot: i + 1 for i, prot in enumerate(selected_genes)}}\n",
    "    return rankings_cluster"
   ]
  },
  {
   "cell_type": "code",
   "execution_count": null,
   "id": "4af9d942-539c-4b6d-b7aa-0997baceacd2",
   "metadata": {},
   "outputs": [],
   "source": [
    "def ranking_evaluation(marks, size_rk):\n",
    "    # do not allow NaN values\n",
    "    ranking = {}\n",
    "    for num in marks['group'].unique():\n",
    "        marks_cluster = marks[(marks.group == f\"{num}\") ].sort_values('logfoldchanges', ascending = False)\n",
    "        rankings_cluster = ranking_evaluation_cluster(marks_cluster, size_rk)\n",
    "        ranking.update(rankings_cluster)\n",
    "    return ranking"
   ]
  },
  {
   "cell_type": "code",
   "execution_count": null,
   "id": "f07975c6-c42c-4876-8576-38fdc2df7206",
   "metadata": {},
   "outputs": [],
   "source": [
    "def common(ranking):\n",
    "    all_genes = list(set.union(*[set(list(ranking[cluster].keys())) for cluster in list(ranking.keys())]))\n",
    "\n",
    "    presence_matrix = pd.DataFrame(0, index=all_genes, columns=[f\"Dataset {cluster}\" for cluster in list(ranking.keys())])\n",
    "\n",
    "    for cluster in list(ranking.keys()):\n",
    "        presence_matrix.loc[list(ranking[cluster].keys()), f\"Dataset {cluster}\"] = 1\n",
    "\n",
    "    compte = pd.DataFrame(0, index=all_genes, columns=[f\"Seen in {i+1} clusters\" for i in range(len(list(ranking.keys())))])\n",
    "    sum_presencematrix = presence_matrix.sum(1)\n",
    "    for gene in all_genes:\n",
    "        presence_count = sum_presencematrix[gene] \n",
    "        compte.loc[gene, f\"Seen in {presence_count} clusters\"] = 1  \n",
    "\n",
    "\n",
    "    column_sums = compte.sum(axis=0)\n",
    "\n",
    "\n",
    "    plt.figure(figsize=(8, 6))\n",
    "    sns.barplot(x=column_sums.index, y=column_sums.values, palette=\"viridis\")\n",
    "\n",
    "    plt.xlabel(\"Number of datasets where proteins seen\")\n",
    "    plt.ylabel(\"Number of proteins\")\n",
    "    plt.title(\"Number of proteins shared between datasets\")\n",
    "\n",
    "\n",
    "    plt.xticks(rotation=45)\n",
    "\n",
    "    plt.show()"
   ]
  },
  {
   "cell_type": "code",
   "execution_count": null,
   "id": "480503a2-d2d1-40b3-a72f-23b5615f1385",
   "metadata": {
    "jupyter": {
     "source_hidden": true
    }
   },
   "outputs": [],
   "source": [
    "def ranking_dendrogramme(marks, size_rk):\n",
    "    ranking = ranking_evaluation(marks, size_rk)\n",
    "    common(ranking)\n",
    "\n",
    "    all_genes = list(set.union(*[set(list(ranking[cluster].keys())) for cluster in list(ranking.keys())]))\n",
    "    #matrix_rk = pd.DataFrame(np.nan, index=[f\"Dataset {cluster}\" for cluster in list(ranking.keys())], columns=all_genes)\n",
    "   # print(matrix_rk)\n",
    "    data = {}\n",
    "    \n",
    "    for cluster_id, proteins in ranking.items():\n",
    "        row = {gene: np.nan for gene in all_genes}\n",
    "        for protein, rank in proteins.items():\n",
    "            row[protein] = rank\n",
    "        data[cluster_id] = row\n",
    "    \n",
    "    df_ranking = pd.DataFrame(data).T\n",
    "    df_ranking.fillna(df_ranking.max().max()+1,inplace=True)\n",
    "    dist_matrix = ssd.squareform(ssd.pdist(df_ranking, metric=\"correlation\"))\n",
    "    linkage_matrix = sch.linkage(dist_matrix, method=\"ward\")\n",
    "    \n",
    "    plt.figure(figsize=(10, 5))\n",
    "    sch.dendrogram(linkage_matrix)\n",
    "    plt.title(\"Dendrogramm of the clusters\")\n",
    "    plt.xlabel(\"Clusters\")\n",
    "    plt.ylabel(\"Distance\")\n",
    "    plt.show()"
   ]
  },
  {
   "cell_type": "code",
   "execution_count": null,
   "id": "ab4e55ab-a939-4bbd-b9b7-8300689068ab",
   "metadata": {},
   "outputs": [],
   "source": []
  },
  {
   "cell_type": "code",
   "execution_count": null,
   "id": "c858be9f-b1d5-41ad-96d0-c29aeaacc1ff",
   "metadata": {},
   "outputs": [],
   "source": [
    "def custom_dendrogram(*args, **kwargs):\n",
    "    dendro_data = sch.dendrogram(*args, **kwargs)\n",
    "\n",
    "    if not kwargs.get('no_plot', False):\n",
    "        for icoord, dcoord in zip(dendro_data['icoord'], dendro_data['dcoord']):\n",
    "            x_coord = 0.5 * sum(icoord[1:3])  \n",
    "            height = dcoord[1]  \n",
    "            plt.plot(x_coord, height, 'ro') \n",
    "            plt.annotate(f\"{height:.3g}\", (x_coord, height), xytext=(0, -8),\n",
    "                         textcoords='offset points', va='top', ha='center')  \n",
    "\n",
    "    return dendro_data"
   ]
  },
  {
   "cell_type": "code",
   "execution_count": null,
   "id": "19d2e4ff-c937-4d4e-bbc7-048da5a9e105",
   "metadata": {},
   "outputs": [],
   "source": [
    "def evolution_number_cluster(linkage_matrix):\n",
    "    distances = linkage_matrix[:, 2]  \n",
    "    max_distance = max(distances)\n",
    "    cluster_counts = []\n",
    "\n",
    "    for distance in distances:\n",
    "        clusters = sch.fcluster(linkage_matrix, t=distance, criterion='distance')\n",
    "        cluster_counts.append(len(np.unique(clusters)))\n",
    "\n",
    "# print of the figure\n",
    "    plt.figure(figsize=(8, 6))\n",
    "    plt.plot(distances, cluster_counts, marker='o')\n",
    "    plt.xlabel('Distance')\n",
    "    plt.ylabel('Number of clusters')\n",
    "    plt.title('Evolution of the number of cluster')\n",
    "    plt.grid(True)\n",
    "    plt.show()\n"
   ]
  },
  {
   "cell_type": "code",
   "execution_count": null,
   "id": "f933c032-aad1-4a35-8998-3a2a87cd71dd",
   "metadata": {},
   "outputs": [],
   "source": [
    "def evolution_metacluster(linkage_matrix,list_cluster):\n",
    "\n",
    "    distances = np.concatenate(([0], linkage_matrix[:, 2]))\n",
    "    cluster_counts = []\n",
    "    single_elements_counts = []\n",
    "\n",
    "    n_elements = len(list_cluster)\n",
    "    for distance in distances:\n",
    "        clusters = np.concatenate(([0],sch.fcluster(linkage_matrix, t=distance, criterion='distance')))\n",
    "        cluster_sizes = np.bincount(clusters)\n",
    "    \n",
    "        valid_clusters = np.sum(cluster_sizes >= 2)\n",
    "        cluster_counts.append(valid_clusters)\n",
    "    \n",
    "        single_elements = np.sum(cluster_sizes == 1)\n",
    "        single_elements_counts.append(single_elements)\n",
    "\n",
    "    plt.figure(figsize=(8, 6))\n",
    "    plt.plot(distances,cluster_counts, marker='o', label='MetaCluster')\n",
    "    plt.xlabel('Distance')\n",
    "    plt.ylabel('Number of MetaCluster')\n",
    "    plt.title('Evolution of the number of MetaCluster')\n",
    "    plt.grid(True)\n",
    "    plt.legend()\n",
    "    plt.show()\n",
    "\n",
    "    plt.figure(figsize=(8, 6))\n",
    "    plt.plot(distances, single_elements_counts, marker='x', color='green', label='Number of clusters out of MetaCluster')\n",
    "    plt.xlabel('Distance')\n",
    "    plt.ylabel('Number of clusters out of MetaCluster')\n",
    "    plt.title('Evolution of the Number of clusters out of MetaCluster depending of the distance')\n",
    "    plt.grid(True)\n",
    "    plt.legend()\n",
    "    plt.show()"
   ]
  },
  {
   "cell_type": "code",
   "execution_count": null,
   "id": "8b3a4164-e254-40f0-8dfe-2182228d5ebe",
   "metadata": {},
   "outputs": [],
   "source": [
    "def ranking_dendrogramme(marks, size_rk):\n",
    "    ranking = ranking_evaluation(marks, size_rk)\n",
    "    common(ranking)\n",
    "\n",
    "    all_genes = list(set.union(*[set(list(ranking[cluster].keys())) for cluster in list(ranking.keys())]))\n",
    "    data = {}\n",
    "    list_cluster = []\n",
    "    for cluster_id, proteins in ranking.items():\n",
    "        list_cluster.append(cluster_id)\n",
    "        row = {gene: np.nan for gene in all_genes}\n",
    "        for protein, rank in proteins.items():\n",
    "            row[protein] = rank\n",
    "        data[cluster_id] = row\n",
    "\n",
    "    df_ranking = pd.DataFrame(data).T\n",
    "    df_ranking.fillna(df_ranking.max().max()+1,inplace=True)\n",
    "    dist_matrix = ssd.squareform(ssd.pdist(df_ranking, metric=\"correlation\"))\n",
    "    linkage_matrix = sch.linkage(dist_matrix, method=\"ward\")\n",
    "\n",
    "    evolution_number_cluster(linkage_matrix)\n",
    "    evolution_metacluster(linkage_matrix,list_cluster)\n",
    "    \n",
    "    plt.figure(figsize=(10, 5))\n",
    "    plt.figure(figsize=(10, 4))\n",
    "    dendro_data = custom_dendrogram(linkage_matrix)\n",
    "    plt.title(\"Dendrogramm of the clusters\")\n",
    "    plt.xlabel(\"Clusters\")\n",
    "    plt.ylabel(\"Distance\")\n",
    "    plt.show()"
   ]
  },
  {
   "cell_type": "code",
   "execution_count": null,
   "id": "589736eb-cd0e-4de8-a0e6-af84768a318f",
   "metadata": {},
   "outputs": [],
   "source": [
    "ranking_dendrogramme(marks, 200)"
   ]
  },
  {
   "cell_type": "code",
   "execution_count": null,
   "id": "1fe0210e-e449-4591-aa36-fab0340b3a24",
   "metadata": {},
   "outputs": [],
   "source": []
  },
  {
   "cell_type": "code",
   "execution_count": null,
   "id": "e5dd9f27-794a-4f37-90c4-371c57b7a71d",
   "metadata": {},
   "outputs": [],
   "source": []
  },
  {
   "cell_type": "code",
   "execution_count": null,
   "id": "7bba3629-6a97-46f9-b886-a9f1083baa53",
   "metadata": {},
   "outputs": [],
   "source": []
  },
  {
   "cell_type": "code",
   "execution_count": null,
   "id": "45a30aca-9ac6-4498-8ff9-b63ed2678498",
   "metadata": {},
   "outputs": [],
   "source": []
  },
  {
   "cell_type": "code",
   "execution_count": null,
   "id": "59d3272d-8517-4dbc-8beb-392881fd9ba6",
   "metadata": {},
   "outputs": [],
   "source": []
  },
  {
   "cell_type": "code",
   "execution_count": null,
   "id": "002e5928-8d1f-44f3-9c7c-0bb3450ccb94",
   "metadata": {},
   "outputs": [],
   "source": [
    "def common_prot_clusters(marks, size_rk,cluster_group,ranking):\n",
    "    common_prot = list(set.intersection(*[set(list(ranking[cluster].keys())) for cluster in cluster_group]))\n",
    "    return common_prot"
   ]
  },
  {
   "cell_type": "code",
   "execution_count": null,
   "id": "b6fbe485-351b-40f8-9634-aab4ed534207",
   "metadata": {},
   "outputs": [],
   "source": [
    "def tab_sim_prot(marks, size_rk,cluster_group):\n",
    "    ranking = ranking_evaluation(marks, size_rk)\n",
    "    common_prot = common_prot_clusters(marks, size_rk,cluster_group,ranking)\n",
    "    print(common_prot)\n",
    "    data = {}\n",
    "    \n",
    "    for cluster_id, proteins in ranking.items():\n",
    "        if cluster_id in cluster_group:\n",
    "            row = {prot: np.nan for prot in common_prot}\n",
    "            for protein, rank in proteins.items():\n",
    "                if protein in common_prot:\n",
    "                    row[protein] = rank\n",
    "            data[cluster_id] = row\n",
    "    \n",
    "    df_ranking = pd.DataFrame(data).T\n",
    "    df_ranking.fillna(df_ranking.max().max()+1,inplace=True)\n",
    "    return df_ranking"
   ]
  },
  {
   "cell_type": "code",
   "execution_count": null,
   "id": "ec295c6d-68f4-41dd-9afc-51919ed41581",
   "metadata": {},
   "outputs": [],
   "source": [
    "cluster_group = ['3','8']"
   ]
  },
  {
   "cell_type": "code",
   "execution_count": null,
   "id": "c96a5f98-ff66-487d-94e6-173d708b3048",
   "metadata": {},
   "outputs": [],
   "source": [
    "cluster_group =['10', '2', '5','13','14','16']"
   ]
  },
  {
   "cell_type": "code",
   "execution_count": null,
   "id": "27f75007-008e-49e0-b9b9-c956e85dc5f4",
   "metadata": {},
   "outputs": [],
   "source": [
    "tab_sim_prot(marks, 200,cluster_group)"
   ]
  },
  {
   "cell_type": "code",
   "execution_count": null,
   "id": "a2ef6283-862f-495d-b9b5-cca3c5573ae9",
   "metadata": {},
   "outputs": [],
   "source": []
  },
  {
   "cell_type": "code",
   "execution_count": null,
   "id": "3dfa6871-a21a-44a0-af29-b5a40fe1e244",
   "metadata": {},
   "outputs": [],
   "source": []
  },
  {
   "cell_type": "code",
   "execution_count": null,
   "id": "24e53b2e-83e8-400e-8b93-f8e573f2a8a4",
   "metadata": {},
   "outputs": [],
   "source": []
  },
  {
   "cell_type": "code",
   "execution_count": null,
   "id": "9bd66c98-200a-4758-af1e-9863a92eab85",
   "metadata": {},
   "outputs": [],
   "source": []
  },
  {
   "cell_type": "code",
   "execution_count": null,
   "id": "40af2a19-f1f7-46bc-b4ca-9a315f836e62",
   "metadata": {},
   "outputs": [],
   "source": []
  },
  {
   "cell_type": "markdown",
   "id": "5d6ef336-eada-444a-9910-b7da7ec25ad0",
   "metadata": {},
   "source": [
    "# Neg prot expression (not interesting)"
   ]
  },
  {
   "cell_type": "code",
   "execution_count": null,
   "id": "4398362f-cfcf-4caf-98fd-370ff6f341cd",
   "metadata": {},
   "outputs": [],
   "source": []
  },
  {
   "cell_type": "code",
   "execution_count": null,
   "id": "32f00da4-8715-48c1-883a-94e5b24571a3",
   "metadata": {},
   "outputs": [],
   "source": [
    "def ranking_evaluation_cluster_neg(marks_cluster, size_rk):\n",
    "    selected_genes = marks_cluster['names'][:size_rk]\n",
    "    if marks_cluster.loc[marks_cluster['names'].isin(selected_genes), 'logfoldchanges'].isna().any():\n",
    "        raise ValueError(\"Error; NaN values found in the selected proteins\")\n",
    "\n",
    "    ranking_id = marks_cluster['group'].unique()[0]\n",
    "    rankings_cluster = {f\"{ranking_id}\": {prot: i + 1 for i, prot in enumerate(selected_genes)}}\n",
    "    return rankings_cluster"
   ]
  },
  {
   "cell_type": "code",
   "execution_count": null,
   "id": "de436927-5fcd-4d59-b3b5-13490cd470b6",
   "metadata": {},
   "outputs": [],
   "source": [
    "def ranking_evaluation_neg(marks, size_rk):\n",
    "    # do not allow NaN values\n",
    "    ranking = {}\n",
    "    for num in marks['group'].unique():\n",
    "        marks_cluster = marks[(marks.group == f\"{num}\") ].sort_values('logfoldchanges', ascending = True)\n",
    "        rankings_cluster = ranking_evaluation_cluster_neg(marks_cluster, size_rk)\n",
    "        ranking.update(rankings_cluster)\n",
    "    return ranking"
   ]
  },
  {
   "cell_type": "code",
   "execution_count": null,
   "id": "489ec162-a372-4729-bd3c-25d468bcef09",
   "metadata": {},
   "outputs": [],
   "source": [
    "def common(ranking):\n",
    "    all_genes = list(set().union(*[set(list(ranking[cluster].keys())) for cluster in list(ranking.keys())]))\n",
    "\n",
    "    presence_matrix = pd.DataFrame(0, index=all_genes, columns=[f\"Dataset {cluster}\" for cluster in list(ranking.keys())])\n",
    "\n",
    "    for cluster in list(ranking.keys()):\n",
    "        presence_matrix.loc[list(ranking[cluster].keys()), f\"Dataset {cluster}\"] = 1\n",
    "\n",
    "    compte = pd.DataFrame(0, index=all_genes, columns=[f\"Seen in {i+1} clusters\" for i in range(len(list(ranking.keys())))])\n",
    "    sum_presencematrix = presence_matrix.sum(1)\n",
    "    for gene in all_genes:\n",
    "        presence_count = sum_presencematrix[gene] \n",
    "        compte.loc[gene, f\"Seen in {presence_count} clusters\"] = 1  \n",
    "\n",
    "\n",
    "    column_sums = compte.sum(axis=0)\n",
    "\n",
    "\n",
    "    plt.figure(figsize=(8, 6))\n",
    "    sns.barplot(x=column_sums.index, y=column_sums.values, palette=\"viridis\")\n",
    "\n",
    "    plt.xlabel(\"Number of datasets where proteins seen\")\n",
    "    plt.ylabel(\"Number of proteins\")\n",
    "    plt.title(\"Number of proteins shared between datasets\")\n",
    "\n",
    "\n",
    "    plt.xticks(rotation=45)\n",
    "\n",
    "    plt.show()"
   ]
  },
  {
   "cell_type": "code",
   "execution_count": null,
   "id": "d92a8e87-2b5d-4a31-889c-4d5ef4872506",
   "metadata": {},
   "outputs": [],
   "source": [
    "def custom_dendrogram(*args, **kwargs):\n",
    "    dendro_data = dendrogram(*args, **kwargs)\n",
    "\n",
    "    if not kwargs.get('no_plot', False):\n",
    "        for icoord, dcoord in zip(dendro_data['icoord'], dendro_data['dcoord']):\n",
    "            x_coord = 0.5 * sum(icoord[1:3])  \n",
    "            height = dcoord[1]  \n",
    "            plt.plot(x_coord, height, 'ro') \n",
    "            plt.annotate(f\"{height:.3g}\", (x_coord, height), xytext=(0, -8),\n",
    "                         textcoords='offset points', va='top', ha='center')  \n",
    "\n",
    "    return dendro_data"
   ]
  },
  {
   "cell_type": "code",
   "execution_count": null,
   "id": "f27b0fb8-7f42-40dd-989d-941c9af63628",
   "metadata": {},
   "outputs": [],
   "source": [
    "def ranking_dendrogramme_neg(marks, size_rk):\n",
    "    ranking = ranking_evaluation_neg(marks, size_rk)\n",
    "    common(ranking)\n",
    "\n",
    "    all_genes = list(set().union(*[set(list(ranking[cluster].keys())) for cluster in list(ranking.keys())]))\n",
    "    #matrix_rk = pd.DataFrame(np.nan, index=[f\"Dataset {cluster}\" for cluster in list(ranking.keys())], columns=all_genes)\n",
    "   # print(matrix_rk)\n",
    "    data = {}\n",
    "    \n",
    "    for cluster_id, proteins in ranking.items():\n",
    "        row = {gene: np.nan for gene in all_genes}\n",
    "        for protein, rank in proteins.items():\n",
    "            row[protein] = rank\n",
    "        data[cluster_id] = row\n",
    "    \n",
    "    df_ranking = pd.DataFrame(data).T\n",
    "    df_ranking.fillna(df_ranking.max().max()+1,inplace=True)\n",
    "    dist_matrix = ssd.squareform(ssd.pdist(df_ranking, metric=\"correlation\"))\n",
    "    linkage_matrix = sch.linkage(dist_matrix, method=\"ward\")\n",
    "    \n",
    "    plt.figure(figsize=(10, 5))\n",
    "    plt.figure(figsize=(10, 4))\n",
    "    dendro_data = custom_dendrogram(linkage_matrix)\n",
    "    plt.title(\"Dendrogramm of the clusters\")\n",
    "    plt.xlabel(\"Clusters\")\n",
    "    plt.ylabel(\"Distance\")\n",
    "    plt.show()"
   ]
  },
  {
   "cell_type": "code",
   "execution_count": null,
   "id": "2d12b39f-0255-4915-b3e9-ac35d83f967b",
   "metadata": {},
   "outputs": [],
   "source": [
    "ranking_dendrogramme_neg(marks, 200)"
   ]
  },
  {
   "cell_type": "code",
   "execution_count": null,
   "id": "1f05b133-c014-47dc-9402-38e9eae12d79",
   "metadata": {},
   "outputs": [],
   "source": []
  },
  {
   "cell_type": "code",
   "execution_count": null,
   "id": "22a943cd-873e-473e-baf4-6632f099d3bb",
   "metadata": {},
   "outputs": [],
   "source": []
  },
  {
   "cell_type": "code",
   "execution_count": null,
   "id": "441ac5d4-940b-40ce-9471-583e67062b80",
   "metadata": {},
   "outputs": [],
   "source": []
  },
  {
   "cell_type": "code",
   "execution_count": null,
   "id": "ca760217-1c7e-4c74-a7ef-93f5330893f1",
   "metadata": {},
   "outputs": [],
   "source": []
  },
  {
   "cell_type": "code",
   "execution_count": null,
   "id": "2498cf0b-979d-473c-a772-09a4ef5fd440",
   "metadata": {},
   "outputs": [],
   "source": []
  },
  {
   "cell_type": "code",
   "execution_count": null,
   "id": "814ef185-7824-4e86-bf98-f7a57c9f9db1",
   "metadata": {},
   "outputs": [],
   "source": [
    "ax = sc.pl.umap(adata1, palette = 'lightgrey', show = False)\n",
    "adata_clusters = adata1[adata1.obs['overcluster'].isin(['10', '2', '5','13','14','16'])]\n",
    "\n",
    "sc.pl.umap(adata_clusters, \n",
    "           color='overcluster',  \n",
    "           size=45,              \n",
    "           ax=ax,               \n",
    "           legend_loc=None     \n",
    "          )  \n",
    "\n",
    "plt.show()"
   ]
  },
  {
   "cell_type": "code",
   "execution_count": null,
   "id": "6d52c6e2-8ff5-4791-8db8-bc439bb4f7c1",
   "metadata": {},
   "outputs": [],
   "source": []
  },
  {
   "cell_type": "code",
   "execution_count": null,
   "id": "4d9a1fc4-deff-48b1-99e1-d6f9a0b2547d",
   "metadata": {},
   "outputs": [],
   "source": [
    "ax = sc.pl.umap(adata1, palette = 'lightgrey', show = False)\n",
    "adata_clusters = adata1[adata1.obs['overcluster'].isin(['1', '9', '17','0','18','22','15','20'])]\n",
    "\n",
    "sc.pl.umap(adata_clusters, \n",
    "           color='overcluster',  \n",
    "           size=45,              \n",
    "           ax=ax,               \n",
    "           legend_loc=None     \n",
    "          )  \n",
    "\n",
    "plt.show()"
   ]
  },
  {
   "cell_type": "code",
   "execution_count": null,
   "id": "6939ad84-c933-441a-9a9f-65c7aabf3eb0",
   "metadata": {},
   "outputs": [],
   "source": [
    "ax = sc.pl.umap(adata1, palette = 'lightgrey', show = False)\n",
    "adata_clusters = adata1[adata1.obs['overcluster'].isin(['4', '11', '6','7','12','19','21'])]\n",
    "\n",
    "sc.pl.umap(adata_clusters, \n",
    "           color='overcluster',  \n",
    "           size=45,              \n",
    "           ax=ax,               \n",
    "           legend_loc=None     \n",
    "          )  \n",
    "\n",
    "plt.show()"
   ]
  },
  {
   "cell_type": "code",
   "execution_count": null,
   "id": "6b0a7a23-ff31-46f1-858b-8656c08a4f67",
   "metadata": {},
   "outputs": [],
   "source": [
    "ax = sc.pl.umap(adata1, palette = 'lightgrey', show = False)\n",
    "adata_clusters = adata1[adata1.obs['overcluster'].isin(['3','8'])]\n",
    "\n",
    "sc.pl.umap(adata_clusters, \n",
    "           color='overcluster',  \n",
    "           size=45,              \n",
    "           ax=ax,               \n",
    "           legend_loc=None     \n",
    "          )  \n",
    "\n",
    "plt.show()"
   ]
  },
  {
   "cell_type": "code",
   "execution_count": null,
   "id": "6cb8ca62-bca2-42b9-a22e-2de8c858faf4",
   "metadata": {},
   "outputs": [],
   "source": []
  },
  {
   "cell_type": "code",
   "execution_count": null,
   "id": "494c22c4-ac34-46f8-bc4b-17972c02a0f3",
   "metadata": {},
   "outputs": [],
   "source": []
  },
  {
   "cell_type": "code",
   "execution_count": null,
   "id": "8cb50907-4542-4d09-bb03-972aeb814b90",
   "metadata": {},
   "outputs": [],
   "source": []
  },
  {
   "cell_type": "code",
   "execution_count": null,
   "id": "1f3f3703-29ef-4a94-945a-4a3a24c3df66",
   "metadata": {},
   "outputs": [],
   "source": []
  },
  {
   "cell_type": "code",
   "execution_count": null,
   "id": "042cdbab-0401-4e69-88eb-f997272e1770",
   "metadata": {},
   "outputs": [],
   "source": []
  },
  {
   "cell_type": "code",
   "execution_count": null,
   "id": "14170bba-f06a-45bc-9d21-d4022b6ffcd5",
   "metadata": {},
   "outputs": [],
   "source": []
  },
  {
   "cell_type": "code",
   "execution_count": null,
   "id": "d3f80929-15d7-488c-babf-6ba34eb932c5",
   "metadata": {},
   "outputs": [],
   "source": []
  },
  {
   "cell_type": "code",
   "execution_count": null,
   "id": "8ff55c58-7d2a-45b7-9a60-ae8229b26e7b",
   "metadata": {},
   "outputs": [],
   "source": []
  },
  {
   "cell_type": "code",
   "execution_count": null,
   "id": "c6297e98-2d37-4641-8f72-89e0a668a7a7",
   "metadata": {},
   "outputs": [],
   "source": []
  },
  {
   "cell_type": "code",
   "execution_count": null,
   "id": "eec1558a-03c9-4656-b647-c148c0689604",
   "metadata": {},
   "outputs": [],
   "source": []
  },
  {
   "cell_type": "code",
   "execution_count": null,
   "id": "2223eed2-1744-4332-a604-7c0e76ef2dae",
   "metadata": {},
   "outputs": [],
   "source": [
    "umap_3d = umap.UMAP(n_components=3, random_state=42)\n",
    "\n",
    "adata1.obsm['X_umap_3d'] = umap_3d.fit_transform(adata1.obsm['X_scanorama'])"
   ]
  },
  {
   "cell_type": "code",
   "execution_count": null,
   "id": "ab27956f-0220-4416-afe1-9aad208c77ae",
   "metadata": {},
   "outputs": [],
   "source": [
    "import plotly.graph_objects as go\n",
    "import plotly.express as px\n",
    "\n",
    "cell_types = list(adata1.obs['Id'].unique())\n",
    "color_palette = px.colors.qualitative.Set1[:len(cell_types)]\n",
    "color_dict = {ct: color for ct, color in zip(cell_types, color_palette)}\n",
    "\n",
    "\n",
    "fig = go.Figure(data=[go.Scatter3d(\n",
    "    x=adata1.obsm['X_umap_3d'][:, 0],\n",
    "    y=adata1.obsm['X_umap_3d'][:, 1],\n",
    "    z=adata1.obsm['X_umap_3d'][:, 2],\n",
    "    mode='markers',\n",
    "    marker=dict(\n",
    "        size=5,\n",
    "        color=[color_dict.get(cell_type, '#000000') for cell_type in adata1.obs['Id']],\n",
    "        opacity=0.8\n",
    "    ),\n",
    "    text=adata1.obs['Id'],\n",
    "    hoverinfo='text'\n",
    ")])\n",
    "# Mettez à jour la mise en page\n",
    "fig.update_layout(\n",
    "    scene=dict(aspectmode=\"data\"),\n",
    "    title=\"3D UMAP \"\n",
    ")\n",
    "\n",
    "fig.show()"
   ]
  },
  {
   "cell_type": "code",
   "execution_count": null,
   "id": "dc789805-ca78-44b1-b472-154a2c944114",
   "metadata": {},
   "outputs": [],
   "source": []
  },
  {
   "cell_type": "code",
   "execution_count": null,
   "id": "0888dbde-efe4-465b-ae10-d5d247890968",
   "metadata": {},
   "outputs": [],
   "source": []
  },
  {
   "cell_type": "markdown",
   "id": "f84fa896-88d4-4edc-8d71-d60f4e05ee29",
   "metadata": {},
   "source": [
    "# Umap with imputation knn, normalization pearson and scanorama"
   ]
  },
  {
   "cell_type": "code",
   "execution_count": null,
   "id": "6ee8f7ce-7ed2-46ed-9e60-7109cc4e12ce",
   "metadata": {},
   "outputs": [],
   "source": [
    "from sklearn.impute import KNNImputer"
   ]
  },
  {
   "cell_type": "code",
   "execution_count": null,
   "id": "7f94b02f-aa0d-4d37-b063-bf9f4aa840ea",
   "metadata": {},
   "outputs": [],
   "source": [
    "adatas_red = []\n",
    "data_dir = 'C:/Users/MDV/Documents/Pipeline folder Yohan/scP/Output/Formated_data'\n",
    "\n",
    "for filename in os.listdir(data_dir):\n",
    "    if filename.endswith('.h5ad'):\n",
    "            adata = sc.read_h5ad(os.path.join(data_dir, filename))\n",
    "            adata.var_names_make_unique()\n",
    "            adatas_red.append(adata)\n",
    "\n",
    "print(f\"Nombre de fichiers h5ad chargés avec succès : {len(adatas_red)}\")"
   ]
  },
  {
   "cell_type": "code",
   "execution_count": null,
   "id": "912c7101-2714-41f6-84e1-ae0d5b673a8d",
   "metadata": {},
   "outputs": [],
   "source": [
    "for ade in adatas_red:\n",
    "    X = ade.X\n",
    "    knn_imputer = KNNImputer(n_neighbors=5)  \n",
    "    X_imputed = knn_imputer.fit_transform(X)\n",
    "    ade.X = X_imputed"
   ]
  },
  {
   "cell_type": "code",
   "execution_count": null,
   "id": "1aabc65d-b144-453d-a008-b904388d7c99",
   "metadata": {},
   "outputs": [],
   "source": [
    "plot_data = []\n",
    "\n",
    "for ade in adatas_red:\n",
    "    ad = ade.copy()\n",
    "    #ad.X = np.nan_to_num(ad.X, nan=0.0)  \n",
    "    analytic_pearson = sc.experimental.pp.normalize_pearson_residuals(ad, inplace=False)\n",
    "    \n",
    "    X_fixed = analytic_pearson[\"X\"]\n",
    "    \n",
    "    plot_data.extend([(x, ad.obs['Id'][0]) for x in csr_matrix(X_fixed).sum(1).A1])\n",
    "\n",
    "df_plot = pd.DataFrame(plot_data, columns=[\"Normalized Sum\", \"Dataset\"])\n",
    "\n",
    "plt.figure(figsize=(10, 6))\n",
    "ax = sns.histplot(data=df_plot, x=\"Normalized Sum\", hue=\"Dataset\", bins=100, kde=False, palette=\"tab10\")\n",
    "\n",
    "plt.xlabel(\"Sum of the normalized values\")\n",
    "plt.ylabel(\"Number of cells\")\n",
    "plt.title(\"Distribution of the Pearson Residue Normalization\")\n",
    "\n",
    "# Afficher le plot\n",
    "plt.show()"
   ]
  },
  {
   "cell_type": "code",
   "execution_count": null,
   "id": "a75893c3-27f5-488a-a79f-4777f1d01936",
   "metadata": {},
   "outputs": [],
   "source": []
  },
  {
   "cell_type": "code",
   "execution_count": null,
   "id": "fa6124e6-8b7d-4c7e-bdce-0247897727fd",
   "metadata": {},
   "outputs": [],
   "source": [
    "adata3 = adt.concat(adatas_red, join=\"outer\", index_unique=\"-\", merge=\"unique\")\n",
    "adata3.layers['raw'] = adata3.X\n",
    "adata3.X = np.nan_to_num(adata3.X, nan=0.0)"
   ]
  },
  {
   "cell_type": "code",
   "execution_count": null,
   "id": "25309a0d-81e0-4ea7-8ce8-c8100d776612",
   "metadata": {},
   "outputs": [],
   "source": [
    "analytic_pearson = sc.experimental.pp.normalize_pearson_residuals(adata3, inplace=False)\n",
    "X_fixed = analytic_pearson[\"X\"]\n",
    "X_fixed[np.isnan(X_fixed)] = 0 \n",
    "adata3.layers[\"analytic_pearson_residuals_train\"] = csr_matrix(X_fixed)\n",
    "adata3.X = adata3.layers[\"analytic_pearson_residuals_train\"]\n",
    "sc.pp.pca(adata3)\n",
    "sce.pp.scanorama_integrate(adata3, 'Id', verbose =1)"
   ]
  },
  {
   "cell_type": "code",
   "execution_count": null,
   "id": "2b9a4287-458a-41e4-978c-0164954264ad",
   "metadata": {},
   "outputs": [],
   "source": [
    "sc.pl.pca_variance_ratio(adata3, log=True)"
   ]
  },
  {
   "cell_type": "code",
   "execution_count": null,
   "id": "17ad0adc-fe8a-4b1e-8c44-a71267ba1aa1",
   "metadata": {},
   "outputs": [],
   "source": [
    "sc.pp.neighbors(adata3, use_rep = 'X_scanorama')\n",
    "sc.tl.leiden(adata3, resolution = 2, key_added = 'overcluster')\n",
    "sc.tl.umap(adata3)\n",
    "sc.pl.umap(\n",
    "    adata3,\n",
    "    color=['overcluster']\n",
    ")"
   ]
  },
  {
   "cell_type": "code",
   "execution_count": null,
   "id": "8125c240-d8d6-41d3-9d47-59b5b0bf49b5",
   "metadata": {},
   "outputs": [],
   "source": [
    "np.random.seed(1)\n",
    "ri = np.random.permutation(list(range(adata3.shape[0])))\n",
    "\n",
    "sc.pl.umap(adata3[ri,:], color = ['Id'], vmin = .5, size = 20)"
   ]
  },
  {
   "cell_type": "code",
   "execution_count": null,
   "id": "46a26f5e-8a42-4087-87e6-18e96693a2b5",
   "metadata": {},
   "outputs": [],
   "source": [
    "#ciliated\n",
    "sc.pl.umap(adata3, color=['TPPP3_HUMAN','TBB4B_HUMAN','SNTAN_HUMAN','CCD17_HUMAN','Id'],legend_loc=\"on data\",\n",
    ")"
   ]
  },
  {
   "cell_type": "code",
   "execution_count": null,
   "id": "6daceee4-7cd6-4733-8975-2d4038a8af86",
   "metadata": {},
   "outputs": [],
   "source": [
    "import plotly.graph_objects as go\n",
    "import plotly.express as px \n",
    "\n",
    "def umap_3D(adata):\n",
    "\n",
    "    umap_3d = umap.UMAP(n_components=3, random_state=42)\n",
    "\n",
    "    adata.obsm['X_umap_3d'] = umap_3d.fit_transform(adata.obsm['X_scanorama'])\n",
    "    \n",
    "    cell_types = list(adata.obs['Id'].unique())\n",
    "    color_palette = px.colors.qualitative.Set1[:len(cell_types)]\n",
    "    color_dict = {ct: color for ct, color in zip(cell_types, color_palette)}\n",
    "\n",
    "\n",
    "    fig = go.Figure(data=[go.Scatter3d(\n",
    "        x=adata.obsm['X_umap_3d'][:, 0],\n",
    "        y=adata.obsm['X_umap_3d'][:, 1],\n",
    "        z=adata.obsm['X_umap_3d'][:, 2],\n",
    "        mode='markers',\n",
    "        marker=dict(\n",
    "            size=5,\n",
    "            color=[color_dict.get(cell_type, '#000000') for cell_type in adata.obs['Id']],\n",
    "            opacity=0.8\n",
    "        ),\n",
    "        text=adata.obs['Id'],\n",
    "        hoverinfo='text'\n",
    "    )])\n",
    "    # Mettez à jour la mise en page\n",
    "    fig.update_layout(\n",
    "        scene=dict(aspectmode=\"data\"),\n",
    "        title=\"3D UMAP \"\n",
    "    )\n",
    "\n",
    "    fig.show()"
   ]
  },
  {
   "cell_type": "code",
   "execution_count": null,
   "id": "e33afcb0-96e9-4d9d-b6ea-6e4254ffa250",
   "metadata": {},
   "outputs": [],
   "source": [
    "umap_3D(adata3)"
   ]
  },
  {
   "cell_type": "code",
   "execution_count": null,
   "id": "ddf3b9b1-0a03-4db3-bc90-14ff38dafef3",
   "metadata": {},
   "outputs": [],
   "source": [
    "explained_variance = adata3.uns[\"pca\"][\"variance_ratio\"] * 100  # Conversion en pourcentage\n",
    "for i, var in enumerate(explained_variance[:10]):  # Afficher les 10 premières composantes\n",
    "    print(f\"PC{i+1}: {var:.2f}% de variance expliquée\")"
   ]
  },
  {
   "cell_type": "code",
   "execution_count": null,
   "id": "be653c70-2fc2-4f4f-99be-af23e576c5db",
   "metadata": {},
   "outputs": [],
   "source": [
    "sc.pl.pca_scatter(adata3, color=\"Id\")"
   ]
  },
  {
   "cell_type": "raw",
   "id": "be8419ca-5b22-446b-bca0-6e92b58989e5",
   "metadata": {},
   "source": []
  },
  {
   "cell_type": "markdown",
   "id": "934410a2-3882-4339-86ba-941450dbc879",
   "metadata": {},
   "source": [
    "# Umap sans normalisation et avec scanorama"
   ]
  },
  {
   "cell_type": "code",
   "execution_count": null,
   "id": "8095e9f1-92fd-4398-9397-6b1853ea2b61",
   "metadata": {},
   "outputs": [],
   "source": [
    "adatas_red = []\n",
    "data_dir = 'C:/Users/MDV/Documents/Pipeline folder Yohan/scP/Output/Formated_data'\n",
    "\n",
    "for filename in os.listdir(data_dir):\n",
    "    if filename.endswith('.h5ad'):\n",
    "            adata = sc.read_h5ad(os.path.join(data_dir, filename))\n",
    "            adata.var_names_make_unique()\n",
    "            adatas_red.append(adata)\n",
    "\n",
    "print(f\"Nombre de fichiers h5ad chargés avec succès : {len(adatas_red)}\")"
   ]
  },
  {
   "cell_type": "code",
   "execution_count": null,
   "id": "a3921712-499f-4a8f-a1e9-766801db018a",
   "metadata": {},
   "outputs": [],
   "source": [
    "adata2 = adt.concat(adatas_red, join=\"outer\", index_unique=\"-\", merge=\"unique\")\n",
    "adata2.layers['raw'] = adata2.X\n",
    "adata2.X = np.nan_to_num(adata2.X, nan=0.0)"
   ]
  },
  {
   "cell_type": "code",
   "execution_count": null,
   "id": "9b252dc9-4004-4628-9dca-c55ce914af70",
   "metadata": {},
   "outputs": [],
   "source": [
    "sc.pp.pca(adata2)\n",
    "sce.pp.scanorama_integrate(adata2, 'Id', verbose =1)"
   ]
  },
  {
   "cell_type": "code",
   "execution_count": null,
   "id": "8c76d050-53a9-42d2-8a12-9aea4979e741",
   "metadata": {},
   "outputs": [],
   "source": [
    "sc.pp.neighbors(adata2, use_rep = 'X_scanorama')\n",
    "sc.tl.leiden(adata2, resolution = 2, key_added = 'overcluster')\n",
    "sc.tl.umap(adata2)\n",
    "sc.pl.umap(\n",
    "    adata2,\n",
    "    color=['overcluster','Id']\n",
    ")"
   ]
  },
  {
   "cell_type": "code",
   "execution_count": null,
   "id": "4e01436f-4063-454d-9d48-56e71f07dbf4",
   "metadata": {},
   "outputs": [],
   "source": [
    "#secretory club\n",
    "sc.pl.umap(adata2, color=['TRFL_HUMAN','CADH1_HUMAN','MUC5A_HUMAN','Id'],legend_loc=\"on data\",\n",
    ")"
   ]
  },
  {
   "cell_type": "code",
   "execution_count": null,
   "id": "1e649735-324a-4ff6-92ac-4174d0a04219",
   "metadata": {},
   "outputs": [],
   "source": [
    "np.random.seed(1)\n",
    "ri = np.random.permutation(list(range(adata2.shape[0])))\n",
    "\n",
    "sc.pl.umap(adata2[ri,:], color = ['Id','overcluster'], vmin = .5, size = 20)"
   ]
  },
  {
   "cell_type": "code",
   "execution_count": null,
   "id": "3333ccaa-4ca0-4a2a-a01a-bb66752b0c3a",
   "metadata": {},
   "outputs": [],
   "source": []
  },
  {
   "cell_type": "code",
   "execution_count": null,
   "id": "8575c633-34fb-495d-a4b1-9b14e5d0ef4f",
   "metadata": {},
   "outputs": [],
   "source": [
    "#ciliated\n",
    "sc.pl.umap(adata2, color=['TPPP3_HUMAN','TBB4B_HUMAN','SNTAN_HUMAN','CCD17_HUMAN','Id'],legend_loc=\"on data\",\n",
    ")"
   ]
  },
  {
   "cell_type": "code",
   "execution_count": null,
   "id": "98046ace-59db-428f-8453-e4cc3ffbc808",
   "metadata": {},
   "outputs": [],
   "source": []
  },
  {
   "cell_type": "code",
   "execution_count": null,
   "id": "13af53e3-ac26-4a22-952e-3f7cd8d34121",
   "metadata": {},
   "outputs": [],
   "source": []
  },
  {
   "cell_type": "code",
   "execution_count": null,
   "id": "906c981c-8e34-4f38-88b2-04e004ee3c6c",
   "metadata": {},
   "outputs": [],
   "source": []
  },
  {
   "cell_type": "code",
   "execution_count": null,
   "id": "43a3bd86-501b-49c5-bf1a-35375fb7419c",
   "metadata": {},
   "outputs": [],
   "source": []
  },
  {
   "cell_type": "code",
   "execution_count": null,
   "id": "a08f27f0-d692-4f07-90d9-100b1e3b60bb",
   "metadata": {},
   "outputs": [],
   "source": []
  },
  {
   "cell_type": "code",
   "execution_count": null,
   "id": "4733b6de-3e3f-4a12-bc9f-48bd16785fb5",
   "metadata": {},
   "outputs": [],
   "source": []
  },
  {
   "cell_type": "code",
   "execution_count": null,
   "id": "ee4f7e38-a5f4-4bc7-9f9b-ef993c7418ee",
   "metadata": {},
   "outputs": [],
   "source": []
  },
  {
   "cell_type": "code",
   "execution_count": null,
   "id": "7ee3ddd3-1456-4523-816a-39109b541149",
   "metadata": {},
   "outputs": [],
   "source": []
  },
  {
   "cell_type": "code",
   "execution_count": null,
   "id": "b78b99ce-bf39-4871-9e50-da9b2a430923",
   "metadata": {},
   "outputs": [],
   "source": []
  },
  {
   "cell_type": "code",
   "execution_count": null,
   "id": "68af85ec-cf6e-450e-b014-9d864c476acd",
   "metadata": {},
   "outputs": [],
   "source": []
  },
  {
   "cell_type": "code",
   "execution_count": null,
   "id": "f05a7742-e98b-4578-874d-c5d115fca60a",
   "metadata": {},
   "outputs": [],
   "source": []
  },
  {
   "cell_type": "markdown",
   "id": "023f50c3-6244-47dc-aea1-a0422b946a41",
   "metadata": {},
   "source": [
    "## MNN test with Pearson residue "
   ]
  },
  {
   "cell_type": "code",
   "execution_count": null,
   "id": "cfe529ba-d3c6-45dc-a2f5-432cabc2e6db",
   "metadata": {},
   "outputs": [],
   "source": [
    "import s"
   ]
  },
  {
   "cell_type": "code",
   "execution_count": null,
   "id": "4da8b315-7f28-4013-94f7-fb96e37a6b4a",
   "metadata": {},
   "outputs": [],
   "source": [
    "import mnnpy"
   ]
  },
  {
   "cell_type": "code",
   "execution_count": null,
   "id": "b94d90cb-05aa-4111-a743-f264c4f1c6e7",
   "metadata": {},
   "outputs": [],
   "source": []
  },
  {
   "cell_type": "code",
   "execution_count": null,
   "id": "5469e15f-e259-4a60-aca1-e46b59168eed",
   "metadata": {},
   "outputs": [],
   "source": [
    "%pip install pydeseq2"
   ]
  },
  {
   "cell_type": "code",
   "execution_count": null,
   "id": "5bd50365-a70e-4eb3-87ab-591671bdb360",
   "metadata": {},
   "outputs": [],
   "source": []
  },
  {
   "cell_type": "code",
   "execution_count": null,
   "id": "6cf3c7f8-6e95-466a-88a9-abe25efd38bf",
   "metadata": {},
   "outputs": [],
   "source": [
    "from pydeseq2.dds import DeseqDataSet\n",
    "from pydeseq2.ds import DeseqStats"
   ]
  },
  {
   "cell_type": "code",
   "execution_count": null,
   "id": "9a8e43a6-8462-489f-b811-967e37e8e73e",
   "metadata": {},
   "outputs": [],
   "source": [
    "adata.X"
   ]
  },
  {
   "cell_type": "code",
   "execution_count": null,
   "id": "9fa63540-fa5a-40f0-86aa-8547740f75e6",
   "metadata": {},
   "outputs": [],
   "source": []
  },
  {
   "cell_type": "code",
   "execution_count": null,
   "id": "56f41bf9-42aa-49bf-932d-3dbe42f148b7",
   "metadata": {},
   "outputs": [],
   "source": [
    "adata.obs"
   ]
  },
  {
   "cell_type": "code",
   "execution_count": null,
   "id": "703f98a7-8274-467d-8f65-2286053ab56a",
   "metadata": {},
   "outputs": [],
   "source": [
    "adata.X"
   ]
  },
  {
   "cell_type": "code",
   "execution_count": null,
   "id": "fe04f68b-a428-41c8-a0fb-d26a8e2304fb",
   "metadata": {},
   "outputs": [],
   "source": [
    "counts = pd.DataFrame(adata.X.astype(int), columns = adata.var_names)\n",
    "dds = DeseqDataSet(\n",
    "        counts = counts,\n",
    "        metadata=adata.obs,\n",
    "        design_factors=\"Id\")\n",
    "dds.deseq2()\n",
    "stat_res = DeseqStats(dds, contrast=('Id', 'GFP.NEG3dpi_pg', 'Mock6dpi_pg'))\n",
    "print(stat_res.summary())"
   ]
  },
  {
   "cell_type": "code",
   "execution_count": null,
   "id": "38b5c065-4cac-42fb-a400-83a8e6485c2d",
   "metadata": {},
   "outputs": [],
   "source": [
    "adata.X = adata.layers['raw_woutnan']"
   ]
  },
  {
   "cell_type": "code",
   "execution_count": null,
   "id": "e324c534-0994-4602-822e-ce7adee7f071",
   "metadata": {},
   "outputs": [],
   "source": [
    "adata"
   ]
  },
  {
   "cell_type": "code",
   "execution_count": null,
   "id": "0057a7dd-aeb8-41a6-b9c0-fd44d826fd3f",
   "metadata": {},
   "outputs": [],
   "source": [
    "adata.X.min()"
   ]
  },
  {
   "cell_type": "code",
   "execution_count": null,
   "id": "9084b6e0-586e-47a7-ab3f-710212120c2b",
   "metadata": {},
   "outputs": [],
   "source": []
  },
  {
   "cell_type": "code",
   "execution_count": null,
   "id": "50e34fdd-c883-4a1a-bda5-58d1de85a4ab",
   "metadata": {},
   "outputs": [],
   "source": [
    "mean = np.mean(adata.X, axis=0)\n",
    "variance = np.var(adata.X, axis=0)\n",
    "\n",
    "# Afficher la moyenne et la variance pour chaque protéine\n",
    "print(\"Moyenne : \", mean)\n",
    "print(\"Variance : \", variance)"
   ]
  },
  {
   "cell_type": "code",
   "execution_count": null,
   "id": "84f18d8f-0bb4-4f18-9e9f-5b706706aed1",
   "metadata": {},
   "outputs": [],
   "source": [
    "plt.hist(adata.X[:, 9], bins=50, density=True, alpha=0.75, color='blue')\n",
    "plt.title(\"Histogramme des valeurs pour la protéine 1\")\n",
    "plt.xlabel(\"Valeurs\")\n",
    "plt.ylabel(\"Fréquence\")\n",
    "plt.show()"
   ]
  },
  {
   "cell_type": "code",
   "execution_count": null,
   "id": "6ba4a003-9aa8-48ff-b946-a805544fcdc4",
   "metadata": {},
   "outputs": [],
   "source": [
    "# Calcul du ratio variance/moyenne\n",
    "dispersion_ratio = variance / mean\n",
    "\n",
    "# Afficher les ratios de dispersion\n",
    "print(\"Ratios de dispersion : \", dispersion_ratio)\n",
    "\n",
    "# Vérifier si certains ratios sont > 1, ce qui indique une surdispersion\n",
    "surdispersion = np.sum(dispersion_ratio > 10)\n",
    "print(f\"Nombre de protéines avec surdispersion : {surdispersion}\")"
   ]
  },
  {
   "cell_type": "code",
   "execution_count": null,
   "id": "afa7b927-38a5-4e63-ae2b-194e85a01780",
   "metadata": {},
   "outputs": [],
   "source": [
    "from scipy.stats import nbinom\n",
    "X = adata.X\n",
    "# Exemple pour ajuster la distribution négatif binomiale à une protéine spécifique\n",
    "# (ici, on prend la première colonne de données)\n",
    "data = X[:, 3]\n",
    "\n",
    "# Estimation des paramètres pour la distribution négatif binomiale\n",
    "mean_data = np.mean(data)\n",
    "var_data = np.var(data)\n",
    "size = var_data / (mean_data - var_data)  # Paramètre de dispersion\n",
    "p = mean_data / var_data  # Paramètre de probabilité\n",
    "\n",
    "# Tracer la distribution théorique négatif binomiale\n",
    "x = np.arange(0, np.max(data))\n",
    "pmf = nbinom.pmf(x, size, p)\n",
    "plt.hist(data, bins=50, density=True, alpha=0.75, color='blue')\n",
    "plt.plot(x, pmf, 'r-', label='Distribution négatif binomiale')\n",
    "plt.title(\"Ajustement à la distribution négatif binomiale\")\n",
    "plt.xlabel(\"Valeurs\")\n",
    "plt.ylabel(\"Fréquence\")\n",
    "plt.legend()\n",
    "plt.show()"
   ]
  },
  {
   "cell_type": "code",
   "execution_count": null,
   "id": "768dbe81-3837-4a0d-87ca-3877504716b5",
   "metadata": {},
   "outputs": [],
   "source": []
  },
  {
   "cell_type": "code",
   "execution_count": null,
   "id": "0b66b910-5d9b-4001-99f0-698877fa1511",
   "metadata": {},
   "outputs": [],
   "source": [
    "# Transformation logarithmique des données pour les rendre plus comparables\n",
    "data_log = np.log1p(data)  # log(1+x) pour éviter des problèmes avec les valeurs 0\n",
    "\n",
    "# Calculer à nouveau la moyenne et la variance des données transformées\n",
    "mean_log = np.mean(data_log)\n",
    "var_log = np.var(data_log)\n",
    "\n",
    "# Ajuster à la distribution négatif binomiale avec les données transformées\n",
    "size_log = var_log / (mean_log - var_log)  # Paramètre de dispersion\n",
    "p_log = mean_log / var_log  # Paramètre de probabilité\n",
    "\n",
    "# Tracer l'histogramme des données transformées\n",
    "x_log = np.arange(0, np.max(data_log))\n",
    "pmf_log = nbinom.pmf(x_log, size_log, p_log)\n",
    "plt.hist(data_log, bins=50, density=True, alpha=0.75, color='blue')\n",
    "plt.plot(x_log, pmf_log, 'r-', label='Distribution négatif binomiale ajustée')\n",
    "plt.title(\"Ajustement à la distribution négatif binomiale (données transformées)\")\n",
    "plt.xlabel(\"Valeurs transformées (log)\")\n",
    "plt.ylabel(\"Fréquence\")\n",
    "plt.legend()\n",
    "plt.show()"
   ]
  },
  {
   "cell_type": "code",
   "execution_count": null,
   "id": "a0e2f408-d63e-49b9-be9c-f315270fd3ae",
   "metadata": {},
   "outputs": [],
   "source": [
    "x_limited = np.arange(0, 50)  # Ajustez cette plage selon vos données\n",
    "pmf_limited = nbinom.pmf(x_limited, size, p)\n",
    "\n",
    "# Tracer les données\n",
    "plt.hist(data, bins=50, density=True, alpha=0.75, color='blue')\n",
    "plt.plot(x_limited, pmf_limited, 'r-', label='Distribution négatif binomiale ajustée')\n",
    "plt.title(\"Ajustement à la distribution négatif binomiale (données limitées)\")\n",
    "plt.xlabel(\"Valeurs\")\n",
    "plt.ylabel(\"Fréquence\")\n",
    "plt.legend()\n",
    "plt.show()"
   ]
  },
  {
   "cell_type": "code",
   "execution_count": null,
   "id": "dd5c5fe5-168c-4453-9a07-d2e448003572",
   "metadata": {},
   "outputs": [],
   "source": []
  },
  {
   "cell_type": "code",
   "execution_count": null,
   "id": "8b20781a-53a0-4348-9a81-179f55b1f7ff",
   "metadata": {},
   "outputs": [],
   "source": []
  },
  {
   "cell_type": "code",
   "execution_count": null,
   "id": "843d57ba-11c6-47c2-a2fb-ec7e51a82d20",
   "metadata": {},
   "outputs": [],
   "source": []
  }
 ],
 "metadata": {
  "kernelspec": {
   "display_name": "Python 3 (ipykernel)",
   "language": "python",
   "name": "python3"
  },
  "language_info": {
   "codemirror_mode": {
    "name": "ipython",
    "version": 3
   },
   "file_extension": ".py",
   "mimetype": "text/x-python",
   "name": "python",
   "nbconvert_exporter": "python",
   "pygments_lexer": "ipython3",
   "version": "3.13.2"
  }
 },
 "nbformat": 4,
 "nbformat_minor": 5
}
