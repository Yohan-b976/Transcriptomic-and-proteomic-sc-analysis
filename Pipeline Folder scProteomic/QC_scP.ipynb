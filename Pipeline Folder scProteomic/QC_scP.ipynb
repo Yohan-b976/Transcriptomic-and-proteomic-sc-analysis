{
 "cells": [
  {
   "cell_type": "code",
   "execution_count": 90,
   "id": "15570ae1-893e-4f03-8bdf-7416063c3ce4",
   "metadata": {},
   "outputs": [],
   "source": [
    "import scanpy as sc\n",
    "import os\n",
    "import seaborn as sns\n",
    "import matplotlib.pyplot as plt\n",
    "import pandas as pd\n",
    "import doubletdetection\n",
    "from scipy.stats import median_abs_deviation as mad\n",
    "import numpy as np\n",
    "import anndata as adt"
   ]
  },
  {
   "cell_type": "code",
   "execution_count": 91,
   "id": "3043f8db-18aa-4980-b3cb-a1529fdde570",
   "metadata": {},
   "outputs": [],
   "source": [
    "import warnings \n",
    "warnings.simplefilter(\"ignore\", FutureWarning)\n",
    "warnings.simplefilter(\"ignore\", UserWarning)\n",
    "warnings.simplefilter(\"ignore\", RuntimeWarning)"
   ]
  },
  {
   "cell_type": "code",
   "execution_count": 92,
   "id": "90dc0635-f2a8-43d2-9bea-b831a6368e3b",
   "metadata": {},
   "outputs": [],
   "source": [
    "path = '/home/ybeaumatin/Documents/Data processing pipeline/scP/Data/data.treatment_allconditions_pg_.xlsx'"
   ]
  },
  {
   "cell_type": "markdown",
   "id": "908757d7-b128-4fa2-95d6-1d6d76df8f48",
   "metadata": {},
   "source": [
    "# Prep of the dataset"
   ]
  },
  {
   "cell_type": "code",
   "execution_count": 93,
   "id": "2c06e35a-7bab-416d-84b8-bb0f722de5b6",
   "metadata": {},
   "outputs": [],
   "source": [
    "sheets = pd.read_excel(path, sheet_name=None, header = None)"
   ]
  },
  {
   "cell_type": "code",
   "execution_count": 94,
   "id": "5accebdf-bec2-4df0-872d-91cccbd0a896",
   "metadata": {},
   "outputs": [],
   "source": [
    "cles = list(sheets.keys())"
   ]
  },
  {
   "cell_type": "code",
   "execution_count": null,
   "id": "23f967cf-e577-46ac-ae8d-5e79b95da26a",
   "metadata": {},
   "outputs": [],
   "source": []
  },
  {
   "cell_type": "code",
   "execution_count": 95,
   "id": "8f298e27-9f71-4d77-b624-c20b0e90b6af",
   "metadata": {},
   "outputs": [
    {
     "data": {
      "text/plain": [
       "['Mock3dpi_pg',\n",
       " 'GFP.NEG3dpi_pg',\n",
       " 'GFP.POS3dpi_pg',\n",
       " 'Mock6dpi_pg',\n",
       " 'GFP.NEG6dpi_pg',\n",
       " 'GFP.POS6dpi_pg']"
      ]
     },
     "execution_count": 95,
     "metadata": {},
     "output_type": "execute_result"
    }
   ],
   "source": [
    "cles"
   ]
  },
  {
   "cell_type": "code",
   "execution_count": 96,
   "id": "8b7519ab-e208-43c0-b5b1-5f154bdad4f7",
   "metadata": {},
   "outputs": [
    {
     "data": {
      "text/plain": [
       "'GFP.NEG3dpi_pg'"
      ]
     },
     "execution_count": 96,
     "metadata": {},
     "output_type": "execute_result"
    }
   ],
   "source": [
    "cles[1]"
   ]
  },
  {
   "cell_type": "code",
   "execution_count": 97,
   "id": "2cce319c-2dea-4d70-948b-2cc02058967d",
   "metadata": {},
   "outputs": [
    {
     "data": {
      "text/html": [
       "<div>\n",
       "<style scoped>\n",
       "    .dataframe tbody tr th:only-of-type {\n",
       "        vertical-align: middle;\n",
       "    }\n",
       "\n",
       "    .dataframe tbody tr th {\n",
       "        vertical-align: top;\n",
       "    }\n",
       "\n",
       "    .dataframe thead th {\n",
       "        text-align: right;\n",
       "    }\n",
       "</style>\n",
       "<table border=\"1\" class=\"dataframe\">\n",
       "  <thead>\n",
       "    <tr style=\"text-align: right;\">\n",
       "      <th></th>\n",
       "      <th>0</th>\n",
       "      <th>1</th>\n",
       "      <th>2</th>\n",
       "      <th>3</th>\n",
       "      <th>4</th>\n",
       "      <th>5</th>\n",
       "      <th>6</th>\n",
       "      <th>7</th>\n",
       "      <th>8</th>\n",
       "      <th>9</th>\n",
       "      <th>...</th>\n",
       "      <th>128</th>\n",
       "      <th>129</th>\n",
       "      <th>130</th>\n",
       "      <th>131</th>\n",
       "      <th>132</th>\n",
       "      <th>133</th>\n",
       "      <th>134</th>\n",
       "      <th>135</th>\n",
       "      <th>136</th>\n",
       "      <th>137</th>\n",
       "    </tr>\n",
       "  </thead>\n",
       "  <tbody>\n",
       "    <tr>\n",
       "      <th>0</th>\n",
       "      <td>Protein.Group</td>\n",
       "      <td>Protein.Ids</td>\n",
       "      <td>Protein.Names</td>\n",
       "      <td>Genes</td>\n",
       "      <td>First.Protein.Description</td>\n",
       "      <td>H:\\Perdu-Alloy Pauline\\Coronavirus_HAE\\GFP_pos...</td>\n",
       "      <td>H:\\Perdu-Alloy Pauline\\Coronavirus_HAE\\GFP_pos...</td>\n",
       "      <td>H:\\Perdu-Alloy Pauline\\Coronavirus_HAE\\GFP_pos...</td>\n",
       "      <td>H:\\Perdu-Alloy Pauline\\Coronavirus_HAE\\GFP_pos...</td>\n",
       "      <td>H:\\Perdu-Alloy Pauline\\Coronavirus_HAE\\GFP_pos...</td>\n",
       "      <td>...</td>\n",
       "      <td>H:\\Perdu-Alloy Pauline\\Coronavirus_HAE\\GFP_pos...</td>\n",
       "      <td>H:\\Perdu-Alloy Pauline\\Coronavirus_HAE\\GFP_pos...</td>\n",
       "      <td>H:\\Perdu-Alloy Pauline\\Coronavirus_HAE\\GFP_pos...</td>\n",
       "      <td>H:\\Perdu-Alloy Pauline\\Coronavirus_HAE\\GFP_pos...</td>\n",
       "      <td>H:\\Perdu-Alloy Pauline\\Coronavirus_HAE\\GFP_pos...</td>\n",
       "      <td>H:\\Perdu-Alloy Pauline\\Coronavirus_HAE\\GFP_pos...</td>\n",
       "      <td>H:\\Perdu-Alloy Pauline\\Coronavirus_HAE\\GFP_pos...</td>\n",
       "      <td>H:\\Perdu-Alloy Pauline\\Coronavirus_HAE\\GFP_pos...</td>\n",
       "      <td>H:\\Perdu-Alloy Pauline\\Coronavirus_HAE\\GFP_pos...</td>\n",
       "      <td>H:\\Perdu-Alloy Pauline\\Coronavirus_HAE\\GFP_pos...</td>\n",
       "    </tr>\n",
       "    <tr>\n",
       "      <th>1</th>\n",
       "      <td>A0A0B4J2D5;P0DPI2</td>\n",
       "      <td>A0A0B4J2D5;P0DPI2</td>\n",
       "      <td>GAL3A_HUMAN;GAL3B_HUMAN</td>\n",
       "      <td>GATD3A;GATD3B</td>\n",
       "      <td>NaN</td>\n",
       "      <td>NaN</td>\n",
       "      <td>NaN</td>\n",
       "      <td>NaN</td>\n",
       "      <td>NaN</td>\n",
       "      <td>2659.9</td>\n",
       "      <td>...</td>\n",
       "      <td>7374.29</td>\n",
       "      <td>4884.76</td>\n",
       "      <td>4262.83</td>\n",
       "      <td>NaN</td>\n",
       "      <td>NaN</td>\n",
       "      <td>NaN</td>\n",
       "      <td>NaN</td>\n",
       "      <td>NaN</td>\n",
       "      <td>NaN</td>\n",
       "      <td>NaN</td>\n",
       "    </tr>\n",
       "    <tr>\n",
       "      <th>2</th>\n",
       "      <td>A0AV96</td>\n",
       "      <td>A0AV96;Q8TBY0;Q9NQ94</td>\n",
       "      <td>RBM47_HUMAN</td>\n",
       "      <td>RBM47</td>\n",
       "      <td>NaN</td>\n",
       "      <td>2108.71</td>\n",
       "      <td>2618.78</td>\n",
       "      <td>4620.57</td>\n",
       "      <td>1622.4</td>\n",
       "      <td>2614.49</td>\n",
       "      <td>...</td>\n",
       "      <td>2267.7</td>\n",
       "      <td>1716.45</td>\n",
       "      <td>1502.1</td>\n",
       "      <td>NaN</td>\n",
       "      <td>1387.21</td>\n",
       "      <td>NaN</td>\n",
       "      <td>NaN</td>\n",
       "      <td>NaN</td>\n",
       "      <td>NaN</td>\n",
       "      <td>NaN</td>\n",
       "    </tr>\n",
       "    <tr>\n",
       "      <th>3</th>\n",
       "      <td>A0AVT1</td>\n",
       "      <td>A0AVT1</td>\n",
       "      <td>UBA6_HUMAN</td>\n",
       "      <td>UBA6</td>\n",
       "      <td>NaN</td>\n",
       "      <td>4227.87</td>\n",
       "      <td>4938.56</td>\n",
       "      <td>6304.49</td>\n",
       "      <td>4402.84</td>\n",
       "      <td>4012.5</td>\n",
       "      <td>...</td>\n",
       "      <td>3088.24</td>\n",
       "      <td>2884.52</td>\n",
       "      <td>3868.83</td>\n",
       "      <td>3665</td>\n",
       "      <td>2916.64</td>\n",
       "      <td>NaN</td>\n",
       "      <td>NaN</td>\n",
       "      <td>NaN</td>\n",
       "      <td>NaN</td>\n",
       "      <td>NaN</td>\n",
       "    </tr>\n",
       "    <tr>\n",
       "      <th>4</th>\n",
       "      <td>A0FGR8</td>\n",
       "      <td>A0FGR8</td>\n",
       "      <td>ESYT2_HUMAN</td>\n",
       "      <td>ESYT2</td>\n",
       "      <td>NaN</td>\n",
       "      <td>2978.79</td>\n",
       "      <td>3547.62</td>\n",
       "      <td>3554.4</td>\n",
       "      <td>2036.98</td>\n",
       "      <td>2362.04</td>\n",
       "      <td>...</td>\n",
       "      <td>3452.18</td>\n",
       "      <td>2263.99</td>\n",
       "      <td>2451.59</td>\n",
       "      <td>2170.78</td>\n",
       "      <td>2547.01</td>\n",
       "      <td>NaN</td>\n",
       "      <td>NaN</td>\n",
       "      <td>NaN</td>\n",
       "      <td>NaN</td>\n",
       "      <td>NaN</td>\n",
       "    </tr>\n",
       "    <tr>\n",
       "      <th>...</th>\n",
       "      <td>...</td>\n",
       "      <td>...</td>\n",
       "      <td>...</td>\n",
       "      <td>...</td>\n",
       "      <td>...</td>\n",
       "      <td>...</td>\n",
       "      <td>...</td>\n",
       "      <td>...</td>\n",
       "      <td>...</td>\n",
       "      <td>...</td>\n",
       "      <td>...</td>\n",
       "      <td>...</td>\n",
       "      <td>...</td>\n",
       "      <td>...</td>\n",
       "      <td>...</td>\n",
       "      <td>...</td>\n",
       "      <td>...</td>\n",
       "      <td>...</td>\n",
       "      <td>...</td>\n",
       "      <td>...</td>\n",
       "      <td>...</td>\n",
       "    </tr>\n",
       "    <tr>\n",
       "      <th>2965</th>\n",
       "      <td>Q9Y6N5</td>\n",
       "      <td>Q9Y6N5</td>\n",
       "      <td>SQOR_HUMAN</td>\n",
       "      <td>SQOR</td>\n",
       "      <td>NaN</td>\n",
       "      <td>11305</td>\n",
       "      <td>13771.8</td>\n",
       "      <td>12947.2</td>\n",
       "      <td>13790.9</td>\n",
       "      <td>9377.37</td>\n",
       "      <td>...</td>\n",
       "      <td>12611.6</td>\n",
       "      <td>16330.4</td>\n",
       "      <td>17443.1</td>\n",
       "      <td>9191.25</td>\n",
       "      <td>11823.8</td>\n",
       "      <td>NaN</td>\n",
       "      <td>NaN</td>\n",
       "      <td>NaN</td>\n",
       "      <td>NaN</td>\n",
       "      <td>NaN</td>\n",
       "    </tr>\n",
       "    <tr>\n",
       "      <th>2966</th>\n",
       "      <td>Q9Y6W3</td>\n",
       "      <td>Q9Y6W3</td>\n",
       "      <td>CAN7_HUMAN</td>\n",
       "      <td>CAPN7</td>\n",
       "      <td>NaN</td>\n",
       "      <td>1221.22</td>\n",
       "      <td>1002.14</td>\n",
       "      <td>1127.77</td>\n",
       "      <td>1123.66</td>\n",
       "      <td>1424.21</td>\n",
       "      <td>...</td>\n",
       "      <td>NaN</td>\n",
       "      <td>1433.62</td>\n",
       "      <td>1105.35</td>\n",
       "      <td>NaN</td>\n",
       "      <td>1039.57</td>\n",
       "      <td>NaN</td>\n",
       "      <td>NaN</td>\n",
       "      <td>NaN</td>\n",
       "      <td>NaN</td>\n",
       "      <td>NaN</td>\n",
       "    </tr>\n",
       "    <tr>\n",
       "      <th>2967</th>\n",
       "      <td>Q9Y6W5</td>\n",
       "      <td>Q9Y6W5</td>\n",
       "      <td>WASF2_HUMAN</td>\n",
       "      <td>WASF2</td>\n",
       "      <td>NaN</td>\n",
       "      <td>NaN</td>\n",
       "      <td>4525.85</td>\n",
       "      <td>NaN</td>\n",
       "      <td>4730.71</td>\n",
       "      <td>3437.31</td>\n",
       "      <td>...</td>\n",
       "      <td>16182</td>\n",
       "      <td>12436.5</td>\n",
       "      <td>9002.66</td>\n",
       "      <td>11185.3</td>\n",
       "      <td>8332.06</td>\n",
       "      <td>NaN</td>\n",
       "      <td>NaN</td>\n",
       "      <td>NaN</td>\n",
       "      <td>NaN</td>\n",
       "      <td>NaN</td>\n",
       "    </tr>\n",
       "    <tr>\n",
       "      <th>2968</th>\n",
       "      <td>Q9Y6X3</td>\n",
       "      <td>Q9Y6X3</td>\n",
       "      <td>SCC4_HUMAN</td>\n",
       "      <td>MAU2</td>\n",
       "      <td>NaN</td>\n",
       "      <td>NaN</td>\n",
       "      <td>NaN</td>\n",
       "      <td>NaN</td>\n",
       "      <td>NaN</td>\n",
       "      <td>NaN</td>\n",
       "      <td>...</td>\n",
       "      <td>NaN</td>\n",
       "      <td>NaN</td>\n",
       "      <td>NaN</td>\n",
       "      <td>NaN</td>\n",
       "      <td>NaN</td>\n",
       "      <td>NaN</td>\n",
       "      <td>NaN</td>\n",
       "      <td>NaN</td>\n",
       "      <td>NaN</td>\n",
       "      <td>NaN</td>\n",
       "    </tr>\n",
       "    <tr>\n",
       "      <th>2969</th>\n",
       "      <td>Q9Y6Y8</td>\n",
       "      <td>Q9Y6Y8</td>\n",
       "      <td>S23IP_HUMAN</td>\n",
       "      <td>SEC23IP</td>\n",
       "      <td>NaN</td>\n",
       "      <td>1750.73</td>\n",
       "      <td>NaN</td>\n",
       "      <td>NaN</td>\n",
       "      <td>NaN</td>\n",
       "      <td>1539.58</td>\n",
       "      <td>...</td>\n",
       "      <td>NaN</td>\n",
       "      <td>NaN</td>\n",
       "      <td>1568.63</td>\n",
       "      <td>NaN</td>\n",
       "      <td>1841.58</td>\n",
       "      <td>NaN</td>\n",
       "      <td>NaN</td>\n",
       "      <td>NaN</td>\n",
       "      <td>NaN</td>\n",
       "      <td>NaN</td>\n",
       "    </tr>\n",
       "  </tbody>\n",
       "</table>\n",
       "<p>2970 rows × 138 columns</p>\n",
       "</div>"
      ],
      "text/plain": [
       "                    0                     1                        2    \\\n",
       "0         Protein.Group           Protein.Ids            Protein.Names   \n",
       "1     A0A0B4J2D5;P0DPI2     A0A0B4J2D5;P0DPI2  GAL3A_HUMAN;GAL3B_HUMAN   \n",
       "2                A0AV96  A0AV96;Q8TBY0;Q9NQ94              RBM47_HUMAN   \n",
       "3                A0AVT1                A0AVT1               UBA6_HUMAN   \n",
       "4                A0FGR8                A0FGR8              ESYT2_HUMAN   \n",
       "...                 ...                   ...                      ...   \n",
       "2965             Q9Y6N5                Q9Y6N5               SQOR_HUMAN   \n",
       "2966             Q9Y6W3                Q9Y6W3               CAN7_HUMAN   \n",
       "2967             Q9Y6W5                Q9Y6W5              WASF2_HUMAN   \n",
       "2968             Q9Y6X3                Q9Y6X3               SCC4_HUMAN   \n",
       "2969             Q9Y6Y8                Q9Y6Y8              S23IP_HUMAN   \n",
       "\n",
       "                3                          4    \\\n",
       "0             Genes  First.Protein.Description   \n",
       "1     GATD3A;GATD3B                        NaN   \n",
       "2             RBM47                        NaN   \n",
       "3              UBA6                        NaN   \n",
       "4             ESYT2                        NaN   \n",
       "...             ...                        ...   \n",
       "2965           SQOR                        NaN   \n",
       "2966          CAPN7                        NaN   \n",
       "2967          WASF2                        NaN   \n",
       "2968           MAU2                        NaN   \n",
       "2969        SEC23IP                        NaN   \n",
       "\n",
       "                                                    5    \\\n",
       "0     H:\\Perdu-Alloy Pauline\\Coronavirus_HAE\\GFP_pos...   \n",
       "1                                                   NaN   \n",
       "2                                               2108.71   \n",
       "3                                               4227.87   \n",
       "4                                               2978.79   \n",
       "...                                                 ...   \n",
       "2965                                              11305   \n",
       "2966                                            1221.22   \n",
       "2967                                                NaN   \n",
       "2968                                                NaN   \n",
       "2969                                            1750.73   \n",
       "\n",
       "                                                    6    \\\n",
       "0     H:\\Perdu-Alloy Pauline\\Coronavirus_HAE\\GFP_pos...   \n",
       "1                                                   NaN   \n",
       "2                                               2618.78   \n",
       "3                                               4938.56   \n",
       "4                                               3547.62   \n",
       "...                                                 ...   \n",
       "2965                                            13771.8   \n",
       "2966                                            1002.14   \n",
       "2967                                            4525.85   \n",
       "2968                                                NaN   \n",
       "2969                                                NaN   \n",
       "\n",
       "                                                    7    \\\n",
       "0     H:\\Perdu-Alloy Pauline\\Coronavirus_HAE\\GFP_pos...   \n",
       "1                                                   NaN   \n",
       "2                                               4620.57   \n",
       "3                                               6304.49   \n",
       "4                                                3554.4   \n",
       "...                                                 ...   \n",
       "2965                                            12947.2   \n",
       "2966                                            1127.77   \n",
       "2967                                                NaN   \n",
       "2968                                                NaN   \n",
       "2969                                                NaN   \n",
       "\n",
       "                                                    8    \\\n",
       "0     H:\\Perdu-Alloy Pauline\\Coronavirus_HAE\\GFP_pos...   \n",
       "1                                                   NaN   \n",
       "2                                                1622.4   \n",
       "3                                               4402.84   \n",
       "4                                               2036.98   \n",
       "...                                                 ...   \n",
       "2965                                            13790.9   \n",
       "2966                                            1123.66   \n",
       "2967                                            4730.71   \n",
       "2968                                                NaN   \n",
       "2969                                                NaN   \n",
       "\n",
       "                                                    9    ...  \\\n",
       "0     H:\\Perdu-Alloy Pauline\\Coronavirus_HAE\\GFP_pos...  ...   \n",
       "1                                                2659.9  ...   \n",
       "2                                               2614.49  ...   \n",
       "3                                                4012.5  ...   \n",
       "4                                               2362.04  ...   \n",
       "...                                                 ...  ...   \n",
       "2965                                            9377.37  ...   \n",
       "2966                                            1424.21  ...   \n",
       "2967                                            3437.31  ...   \n",
       "2968                                                NaN  ...   \n",
       "2969                                            1539.58  ...   \n",
       "\n",
       "                                                    128  \\\n",
       "0     H:\\Perdu-Alloy Pauline\\Coronavirus_HAE\\GFP_pos...   \n",
       "1                                               7374.29   \n",
       "2                                                2267.7   \n",
       "3                                               3088.24   \n",
       "4                                               3452.18   \n",
       "...                                                 ...   \n",
       "2965                                            12611.6   \n",
       "2966                                                NaN   \n",
       "2967                                              16182   \n",
       "2968                                                NaN   \n",
       "2969                                                NaN   \n",
       "\n",
       "                                                    129  \\\n",
       "0     H:\\Perdu-Alloy Pauline\\Coronavirus_HAE\\GFP_pos...   \n",
       "1                                               4884.76   \n",
       "2                                               1716.45   \n",
       "3                                               2884.52   \n",
       "4                                               2263.99   \n",
       "...                                                 ...   \n",
       "2965                                            16330.4   \n",
       "2966                                            1433.62   \n",
       "2967                                            12436.5   \n",
       "2968                                                NaN   \n",
       "2969                                                NaN   \n",
       "\n",
       "                                                    130  \\\n",
       "0     H:\\Perdu-Alloy Pauline\\Coronavirus_HAE\\GFP_pos...   \n",
       "1                                               4262.83   \n",
       "2                                                1502.1   \n",
       "3                                               3868.83   \n",
       "4                                               2451.59   \n",
       "...                                                 ...   \n",
       "2965                                            17443.1   \n",
       "2966                                            1105.35   \n",
       "2967                                            9002.66   \n",
       "2968                                                NaN   \n",
       "2969                                            1568.63   \n",
       "\n",
       "                                                    131  \\\n",
       "0     H:\\Perdu-Alloy Pauline\\Coronavirus_HAE\\GFP_pos...   \n",
       "1                                                   NaN   \n",
       "2                                                   NaN   \n",
       "3                                                  3665   \n",
       "4                                               2170.78   \n",
       "...                                                 ...   \n",
       "2965                                            9191.25   \n",
       "2966                                                NaN   \n",
       "2967                                            11185.3   \n",
       "2968                                                NaN   \n",
       "2969                                                NaN   \n",
       "\n",
       "                                                    132  \\\n",
       "0     H:\\Perdu-Alloy Pauline\\Coronavirus_HAE\\GFP_pos...   \n",
       "1                                                   NaN   \n",
       "2                                               1387.21   \n",
       "3                                               2916.64   \n",
       "4                                               2547.01   \n",
       "...                                                 ...   \n",
       "2965                                            11823.8   \n",
       "2966                                            1039.57   \n",
       "2967                                            8332.06   \n",
       "2968                                                NaN   \n",
       "2969                                            1841.58   \n",
       "\n",
       "                                                    133  \\\n",
       "0     H:\\Perdu-Alloy Pauline\\Coronavirus_HAE\\GFP_pos...   \n",
       "1                                                   NaN   \n",
       "2                                                   NaN   \n",
       "3                                                   NaN   \n",
       "4                                                   NaN   \n",
       "...                                                 ...   \n",
       "2965                                                NaN   \n",
       "2966                                                NaN   \n",
       "2967                                                NaN   \n",
       "2968                                                NaN   \n",
       "2969                                                NaN   \n",
       "\n",
       "                                                    134  \\\n",
       "0     H:\\Perdu-Alloy Pauline\\Coronavirus_HAE\\GFP_pos...   \n",
       "1                                                   NaN   \n",
       "2                                                   NaN   \n",
       "3                                                   NaN   \n",
       "4                                                   NaN   \n",
       "...                                                 ...   \n",
       "2965                                                NaN   \n",
       "2966                                                NaN   \n",
       "2967                                                NaN   \n",
       "2968                                                NaN   \n",
       "2969                                                NaN   \n",
       "\n",
       "                                                    135  \\\n",
       "0     H:\\Perdu-Alloy Pauline\\Coronavirus_HAE\\GFP_pos...   \n",
       "1                                                   NaN   \n",
       "2                                                   NaN   \n",
       "3                                                   NaN   \n",
       "4                                                   NaN   \n",
       "...                                                 ...   \n",
       "2965                                                NaN   \n",
       "2966                                                NaN   \n",
       "2967                                                NaN   \n",
       "2968                                                NaN   \n",
       "2969                                                NaN   \n",
       "\n",
       "                                                    136  \\\n",
       "0     H:\\Perdu-Alloy Pauline\\Coronavirus_HAE\\GFP_pos...   \n",
       "1                                                   NaN   \n",
       "2                                                   NaN   \n",
       "3                                                   NaN   \n",
       "4                                                   NaN   \n",
       "...                                                 ...   \n",
       "2965                                                NaN   \n",
       "2966                                                NaN   \n",
       "2967                                                NaN   \n",
       "2968                                                NaN   \n",
       "2969                                                NaN   \n",
       "\n",
       "                                                    137  \n",
       "0     H:\\Perdu-Alloy Pauline\\Coronavirus_HAE\\GFP_pos...  \n",
       "1                                                   NaN  \n",
       "2                                                   NaN  \n",
       "3                                                   NaN  \n",
       "4                                                   NaN  \n",
       "...                                                 ...  \n",
       "2965                                                NaN  \n",
       "2966                                                NaN  \n",
       "2967                                                NaN  \n",
       "2968                                                NaN  \n",
       "2969                                                NaN  \n",
       "\n",
       "[2970 rows x 138 columns]"
      ]
     },
     "execution_count": 97,
     "metadata": {},
     "output_type": "execute_result"
    }
   ],
   "source": [
    "sheets['GFP.POS3dpi_pg']"
   ]
  },
  {
   "cell_type": "code",
   "execution_count": 98,
   "id": "8346ea79-5718-4468-836c-91bccf423f3a",
   "metadata": {},
   "outputs": [],
   "source": [
    "idx_var = pd.DataFrame(sheets['Mock3dpi_pg'].iloc[1:, 2]) "
   ]
  },
  {
   "cell_type": "code",
   "execution_count": 99,
   "id": "c10e49d5-b951-4445-ac41-3c84478efb05",
   "metadata": {},
   "outputs": [
    {
     "data": {
      "text/html": [
       "<div>\n",
       "<style scoped>\n",
       "    .dataframe tbody tr th:only-of-type {\n",
       "        vertical-align: middle;\n",
       "    }\n",
       "\n",
       "    .dataframe tbody tr th {\n",
       "        vertical-align: top;\n",
       "    }\n",
       "\n",
       "    .dataframe thead th {\n",
       "        text-align: right;\n",
       "    }\n",
       "</style>\n",
       "<table border=\"1\" class=\"dataframe\">\n",
       "  <thead>\n",
       "    <tr style=\"text-align: right;\">\n",
       "      <th></th>\n",
       "      <th>2</th>\n",
       "    </tr>\n",
       "  </thead>\n",
       "  <tbody>\n",
       "    <tr>\n",
       "      <th>1</th>\n",
       "      <td>CC187_HUMAN</td>\n",
       "    </tr>\n",
       "    <tr>\n",
       "      <th>2</th>\n",
       "      <td>TVAL3_HUMAN</td>\n",
       "    </tr>\n",
       "    <tr>\n",
       "      <th>3</th>\n",
       "      <td>GAL3A_HUMAN;GAL3B_HUMAN</td>\n",
       "    </tr>\n",
       "    <tr>\n",
       "      <th>4</th>\n",
       "      <td>PIOS1_HUMAN</td>\n",
       "    </tr>\n",
       "    <tr>\n",
       "      <th>5</th>\n",
       "      <td>A0A7S6HGT3_CVH22</td>\n",
       "    </tr>\n",
       "    <tr>\n",
       "      <th>...</th>\n",
       "      <td>...</td>\n",
       "    </tr>\n",
       "    <tr>\n",
       "      <th>5697</th>\n",
       "      <td>F169A_HUMAN</td>\n",
       "    </tr>\n",
       "    <tr>\n",
       "      <th>5698</th>\n",
       "      <td>ENPP4_HUMAN</td>\n",
       "    </tr>\n",
       "    <tr>\n",
       "      <th>5699</th>\n",
       "      <td>NS1BP_HUMAN</td>\n",
       "    </tr>\n",
       "    <tr>\n",
       "      <th>5700</th>\n",
       "      <td>S23IP_HUMAN</td>\n",
       "    </tr>\n",
       "    <tr>\n",
       "      <th>5701</th>\n",
       "      <td>COL10_HUMAN</td>\n",
       "    </tr>\n",
       "  </tbody>\n",
       "</table>\n",
       "<p>5701 rows × 1 columns</p>\n",
       "</div>"
      ],
      "text/plain": [
       "                            2\n",
       "1                 CC187_HUMAN\n",
       "2                 TVAL3_HUMAN\n",
       "3     GAL3A_HUMAN;GAL3B_HUMAN\n",
       "4                 PIOS1_HUMAN\n",
       "5            A0A7S6HGT3_CVH22\n",
       "...                       ...\n",
       "5697              F169A_HUMAN\n",
       "5698              ENPP4_HUMAN\n",
       "5699              NS1BP_HUMAN\n",
       "5700              S23IP_HUMAN\n",
       "5701              COL10_HUMAN\n",
       "\n",
       "[5701 rows x 1 columns]"
      ]
     },
     "execution_count": 99,
     "metadata": {},
     "output_type": "execute_result"
    }
   ],
   "source": [
    "idx_var"
   ]
  },
  {
   "cell_type": "code",
   "execution_count": 100,
   "id": "9a20c1c0-ff55-4800-9b92-f2b67d9b41c1",
   "metadata": {},
   "outputs": [],
   "source": [
    "adatas = []\n",
    "\n",
    "for x in cles:\n",
    "    sheet_part = sheets[x]\n",
    "    var = sheet_part.iloc[1:, 0:5]  \n",
    "    obs = pd.DataFrame(sheet_part.iloc[0, 5:])  \n",
    "    data = sheet_part.iloc[1:, 5:].T\n",
    "\n",
    "    adata = sc.AnnData(X=data, obs=obs, var=var) #create anndata\n",
    "    \n",
    "    #remodele the indexs\n",
    "    #idx_var = pd.DataFrame(sheet_part.iloc[1:, 3]) \n",
    "    adata.obs.index = obs\n",
    "    \n",
    "    adata.obs.index = adata.obs.index.map(str)\n",
    "    adata.obs.index = adata.obs.index.str.replace(r\"[()']\", \"\", regex=True)\n",
    "    adata.obs.index = adata.obs.index.str.replace(\";\", \"\")\n",
    "    adata.obs.index = adata.obs.index.str.replace(\",\", \"\")\n",
    "\n",
    "\n",
    "    idx_var = pd.DataFrame(sheet_part.iloc[1:, 2])  # Index pour var (colonne cible)\n",
    "    adata.var.index = [str(idx[0]) if isinstance(idx, tuple) else str(idx) for idx in idx_var.iloc[:, 0]]\n",
    "    adata.var.index = [idx.replace(\"(\", \"\").replace(\")\", \"\").replace(\"'\", \"\").replace(\";\", \"\").replace(\",\", \"\") for idx in adata.var.index]\n",
    "    \n",
    "    adata.var.columns = sheet_part.iloc[0, 0:5]\n",
    "\n",
    "    \n",
    "    adata.obs = adata.obs.drop(columns=[0])\n",
    "    \n",
    "    adatas.append(adata)"
   ]
  },
  {
   "cell_type": "code",
   "execution_count": 101,
   "id": "a6cd38b9-3fdc-4c1f-8b36-56babd565d0f",
   "metadata": {},
   "outputs": [
    {
     "data": {
      "text/html": [
       "<div>\n",
       "<style scoped>\n",
       "    .dataframe tbody tr th:only-of-type {\n",
       "        vertical-align: middle;\n",
       "    }\n",
       "\n",
       "    .dataframe tbody tr th {\n",
       "        vertical-align: top;\n",
       "    }\n",
       "\n",
       "    .dataframe thead th {\n",
       "        text-align: right;\n",
       "    }\n",
       "</style>\n",
       "<table border=\"1\" class=\"dataframe\">\n",
       "  <thead>\n",
       "    <tr style=\"text-align: right;\">\n",
       "      <th></th>\n",
       "    </tr>\n",
       "  </thead>\n",
       "  <tbody>\n",
       "    <tr>\n",
       "      <th>Mock_3dpi FINI\\\\TU016282CK_Slot1-01_1_4668.d</th>\n",
       "    </tr>\n",
       "    <tr>\n",
       "      <th>Mock_3dpi FINI\\\\TU016284CK_Slot1-02_1_4670.d</th>\n",
       "    </tr>\n",
       "    <tr>\n",
       "      <th>Mock_3dpi FINI\\\\TU016286CK_Slot1-03_1_4672.d</th>\n",
       "    </tr>\n",
       "    <tr>\n",
       "      <th>Mock_3dpi FINI\\\\TU016288CK_Slot1-01_1_4674.d</th>\n",
       "    </tr>\n",
       "    <tr>\n",
       "      <th>Mock_3dpi FINI\\\\TU016294CK_Slot1-04_1_4680.d</th>\n",
       "    </tr>\n",
       "    <tr>\n",
       "      <th>...</th>\n",
       "    </tr>\n",
       "    <tr>\n",
       "      <th>Mock_3dpi FINI\\\\TU016969CK_Slot1-41_1_5355.d</th>\n",
       "    </tr>\n",
       "    <tr>\n",
       "      <th>Mock_3dpi FINI\\\\TU016970CK_Slot1-42_1_5356.d</th>\n",
       "    </tr>\n",
       "    <tr>\n",
       "      <th>Mock_3dpi FINI\\\\TU016972CK_Slot1-55_1_5358.d</th>\n",
       "    </tr>\n",
       "    <tr>\n",
       "      <th>Mock_3dpi FINI\\\\TU016973CK_Slot1-56_1_5359.d</th>\n",
       "    </tr>\n",
       "    <tr>\n",
       "      <th>Mock_3dpi FINI\\\\TU016974CK_Slot1-57_1_5360.d</th>\n",
       "    </tr>\n",
       "  </tbody>\n",
       "</table>\n",
       "<p>145 rows × 0 columns</p>\n",
       "</div>"
      ],
      "text/plain": [
       "Empty DataFrame\n",
       "Columns: []\n",
       "Index: [Mock_3dpi FINI\\\\TU016282CK_Slot1-01_1_4668.d, Mock_3dpi FINI\\\\TU016284CK_Slot1-02_1_4670.d, Mock_3dpi FINI\\\\TU016286CK_Slot1-03_1_4672.d, Mock_3dpi FINI\\\\TU016288CK_Slot1-01_1_4674.d, Mock_3dpi FINI\\\\TU016294CK_Slot1-04_1_4680.d, Mock_3dpi FINI\\\\TU016296CK_Slot1-05_1_4682.d, Mock_3dpi FINI\\\\TU016478CK_Slot1-06_1_4863.d, Mock_3dpi FINI\\\\TU016479CK_Slot1-07_1_4864.d, Mock_3dpi FINI\\\\TU016480CK_Slot1-08_1_4865.d, Mock_3dpi FINI\\\\TU016482CK_Slot1-13_1_4867.d, Mock_3dpi FINI\\\\TU016483CK_Slot1-14_1_4868.d, Mock_3dpi FINI\\\\TU016484CK_Slot1-15_1_4869.d, Mock_3dpi FINI\\\\TU016486CK_Slot1-09_1_4871.d, Mock_3dpi FINI\\\\TU016487CK_Slot1-10_1_4872.d, Mock_3dpi FINI\\\\TU016488CK_Slot1-11_1_4873.d, Mock_3dpi FINI\\\\TU016490CK_Slot1-12_1_4875.d, Mock_3dpi FINI\\\\TU016491CK_Slot1-16_1_4876.d, Mock_3dpi FINI\\\\TU016492CK_Slot1-17_1_4877.d, Mock_3dpi FINI\\\\TU016496CK_Slot1-25_1_4881.d, Mock_3dpi FINI\\\\TU016497CK_Slot1-26_1_4882.d, Mock_3dpi FINI\\\\TU016498CK_Slot1-27_1_4883.d, Mock_3dpi FINI\\\\TU016500CK_Slot1-48_1_4885.d, Mock_3dpi FINI\\\\TU016501CK_Slot1-47_1_4886.d, Mock_3dpi FINI\\\\TU016502CK_Slot1-46_1_4887.d, Mock_3dpi FINI\\\\TU016504CK_Slot1-37_1_4890.d, Mock_3dpi FINI\\\\TU016505CK_Slot1-38_1_4891.d, Mock_3dpi FINI\\\\TU016506CK_Slot1-39_1_4892.d, Mock_3dpi FINI\\\\TU016508CK_Slot1-36_1_4894.d, Mock_3dpi FINI\\\\TU016509CK_Slot1-35_1_4895.d, Mock_3dpi FINI\\\\TU016510CK_Slot1-34_1_4896.d, Mock_3dpi FINI\\\\TU016514CK_Slot1-18_1_4900.d, Mock_3dpi FINI\\\\TU016515CK_Slot1-19_1_4901.d, Mock_3dpi FINI\\\\TU016516CK_Slot1-20_1_4902.d, Mock_3dpi FINI\\\\TU016518CK_Slot1-40_1_4904.d, Mock_3dpi FINI\\\\TU016519CK_Slot1-41_1_4905.d, Mock_3dpi FINI\\\\TU016520CK_Slot1-42_1_4906.d, Mock_3dpi FINI\\\\TU016522CK_Slot1-28_1_4908.d, Mock_3dpi FINI\\\\TU016523CK_Slot1-29_1_4909.d, Mock_3dpi FINI\\\\TU016524CK_Slot1-30_1_4910.d, Mock_3dpi FINI\\\\TU016526CK_Slot1-21_1_4912.d, Mock_3dpi FINI\\\\TU016527CK_Slot1-22_1_4913.d, Mock_3dpi FINI\\\\TU016528CK_Slot1-23_1_4914.d, Mock_3dpi FINI\\\\TU016532CK_Slot1-43_1_4918.d, Mock_3dpi FINI\\\\TU016533CK_Slot1-44_1_4919.d, Mock_3dpi FINI\\\\TU016534CK_Slot1-45_1_4920.d, Mock_3dpi FINI\\\\TU016536CK_Slot1-31_1_4922.d, Mock_3dpi FINI\\\\TU016537CK_Slot1-32_1_4923.d, Mock_3dpi FINI\\\\TU016538CK_Slot1-33_1_4924.d, Mock_3dpi FINI\\\\TU016540CK_Slot1-24_1_4926.d, Mock_3dpi FINI\\\\TU016842CK_Slot1-96_1_5227.d, Mock_3dpi FINI\\\\TU016843CK_Slot1-94_1_5228.d, Mock_3dpi FINI\\\\TU016844CK_Slot1-95_1_5229.d, Mock_3dpi FINI\\\\TU016846CK_Slot1-85_1_5231.d, Mock_3dpi FINI\\\\TU016847CK_Slot1-86_1_5232.d, Mock_3dpi FINI\\\\TU016848CK_Slot1-87_1_5233.d, Mock_3dpi FINI\\\\TU016850CK_Slot1-10_1_5235.d, Mock_3dpi FINI\\\\TU016851CK_Slot1-11_1_5236.d, Mock_3dpi FINI\\\\TU016852CK_Slot1-12_1_5237.d, Mock_3dpi FINI\\\\TU016855CK_Slot1-91_1_5240.d, Mock_3dpi FINI\\\\TU016856CK_Slot1-92_1_5241.d, Mock_3dpi FINI\\\\TU016857CK_Slot1-93_1_5242.d, Mock_3dpi FINI\\\\TU016859CK_Slot1-04_1_5244.d, Mock_3dpi FINI\\\\TU016860CK_Slot1-05_1_5245.d, Mock_3dpi FINI\\\\TU016861CK_Slot1-06_1_5246.d, Mock_3dpi FINI\\\\TU016863CK_Slot1-88_1_5248.d, Mock_3dpi FINI\\\\TU016864CK_Slot1-89_1_5249.d, Mock_3dpi FINI\\\\TU016865CK_Slot1-90_1_5250.d, Mock_3dpi FINI\\\\TU016867CK_Slot1-13_1_5252.d, Mock_3dpi FINI\\\\TU016868CK_Slot1-14_1_5253.d, Mock_3dpi FINI\\\\TU016869CK_Slot1-15_1_5254.d, Mock_3dpi FINI\\\\TU016873CK_Slot1-82_1_5258.d, Mock_3dpi FINI\\\\TU016874CK_Slot1-83_1_5259.d, Mock_3dpi FINI\\\\TU016875CK_Slot1-84_1_5260.d, Mock_3dpi FINI\\\\TU016877CK_Slot1-07_1_5262.d, Mock_3dpi FINI\\\\TU016878CK_Slot1-08_1_5263.d, Mock_3dpi FINI\\\\TU016879CK_Slot1-09_1_5264.d, Mock_3dpi FINI\\\\TU016881CK_Slot1-73_1_5266.d, Mock_3dpi FINI\\\\TU016882CK_Slot1-74_1_5267.d, Mock_3dpi FINI\\\\TU016883CK_Slot1-75_1_5268.d, Mock_3dpi FINI\\\\TU016885CK_Slot1-25_1_5270.d, Mock_3dpi FINI\\\\TU016886CK_Slot1-26_1_5271.d, Mock_3dpi FINI\\\\TU016887CK_Slot1-27_1_5272.d, Mock_3dpi FINI\\\\TU016889CK_Slot1-22_1_5274.d, Mock_3dpi FINI\\\\TU016890CK_Slot1-23_1_5275.d, Mock_3dpi FINI\\\\TU016891CK_Slot1-24_1_5276.d, Mock_3dpi FINI\\\\TU016893CK_Slot1-79_1_5278.d, Mock_3dpi FINI\\\\TU016894CK_Slot1-80_1_5279.d, Mock_3dpi FINI\\\\TU016895CK_Slot1-81_1_5280.d, Mock_3dpi FINI\\\\TU016897CK_Slot1-16_1_5282.d, Mock_3dpi FINI\\\\TU016902CK_Slot1-17_1_5288.d, Mock_3dpi FINI\\\\TU016903CK_Slot1-18_1_5289.d, Mock_3dpi FINI\\\\TU016904CK_Slot1-76_1_5290.d, Mock_3dpi FINI\\\\TU016905CK_Slot1-77_1_5291.d, Mock_3dpi FINI\\\\TU016906CK_Slot1-78_1_5292.d, Mock_3dpi FINI\\\\TU016907CK_Slot1-01_1_5293.d, Mock_3dpi FINI\\\\TU016908CK_Slot1-02_1_5294.d, Mock_3dpi FINI\\\\TU016909CK_Slot1-03_1_5295.d, Mock_3dpi FINI\\\\TU016911CK_Slot1-19_1_5297.d, Mock_3dpi FINI\\\\TU016912CK_Slot1-20_1_5298.d, Mock_3dpi FINI\\\\TU016913CK_Slot1-21_1_5299.d, ...]\n",
       "\n",
       "[145 rows x 0 columns]"
      ]
     },
     "execution_count": 101,
     "metadata": {},
     "output_type": "execute_result"
    }
   ],
   "source": [
    "adatas[0].obs\n"
   ]
  },
  {
   "cell_type": "code",
   "execution_count": null,
   "id": "20257726-64ac-4b08-8f31-9c1fa4aa83fe",
   "metadata": {
    "scrolled": true
   },
   "outputs": [],
   "source": []
  },
  {
   "cell_type": "code",
   "execution_count": null,
   "id": "67e92733-e88f-4dad-925f-8d8e10209dc0",
   "metadata": {},
   "outputs": [],
   "source": []
  },
  {
   "cell_type": "code",
   "execution_count": 102,
   "id": "9ce1f902-1421-4503-8c53-229fc7b3a321",
   "metadata": {},
   "outputs": [
    {
     "data": {
      "text/plain": [
       "[AnnData object with n_obs × n_vars = 145 × 5701\n",
       "     var: 'Protein.Group', 'Protein.Ids', 'Protein.Names', 'Genes', 'First.Protein.Description',\n",
       " AnnData object with n_obs × n_vars = 138 × 4142\n",
       "     var: 'Protein.Group', 'Protein.Ids', 'Protein.Names', 'Genes', 'First.Protein.Description',\n",
       " AnnData object with n_obs × n_vars = 133 × 2969\n",
       "     var: 'Protein.Group', 'Protein.Ids', 'Protein.Names', 'Genes', 'First.Protein.Description',\n",
       " AnnData object with n_obs × n_vars = 139 × 3223\n",
       "     var: 'Protein.Group', 'Protein.Ids', 'Protein.Names', 'Genes', 'First.Protein.Description',\n",
       " AnnData object with n_obs × n_vars = 108 × 3212\n",
       "     var: 'Protein.Group', 'Protein.Ids', 'Protein.Names', 'Genes', 'First.Protein.Description',\n",
       " AnnData object with n_obs × n_vars = 140 × 4385\n",
       "     var: 'Protein.Group', 'Protein.Ids', 'Protein.Names', 'Genes', 'First.Protein.Description']"
      ]
     },
     "execution_count": 102,
     "metadata": {},
     "output_type": "execute_result"
    }
   ],
   "source": [
    "adatas"
   ]
  },
  {
   "cell_type": "code",
   "execution_count": null,
   "id": "25e9d482-4673-4b61-a1a2-0b56396ed668",
   "metadata": {},
   "outputs": [],
   "source": []
  },
  {
   "cell_type": "code",
   "execution_count": 103,
   "id": "3f9ff7cf-5e89-42d2-85ee-009176a09b8f",
   "metadata": {},
   "outputs": [],
   "source": [
    "def load_it(i, adata):\n",
    "    adata.obs['Id'] = cles[i]\n",
    "    return adata"
   ]
  },
  {
   "cell_type": "code",
   "execution_count": 104,
   "id": "c093c225-e42c-458e-a3e4-974fb5b55fab",
   "metadata": {},
   "outputs": [],
   "source": [
    "adatas = [load_it(i, ad) for i, ad in enumerate(adatas)]"
   ]
  },
  {
   "cell_type": "code",
   "execution_count": 105,
   "id": "fd5d9be8-0f86-415e-b83f-f03e8c515460",
   "metadata": {},
   "outputs": [],
   "source": [
    "data.obs = adata.obs.applymap(str)\n",
    "\n",
    "# Convertir toutes les colonnes de var en chaînes\n",
    "adata.var = adata.var.applymap(str)"
   ]
  },
  {
   "cell_type": "code",
   "execution_count": null,
   "id": "645498b2-617f-4bcc-9032-7be23d8c1e68",
   "metadata": {},
   "outputs": [],
   "source": []
  },
  {
   "cell_type": "code",
   "execution_count": 106,
   "id": "64b021fe-fb0b-4f56-aaaf-c4dc0f8b4efe",
   "metadata": {},
   "outputs": [],
   "source": [
    "from scipy.sparse import csr_matrix\n",
    "for ad in adatas: \n",
    "    \n",
    "    if isinstance(ad.X, np.ndarray):\n",
    "         ad.X = ad.X.astype(np.float32)\n",
    "\n",
    "    if isinstance(ad.X, csr_matrix):\n",
    "         ad.X = csr_matrix(ad.X, dtype=np.float32)\n",
    "    # Convertir toutes les colonnes de obs et var en chaînes\n",
    "    ad.obs = ad.obs.astype(str)\n",
    "    ad.var = ad.var.astype(str)\n",
    "\n",
    "    # Convertir les index d'obs et var en chaînes\n",
    "    ad.obs.index = ad.obs.index.map(str)\n",
    "    ad.var.index = ad.var.index.map(str)\n"
   ]
  },
  {
   "cell_type": "code",
   "execution_count": 107,
   "id": "2dc85465-dfd1-4b78-8e4f-998cc5d7376d",
   "metadata": {},
   "outputs": [
    {
     "data": {
      "text/plain": [
       "CC187_HUMAN                    CCDC187\n",
       "TVAL3_HUMAN                   TRAV12-3\n",
       "GAL3A_HUMANGAL3B_HUMAN    GATD3;GATD3B\n",
       "PIOS1_HUMAN                    PIGBOS1\n",
       "A0A7S6HGT3_CVH22                     N\n",
       "                              ...     \n",
       "F169A_HUMAN                    FAM169A\n",
       "ENPP4_HUMAN                      ENPP4\n",
       "NS1BP_HUMAN                   IVNS1ABP\n",
       "S23IP_HUMAN                    SEC23IP\n",
       "COL10_HUMAN                    COLEC10\n",
       "Name: Genes, Length: 5701, dtype: object"
      ]
     },
     "execution_count": 107,
     "metadata": {},
     "output_type": "execute_result"
    }
   ],
   "source": [
    "adatas[0].var.Genes"
   ]
  },
  {
   "cell_type": "code",
   "execution_count": null,
   "id": "bbfbe3f9-1618-4757-962b-adfaa01da2c3",
   "metadata": {},
   "outputs": [],
   "source": []
  },
  {
   "cell_type": "code",
   "execution_count": 108,
   "id": "ffdd2a7b-dca5-4058-bcdb-9753baa570fb",
   "metadata": {},
   "outputs": [
    {
     "name": "stdout",
     "output_type": "stream",
     "text": [
      "Saved: /home/ybeaumatin/Documents/Data processing pipeline/scP/Data/adata_Mock3dpi_pg.h5ad\n",
      "Saved: /home/ybeaumatin/Documents/Data processing pipeline/scP/Data/adata_GFP.NEG3dpi_pg.h5ad\n",
      "Saved: /home/ybeaumatin/Documents/Data processing pipeline/scP/Data/adata_GFP.POS3dpi_pg.h5ad\n",
      "Saved: /home/ybeaumatin/Documents/Data processing pipeline/scP/Data/adata_Mock6dpi_pg.h5ad\n",
      "Saved: /home/ybeaumatin/Documents/Data processing pipeline/scP/Data/adata_GFP.NEG6dpi_pg.h5ad\n",
      "Saved: /home/ybeaumatin/Documents/Data processing pipeline/scP/Data/adata_GFP.POS6dpi_pg.h5ad\n"
     ]
    }
   ],
   "source": [
    "for ad in adatas:\n",
    "    unique_id = ad.obs['Id'][0]\n",
    "    file_path = os.path.join('/home/ybeaumatin/Documents/Data processing pipeline/scP/Data/', f'adata_{unique_id}.h5ad')\n",
    "    ad.write(file_path)\n",
    "    print(f\"Saved: {file_path}\")"
   ]
  },
  {
   "cell_type": "markdown",
   "id": "e7c5ae98-7926-4f39-b425-94563655e565",
   "metadata": {},
   "source": [
    "# Add missing Genes names "
   ]
  },
  {
   "cell_type": "code",
   "execution_count": 140,
   "id": "3ab7fa43-4a33-42d2-938d-7cf043680269",
   "metadata": {},
   "outputs": [
    {
     "name": "stdout",
     "output_type": "stream",
     "text": [
      "Nombre de fichiers h5ad chargés avec succès : 6\n"
     ]
    }
   ],
   "source": [
    "adatas = []\n",
    "data_dir = '/home/ybeaumatin/Documents/Data processing pipeline/scP/Data'\n",
    "\n",
    "for filename in os.listdir(data_dir):\n",
    "    if filename.endswith('.h5ad'):\n",
    "        try:\n",
    "            adata = sc.read_h5ad(os.path.join(data_dir, filename))\n",
    "            adata.var_names_make_unique()\n",
    "            adatas.append(adata)\n",
    "        except OSError as e:\n",
    "            print(f\"Erreur lors de la lecture du fichier {filename}: {e}\")\n",
    "\n",
    "print(f\"Nombre de fichiers h5ad chargés avec succès : {len(adatas)}\")"
   ]
  },
  {
   "cell_type": "code",
   "execution_count": 141,
   "id": "9ba9ff35-3fdf-476a-a899-eac8d4fcb57b",
   "metadata": {},
   "outputs": [
    {
     "data": {
      "text/plain": [
       "[AnnData object with n_obs × n_vars = 108 × 3212\n",
       "     obs: 'Id'\n",
       "     var: 'Protein.Group', 'Protein.Ids', 'Protein.Names', 'Genes', 'First.Protein.Description',\n",
       " AnnData object with n_obs × n_vars = 133 × 2969\n",
       "     obs: 'Id'\n",
       "     var: 'Protein.Group', 'Protein.Ids', 'Protein.Names', 'Genes', 'First.Protein.Description',\n",
       " AnnData object with n_obs × n_vars = 145 × 5701\n",
       "     obs: 'Id'\n",
       "     var: 'Protein.Group', 'Protein.Ids', 'Protein.Names', 'Genes', 'First.Protein.Description',\n",
       " AnnData object with n_obs × n_vars = 139 × 3223\n",
       "     obs: 'Id'\n",
       "     var: 'Protein.Group', 'Protein.Ids', 'Protein.Names', 'Genes', 'First.Protein.Description',\n",
       " AnnData object with n_obs × n_vars = 140 × 4385\n",
       "     obs: 'Id'\n",
       "     var: 'Protein.Group', 'Protein.Ids', 'Protein.Names', 'Genes', 'First.Protein.Description',\n",
       " AnnData object with n_obs × n_vars = 138 × 4142\n",
       "     obs: 'Id'\n",
       "     var: 'Protein.Group', 'Protein.Ids', 'Protein.Names', 'Genes', 'First.Protein.Description']"
      ]
     },
     "execution_count": 141,
     "metadata": {},
     "output_type": "execute_result"
    }
   ],
   "source": [
    "adatas"
   ]
  },
  {
   "cell_type": "code",
   "execution_count": null,
   "id": "b02e45b9-aece-408b-8f95-2da4530e6318",
   "metadata": {},
   "outputs": [],
   "source": []
  },
  {
   "cell_type": "code",
   "execution_count": 142,
   "id": "a4066774-94e2-4ddb-b38b-566a7145ddcb",
   "metadata": {},
   "outputs": [
    {
     "data": {
      "text/plain": [
       "array([[ 5544.32,  7190.33,      nan, ...,  3585.08,  5518.76,  7944.28],\n",
       "       [ 4120.03,  5809.38,      nan, ...,  2425.32,  6372.72,  8097.24],\n",
       "       [ 5531.19, 11922.  ,      nan, ...,  4091.65,  5796.29,  7071.44],\n",
       "       ...,\n",
       "       [ 3669.94,  6447.75,      nan, ...,  3251.86,  4072.56,  8222.58],\n",
       "       [ 3975.58,  4283.43,      nan, ...,  3668.98,  4208.38,  8004.19],\n",
       "       [ 2984.47,  3099.07,      nan, ...,  2828.09,  4721.6 ,  7507.2 ]],\n",
       "      dtype=float32)"
      ]
     },
     "execution_count": 142,
     "metadata": {},
     "output_type": "execute_result"
    }
   ],
   "source": [
    "adatas[0].X"
   ]
  },
  {
   "cell_type": "code",
   "execution_count": null,
   "id": "cfc3f1a4-1c4b-4dc5-a4d5-924f2bcb3f36",
   "metadata": {},
   "outputs": [],
   "source": []
  },
  {
   "cell_type": "code",
   "execution_count": null,
   "id": "a940e0a9-8be9-4682-b54d-aedebf0fe83a",
   "metadata": {},
   "outputs": [],
   "source": []
  },
  {
   "cell_type": "code",
   "execution_count": 143,
   "id": "3081a0a7-e2b0-4e9d-935f-5c7b4e1e3760",
   "metadata": {},
   "outputs": [
    {
     "data": {
      "text/plain": [
       "[AnnData object with n_obs × n_vars = 108 × 3212\n",
       "     obs: 'Id'\n",
       "     var: 'Protein.Group', 'Protein.Ids', 'Protein.Names', 'Genes', 'First.Protein.Description',\n",
       " AnnData object with n_obs × n_vars = 133 × 2969\n",
       "     obs: 'Id'\n",
       "     var: 'Protein.Group', 'Protein.Ids', 'Protein.Names', 'Genes', 'First.Protein.Description',\n",
       " AnnData object with n_obs × n_vars = 145 × 5701\n",
       "     obs: 'Id'\n",
       "     var: 'Protein.Group', 'Protein.Ids', 'Protein.Names', 'Genes', 'First.Protein.Description',\n",
       " AnnData object with n_obs × n_vars = 139 × 3223\n",
       "     obs: 'Id'\n",
       "     var: 'Protein.Group', 'Protein.Ids', 'Protein.Names', 'Genes', 'First.Protein.Description',\n",
       " AnnData object with n_obs × n_vars = 140 × 4385\n",
       "     obs: 'Id'\n",
       "     var: 'Protein.Group', 'Protein.Ids', 'Protein.Names', 'Genes', 'First.Protein.Description',\n",
       " AnnData object with n_obs × n_vars = 138 × 4142\n",
       "     obs: 'Id'\n",
       "     var: 'Protein.Group', 'Protein.Ids', 'Protein.Names', 'Genes', 'First.Protein.Description']"
      ]
     },
     "execution_count": 143,
     "metadata": {},
     "output_type": "execute_result"
    }
   ],
   "source": [
    "adatas"
   ]
  },
  {
   "cell_type": "code",
   "execution_count": 144,
   "id": "815598e0-70c9-4bd5-9c27-3fcaafc600f8",
   "metadata": {
    "scrolled": true
   },
   "outputs": [
    {
     "name": "stdout",
     "output_type": "stream",
     "text": [
      "GFP.NEG6dpi_pg\n",
      "Incorrect name in column 'Genes' :\n",
      "SYMC_HUMAN    2001-03-01 00:00:00\n",
      "Name: Genes, dtype: object\n",
      "\n",
      "Nombre total d'entrées incorrectes : 1\n",
      "\n",
      "Incorrect distribution :\n",
      "Genes\n",
      "2001-03-01 00:00:00    1\n",
      "Name: count, dtype: int64\n",
      "\n",
      "Incorrect Index :\n",
      "['SYMC_HUMAN']\n",
      "GFP.POS3dpi_pg\n",
      "Incorrect name in column 'Genes' :\n",
      "SEPT2_HUMAN    2002-09-01 00:00:00\n",
      "SEPT7_HUMAN    2007-09-01 00:00:00\n",
      "YI025_HUMAN                    nan\n",
      "SEPT8_HUMAN    2008-09-01 00:00:00\n",
      "SEP11_HUMAN    2011-09-01 00:00:00\n",
      "SEP10_HUMAN    2010-09-01 00:00:00\n",
      "SEPT9_HUMAN    2009-09-01 00:00:00\n",
      "Name: Genes, dtype: object\n",
      "\n",
      "Nombre total d'entrées incorrectes : 7\n",
      "\n",
      "Incorrect distribution :\n",
      "Genes\n",
      "2002-09-01 00:00:00    1\n",
      "2007-09-01 00:00:00    1\n",
      "nan                    1\n",
      "2008-09-01 00:00:00    1\n",
      "2011-09-01 00:00:00    1\n",
      "2010-09-01 00:00:00    1\n",
      "2009-09-01 00:00:00    1\n",
      "Name: count, dtype: int64\n",
      "\n",
      "Incorrect Index :\n",
      "['SEPT2_HUMAN', 'SEPT7_HUMAN', 'YI025_HUMAN', 'SEPT8_HUMAN', 'SEP11_HUMAN', 'SEP10_HUMAN', 'SEPT9_HUMAN']\n",
      "Mock3dpi_pg\n",
      "Incorrect name in column 'Genes' :\n",
      "SYMC_HUMAN     2001-03-01 00:00:00\n",
      "YJ005_HUMAN                    nan\n",
      "SYMM_HUMAN     2002-03-01 00:00:00\n",
      "Name: Genes, dtype: object\n",
      "\n",
      "Nombre total d'entrées incorrectes : 3\n",
      "\n",
      "Incorrect distribution :\n",
      "Genes\n",
      "2001-03-01 00:00:00    1\n",
      "nan                    1\n",
      "2002-03-01 00:00:00    1\n",
      "Name: count, dtype: int64\n",
      "\n",
      "Incorrect Index :\n",
      "['SYMC_HUMAN', 'YJ005_HUMAN', 'SYMM_HUMAN']\n",
      "Mock6dpi_pg\n",
      "Incorrect name in column 'Genes' :\n",
      "IGA2_HUMAN                    nan\n",
      "IGL1_HUMAN                    nan\n",
      "SYMC_HUMAN    2001-03-01 00:00:00\n",
      "Name: Genes, dtype: object\n",
      "\n",
      "Nombre total d'entrées incorrectes : 3\n",
      "\n",
      "Incorrect distribution :\n",
      "Genes\n",
      "nan                    2\n",
      "2001-03-01 00:00:00    1\n",
      "Name: count, dtype: int64\n",
      "\n",
      "Incorrect Index :\n",
      "['IGA2_HUMAN', 'IGL1_HUMAN', 'SYMC_HUMAN']\n",
      "GFP.POS6dpi_pg\n",
      "Incorrect name in column 'Genes' :\n",
      "SYMC_HUMAN     2001-03-01 00:00:00\n",
      "YJ005_HUMAN                    nan\n",
      "SYMM_HUMAN     2002-03-01 00:00:00\n",
      "Name: Genes, dtype: object\n",
      "\n",
      "Nombre total d'entrées incorrectes : 3\n",
      "\n",
      "Incorrect distribution :\n",
      "Genes\n",
      "2001-03-01 00:00:00    1\n",
      "nan                    1\n",
      "2002-03-01 00:00:00    1\n",
      "Name: count, dtype: int64\n",
      "\n",
      "Incorrect Index :\n",
      "['SYMC_HUMAN', 'YJ005_HUMAN', 'SYMM_HUMAN']\n",
      "GFP.NEG3dpi_pg\n",
      "Incorrect name in column 'Genes' :\n",
      "SEPT6_HUMAN    2006-09-01 00:00:00\n",
      "SEPT2_HUMAN    2002-09-01 00:00:00\n",
      "SEPT7_HUMAN    2007-09-01 00:00:00\n",
      "YJ005_HUMAN                    nan\n",
      "YI025_HUMAN                    nan\n",
      "SEPT8_HUMAN    2008-09-01 00:00:00\n",
      "SEPT5_HUMAN    2005-09-01 00:00:00\n",
      "SEP11_HUMAN    2011-09-01 00:00:00\n",
      "SEP10_HUMAN    2010-09-01 00:00:00\n",
      "SEPT9_HUMAN    2009-09-01 00:00:00\n",
      "Name: Genes, dtype: object\n",
      "\n",
      "Nombre total d'entrées incorrectes : 10\n",
      "\n",
      "Incorrect distribution :\n",
      "Genes\n",
      "nan                    2\n",
      "2006-09-01 00:00:00    1\n",
      "2002-09-01 00:00:00    1\n",
      "2007-09-01 00:00:00    1\n",
      "2008-09-01 00:00:00    1\n",
      "2005-09-01 00:00:00    1\n",
      "2011-09-01 00:00:00    1\n",
      "2010-09-01 00:00:00    1\n",
      "2009-09-01 00:00:00    1\n",
      "Name: count, dtype: int64\n",
      "\n",
      "Incorrect Index :\n",
      "['SEPT6_HUMAN', 'SEPT2_HUMAN', 'SEPT7_HUMAN', 'YJ005_HUMAN', 'YI025_HUMAN', 'SEPT8_HUMAN', 'SEPT5_HUMAN', 'SEP11_HUMAN', 'SEP10_HUMAN', 'SEPT9_HUMAN']\n"
     ]
    }
   ],
   "source": [
    "for ad in adatas:\n",
    "    print(ad.obs['Id'][0])\n",
    "    ad.var['Genes'] = ad.var['Genes'].astype(str)\n",
    "    if 'Genes' not in ad.var.columns:\n",
    "        print(\"The column doesn't exist in adata.var\")\n",
    "    else:\n",
    "    # Create a mask for the datas with date name\n",
    "        date_mask = pd.to_datetime(ad.var['Genes'], format='%Y-%m-%d %H:%M:%S', errors='coerce').notna()\n",
    "        other_date_mask = pd.to_datetime(ad.var['Genes'], format='%Y-%d-%m %H:%M:%S', errors='coerce').notna()\n",
    "\n",
    "    # same for NaN\n",
    "        nan_mask = ad.var['Genes'].astype(str).str.lower() == 'nan'\n",
    "\n",
    "    # Combine\n",
    "        incorrect_entries = date_mask | nan_mask | other_date_mask\n",
    "\n",
    "        incorrect_genes = ad.var.loc[incorrect_entries, 'Genes']\n",
    "\n",
    "        print(\"Incorrect name in column 'Genes' :\")\n",
    "        print(incorrect_genes)\n",
    "        print(f\"\\nNombre total d'entrées incorrectes : {incorrect_entries.sum()}\")\n",
    "        print(\"\\nIncorrect distribution :\")\n",
    "        print(incorrect_genes.value_counts())\n",
    "\n",
    "    # Optionnel : afficher les indices des entrées incorrectes\n",
    "        print(\"\\nIncorrect Index :\")\n",
    "        print(incorrect_genes.index.tolist())"
   ]
  },
  {
   "cell_type": "code",
   "execution_count": 145,
   "id": "d56a5d89-ad5b-44c7-af68-233dc9eae65a",
   "metadata": {
    "scrolled": true
   },
   "outputs": [
    {
     "name": "stdout",
     "output_type": "stream",
     "text": [
      "GFP.NEG6dpi_pg\n",
      "Incorrect name in column 'Genes' :\n",
      "SYMC_HUMAN    2001-03-01 00:00:00\n",
      "Name: Genes, dtype: object\n",
      "\n",
      "Nombre total d'entrées incorrectes : 1\n",
      "\n",
      "Incorrect distribution :\n",
      "Genes\n",
      "2001-03-01 00:00:00    1\n",
      "Name: count, dtype: int64\n",
      "\n",
      "Incorrect Index :\n",
      "['SYMC_HUMAN']\n",
      "GFP.POS3dpi_pg\n",
      "Incorrect name in column 'Genes' :\n",
      "SEPT2_HUMAN    2002-09-01 00:00:00\n",
      "SEPT7_HUMAN    2007-09-01 00:00:00\n",
      "YI025_HUMAN                    nan\n",
      "SEPT8_HUMAN    2008-09-01 00:00:00\n",
      "SEP11_HUMAN    2011-09-01 00:00:00\n",
      "SEP10_HUMAN    2010-09-01 00:00:00\n",
      "SEPT9_HUMAN    2009-09-01 00:00:00\n",
      "Name: Genes, dtype: object\n",
      "\n",
      "Nombre total d'entrées incorrectes : 7\n",
      "\n",
      "Incorrect distribution :\n",
      "Genes\n",
      "2002-09-01 00:00:00    1\n",
      "2007-09-01 00:00:00    1\n",
      "nan                    1\n",
      "2008-09-01 00:00:00    1\n",
      "2011-09-01 00:00:00    1\n",
      "2010-09-01 00:00:00    1\n",
      "2009-09-01 00:00:00    1\n",
      "Name: count, dtype: int64\n",
      "\n",
      "Incorrect Index :\n",
      "['SEPT2_HUMAN', 'SEPT7_HUMAN', 'YI025_HUMAN', 'SEPT8_HUMAN', 'SEP11_HUMAN', 'SEP10_HUMAN', 'SEPT9_HUMAN']\n",
      "Mock3dpi_pg\n",
      "Incorrect name in column 'Genes' :\n",
      "SYMC_HUMAN     2001-03-01 00:00:00\n",
      "YJ005_HUMAN                    nan\n",
      "SYMM_HUMAN     2002-03-01 00:00:00\n",
      "Name: Genes, dtype: object\n",
      "\n",
      "Nombre total d'entrées incorrectes : 3\n",
      "\n",
      "Incorrect distribution :\n",
      "Genes\n",
      "2001-03-01 00:00:00    1\n",
      "nan                    1\n",
      "2002-03-01 00:00:00    1\n",
      "Name: count, dtype: int64\n",
      "\n",
      "Incorrect Index :\n",
      "['SYMC_HUMAN', 'YJ005_HUMAN', 'SYMM_HUMAN']\n",
      "Mock6dpi_pg\n",
      "Incorrect name in column 'Genes' :\n",
      "IGA2_HUMAN                    nan\n",
      "IGL1_HUMAN                    nan\n",
      "SYMC_HUMAN    2001-03-01 00:00:00\n",
      "Name: Genes, dtype: object\n",
      "\n",
      "Nombre total d'entrées incorrectes : 3\n",
      "\n",
      "Incorrect distribution :\n",
      "Genes\n",
      "nan                    2\n",
      "2001-03-01 00:00:00    1\n",
      "Name: count, dtype: int64\n",
      "\n",
      "Incorrect Index :\n",
      "['IGA2_HUMAN', 'IGL1_HUMAN', 'SYMC_HUMAN']\n",
      "GFP.POS6dpi_pg\n",
      "Incorrect name in column 'Genes' :\n",
      "SYMC_HUMAN     2001-03-01 00:00:00\n",
      "YJ005_HUMAN                    nan\n",
      "SYMM_HUMAN     2002-03-01 00:00:00\n",
      "Name: Genes, dtype: object\n",
      "\n",
      "Nombre total d'entrées incorrectes : 3\n",
      "\n",
      "Incorrect distribution :\n",
      "Genes\n",
      "2001-03-01 00:00:00    1\n",
      "nan                    1\n",
      "2002-03-01 00:00:00    1\n",
      "Name: count, dtype: int64\n",
      "\n",
      "Incorrect Index :\n",
      "['SYMC_HUMAN', 'YJ005_HUMAN', 'SYMM_HUMAN']\n",
      "GFP.NEG3dpi_pg\n",
      "Incorrect name in column 'Genes' :\n",
      "SEPT6_HUMAN    2006-09-01 00:00:00\n",
      "SEPT2_HUMAN    2002-09-01 00:00:00\n",
      "SEPT7_HUMAN    2007-09-01 00:00:00\n",
      "YJ005_HUMAN                    nan\n",
      "YI025_HUMAN                    nan\n",
      "SEPT8_HUMAN    2008-09-01 00:00:00\n",
      "SEPT5_HUMAN    2005-09-01 00:00:00\n",
      "SEP11_HUMAN    2011-09-01 00:00:00\n",
      "SEP10_HUMAN    2010-09-01 00:00:00\n",
      "SEPT9_HUMAN    2009-09-01 00:00:00\n",
      "Name: Genes, dtype: object\n",
      "\n",
      "Nombre total d'entrées incorrectes : 10\n",
      "\n",
      "Incorrect distribution :\n",
      "Genes\n",
      "nan                    2\n",
      "2006-09-01 00:00:00    1\n",
      "2002-09-01 00:00:00    1\n",
      "2007-09-01 00:00:00    1\n",
      "2008-09-01 00:00:00    1\n",
      "2005-09-01 00:00:00    1\n",
      "2011-09-01 00:00:00    1\n",
      "2010-09-01 00:00:00    1\n",
      "2009-09-01 00:00:00    1\n",
      "Name: count, dtype: int64\n",
      "\n",
      "Incorrect Index :\n",
      "['SEPT6_HUMAN', 'SEPT2_HUMAN', 'SEPT7_HUMAN', 'YJ005_HUMAN', 'YI025_HUMAN', 'SEPT8_HUMAN', 'SEPT5_HUMAN', 'SEP11_HUMAN', 'SEP10_HUMAN', 'SEPT9_HUMAN']\n",
      "\n",
      "Tous les indices incorrects uniques :\n",
      "['IGA2_HUMAN', 'IGL1_HUMAN', 'SEP10_HUMAN', 'SEP11_HUMAN', 'SEPT2_HUMAN', 'SEPT5_HUMAN', 'SEPT6_HUMAN', 'SEPT7_HUMAN', 'SEPT8_HUMAN', 'SEPT9_HUMAN', 'SYMC_HUMAN', 'SYMM_HUMAN', 'YI025_HUMAN', 'YJ005_HUMAN']\n",
      "\n",
      "Nombre total d'indices incorrects uniques : 14\n"
     ]
    }
   ],
   "source": [
    "all_incorrect_indices = set()\n",
    "\n",
    "for ad in adatas:\n",
    "    print(ad.obs['Id'][0])\n",
    "    ad.var['Genes'] = ad.var['Genes'].astype(str)\n",
    "    if 'Genes' not in ad.var.columns:\n",
    "        print(\"The column doesn't exist in adata.var\")\n",
    "    else:\n",
    "        # Create a mask for the datas with date name\n",
    "        date_mask = pd.to_datetime(ad.var['Genes'], format='%Y-%m-%d %H:%M:%S', errors='coerce').notna()\n",
    "        other_date_mask = pd.to_datetime(ad.var['Genes'], format='%Y-%d-%m %H:%M:%S', errors='coerce').notna()\n",
    "\n",
    "    # same for NaN\n",
    "        nan_mask = ad.var['Genes'].astype(str).str.lower() == 'nan'\n",
    "\n",
    "    # Combine\n",
    "        incorrect_entries = date_mask | nan_mask | other_date_mask\n",
    "\n",
    "        incorrect_genes = ad.var.loc[incorrect_entries, 'Genes']\n",
    "\n",
    "        print(\"Incorrect name in column 'Genes' :\")\n",
    "        print(incorrect_genes)\n",
    "        print(f\"\\nNombre total d'entrées incorrectes : {incorrect_entries.sum()}\")\n",
    "        print(\"\\nIncorrect distribution :\")\n",
    "        print(incorrect_genes.value_counts())\n",
    "\n",
    "   \n",
    "        print(\"\\nIncorrect Index :\")\n",
    "        print(incorrect_genes.index.tolist())\n",
    "        all_incorrect_indices.update(incorrect_genes.index)\n",
    "\n",
    "\n",
    "print(\"\\nTous les indices incorrects uniques :\")\n",
    "print(sorted(list(all_incorrect_indices)))\n",
    "print(f\"\\nNombre total d'indices incorrects uniques : {len(all_incorrect_indices)}\")"
   ]
  },
  {
   "cell_type": "code",
   "execution_count": 147,
   "id": "1036c188-aecc-41f1-a6b8-3a190008cbc8",
   "metadata": {},
   "outputs": [],
   "source": [
    "wrong_gene_name = {\n",
    "\"IGA2_HUMAN\":\"IGA2\",\n",
    "\"IGL1_HUMAN\":\"IGL1\",\n",
    "\"SEP10_HUMAN\":\"SEPTIN10\",\n",
    "\"SEP11_HUMAN\":\"SEPTIN11\",\n",
    "\"SEPT2_HUMAN\":\"SEPTIN2\",\n",
    "\"SEPT5_HUMAN\":\"SEPTIN5\",\n",
    "\"SEPT6_HUMAN\":\"SEPTIN6\",\n",
    "\"SEPT7_HUMAN\":\"SEPTIN7\",\n",
    "\"SEPT8_HUMAN\":\"SEPTIN8\",\n",
    "\"SEPT9_HUMAN\":\"SEPTIN9\",\n",
    "\"SYMC_HUMAN\":\"MARS1\",\n",
    "\"SYMM_HUMAN\":\"MARS2\",\n",
    "\"YI025_HUMAN\":\"YI025\",\n",
    "\"YJ005_HUMAN\":\"YJ005\"\n",
    "}"
   ]
  },
  {
   "cell_type": "code",
   "execution_count": 150,
   "id": "336192ec-6c14-40c0-98c9-8e3eb13fe0de",
   "metadata": {},
   "outputs": [],
   "source": [
    "def corriger_noms_genes(adatas, corrections):\n",
    "    for ad in adatas:\n",
    "\n",
    "        ad.var['Genes'] = ad.var['Genes'].astype(str)\n",
    "        \n",
    "\n",
    "        ad.var['Genes'] = ad.var['Genes'].replace(corrections)\n",
    "        \n",
    "        date_mask = pd.to_datetime(ad.var['Genes'], format='%Y-%m-%d %H:%M:%S', errors='coerce').notna()\n",
    "        \n",
    "        mask_a_corriger = date_mask | (ad.var['Genes'].str.lower() == 'nan')\n",
    "        ad.var.loc[mask_a_corriger, 'Genes'] = ad.var.index[mask_a_corriger].str.split('_').str[0]\n",
    "\n",
    "\n",
    "corriger_noms_genes(adatas, wrong_gene_name)"
   ]
  },
  {
   "cell_type": "code",
   "execution_count": 168,
   "id": "38e64460-70d9-4c20-a12c-61c460190f3f",
   "metadata": {},
   "outputs": [
    {
     "data": {
      "text/plain": [
       "NUD4B_HUMANNUDT4_HUMAN    NUDT4;NUDT4B\n",
       "GAL3A_HUMANGAL3B_HUMAN    GATD3;GATD3B\n",
       "A0A7S6HGT3_CVH22                     N\n",
       "RBM47_HUMAN                      RBM47\n",
       "IFT56_HUMAN                      TTC26\n",
       "                              ...     \n",
       "M3K4_HUMAN                      MAP3K4\n",
       "SCIN_HUMAN                        SCIN\n",
       "CAN7_HUMAN                       CAPN7\n",
       "WASF2_HUMAN                      WASF2\n",
       "S23IP_HUMAN                    SEC23IP\n",
       "Name: Genes, Length: 3212, dtype: object"
      ]
     },
     "execution_count": 168,
     "metadata": {},
     "output_type": "execute_result"
    }
   ],
   "source": [
    "adatas[0].var['Genes']"
   ]
  },
  {
   "cell_type": "code",
   "execution_count": 151,
   "id": "1ac1dea5-1cbe-4627-84d4-3b099d3f32be",
   "metadata": {
    "scrolled": true
   },
   "outputs": [
    {
     "name": "stdout",
     "output_type": "stream",
     "text": [
      "GFP.NEG6dpi_pg\n",
      "Incorrect name in column 'Genes' :\n",
      "Series([], Name: Genes, dtype: object)\n",
      "\n",
      "Nombre total d'entrées incorrectes : 0\n",
      "\n",
      "Incorrect distribution :\n",
      "Series([], Name: count, dtype: int64)\n",
      "\n",
      "Incorrect Index :\n",
      "[]\n",
      "GFP.POS3dpi_pg\n",
      "Incorrect name in column 'Genes' :\n",
      "Series([], Name: Genes, dtype: object)\n",
      "\n",
      "Nombre total d'entrées incorrectes : 0\n",
      "\n",
      "Incorrect distribution :\n",
      "Series([], Name: count, dtype: int64)\n",
      "\n",
      "Incorrect Index :\n",
      "[]\n",
      "Mock3dpi_pg\n",
      "Incorrect name in column 'Genes' :\n",
      "Series([], Name: Genes, dtype: object)\n",
      "\n",
      "Nombre total d'entrées incorrectes : 0\n",
      "\n",
      "Incorrect distribution :\n",
      "Series([], Name: count, dtype: int64)\n",
      "\n",
      "Incorrect Index :\n",
      "[]\n",
      "Mock6dpi_pg\n",
      "Incorrect name in column 'Genes' :\n",
      "Series([], Name: Genes, dtype: object)\n",
      "\n",
      "Nombre total d'entrées incorrectes : 0\n",
      "\n",
      "Incorrect distribution :\n",
      "Series([], Name: count, dtype: int64)\n",
      "\n",
      "Incorrect Index :\n",
      "[]\n",
      "GFP.POS6dpi_pg\n",
      "Incorrect name in column 'Genes' :\n",
      "Series([], Name: Genes, dtype: object)\n",
      "\n",
      "Nombre total d'entrées incorrectes : 0\n",
      "\n",
      "Incorrect distribution :\n",
      "Series([], Name: count, dtype: int64)\n",
      "\n",
      "Incorrect Index :\n",
      "[]\n",
      "GFP.NEG3dpi_pg\n",
      "Incorrect name in column 'Genes' :\n",
      "Series([], Name: Genes, dtype: object)\n",
      "\n",
      "Nombre total d'entrées incorrectes : 0\n",
      "\n",
      "Incorrect distribution :\n",
      "Series([], Name: count, dtype: int64)\n",
      "\n",
      "Incorrect Index :\n",
      "[]\n",
      "\n",
      "Tous les indices incorrects uniques :\n",
      "[]\n",
      "\n",
      "Nombre total d'indices incorrects uniques : 0\n"
     ]
    }
   ],
   "source": [
    "all_incorrect_indices = set()\n",
    "\n",
    "for ad in adatas:\n",
    "    print(ad.obs['Id'][0])\n",
    "    ad.var['Genes'] = ad.var['Genes'].astype(str)\n",
    "    if 'Genes' not in ad.var.columns:\n",
    "        print(\"The column doesn't exist in adata.var\")\n",
    "    else:\n",
    "        # Create a mask for the datas with date name\n",
    "        date_mask = pd.to_datetime(ad.var['Genes'], format='%Y-%m-%d %H:%M:%S', errors='coerce').notna()\n",
    "        other_date_mask = pd.to_datetime(ad.var['Genes'], format='%Y-%d-%m %H:%M:%S', errors='coerce').notna()\n",
    "\n",
    "    # same for NaN\n",
    "        nan_mask = ad.var['Genes'].astype(str).str.lower() == 'nan'\n",
    "\n",
    "    # Combine\n",
    "        incorrect_entries = date_mask | nan_mask | other_date_mask\n",
    "\n",
    "        incorrect_genes = ad.var.loc[incorrect_entries, 'Genes']\n",
    "\n",
    "        print(\"Incorrect name in column 'Genes' :\")\n",
    "        print(incorrect_genes)\n",
    "        print(f\"\\nNombre total d'entrées incorrectes : {incorrect_entries.sum()}\")\n",
    "        print(\"\\nIncorrect distribution :\")\n",
    "        print(incorrect_genes.value_counts())\n",
    "\n",
    "   \n",
    "        print(\"\\nIncorrect Index :\")\n",
    "        print(incorrect_genes.index.tolist())\n",
    "        all_incorrect_indices.update(incorrect_genes.index)\n",
    "\n",
    "\n",
    "print(\"\\nTous les indices incorrects uniques :\")\n",
    "print(sorted(list(all_incorrect_indices)))\n",
    "print(f\"\\nNombre total d'indices incorrects uniques : {len(all_incorrect_indices)}\")"
   ]
  },
  {
   "cell_type": "code",
   "execution_count": 164,
   "id": "7ef89038-babb-476f-853f-25efe01bbcd1",
   "metadata": {},
   "outputs": [
    {
     "data": {
      "text/plain": [
       "Genes\n",
       "False    4137\n",
       "True        5\n",
       "Name: count, dtype: int64"
      ]
     },
     "execution_count": 164,
     "metadata": {},
     "output_type": "execute_result"
    }
   ],
   "source": [
    "adatas[5].var['Genes'].str.startswith(\"MT-\").value_counts()"
   ]
  },
  {
   "cell_type": "code",
   "execution_count": null,
   "id": "fe5ecc65-7dc1-4aca-9d29-95535a9c9dcc",
   "metadata": {},
   "outputs": [],
   "source": []
  },
  {
   "cell_type": "code",
   "execution_count": null,
   "id": "a6ff8ab1-186c-4936-a9f1-0e0d45c00067",
   "metadata": {},
   "outputs": [],
   "source": []
  },
  {
   "cell_type": "code",
   "execution_count": null,
   "id": "fd608c32-ab74-4aae-8e28-37509d446025",
   "metadata": {},
   "outputs": [],
   "source": []
  },
  {
   "cell_type": "code",
   "execution_count": null,
   "id": "9c4140ca-3745-40ca-823e-64cc5727e612",
   "metadata": {},
   "outputs": [],
   "source": []
  },
  {
   "cell_type": "markdown",
   "id": "bd6ba651-820f-4c14-a342-4bf76f246633",
   "metadata": {},
   "source": [
    "# Preprocessing similar to scRNA"
   ]
  },
  {
   "cell_type": "code",
   "execution_count": 165,
   "id": "68ef59dd-00cb-4ded-8348-66e0c25b035f",
   "metadata": {},
   "outputs": [],
   "source": [
    "def qc(adata):\n",
    "    sc.pp.filter_cells(adata, min_genes = 200)\n",
    "    adata.var[\"mt\"] = adata.var['Genes'].str.startswith(\"MT-\")\n",
    "    adata.var[\"ribo\"] = adata.var['Genes'].str.startswith(\"RPS\", \"RPL\")\n",
    "    adata.var[\"hb\"] = adata.var['Genes'].str.startswith(\"^HB[^(P)]\")\n",
    "    sc.pp.calculate_qc_metrics(adata,qc_vars=[\"mt\",\"ribo\",\"hb\"], inplace = True, percent_top = [20], log1p=True)\n",
    "\n",
    "    remove = ['total_counts_mt', 'log1p_total_counts_mt', 'total_counts_ribo',\n",
    "              'log1p_total_counts_ribo','total_counts_hb','log1p_total_counts_hb']\n",
    "\n",
    "    adata.obs = adata.obs[[x for x in adata.obs.columns if x not in remove]]\n",
    "    return adata"
   ]
  },
  {
   "cell_type": "code",
   "execution_count": 166,
   "id": "639f0041-f34e-4a1e-a1d9-c6250f8f03af",
   "metadata": {},
   "outputs": [],
   "source": [
    "adatas = [qc(ad) for ad in adatas]"
   ]
  },
  {
   "cell_type": "code",
   "execution_count": 167,
   "id": "0e15153a-6771-4480-8807-39a26e5248cf",
   "metadata": {},
   "outputs": [
    {
     "data": {
      "text/plain": [
       "AnnData object with n_obs × n_vars = 108 × 3212\n",
       "    obs: 'Id', 'n_genes', 'n_genes_by_counts', 'log1p_n_genes_by_counts', 'total_counts', 'log1p_total_counts', 'pct_counts_in_top_20_genes', 'pct_counts_mt', 'pct_counts_ribo', 'pct_counts_hb'\n",
       "    var: 'Protein.Group', 'Protein.Ids', 'Protein.Names', 'Genes', 'First.Protein.Description', 'mt', 'ribo', 'hb', 'n_cells_by_counts', 'mean_counts', 'log1p_mean_counts', 'pct_dropout_by_counts', 'total_counts', 'log1p_total_counts'"
      ]
     },
     "execution_count": 167,
     "metadata": {},
     "output_type": "execute_result"
    }
   ],
   "source": [
    "adatas[0]"
   ]
  },
  {
   "cell_type": "code",
   "execution_count": 32,
   "id": "debc9ccb-a885-4d2c-8dff-05fc51494a7e",
   "metadata": {},
   "outputs": [],
   "source": [
    "#loose the var infos"
   ]
  },
  {
   "cell_type": "code",
   "execution_count": 127,
   "id": "05e6d652-38ce-4094-8cb2-3501a1f7db49",
   "metadata": {},
   "outputs": [],
   "source": [
    "adata = adt.concat(adatas, join=\"outer\", index_unique=\"-\", merge=\"first\")"
   ]
  },
  {
   "cell_type": "code",
   "execution_count": 128,
   "id": "117f579b-8abb-4cb8-b10f-cbd7e8b10975",
   "metadata": {},
   "outputs": [],
   "source": [
    "adata.X = np.nan_to_num(adata.X, nan=0.0)"
   ]
  },
  {
   "cell_type": "code",
   "execution_count": 129,
   "id": "841a3b99-e9d4-4f1a-acd6-8e5d2f126403",
   "metadata": {},
   "outputs": [
    {
     "data": {
      "text/html": [
       "<div>\n",
       "<style scoped>\n",
       "    .dataframe tbody tr th:only-of-type {\n",
       "        vertical-align: middle;\n",
       "    }\n",
       "\n",
       "    .dataframe tbody tr th {\n",
       "        vertical-align: top;\n",
       "    }\n",
       "\n",
       "    .dataframe thead th {\n",
       "        text-align: right;\n",
       "    }\n",
       "</style>\n",
       "<table border=\"1\" class=\"dataframe\">\n",
       "  <thead>\n",
       "    <tr style=\"text-align: right;\">\n",
       "      <th></th>\n",
       "    </tr>\n",
       "  </thead>\n",
       "  <tbody>\n",
       "    <tr>\n",
       "      <th>1433B_HUMAN</th>\n",
       "    </tr>\n",
       "    <tr>\n",
       "      <th>1433E_HUMAN</th>\n",
       "    </tr>\n",
       "    <tr>\n",
       "      <th>1433F_HUMAN</th>\n",
       "    </tr>\n",
       "    <tr>\n",
       "      <th>1433G_HUMAN</th>\n",
       "    </tr>\n",
       "    <tr>\n",
       "      <th>1433S_HUMAN</th>\n",
       "    </tr>\n",
       "    <tr>\n",
       "      <th>...</th>\n",
       "    </tr>\n",
       "    <tr>\n",
       "      <th>ZRAB2_HUMAN</th>\n",
       "    </tr>\n",
       "    <tr>\n",
       "      <th>ZSWM8_HUMAN</th>\n",
       "    </tr>\n",
       "    <tr>\n",
       "      <th>ZW10_HUMAN</th>\n",
       "    </tr>\n",
       "    <tr>\n",
       "      <th>ZYX_HUMAN</th>\n",
       "    </tr>\n",
       "    <tr>\n",
       "      <th>ZZEF1_HUMAN</th>\n",
       "    </tr>\n",
       "  </tbody>\n",
       "</table>\n",
       "<p>6570 rows × 0 columns</p>\n",
       "</div>"
      ],
      "text/plain": [
       "Empty DataFrame\n",
       "Columns: []\n",
       "Index: [1433B_HUMAN, 1433E_HUMAN, 1433F_HUMAN, 1433G_HUMAN, 1433S_HUMAN, 1433T_HUMAN, 1433Z_HUMAN, 1A68_HUMAN, 1A69_HUMAN, 1B82_HUMAN, 1C04_HUMAN1C12_HUMAN1C14_HUMAN, 1C12_HUMAN, 2A5A_HUMAN, 2A5D_HUMAN, 2A5E_HUMAN, 2A5G_HUMAN, 2AAA_HUMAN, 2AAB_HUMAN, 2ABA_HUMAN, 2ABD_HUMAN, 3BHS1_HUMAN, 3BP1_HUMAN, 3BP1_HUMANBGIN_HUMAN, 3HIDH_HUMAN, 3MG_HUMAN, 41_HUMAN, 4EBP1_HUMAN, 4EBP2_HUMAN, 4ET_HUMAN, 4F2_HUMAN, 5MP1_HUMAN, 5MP2_HUMAN, 5NT3A_HUMAN, 5NTC_HUMAN, 68MP_HUMAN, 6PGD_HUMAN, 6PGL_HUMAN, 8ODP_HUMAN, A0A7S6HGT3_CVH22, A16A1_HUMAN, A16L1_HUMAN, A1AG1_HUMAN, A1AT_HUMAN, A1BG_HUMAN, A2AP_HUMAN, A2MG_HUMAN, A2ML1_HUMAN, A4GAT_HUMAN, A4_HUMAN, A7L3B_HUMAN, AAAS_HUMAN, AAAT_HUMAN, AACS_HUMAN, AACT_HUMAN, AAGAB_HUMAN, AAK1_HUMAN, AAKB1_HUMAN, AAKB2_HUMAN, AAKG1_HUMAN, AAMDC_HUMAN, AAMP_HUMAN, AAPK1_HUMAN, AAPK2_HUMAN, AAR2_HUMAN, AASD1_HUMAN, AASS_HUMAN, AATC_HUMAN, AATM_HUMAN, AB17C_HUMAN, ABC3A_HUMAN, ABC3A_HUMANABC3B_HUMAN, ABC3B_HUMAN, ABC3C_HUMAN, ABC3C_HUMANABC3D_HUMANABC3F_HUMAN, ABC3D_HUMAN, ABC3F_HUMAN, ABCB6_HUMAN, ABCB7_HUMAN, ABCBA_HUMAN, ABCD1_HUMAN, ABCD3_HUMAN, ABCE1_HUMAN, ABCF1_HUMAN, ABCF2_HUMAN, ABCF3_HUMAN, ABD12_HUMAN, ABHD5_HUMAN, ABHD6_HUMAN, ABHDA_HUMAN, ABHDB_HUMAN, ABHEB_HUMAN, ABHGA_HUMAN, ABI1_HUMAN, ABLM1_HUMAN, ABRAL_HUMAN, ABRX2_HUMAN, ABR_HUMAN, ACACA_HUMAN, ACAD8_HUMAN, ACAD9_HUMAN, ...]\n",
       "\n",
       "[6570 rows x 0 columns]"
      ]
     },
     "execution_count": 129,
     "metadata": {},
     "output_type": "execute_result"
    }
   ],
   "source": [
    "adata.var"
   ]
  },
  {
   "cell_type": "code",
   "execution_count": 139,
   "id": "7d66ee46-2417-495d-8e38-33b3161b6869",
   "metadata": {},
   "outputs": [],
   "source": [
    "file_path = os.path.join('/home/ybeaumatin/Documents/Data processing pipeline/scP/Dataset/', f'adata_concat.h5ad')\n",
    "adata.write(file_path)"
   ]
  },
  {
   "cell_type": "code",
   "execution_count": null,
   "id": "13575c5b-0a04-4241-a555-51effbdafd5e",
   "metadata": {},
   "outputs": [],
   "source": []
  },
  {
   "cell_type": "code",
   "execution_count": 37,
   "id": "55d391fe-b76b-45d3-8538-b839e15742ff",
   "metadata": {},
   "outputs": [],
   "source": [
    "adata = sc.read_h5ad('/home/ybeaumatin/Documents/Data processing pipeline/scP/Dataset/adata_concat.h5ad')"
   ]
  },
  {
   "cell_type": "code",
   "execution_count": 93,
   "id": "9863fc90-3a4b-4989-996b-bb6320d41c1d",
   "metadata": {},
   "outputs": [
    {
     "name": "stdout",
     "output_type": "stream",
     "text": [
      "(6570, 14)\n",
      "(6570,)\n",
      "mt\n",
      "False    6570\n",
      "Name: count, dtype: int64\n"
     ]
    }
   ],
   "source": [
    "print(adata.var.shape)\n",
    "print(adata.var.mt.shape)\n",
    "print(adata.var.mt.value_counts())"
   ]
  },
  {
   "cell_type": "code",
   "execution_count": null,
   "id": "469c2e55-928f-4b0d-98e0-ddb02ddb13b8",
   "metadata": {},
   "outputs": [],
   "source": []
  },
  {
   "cell_type": "code",
   "execution_count": 13,
   "id": "09226289-dac7-4f13-ad65-90297dfc42d1",
   "metadata": {},
   "outputs": [],
   "source": [
    "#from scvi.autotune import ModelTuner\n",
    "import tempfile\n",
    "import ray\n",
    "import scanpy as sc\n",
    "import scvi\n",
    "import seaborn as sns\n",
    "import torch\n",
    "from ray import tune\n",
    "from scvi import autotune\n",
    "import os\n",
    "from matplotlib import pyplot as plt\n",
    "import numpy as np"
   ]
  },
  {
   "cell_type": "markdown",
   "id": "700209fd-2970-4ecf-b4f1-c6721b2247fe",
   "metadata": {},
   "source": [
    "## Integration"
   ]
  },
  {
   "cell_type": "code",
   "execution_count": 36,
   "id": "a40e00ab-5910-4cef-a64a-b58f2773da6e",
   "metadata": {},
   "outputs": [],
   "source": [
    "adata = sc.read_h5ad('/home/ybeaumatin/Documents/Data processing pipeline/scP/Data/adata_concat.h5ad')"
   ]
  },
  {
   "cell_type": "code",
   "execution_count": 37,
   "id": "5a177af1-3e60-4937-a7a7-4b6c24dad091",
   "metadata": {},
   "outputs": [],
   "source": [
    "adata.X = np.nan_to_num(adata.X, nan=0.0)"
   ]
  },
  {
   "cell_type": "code",
   "execution_count": 38,
   "id": "a65f3c24-4db9-436e-8d8d-f42475b32fec",
   "metadata": {},
   "outputs": [],
   "source": [
    "adata.layers[\"raw_counts\"] = adata.X.copy()"
   ]
  },
  {
   "cell_type": "code",
   "execution_count": 39,
   "id": "e7924ad2-9508-4f5d-8b4d-55b4e6527056",
   "metadata": {},
   "outputs": [
    {
     "data": {
      "text/plain": [
       "AnnData object with n_obs × n_vars = 1606 × 6570\n",
       "    obs: 'Id'\n",
       "    var: 'Protein.Group', 'Protein.Ids', 'Protein.Names', 'Genes', 'First.Protein.Description'\n",
       "    layers: 'raw_counts'"
      ]
     },
     "execution_count": 39,
     "metadata": {},
     "output_type": "execute_result"
    }
   ],
   "source": [
    "adata"
   ]
  },
  {
   "cell_type": "code",
   "execution_count": 40,
   "id": "c16e6b50-420d-418d-a8cb-e760f00e027f",
   "metadata": {},
   "outputs": [
    {
     "data": {
      "text/html": [
       "<div>\n",
       "<style scoped>\n",
       "    .dataframe tbody tr th:only-of-type {\n",
       "        vertical-align: middle;\n",
       "    }\n",
       "\n",
       "    .dataframe tbody tr th {\n",
       "        vertical-align: top;\n",
       "    }\n",
       "\n",
       "    .dataframe thead th {\n",
       "        text-align: right;\n",
       "    }\n",
       "</style>\n",
       "<table border=\"1\" class=\"dataframe\">\n",
       "  <thead>\n",
       "    <tr style=\"text-align: right;\">\n",
       "      <th></th>\n",
       "      <th>Id</th>\n",
       "    </tr>\n",
       "  </thead>\n",
       "  <tbody>\n",
       "    <tr>\n",
       "      <th>GFP_neg_6dpi/TU017444PAP_Slot1-06_1_5848.d-0</th>\n",
       "      <td>GFP.NEG6dpi_pg</td>\n",
       "    </tr>\n",
       "    <tr>\n",
       "      <th>GFP_neg_6dpi/TU017445PAP_Slot1-07_1_5849.d-0</th>\n",
       "      <td>GFP.NEG6dpi_pg</td>\n",
       "    </tr>\n",
       "    <tr>\n",
       "      <th>GFP_neg_6dpi/TU017446PAP_Slot1-08_1_5850.d-0</th>\n",
       "      <td>GFP.NEG6dpi_pg</td>\n",
       "    </tr>\n",
       "    <tr>\n",
       "      <th>GFP_neg_6dpi/TU017481PAP_Slot1-18_1_5885.d-0</th>\n",
       "      <td>GFP.NEG6dpi_pg</td>\n",
       "    </tr>\n",
       "    <tr>\n",
       "      <th>GFP_neg_6dpi/TU017482PAP_Slot1-19_1_5886.d-0</th>\n",
       "      <td>GFP.NEG6dpi_pg</td>\n",
       "    </tr>\n",
       "    <tr>\n",
       "      <th>...</th>\n",
       "      <td>...</td>\n",
       "    </tr>\n",
       "    <tr>\n",
       "      <th>H:\\\\Perdu-Alloy Pauline\\\\Coronavirus_HAE\\\\GFP_neg_3dpi\\\\TU017119PAP_Slot2-2_1_5515.d-6</th>\n",
       "      <td>GFP.NEG3dpi_pg</td>\n",
       "    </tr>\n",
       "    <tr>\n",
       "      <th>H:\\\\Perdu-Alloy Pauline\\\\Coronavirus_HAE\\\\GFP_neg_3dpi\\\\TU017120PAP_Slot1-31_1_5516.d-6</th>\n",
       "      <td>GFP.NEG3dpi_pg</td>\n",
       "    </tr>\n",
       "    <tr>\n",
       "      <th>H:\\\\Perdu-Alloy Pauline\\\\Coronavirus_HAE\\\\GFP_neg_3dpi\\\\TU017122PAP_Slot1-33_1_5518.d-6</th>\n",
       "      <td>GFP.NEG3dpi_pg</td>\n",
       "    </tr>\n",
       "    <tr>\n",
       "      <th>H:\\\\Perdu-Alloy Pauline\\\\Coronavirus_HAE\\\\GFP_neg_3dpi\\\\TU017123PAP_Slot2-2_1_5519.d-6</th>\n",
       "      <td>GFP.NEG3dpi_pg</td>\n",
       "    </tr>\n",
       "    <tr>\n",
       "      <th>H:\\\\Perdu-Alloy Pauline\\\\Coronavirus_HAE\\\\GFP_neg_3dpi\\\\TU017124PAP_Slot1-24_1_5520.d-6</th>\n",
       "      <td>GFP.NEG3dpi_pg</td>\n",
       "    </tr>\n",
       "  </tbody>\n",
       "</table>\n",
       "<p>1606 rows × 1 columns</p>\n",
       "</div>"
      ],
      "text/plain": [
       "                                                                Id\n",
       "GFP_neg_6dpi/TU017444PAP_Slot1-06_1_5848.d-0        GFP.NEG6dpi_pg\n",
       "GFP_neg_6dpi/TU017445PAP_Slot1-07_1_5849.d-0        GFP.NEG6dpi_pg\n",
       "GFP_neg_6dpi/TU017446PAP_Slot1-08_1_5850.d-0        GFP.NEG6dpi_pg\n",
       "GFP_neg_6dpi/TU017481PAP_Slot1-18_1_5885.d-0        GFP.NEG6dpi_pg\n",
       "GFP_neg_6dpi/TU017482PAP_Slot1-19_1_5886.d-0        GFP.NEG6dpi_pg\n",
       "...                                                            ...\n",
       "H:\\\\Perdu-Alloy Pauline\\\\Coronavirus_HAE\\\\GFP_n...  GFP.NEG3dpi_pg\n",
       "H:\\\\Perdu-Alloy Pauline\\\\Coronavirus_HAE\\\\GFP_n...  GFP.NEG3dpi_pg\n",
       "H:\\\\Perdu-Alloy Pauline\\\\Coronavirus_HAE\\\\GFP_n...  GFP.NEG3dpi_pg\n",
       "H:\\\\Perdu-Alloy Pauline\\\\Coronavirus_HAE\\\\GFP_n...  GFP.NEG3dpi_pg\n",
       "H:\\\\Perdu-Alloy Pauline\\\\Coronavirus_HAE\\\\GFP_n...  GFP.NEG3dpi_pg\n",
       "\n",
       "[1606 rows x 1 columns]"
      ]
     },
     "execution_count": 40,
     "metadata": {},
     "output_type": "execute_result"
    }
   ],
   "source": [
    "adata.obs"
   ]
  },
  {
   "cell_type": "code",
   "execution_count": 41,
   "id": "113fdbef-12ee-4aee-98aa-331ac71b86f7",
   "metadata": {},
   "outputs": [
    {
     "data": {
      "text/plain": [
       "array([[ 25140.2 ,  65314.2 ,   9879.21, ...,      0.  ,   2198.77,\n",
       "             0.  ],\n",
       "       [ 38213.8 ,  39348.3 ,   4703.41, ...,      0.  ,   3943.43,\n",
       "          4780.26],\n",
       "       [ 37409.  ,  34582.4 ,   4456.29, ...,      0.  ,   4004.28,\n",
       "          5518.54],\n",
       "       ...,\n",
       "       [ 93301.2 , 378847.  ,  11106.3 , ...,   2113.42,  13626.9 ,\n",
       "             0.  ],\n",
       "       [142033.  , 511227.  ,      0.  , ...,      0.  ,      0.  ,\n",
       "             0.  ],\n",
       "       [137525.  , 438963.  ,  12126.2 , ...,   2894.91,  10761.4 ,\n",
       "             0.  ]], dtype=float32)"
      ]
     },
     "execution_count": 41,
     "metadata": {},
     "output_type": "execute_result"
    }
   ],
   "source": [
    "adata.X"
   ]
  },
  {
   "cell_type": "code",
   "execution_count": 42,
   "id": "c89bc96c-e085-4214-83c9-101f81741384",
   "metadata": {},
   "outputs": [
    {
     "data": {
      "image/png": "[encoded data removed]",
      "text/plain": [
       "<Figure size 640x480 with 1 Axes>"
      ]
     },
     "metadata": {},
     "output_type": "display_data"
    }
   ],
   "source": [
    "p1 = sns.histplot(adata.layers[\"raw_counts\"].sum(1), bins=100, kde=False)"
   ]
  },
  {
   "cell_type": "code",
   "execution_count": null,
   "id": "2d549db7-8de0-4ecd-a827-ee2110619db6",
   "metadata": {},
   "outputs": [],
   "source": []
  },
  {
   "cell_type": "code",
   "execution_count": 43,
   "id": "c32aa0de-0f68-4155-9a03-59305caea771",
   "metadata": {},
   "outputs": [],
   "source": [
    "sc.pp.filter_genes(adata, min_cells = 5)"
   ]
  },
  {
   "cell_type": "code",
   "execution_count": 44,
   "id": "18c11216-3b06-4da9-8655-e1b33d0d4f5b",
   "metadata": {},
   "outputs": [
    {
     "data": {
      "text/plain": [
       "AnnData object with n_obs × n_vars = 1606 × 6504\n",
       "    obs: 'Id'\n",
       "    var: 'Protein.Group', 'Protein.Ids', 'Protein.Names', 'Genes', 'First.Protein.Description', 'n_cells'\n",
       "    layers: 'raw_counts'"
      ]
     },
     "execution_count": 44,
     "metadata": {},
     "output_type": "execute_result"
    }
   ],
   "source": [
    "adata"
   ]
  },
  {
   "cell_type": "code",
   "execution_count": null,
   "id": "a42ca3c6-308c-4184-bea3-42f819869afa",
   "metadata": {},
   "outputs": [],
   "source": []
  },
  {
   "cell_type": "code",
   "execution_count": null,
   "id": "15ab7280-423c-4e2b-90de-cec58d8b1474",
   "metadata": {},
   "outputs": [],
   "source": [
    "model_cls = scvi.model.SCVI\n",
    "model_cls.setup_anndata(adata, categorical_covariate_keys = ['Id'],\n",
    "                             continuous_covariate_keys=['pct_counts_mt', 'pct_counts_ribo'])\n",
    "\n",
    "tuner = ModelTuner(model_cls)"
   ]
  },
  {
   "cell_type": "code",
   "execution_count": null,
   "id": "710fa618-fbdb-4f21-b508-670749435716",
   "metadata": {},
   "outputs": [],
   "source": [
    "tuner.info()"
   ]
  },
  {
   "cell_type": "code",
   "execution_count": null,
   "id": "1d0650b8-94df-4b9f-a802-d36ed220bc73",
   "metadata": {},
   "outputs": [],
   "source": [
    "search_space = {\n",
    "    \"n_hidden\": tune.choice([92, 128, 192, 256]),\n",
    "    \"n_latent\": tune.choice([10, 20, 30, 40, 50, 60]),\n",
    "    \"n_layers\": tune.choice([1, 2, 3]),\n",
    "    \"lr\": tune.loguniform(1e-4, 1e-2),\n",
    "    \"gene_likelihood\": tune.choice([\"nb\", \"zinb\"])}"
   ]
  },
  {
   "cell_type": "code",
   "execution_count": null,
   "id": "2f259f9f-d9b2-416a-b859-323a281619ae",
   "metadata": {},
   "outputs": [],
   "source": [
    "logging_dir = os.path.abspath(\"G:/ray_logs\")"
   ]
  },
  {
   "cell_type": "code",
   "execution_count": null,
   "id": "c8bcd2eb-8924-4d80-b687-715f1e6f6821",
   "metadata": {},
   "outputs": [],
   "source": [
    "def short_dirname_creator(trial):\n",
    "    return f\"trial_{trial.trial_id}\""
   ]
  },
  {
   "cell_type": "code",
   "execution_count": null,
   "id": "afdbbbac-dea7-43cc-af6e-a402594cbe2b",
   "metadata": {},
   "outputs": [],
   "source": [
    "results = tuner.fit(adata, metric=\"validation_loss\",\n",
    "                    resources = {'gpu': 1}, #have to specify gpu or might not use\n",
    "                    search_space = search_space,\n",
    "                   num_samples = 100,\n",
    "                   max_epochs = 20,\n",
    "                    logging_dir = logging_dir\n",
    "                   )"
   ]
  },
  {
   "cell_type": "code",
   "execution_count": null,
   "id": "eeca3652-28b8-4f37-9df5-561247924fd3",
   "metadata": {},
   "outputs": [],
   "source": [
    "best_vl = 10000\n",
    "best_i = 0\n",
    "for i, res in enumerate(results.results):\n",
    "    vl = res.metrics['validation_loss']\n",
    "\n",
    "    if vl < best_vl:\n",
    "        best_vl = vl\n",
    "        best_i = i"
   ]
  },
  {
   "cell_type": "code",
   "execution_count": null,
   "id": "490abaa7-b38f-43bb-a41c-22d61abaaec3",
   "metadata": {},
   "outputs": [],
   "source": [
    "results.results[best_i]"
   ]
  },
  {
   "cell_type": "markdown",
   "id": "b1c2d2ec-ce63-4c21-a755-662fb19d25d2",
   "metadata": {},
   "source": [
    "### Run Integration"
   ]
  },
  {
   "cell_type": "code",
   "execution_count": null,
   "id": "13598988-be3f-414d-9f55-9834940b1f18",
   "metadata": {},
   "outputs": [],
   "source": []
  },
  {
   "cell_type": "code",
   "execution_count": null,
   "id": "95b70d86-8b60-411b-a2d8-0616f61e4f12",
   "metadata": {},
   "outputs": [],
   "source": []
  },
  {
   "cell_type": "code",
   "execution_count": null,
   "id": "6343de49-1cd4-458b-bf78-c4f4a3f2dc0f",
   "metadata": {},
   "outputs": [],
   "source": []
  },
  {
   "cell_type": "code",
   "execution_count": null,
   "id": "d5f55d99-7839-48c4-9c18-6e3a776dfa4b",
   "metadata": {},
   "outputs": [],
   "source": []
  },
  {
   "cell_type": "code",
   "execution_count": null,
   "id": "8316aeb9-33c3-4f77-9e9d-3d0110330f88",
   "metadata": {},
   "outputs": [],
   "source": []
  },
  {
   "cell_type": "code",
   "execution_count": null,
   "id": "a0e95432-8a02-4e98-a465-5d7207d52942",
   "metadata": {},
   "outputs": [],
   "source": []
  },
  {
   "cell_type": "code",
   "execution_count": null,
   "id": "c8a1fd06-1944-4733-a246-75f1aa6fa588",
   "metadata": {},
   "outputs": [],
   "source": []
  },
  {
   "cell_type": "code",
   "execution_count": 181,
   "id": "725c0fd9-47fa-4e4d-9064-4fd70aeca29d",
   "metadata": {},
   "outputs": [
    {
     "data": {
      "text/plain": [
       "array([[ 25140.2 ,  65314.2 ,   9879.21, ...,      0.  ,   2198.77,\n",
       "             0.  ],\n",
       "       [ 38213.8 ,  39348.3 ,   4703.41, ...,      0.  ,   3943.43,\n",
       "          4780.26],\n",
       "       [ 37409.  ,  34582.4 ,   4456.29, ...,      0.  ,   4004.28,\n",
       "          5518.54],\n",
       "       ...,\n",
       "       [ 93301.2 , 378847.  ,  11106.3 , ...,   2113.42,  13626.9 ,\n",
       "             0.  ],\n",
       "       [142033.  , 511227.  ,      0.  , ...,      0.  ,      0.  ,\n",
       "             0.  ],\n",
       "       [137525.  , 438963.  ,  12126.2 , ...,   2894.91,  10761.4 ,\n",
       "             0.  ]], dtype=float32)"
      ]
     },
     "execution_count": 181,
     "metadata": {},
     "output_type": "execute_result"
    }
   ],
   "source": [
    "adata.X"
   ]
  },
  {
   "cell_type": "code",
   "execution_count": null,
   "id": "6e6d92ff-7a2a-4f5b-adad-9aef7ec5a04b",
   "metadata": {},
   "outputs": [],
   "source": []
  },
  {
   "cell_type": "code",
   "execution_count": null,
   "id": "44fbf2db-0122-4cd3-97fa-428cd9010e01",
   "metadata": {},
   "outputs": [],
   "source": []
  },
  {
   "cell_type": "code",
   "execution_count": null,
   "id": "60e904ba-338f-4cb3-aae0-3eaa2136f465",
   "metadata": {},
   "outputs": [],
   "source": []
  },
  {
   "cell_type": "code",
   "execution_count": 182,
   "id": "dab2b549-d272-4ab2-92d1-a97cdc69420c",
   "metadata": {},
   "outputs": [],
   "source": [
    "scales_counts = sc.pp.normalize_total(adata, target_sum=None, inplace=False)\n",
    "# log1p transform\n",
    "adata.layers[\"log1p_norm\"] = sc.pp.log1p(scales_counts[\"X\"], copy=True)"
   ]
  },
  {
   "cell_type": "code",
   "execution_count": 183,
   "id": "9a569760-01d8-4252-a7e7-04f344247f62",
   "metadata": {},
   "outputs": [
    {
     "data": {
      "text/plain": [
       "AnnData object with n_obs × n_vars = 1606 × 6570\n",
       "    obs: 'Id'\n",
       "    var: 'Protein.Group', 'Protein.Ids', 'Protein.Names', 'Genes', 'First.Protein.Description'\n",
       "    layers: 'log1p_norm'"
      ]
     },
     "execution_count": 183,
     "metadata": {},
     "output_type": "execute_result"
    }
   ],
   "source": [
    "adata"
   ]
  },
  {
   "cell_type": "code",
   "execution_count": 184,
   "id": "53d8b4a5-8f18-4bb7-9070-b5c8e56a3f6a",
   "metadata": {},
   "outputs": [
    {
     "name": "stdout",
     "output_type": "stream",
     "text": [
      "154698510000.0\n"
     ]
    }
   ],
   "source": [
    "print(adata.X.sum())  # Somme de tous les éléments"
   ]
  },
  {
   "cell_type": "code",
   "execution_count": 185,
   "id": "300089d0-382d-4ac8-900e-2168858d7da5",
   "metadata": {},
   "outputs": [],
   "source": [
    "adata.X = adata.layers[\"log1p_norm\"]"
   ]
  },
  {
   "cell_type": "code",
   "execution_count": null,
   "id": "f7c8ddb3-2588-4b59-9db9-747882da0207",
   "metadata": {},
   "outputs": [],
   "source": []
  },
  {
   "cell_type": "code",
   "execution_count": 187,
   "id": "2e6bbb74-21c3-44bc-aac1-22ec6deeb2fa",
   "metadata": {},
   "outputs": [],
   "source": [
    "sc.pp.neighbors(adata, n_pcs=30)\n",
    "sc.tl.umap(adata)"
   ]
  },
  {
   "cell_type": "code",
   "execution_count": 188,
   "id": "4c7819a0-4bed-492d-8030-924e09084748",
   "metadata": {},
   "outputs": [
    {
     "data": {
      "image/png": "[encoded data removed]",
      "text/plain": [
       "<Figure size 640x480 with 1 Axes>"
      ]
     },
     "metadata": {},
     "output_type": "display_data"
    }
   ],
   "source": [
    "sc.pl.umap(adata, color = 'Id')"
   ]
  },
  {
   "cell_type": "code",
   "execution_count": null,
   "id": "f8026b42-d7cf-4873-a3ce-c05b798f1156",
   "metadata": {},
   "outputs": [],
   "source": []
  },
  {
   "cell_type": "code",
   "execution_count": null,
   "id": "7369bcc2-fefd-4b54-a9d5-86b080ecc3a2",
   "metadata": {},
   "outputs": [],
   "source": []
  },
  {
   "cell_type": "code",
   "execution_count": null,
   "id": "bf05ddea-01d6-4724-b5fa-2a5eb3601ed9",
   "metadata": {},
   "outputs": [],
   "source": []
  }
 ],
 "metadata": {
  "kernelspec": {
   "display_name": "Python 3 (ipykernel)",
   "language": "python",
   "name": "python3"
  },
  "language_info": {
   "codemirror_mode": {
    "name": "ipython",
    "version": 3
   },
   "file_extension": ".py",
   "mimetype": "text/x-python",
   "name": "python",
   "nbconvert_exporter": "python",
   "pygments_lexer": "ipython3",
   "version": "3.11.8"
  }
 },
 "nbformat": 4,
 "nbformat_minor": 5
}
