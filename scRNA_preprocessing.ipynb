{
 "cells": [
  {
   "cell_type": "code",
   "execution_count": 1,
   "id": "aeb9ac6c-833a-4c44-bfdf-46763869f035",
   "metadata": {},
   "outputs": [],
   "source": [
    "import scanpy as sc\n",
    "import os\n",
    "import seaborn as sns\n",
    "import matplotlib.pyplot as plt\n",
    "import pandas as pd"
   ]
  },
  {
   "cell_type": "code",
   "execution_count": 2,
   "id": "feef9f09-6504-44f3-a7b3-bc4b9c56141d",
   "metadata": {},
   "outputs": [],
   "source": [
    "import warnings \n",
    "warnings.simplefilter(\"ignore\", FutureWarning)\n",
    "warnings.simplefilter(\"ignore\", UserWarning)\n",
    "warnings.simplefilter(\"ignore\", RuntimeWarning)"
   ]
  },
  {
   "cell_type": "code",
   "execution_count": 3,
   "id": "d767237b-7f3b-4575-b819-7717ed3ac7cb",
   "metadata": {},
   "outputs": [
    {
     "data": {
      "text/plain": [
       "AnnData object with n_obs × n_vars = 18087 × 11004\n",
       "    obs: 'gene_ids', 'feature_types', 'genome'"
      ]
     },
     "execution_count": 3,
     "metadata": {},
     "output_type": "execute_result"
    }
   ],
   "source": [
    "adata = sc.read_10x_h5(\"/home/ybeaumatin/Documents/Dataset init/Raw data/cellranger_output/per_sample_outs/Inf_J3/count/sample_filtered_feature_bc_matrix.h5\").T\n",
    "adata"
   ]
  },
  {
   "cell_type": "code",
   "execution_count": 6,
   "id": "2f0a2753-f3f2-4643-98e5-5181a8c7dfb9",
   "metadata": {},
   "outputs": [
    {
     "data": {
      "text/html": [
       "<div>\n",
       "<style scoped>\n",
       "    .dataframe tbody tr th:only-of-type {\n",
       "        vertical-align: middle;\n",
       "    }\n",
       "\n",
       "    .dataframe tbody tr th {\n",
       "        vertical-align: top;\n",
       "    }\n",
       "\n",
       "    .dataframe thead th {\n",
       "        text-align: right;\n",
       "    }\n",
       "</style>\n",
       "<table border=\"1\" class=\"dataframe\">\n",
       "  <thead>\n",
       "    <tr style=\"text-align: right;\">\n",
       "      <th></th>\n",
       "      <th>gene_ids</th>\n",
       "      <th>feature_types</th>\n",
       "      <th>genome</th>\n",
       "    </tr>\n",
       "  </thead>\n",
       "  <tbody>\n",
       "    <tr>\n",
       "      <th>SAMD11</th>\n",
       "      <td>ENSG00000187634</td>\n",
       "      <td>Gene Expression</td>\n",
       "      <td>refdata-gex-GRCh38-2020-A_customprobe1</td>\n",
       "    </tr>\n",
       "    <tr>\n",
       "      <th>NOC2L</th>\n",
       "      <td>ENSG00000188976</td>\n",
       "      <td>Gene Expression</td>\n",
       "      <td>refdata-gex-GRCh38-2020-A_customprobe1</td>\n",
       "    </tr>\n",
       "    <tr>\n",
       "      <th>KLHL17</th>\n",
       "      <td>ENSG00000187961</td>\n",
       "      <td>Gene Expression</td>\n",
       "      <td>refdata-gex-GRCh38-2020-A_customprobe1</td>\n",
       "    </tr>\n",
       "    <tr>\n",
       "      <th>PLEKHN1</th>\n",
       "      <td>ENSG00000187583</td>\n",
       "      <td>Gene Expression</td>\n",
       "      <td>refdata-gex-GRCh38-2020-A_customprobe1</td>\n",
       "    </tr>\n",
       "    <tr>\n",
       "      <th>PERM1</th>\n",
       "      <td>ENSG00000187642</td>\n",
       "      <td>Gene Expression</td>\n",
       "      <td>refdata-gex-GRCh38-2020-A_customprobe1</td>\n",
       "    </tr>\n",
       "    <tr>\n",
       "      <th>...</th>\n",
       "      <td>...</td>\n",
       "      <td>...</td>\n",
       "      <td>...</td>\n",
       "    </tr>\n",
       "    <tr>\n",
       "      <th>EGFP</th>\n",
       "      <td>EGFP</td>\n",
       "      <td>Gene Expression</td>\n",
       "      <td>refdata-gex-GRCh38-2020-A_customprobe1</td>\n",
       "    </tr>\n",
       "    <tr>\n",
       "      <th>REPLI</th>\n",
       "      <td>REPLI</td>\n",
       "      <td>Gene Expression</td>\n",
       "      <td>refdata-gex-GRCh38-2020-A_customprobe1</td>\n",
       "    </tr>\n",
       "    <tr>\n",
       "      <th>GLYCO</th>\n",
       "      <td>GLYCO</td>\n",
       "      <td>Gene Expression</td>\n",
       "      <td>refdata-gex-GRCh38-2020-A_customprobe1</td>\n",
       "    </tr>\n",
       "    <tr>\n",
       "      <th>MEMB</th>\n",
       "      <td>MEMB</td>\n",
       "      <td>Gene Expression</td>\n",
       "      <td>refdata-gex-GRCh38-2020-A_customprobe1</td>\n",
       "    </tr>\n",
       "    <tr>\n",
       "      <th>NUCL</th>\n",
       "      <td>NUCL</td>\n",
       "      <td>Gene Expression</td>\n",
       "      <td>refdata-gex-GRCh38-2020-A_customprobe1</td>\n",
       "    </tr>\n",
       "  </tbody>\n",
       "</table>\n",
       "<p>18087 rows × 3 columns</p>\n",
       "</div>"
      ],
      "text/plain": [
       "                gene_ids    feature_types  \\\n",
       "SAMD11   ENSG00000187634  Gene Expression   \n",
       "NOC2L    ENSG00000188976  Gene Expression   \n",
       "KLHL17   ENSG00000187961  Gene Expression   \n",
       "PLEKHN1  ENSG00000187583  Gene Expression   \n",
       "PERM1    ENSG00000187642  Gene Expression   \n",
       "...                  ...              ...   \n",
       "EGFP                EGFP  Gene Expression   \n",
       "REPLI              REPLI  Gene Expression   \n",
       "GLYCO              GLYCO  Gene Expression   \n",
       "MEMB                MEMB  Gene Expression   \n",
       "NUCL                NUCL  Gene Expression   \n",
       "\n",
       "                                         genome  \n",
       "SAMD11   refdata-gex-GRCh38-2020-A_customprobe1  \n",
       "NOC2L    refdata-gex-GRCh38-2020-A_customprobe1  \n",
       "KLHL17   refdata-gex-GRCh38-2020-A_customprobe1  \n",
       "PLEKHN1  refdata-gex-GRCh38-2020-A_customprobe1  \n",
       "PERM1    refdata-gex-GRCh38-2020-A_customprobe1  \n",
       "...                                         ...  \n",
       "EGFP     refdata-gex-GRCh38-2020-A_customprobe1  \n",
       "REPLI    refdata-gex-GRCh38-2020-A_customprobe1  \n",
       "GLYCO    refdata-gex-GRCh38-2020-A_customprobe1  \n",
       "MEMB     refdata-gex-GRCh38-2020-A_customprobe1  \n",
       "NUCL     refdata-gex-GRCh38-2020-A_customprobe1  \n",
       "\n",
       "[18087 rows x 3 columns]"
      ]
     },
     "execution_count": 6,
     "metadata": {},
     "output_type": "execute_result"
    }
   ],
   "source": [
    "adata.obs"
   ]
  },
  {
   "cell_type": "code",
   "execution_count": 7,
   "id": "f321dec7-4a7b-4223-a55a-108a0e022f04",
   "metadata": {},
   "outputs": [
    {
     "data": {
      "text/html": [
       "<div>\n",
       "<style scoped>\n",
       "    .dataframe tbody tr th:only-of-type {\n",
       "        vertical-align: middle;\n",
       "    }\n",
       "\n",
       "    .dataframe tbody tr th {\n",
       "        vertical-align: top;\n",
       "    }\n",
       "\n",
       "    .dataframe thead th {\n",
       "        text-align: right;\n",
       "    }\n",
       "</style>\n",
       "<table border=\"1\" class=\"dataframe\">\n",
       "  <thead>\n",
       "    <tr style=\"text-align: right;\">\n",
       "      <th></th>\n",
       "    </tr>\n",
       "  </thead>\n",
       "  <tbody>\n",
       "    <tr>\n",
       "      <th>AAACAAGCAAGAACAAAGTAGGCT-1</th>\n",
       "    </tr>\n",
       "    <tr>\n",
       "      <th>AAACAAGCACAATGGCAGTAGGCT-1</th>\n",
       "    </tr>\n",
       "    <tr>\n",
       "      <th>AAACAAGCACACTAAGAGTAGGCT-1</th>\n",
       "    </tr>\n",
       "    <tr>\n",
       "      <th>AAACAAGCACCGTTTGAGTAGGCT-1</th>\n",
       "    </tr>\n",
       "    <tr>\n",
       "      <th>AAACAAGCACTTCGATAGTAGGCT-1</th>\n",
       "    </tr>\n",
       "    <tr>\n",
       "      <th>...</th>\n",
       "    </tr>\n",
       "    <tr>\n",
       "      <th>TTTGTGAGTCCTTATTAGTAGGCT-1</th>\n",
       "    </tr>\n",
       "    <tr>\n",
       "      <th>TTTGTGAGTCGAAGTAAGTAGGCT-1</th>\n",
       "    </tr>\n",
       "    <tr>\n",
       "      <th>TTTGTGAGTGCTGATTAGTAGGCT-1</th>\n",
       "    </tr>\n",
       "    <tr>\n",
       "      <th>TTTGTGAGTGTCCAATAGTAGGCT-1</th>\n",
       "    </tr>\n",
       "    <tr>\n",
       "      <th>TTTGTGAGTTTCCACCAGTAGGCT-1</th>\n",
       "    </tr>\n",
       "  </tbody>\n",
       "</table>\n",
       "<p>11004 rows × 0 columns</p>\n",
       "</div>"
      ],
      "text/plain": [
       "Empty DataFrame\n",
       "Columns: []\n",
       "Index: [AAACAAGCAAGAACAAAGTAGGCT-1, AAACAAGCACAATGGCAGTAGGCT-1, AAACAAGCACACTAAGAGTAGGCT-1, AAACAAGCACCGTTTGAGTAGGCT-1, AAACAAGCACTTCGATAGTAGGCT-1, AAACAAGCATGGTCAAAGTAGGCT-1, AAACCAATCAAACCGGAGTAGGCT-1, AAACCAATCAACTTGTAGTAGGCT-1, AAACCAATCACCTAATAGTAGGCT-1, AAACCAATCATAATCCAGTAGGCT-1, AAACCAATCCTTTGTCAGTAGGCT-1, AAACCAATCGAAGTTAAGTAGGCT-1, AAACCAATCTAGCGGAAGTAGGCT-1, AAACCAGGTCAGTGCCAGTAGGCT-1, AAACCAGGTGGATGCGAGTAGGCT-1, AAACCAGGTGTGGCTCAGTAGGCT-1, AAACCAGGTTAGGCGGAGTAGGCT-1, AAACCAGGTTCGGTCAAGTAGGCT-1, AAACCGGTCACAACAAAGTAGGCT-1, AAACCGGTCATCCCAAAGTAGGCT-1, AAACCGGTCGATTACTAGTAGGCT-1, AAACCGGTCGCAGGACAGTAGGCT-1, AAACGGGCAATCCACTAGTAGGCT-1, AAACGGGCAATCGTTCAGTAGGCT-1, AAACGGGCATCCACCAAGTAGGCT-1, AAACGGGCATCCCAATAGTAGGCT-1, AAACGGGCATGCCTCAAGTAGGCT-1, AAACGTTCATATTTCGAGTAGGCT-1, AAACGTTCATCATGTCAGTAGGCT-1, AAACGTTCATGTTTCAAGTAGGCT-1, AAACGTTCATTTCGCGAGTAGGCT-1, AAACTGGGTAGCCTTGAGTAGGCT-1, AAACTGGGTCATCAGTAGTAGGCT-1, AAACTGGGTCATGAAGAGTAGGCT-1, AAACTGGGTCCATAGTAGTAGGCT-1, AAACTGGGTGTTAGTCAGTAGGCT-1, AAACTGGGTTAAGTCCAGTAGGCT-1, AAACTGGGTTAGCGGGAGTAGGCT-1, AAACTGGGTTGTTGGTAGTAGGCT-1, AAACTGTCAAAGCCTAAGTAGGCT-1, AAACTGTCAAAGTGCCAGTAGGCT-1, AAACTGTCAACAGCACAGTAGGCT-1, AAACTGTCAAGTCGCGAGTAGGCT-1, AAACTGTCAAGTGCACAGTAGGCT-1, AAACTGTCACTTTACAAGTAGGCT-1, AAACTGTCAGGATGCTAGTAGGCT-1, AAACTGTCAGTAATACAGTAGGCT-1, AAACTGTCATCTATCAAGTAGGCT-1, AAACTGTCATTCAGGAAGTAGGCT-1, AAAGATGCAAACAAGAAGTAGGCT-1, AAAGATGCAACAGCACAGTAGGCT-1, AAAGATGCACAATCGAAGTAGGCT-1, AAAGATGCACCAACAAAGTAGGCT-1, AAAGATGCAGGCAACTAGTAGGCT-1, AAAGATGCATTACTTGAGTAGGCT-1, AAAGCATGTACGATTCAGTAGGCT-1, AAAGCATGTCAGGGCAAGTAGGCT-1, AAAGCATGTCATTATGAGTAGGCT-1, AAAGCATGTCGTTGCAAGTAGGCT-1, AAAGCATGTGATTAGGAGTAGGCT-1, AAAGCATGTGGGTGTGAGTAGGCT-1, AAAGCATGTTCCGCAAAGTAGGCT-1, AAAGCATGTTGTTGGTAGTAGGCT-1, AAAGCATGTTGTTTGAAGTAGGCT-1, AAAGCCTAGCAGCCAAAGTAGGCT-1, AAAGCCTAGCGAAGTTAGTAGGCT-1, AAAGCCTAGCTCGATCAGTAGGCT-1, AAAGCCTAGGTTTCGCAGTAGGCT-1, AAAGCCTAGTTACACTAGTAGGCT-1, AAAGCCTAGTTAGGCGAGTAGGCT-1, AAAGCCTAGTTTCAGTAGTAGGCT-1, AAAGCGAAGAGGTTTAAGTAGGCT-1, AAAGCGAAGATGAAGGAGTAGGCT-1, AAAGCGAAGGGATTTAAGTAGGCT-1, AAAGCGAAGTAATTGGAGTAGGCT-1, AAAGCGAAGTGATTAGAGTAGGCT-1, AAAGGCAAGACTAATGAGTAGGCT-1, AAAGGCAAGGAACTTAAGTAGGCT-1, AAAGGCAAGGCCTTCGAGTAGGCT-1, AAAGGCAAGTCTTGCAAGTAGGCT-1, AAAGGCTTCAAAGGGAAGTAGGCT-1, AAAGGCTTCCAAAGGTAGTAGGCT-1, AAAGGCTTCCATTAGTAGTAGGCT-1, AAAGGCTTCGACTTTGAGTAGGCT-1, AAAGGCTTCGTTCAATAGTAGGCT-1, AAAGGGATCAAGTTTCAGTAGGCT-1, AAAGGGATCATCCAGCAGTAGGCT-1, AAAGGGATCATGCGTCAGTAGGCT-1, AAAGGGATCCGCACCAAGTAGGCT-1, AAAGGGATCGATTATCAGTAGGCT-1, AAAGGGATCGGTACCTAGTAGGCT-1, AAAGGGATCTTTGGATAGTAGGCT-1, AAAGGTACAACAGCTAAGTAGGCT-1, AAAGGTACAAGCCACGAGTAGGCT-1, AAAGGTACACACTGGGAGTAGGCT-1, AAAGGTACATAGACCAAGTAGGCT-1, AAAGGTACATCGGGCAAGTAGGCT-1, AAAGGTACATGAGCTAAGTAGGCT-1, AAAGGTACATGGCCGAAGTAGGCT-1, AAAGGTGAGCGAAGAAAGTAGGCT-1, ...]\n",
       "\n",
       "[11004 rows x 0 columns]"
      ]
     },
     "execution_count": 7,
     "metadata": {},
     "output_type": "execute_result"
    }
   ],
   "source": [
    "adata.var"
   ]
  },
  {
   "cell_type": "code",
   "execution_count": 8,
   "id": "5124ba16-0cf7-440a-aadb-c6aa74e70d56",
   "metadata": {},
   "outputs": [
    {
     "data": {
      "text/plain": [
       "(18087, 11004)"
      ]
     },
     "execution_count": 8,
     "metadata": {},
     "output_type": "execute_result"
    }
   ],
   "source": [
    "adata.X.shape"
   ]
  },
  {
   "cell_type": "code",
   "execution_count": null,
   "id": "21f6d6e9-af6c-40f0-90a7-7121bc228f4e",
   "metadata": {},
   "outputs": [],
   "source": []
  },
  {
   "cell_type": "code",
   "execution_count": null,
   "id": "87f4b7f2-1080-44f3-903d-a7faa035e06b",
   "metadata": {},
   "outputs": [],
   "source": []
  },
  {
   "cell_type": "code",
   "execution_count": 11,
   "id": "43a563a7-ad7f-425e-94e2-d6637fdd3954",
   "metadata": {},
   "outputs": [],
   "source": [
    "path_files_h5 = '/home/ybeaumatin/Documents/Folder data processing/Data/Transcriptomic/Transcriptomic 1/h5_files'"
   ]
  },
  {
   "cell_type": "code",
   "execution_count": 17,
   "id": "8944df3e-20e1-4389-9ab0-1874b5deef68",
   "metadata": {},
   "outputs": [],
   "source": [
    "adatas = [x for x in os.listdir(path_files_h5 ) \n",
    "          if x.endswith('.h5')]"
   ]
  },
  {
   "cell_type": "code",
   "execution_count": 19,
   "id": "da3bdf5f-839c-444e-b640-ba6ec28fb245",
   "metadata": {},
   "outputs": [
    {
     "data": {
      "text/plain": [
       "['sample_filtered_feature_bc_matrix_Mock_J3_.h5',\n",
       " 'sample_filtered_feature_bc_matrix_Mock_J6_.h5',\n",
       " 'sample_filtered_feature_bc_matrix_Inf_J3_.h5',\n",
       " 'sample_filtered_feature_bc_matrix_Inf_J6_.h5']"
      ]
     },
     "execution_count": 19,
     "metadata": {},
     "output_type": "execute_result"
    }
   ],
   "source": [
    "adatas"
   ]
  },
  {
   "cell_type": "code",
   "execution_count": null,
   "id": "3f80881a-9745-46a1-a25f-14fa7d7daa3b",
   "metadata": {},
   "outputs": [],
   "source": []
  },
  {
   "cell_type": "code",
   "execution_count": 22,
   "id": "0a98356a-aa5f-425a-83d3-0a3ef20d3fd8",
   "metadata": {},
   "outputs": [],
   "source": [
    "def load_it(adata):\n",
    "    samp= adata.split('_')[5]\n",
    "    dpi = adata.split('_')[6]\n",
    "    adata = sc.read_10x_h5(path_files_h5 + '/' + adata)\n",
    "    adata.obs['Sample'] = samp\n",
    "    adata.obs['dpi'] = dpi\n",
    "    adata.obs['Id'] = adata.obs['Sample'] + '_' + adata.obs['dpi']\n",
    "    adata.obs.index = adata.obs.index + '-' + samp + '_' + dpi\n",
    "    return adata"
   ]
  },
  {
   "cell_type": "code",
   "execution_count": 24,
   "id": "0dd76834-e36a-4cd7-a670-c980ed6bc360",
   "metadata": {},
   "outputs": [],
   "source": [
    "adatas = [load_it(ad) for ad in adatas]"
   ]
  },
  {
   "cell_type": "code",
   "execution_count": 25,
   "id": "fecab33f-57bd-4ecc-895b-48f0a404620c",
   "metadata": {},
   "outputs": [
    {
     "data": {
      "text/plain": [
       "[AnnData object with n_obs × n_vars = 10542 × 18087\n",
       "     obs: 'Sample', 'dpi', 'Id'\n",
       "     var: 'gene_ids', 'feature_types', 'genome',\n",
       " AnnData object with n_obs × n_vars = 8525 × 18087\n",
       "     obs: 'Sample', 'dpi', 'Id'\n",
       "     var: 'gene_ids', 'feature_types', 'genome',\n",
       " AnnData object with n_obs × n_vars = 11004 × 18087\n",
       "     obs: 'Sample', 'dpi', 'Id'\n",
       "     var: 'gene_ids', 'feature_types', 'genome',\n",
       " AnnData object with n_obs × n_vars = 9137 × 18087\n",
       "     obs: 'Sample', 'dpi', 'Id'\n",
       "     var: 'gene_ids', 'feature_types', 'genome']"
      ]
     },
     "execution_count": 25,
     "metadata": {},
     "output_type": "execute_result"
    }
   ],
   "source": [
    "adatas"
   ]
  },
  {
   "cell_type": "code",
   "execution_count": 28,
   "id": "d7ecf788-a684-4746-98cd-8808e4a14c20",
   "metadata": {},
   "outputs": [
    {
     "data": {
      "text/plain": [
       "AAACAAGCAAATCACGAACGGGAA-1-Mock_J6    Mock_J6\n",
       "AAACAAGCACACTAAGAACGGGAA-1-Mock_J6    Mock_J6\n",
       "AAACAAGCACGGATACAACGGGAA-1-Mock_J6    Mock_J6\n",
       "AAACCAATCAAGCGATAACGGGAA-1-Mock_J6    Mock_J6\n",
       "AAACCAATCACCTAATAACGGGAA-1-Mock_J6    Mock_J6\n",
       "                                       ...   \n",
       "TTTGGACGTGTGATGAAACGGGAA-1-Mock_J6    Mock_J6\n",
       "TTTGGCGGTAACTACCAACGGGAA-1-Mock_J6    Mock_J6\n",
       "TTTGTGAGTATTGTCAAACGGGAA-1-Mock_J6    Mock_J6\n",
       "TTTGTGAGTGAGAAGGAACGGGAA-1-Mock_J6    Mock_J6\n",
       "TTTGTGAGTGCGTACCAACGGGAA-1-Mock_J6    Mock_J6\n",
       "Name: Id, Length: 8525, dtype: object"
      ]
     },
     "execution_count": 28,
     "metadata": {},
     "output_type": "execute_result"
    }
   ],
   "source": [
    "adatas[1].obs['Id']"
   ]
  },
  {
   "cell_type": "code",
   "execution_count": 30,
   "id": "ec7ff42d-1120-4e34-a19e-5777255ae9d5",
   "metadata": {},
   "outputs": [],
   "source": [
    "def qc(adata):\n",
    "    sc.pp.filter_cells(adata, min_genes = 200)\n",
    "    adata.var[\"mt\"] = adata.var_names.str.startswith(\"MT-\")\n",
    "    adata.var[\"ribo\"] = adata.var_names.str.startswith(\"RPS\", \"RPL\")\n",
    "    adata.var[\"hb\"] = adata.var_names.str.startswith(\"^HB[^(P)]\")\n",
    "    sc.pp.calculate_qc_metrics(adata,qc_vars=[\"mt\",\"ribo\",\"hb\"], inplace = True, percent_top = [20], log1p=True)\n",
    "\n",
    "    remove = ['total_counts_mt', 'log1p_total_counts_mt', 'total_counts_ribo',\n",
    "              'log1p_total_counts_ribo','total_counts_hb','log1p_total_counts_hb']\n",
    "\n",
    "    adata.obs = adata.obs[[x for x in adata.obs.columns if x not in remove]]\n",
    "    return adata"
   ]
  },
  {
   "cell_type": "code",
   "execution_count": null,
   "id": "57786ab1-a5ac-4f58-ba25-f006902f3627",
   "metadata": {},
   "outputs": [],
   "source": []
  },
  {
   "cell_type": "code",
   "execution_count": 33,
   "id": "9872cefd-e793-426c-85be-9dd8d82943b8",
   "metadata": {},
   "outputs": [],
   "source": [
    "adatas = [qc(ad) for ad in adatas]"
   ]
  },
  {
   "cell_type": "code",
   "execution_count": null,
   "id": "ae9db384-a565-46c0-b21c-dcb819cf0b3d",
   "metadata": {},
   "outputs": [],
   "source": []
  },
  {
   "cell_type": "code",
   "execution_count": null,
   "id": "cfb21820-b102-4701-9040-8c7543367d21",
   "metadata": {},
   "outputs": [],
   "source": []
  },
  {
   "cell_type": "code",
   "execution_count": 37,
   "id": "6318c685-2147-49d4-b3b6-bfc7a1990f0f",
   "metadata": {},
   "outputs": [],
   "source": [
    "df = pd.concat([x.obs for x in adatas])"
   ]
  },
  {
   "cell_type": "code",
   "execution_count": 39,
   "id": "5117a6d8-d98f-4bfe-a953-9589963d0294",
   "metadata": {},
   "outputs": [],
   "source": [
    "df = df.sort_values('Id')"
   ]
  },
  {
   "cell_type": "code",
   "execution_count": null,
   "id": "538643eb-38d4-4d25-8d84-b78501868b07",
   "metadata": {},
   "outputs": [],
   "source": []
  },
  {
   "cell_type": "code",
   "execution_count": null,
   "id": "4e357f75-7edf-49a2-8434-f8b6db93bc65",
   "metadata": {},
   "outputs": [],
   "source": []
  },
  {
   "cell_type": "code",
   "execution_count": 43,
   "id": "7e0a6975-79e8-49df-b091-10a13d45d0e0",
   "metadata": {},
   "outputs": [
    {
     "data": {
      "image/png": "[encoded data removed]",
      "text/plain": [
       "<Figure size 750x200 with 4 Axes>"
      ]
     },
     "metadata": {},
     "output_type": "display_data"
    }
   ],
   "source": [
    "value = \"log1p_total_counts\"\n",
    "\n",
    "sns.set(style=\"white\", rc={\"axes.facecolor\": (0, 0, 0, 0)})\n",
    "\n",
    "g = sns.FacetGrid(df, row=\"Id\", hue=\"Id\", aspect=15, height=0.5, palette=\"tab20\")\n",
    "\n",
    "g.map(sns.kdeplot, value, clip_on=False, fill=True, alpha=1, linewidth=1.5)\n",
    "g.map(sns.kdeplot, value, clip_on=False, color=\"w\", lw=2)\n",
    "\n",
    "g.map(plt.axhline, y=0, lw=2, clip_on=False)\n",
    "\n",
    "def label(x, color, label):\n",
    "    ax = plt.gca()\n",
    "    ax.text(0, .2, label, fontweight=\"bold\", color=color,\n",
    "            ha=\"left\", va=\"center\", transform=ax.transAxes)\n",
    "\n",
    "g.map(label, value)\n",
    "\n",
    "g.figure.subplots_adjust(hspace=-.6)\n",
    "\n",
    "g.set_titles(\"\")\n",
    "g.set(yticks=[], ylabel=\"\")\n",
    "g.despine(bottom=True, left=True)\n",
    "\n",
    "for ax in g.axes.flat:\n",
    "    ax.axvline(x=df[value].median(), color='r', linestyle='-')\n",
    "\n",
    "\n",
    "plt.show()"
   ]
  },
  {
   "cell_type": "code",
   "execution_count": 45,
   "id": "8e97c743-cc7b-4ba0-ad48-f983c8f4d5ea",
   "metadata": {},
   "outputs": [
    {
     "data": {
      "image/png": "[encoded data removed]",
      "text/plain": [
       "<Figure size 750x200 with 4 Axes>"
      ]
     },
     "metadata": {},
     "output_type": "display_data"
    }
   ],
   "source": [
    "value = 'pct_counts_in_top_20_genes'\n",
    "\n",
    "\n",
    "sns.set(style=\"white\", rc={\"axes.facecolor\": (0, 0, 0, 0)})\n",
    "\n",
    "g = sns.FacetGrid(df, row=\"Id\", hue=\"Id\", aspect=15, height=0.5, palette=\"tab20\")\n",
    "\n",
    "g.map(sns.kdeplot, value, clip_on=False, fill=True, alpha=1, linewidth=1.5)\n",
    "g.map(sns.kdeplot, value, clip_on=False, color=\"w\", lw=2)\n",
    "\n",
    "g.map(plt.axhline, y=0, lw=2, clip_on=False)\n",
    "\n",
    "def label(x, color, label):\n",
    "    ax = plt.gca()\n",
    "    ax.text(0, .2, label, fontweight=\"bold\", color=color,\n",
    "            ha=\"left\", va=\"center\", transform=ax.transAxes)\n",
    "\n",
    "g.map(label, value)\n",
    "\n",
    "g.figure.subplots_adjust(hspace=-.6)\n",
    "\n",
    "g.set_titles(\"\")\n",
    "g.set(yticks=[], ylabel=\"\")\n",
    "g.despine(bottom=True, left=True)\n",
    "\n",
    "for ax in g.axes.flat:\n",
    "    ax.axvline(x=df[value].median(), color='r', linestyle='-')\n",
    "\n",
    "\n",
    "plt.show()"
   ]
  },
  {
   "cell_type": "code",
   "execution_count": 47,
   "id": "d24d1435-2820-4821-ad67-d1e9ccbab0fd",
   "metadata": {},
   "outputs": [
    {
     "data": {
      "image/png": "[encoded data removed]",
      "text/plain": [
       "<Figure size 750x200 with 4 Axes>"
      ]
     },
     "metadata": {},
     "output_type": "display_data"
    }
   ],
   "source": [
    "value = \"n_genes\"\n",
    "\n",
    "\n",
    "\n",
    "sns.set(style=\"white\", rc={\"axes.facecolor\": (0, 0, 0, 0)})\n",
    "\n",
    "g = sns.FacetGrid(df, row=\"Id\", hue=\"Id\", aspect=15, height=0.5, palette=\"tab20\")\n",
    "\n",
    "g.map(sns.kdeplot, value, clip_on=False, fill=True, alpha=1, linewidth=1.5)\n",
    "g.map(sns.kdeplot, value, clip_on=False, color=\"w\", lw=2)\n",
    "\n",
    "g.map(plt.axhline, y=0, lw=2, clip_on=False)\n",
    "\n",
    "def label(x, color, label):\n",
    "    ax = plt.gca()\n",
    "    ax.text(0, .2, label, fontweight=\"bold\", color=color,\n",
    "            ha=\"left\", va=\"center\", transform=ax.transAxes)\n",
    "\n",
    "g.map(label, value)\n",
    "\n",
    "g.figure.subplots_adjust(hspace=-.6)\n",
    "\n",
    "g.set_titles(\"\")\n",
    "g.set(yticks=[], ylabel=\"\")\n",
    "g.despine(bottom=True, left=True)\n",
    "\n",
    "for ax in g.axes.flat:\n",
    "    ax.axvline(x=df[value].median(), color='r', linestyle='-')\n",
    "\n",
    "\n",
    "plt.show()"
   ]
  },
  {
   "cell_type": "code",
   "execution_count": 49,
   "id": "6a547aec-bf94-4107-863b-28973746b571",
   "metadata": {},
   "outputs": [
    {
     "data": {
      "image/png": "[encoded data removed]",
      "text/plain": [
       "<Figure size 750x200 with 4 Axes>"
      ]
     },
     "metadata": {},
     "output_type": "display_data"
    }
   ],
   "source": [
    "value = \"pct_counts_mt\"\n",
    "\n",
    "\n",
    "\n",
    "\n",
    "sns.set(style=\"white\", rc={\"axes.facecolor\": (0, 0, 0, 0)})\n",
    "\n",
    "g = sns.FacetGrid(df, row=\"Id\", hue=\"Id\", aspect=15, height=0.5, palette=\"tab20\")\n",
    "\n",
    "g.map(sns.kdeplot, value, clip_on=False, fill=True, alpha=1, linewidth=1.5)\n",
    "g.map(sns.kdeplot, value, clip_on=False, color=\"w\", lw=2)\n",
    "\n",
    "g.map(plt.axhline, y=0, lw=2, clip_on=False)\n",
    "\n",
    "def label(x, color, label):\n",
    "    ax = plt.gca()\n",
    "    ax.text(0, .2, label, fontweight=\"bold\", color=color,\n",
    "            ha=\"left\", va=\"center\", transform=ax.transAxes)\n",
    "\n",
    "g.map(label, value)\n",
    "\n",
    "g.figure.subplots_adjust(hspace=-.6)\n",
    "\n",
    "g.set_titles(\"\")\n",
    "g.set(yticks=[], ylabel=\"\")\n",
    "g.despine(bottom=True, left=True)\n",
    "\n",
    "for ax in g.axes.flat:\n",
    "    ax.axvline(x=df[value].median(), color='r', linestyle='-')\n",
    "\n",
    "\n",
    "plt.show()"
   ]
  },
  {
   "cell_type": "code",
   "execution_count": null,
   "id": "ec990709-47dc-4c25-b089-60693ba8b76b",
   "metadata": {},
   "outputs": [],
   "source": []
  },
  {
   "cell_type": "code",
   "execution_count": null,
   "id": "82646f7c-54a5-49ff-a4b5-0ea0646d7bf6",
   "metadata": {},
   "outputs": [],
   "source": []
  },
  {
   "cell_type": "code",
   "execution_count": 53,
   "id": "48932361-1e83-42a3-aca1-6c931bd749c3",
   "metadata": {},
   "outputs": [],
   "source": [
    "import doubletdetection\n",
    "from scipy.stats import median_abs_deviation as mad\n",
    "import numpy as np"
   ]
  },
  {
   "cell_type": "code",
   "execution_count": null,
   "id": "d063af9e-4f5f-4716-8fd5-af9709512fbc",
   "metadata": {},
   "outputs": [],
   "source": []
  },
  {
   "cell_type": "code",
   "execution_count": 62,
   "id": "a99bb2f8-a04f-4d35-8cf0-120fb9c4af93",
   "metadata": {},
   "outputs": [
    {
     "data": {
      "text/plain": [
       "GCTCAATGTATGGTAGACTTTAGG-1-Mock_J3     9.226509\n",
       "GCTCAATGTCACAGGGACTTTAGG-1-Mock_J3     9.285448\n",
       "GCTCAATGTCAGGGCAACTTTAGG-1-Mock_J3     9.702106\n",
       "GCTCAATGTCATTTAGACTTTAGG-1-Mock_J3     9.601707\n",
       "GCTCAATGTGGTTATCACTTTAGG-1-Mock_J3     9.710206\n",
       "                                        ...    \n",
       "TGTCCAGGTTCTGGCAACTTTAGG-1-Mock_J3     9.671744\n",
       "TGTCCAGGTTGTGAGAACTTTAGG-1-Mock_J3     9.318657\n",
       "TGTCCTTTCAACCAAAACTTTAGG-1-Mock_J3    10.208911\n",
       "TGTCATCCAGTTAAACACTTTAGG-1-Mock_J3    10.663101\n",
       "TGTCCTTTCATCGATTACTTTAGG-1-Mock_J3     9.753594\n",
       "Name: log1p_total_counts, Length: 10542, dtype: float32"
      ]
     },
     "execution_count": 62,
     "metadata": {},
     "output_type": "execute_result"
    }
   ],
   "source": [
    "a = df[df.Id == 'Mock_J3'].log1p_total_counts\n",
    "a"
   ]
  },
  {
   "cell_type": "code",
   "execution_count": 58,
   "id": "52db6078-009c-4749-90bc-45552ae57387",
   "metadata": {},
   "outputs": [
    {
     "data": {
      "text/plain": [
       "9.575261"
      ]
     },
     "execution_count": 58,
     "metadata": {},
     "output_type": "execute_result"
    }
   ],
   "source": [
    "np.median(a)"
   ]
  },
  {
   "cell_type": "code",
   "execution_count": 254,
   "id": "61b392e2-7a1c-4abb-8895-f5ed6a5732a7",
   "metadata": {},
   "outputs": [
    {
     "data": {
      "text/plain": [
       "7.89164924621582"
      ]
     },
     "execution_count": 254,
     "metadata": {},
     "output_type": "execute_result"
    }
   ],
   "source": [
    "np.median(a) - 5 * mad(a)"
   ]
  },
  {
   "cell_type": "code",
   "execution_count": 256,
   "id": "5af33dc1-fd84-47a5-a7ab-f227e0fe819f",
   "metadata": {},
   "outputs": [
    {
     "data": {
      "text/plain": [
       "11.258872985839844"
      ]
     },
     "execution_count": 256,
     "metadata": {},
     "output_type": "execute_result"
    }
   ],
   "source": [
    "np.median(a) + 5 * mad(a)"
   ]
  },
  {
   "cell_type": "code",
   "execution_count": 258,
   "id": "66be803f-d3a3-4b12-86f5-a78c79107a40",
   "metadata": {},
   "outputs": [
    {
     "data": {
      "image/png": "[encoded data removed]",
      "text/plain": [
       "<Figure size 500x500 with 1 Axes>"
      ]
     },
     "metadata": {},
     "output_type": "display_data"
    }
   ],
   "source": [
    "ax = sns.displot(a)\n",
    "\n",
    "plt.axvline(np.median(a) - 5 * mad(a))\n",
    "plt.axvline(np.median(a) + 5 * mad(a))\n",
    "\n",
    "plt.show()"
   ]
  },
  {
   "cell_type": "code",
   "execution_count": null,
   "id": "8e1e55c7-b0da-480a-af68-8a392ad41b23",
   "metadata": {},
   "outputs": [],
   "source": []
  },
  {
   "cell_type": "code",
   "execution_count": 73,
   "id": "fa86547f-bb7b-47fa-a707-e1d59f57b0af",
   "metadata": {},
   "outputs": [],
   "source": [
    "def mad_outlier(adata, metric, nmads, upper_only = False):\n",
    "    M = adata.obs[metric]\n",
    "    \n",
    "    if not upper_only:\n",
    "        return (M < np.median(M) - nmads * mad(M)) | (M > np.median(M) + nmads * mad(M))\n",
    "    \n",
    "    return (M > np.median(M) + nmads * mad(M))"
   ]
  },
  {
   "cell_type": "code",
   "execution_count": 75,
   "id": "587a5d44-2e8e-40fa-8db8-8caafb0a5c42",
   "metadata": {},
   "outputs": [],
   "source": [
    "clf = doubletdetection.BoostClassifier(\n",
    "    n_iters=10,\n",
    "    clustering_algorithm=\"louvain\",\n",
    "    standard_scaling=True,\n",
    "    pseudocount=0.1,\n",
    "    n_jobs=-1)"
   ]
  },
  {
   "cell_type": "code",
   "execution_count": 77,
   "id": "d6affa57-d4d3-4be5-8c0f-91591d3f438b",
   "metadata": {},
   "outputs": [],
   "source": [
    "def pp(adata):\n",
    "    adata = adata[adata.obs.pct_counts_mt < 25] #you can lower this based on the overal distribution of your dataset\n",
    "    \n",
    "    bool_vector = mad_outlier(adata, 'log1p_total_counts', 5) +\\\n",
    "            mad_outlier(adata, 'log1p_n_genes_by_counts', 5) +\\\n",
    "            mad_outlier(adata, 'pct_counts_in_top_20_genes', 5) +\\\n",
    "            mad_outlier(adata, 'pct_counts_mt', 3, upper_only = True)\n",
    "    adata = adata[~bool_vector]\n",
    "\n",
    "    adata.uns['cells_removed'] = sum(bool_vector)\n",
    "\n",
    "    doublets = clf.fit(adata.X).predict(p_thresh=1e-16, voter_thresh=0.5)\n",
    "    doublet_score = clf.doublet_score()\n",
    "\n",
    "    adata.obs[\"doublet\"] = doublets\n",
    "    adata.obs[\"doublet_score\"] = doublet_score\n",
    "\n",
    "    adata.uns['doublets_removed'] = adata.obs.doublet.sum()\n",
    "    adata = adata[adata.obs.doublet == 0]\n",
    "\n",
    "    return adata"
   ]
  },
  {
   "cell_type": "code",
   "execution_count": 79,
   "id": "09bee1e4-e537-4486-8257-2fdc7467e9ee",
   "metadata": {},
   "outputs": [
    {
     "data": {
      "application/vnd.jupyter.widget-view+json": {
       "model_id": "2b9e74eae96c44f6a4b69975dfd64664",
       "version_major": 2,
       "version_minor": 0
      },
      "text/plain": [
       "  0%|          | 0/10 [00:00<?, ?it/s]"
      ]
     },
     "metadata": {},
     "output_type": "display_data"
    },
    {
     "data": {
      "application/vnd.jupyter.widget-view+json": {
       "model_id": "eb9d0cfa76424d378336574b34504ad0",
       "version_major": 2,
       "version_minor": 0
      },
      "text/plain": [
       "  0%|          | 0/10 [00:00<?, ?it/s]"
      ]
     },
     "metadata": {},
     "output_type": "display_data"
    },
    {
     "data": {
      "application/vnd.jupyter.widget-view+json": {
       "model_id": "16a7ba65dc814f61a7d3d285e6376a89",
       "version_major": 2,
       "version_minor": 0
      },
      "text/plain": [
       "  0%|          | 0/10 [00:00<?, ?it/s]"
      ]
     },
     "metadata": {},
     "output_type": "display_data"
    },
    {
     "data": {
      "application/vnd.jupyter.widget-view+json": {
       "model_id": "6f0e435e96f648b8b15da93f06ce1baa",
       "version_major": 2,
       "version_minor": 0
      },
      "text/plain": [
       "  0%|          | 0/10 [00:00<?, ?it/s]"
      ]
     },
     "metadata": {},
     "output_type": "display_data"
    }
   ],
   "source": [
    "adatas = [pp(ad) for ad in adatas]"
   ]
  },
  {
   "cell_type": "code",
   "execution_count": null,
   "id": "c29717a4-b8f9-47fb-bad0-ddf94bb2480e",
   "metadata": {},
   "outputs": [],
   "source": []
  },
  {
   "cell_type": "code",
   "execution_count": 81,
   "id": "7a02393e-36f8-4510-aea2-1023ffe2410b",
   "metadata": {},
   "outputs": [
    {
     "name": "stdout",
     "output_type": "stream",
     "text": [
      "6950 2467 1125.0\n",
      "5929 1717 879.0\n",
      "7638 2292 1067.0\n",
      "6382 1841 905.0\n"
     ]
    }
   ],
   "source": [
    "for adata in adatas:\n",
    "    print(len(adata), adata.uns['cells_removed'], adata.uns['doublets_removed'])"
   ]
  },
  {
   "cell_type": "code",
   "execution_count": null,
   "id": "5fe51246-bd80-4796-8bb1-f072b372739d",
   "metadata": {},
   "outputs": [],
   "source": []
  },
  {
   "cell_type": "code",
   "execution_count": 83,
   "id": "f6720483-8e5a-4231-a55b-866abe28015c",
   "metadata": {},
   "outputs": [],
   "source": [
    "df2 = pd.concat([x.obs for x in adatas])\n",
    "df2 = df2.sort_values('Id')"
   ]
  },
  {
   "cell_type": "code",
   "execution_count": null,
   "id": "7736e6aa-35a7-4ed9-a696-0bb4a2ea412d",
   "metadata": {},
   "outputs": [],
   "source": []
  },
  {
   "cell_type": "code",
   "execution_count": 87,
   "id": "99e0f989-4c65-4cc3-b03b-3f59478025f7",
   "metadata": {},
   "outputs": [
    {
     "data": {
      "image/png": "[encoded data removed]",
      "text/plain": [
       "<Figure size 750x200 with 4 Axes>"
      ]
     },
     "metadata": {},
     "output_type": "display_data"
    }
   ],
   "source": [
    "#value = \"pct_counts_mt\"\n",
    "#value = \"n_genes\"\n",
    "value = 'pct_counts_in_top_20_genes'\n",
    "#value = \"log1p_total_counts\"\n",
    "\n",
    "sns.set(style=\"white\", rc={\"axes.facecolor\": (0, 0, 0, 0)})\n",
    "\n",
    "g = sns.FacetGrid(df2, row=\"Id\", hue=\"Id\", aspect=15, height=0.5, palette=\"tab20\")\n",
    "\n",
    "g.map(sns.kdeplot, value, clip_on=False, fill=True, alpha=1, linewidth=1.5)\n",
    "g.map(sns.kdeplot, value, clip_on=False, color=\"w\", lw=2)\n",
    "\n",
    "g.map(plt.axhline, y=0, lw=2, clip_on=False)\n",
    "\n",
    "def label(x, color, label):\n",
    "    ax = plt.gca()\n",
    "    ax.text(0, .2, label, fontweight=\"bold\", color=color,\n",
    "            ha=\"left\", va=\"center\", transform=ax.transAxes)\n",
    "\n",
    "g.map(label, value)\n",
    "\n",
    "g.figure.subplots_adjust(hspace=-.6)\n",
    "\n",
    "g.set_titles(\"\")\n",
    "g.set(yticks=[], ylabel=\"\")\n",
    "g.despine(bottom=True, left=True)\n",
    "\n",
    "for ax in g.axes.flat:\n",
    "    ax.axvline(x=df2[value].median(), color='r', linestyle='-')\n",
    "\n",
    "\n",
    "plt.show()"
   ]
  },
  {
   "cell_type": "code",
   "execution_count": null,
   "id": "cfba4a78-a8f5-46fb-b04a-996e5481389e",
   "metadata": {},
   "outputs": [],
   "source": []
  },
  {
   "cell_type": "code",
   "execution_count": 89,
   "id": "896794d8-c4da-4bcb-8a05-1f012af75640",
   "metadata": {},
   "outputs": [
    {
     "data": {
      "image/png": "[encoded data removed]",
      "text/plain": [
       "<Figure size 750x200 with 4 Axes>"
      ]
     },
     "metadata": {},
     "output_type": "display_data"
    }
   ],
   "source": [
    "#value = \"pct_counts_mt\"\n",
    "#value = \"n_genes\"\n",
    "#value = 'pct_counts_in_top_20_genes'\n",
    "value = \"log1p_total_counts\"\n",
    "\n",
    "sns.set(style=\"white\", rc={\"axes.facecolor\": (0, 0, 0, 0)})\n",
    "\n",
    "g = sns.FacetGrid(df2, row=\"Id\", hue=\"Id\", aspect=15, height=0.5, palette=\"tab20\")\n",
    "\n",
    "g.map(sns.kdeplot, value, clip_on=False, fill=True, alpha=1, linewidth=1.5)\n",
    "g.map(sns.kdeplot, value, clip_on=False, color=\"w\", lw=2)\n",
    "\n",
    "g.map(plt.axhline, y=0, lw=2, clip_on=False)\n",
    "\n",
    "def label(x, color, label):\n",
    "    ax = plt.gca()\n",
    "    ax.text(0, .2, label, fontweight=\"bold\", color=color,\n",
    "            ha=\"left\", va=\"center\", transform=ax.transAxes)\n",
    "\n",
    "g.map(label, value)\n",
    "\n",
    "g.figure.subplots_adjust(hspace=-.6)\n",
    "\n",
    "g.set_titles(\"\")\n",
    "g.set(yticks=[], ylabel=\"\")\n",
    "g.despine(bottom=True, left=True)\n",
    "\n",
    "for ax in g.axes.flat:\n",
    "    ax.axvline(x=df2[value].median(), color='r', linestyle='-')\n",
    "\n",
    "\n",
    "plt.show()"
   ]
  },
  {
   "cell_type": "code",
   "execution_count": 91,
   "id": "c12e0128-1783-4ac9-a849-27de506077c9",
   "metadata": {},
   "outputs": [
    {
     "data": {
      "image/png": "[encoded data removed]",
      "text/plain": [
       "<Figure size 750x200 with 4 Axes>"
      ]
     },
     "metadata": {},
     "output_type": "display_data"
    }
   ],
   "source": [
    "#value = \"pct_counts_mt\"\n",
    "value = \"n_genes\"\n",
    "#value = 'pct_counts_in_top_20_genes'\n",
    "#value = \"log1p_total_counts\"\n",
    "\n",
    "sns.set(style=\"white\", rc={\"axes.facecolor\": (0, 0, 0, 0)})\n",
    "\n",
    "g = sns.FacetGrid(df2, row=\"Id\", hue=\"Id\", aspect=15, height=0.5, palette=\"tab20\")\n",
    "\n",
    "g.map(sns.kdeplot, value, clip_on=False, fill=True, alpha=1, linewidth=1.5)\n",
    "g.map(sns.kdeplot, value, clip_on=False, color=\"w\", lw=2)\n",
    "\n",
    "g.map(plt.axhline, y=0, lw=2, clip_on=False)\n",
    "\n",
    "def label(x, color, label):\n",
    "    ax = plt.gca()\n",
    "    ax.text(0, .2, label, fontweight=\"bold\", color=color,\n",
    "            ha=\"left\", va=\"center\", transform=ax.transAxes)\n",
    "\n",
    "g.map(label, value)\n",
    "\n",
    "g.figure.subplots_adjust(hspace=-.6)\n",
    "\n",
    "g.set_titles(\"\")\n",
    "g.set(yticks=[], ylabel=\"\")\n",
    "g.despine(bottom=True, left=True)\n",
    "\n",
    "for ax in g.axes.flat:\n",
    "    ax.axvline(x=df2[value].median(), color='r', linestyle='-')\n",
    "\n",
    "\n",
    "plt.show()"
   ]
  },
  {
   "cell_type": "code",
   "execution_count": 93,
   "id": "eb6a2448-6566-4d68-afbb-5f5de6e2231c",
   "metadata": {},
   "outputs": [
    {
     "data": {
      "image/png": "[encoded data removed]",
      "text/plain": [
       "<Figure size 750x200 with 4 Axes>"
      ]
     },
     "metadata": {},
     "output_type": "display_data"
    }
   ],
   "source": [
    "value = \"pct_counts_mt\"\n",
    "#value = \"n_genes\"\n",
    "#value = 'pct_counts_in_top_20_genes'\n",
    "#value = \"log1p_total_counts\"\n",
    "\n",
    "sns.set(style=\"white\", rc={\"axes.facecolor\": (0, 0, 0, 0)})\n",
    "\n",
    "g = sns.FacetGrid(df2, row=\"Id\", hue=\"Id\", aspect=15, height=0.5, palette=\"tab20\")\n",
    "\n",
    "g.map(sns.kdeplot, value, clip_on=False, fill=True, alpha=1, linewidth=1.5)\n",
    "g.map(sns.kdeplot, value, clip_on=False, color=\"w\", lw=2)\n",
    "\n",
    "g.map(plt.axhline, y=0, lw=2, clip_on=False)\n",
    "\n",
    "def label(x, color, label):\n",
    "    ax = plt.gca()\n",
    "    ax.text(0, .2, label, fontweight=\"bold\", color=color,\n",
    "            ha=\"left\", va=\"center\", transform=ax.transAxes)\n",
    "\n",
    "g.map(label, value)\n",
    "\n",
    "g.figure.subplots_adjust(hspace=-.6)\n",
    "\n",
    "g.set_titles(\"\")\n",
    "g.set(yticks=[], ylabel=\"\")\n",
    "g.despine(bottom=True, left=True)\n",
    "\n",
    "for ax in g.axes.flat:\n",
    "    ax.axvline(x=df2[value].median(), color='r', linestyle='-')\n",
    "\n",
    "\n",
    "plt.show()"
   ]
  },
  {
   "cell_type": "code",
   "execution_count": null,
   "id": "886a9f82-69a1-4232-95fd-7ac7e98852b1",
   "metadata": {},
   "outputs": [],
   "source": []
  },
  {
   "cell_type": "code",
   "execution_count": null,
   "id": "ba535de7-c0e9-4df2-a752-6d9809419f7c",
   "metadata": {},
   "outputs": [],
   "source": []
  },
  {
   "cell_type": "code",
   "execution_count": 103,
   "id": "0e1a4d7b-5a7f-4a59-a08c-1f3b9de833d1",
   "metadata": {},
   "outputs": [
    {
     "data": {
      "text/html": [
       "<div>\n",
       "<style scoped>\n",
       "    .dataframe tbody tr th:only-of-type {\n",
       "        vertical-align: middle;\n",
       "    }\n",
       "\n",
       "    .dataframe tbody tr th {\n",
       "        vertical-align: top;\n",
       "    }\n",
       "\n",
       "    .dataframe thead th {\n",
       "        text-align: right;\n",
       "    }\n",
       "</style>\n",
       "<table border=\"1\" class=\"dataframe\">\n",
       "  <thead>\n",
       "    <tr style=\"text-align: right;\">\n",
       "      <th></th>\n",
       "      <th>Sample</th>\n",
       "      <th>dpi</th>\n",
       "      <th>Id</th>\n",
       "      <th>n_genes</th>\n",
       "      <th>n_genes_by_counts</th>\n",
       "      <th>log1p_n_genes_by_counts</th>\n",
       "      <th>total_counts</th>\n",
       "      <th>log1p_total_counts</th>\n",
       "      <th>pct_counts_in_top_20_genes</th>\n",
       "      <th>pct_counts_mt</th>\n",
       "      <th>pct_counts_ribo</th>\n",
       "      <th>pct_counts_hb</th>\n",
       "      <th>doublet</th>\n",
       "      <th>doublet_score</th>\n",
       "    </tr>\n",
       "  </thead>\n",
       "  <tbody>\n",
       "    <tr>\n",
       "      <th>ACCACGTTCCGAAAGTAGTAGGCT-1-Inf_J3</th>\n",
       "      <td>Inf</td>\n",
       "      <td>J3</td>\n",
       "      <td>Inf_J3</td>\n",
       "      <td>3814</td>\n",
       "      <td>3814</td>\n",
       "      <td>8.246696</td>\n",
       "      <td>10856.0</td>\n",
       "      <td>9.292565</td>\n",
       "      <td>27.008106</td>\n",
       "      <td>0.073692</td>\n",
       "      <td>0.0</td>\n",
       "      <td>0.0</td>\n",
       "      <td>0.0</td>\n",
       "      <td>2.856259e-17</td>\n",
       "    </tr>\n",
       "    <tr>\n",
       "      <th>GCTGTAACATTGCCTGAGTAGGCT-1-Inf_J3</th>\n",
       "      <td>Inf</td>\n",
       "      <td>J3</td>\n",
       "      <td>Inf_J3</td>\n",
       "      <td>6071</td>\n",
       "      <td>6071</td>\n",
       "      <td>8.711443</td>\n",
       "      <td>22149.0</td>\n",
       "      <td>10.005592</td>\n",
       "      <td>13.151835</td>\n",
       "      <td>0.334101</td>\n",
       "      <td>0.0</td>\n",
       "      <td>0.0</td>\n",
       "      <td>0.0</td>\n",
       "      <td>3.299158e+01</td>\n",
       "    </tr>\n",
       "    <tr>\n",
       "      <th>GCTGTAACATTCTGTAAGTAGGCT-1-Inf_J3</th>\n",
       "      <td>Inf</td>\n",
       "      <td>J3</td>\n",
       "      <td>Inf_J3</td>\n",
       "      <td>6051</td>\n",
       "      <td>6051</td>\n",
       "      <td>8.708144</td>\n",
       "      <td>21871.0</td>\n",
       "      <td>9.992963</td>\n",
       "      <td>15.829180</td>\n",
       "      <td>0.196607</td>\n",
       "      <td>0.0</td>\n",
       "      <td>0.0</td>\n",
       "      <td>0.0</td>\n",
       "      <td>3.190149e-08</td>\n",
       "    </tr>\n",
       "    <tr>\n",
       "      <th>GCTGTAACAGTAATACAGTAGGCT-1-Inf_J3</th>\n",
       "      <td>Inf</td>\n",
       "      <td>J3</td>\n",
       "      <td>Inf_J3</td>\n",
       "      <td>4813</td>\n",
       "      <td>4813</td>\n",
       "      <td>8.479284</td>\n",
       "      <td>12423.0</td>\n",
       "      <td>9.427385</td>\n",
       "      <td>7.888594</td>\n",
       "      <td>0.491025</td>\n",
       "      <td>0.0</td>\n",
       "      <td>0.0</td>\n",
       "      <td>0.0</td>\n",
       "      <td>1.959981e-12</td>\n",
       "    </tr>\n",
       "    <tr>\n",
       "      <th>GCTGTAACAGGCTGTGAGTAGGCT-1-Inf_J3</th>\n",
       "      <td>Inf</td>\n",
       "      <td>J3</td>\n",
       "      <td>Inf_J3</td>\n",
       "      <td>5207</td>\n",
       "      <td>5207</td>\n",
       "      <td>8.557951</td>\n",
       "      <td>21580.0</td>\n",
       "      <td>9.979568</td>\n",
       "      <td>30.588508</td>\n",
       "      <td>0.120482</td>\n",
       "      <td>0.0</td>\n",
       "      <td>0.0</td>\n",
       "      <td>0.0</td>\n",
       "      <td>1.174637e-07</td>\n",
       "    </tr>\n",
       "    <tr>\n",
       "      <th>...</th>\n",
       "      <td>...</td>\n",
       "      <td>...</td>\n",
       "      <td>...</td>\n",
       "      <td>...</td>\n",
       "      <td>...</td>\n",
       "      <td>...</td>\n",
       "      <td>...</td>\n",
       "      <td>...</td>\n",
       "      <td>...</td>\n",
       "      <td>...</td>\n",
       "      <td>...</td>\n",
       "      <td>...</td>\n",
       "      <td>...</td>\n",
       "      <td>...</td>\n",
       "    </tr>\n",
       "    <tr>\n",
       "      <th>CCCGTAAGTCATTTAGAACGGGAA-1-Mock_J6</th>\n",
       "      <td>Mock</td>\n",
       "      <td>J6</td>\n",
       "      <td>Mock_J6</td>\n",
       "      <td>5486</td>\n",
       "      <td>5486</td>\n",
       "      <td>8.610137</td>\n",
       "      <td>16383.0</td>\n",
       "      <td>9.704061</td>\n",
       "      <td>15.601538</td>\n",
       "      <td>0.036623</td>\n",
       "      <td>0.0</td>\n",
       "      <td>0.0</td>\n",
       "      <td>0.0</td>\n",
       "      <td>1.523242e-10</td>\n",
       "    </tr>\n",
       "    <tr>\n",
       "      <th>CCCGTAAGTATATTCGAACGGGAA-1-Mock_J6</th>\n",
       "      <td>Mock</td>\n",
       "      <td>J6</td>\n",
       "      <td>Mock_J6</td>\n",
       "      <td>5178</td>\n",
       "      <td>5178</td>\n",
       "      <td>8.552367</td>\n",
       "      <td>18420.0</td>\n",
       "      <td>9.821246</td>\n",
       "      <td>26.943540</td>\n",
       "      <td>0.179153</td>\n",
       "      <td>0.0</td>\n",
       "      <td>0.0</td>\n",
       "      <td>0.0</td>\n",
       "      <td>8.171932e-02</td>\n",
       "    </tr>\n",
       "    <tr>\n",
       "      <th>CCCGCAATCTCAAACTAACGGGAA-1-Mock_J6</th>\n",
       "      <td>Mock</td>\n",
       "      <td>J6</td>\n",
       "      <td>Mock_J6</td>\n",
       "      <td>6032</td>\n",
       "      <td>6032</td>\n",
       "      <td>8.705000</td>\n",
       "      <td>22286.0</td>\n",
       "      <td>10.011759</td>\n",
       "      <td>13.932514</td>\n",
       "      <td>0.363457</td>\n",
       "      <td>0.0</td>\n",
       "      <td>0.0</td>\n",
       "      <td>0.0</td>\n",
       "      <td>1.013625e-04</td>\n",
       "    </tr>\n",
       "    <tr>\n",
       "      <th>CCCTAAGGTCAATTGCAACGGGAA-1-Mock_J6</th>\n",
       "      <td>Mock</td>\n",
       "      <td>J6</td>\n",
       "      <td>Mock_J6</td>\n",
       "      <td>4800</td>\n",
       "      <td>4800</td>\n",
       "      <td>8.476580</td>\n",
       "      <td>16469.0</td>\n",
       "      <td>9.709296</td>\n",
       "      <td>29.783229</td>\n",
       "      <td>0.012144</td>\n",
       "      <td>0.0</td>\n",
       "      <td>0.0</td>\n",
       "      <td>0.0</td>\n",
       "      <td>1.445901e-06</td>\n",
       "    </tr>\n",
       "    <tr>\n",
       "      <th>TTTGTGAGTATTGTCAAACGGGAA-1-Mock_J6</th>\n",
       "      <td>Mock</td>\n",
       "      <td>J6</td>\n",
       "      <td>Mock_J6</td>\n",
       "      <td>5205</td>\n",
       "      <td>5205</td>\n",
       "      <td>8.557567</td>\n",
       "      <td>17859.0</td>\n",
       "      <td>9.790318</td>\n",
       "      <td>25.258973</td>\n",
       "      <td>0.302369</td>\n",
       "      <td>0.0</td>\n",
       "      <td>0.0</td>\n",
       "      <td>0.0</td>\n",
       "      <td>8.171972e-02</td>\n",
       "    </tr>\n",
       "  </tbody>\n",
       "</table>\n",
       "<p>26899 rows × 14 columns</p>\n",
       "</div>"
      ],
      "text/plain": [
       "                                   Sample dpi       Id  n_genes  \\\n",
       "ACCACGTTCCGAAAGTAGTAGGCT-1-Inf_J3     Inf  J3   Inf_J3     3814   \n",
       "GCTGTAACATTGCCTGAGTAGGCT-1-Inf_J3     Inf  J3   Inf_J3     6071   \n",
       "GCTGTAACATTCTGTAAGTAGGCT-1-Inf_J3     Inf  J3   Inf_J3     6051   \n",
       "GCTGTAACAGTAATACAGTAGGCT-1-Inf_J3     Inf  J3   Inf_J3     4813   \n",
       "GCTGTAACAGGCTGTGAGTAGGCT-1-Inf_J3     Inf  J3   Inf_J3     5207   \n",
       "...                                   ...  ..      ...      ...   \n",
       "CCCGTAAGTCATTTAGAACGGGAA-1-Mock_J6   Mock  J6  Mock_J6     5486   \n",
       "CCCGTAAGTATATTCGAACGGGAA-1-Mock_J6   Mock  J6  Mock_J6     5178   \n",
       "CCCGCAATCTCAAACTAACGGGAA-1-Mock_J6   Mock  J6  Mock_J6     6032   \n",
       "CCCTAAGGTCAATTGCAACGGGAA-1-Mock_J6   Mock  J6  Mock_J6     4800   \n",
       "TTTGTGAGTATTGTCAAACGGGAA-1-Mock_J6   Mock  J6  Mock_J6     5205   \n",
       "\n",
       "                                    n_genes_by_counts  \\\n",
       "ACCACGTTCCGAAAGTAGTAGGCT-1-Inf_J3                3814   \n",
       "GCTGTAACATTGCCTGAGTAGGCT-1-Inf_J3                6071   \n",
       "GCTGTAACATTCTGTAAGTAGGCT-1-Inf_J3                6051   \n",
       "GCTGTAACAGTAATACAGTAGGCT-1-Inf_J3                4813   \n",
       "GCTGTAACAGGCTGTGAGTAGGCT-1-Inf_J3                5207   \n",
       "...                                               ...   \n",
       "CCCGTAAGTCATTTAGAACGGGAA-1-Mock_J6               5486   \n",
       "CCCGTAAGTATATTCGAACGGGAA-1-Mock_J6               5178   \n",
       "CCCGCAATCTCAAACTAACGGGAA-1-Mock_J6               6032   \n",
       "CCCTAAGGTCAATTGCAACGGGAA-1-Mock_J6               4800   \n",
       "TTTGTGAGTATTGTCAAACGGGAA-1-Mock_J6               5205   \n",
       "\n",
       "                                    log1p_n_genes_by_counts  total_counts  \\\n",
       "ACCACGTTCCGAAAGTAGTAGGCT-1-Inf_J3                  8.246696       10856.0   \n",
       "GCTGTAACATTGCCTGAGTAGGCT-1-Inf_J3                  8.711443       22149.0   \n",
       "GCTGTAACATTCTGTAAGTAGGCT-1-Inf_J3                  8.708144       21871.0   \n",
       "GCTGTAACAGTAATACAGTAGGCT-1-Inf_J3                  8.479284       12423.0   \n",
       "GCTGTAACAGGCTGTGAGTAGGCT-1-Inf_J3                  8.557951       21580.0   \n",
       "...                                                     ...           ...   \n",
       "CCCGTAAGTCATTTAGAACGGGAA-1-Mock_J6                 8.610137       16383.0   \n",
       "CCCGTAAGTATATTCGAACGGGAA-1-Mock_J6                 8.552367       18420.0   \n",
       "CCCGCAATCTCAAACTAACGGGAA-1-Mock_J6                 8.705000       22286.0   \n",
       "CCCTAAGGTCAATTGCAACGGGAA-1-Mock_J6                 8.476580       16469.0   \n",
       "TTTGTGAGTATTGTCAAACGGGAA-1-Mock_J6                 8.557567       17859.0   \n",
       "\n",
       "                                    log1p_total_counts  \\\n",
       "ACCACGTTCCGAAAGTAGTAGGCT-1-Inf_J3             9.292565   \n",
       "GCTGTAACATTGCCTGAGTAGGCT-1-Inf_J3            10.005592   \n",
       "GCTGTAACATTCTGTAAGTAGGCT-1-Inf_J3             9.992963   \n",
       "GCTGTAACAGTAATACAGTAGGCT-1-Inf_J3             9.427385   \n",
       "GCTGTAACAGGCTGTGAGTAGGCT-1-Inf_J3             9.979568   \n",
       "...                                                ...   \n",
       "CCCGTAAGTCATTTAGAACGGGAA-1-Mock_J6            9.704061   \n",
       "CCCGTAAGTATATTCGAACGGGAA-1-Mock_J6            9.821246   \n",
       "CCCGCAATCTCAAACTAACGGGAA-1-Mock_J6           10.011759   \n",
       "CCCTAAGGTCAATTGCAACGGGAA-1-Mock_J6            9.709296   \n",
       "TTTGTGAGTATTGTCAAACGGGAA-1-Mock_J6            9.790318   \n",
       "\n",
       "                                    pct_counts_in_top_20_genes  pct_counts_mt  \\\n",
       "ACCACGTTCCGAAAGTAGTAGGCT-1-Inf_J3                    27.008106       0.073692   \n",
       "GCTGTAACATTGCCTGAGTAGGCT-1-Inf_J3                    13.151835       0.334101   \n",
       "GCTGTAACATTCTGTAAGTAGGCT-1-Inf_J3                    15.829180       0.196607   \n",
       "GCTGTAACAGTAATACAGTAGGCT-1-Inf_J3                     7.888594       0.491025   \n",
       "GCTGTAACAGGCTGTGAGTAGGCT-1-Inf_J3                    30.588508       0.120482   \n",
       "...                                                        ...            ...   \n",
       "CCCGTAAGTCATTTAGAACGGGAA-1-Mock_J6                   15.601538       0.036623   \n",
       "CCCGTAAGTATATTCGAACGGGAA-1-Mock_J6                   26.943540       0.179153   \n",
       "CCCGCAATCTCAAACTAACGGGAA-1-Mock_J6                   13.932514       0.363457   \n",
       "CCCTAAGGTCAATTGCAACGGGAA-1-Mock_J6                   29.783229       0.012144   \n",
       "TTTGTGAGTATTGTCAAACGGGAA-1-Mock_J6                   25.258973       0.302369   \n",
       "\n",
       "                                    pct_counts_ribo  pct_counts_hb  doublet  \\\n",
       "ACCACGTTCCGAAAGTAGTAGGCT-1-Inf_J3               0.0            0.0      0.0   \n",
       "GCTGTAACATTGCCTGAGTAGGCT-1-Inf_J3               0.0            0.0      0.0   \n",
       "GCTGTAACATTCTGTAAGTAGGCT-1-Inf_J3               0.0            0.0      0.0   \n",
       "GCTGTAACAGTAATACAGTAGGCT-1-Inf_J3               0.0            0.0      0.0   \n",
       "GCTGTAACAGGCTGTGAGTAGGCT-1-Inf_J3               0.0            0.0      0.0   \n",
       "...                                             ...            ...      ...   \n",
       "CCCGTAAGTCATTTAGAACGGGAA-1-Mock_J6              0.0            0.0      0.0   \n",
       "CCCGTAAGTATATTCGAACGGGAA-1-Mock_J6              0.0            0.0      0.0   \n",
       "CCCGCAATCTCAAACTAACGGGAA-1-Mock_J6              0.0            0.0      0.0   \n",
       "CCCTAAGGTCAATTGCAACGGGAA-1-Mock_J6              0.0            0.0      0.0   \n",
       "TTTGTGAGTATTGTCAAACGGGAA-1-Mock_J6              0.0            0.0      0.0   \n",
       "\n",
       "                                    doublet_score  \n",
       "ACCACGTTCCGAAAGTAGTAGGCT-1-Inf_J3    2.856259e-17  \n",
       "GCTGTAACATTGCCTGAGTAGGCT-1-Inf_J3    3.299158e+01  \n",
       "GCTGTAACATTCTGTAAGTAGGCT-1-Inf_J3    3.190149e-08  \n",
       "GCTGTAACAGTAATACAGTAGGCT-1-Inf_J3    1.959981e-12  \n",
       "GCTGTAACAGGCTGTGAGTAGGCT-1-Inf_J3    1.174637e-07  \n",
       "...                                           ...  \n",
       "CCCGTAAGTCATTTAGAACGGGAA-1-Mock_J6   1.523242e-10  \n",
       "CCCGTAAGTATATTCGAACGGGAA-1-Mock_J6   8.171932e-02  \n",
       "CCCGCAATCTCAAACTAACGGGAA-1-Mock_J6   1.013625e-04  \n",
       "CCCTAAGGTCAATTGCAACGGGAA-1-Mock_J6   1.445901e-06  \n",
       "TTTGTGAGTATTGTCAAACGGGAA-1-Mock_J6   8.171972e-02  \n",
       "\n",
       "[26899 rows x 14 columns]"
      ]
     },
     "execution_count": 103,
     "metadata": {},
     "output_type": "execute_result"
    }
   ],
   "source": [
    "df2"
   ]
  },
  {
   "cell_type": "code",
   "execution_count": null,
   "id": "1d938c78-e9bd-4b59-a44e-f3fb7dea019c",
   "metadata": {},
   "outputs": [],
   "source": []
  },
  {
   "cell_type": "code",
   "execution_count": 121,
   "id": "ada67b5f-c8ba-4bff-be37-88ba3fadbea7",
   "metadata": {},
   "outputs": [],
   "source": [
    "os.makedirs(\"processed_data\", exist_ok=True)"
   ]
  },
  {
   "cell_type": "code",
   "execution_count": null,
   "id": "bff2ebf8-02bb-468c-986e-a84518f6512f",
   "metadata": {},
   "outputs": [],
   "source": []
  },
  {
   "cell_type": "code",
   "execution_count": null,
   "id": "e40d0615-d858-4520-ab0c-b6dace4e425e",
   "metadata": {},
   "outputs": [],
   "source": []
  },
  {
   "cell_type": "code",
   "execution_count": null,
   "id": "6ef62dd1-f453-4092-b63e-4e6334db426a",
   "metadata": {},
   "outputs": [],
   "source": []
  },
  {
   "cell_type": "code",
   "execution_count": null,
   "id": "27d3ca78-cae5-4aa1-a067-cc7842964ae1",
   "metadata": {},
   "outputs": [],
   "source": []
  },
  {
   "cell_type": "code",
   "execution_count": 165,
   "id": "31098a31-4236-4f2a-8c29-95071b620b47",
   "metadata": {},
   "outputs": [
    {
     "name": "stdout",
     "output_type": "stream",
     "text": [
      "Saved: processed_data/adata_Mock_J3.h5ad\n",
      "Saved: processed_data/adata_Mock_J6.h5ad\n",
      "Saved: processed_data/adata_Inf_J3.h5ad\n",
      "Saved: processed_data/adata_Inf_J6.h5ad\n"
     ]
    }
   ],
   "source": [
    "for ad in adatas:\n",
    "    unique_id = ad.obs['Id'][0]\n",
    "    file_path = os.path.join(\"processed_data\", f\"adata_{unique_id}.h5ad\")\n",
    "    ad.write(file_path)\n",
    "    print(f\"Saved: {file_path}\")"
   ]
  },
  {
   "cell_type": "code",
   "execution_count": null,
   "id": "d071b415-0e9b-4365-afd7-c14b03052551",
   "metadata": {},
   "outputs": [],
   "source": []
  },
  {
   "cell_type": "code",
   "execution_count": 170,
   "id": "207662ef-6f69-47d9-9768-3c1de25a904c",
   "metadata": {},
   "outputs": [],
   "source": [
    "adatas2 = [sc.read_h5ad(\"processed_data/\" + x) for x in os.listdir('processed_data')] #see if loading"
   ]
  },
  {
   "cell_type": "code",
   "execution_count": 172,
   "id": "c60b34ae-e57a-44df-a957-ffaf85b3abf0",
   "metadata": {},
   "outputs": [
    {
     "data": {
      "text/plain": [
       "[AnnData object with n_obs × n_vars = 6382 × 18087\n",
       "     obs: 'Sample', 'dpi', 'Id', 'n_genes', 'n_genes_by_counts', 'log1p_n_genes_by_counts', 'total_counts', 'log1p_total_counts', 'pct_counts_in_top_20_genes', 'pct_counts_mt', 'pct_counts_ribo', 'pct_counts_hb', 'doublet', 'doublet_score'\n",
       "     var: 'gene_ids', 'feature_types', 'genome', 'mt', 'ribo', 'hb', 'n_cells_by_counts', 'mean_counts', 'log1p_mean_counts', 'pct_dropout_by_counts', 'total_counts', 'log1p_total_counts'\n",
       "     uns: 'cells_removed', 'doublets_removed',\n",
       " AnnData object with n_obs × n_vars = 5929 × 18087\n",
       "     obs: 'Sample', 'dpi', 'Id', 'n_genes', 'n_genes_by_counts', 'log1p_n_genes_by_counts', 'total_counts', 'log1p_total_counts', 'pct_counts_in_top_20_genes', 'pct_counts_mt', 'pct_counts_ribo', 'pct_counts_hb', 'doublet', 'doublet_score'\n",
       "     var: 'gene_ids', 'feature_types', 'genome', 'mt', 'ribo', 'hb', 'n_cells_by_counts', 'mean_counts', 'log1p_mean_counts', 'pct_dropout_by_counts', 'total_counts', 'log1p_total_counts'\n",
       "     uns: 'cells_removed', 'doublets_removed',\n",
       " AnnData object with n_obs × n_vars = 6950 × 18087\n",
       "     obs: 'Sample', 'dpi', 'Id', 'n_genes', 'n_genes_by_counts', 'log1p_n_genes_by_counts', 'total_counts', 'log1p_total_counts', 'pct_counts_in_top_20_genes', 'pct_counts_mt', 'pct_counts_ribo', 'pct_counts_hb', 'doublet', 'doublet_score'\n",
       "     var: 'gene_ids', 'feature_types', 'genome', 'mt', 'ribo', 'hb', 'n_cells_by_counts', 'mean_counts', 'log1p_mean_counts', 'pct_dropout_by_counts', 'total_counts', 'log1p_total_counts'\n",
       "     uns: 'cells_removed', 'doublets_removed',\n",
       " AnnData object with n_obs × n_vars = 7638 × 18087\n",
       "     obs: 'Sample', 'dpi', 'Id', 'n_genes', 'n_genes_by_counts', 'log1p_n_genes_by_counts', 'total_counts', 'log1p_total_counts', 'pct_counts_in_top_20_genes', 'pct_counts_mt', 'pct_counts_ribo', 'pct_counts_hb', 'doublet', 'doublet_score'\n",
       "     var: 'gene_ids', 'feature_types', 'genome', 'mt', 'ribo', 'hb', 'n_cells_by_counts', 'mean_counts', 'log1p_mean_counts', 'pct_dropout_by_counts', 'total_counts', 'log1p_total_counts'\n",
       "     uns: 'cells_removed', 'doublets_removed']"
      ]
     },
     "execution_count": 172,
     "metadata": {},
     "output_type": "execute_result"
    }
   ],
   "source": [
    "adatas2"
   ]
  },
  {
   "cell_type": "code",
   "execution_count": 150,
   "id": "9a77d4e7-1965-478c-9857-27266c182d6d",
   "metadata": {},
   "outputs": [
    {
     "data": {
      "text/html": [
       "<div>\n",
       "<style scoped>\n",
       "    .dataframe tbody tr th:only-of-type {\n",
       "        vertical-align: middle;\n",
       "    }\n",
       "\n",
       "    .dataframe tbody tr th {\n",
       "        vertical-align: top;\n",
       "    }\n",
       "\n",
       "    .dataframe thead th {\n",
       "        text-align: right;\n",
       "    }\n",
       "</style>\n",
       "<table border=\"1\" class=\"dataframe\">\n",
       "  <thead>\n",
       "    <tr style=\"text-align: right;\">\n",
       "      <th></th>\n",
       "      <th>Sample</th>\n",
       "      <th>dpi</th>\n",
       "      <th>Id</th>\n",
       "      <th>n_genes</th>\n",
       "      <th>n_genes_by_counts</th>\n",
       "      <th>log1p_n_genes_by_counts</th>\n",
       "      <th>total_counts</th>\n",
       "      <th>log1p_total_counts</th>\n",
       "      <th>pct_counts_in_top_20_genes</th>\n",
       "      <th>pct_counts_mt</th>\n",
       "      <th>pct_counts_ribo</th>\n",
       "      <th>pct_counts_hb</th>\n",
       "      <th>doublet</th>\n",
       "      <th>doublet_score</th>\n",
       "    </tr>\n",
       "  </thead>\n",
       "  <tbody>\n",
       "    <tr>\n",
       "      <th>AAACAAGCAACCCTATACTTTAGG-1-Mock_J3</th>\n",
       "      <td>Mock</td>\n",
       "      <td>J3</td>\n",
       "      <td>Mock_J3</td>\n",
       "      <td>4931</td>\n",
       "      <td>4931</td>\n",
       "      <td>8.503500</td>\n",
       "      <td>14086.0</td>\n",
       "      <td>9.553008</td>\n",
       "      <td>13.502769</td>\n",
       "      <td>0.049695</td>\n",
       "      <td>0.0</td>\n",
       "      <td>0.0</td>\n",
       "      <td>0.0</td>\n",
       "      <td>1.132561e-07</td>\n",
       "    </tr>\n",
       "    <tr>\n",
       "      <th>AAACAAGCAACGACTAACTTTAGG-1-Mock_J3</th>\n",
       "      <td>Mock</td>\n",
       "      <td>J3</td>\n",
       "      <td>Mock_J3</td>\n",
       "      <td>5986</td>\n",
       "      <td>5986</td>\n",
       "      <td>8.697346</td>\n",
       "      <td>30245.0</td>\n",
       "      <td>10.317120</td>\n",
       "      <td>26.768061</td>\n",
       "      <td>0.244669</td>\n",
       "      <td>0.0</td>\n",
       "      <td>0.0</td>\n",
       "      <td>0.0</td>\n",
       "      <td>3.694116e-12</td>\n",
       "    </tr>\n",
       "    <tr>\n",
       "      <th>AAACAAGCACAATACGACTTTAGG-1-Mock_J3</th>\n",
       "      <td>Mock</td>\n",
       "      <td>J3</td>\n",
       "      <td>Mock_J3</td>\n",
       "      <td>3652</td>\n",
       "      <td>3652</td>\n",
       "      <td>8.203304</td>\n",
       "      <td>8254.0</td>\n",
       "      <td>9.018575</td>\n",
       "      <td>12.260722</td>\n",
       "      <td>0.302883</td>\n",
       "      <td>0.0</td>\n",
       "      <td>0.0</td>\n",
       "      <td>0.0</td>\n",
       "      <td>3.057015e-08</td>\n",
       "    </tr>\n",
       "    <tr>\n",
       "      <th>AAACAAGCACTTCGATACTTTAGG-1-Mock_J3</th>\n",
       "      <td>Mock</td>\n",
       "      <td>J3</td>\n",
       "      <td>Mock_J3</td>\n",
       "      <td>3016</td>\n",
       "      <td>3016</td>\n",
       "      <td>8.012018</td>\n",
       "      <td>6558.0</td>\n",
       "      <td>8.788593</td>\n",
       "      <td>17.444343</td>\n",
       "      <td>0.106740</td>\n",
       "      <td>0.0</td>\n",
       "      <td>0.0</td>\n",
       "      <td>0.0</td>\n",
       "      <td>2.972136e-18</td>\n",
       "    </tr>\n",
       "    <tr>\n",
       "      <th>AAACAAGCAGTTATCCACTTTAGG-1-Mock_J3</th>\n",
       "      <td>Mock</td>\n",
       "      <td>J3</td>\n",
       "      <td>Mock_J3</td>\n",
       "      <td>3726</td>\n",
       "      <td>3726</td>\n",
       "      <td>8.223359</td>\n",
       "      <td>8735.0</td>\n",
       "      <td>9.075208</td>\n",
       "      <td>14.550658</td>\n",
       "      <td>0.171723</td>\n",
       "      <td>0.0</td>\n",
       "      <td>0.0</td>\n",
       "      <td>0.0</td>\n",
       "      <td>1.411567e-21</td>\n",
       "    </tr>\n",
       "    <tr>\n",
       "      <th>...</th>\n",
       "      <td>...</td>\n",
       "      <td>...</td>\n",
       "      <td>...</td>\n",
       "      <td>...</td>\n",
       "      <td>...</td>\n",
       "      <td>...</td>\n",
       "      <td>...</td>\n",
       "      <td>...</td>\n",
       "      <td>...</td>\n",
       "      <td>...</td>\n",
       "      <td>...</td>\n",
       "      <td>...</td>\n",
       "      <td>...</td>\n",
       "      <td>...</td>\n",
       "    </tr>\n",
       "    <tr>\n",
       "      <th>TTTGTGAGTGAGAAGGACTTTAGG-1-Mock_J3</th>\n",
       "      <td>Mock</td>\n",
       "      <td>J3</td>\n",
       "      <td>Mock_J3</td>\n",
       "      <td>4990</td>\n",
       "      <td>4990</td>\n",
       "      <td>8.515392</td>\n",
       "      <td>17165.0</td>\n",
       "      <td>9.750686</td>\n",
       "      <td>17.500728</td>\n",
       "      <td>0.023303</td>\n",
       "      <td>0.0</td>\n",
       "      <td>0.0</td>\n",
       "      <td>0.0</td>\n",
       "      <td>9.430173e-12</td>\n",
       "    </tr>\n",
       "    <tr>\n",
       "      <th>TTTGTGAGTGCTCCTTACTTTAGG-1-Mock_J3</th>\n",
       "      <td>Mock</td>\n",
       "      <td>J3</td>\n",
       "      <td>Mock_J3</td>\n",
       "      <td>3528</td>\n",
       "      <td>3528</td>\n",
       "      <td>8.168770</td>\n",
       "      <td>8347.0</td>\n",
       "      <td>9.029778</td>\n",
       "      <td>19.575896</td>\n",
       "      <td>0.551096</td>\n",
       "      <td>0.0</td>\n",
       "      <td>0.0</td>\n",
       "      <td>0.0</td>\n",
       "      <td>1.260184e-16</td>\n",
       "    </tr>\n",
       "    <tr>\n",
       "      <th>TTTGTGAGTGCTTCTCACTTTAGG-1-Mock_J3</th>\n",
       "      <td>Mock</td>\n",
       "      <td>J3</td>\n",
       "      <td>Mock_J3</td>\n",
       "      <td>5019</td>\n",
       "      <td>5019</td>\n",
       "      <td>8.521185</td>\n",
       "      <td>19508.0</td>\n",
       "      <td>9.878632</td>\n",
       "      <td>31.674185</td>\n",
       "      <td>0.082018</td>\n",
       "      <td>0.0</td>\n",
       "      <td>0.0</td>\n",
       "      <td>0.0</td>\n",
       "      <td>2.356814e-06</td>\n",
       "    </tr>\n",
       "    <tr>\n",
       "      <th>TTTGTGAGTTGGTTACACTTTAGG-1-Mock_J3</th>\n",
       "      <td>Mock</td>\n",
       "      <td>J3</td>\n",
       "      <td>Mock_J3</td>\n",
       "      <td>5841</td>\n",
       "      <td>5841</td>\n",
       "      <td>8.672828</td>\n",
       "      <td>22521.0</td>\n",
       "      <td>10.022248</td>\n",
       "      <td>16.118290</td>\n",
       "      <td>0.182052</td>\n",
       "      <td>0.0</td>\n",
       "      <td>0.0</td>\n",
       "      <td>0.0</td>\n",
       "      <td>9.081502e-12</td>\n",
       "    </tr>\n",
       "    <tr>\n",
       "      <th>TTTGTGAGTTGTGACTACTTTAGG-1-Mock_J3</th>\n",
       "      <td>Mock</td>\n",
       "      <td>J3</td>\n",
       "      <td>Mock_J3</td>\n",
       "      <td>4514</td>\n",
       "      <td>4514</td>\n",
       "      <td>8.415160</td>\n",
       "      <td>12620.0</td>\n",
       "      <td>9.443117</td>\n",
       "      <td>14.817750</td>\n",
       "      <td>0.142631</td>\n",
       "      <td>0.0</td>\n",
       "      <td>0.0</td>\n",
       "      <td>0.0</td>\n",
       "      <td>1.749689e-18</td>\n",
       "    </tr>\n",
       "  </tbody>\n",
       "</table>\n",
       "<p>6950 rows × 14 columns</p>\n",
       "</div>"
      ],
      "text/plain": [
       "                                   Sample dpi       Id  n_genes  \\\n",
       "AAACAAGCAACCCTATACTTTAGG-1-Mock_J3   Mock  J3  Mock_J3     4931   \n",
       "AAACAAGCAACGACTAACTTTAGG-1-Mock_J3   Mock  J3  Mock_J3     5986   \n",
       "AAACAAGCACAATACGACTTTAGG-1-Mock_J3   Mock  J3  Mock_J3     3652   \n",
       "AAACAAGCACTTCGATACTTTAGG-1-Mock_J3   Mock  J3  Mock_J3     3016   \n",
       "AAACAAGCAGTTATCCACTTTAGG-1-Mock_J3   Mock  J3  Mock_J3     3726   \n",
       "...                                   ...  ..      ...      ...   \n",
       "TTTGTGAGTGAGAAGGACTTTAGG-1-Mock_J3   Mock  J3  Mock_J3     4990   \n",
       "TTTGTGAGTGCTCCTTACTTTAGG-1-Mock_J3   Mock  J3  Mock_J3     3528   \n",
       "TTTGTGAGTGCTTCTCACTTTAGG-1-Mock_J3   Mock  J3  Mock_J3     5019   \n",
       "TTTGTGAGTTGGTTACACTTTAGG-1-Mock_J3   Mock  J3  Mock_J3     5841   \n",
       "TTTGTGAGTTGTGACTACTTTAGG-1-Mock_J3   Mock  J3  Mock_J3     4514   \n",
       "\n",
       "                                    n_genes_by_counts  \\\n",
       "AAACAAGCAACCCTATACTTTAGG-1-Mock_J3               4931   \n",
       "AAACAAGCAACGACTAACTTTAGG-1-Mock_J3               5986   \n",
       "AAACAAGCACAATACGACTTTAGG-1-Mock_J3               3652   \n",
       "AAACAAGCACTTCGATACTTTAGG-1-Mock_J3               3016   \n",
       "AAACAAGCAGTTATCCACTTTAGG-1-Mock_J3               3726   \n",
       "...                                               ...   \n",
       "TTTGTGAGTGAGAAGGACTTTAGG-1-Mock_J3               4990   \n",
       "TTTGTGAGTGCTCCTTACTTTAGG-1-Mock_J3               3528   \n",
       "TTTGTGAGTGCTTCTCACTTTAGG-1-Mock_J3               5019   \n",
       "TTTGTGAGTTGGTTACACTTTAGG-1-Mock_J3               5841   \n",
       "TTTGTGAGTTGTGACTACTTTAGG-1-Mock_J3               4514   \n",
       "\n",
       "                                    log1p_n_genes_by_counts  total_counts  \\\n",
       "AAACAAGCAACCCTATACTTTAGG-1-Mock_J3                 8.503500       14086.0   \n",
       "AAACAAGCAACGACTAACTTTAGG-1-Mock_J3                 8.697346       30245.0   \n",
       "AAACAAGCACAATACGACTTTAGG-1-Mock_J3                 8.203304        8254.0   \n",
       "AAACAAGCACTTCGATACTTTAGG-1-Mock_J3                 8.012018        6558.0   \n",
       "AAACAAGCAGTTATCCACTTTAGG-1-Mock_J3                 8.223359        8735.0   \n",
       "...                                                     ...           ...   \n",
       "TTTGTGAGTGAGAAGGACTTTAGG-1-Mock_J3                 8.515392       17165.0   \n",
       "TTTGTGAGTGCTCCTTACTTTAGG-1-Mock_J3                 8.168770        8347.0   \n",
       "TTTGTGAGTGCTTCTCACTTTAGG-1-Mock_J3                 8.521185       19508.0   \n",
       "TTTGTGAGTTGGTTACACTTTAGG-1-Mock_J3                 8.672828       22521.0   \n",
       "TTTGTGAGTTGTGACTACTTTAGG-1-Mock_J3                 8.415160       12620.0   \n",
       "\n",
       "                                    log1p_total_counts  \\\n",
       "AAACAAGCAACCCTATACTTTAGG-1-Mock_J3            9.553008   \n",
       "AAACAAGCAACGACTAACTTTAGG-1-Mock_J3           10.317120   \n",
       "AAACAAGCACAATACGACTTTAGG-1-Mock_J3            9.018575   \n",
       "AAACAAGCACTTCGATACTTTAGG-1-Mock_J3            8.788593   \n",
       "AAACAAGCAGTTATCCACTTTAGG-1-Mock_J3            9.075208   \n",
       "...                                                ...   \n",
       "TTTGTGAGTGAGAAGGACTTTAGG-1-Mock_J3            9.750686   \n",
       "TTTGTGAGTGCTCCTTACTTTAGG-1-Mock_J3            9.029778   \n",
       "TTTGTGAGTGCTTCTCACTTTAGG-1-Mock_J3            9.878632   \n",
       "TTTGTGAGTTGGTTACACTTTAGG-1-Mock_J3           10.022248   \n",
       "TTTGTGAGTTGTGACTACTTTAGG-1-Mock_J3            9.443117   \n",
       "\n",
       "                                    pct_counts_in_top_20_genes  pct_counts_mt  \\\n",
       "AAACAAGCAACCCTATACTTTAGG-1-Mock_J3                   13.502769       0.049695   \n",
       "AAACAAGCAACGACTAACTTTAGG-1-Mock_J3                   26.768061       0.244669   \n",
       "AAACAAGCACAATACGACTTTAGG-1-Mock_J3                   12.260722       0.302883   \n",
       "AAACAAGCACTTCGATACTTTAGG-1-Mock_J3                   17.444343       0.106740   \n",
       "AAACAAGCAGTTATCCACTTTAGG-1-Mock_J3                   14.550658       0.171723   \n",
       "...                                                        ...            ...   \n",
       "TTTGTGAGTGAGAAGGACTTTAGG-1-Mock_J3                   17.500728       0.023303   \n",
       "TTTGTGAGTGCTCCTTACTTTAGG-1-Mock_J3                   19.575896       0.551096   \n",
       "TTTGTGAGTGCTTCTCACTTTAGG-1-Mock_J3                   31.674185       0.082018   \n",
       "TTTGTGAGTTGGTTACACTTTAGG-1-Mock_J3                   16.118290       0.182052   \n",
       "TTTGTGAGTTGTGACTACTTTAGG-1-Mock_J3                   14.817750       0.142631   \n",
       "\n",
       "                                    pct_counts_ribo  pct_counts_hb  doublet  \\\n",
       "AAACAAGCAACCCTATACTTTAGG-1-Mock_J3              0.0            0.0      0.0   \n",
       "AAACAAGCAACGACTAACTTTAGG-1-Mock_J3              0.0            0.0      0.0   \n",
       "AAACAAGCACAATACGACTTTAGG-1-Mock_J3              0.0            0.0      0.0   \n",
       "AAACAAGCACTTCGATACTTTAGG-1-Mock_J3              0.0            0.0      0.0   \n",
       "AAACAAGCAGTTATCCACTTTAGG-1-Mock_J3              0.0            0.0      0.0   \n",
       "...                                             ...            ...      ...   \n",
       "TTTGTGAGTGAGAAGGACTTTAGG-1-Mock_J3              0.0            0.0      0.0   \n",
       "TTTGTGAGTGCTCCTTACTTTAGG-1-Mock_J3              0.0            0.0      0.0   \n",
       "TTTGTGAGTGCTTCTCACTTTAGG-1-Mock_J3              0.0            0.0      0.0   \n",
       "TTTGTGAGTTGGTTACACTTTAGG-1-Mock_J3              0.0            0.0      0.0   \n",
       "TTTGTGAGTTGTGACTACTTTAGG-1-Mock_J3              0.0            0.0      0.0   \n",
       "\n",
       "                                    doublet_score  \n",
       "AAACAAGCAACCCTATACTTTAGG-1-Mock_J3   1.132561e-07  \n",
       "AAACAAGCAACGACTAACTTTAGG-1-Mock_J3   3.694116e-12  \n",
       "AAACAAGCACAATACGACTTTAGG-1-Mock_J3   3.057015e-08  \n",
       "AAACAAGCACTTCGATACTTTAGG-1-Mock_J3   2.972136e-18  \n",
       "AAACAAGCAGTTATCCACTTTAGG-1-Mock_J3   1.411567e-21  \n",
       "...                                           ...  \n",
       "TTTGTGAGTGAGAAGGACTTTAGG-1-Mock_J3   9.430173e-12  \n",
       "TTTGTGAGTGCTCCTTACTTTAGG-1-Mock_J3   1.260184e-16  \n",
       "TTTGTGAGTGCTTCTCACTTTAGG-1-Mock_J3   2.356814e-06  \n",
       "TTTGTGAGTTGGTTACACTTTAGG-1-Mock_J3   9.081502e-12  \n",
       "TTTGTGAGTTGTGACTACTTTAGG-1-Mock_J3   1.749689e-18  \n",
       "\n",
       "[6950 rows x 14 columns]"
      ]
     },
     "execution_count": 150,
     "metadata": {},
     "output_type": "execute_result"
    }
   ],
   "source": [
    "adatas2[3].obs"
   ]
  },
  {
   "cell_type": "code",
   "execution_count": null,
   "id": "740ae2f8-75a6-4231-9eee-f21ac038e687",
   "metadata": {},
   "outputs": [],
   "source": []
  },
  {
   "cell_type": "code",
   "execution_count": null,
   "id": "1a6fa62e-c75c-402f-89fa-166d87efbe3c",
   "metadata": {},
   "outputs": [],
   "source": []
  }
 ],
 "metadata": {
  "kernelspec": {
   "display_name": "Python (scanpy_env_new)",
   "language": "python",
   "name": "scanpy_env_new"
  },
  "language_info": {
   "codemirror_mode": {
    "name": "ipython",
    "version": 3
   },
   "file_extension": ".py",
   "mimetype": "text/x-python",
   "name": "python",
   "nbconvert_exporter": "python",
   "pygments_lexer": "ipython3",
   "version": "3.9.18"
  }
 },
 "nbformat": 4,
 "nbformat_minor": 5
}
