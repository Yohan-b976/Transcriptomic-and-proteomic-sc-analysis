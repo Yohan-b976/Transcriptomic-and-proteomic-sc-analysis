{
 "cells": [
  {
   "cell_type": "code",
   "execution_count": 86,
   "id": "aeb9ac6c-833a-4c44-bfdf-46763869f035",
   "metadata": {},
   "outputs": [],
   "source": [
    "import scanpy as sc\n",
    "import os\n",
    "import seaborn as sns\n",
    "import matplotlib.pyplot as plt\n",
    "import pandas as pd"
   ]
  },
  {
   "cell_type": "code",
   "execution_count": 88,
   "id": "feef9f09-6504-44f3-a7b3-bc4b9c56141d",
   "metadata": {},
   "outputs": [],
   "source": [
    "import warnings \n",
    "warnings.simplefilter(\"ignore\", FutureWarning)\n",
    "warnings.simplefilter(\"ignore\", UserWarning)\n",
    "warnings.simplefilter(\"ignore\", RuntimeWarning)"
   ]
  },
  {
   "cell_type": "code",
   "execution_count": 90,
   "id": "d767237b-7f3b-4575-b819-7717ed3ac7cb",
   "metadata": {},
   "outputs": [
    {
     "data": {
      "text/plain": [
       "AnnData object with n_obs × n_vars = 18087 × 11004\n",
       "    obs: 'gene_ids', 'feature_types', 'genome'"
      ]
     },
     "execution_count": 90,
     "metadata": {},
     "output_type": "execute_result"
    }
   ],
   "source": [
    "adata = sc.read_10x_h5(\"/home/ybeaumatin/Documents/Dataset init/Raw data/cellranger_output/per_sample_outs/Inf_J3/count/sample_filtered_feature_bc_matrix.h5\").T\n",
    "adata"
   ]
  },
  {
   "cell_type": "code",
   "execution_count": 91,
   "id": "2f0a2753-f3f2-4643-98e5-5181a8c7dfb9",
   "metadata": {},
   "outputs": [
    {
     "data": {
      "text/html": [
       "<div>\n",
       "<style scoped>\n",
       "    .dataframe tbody tr th:only-of-type {\n",
       "        vertical-align: middle;\n",
       "    }\n",
       "\n",
       "    .dataframe tbody tr th {\n",
       "        vertical-align: top;\n",
       "    }\n",
       "\n",
       "    .dataframe thead th {\n",
       "        text-align: right;\n",
       "    }\n",
       "</style>\n",
       "<table border=\"1\" class=\"dataframe\">\n",
       "  <thead>\n",
       "    <tr style=\"text-align: right;\">\n",
       "      <th></th>\n",
       "      <th>gene_ids</th>\n",
       "      <th>feature_types</th>\n",
       "      <th>genome</th>\n",
       "    </tr>\n",
       "  </thead>\n",
       "  <tbody>\n",
       "    <tr>\n",
       "      <th>SAMD11</th>\n",
       "      <td>ENSG00000187634</td>\n",
       "      <td>Gene Expression</td>\n",
       "      <td>refdata-gex-GRCh38-2020-A_customprobe1</td>\n",
       "    </tr>\n",
       "    <tr>\n",
       "      <th>NOC2L</th>\n",
       "      <td>ENSG00000188976</td>\n",
       "      <td>Gene Expression</td>\n",
       "      <td>refdata-gex-GRCh38-2020-A_customprobe1</td>\n",
       "    </tr>\n",
       "    <tr>\n",
       "      <th>KLHL17</th>\n",
       "      <td>ENSG00000187961</td>\n",
       "      <td>Gene Expression</td>\n",
       "      <td>refdata-gex-GRCh38-2020-A_customprobe1</td>\n",
       "    </tr>\n",
       "    <tr>\n",
       "      <th>PLEKHN1</th>\n",
       "      <td>ENSG00000187583</td>\n",
       "      <td>Gene Expression</td>\n",
       "      <td>refdata-gex-GRCh38-2020-A_customprobe1</td>\n",
       "    </tr>\n",
       "    <tr>\n",
       "      <th>PERM1</th>\n",
       "      <td>ENSG00000187642</td>\n",
       "      <td>Gene Expression</td>\n",
       "      <td>refdata-gex-GRCh38-2020-A_customprobe1</td>\n",
       "    </tr>\n",
       "    <tr>\n",
       "      <th>...</th>\n",
       "      <td>...</td>\n",
       "      <td>...</td>\n",
       "      <td>...</td>\n",
       "    </tr>\n",
       "    <tr>\n",
       "      <th>EGFP</th>\n",
       "      <td>EGFP</td>\n",
       "      <td>Gene Expression</td>\n",
       "      <td>refdata-gex-GRCh38-2020-A_customprobe1</td>\n",
       "    </tr>\n",
       "    <tr>\n",
       "      <th>REPLI</th>\n",
       "      <td>REPLI</td>\n",
       "      <td>Gene Expression</td>\n",
       "      <td>refdata-gex-GRCh38-2020-A_customprobe1</td>\n",
       "    </tr>\n",
       "    <tr>\n",
       "      <th>GLYCO</th>\n",
       "      <td>GLYCO</td>\n",
       "      <td>Gene Expression</td>\n",
       "      <td>refdata-gex-GRCh38-2020-A_customprobe1</td>\n",
       "    </tr>\n",
       "    <tr>\n",
       "      <th>MEMB</th>\n",
       "      <td>MEMB</td>\n",
       "      <td>Gene Expression</td>\n",
       "      <td>refdata-gex-GRCh38-2020-A_customprobe1</td>\n",
       "    </tr>\n",
       "    <tr>\n",
       "      <th>NUCL</th>\n",
       "      <td>NUCL</td>\n",
       "      <td>Gene Expression</td>\n",
       "      <td>refdata-gex-GRCh38-2020-A_customprobe1</td>\n",
       "    </tr>\n",
       "  </tbody>\n",
       "</table>\n",
       "<p>18087 rows × 3 columns</p>\n",
       "</div>"
      ],
      "text/plain": [
       "                gene_ids    feature_types  \\\n",
       "SAMD11   ENSG00000187634  Gene Expression   \n",
       "NOC2L    ENSG00000188976  Gene Expression   \n",
       "KLHL17   ENSG00000187961  Gene Expression   \n",
       "PLEKHN1  ENSG00000187583  Gene Expression   \n",
       "PERM1    ENSG00000187642  Gene Expression   \n",
       "...                  ...              ...   \n",
       "EGFP                EGFP  Gene Expression   \n",
       "REPLI              REPLI  Gene Expression   \n",
       "GLYCO              GLYCO  Gene Expression   \n",
       "MEMB                MEMB  Gene Expression   \n",
       "NUCL                NUCL  Gene Expression   \n",
       "\n",
       "                                         genome  \n",
       "SAMD11   refdata-gex-GRCh38-2020-A_customprobe1  \n",
       "NOC2L    refdata-gex-GRCh38-2020-A_customprobe1  \n",
       "KLHL17   refdata-gex-GRCh38-2020-A_customprobe1  \n",
       "PLEKHN1  refdata-gex-GRCh38-2020-A_customprobe1  \n",
       "PERM1    refdata-gex-GRCh38-2020-A_customprobe1  \n",
       "...                                         ...  \n",
       "EGFP     refdata-gex-GRCh38-2020-A_customprobe1  \n",
       "REPLI    refdata-gex-GRCh38-2020-A_customprobe1  \n",
       "GLYCO    refdata-gex-GRCh38-2020-A_customprobe1  \n",
       "MEMB     refdata-gex-GRCh38-2020-A_customprobe1  \n",
       "NUCL     refdata-gex-GRCh38-2020-A_customprobe1  \n",
       "\n",
       "[18087 rows x 3 columns]"
      ]
     },
     "execution_count": 91,
     "metadata": {},
     "output_type": "execute_result"
    }
   ],
   "source": [
    "adata.obs"
   ]
  },
  {
   "cell_type": "code",
   "execution_count": 13,
   "id": "f321dec7-4a7b-4223-a55a-108a0e022f04",
   "metadata": {},
   "outputs": [
    {
     "data": {
      "text/html": [
       "<div>\n",
       "<style scoped>\n",
       "    .dataframe tbody tr th:only-of-type {\n",
       "        vertical-align: middle;\n",
       "    }\n",
       "\n",
       "    .dataframe tbody tr th {\n",
       "        vertical-align: top;\n",
       "    }\n",
       "\n",
       "    .dataframe thead th {\n",
       "        text-align: right;\n",
       "    }\n",
       "</style>\n",
       "<table border=\"1\" class=\"dataframe\">\n",
       "  <thead>\n",
       "    <tr style=\"text-align: right;\">\n",
       "      <th></th>\n",
       "    </tr>\n",
       "  </thead>\n",
       "  <tbody>\n",
       "    <tr>\n",
       "      <th>AAACAAGCAAGAACAAAGTAGGCT-1</th>\n",
       "    </tr>\n",
       "    <tr>\n",
       "      <th>AAACAAGCACAATGGCAGTAGGCT-1</th>\n",
       "    </tr>\n",
       "    <tr>\n",
       "      <th>AAACAAGCACACTAAGAGTAGGCT-1</th>\n",
       "    </tr>\n",
       "    <tr>\n",
       "      <th>AAACAAGCACCGTTTGAGTAGGCT-1</th>\n",
       "    </tr>\n",
       "    <tr>\n",
       "      <th>AAACAAGCACTTCGATAGTAGGCT-1</th>\n",
       "    </tr>\n",
       "    <tr>\n",
       "      <th>...</th>\n",
       "    </tr>\n",
       "    <tr>\n",
       "      <th>TTTGTGAGTCCTTATTAGTAGGCT-1</th>\n",
       "    </tr>\n",
       "    <tr>\n",
       "      <th>TTTGTGAGTCGAAGTAAGTAGGCT-1</th>\n",
       "    </tr>\n",
       "    <tr>\n",
       "      <th>TTTGTGAGTGCTGATTAGTAGGCT-1</th>\n",
       "    </tr>\n",
       "    <tr>\n",
       "      <th>TTTGTGAGTGTCCAATAGTAGGCT-1</th>\n",
       "    </tr>\n",
       "    <tr>\n",
       "      <th>TTTGTGAGTTTCCACCAGTAGGCT-1</th>\n",
       "    </tr>\n",
       "  </tbody>\n",
       "</table>\n",
       "<p>11004 rows × 0 columns</p>\n",
       "</div>"
      ],
      "text/plain": [
       "Empty DataFrame\n",
       "Columns: []\n",
       "Index: [AAACAAGCAAGAACAAAGTAGGCT-1, AAACAAGCACAATGGCAGTAGGCT-1, AAACAAGCACACTAAGAGTAGGCT-1, AAACAAGCACCGTTTGAGTAGGCT-1, AAACAAGCACTTCGATAGTAGGCT-1, AAACAAGCATGGTCAAAGTAGGCT-1, AAACCAATCAAACCGGAGTAGGCT-1, AAACCAATCAACTTGTAGTAGGCT-1, AAACCAATCACCTAATAGTAGGCT-1, AAACCAATCATAATCCAGTAGGCT-1, AAACCAATCCTTTGTCAGTAGGCT-1, AAACCAATCGAAGTTAAGTAGGCT-1, AAACCAATCTAGCGGAAGTAGGCT-1, AAACCAGGTCAGTGCCAGTAGGCT-1, AAACCAGGTGGATGCGAGTAGGCT-1, AAACCAGGTGTGGCTCAGTAGGCT-1, AAACCAGGTTAGGCGGAGTAGGCT-1, AAACCAGGTTCGGTCAAGTAGGCT-1, AAACCGGTCACAACAAAGTAGGCT-1, AAACCGGTCATCCCAAAGTAGGCT-1, AAACCGGTCGATTACTAGTAGGCT-1, AAACCGGTCGCAGGACAGTAGGCT-1, AAACGGGCAATCCACTAGTAGGCT-1, AAACGGGCAATCGTTCAGTAGGCT-1, AAACGGGCATCCACCAAGTAGGCT-1, AAACGGGCATCCCAATAGTAGGCT-1, AAACGGGCATGCCTCAAGTAGGCT-1, AAACGTTCATATTTCGAGTAGGCT-1, AAACGTTCATCATGTCAGTAGGCT-1, AAACGTTCATGTTTCAAGTAGGCT-1, AAACGTTCATTTCGCGAGTAGGCT-1, AAACTGGGTAGCCTTGAGTAGGCT-1, AAACTGGGTCATCAGTAGTAGGCT-1, AAACTGGGTCATGAAGAGTAGGCT-1, AAACTGGGTCCATAGTAGTAGGCT-1, AAACTGGGTGTTAGTCAGTAGGCT-1, AAACTGGGTTAAGTCCAGTAGGCT-1, AAACTGGGTTAGCGGGAGTAGGCT-1, AAACTGGGTTGTTGGTAGTAGGCT-1, AAACTGTCAAAGCCTAAGTAGGCT-1, AAACTGTCAAAGTGCCAGTAGGCT-1, AAACTGTCAACAGCACAGTAGGCT-1, AAACTGTCAAGTCGCGAGTAGGCT-1, AAACTGTCAAGTGCACAGTAGGCT-1, AAACTGTCACTTTACAAGTAGGCT-1, AAACTGTCAGGATGCTAGTAGGCT-1, AAACTGTCAGTAATACAGTAGGCT-1, AAACTGTCATCTATCAAGTAGGCT-1, AAACTGTCATTCAGGAAGTAGGCT-1, AAAGATGCAAACAAGAAGTAGGCT-1, AAAGATGCAACAGCACAGTAGGCT-1, AAAGATGCACAATCGAAGTAGGCT-1, AAAGATGCACCAACAAAGTAGGCT-1, AAAGATGCAGGCAACTAGTAGGCT-1, AAAGATGCATTACTTGAGTAGGCT-1, AAAGCATGTACGATTCAGTAGGCT-1, AAAGCATGTCAGGGCAAGTAGGCT-1, AAAGCATGTCATTATGAGTAGGCT-1, AAAGCATGTCGTTGCAAGTAGGCT-1, AAAGCATGTGATTAGGAGTAGGCT-1, AAAGCATGTGGGTGTGAGTAGGCT-1, AAAGCATGTTCCGCAAAGTAGGCT-1, AAAGCATGTTGTTGGTAGTAGGCT-1, AAAGCATGTTGTTTGAAGTAGGCT-1, AAAGCCTAGCAGCCAAAGTAGGCT-1, AAAGCCTAGCGAAGTTAGTAGGCT-1, AAAGCCTAGCTCGATCAGTAGGCT-1, AAAGCCTAGGTTTCGCAGTAGGCT-1, AAAGCCTAGTTACACTAGTAGGCT-1, AAAGCCTAGTTAGGCGAGTAGGCT-1, AAAGCCTAGTTTCAGTAGTAGGCT-1, AAAGCGAAGAGGTTTAAGTAGGCT-1, AAAGCGAAGATGAAGGAGTAGGCT-1, AAAGCGAAGGGATTTAAGTAGGCT-1, AAAGCGAAGTAATTGGAGTAGGCT-1, AAAGCGAAGTGATTAGAGTAGGCT-1, AAAGGCAAGACTAATGAGTAGGCT-1, AAAGGCAAGGAACTTAAGTAGGCT-1, AAAGGCAAGGCCTTCGAGTAGGCT-1, AAAGGCAAGTCTTGCAAGTAGGCT-1, AAAGGCTTCAAAGGGAAGTAGGCT-1, AAAGGCTTCCAAAGGTAGTAGGCT-1, AAAGGCTTCCATTAGTAGTAGGCT-1, AAAGGCTTCGACTTTGAGTAGGCT-1, AAAGGCTTCGTTCAATAGTAGGCT-1, AAAGGGATCAAGTTTCAGTAGGCT-1, AAAGGGATCATCCAGCAGTAGGCT-1, AAAGGGATCATGCGTCAGTAGGCT-1, AAAGGGATCCGCACCAAGTAGGCT-1, AAAGGGATCGATTATCAGTAGGCT-1, AAAGGGATCGGTACCTAGTAGGCT-1, AAAGGGATCTTTGGATAGTAGGCT-1, AAAGGTACAACAGCTAAGTAGGCT-1, AAAGGTACAAGCCACGAGTAGGCT-1, AAAGGTACACACTGGGAGTAGGCT-1, AAAGGTACATAGACCAAGTAGGCT-1, AAAGGTACATCGGGCAAGTAGGCT-1, AAAGGTACATGAGCTAAGTAGGCT-1, AAAGGTACATGGCCGAAGTAGGCT-1, AAAGGTGAGCGAAGAAAGTAGGCT-1, ...]\n",
       "\n",
       "[11004 rows x 0 columns]"
      ]
     },
     "execution_count": 13,
     "metadata": {},
     "output_type": "execute_result"
    }
   ],
   "source": [
    "adata.var"
   ]
  },
  {
   "cell_type": "code",
   "execution_count": 23,
   "id": "5124ba16-0cf7-440a-aadb-c6aa74e70d56",
   "metadata": {},
   "outputs": [
    {
     "data": {
      "text/plain": [
       "(18087, 11004)"
      ]
     },
     "execution_count": 23,
     "metadata": {},
     "output_type": "execute_result"
    }
   ],
   "source": [
    "adata.X.shape"
   ]
  },
  {
   "cell_type": "code",
   "execution_count": null,
   "id": "21f6d6e9-af6c-40f0-90a7-7121bc228f4e",
   "metadata": {},
   "outputs": [],
   "source": []
  },
  {
   "cell_type": "code",
   "execution_count": null,
   "id": "87f4b7f2-1080-44f3-903d-a7faa035e06b",
   "metadata": {},
   "outputs": [],
   "source": []
  },
  {
   "cell_type": "code",
   "execution_count": 107,
   "id": "43a563a7-ad7f-425e-94e2-d6637fdd3954",
   "metadata": {},
   "outputs": [],
   "source": [
    "path_files_h5 = '/home/ybeaumatin/Documents/Folder data processing/Data/Transcriptomic/Transcriptomic 1/h5_files'"
   ]
  },
  {
   "cell_type": "code",
   "execution_count": 149,
   "id": "8944df3e-20e1-4389-9ab0-1874b5deef68",
   "metadata": {},
   "outputs": [],
   "source": [
    "adatas = [x for x in os.listdir(path_files_h5 ) \n",
    "          if x.endswith('.h5')]"
   ]
  },
  {
   "cell_type": "code",
   "execution_count": 151,
   "id": "da3bdf5f-839c-444e-b640-ba6ec28fb245",
   "metadata": {},
   "outputs": [
    {
     "data": {
      "text/plain": [
       "['sample_filtered_feature_bc_matrix_Mock_J3_.h5',\n",
       " 'sample_filtered_feature_bc_matrix_Mock_J6_.h5',\n",
       " 'sample_filtered_feature_bc_matrix_Inf_J3_.h5',\n",
       " 'sample_filtered_feature_bc_matrix_Inf_J6_.h5']"
      ]
     },
     "execution_count": 151,
     "metadata": {},
     "output_type": "execute_result"
    }
   ],
   "source": [
    "adatas"
   ]
  },
  {
   "cell_type": "code",
   "execution_count": null,
   "id": "3f80881a-9745-46a1-a25f-14fa7d7daa3b",
   "metadata": {},
   "outputs": [],
   "source": []
  },
  {
   "cell_type": "code",
   "execution_count": 154,
   "id": "0a98356a-aa5f-425a-83d3-0a3ef20d3fd8",
   "metadata": {},
   "outputs": [],
   "source": [
    "def load_it(adata):\n",
    "    samp= adata.split('_')[5]\n",
    "    dpi = adata.split('_')[6]\n",
    "    adata = sc.read_10x_h5(path_files_h5 + '/' + adata)\n",
    "    adata.obs['Sample'] = samp\n",
    "    adata.obs['dpi'] = dpi\n",
    "    adata.obs['Id'] = adata.obs['Sample'] + '_' + adata.obs['dpi']\n",
    "    adata.obs.index = adata.obs.index + '-' + samp + '_' + dpi\n",
    "    return adata"
   ]
  },
  {
   "cell_type": "code",
   "execution_count": 156,
   "id": "0dd76834-e36a-4cd7-a670-c980ed6bc360",
   "metadata": {},
   "outputs": [],
   "source": [
    "adatas = [load_it(ad) for ad in adatas]"
   ]
  },
  {
   "cell_type": "code",
   "execution_count": 157,
   "id": "fecab33f-57bd-4ecc-895b-48f0a404620c",
   "metadata": {},
   "outputs": [
    {
     "data": {
      "text/plain": [
       "[AnnData object with n_obs × n_vars = 10542 × 18087\n",
       "     obs: 'Sample', 'dpi', 'Id'\n",
       "     var: 'gene_ids', 'feature_types', 'genome',\n",
       " AnnData object with n_obs × n_vars = 8525 × 18087\n",
       "     obs: 'Sample', 'dpi', 'Id'\n",
       "     var: 'gene_ids', 'feature_types', 'genome',\n",
       " AnnData object with n_obs × n_vars = 11004 × 18087\n",
       "     obs: 'Sample', 'dpi', 'Id'\n",
       "     var: 'gene_ids', 'feature_types', 'genome',\n",
       " AnnData object with n_obs × n_vars = 9137 × 18087\n",
       "     obs: 'Sample', 'dpi', 'Id'\n",
       "     var: 'gene_ids', 'feature_types', 'genome']"
      ]
     },
     "execution_count": 157,
     "metadata": {},
     "output_type": "execute_result"
    }
   ],
   "source": [
    "adatas"
   ]
  },
  {
   "cell_type": "code",
   "execution_count": 158,
   "id": "d7ecf788-a684-4746-98cd-8808e4a14c20",
   "metadata": {},
   "outputs": [
    {
     "data": {
      "text/plain": [
       "AAACAAGCAAATCACGAACGGGAA-1-Mock_J6    Mock_J6\n",
       "AAACAAGCACACTAAGAACGGGAA-1-Mock_J6    Mock_J6\n",
       "AAACAAGCACGGATACAACGGGAA-1-Mock_J6    Mock_J6\n",
       "AAACCAATCAAGCGATAACGGGAA-1-Mock_J6    Mock_J6\n",
       "AAACCAATCACCTAATAACGGGAA-1-Mock_J6    Mock_J6\n",
       "                                       ...   \n",
       "TTTGGACGTGTGATGAAACGGGAA-1-Mock_J6    Mock_J6\n",
       "TTTGGCGGTAACTACCAACGGGAA-1-Mock_J6    Mock_J6\n",
       "TTTGTGAGTATTGTCAAACGGGAA-1-Mock_J6    Mock_J6\n",
       "TTTGTGAGTGAGAAGGAACGGGAA-1-Mock_J6    Mock_J6\n",
       "TTTGTGAGTGCGTACCAACGGGAA-1-Mock_J6    Mock_J6\n",
       "Name: Id, Length: 8525, dtype: object"
      ]
     },
     "execution_count": 158,
     "metadata": {},
     "output_type": "execute_result"
    }
   ],
   "source": [
    "adatas[1].obs['Id']"
   ]
  },
  {
   "cell_type": "code",
   "execution_count": 167,
   "id": "ec7ff42d-1120-4e34-a19e-5777255ae9d5",
   "metadata": {},
   "outputs": [],
   "source": [
    "def qc(adata):\n",
    "    sc.pp.filter_cells(adata, min_genes = 200)\n",
    "    adata.var[\"mt\"] = adata.var_names.str.startswith(\"MT-\")\n",
    "    adata.var[\"ribo\"] = adata.var_names.str.startswith(\"RPS\", \"RPL\")\n",
    "    adata.var[\"hb\"] = adata.var_names.str.startswith(\"^HB[^(P)]\")\n",
    "    sc.pp.calculate_qc_metrics(adata,qc_vars=[\"mt\",\"ribo\",\"hb\"], inplace = True, percent_top = [20], log1p=True)\n",
    "\n",
    "    remove = ['total_counts_mt', 'log1p_total_counts_mt', 'total_counts_ribo',\n",
    "              'log1p_total_counts_ribo','total_counts_hb','log1p_total_counts_hb']\n",
    "\n",
    "    adata.obs = adata.obs[[x for x in adata.obs.columns if x not in remove]]\n",
    "    return adata"
   ]
  },
  {
   "cell_type": "code",
   "execution_count": null,
   "id": "57786ab1-a5ac-4f58-ba25-f006902f3627",
   "metadata": {},
   "outputs": [],
   "source": []
  },
  {
   "cell_type": "code",
   "execution_count": 170,
   "id": "9872cefd-e793-426c-85be-9dd8d82943b8",
   "metadata": {},
   "outputs": [],
   "source": [
    "adatas = [qc(ad) for ad in adatas]"
   ]
  },
  {
   "cell_type": "code",
   "execution_count": null,
   "id": "ae9db384-a565-46c0-b21c-dcb819cf0b3d",
   "metadata": {},
   "outputs": [],
   "source": []
  },
  {
   "cell_type": "code",
   "execution_count": null,
   "id": "cfb21820-b102-4701-9040-8c7543367d21",
   "metadata": {},
   "outputs": [],
   "source": []
  },
  {
   "cell_type": "code",
   "execution_count": 181,
   "id": "6318c685-2147-49d4-b3b6-bfc7a1990f0f",
   "metadata": {},
   "outputs": [],
   "source": [
    "df = pd.concat([x.obs for x in adatas])"
   ]
  },
  {
   "cell_type": "code",
   "execution_count": 207,
   "id": "5117a6d8-d98f-4bfe-a953-9589963d0294",
   "metadata": {},
   "outputs": [],
   "source": [
    "df = df.sort_values('Id')"
   ]
  },
  {
   "cell_type": "code",
   "execution_count": null,
   "id": "538643eb-38d4-4d25-8d84-b78501868b07",
   "metadata": {},
   "outputs": [],
   "source": []
  },
  {
   "cell_type": "code",
   "execution_count": null,
   "id": "4e357f75-7edf-49a2-8434-f8b6db93bc65",
   "metadata": {},
   "outputs": [],
   "source": []
  },
  {
   "cell_type": "code",
   "execution_count": 209,
   "id": "7e0a6975-79e8-49df-b091-10a13d45d0e0",
   "metadata": {},
   "outputs": [
    {
     "data": {
      "image/png": "[encoded data removed]",
      "text/plain": [
       "<Figure size 750x200 with 4 Axes>"
      ]
     },
     "metadata": {},
     "output_type": "display_data"
    }
   ],
   "source": [
    "value = \"log1p_total_counts\"\n",
    "\n",
    "sns.set(style=\"white\", rc={\"axes.facecolor\": (0, 0, 0, 0)})\n",
    "\n",
    "g = sns.FacetGrid(df, row=\"Id\", hue=\"Id\", aspect=15, height=0.5, palette=\"tab20\")\n",
    "\n",
    "g.map(sns.kdeplot, value, clip_on=False, fill=True, alpha=1, linewidth=1.5)\n",
    "g.map(sns.kdeplot, value, clip_on=False, color=\"w\", lw=2)\n",
    "\n",
    "g.map(plt.axhline, y=0, lw=2, clip_on=False)\n",
    "\n",
    "def label(x, color, label):\n",
    "    ax = plt.gca()\n",
    "    ax.text(0, .2, label, fontweight=\"bold\", color=color,\n",
    "            ha=\"left\", va=\"center\", transform=ax.transAxes)\n",
    "\n",
    "g.map(label, value)\n",
    "\n",
    "g.figure.subplots_adjust(hspace=-.6)\n",
    "\n",
    "g.set_titles(\"\")\n",
    "g.set(yticks=[], ylabel=\"\")\n",
    "g.despine(bottom=True, left=True)\n",
    "\n",
    "for ax in g.axes.flat:\n",
    "    ax.axvline(x=df[value].median(), color='r', linestyle='-')\n",
    "\n",
    "\n",
    "plt.show()"
   ]
  },
  {
   "cell_type": "code",
   "execution_count": 211,
   "id": "8e97c743-cc7b-4ba0-ad48-f983c8f4d5ea",
   "metadata": {},
   "outputs": [
    {
     "data": {
      "image/png": "[encoded data removed]",
      "text/plain": [
       "<Figure size 750x200 with 4 Axes>"
      ]
     },
     "metadata": {},
     "output_type": "display_data"
    }
   ],
   "source": [
    "value = 'pct_counts_in_top_20_genes'\n",
    "\n",
    "\n",
    "sns.set(style=\"white\", rc={\"axes.facecolor\": (0, 0, 0, 0)})\n",
    "\n",
    "g = sns.FacetGrid(df, row=\"Id\", hue=\"Id\", aspect=15, height=0.5, palette=\"tab20\")\n",
    "\n",
    "g.map(sns.kdeplot, value, clip_on=False, fill=True, alpha=1, linewidth=1.5)\n",
    "g.map(sns.kdeplot, value, clip_on=False, color=\"w\", lw=2)\n",
    "\n",
    "g.map(plt.axhline, y=0, lw=2, clip_on=False)\n",
    "\n",
    "def label(x, color, label):\n",
    "    ax = plt.gca()\n",
    "    ax.text(0, .2, label, fontweight=\"bold\", color=color,\n",
    "            ha=\"left\", va=\"center\", transform=ax.transAxes)\n",
    "\n",
    "g.map(label, value)\n",
    "\n",
    "g.figure.subplots_adjust(hspace=-.6)\n",
    "\n",
    "g.set_titles(\"\")\n",
    "g.set(yticks=[], ylabel=\"\")\n",
    "g.despine(bottom=True, left=True)\n",
    "\n",
    "for ax in g.axes.flat:\n",
    "    ax.axvline(x=df[value].median(), color='r', linestyle='-')\n",
    "\n",
    "\n",
    "plt.show()"
   ]
  },
  {
   "cell_type": "code",
   "execution_count": 213,
   "id": "d24d1435-2820-4821-ad67-d1e9ccbab0fd",
   "metadata": {},
   "outputs": [
    {
     "data": {
      "image/png": "[encoded data removed]",
      "text/plain": [
       "<Figure size 750x200 with 4 Axes>"
      ]
     },
     "metadata": {},
     "output_type": "display_data"
    }
   ],
   "source": [
    "value = \"n_genes\"\n",
    "\n",
    "\n",
    "\n",
    "sns.set(style=\"white\", rc={\"axes.facecolor\": (0, 0, 0, 0)})\n",
    "\n",
    "g = sns.FacetGrid(df, row=\"Id\", hue=\"Id\", aspect=15, height=0.5, palette=\"tab20\")\n",
    "\n",
    "g.map(sns.kdeplot, value, clip_on=False, fill=True, alpha=1, linewidth=1.5)\n",
    "g.map(sns.kdeplot, value, clip_on=False, color=\"w\", lw=2)\n",
    "\n",
    "g.map(plt.axhline, y=0, lw=2, clip_on=False)\n",
    "\n",
    "def label(x, color, label):\n",
    "    ax = plt.gca()\n",
    "    ax.text(0, .2, label, fontweight=\"bold\", color=color,\n",
    "            ha=\"left\", va=\"center\", transform=ax.transAxes)\n",
    "\n",
    "g.map(label, value)\n",
    "\n",
    "g.figure.subplots_adjust(hspace=-.6)\n",
    "\n",
    "g.set_titles(\"\")\n",
    "g.set(yticks=[], ylabel=\"\")\n",
    "g.despine(bottom=True, left=True)\n",
    "\n",
    "for ax in g.axes.flat:\n",
    "    ax.axvline(x=df[value].median(), color='r', linestyle='-')\n",
    "\n",
    "\n",
    "plt.show()"
   ]
  },
  {
   "cell_type": "code",
   "execution_count": 215,
   "id": "6a547aec-bf94-4107-863b-28973746b571",
   "metadata": {},
   "outputs": [
    {
     "data": {
      "image/png": "[encoded data removed]",
      "text/plain": [
       "<Figure size 750x200 with 4 Axes>"
      ]
     },
     "metadata": {},
     "output_type": "display_data"
    }
   ],
   "source": [
    "value = \"pct_counts_mt\"\n",
    "\n",
    "\n",
    "\n",
    "\n",
    "sns.set(style=\"white\", rc={\"axes.facecolor\": (0, 0, 0, 0)})\n",
    "\n",
    "g = sns.FacetGrid(df, row=\"Id\", hue=\"Id\", aspect=15, height=0.5, palette=\"tab20\")\n",
    "\n",
    "g.map(sns.kdeplot, value, clip_on=False, fill=True, alpha=1, linewidth=1.5)\n",
    "g.map(sns.kdeplot, value, clip_on=False, color=\"w\", lw=2)\n",
    "\n",
    "g.map(plt.axhline, y=0, lw=2, clip_on=False)\n",
    "\n",
    "def label(x, color, label):\n",
    "    ax = plt.gca()\n",
    "    ax.text(0, .2, label, fontweight=\"bold\", color=color,\n",
    "            ha=\"left\", va=\"center\", transform=ax.transAxes)\n",
    "\n",
    "g.map(label, value)\n",
    "\n",
    "g.figure.subplots_adjust(hspace=-.6)\n",
    "\n",
    "g.set_titles(\"\")\n",
    "g.set(yticks=[], ylabel=\"\")\n",
    "g.despine(bottom=True, left=True)\n",
    "\n",
    "for ax in g.axes.flat:\n",
    "    ax.axvline(x=df[value].median(), color='r', linestyle='-')\n",
    "\n",
    "\n",
    "plt.show()"
   ]
  },
  {
   "cell_type": "code",
   "execution_count": null,
   "id": "ec990709-47dc-4c25-b089-60693ba8b76b",
   "metadata": {},
   "outputs": [],
   "source": []
  },
  {
   "cell_type": "code",
   "execution_count": null,
   "id": "82646f7c-54a5-49ff-a4b5-0ea0646d7bf6",
   "metadata": {},
   "outputs": [],
   "source": []
  },
  {
   "cell_type": "code",
   "execution_count": 195,
   "id": "48932361-1e83-42a3-aca1-6c931bd749c3",
   "metadata": {},
   "outputs": [],
   "source": [
    "import doubletdetection\n",
    "from scipy.stats import median_abs_deviation as mad\n",
    "import numpy as np"
   ]
  },
  {
   "cell_type": "code",
   "execution_count": null,
   "id": "d063af9e-4f5f-4716-8fd5-af9709512fbc",
   "metadata": {},
   "outputs": [],
   "source": []
  },
  {
   "cell_type": "code",
   "execution_count": 250,
   "id": "a99bb2f8-a04f-4d35-8cf0-120fb9c4af93",
   "metadata": {},
   "outputs": [],
   "source": [
    "a = df[df.Id == 'Mock_J3'].log1p_total_counts"
   ]
  },
  {
   "cell_type": "code",
   "execution_count": 252,
   "id": "52db6078-009c-4749-90bc-45552ae57387",
   "metadata": {},
   "outputs": [
    {
     "data": {
      "text/plain": [
       "9.575261"
      ]
     },
     "execution_count": 252,
     "metadata": {},
     "output_type": "execute_result"
    }
   ],
   "source": [
    "np.median(a)"
   ]
  },
  {
   "cell_type": "code",
   "execution_count": 254,
   "id": "61b392e2-7a1c-4abb-8895-f5ed6a5732a7",
   "metadata": {},
   "outputs": [
    {
     "data": {
      "text/plain": [
       "7.89164924621582"
      ]
     },
     "execution_count": 254,
     "metadata": {},
     "output_type": "execute_result"
    }
   ],
   "source": [
    "np.median(a) - 5 * mad(a)"
   ]
  },
  {
   "cell_type": "code",
   "execution_count": 256,
   "id": "5af33dc1-fd84-47a5-a7ab-f227e0fe819f",
   "metadata": {},
   "outputs": [
    {
     "data": {
      "text/plain": [
       "11.258872985839844"
      ]
     },
     "execution_count": 256,
     "metadata": {},
     "output_type": "execute_result"
    }
   ],
   "source": [
    "np.median(a) + 5 * mad(a)"
   ]
  },
  {
   "cell_type": "code",
   "execution_count": 258,
   "id": "66be803f-d3a3-4b12-86f5-a78c79107a40",
   "metadata": {},
   "outputs": [
    {
     "data": {
      "image/png": "[encoded data removed]",
      "text/plain": [
       "<Figure size 500x500 with 1 Axes>"
      ]
     },
     "metadata": {},
     "output_type": "display_data"
    }
   ],
   "source": [
    "ax = sns.displot(a)\n",
    "\n",
    "plt.axvline(np.median(a) - 5 * mad(a))\n",
    "plt.axvline(np.median(a) + 5 * mad(a))\n",
    "\n",
    "plt.show()"
   ]
  },
  {
   "cell_type": "code",
   "execution_count": null,
   "id": "8e1e55c7-b0da-480a-af68-8a392ad41b23",
   "metadata": {},
   "outputs": [],
   "source": []
  },
  {
   "cell_type": "code",
   "execution_count": 272,
   "id": "fa86547f-bb7b-47fa-a707-e1d59f57b0af",
   "metadata": {},
   "outputs": [],
   "source": [
    "def mad_outlier(adata, metric, nmads, upper_only = False):\n",
    "    M = adata.obs[metric]\n",
    "    \n",
    "    if not upper_only:\n",
    "        return (M < np.median(M) - nmads * mad(M)) | (M > np.median(M) + nmads * mad(M))\n",
    "    \n",
    "    return (M > np.median(M) + nmads * mad(M))"
   ]
  },
  {
   "cell_type": "code",
   "execution_count": 274,
   "id": "587a5d44-2e8e-40fa-8db8-8caafb0a5c42",
   "metadata": {},
   "outputs": [],
   "source": [
    "clf = doubletdetection.BoostClassifier(\n",
    "    n_iters=10,\n",
    "    clustering_algorithm=\"louvain\",\n",
    "    standard_scaling=True,\n",
    "    pseudocount=0.1,\n",
    "    n_jobs=-1)"
   ]
  },
  {
   "cell_type": "code",
   "execution_count": 276,
   "id": "d6affa57-d4d3-4be5-8c0f-91591d3f438b",
   "metadata": {},
   "outputs": [],
   "source": [
    "def pp(adata):\n",
    "    adata = adata[adata.obs.pct_counts_mt < 25] #you can lower this based on the overal distribution of your dataset\n",
    "    \n",
    "    bool_vector = mad_outlier(adata, 'log1p_total_counts', 5) +\\\n",
    "            mad_outlier(adata, 'log1p_n_genes_by_counts', 5) +\\\n",
    "            mad_outlier(adata, 'pct_counts_in_top_20_genes', 5) +\\\n",
    "            mad_outlier(adata, 'pct_counts_mt', 3, upper_only = True)\n",
    "    adata = adata[~bool_vector]\n",
    "\n",
    "    adata.uns['cells_removed'] = sum(bool_vector)\n",
    "\n",
    "    doublets = clf.fit(adata.X).predict(p_thresh=1e-16, voter_thresh=0.5)\n",
    "    doublet_score = clf.doublet_score()\n",
    "\n",
    "    adata.obs[\"doublet\"] = doublets\n",
    "    adata.obs[\"doublet_score\"] = doublet_score\n",
    "\n",
    "    adata.uns['doublets_removed'] = adata.obs.doublet.sum()\n",
    "    adata = adata[adata.obs.doublet == 0]\n",
    "\n",
    "    return adata"
   ]
  },
  {
   "cell_type": "code",
   "execution_count": 280,
   "id": "09bee1e4-e537-4486-8257-2fdc7467e9ee",
   "metadata": {},
   "outputs": [
    {
     "data": {
      "application/vnd.jupyter.widget-view+json": {
       "model_id": "d0c2d2d94df2488e806206e0b9e45a27",
       "version_major": 2,
       "version_minor": 0
      },
      "text/plain": [
       "  0%|          | 0/10 [00:00<?, ?it/s]"
      ]
     },
     "metadata": {},
     "output_type": "display_data"
    },
    {
     "ename": "KeyboardInterrupt",
     "evalue": "",
     "output_type": "error",
     "traceback": [
      "\u001b[0;31m---------------------------------------------------------------------------\u001b[0m",
      "\u001b[0;31mKeyboardInterrupt\u001b[0m                         Traceback (most recent call last)",
      "Cell \u001b[0;32mIn[280], line 1\u001b[0m\n\u001b[0;32m----> 1\u001b[0m adatas \u001b[38;5;241m=\u001b[39m [pp(ad) \u001b[38;5;28;01mfor\u001b[39;00m ad \u001b[38;5;129;01min\u001b[39;00m adatas]\n",
      "Cell \u001b[0;32mIn[280], line 1\u001b[0m, in \u001b[0;36m<listcomp>\u001b[0;34m(.0)\u001b[0m\n\u001b[0;32m----> 1\u001b[0m adatas \u001b[38;5;241m=\u001b[39m [\u001b[43mpp\u001b[49m\u001b[43m(\u001b[49m\u001b[43mad\u001b[49m\u001b[43m)\u001b[49m \u001b[38;5;28;01mfor\u001b[39;00m ad \u001b[38;5;129;01min\u001b[39;00m adatas]\n",
      "Cell \u001b[0;32mIn[276], line 12\u001b[0m, in \u001b[0;36mpp\u001b[0;34m(adata)\u001b[0m\n\u001b[1;32m      8\u001b[0m adata \u001b[38;5;241m=\u001b[39m adata[\u001b[38;5;241m~\u001b[39mbool_vector]\n\u001b[1;32m     10\u001b[0m adata\u001b[38;5;241m.\u001b[39muns[\u001b[38;5;124m'\u001b[39m\u001b[38;5;124mcells_removed\u001b[39m\u001b[38;5;124m'\u001b[39m] \u001b[38;5;241m=\u001b[39m \u001b[38;5;28msum\u001b[39m(bool_vector)\n\u001b[0;32m---> 12\u001b[0m doublets \u001b[38;5;241m=\u001b[39m \u001b[43mclf\u001b[49m\u001b[38;5;241;43m.\u001b[39;49m\u001b[43mfit\u001b[49m\u001b[43m(\u001b[49m\u001b[43madata\u001b[49m\u001b[38;5;241;43m.\u001b[39;49m\u001b[43mX\u001b[49m\u001b[43m)\u001b[49m\u001b[38;5;241m.\u001b[39mpredict(p_thresh\u001b[38;5;241m=\u001b[39m\u001b[38;5;241m1e-16\u001b[39m, voter_thresh\u001b[38;5;241m=\u001b[39m\u001b[38;5;241m0.5\u001b[39m)\n\u001b[1;32m     13\u001b[0m doublet_score \u001b[38;5;241m=\u001b[39m clf\u001b[38;5;241m.\u001b[39mdoublet_score()\n\u001b[1;32m     15\u001b[0m adata\u001b[38;5;241m.\u001b[39mobs[\u001b[38;5;124m\"\u001b[39m\u001b[38;5;124mdoublet\u001b[39m\u001b[38;5;124m\"\u001b[39m] \u001b[38;5;241m=\u001b[39m doublets\n",
      "File \u001b[0;32m~/anaconda3/envs/scanpy_env_new/lib/python3.9/site-packages/doubletdetection/doubletdetection.py:208\u001b[0m, in \u001b[0;36mBoostClassifier.fit\u001b[0;34m(self, raw_counts)\u001b[0m\n\u001b[1;32m    206\u001b[0m \u001b[38;5;28;01mif\u001b[39;00m \u001b[38;5;28mself\u001b[39m\u001b[38;5;241m.\u001b[39mverbose:\n\u001b[1;32m    207\u001b[0m     \u001b[38;5;28mprint\u001b[39m(\u001b[38;5;124m\"\u001b[39m\u001b[38;5;124mIteration \u001b[39m\u001b[38;5;132;01m{:3}\u001b[39;00m\u001b[38;5;124m/\u001b[39m\u001b[38;5;132;01m{}\u001b[39;00m\u001b[38;5;124m\"\u001b[39m\u001b[38;5;241m.\u001b[39mformat(i \u001b[38;5;241m+\u001b[39m \u001b[38;5;241m1\u001b[39m, \u001b[38;5;28mself\u001b[39m\u001b[38;5;241m.\u001b[39mn_iters))\n\u001b[0;32m--> 208\u001b[0m \u001b[38;5;28mself\u001b[39m\u001b[38;5;241m.\u001b[39mall_scores_[i], \u001b[38;5;28mself\u001b[39m\u001b[38;5;241m.\u001b[39mall_log_p_values_[i] \u001b[38;5;241m=\u001b[39m \u001b[38;5;28;43mself\u001b[39;49m\u001b[38;5;241;43m.\u001b[39;49m\u001b[43m_one_fit\u001b[49m\u001b[43m(\u001b[49m\u001b[43m)\u001b[49m\n\u001b[1;32m    209\u001b[0m all_communities[i] \u001b[38;5;241m=\u001b[39m \u001b[38;5;28mself\u001b[39m\u001b[38;5;241m.\u001b[39mcommunities_\n\u001b[1;32m    210\u001b[0m all_parents\u001b[38;5;241m.\u001b[39mappend(\u001b[38;5;28mself\u001b[39m\u001b[38;5;241m.\u001b[39mparents_)\n",
      "File \u001b[0;32m~/anaconda3/envs/scanpy_env_new/lib/python3.9/site-packages/doubletdetection/doubletdetection.py:344\u001b[0m, in \u001b[0;36mBoostClassifier._one_fit\u001b[0;34m(self)\u001b[0m\n\u001b[1;32m    342\u001b[0m \u001b[38;5;28;01melse\u001b[39;00m:\n\u001b[1;32m    343\u001b[0m     clus \u001b[38;5;241m=\u001b[39m sc\u001b[38;5;241m.\u001b[39mtl\u001b[38;5;241m.\u001b[39mleiden\n\u001b[0;32m--> 344\u001b[0m \u001b[43msc\u001b[49m\u001b[38;5;241;43m.\u001b[39;49m\u001b[43mpp\u001b[49m\u001b[38;5;241;43m.\u001b[39;49m\u001b[43mneighbors\u001b[49m\u001b[43m(\u001b[49m\n\u001b[1;32m    345\u001b[0m \u001b[43m    \u001b[49m\u001b[43maug_counts\u001b[49m\u001b[43m,\u001b[49m\n\u001b[1;32m    346\u001b[0m \u001b[43m    \u001b[49m\u001b[43mrandom_state\u001b[49m\u001b[38;5;241;43m=\u001b[39;49m\u001b[38;5;28;43mself\u001b[39;49m\u001b[38;5;241;43m.\u001b[39;49m\u001b[43mrandom_state\u001b[49m\u001b[43m,\u001b[49m\n\u001b[1;32m    347\u001b[0m \u001b[43m    \u001b[49m\u001b[43mmethod\u001b[49m\u001b[38;5;241;43m=\u001b[39;49m\u001b[38;5;124;43m\"\u001b[39;49m\u001b[38;5;124;43mumap\u001b[39;49m\u001b[38;5;124;43m\"\u001b[39;49m\u001b[43m,\u001b[49m\n\u001b[1;32m    348\u001b[0m \u001b[43m    \u001b[49m\u001b[43mn_neighbors\u001b[49m\u001b[38;5;241;43m=\u001b[39;49m\u001b[38;5;241;43m10\u001b[39;49m\u001b[43m,\u001b[49m\n\u001b[1;32m    349\u001b[0m \u001b[43m\u001b[49m\u001b[43m)\u001b[49m\n\u001b[1;32m    350\u001b[0m clus(\n\u001b[1;32m    351\u001b[0m     aug_counts,\n\u001b[1;32m    352\u001b[0m     key_added\u001b[38;5;241m=\u001b[39m\u001b[38;5;124m\"\u001b[39m\u001b[38;5;124mclusters\u001b[39m\u001b[38;5;124m\"\u001b[39m,\n\u001b[1;32m    353\u001b[0m     random_state\u001b[38;5;241m=\u001b[39m\u001b[38;5;28mself\u001b[39m\u001b[38;5;241m.\u001b[39mrandom_state,\n\u001b[1;32m    354\u001b[0m     \u001b[38;5;241m*\u001b[39m\u001b[38;5;241m*\u001b[39m\u001b[38;5;28mself\u001b[39m\u001b[38;5;241m.\u001b[39mclustering_kwargs,\n\u001b[1;32m    355\u001b[0m )\n\u001b[1;32m    356\u001b[0m fullcommunities \u001b[38;5;241m=\u001b[39m np\u001b[38;5;241m.\u001b[39marray(aug_counts\u001b[38;5;241m.\u001b[39mobs[\u001b[38;5;124m\"\u001b[39m\u001b[38;5;124mclusters\u001b[39m\u001b[38;5;124m\"\u001b[39m], dtype\u001b[38;5;241m=\u001b[39m\u001b[38;5;28mint\u001b[39m)\n",
      "File \u001b[0;32m~/anaconda3/envs/scanpy_env_new/lib/python3.9/site-packages/scanpy/neighbors/__init__.py:191\u001b[0m, in \u001b[0;36mneighbors\u001b[0;34m(adata, n_neighbors, n_pcs, use_rep, knn, method, transformer, metric, metric_kwds, random_state, key_added, copy)\u001b[0m\n\u001b[1;32m    189\u001b[0m     adata\u001b[38;5;241m.\u001b[39m_init_as_actual(adata\u001b[38;5;241m.\u001b[39mcopy())\n\u001b[1;32m    190\u001b[0m neighbors \u001b[38;5;241m=\u001b[39m Neighbors(adata)\n\u001b[0;32m--> 191\u001b[0m \u001b[43mneighbors\u001b[49m\u001b[38;5;241;43m.\u001b[39;49m\u001b[43mcompute_neighbors\u001b[49m\u001b[43m(\u001b[49m\n\u001b[1;32m    192\u001b[0m \u001b[43m    \u001b[49m\u001b[43mn_neighbors\u001b[49m\u001b[43m,\u001b[49m\n\u001b[1;32m    193\u001b[0m \u001b[43m    \u001b[49m\u001b[43mn_pcs\u001b[49m\u001b[38;5;241;43m=\u001b[39;49m\u001b[43mn_pcs\u001b[49m\u001b[43m,\u001b[49m\n\u001b[1;32m    194\u001b[0m \u001b[43m    \u001b[49m\u001b[43muse_rep\u001b[49m\u001b[38;5;241;43m=\u001b[39;49m\u001b[43muse_rep\u001b[49m\u001b[43m,\u001b[49m\n\u001b[1;32m    195\u001b[0m \u001b[43m    \u001b[49m\u001b[43mknn\u001b[49m\u001b[38;5;241;43m=\u001b[39;49m\u001b[43mknn\u001b[49m\u001b[43m,\u001b[49m\n\u001b[1;32m    196\u001b[0m \u001b[43m    \u001b[49m\u001b[43mmethod\u001b[49m\u001b[38;5;241;43m=\u001b[39;49m\u001b[43mmethod\u001b[49m\u001b[43m,\u001b[49m\n\u001b[1;32m    197\u001b[0m \u001b[43m    \u001b[49m\u001b[43mtransformer\u001b[49m\u001b[38;5;241;43m=\u001b[39;49m\u001b[43mtransformer\u001b[49m\u001b[43m,\u001b[49m\n\u001b[1;32m    198\u001b[0m \u001b[43m    \u001b[49m\u001b[43mmetric\u001b[49m\u001b[38;5;241;43m=\u001b[39;49m\u001b[43mmetric\u001b[49m\u001b[43m,\u001b[49m\n\u001b[1;32m    199\u001b[0m \u001b[43m    \u001b[49m\u001b[43mmetric_kwds\u001b[49m\u001b[38;5;241;43m=\u001b[39;49m\u001b[43mmetric_kwds\u001b[49m\u001b[43m,\u001b[49m\n\u001b[1;32m    200\u001b[0m \u001b[43m    \u001b[49m\u001b[43mrandom_state\u001b[49m\u001b[38;5;241;43m=\u001b[39;49m\u001b[43mrandom_state\u001b[49m\u001b[43m,\u001b[49m\n\u001b[1;32m    201\u001b[0m \u001b[43m\u001b[49m\u001b[43m)\u001b[49m\n\u001b[1;32m    203\u001b[0m \u001b[38;5;28;01mif\u001b[39;00m key_added \u001b[38;5;129;01mis\u001b[39;00m \u001b[38;5;28;01mNone\u001b[39;00m:\n\u001b[1;32m    204\u001b[0m     key_added \u001b[38;5;241m=\u001b[39m \u001b[38;5;124m\"\u001b[39m\u001b[38;5;124mneighbors\u001b[39m\u001b[38;5;124m\"\u001b[39m\n",
      "File \u001b[0;32m~/anaconda3/envs/scanpy_env_new/lib/python3.9/site-packages/scanpy/neighbors/__init__.py:576\u001b[0m, in \u001b[0;36mNeighbors.compute_neighbors\u001b[0;34m(self, n_neighbors, n_pcs, use_rep, knn, method, transformer, metric, metric_kwds, random_state)\u001b[0m\n\u001b[1;32m    574\u001b[0m \u001b[38;5;28mself\u001b[39m\u001b[38;5;241m.\u001b[39mknn \u001b[38;5;241m=\u001b[39m knn\n\u001b[1;32m    575\u001b[0m X \u001b[38;5;241m=\u001b[39m _choose_representation(\u001b[38;5;28mself\u001b[39m\u001b[38;5;241m.\u001b[39m_adata, use_rep\u001b[38;5;241m=\u001b[39muse_rep, n_pcs\u001b[38;5;241m=\u001b[39mn_pcs)\n\u001b[0;32m--> 576\u001b[0m \u001b[38;5;28mself\u001b[39m\u001b[38;5;241m.\u001b[39m_distances \u001b[38;5;241m=\u001b[39m \u001b[43mtransformer\u001b[49m\u001b[38;5;241;43m.\u001b[39;49m\u001b[43mfit_transform\u001b[49m\u001b[43m(\u001b[49m\u001b[43mX\u001b[49m\u001b[43m)\u001b[49m\n\u001b[1;32m    577\u001b[0m knn_indices, knn_distances \u001b[38;5;241m=\u001b[39m _get_indices_distances_from_sparse_matrix(\n\u001b[1;32m    578\u001b[0m     \u001b[38;5;28mself\u001b[39m\u001b[38;5;241m.\u001b[39m_distances, n_neighbors\n\u001b[1;32m    579\u001b[0m )\n\u001b[1;32m    580\u001b[0m \u001b[38;5;28;01mif\u001b[39;00m shortcut:\n\u001b[1;32m    581\u001b[0m     \u001b[38;5;66;03m# self._distances is a sparse matrix with a diag of 1, fix that\u001b[39;00m\n",
      "File \u001b[0;32m~/anaconda3/envs/scanpy_env_new/lib/python3.9/site-packages/sklearn/utils/_set_output.py:319\u001b[0m, in \u001b[0;36m_wrap_method_output.<locals>.wrapped\u001b[0;34m(self, X, *args, **kwargs)\u001b[0m\n\u001b[1;32m    317\u001b[0m \u001b[38;5;129m@wraps\u001b[39m(f)\n\u001b[1;32m    318\u001b[0m \u001b[38;5;28;01mdef\u001b[39;00m\u001b[38;5;250m \u001b[39m\u001b[38;5;21mwrapped\u001b[39m(\u001b[38;5;28mself\u001b[39m, X, \u001b[38;5;241m*\u001b[39margs, \u001b[38;5;241m*\u001b[39m\u001b[38;5;241m*\u001b[39mkwargs):\n\u001b[0;32m--> 319\u001b[0m     data_to_wrap \u001b[38;5;241m=\u001b[39m \u001b[43mf\u001b[49m\u001b[43m(\u001b[49m\u001b[38;5;28;43mself\u001b[39;49m\u001b[43m,\u001b[49m\u001b[43m \u001b[49m\u001b[43mX\u001b[49m\u001b[43m,\u001b[49m\u001b[43m \u001b[49m\u001b[38;5;241;43m*\u001b[39;49m\u001b[43margs\u001b[49m\u001b[43m,\u001b[49m\u001b[43m \u001b[49m\u001b[38;5;241;43m*\u001b[39;49m\u001b[38;5;241;43m*\u001b[39;49m\u001b[43mkwargs\u001b[49m\u001b[43m)\u001b[49m\n\u001b[1;32m    320\u001b[0m     \u001b[38;5;28;01mif\u001b[39;00m \u001b[38;5;28misinstance\u001b[39m(data_to_wrap, \u001b[38;5;28mtuple\u001b[39m):\n\u001b[1;32m    321\u001b[0m         \u001b[38;5;66;03m# only wrap the first output for cross decomposition\u001b[39;00m\n\u001b[1;32m    322\u001b[0m         return_tuple \u001b[38;5;241m=\u001b[39m (\n\u001b[1;32m    323\u001b[0m             _wrap_data_with_container(method, data_to_wrap[\u001b[38;5;241m0\u001b[39m], X, \u001b[38;5;28mself\u001b[39m),\n\u001b[1;32m    324\u001b[0m             \u001b[38;5;241m*\u001b[39mdata_to_wrap[\u001b[38;5;241m1\u001b[39m:],\n\u001b[1;32m    325\u001b[0m         )\n",
      "File \u001b[0;32m~/anaconda3/envs/scanpy_env_new/lib/python3.9/site-packages/pynndescent/pynndescent_.py:2256\u001b[0m, in \u001b[0;36mPyNNDescentTransformer.fit_transform\u001b[0;34m(self, X, y, **fit_params)\u001b[0m\n\u001b[1;32m   2236\u001b[0m \u001b[38;5;28;01mdef\u001b[39;00m\u001b[38;5;250m \u001b[39m\u001b[38;5;21mfit_transform\u001b[39m(\u001b[38;5;28mself\u001b[39m, X, y\u001b[38;5;241m=\u001b[39m\u001b[38;5;28;01mNone\u001b[39;00m, \u001b[38;5;241m*\u001b[39m\u001b[38;5;241m*\u001b[39mfit_params):\n\u001b[1;32m   2237\u001b[0m \u001b[38;5;250m    \u001b[39m\u001b[38;5;124;03m\"\"\"Fit to graph_data, then transform it.\u001b[39;00m\n\u001b[1;32m   2238\u001b[0m \n\u001b[1;32m   2239\u001b[0m \u001b[38;5;124;03m    Fits transformer to X and y with optional parameters fit_params\u001b[39;00m\n\u001b[0;32m   (...)\u001b[0m\n\u001b[1;32m   2254\u001b[0m \u001b[38;5;124;03m        The diagonal is always explicit.\u001b[39;00m\n\u001b[1;32m   2255\u001b[0m \u001b[38;5;124;03m    \"\"\"\u001b[39;00m\n\u001b[0;32m-> 2256\u001b[0m     \u001b[38;5;28;43mself\u001b[39;49m\u001b[38;5;241;43m.\u001b[39;49m\u001b[43mfit\u001b[49m\u001b[43m(\u001b[49m\u001b[43mX\u001b[49m\u001b[43m,\u001b[49m\u001b[43m \u001b[49m\u001b[43mcompress_index\u001b[49m\u001b[38;5;241;43m=\u001b[39;49m\u001b[38;5;28;43;01mFalse\u001b[39;49;00m\u001b[43m)\u001b[49m\n\u001b[1;32m   2257\u001b[0m     result \u001b[38;5;241m=\u001b[39m \u001b[38;5;28mself\u001b[39m\u001b[38;5;241m.\u001b[39mtransform(X\u001b[38;5;241m=\u001b[39m\u001b[38;5;28;01mNone\u001b[39;00m)\n\u001b[1;32m   2259\u001b[0m     \u001b[38;5;28;01mif\u001b[39;00m \u001b[38;5;28mself\u001b[39m\u001b[38;5;241m.\u001b[39mverbose:\n",
      "File \u001b[0;32m~/anaconda3/envs/scanpy_env_new/lib/python3.9/site-packages/pynndescent/pynndescent_.py:2174\u001b[0m, in \u001b[0;36mPyNNDescentTransformer.fit\u001b[0;34m(self, X, compress_index)\u001b[0m\n\u001b[1;32m   2170\u001b[0m \u001b[38;5;66;03m# Compatibility with sklearn, which doesn't consider\u001b[39;00m\n\u001b[1;32m   2171\u001b[0m \u001b[38;5;66;03m# a point its own neighbor for these purposes.\u001b[39;00m\n\u001b[1;32m   2172\u001b[0m effective_n_neighbors \u001b[38;5;241m=\u001b[39m \u001b[38;5;28mself\u001b[39m\u001b[38;5;241m.\u001b[39mn_neighbors \u001b[38;5;241m+\u001b[39m \u001b[38;5;241m1\u001b[39m\n\u001b[0;32m-> 2174\u001b[0m \u001b[38;5;28mself\u001b[39m\u001b[38;5;241m.\u001b[39mindex_ \u001b[38;5;241m=\u001b[39m \u001b[43mNNDescent\u001b[49m\u001b[43m(\u001b[49m\n\u001b[1;32m   2175\u001b[0m \u001b[43m    \u001b[49m\u001b[43mX\u001b[49m\u001b[43m,\u001b[49m\n\u001b[1;32m   2176\u001b[0m \u001b[43m    \u001b[49m\u001b[43mmetric\u001b[49m\u001b[38;5;241;43m=\u001b[39;49m\u001b[38;5;28;43mself\u001b[39;49m\u001b[38;5;241;43m.\u001b[39;49m\u001b[43mmetric\u001b[49m\u001b[43m,\u001b[49m\n\u001b[1;32m   2177\u001b[0m \u001b[43m    \u001b[49m\u001b[43mmetric_kwds\u001b[49m\u001b[38;5;241;43m=\u001b[39;49m\u001b[43mmetric_kwds\u001b[49m\u001b[43m,\u001b[49m\n\u001b[1;32m   2178\u001b[0m \u001b[43m    \u001b[49m\u001b[43mn_neighbors\u001b[49m\u001b[38;5;241;43m=\u001b[39;49m\u001b[43meffective_n_neighbors\u001b[49m\u001b[43m,\u001b[49m\n\u001b[1;32m   2179\u001b[0m \u001b[43m    \u001b[49m\u001b[43mn_trees\u001b[49m\u001b[38;5;241;43m=\u001b[39;49m\u001b[38;5;28;43mself\u001b[39;49m\u001b[38;5;241;43m.\u001b[39;49m\u001b[43mn_trees\u001b[49m\u001b[43m,\u001b[49m\n\u001b[1;32m   2180\u001b[0m \u001b[43m    \u001b[49m\u001b[43mleaf_size\u001b[49m\u001b[38;5;241;43m=\u001b[39;49m\u001b[38;5;28;43mself\u001b[39;49m\u001b[38;5;241;43m.\u001b[39;49m\u001b[43mleaf_size\u001b[49m\u001b[43m,\u001b[49m\n\u001b[1;32m   2181\u001b[0m \u001b[43m    \u001b[49m\u001b[43mpruning_degree_multiplier\u001b[49m\u001b[38;5;241;43m=\u001b[39;49m\u001b[38;5;28;43mself\u001b[39;49m\u001b[38;5;241;43m.\u001b[39;49m\u001b[43mpruning_degree_multiplier\u001b[49m\u001b[43m,\u001b[49m\n\u001b[1;32m   2182\u001b[0m \u001b[43m    \u001b[49m\u001b[43mdiversify_prob\u001b[49m\u001b[38;5;241;43m=\u001b[39;49m\u001b[38;5;28;43mself\u001b[39;49m\u001b[38;5;241;43m.\u001b[39;49m\u001b[43mdiversify_prob\u001b[49m\u001b[43m,\u001b[49m\n\u001b[1;32m   2183\u001b[0m \u001b[43m    \u001b[49m\u001b[43mn_search_trees\u001b[49m\u001b[38;5;241;43m=\u001b[39;49m\u001b[38;5;28;43mself\u001b[39;49m\u001b[38;5;241;43m.\u001b[39;49m\u001b[43mn_search_trees\u001b[49m\u001b[43m,\u001b[49m\n\u001b[1;32m   2184\u001b[0m \u001b[43m    \u001b[49m\u001b[43mtree_init\u001b[49m\u001b[38;5;241;43m=\u001b[39;49m\u001b[38;5;28;43mself\u001b[39;49m\u001b[38;5;241;43m.\u001b[39;49m\u001b[43mtree_init\u001b[49m\u001b[43m,\u001b[49m\n\u001b[1;32m   2185\u001b[0m \u001b[43m    \u001b[49m\u001b[43mrandom_state\u001b[49m\u001b[38;5;241;43m=\u001b[39;49m\u001b[38;5;28;43mself\u001b[39;49m\u001b[38;5;241;43m.\u001b[39;49m\u001b[43mrandom_state\u001b[49m\u001b[43m,\u001b[49m\n\u001b[1;32m   2186\u001b[0m \u001b[43m    \u001b[49m\u001b[43mlow_memory\u001b[49m\u001b[38;5;241;43m=\u001b[39;49m\u001b[38;5;28;43mself\u001b[39;49m\u001b[38;5;241;43m.\u001b[39;49m\u001b[43mlow_memory\u001b[49m\u001b[43m,\u001b[49m\n\u001b[1;32m   2187\u001b[0m \u001b[43m    \u001b[49m\u001b[43mmax_candidates\u001b[49m\u001b[38;5;241;43m=\u001b[39;49m\u001b[38;5;28;43mself\u001b[39;49m\u001b[38;5;241;43m.\u001b[39;49m\u001b[43mmax_candidates\u001b[49m\u001b[43m,\u001b[49m\n\u001b[1;32m   2188\u001b[0m \u001b[43m    \u001b[49m\u001b[43mn_iters\u001b[49m\u001b[38;5;241;43m=\u001b[39;49m\u001b[38;5;28;43mself\u001b[39;49m\u001b[38;5;241;43m.\u001b[39;49m\u001b[43mn_iters\u001b[49m\u001b[43m,\u001b[49m\n\u001b[1;32m   2189\u001b[0m \u001b[43m    \u001b[49m\u001b[43mdelta\u001b[49m\u001b[38;5;241;43m=\u001b[39;49m\u001b[38;5;28;43mself\u001b[39;49m\u001b[38;5;241;43m.\u001b[39;49m\u001b[43mearly_termination_value\u001b[49m\u001b[43m,\u001b[49m\n\u001b[1;32m   2190\u001b[0m \u001b[43m    \u001b[49m\u001b[43mn_jobs\u001b[49m\u001b[38;5;241;43m=\u001b[39;49m\u001b[38;5;28;43mself\u001b[39;49m\u001b[38;5;241;43m.\u001b[39;49m\u001b[43mn_jobs\u001b[49m\u001b[43m,\u001b[49m\n\u001b[1;32m   2191\u001b[0m \u001b[43m    \u001b[49m\u001b[43mcompressed\u001b[49m\u001b[38;5;241;43m=\u001b[39;49m\u001b[43mcompress_index\u001b[49m\u001b[43m,\u001b[49m\n\u001b[1;32m   2192\u001b[0m \u001b[43m    \u001b[49m\u001b[43mparallel_batch_queries\u001b[49m\u001b[38;5;241;43m=\u001b[39;49m\u001b[38;5;28;43mself\u001b[39;49m\u001b[38;5;241;43m.\u001b[39;49m\u001b[43mparallel_batch_queries\u001b[49m\u001b[43m,\u001b[49m\n\u001b[1;32m   2193\u001b[0m \u001b[43m    \u001b[49m\u001b[43mverbose\u001b[49m\u001b[38;5;241;43m=\u001b[39;49m\u001b[38;5;28;43mself\u001b[39;49m\u001b[38;5;241;43m.\u001b[39;49m\u001b[43mverbose\u001b[49m\u001b[43m,\u001b[49m\n\u001b[1;32m   2194\u001b[0m \u001b[43m\u001b[49m\u001b[43m)\u001b[49m\n\u001b[1;32m   2196\u001b[0m \u001b[38;5;28;01mreturn\u001b[39;00m \u001b[38;5;28mself\u001b[39m\n",
      "File \u001b[0;32m~/anaconda3/envs/scanpy_env_new/lib/python3.9/site-packages/pynndescent/pynndescent_.py:794\u001b[0m, in \u001b[0;36mNNDescent.__init__\u001b[0;34m(self, data, metric, metric_kwds, n_neighbors, n_trees, leaf_size, pruning_degree_multiplier, diversify_prob, n_search_trees, tree_init, init_graph, init_dist, random_state, low_memory, max_candidates, max_rptree_depth, n_iters, delta, n_jobs, compressed, parallel_batch_queries, verbose)\u001b[0m\n\u001b[1;32m    792\u001b[0m     \u001b[38;5;28;01mif\u001b[39;00m verbose:\n\u001b[1;32m    793\u001b[0m         \u001b[38;5;28mprint\u001b[39m(ts(), \u001b[38;5;124m\"\u001b[39m\u001b[38;5;124mBuilding RP forest with\u001b[39m\u001b[38;5;124m\"\u001b[39m, \u001b[38;5;28mstr\u001b[39m(n_trees), \u001b[38;5;124m\"\u001b[39m\u001b[38;5;124mtrees\u001b[39m\u001b[38;5;124m\"\u001b[39m)\n\u001b[0;32m--> 794\u001b[0m     \u001b[38;5;28mself\u001b[39m\u001b[38;5;241m.\u001b[39m_rp_forest \u001b[38;5;241m=\u001b[39m \u001b[43mmake_forest\u001b[49m\u001b[43m(\u001b[49m\n\u001b[1;32m    795\u001b[0m \u001b[43m        \u001b[49m\u001b[43mdata\u001b[49m\u001b[43m,\u001b[49m\n\u001b[1;32m    796\u001b[0m \u001b[43m        \u001b[49m\u001b[43mn_neighbors\u001b[49m\u001b[43m,\u001b[49m\n\u001b[1;32m    797\u001b[0m \u001b[43m        \u001b[49m\u001b[43mn_trees\u001b[49m\u001b[43m,\u001b[49m\n\u001b[1;32m    798\u001b[0m \u001b[43m        \u001b[49m\u001b[43mleaf_size\u001b[49m\u001b[43m,\u001b[49m\n\u001b[1;32m    799\u001b[0m \u001b[43m        \u001b[49m\u001b[38;5;28;43mself\u001b[39;49m\u001b[38;5;241;43m.\u001b[39;49m\u001b[43mrng_state\u001b[49m\u001b[43m,\u001b[49m\n\u001b[1;32m    800\u001b[0m \u001b[43m        \u001b[49m\u001b[43mcurrent_random_state\u001b[49m\u001b[43m,\u001b[49m\n\u001b[1;32m    801\u001b[0m \u001b[43m        \u001b[49m\u001b[38;5;28;43mself\u001b[39;49m\u001b[38;5;241;43m.\u001b[39;49m\u001b[43mn_jobs\u001b[49m\u001b[43m,\u001b[49m\n\u001b[1;32m    802\u001b[0m \u001b[43m        \u001b[49m\u001b[38;5;28;43mself\u001b[39;49m\u001b[38;5;241;43m.\u001b[39;49m\u001b[43m_angular_trees\u001b[49m\u001b[43m,\u001b[49m\n\u001b[1;32m    803\u001b[0m \u001b[43m        \u001b[49m\u001b[38;5;28;43mself\u001b[39;49m\u001b[38;5;241;43m.\u001b[39;49m\u001b[43m_bit_trees\u001b[49m\u001b[43m,\u001b[49m\n\u001b[1;32m    804\u001b[0m \u001b[43m        \u001b[49m\u001b[43mmax_depth\u001b[49m\u001b[38;5;241;43m=\u001b[39;49m\u001b[38;5;28;43mself\u001b[39;49m\u001b[38;5;241;43m.\u001b[39;49m\u001b[43mmax_rptree_depth\u001b[49m\u001b[43m,\u001b[49m\n\u001b[1;32m    805\u001b[0m \u001b[43m    \u001b[49m\u001b[43m)\u001b[49m\n\u001b[1;32m    806\u001b[0m     leaf_array \u001b[38;5;241m=\u001b[39m rptree_leaf_array(\u001b[38;5;28mself\u001b[39m\u001b[38;5;241m.\u001b[39m_rp_forest)\n\u001b[1;32m    807\u001b[0m \u001b[38;5;28;01melse\u001b[39;00m:\n",
      "File \u001b[0;32m~/anaconda3/envs/scanpy_env_new/lib/python3.9/site-packages/pynndescent/rp_trees.py:1388\u001b[0m, in \u001b[0;36mmake_forest\u001b[0;34m(data, n_neighbors, n_trees, leaf_size, rng_state, random_state, n_jobs, angular, bit_tree, max_depth)\u001b[0m\n\u001b[1;32m   1377\u001b[0m         result \u001b[38;5;241m=\u001b[39m joblib\u001b[38;5;241m.\u001b[39mParallel(n_jobs\u001b[38;5;241m=\u001b[39mn_jobs, require\u001b[38;5;241m=\u001b[39m\u001b[38;5;124m\"\u001b[39m\u001b[38;5;124msharedmem\u001b[39m\u001b[38;5;124m\"\u001b[39m)(\n\u001b[1;32m   1378\u001b[0m             joblib\u001b[38;5;241m.\u001b[39mdelayed(make_dense_bit_tree)(\n\u001b[1;32m   1379\u001b[0m                 data,\n\u001b[0;32m   (...)\u001b[0m\n\u001b[1;32m   1385\u001b[0m             \u001b[38;5;28;01mfor\u001b[39;00m i \u001b[38;5;129;01min\u001b[39;00m \u001b[38;5;28mrange\u001b[39m(n_trees)\n\u001b[1;32m   1386\u001b[0m         )\n\u001b[1;32m   1387\u001b[0m     \u001b[38;5;28;01melse\u001b[39;00m:\n\u001b[0;32m-> 1388\u001b[0m         result \u001b[38;5;241m=\u001b[39m \u001b[43mjoblib\u001b[49m\u001b[38;5;241;43m.\u001b[39;49m\u001b[43mParallel\u001b[49m\u001b[43m(\u001b[49m\u001b[43mn_jobs\u001b[49m\u001b[38;5;241;43m=\u001b[39;49m\u001b[43mn_jobs\u001b[49m\u001b[43m,\u001b[49m\u001b[43m \u001b[49m\u001b[43mrequire\u001b[49m\u001b[38;5;241;43m=\u001b[39;49m\u001b[38;5;124;43m\"\u001b[39;49m\u001b[38;5;124;43msharedmem\u001b[39;49m\u001b[38;5;124;43m\"\u001b[39;49m\u001b[43m)\u001b[49m\u001b[43m(\u001b[49m\n\u001b[1;32m   1389\u001b[0m \u001b[43m            \u001b[49m\u001b[43mjoblib\u001b[49m\u001b[38;5;241;43m.\u001b[39;49m\u001b[43mdelayed\u001b[49m\u001b[43m(\u001b[49m\u001b[43mmake_dense_tree\u001b[49m\u001b[43m)\u001b[49m\u001b[43m(\u001b[49m\n\u001b[1;32m   1390\u001b[0m \u001b[43m                \u001b[49m\u001b[43mdata\u001b[49m\u001b[43m,\u001b[49m\n\u001b[1;32m   1391\u001b[0m \u001b[43m                \u001b[49m\u001b[43mrng_states\u001b[49m\u001b[43m[\u001b[49m\u001b[43mi\u001b[49m\u001b[43m]\u001b[49m\u001b[43m,\u001b[49m\n\u001b[1;32m   1392\u001b[0m \u001b[43m                \u001b[49m\u001b[43mleaf_size\u001b[49m\u001b[43m,\u001b[49m\n\u001b[1;32m   1393\u001b[0m \u001b[43m                \u001b[49m\u001b[43mangular\u001b[49m\u001b[43m,\u001b[49m\n\u001b[1;32m   1394\u001b[0m \u001b[43m                \u001b[49m\u001b[43mmax_depth\u001b[49m\u001b[38;5;241;43m=\u001b[39;49m\u001b[43mmax_depth\u001b[49m\n\u001b[1;32m   1395\u001b[0m \u001b[43m            \u001b[49m\u001b[43m)\u001b[49m\n\u001b[1;32m   1396\u001b[0m \u001b[43m            \u001b[49m\u001b[38;5;28;43;01mfor\u001b[39;49;00m\u001b[43m \u001b[49m\u001b[43mi\u001b[49m\u001b[43m \u001b[49m\u001b[38;5;129;43;01min\u001b[39;49;00m\u001b[43m \u001b[49m\u001b[38;5;28;43mrange\u001b[39;49m\u001b[43m(\u001b[49m\u001b[43mn_trees\u001b[49m\u001b[43m)\u001b[49m\n\u001b[1;32m   1397\u001b[0m \u001b[43m        \u001b[49m\u001b[43m)\u001b[49m\n\u001b[1;32m   1398\u001b[0m \u001b[38;5;28;01mexcept\u001b[39;00m (\u001b[38;5;167;01mRuntimeError\u001b[39;00m, \u001b[38;5;167;01mRecursionError\u001b[39;00m, \u001b[38;5;167;01mSystemError\u001b[39;00m):\n\u001b[1;32m   1399\u001b[0m     warn(\n\u001b[1;32m   1400\u001b[0m         \u001b[38;5;124m\"\u001b[39m\u001b[38;5;124mRandom Projection forest initialisation failed due to recursion\u001b[39m\u001b[38;5;124m\"\u001b[39m\n\u001b[1;32m   1401\u001b[0m         \u001b[38;5;124m\"\u001b[39m\u001b[38;5;124mlimit being reached. Something is a little strange with your \u001b[39m\u001b[38;5;124m\"\u001b[39m\n\u001b[1;32m   1402\u001b[0m         \u001b[38;5;124m\"\u001b[39m\u001b[38;5;124mgraph_data, and this may take longer than normal to compute.\u001b[39m\u001b[38;5;124m\"\u001b[39m\n\u001b[1;32m   1403\u001b[0m     )\n",
      "File \u001b[0;32m~/anaconda3/envs/scanpy_env_new/lib/python3.9/site-packages/joblib/parallel.py:2007\u001b[0m, in \u001b[0;36mParallel.__call__\u001b[0;34m(self, iterable)\u001b[0m\n\u001b[1;32m   2001\u001b[0m \u001b[38;5;66;03m# The first item from the output is blank, but it makes the interpreter\u001b[39;00m\n\u001b[1;32m   2002\u001b[0m \u001b[38;5;66;03m# progress until it enters the Try/Except block of the generator and\u001b[39;00m\n\u001b[1;32m   2003\u001b[0m \u001b[38;5;66;03m# reaches the first `yield` statement. This starts the asynchronous\u001b[39;00m\n\u001b[1;32m   2004\u001b[0m \u001b[38;5;66;03m# dispatch of the tasks to the workers.\u001b[39;00m\n\u001b[1;32m   2005\u001b[0m \u001b[38;5;28mnext\u001b[39m(output)\n\u001b[0;32m-> 2007\u001b[0m \u001b[38;5;28;01mreturn\u001b[39;00m output \u001b[38;5;28;01mif\u001b[39;00m \u001b[38;5;28mself\u001b[39m\u001b[38;5;241m.\u001b[39mreturn_generator \u001b[38;5;28;01melse\u001b[39;00m \u001b[38;5;28;43mlist\u001b[39;49m\u001b[43m(\u001b[49m\u001b[43moutput\u001b[49m\u001b[43m)\u001b[49m\n",
      "File \u001b[0;32m~/anaconda3/envs/scanpy_env_new/lib/python3.9/site-packages/joblib/parallel.py:1650\u001b[0m, in \u001b[0;36mParallel._get_outputs\u001b[0;34m(self, iterator, pre_dispatch)\u001b[0m\n\u001b[1;32m   1647\u001b[0m     \u001b[38;5;28;01myield\u001b[39;00m\n\u001b[1;32m   1649\u001b[0m     \u001b[38;5;28;01mwith\u001b[39;00m \u001b[38;5;28mself\u001b[39m\u001b[38;5;241m.\u001b[39m_backend\u001b[38;5;241m.\u001b[39mretrieval_context():\n\u001b[0;32m-> 1650\u001b[0m         \u001b[38;5;28;01myield from\u001b[39;00m \u001b[38;5;28mself\u001b[39m\u001b[38;5;241m.\u001b[39m_retrieve()\n\u001b[1;32m   1652\u001b[0m \u001b[38;5;28;01mexcept\u001b[39;00m \u001b[38;5;167;01mGeneratorExit\u001b[39;00m:\n\u001b[1;32m   1653\u001b[0m     \u001b[38;5;66;03m# The generator has been garbage collected before being fully\u001b[39;00m\n\u001b[1;32m   1654\u001b[0m     \u001b[38;5;66;03m# consumed. This aborts the remaining tasks if possible and warn\u001b[39;00m\n\u001b[1;32m   1655\u001b[0m     \u001b[38;5;66;03m# the user if necessary.\u001b[39;00m\n\u001b[1;32m   1656\u001b[0m     \u001b[38;5;28mself\u001b[39m\u001b[38;5;241m.\u001b[39m_exception \u001b[38;5;241m=\u001b[39m \u001b[38;5;28;01mTrue\u001b[39;00m\n",
      "File \u001b[0;32m~/anaconda3/envs/scanpy_env_new/lib/python3.9/site-packages/joblib/parallel.py:1762\u001b[0m, in \u001b[0;36mParallel._retrieve\u001b[0;34m(self)\u001b[0m\n\u001b[1;32m   1757\u001b[0m \u001b[38;5;66;03m# If the next job is not ready for retrieval yet, we just wait for\u001b[39;00m\n\u001b[1;32m   1758\u001b[0m \u001b[38;5;66;03m# async callbacks to progress.\u001b[39;00m\n\u001b[1;32m   1759\u001b[0m \u001b[38;5;28;01mif\u001b[39;00m ((\u001b[38;5;28mlen\u001b[39m(\u001b[38;5;28mself\u001b[39m\u001b[38;5;241m.\u001b[39m_jobs) \u001b[38;5;241m==\u001b[39m \u001b[38;5;241m0\u001b[39m) \u001b[38;5;129;01mor\u001b[39;00m\n\u001b[1;32m   1760\u001b[0m     (\u001b[38;5;28mself\u001b[39m\u001b[38;5;241m.\u001b[39m_jobs[\u001b[38;5;241m0\u001b[39m]\u001b[38;5;241m.\u001b[39mget_status(\n\u001b[1;32m   1761\u001b[0m         timeout\u001b[38;5;241m=\u001b[39m\u001b[38;5;28mself\u001b[39m\u001b[38;5;241m.\u001b[39mtimeout) \u001b[38;5;241m==\u001b[39m TASK_PENDING)):\n\u001b[0;32m-> 1762\u001b[0m     \u001b[43mtime\u001b[49m\u001b[38;5;241;43m.\u001b[39;49m\u001b[43msleep\u001b[49m\u001b[43m(\u001b[49m\u001b[38;5;241;43m0.01\u001b[39;49m\u001b[43m)\u001b[49m\n\u001b[1;32m   1763\u001b[0m     \u001b[38;5;28;01mcontinue\u001b[39;00m\n\u001b[1;32m   1765\u001b[0m \u001b[38;5;66;03m# We need to be careful: the job list can be filling up as\u001b[39;00m\n\u001b[1;32m   1766\u001b[0m \u001b[38;5;66;03m# we empty it and Python list are not thread-safe by\u001b[39;00m\n\u001b[1;32m   1767\u001b[0m \u001b[38;5;66;03m# default hence the use of the lock\u001b[39;00m\n",
      "\u001b[0;31mKeyboardInterrupt\u001b[0m: "
     ]
    }
   ],
   "source": [
    "adatas = [pp(ad) for ad in adatas]"
   ]
  },
  {
   "cell_type": "code",
   "execution_count": null,
   "id": "c29717a4-b8f9-47fb-bad0-ddf94bb2480e",
   "metadata": {},
   "outputs": [],
   "source": []
  },
  {
   "cell_type": "code",
   "execution_count": null,
   "id": "7a02393e-36f8-4510-aea2-1023ffe2410b",
   "metadata": {},
   "outputs": [],
   "source": [
    "for adata in adatas:\n",
    "    print(len(adata), adata.uns['cells_removed'], adata.uns['doublets_removed'])"
   ]
  },
  {
   "cell_type": "code",
   "execution_count": null,
   "id": "5fe51246-bd80-4796-8bb1-f072b372739d",
   "metadata": {},
   "outputs": [],
   "source": []
  },
  {
   "cell_type": "code",
   "execution_count": null,
   "id": "f6720483-8e5a-4231-a55b-866abe28015c",
   "metadata": {},
   "outputs": [],
   "source": []
  },
  {
   "cell_type": "code",
   "execution_count": null,
   "id": "7736e6aa-35a7-4ed9-a696-0bb4a2ea412d",
   "metadata": {},
   "outputs": [],
   "source": []
  },
  {
   "cell_type": "code",
   "execution_count": null,
   "id": "99e0f989-4c65-4cc3-b03b-3f59478025f7",
   "metadata": {},
   "outputs": [],
   "source": []
  },
  {
   "cell_type": "code",
   "execution_count": null,
   "id": "cfba4a78-a8f5-46fb-b04a-996e5481389e",
   "metadata": {},
   "outputs": [],
   "source": []
  },
  {
   "cell_type": "code",
   "execution_count": null,
   "id": "896794d8-c4da-4bcb-8a05-1f012af75640",
   "metadata": {},
   "outputs": [],
   "source": []
  },
  {
   "cell_type": "code",
   "execution_count": null,
   "id": "c12e0128-1783-4ac9-a849-27de506077c9",
   "metadata": {},
   "outputs": [],
   "source": []
  },
  {
   "cell_type": "code",
   "execution_count": null,
   "id": "eb6a2448-6566-4d68-afbb-5f5de6e2231c",
   "metadata": {},
   "outputs": [],
   "source": []
  },
  {
   "cell_type": "code",
   "execution_count": null,
   "id": "886a9f82-69a1-4232-95fd-7ac7e98852b1",
   "metadata": {},
   "outputs": [],
   "source": []
  },
  {
   "cell_type": "code",
   "execution_count": null,
   "id": "ba535de7-c0e9-4df2-a752-6d9809419f7c",
   "metadata": {},
   "outputs": [],
   "source": []
  },
  {
   "cell_type": "code",
   "execution_count": null,
   "id": "0e1a4d7b-5a7f-4a59-a08c-1f3b9de833d1",
   "metadata": {},
   "outputs": [],
   "source": []
  },
  {
   "cell_type": "code",
   "execution_count": null,
   "id": "1d938c78-e9bd-4b59-a44e-f3fb7dea019c",
   "metadata": {},
   "outputs": [],
   "source": []
  },
  {
   "cell_type": "code",
   "execution_count": null,
   "id": "ada67b5f-c8ba-4bff-be37-88ba3fadbea7",
   "metadata": {},
   "outputs": [],
   "source": []
  },
  {
   "cell_type": "code",
   "execution_count": null,
   "id": "740ae2f8-75a6-4231-9eee-f21ac038e687",
   "metadata": {},
   "outputs": [],
   "source": []
  },
  {
   "cell_type": "code",
   "execution_count": null,
   "id": "1a6fa62e-c75c-402f-89fa-166d87efbe3c",
   "metadata": {},
   "outputs": [],
   "source": []
  }
 ],
 "metadata": {
  "kernelspec": {
   "display_name": "Python (scanpy_env_new)",
   "language": "python",
   "name": "scanpy_env_new"
  },
  "language_info": {
   "codemirror_mode": {
    "name": "ipython",
    "version": 3
   },
   "file_extension": ".py",
   "mimetype": "text/x-python",
   "name": "python",
   "nbconvert_exporter": "python",
   "pygments_lexer": "ipython3",
   "version": "3.9.18"
  }
 },
 "nbformat": 4,
 "nbformat_minor": 5
}
