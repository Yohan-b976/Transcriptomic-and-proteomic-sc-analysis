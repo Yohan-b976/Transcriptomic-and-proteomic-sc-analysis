{
 "cells": [
  {
   "cell_type": "code",
   "execution_count": 1,
   "id": "b0441388-7bd9-4daf-83b1-28105cb77d08",
   "metadata": {},
   "outputs": [],
   "source": [
    "import scanpy as sc\n",
    "import os\n",
    "import seaborn as sns\n",
    "import matplotlib.pyplot as plt\n",
    "import pandas as pd"
   ]
  },
  {
   "cell_type": "code",
   "execution_count": null,
   "id": "3ccba76d-78b7-43f2-bf0e-b6082a4d91bd",
   "metadata": {},
   "outputs": [],
   "source": [
    "%load_ext rpy2.ipython"
   ]
  },
  {
   "cell_type": "code",
   "execution_count": 2,
   "id": "0e9c9cc3-a29b-4e23-a71a-70dac8bdbce6",
   "metadata": {},
   "outputs": [],
   "source": [
    "import warnings \n",
    "warnings.simplefilter(\"ignore\", FutureWarning)\n",
    "warnings.simplefilter(\"ignore\", UserWarning)\n",
    "warnings.simplefilter(\"ignore\", RuntimeWarning)"
   ]
  },
  {
   "cell_type": "code",
   "execution_count": 3,
   "id": "e25b144b-430a-4839-8120-c8ddd5ffa07c",
   "metadata": {},
   "outputs": [],
   "source": [
    "path_filtered_files_h5 = 'C:/Users/test/Documents/yohan/Data processing pipeline/scRNA/Data/h5_files_filtered'"
   ]
  },
  {
   "cell_type": "code",
   "execution_count": 4,
   "id": "de77b805-624f-47e2-b8c4-825b6b20b5d2",
   "metadata": {},
   "outputs": [],
   "source": [
    "adatas = [x for x in os.listdir(path_filtered_files_h5 ) \n",
    "          if x.endswith('.h5')]"
   ]
  },
  {
   "cell_type": "code",
   "execution_count": 5,
   "id": "776391f3-a5e4-42a1-8c37-bffd939e33f0",
   "metadata": {},
   "outputs": [],
   "source": [
    "def load_it(adata):\n",
    "    samp= adata.split('_')[5]\n",
    "    dpi_end = adata.split('_')[6]\n",
    "    dpi = dpi_end.split('.')[0]\n",
    "    adata = sc.read_10x_h5(path_filtered_files_h5 + '/' + adata)\n",
    "    adata.obs['Sample'] = samp\n",
    "    adata.obs['dpi'] = dpi\n",
    "    adata.obs['Id'] = adata.obs['Sample'] + '_' + adata.obs['dpi']\n",
    "    adata.obs.index = adata.obs.index + '-' + samp + '_' + dpi\n",
    "    remove = ['Sample','dpi']\n",
    "\n",
    "    adata.obs = adata.obs[[x for x in adata.obs.columns if x not in remove]]\n",
    "    return adata"
   ]
  },
  {
   "cell_type": "code",
   "execution_count": 6,
   "id": "220e6d17-0f30-422e-8bda-4ba66e0b0e1d",
   "metadata": {},
   "outputs": [],
   "source": [
    "adatas = [load_it(ad) for ad in adatas]"
   ]
  },
  {
   "cell_type": "code",
   "execution_count": 7,
   "id": "5e6ed58b-fa50-4d1a-aa52-65befc7c6768",
   "metadata": {},
   "outputs": [
    {
     "data": {
      "text/plain": [
       "[AnnData object with n_obs × n_vars = 11004 × 18087\n",
       "     obs: 'Id'\n",
       "     var: 'gene_ids', 'feature_types', 'genome',\n",
       " AnnData object with n_obs × n_vars = 9137 × 18087\n",
       "     obs: 'Id'\n",
       "     var: 'gene_ids', 'feature_types', 'genome',\n",
       " AnnData object with n_obs × n_vars = 10542 × 18087\n",
       "     obs: 'Id'\n",
       "     var: 'gene_ids', 'feature_types', 'genome',\n",
       " AnnData object with n_obs × n_vars = 8525 × 18087\n",
       "     obs: 'Id'\n",
       "     var: 'gene_ids', 'feature_types', 'genome']"
      ]
     },
     "execution_count": 7,
     "metadata": {},
     "output_type": "execute_result"
    }
   ],
   "source": [
    "adatas"
   ]
  },
  {
   "cell_type": "code",
   "execution_count": 8,
   "id": "aea9411a-9b45-4b6a-ace6-c6c2a74eade5",
   "metadata": {},
   "outputs": [],
   "source": [
    "for ad in adatas:\n",
    "    ad.var_names_make_unique()"
   ]
  },
  {
   "cell_type": "code",
   "execution_count": 9,
   "id": "fc61eb5d-d00b-4ca3-9d04-de3593604f37",
   "metadata": {},
   "outputs": [],
   "source": [
    "def qc(adata):\n",
    "    sc.pp.filter_cells(adata, min_genes = 200)\n",
    "    adata.var[\"mt\"] = adata.var_names.str.startswith(\"MT-\")\n",
    "    adata.var[\"ribo\"] = adata.var_names.str.startswith(\"RPS\", \"RPL\")\n",
    "    adata.var[\"hb\"] = adata.var_names.str.startswith(\"^HB[^(P)]\")\n",
    "    sc.pp.calculate_qc_metrics(adata,qc_vars=[\"mt\",\"ribo\",\"hb\"], inplace = True, percent_top = [20], log1p=True)\n",
    "\n",
    "    remove = ['total_counts_mt', 'log1p_total_counts_mt', 'total_counts_ribo',\n",
    "              'log1p_total_counts_ribo','total_counts_hb','log1p_total_counts_hb']\n",
    "\n",
    "    adata.obs = adata.obs[[x for x in adata.obs.columns if x not in remove]]\n",
    "    return adata"
   ]
  },
  {
   "cell_type": "code",
   "execution_count": 10,
   "id": "591fcdf9-f89e-417b-baf3-3df22d67f80f",
   "metadata": {},
   "outputs": [],
   "source": [
    "adatas = [qc(ad) for ad in adatas]"
   ]
  },
  {
   "cell_type": "code",
   "execution_count": null,
   "id": "a551b7f5-e8ea-46d0-bd52-061563f72324",
   "metadata": {},
   "outputs": [],
   "source": []
  },
  {
   "cell_type": "code",
   "execution_count": 11,
   "id": "5994b13a-c5c2-47a4-a93d-305611a86158",
   "metadata": {},
   "outputs": [],
   "source": [
    "%matplotlib inline"
   ]
  },
  {
   "cell_type": "code",
   "execution_count": 12,
   "id": "4ff98cf6-e757-4c9f-bfee-dbe25c20d351",
   "metadata": {},
   "outputs": [],
   "source": [
    "#for ada in adatas:\n",
    "    #print(ada.obs['Id'][0])\n",
    "    #p1 = sns.displot(ada.obs[\"total_counts\"], bins=100, kde=False)\n",
    "    # sc.pl.violin(adata, 'total_counts')\n",
    "   # p2 = sc.pl.violin(ada, \"pct_counts_mt\")\n",
    "   # p3 = sc.pl.scatter(ada, \"total_counts\", \"n_genes_by_counts\", color=\"pct_counts_mt\")\n",
    "    "
   ]
  },
  {
   "cell_type": "code",
   "execution_count": null,
   "id": "a74d65e3-a025-4542-a301-b905daf4b8aa",
   "metadata": {},
   "outputs": [],
   "source": []
  },
  {
   "cell_type": "code",
   "execution_count": 13,
   "id": "eca6a834-6fa3-4394-b97e-acec58118777",
   "metadata": {},
   "outputs": [],
   "source": [
    "import doubletdetection\n",
    "from scipy.stats import median_abs_deviation as mad\n",
    "import numpy as np"
   ]
  },
  {
   "cell_type": "code",
   "execution_count": 14,
   "id": "7556d069-cf8c-4d9d-a800-197299010275",
   "metadata": {},
   "outputs": [],
   "source": [
    "def mad_outlier(adata, metric, nmads, upper_only = False):\n",
    "    M = adata.obs[metric]\n",
    "    \n",
    "    if not upper_only:\n",
    "        return (M < np.median(M) - nmads * mad(M)) | (M > np.median(M) + nmads * mad(M))\n",
    "    \n",
    "    return (M > np.median(M) + nmads * mad(M))"
   ]
  },
  {
   "cell_type": "code",
   "execution_count": 15,
   "id": "accde73d-c50f-49ff-b95b-f70d5ea3c1b0",
   "metadata": {},
   "outputs": [],
   "source": [
    "clf = doubletdetection.BoostClassifier(\n",
    "    n_iters=10,\n",
    "    clustering_algorithm=\"louvain\",\n",
    "    standard_scaling=True,\n",
    "    pseudocount=0.1,\n",
    "    n_jobs=-1)"
   ]
  },
  {
   "cell_type": "code",
   "execution_count": null,
   "id": "648dda7e-e6e4-4293-bb3b-bf1985dc1b36",
   "metadata": {},
   "outputs": [],
   "source": []
  },
  {
   "cell_type": "code",
   "execution_count": 19,
   "id": "6d7b3237-bcec-451a-9fc2-23408d893016",
   "metadata": {},
   "outputs": [],
   "source": [
    "def pp(adata):\n",
    "    adata = adata[adata.obs.pct_counts_mt < 6] \n",
    "    \n",
    "    bool_vector = mad_outlier(adata, 'log1p_total_counts', 5) +\\\n",
    "            mad_outlier(adata, 'log1p_n_genes_by_counts', 5) +\\\n",
    "            mad_outlier(adata, 'pct_counts_in_top_20_genes', 5) +\\\n",
    "            mad_outlier(adata, 'pct_counts_mt', 3, upper_only = True)\n",
    "    adata = adata[~bool_vector]\n",
    "\n",
    "    adata.uns['cells_removed'] = sum(bool_vector)\n",
    "\n",
    "    doublets = clf.fit(adata.X).predict(p_thresh=1e-16, voter_thresh=0.6)\n",
    "    doublet_score = clf.doublet_score()\n",
    "\n",
    "    adata.obs[\"doublet_dbd\"] = doublets\n",
    "    adata.obs[\"doublet_score_dbd\"] = doublet_score\n",
    "\n",
    "    adata.uns['doublets_removed_dbd'] = adata.obs.doublet_dbd.sum()\n",
    "    #adata = adata[adata.obs.doublet == 0]\n",
    "\n",
    "    return adata"
   ]
  },
  {
   "cell_type": "code",
   "execution_count": 20,
   "id": "899ffe3b-fbd1-4b31-a970-66a8262ca3dc",
   "metadata": {},
   "outputs": [
    {
     "data": {
      "application/vnd.jupyter.widget-view+json": {
       "model_id": "2b78c31e67d04516858eb145676af4f0",
       "version_major": 2,
       "version_minor": 0
      },
      "text/plain": [
       "  0%|          | 0/10 [00:00<?, ?it/s]"
      ]
     },
     "metadata": {},
     "output_type": "display_data"
    },
    {
     "data": {
      "application/vnd.jupyter.widget-view+json": {
       "model_id": "ba2889a3cb6f486e930a755220801da8",
       "version_major": 2,
       "version_minor": 0
      },
      "text/plain": [
       "  0%|          | 0/10 [00:00<?, ?it/s]"
      ]
     },
     "metadata": {},
     "output_type": "display_data"
    },
    {
     "data": {
      "application/vnd.jupyter.widget-view+json": {
       "model_id": "c50bfa392b37461e92450963967d28a9",
       "version_major": 2,
       "version_minor": 0
      },
      "text/plain": [
       "  0%|          | 0/10 [00:00<?, ?it/s]"
      ]
     },
     "metadata": {},
     "output_type": "display_data"
    },
    {
     "data": {
      "application/vnd.jupyter.widget-view+json": {
       "model_id": "9ee3c23690a842a8830aff20219e3a9a",
       "version_major": 2,
       "version_minor": 0
      },
      "text/plain": [
       "  0%|          | 0/10 [00:00<?, ?it/s]"
      ]
     },
     "metadata": {},
     "output_type": "display_data"
    }
   ],
   "source": [
    "adatas = [pp(ad) for ad in adatas]"
   ]
  },
  {
   "cell_type": "code",
   "execution_count": null,
   "id": "66240677-187e-4223-9726-8507deec6def",
   "metadata": {},
   "outputs": [],
   "source": []
  },
  {
   "cell_type": "code",
   "execution_count": null,
   "id": "2eedeb12-ab39-47f6-bfb9-fc0006c76816",
   "metadata": {},
   "outputs": [],
   "source": []
  },
  {
   "cell_type": "code",
   "execution_count": 22,
   "id": "08f11498-44ae-4034-99d4-f22d9b2ce911",
   "metadata": {},
   "outputs": [
    {
     "name": "stdout",
     "output_type": "stream",
     "text": [
      "8699 2291 955.0\n",
      "7287 1838 788.0\n",
      "8057 2459 1033.0\n",
      "6805 1712 781.0\n"
     ]
    }
   ],
   "source": [
    "for adata in adatas:\n",
    "    print(len(adata), adata.uns['cells_removed'], adata.uns['doublets_removed_dbd'])"
   ]
  },
  {
   "cell_type": "code",
   "execution_count": null,
   "id": "310117aa-b523-43a7-b667-4a623b3a6e17",
   "metadata": {},
   "outputs": [],
   "source": []
  },
  {
   "cell_type": "code",
   "execution_count": 23,
   "id": "d8019618-616b-4ba1-b931-b2e8f568ea21",
   "metadata": {},
   "outputs": [],
   "source": [
    "os.makedirs('C:/Users/test/Documents/yohan/Data processing pipeline/scRNA/Output', exist_ok = True)"
   ]
  },
  {
   "cell_type": "code",
   "execution_count": null,
   "id": "ca2a8aff-7e2a-42a5-ab54-2aa5d888ac4b",
   "metadata": {},
   "outputs": [],
   "source": [
    "for ad in adatas:\n",
    "    unique_id = ad.obs['Id'][0]\n",
    "    file_path = os.path.join(\"processed_data\", f'adata_{unique_id}.h5ad')\n",
    "    ad.write(file_path)\n",
    "    print(f\"Saved: {file_path}\")"
   ]
  },
  {
   "cell_type": "code",
   "execution_count": null,
   "id": "11e04cac-a0ce-4643-a9c7-51f8d8ed80b5",
   "metadata": {},
   "outputs": [],
   "source": []
  },
  {
   "cell_type": "code",
   "execution_count": null,
   "id": "df421088-1ac3-4346-9133-35c9b4e9fb18",
   "metadata": {},
   "outputs": [],
   "source": [
    "adatas2 = [sc.read_h5ad(\"processed_data/\" + x) for x in os.listdir(\"processed_data\")]"
   ]
  },
  {
   "cell_type": "code",
   "execution_count": null,
   "id": "0cdbe98a-774d-4747-ad46-b777d5260d9b",
   "metadata": {},
   "outputs": [],
   "source": []
  },
  {
   "cell_type": "code",
   "execution_count": null,
   "id": "0afbfcbd-5bc1-4418-b882-4ab8d427fefb",
   "metadata": {},
   "outputs": [],
   "source": []
  }
 ],
 "metadata": {
  "kernelspec": {
   "display_name": "Python 3 (ipykernel)",
   "language": "python",
   "name": "python3"
  },
  "language_info": {
   "codemirror_mode": {
    "name": "ipython",
    "version": 3
   },
   "file_extension": ".py",
   "mimetype": "text/x-python",
   "name": "python",
   "nbconvert_exporter": "python",
   "pygments_lexer": "ipython3",
   "version": "3.9.21"
  }
 },
 "nbformat": 4,
 "nbformat_minor": 5
}
