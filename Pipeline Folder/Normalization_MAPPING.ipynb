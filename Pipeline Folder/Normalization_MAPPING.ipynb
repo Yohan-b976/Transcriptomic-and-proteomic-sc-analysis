{
 "cells": [
  {
   "cell_type": "code",
   "execution_count": 1,
   "id": "12a14b1f-f0d4-4d84-a555-2a393b40b92f",
   "metadata": {},
   "outputs": [
    {
     "name": "stderr",
     "output_type": "stream",
     "text": [
      "/tmp/ipykernel_4809/2551683747.py:18: DeprecationWarning: The global conversion available with activate() is deprecated and will be removed in the next major release. Use a local converter.\n",
      "  anndata2ri.activate()\n"
     ]
    }
   ],
   "source": [
    "import scanpy as sc\n",
    "import os\n",
    "import numpy as np\n",
    "import seaborn as sns\n",
    "from matplotlib import pyplot as plt\n",
    "import anndata2ri\n",
    "import logging\n",
    "from scipy.sparse import issparse\n",
    "import rpy2.rinterface_lib.callbacks as rcb\n",
    "import rpy2.robjects as ro\n",
    "import anndata as adt\n",
    "import celltypist\n",
    "from celltypist import models\n",
    "\n",
    "\n",
    "rcb.logger.setLevel(logging.ERROR)\n",
    "ro.pandas2ri.activate()\n",
    "anndata2ri.activate()\n",
    "\n",
    "%load_ext rpy2.ipython"
   ]
  },
  {
   "cell_type": "code",
   "execution_count": 2,
   "id": "5315f9f1-8e15-4cff-9876-94768791f9c4",
   "metadata": {},
   "outputs": [],
   "source": [
    "import warnings\n",
    "warnings.simplefilter(\"ignore\", FutureWarning)\n",
    "warnings.simplefilter(\"ignore\", UserWarning)\n",
    "warnings.simplefilter(\"ignore\", RuntimeWarning)"
   ]
  },
  {
   "cell_type": "code",
   "execution_count": null,
   "id": "d15c8c10-8954-48ed-8b5b-ab2cb21e2c20",
   "metadata": {},
   "outputs": [],
   "source": [
    "path_dir_folder_processed_data = 'C:/Users/test/Documents/yohan/Data processing pipeline/scRNA/Output/processed_data'"
   ]
  },
  {
   "cell_type": "code",
   "execution_count": null,
   "id": "25b9cba4-aced-4d38-aa3c-0e9ae1834381",
   "metadata": {},
   "outputs": [],
   "source": [
    "adatas = [sc.read_h5ad(path_dir_folder_processed_data + '/' + x) for x in os.listdir(path_dir_folder_processed_data)]"
   ]
  },
  {
   "cell_type": "code",
   "execution_count": null,
   "id": "4129b46d-8d78-41af-87e0-b274f9ba750f",
   "metadata": {},
   "outputs": [],
   "source": [
    "adata = adt.concat(adatas, axis=0, join=\"outer\", index_unique=\"-\")"
   ]
  },
  {
   "cell_type": "code",
   "execution_count": null,
   "id": "5590848d-0e96-4c69-bc1b-be45da86eb50",
   "metadata": {},
   "outputs": [],
   "source": []
  },
  {
   "cell_type": "code",
   "execution_count": null,
   "id": "c20fc45e-0880-469c-96fe-351421668de1",
   "metadata": {},
   "outputs": [],
   "source": []
  },
  {
   "cell_type": "code",
   "execution_count": null,
   "id": "a681e5e6-02d8-41e6-8032-32b45fafbaf1",
   "metadata": {},
   "outputs": [],
   "source": [
    "scales_counts = sc.pp.normalize_total(adata, target_sum=None, inplace=False)\n",
    "# log1p transform\n",
    "adata.layers[\"log1p_norm\"] = sc.pp.log1p(scales_counts[\"X\"], copy=True)"
   ]
  },
  {
   "cell_type": "code",
   "execution_count": null,
   "id": "abed84c2-35b0-406c-864b-e4206ca40a9d",
   "metadata": {},
   "outputs": [],
   "source": [
    "#could be using Pearson too"
   ]
  },
  {
   "cell_type": "code",
   "execution_count": null,
   "id": "fa4e9b37-956f-4af5-9b3d-a9193dcf9f7e",
   "metadata": {},
   "outputs": [],
   "source": [
    "analytic_pearson = sc.experimental.pp.normalize_pearson_residuals(adata, inplace=False)\n",
    "adata.layers[\"analytic_pearson_residuals\"] = csr_matrix(analytic_pearson[\"X\"])"
   ]
  },
  {
   "cell_type": "code",
   "execution_count": null,
   "id": "9f5c3716-040d-453e-979d-3280d9b28281",
   "metadata": {},
   "outputs": [],
   "source": []
  },
  {
   "cell_type": "code",
   "execution_count": null,
   "id": "1d375674-c932-4f1b-8452-3c00cd842d1c",
   "metadata": {},
   "outputs": [],
   "source": [
    "#Feature selection"
   ]
  },
  {
   "cell_type": "code",
   "execution_count": 6,
   "id": "03d31c73-32e4-45a5-96a7-6b724453a779",
   "metadata": {},
   "outputs": [],
   "source": [
    "%%R\n",
    "library(scry)"
   ]
  },
  {
   "cell_type": "code",
   "execution_count": 7,
   "id": "1e04d00c-d87c-4492-a24e-ebe18d9fc0c7",
   "metadata": {},
   "outputs": [
    {
     "ename": "NameError",
     "evalue": "name 'adata' is not defined",
     "output_type": "error",
     "traceback": [
      "\u001b[0;31m---------------------------------------------------------------------------\u001b[0m",
      "\u001b[0;31mNameError\u001b[0m                                 Traceback (most recent call last)",
      "Cell \u001b[0;32mIn[7], line 1\u001b[0m\n\u001b[0;32m----> 1\u001b[0m ro\u001b[38;5;241m.\u001b[39mglobalenv[\u001b[38;5;124m\"\u001b[39m\u001b[38;5;124madata\u001b[39m\u001b[38;5;124m\"\u001b[39m] \u001b[38;5;241m=\u001b[39m \u001b[43madata\u001b[49m\n",
      "\u001b[0;31mNameError\u001b[0m: name 'adata' is not defined"
     ]
    }
   ],
   "source": [
    "ro.globalenv[\"adata\"] = adata"
   ]
  },
  {
   "cell_type": "code",
   "execution_count": null,
   "id": "33baa4d7-2c3a-4f5c-b38f-2869fd3a56de",
   "metadata": {},
   "outputs": [],
   "source": [
    "%%R\n",
    "sce = devianceFeatureSelection(adata, assay=\"X\")"
   ]
  },
  {
   "cell_type": "code",
   "execution_count": null,
   "id": "3d61897b-9b44-426e-8bf3-c07077485dff",
   "metadata": {},
   "outputs": [],
   "source": [
    "binomial_deviance = ro.r(\"rowData(sce)$binomial_deviance\").T"
   ]
  },
  {
   "cell_type": "code",
   "execution_count": null,
   "id": "f1b3d0f1-9764-49f9-a969-6333f6ba6dce",
   "metadata": {},
   "outputs": [],
   "source": [
    "idx = binomial_deviance.argsort()[-4000:]\n",
    "mask = np.zeros(adata.var_names.shape, dtype=bool)\n",
    "mask[idx] = True\n",
    "\n",
    "adata.var[\"highly_deviant\"] = mask\n",
    "adata.var[\"binomial_deviance\"] = binomial_deviance"
   ]
  },
  {
   "cell_type": "code",
   "execution_count": null,
   "id": "f51b83ef-60be-4278-ad15-cdfd0e3dbf14",
   "metadata": {},
   "outputs": [],
   "source": []
  },
  {
   "cell_type": "code",
   "execution_count": null,
   "id": "24d90b50-9bcd-407f-ad55-7e4f4d907206",
   "metadata": {},
   "outputs": [],
   "source": []
  },
  {
   "cell_type": "code",
   "execution_count": null,
   "id": "416783cc-fa96-4e8e-b4e5-c05cfaa364c5",
   "metadata": {},
   "outputs": [],
   "source": [
    "sc.pp.highly_variable_genes(adata, layer=\"scran_normalization\")"
   ]
  },
  {
   "cell_type": "code",
   "execution_count": null,
   "id": "1e857bd6-12f8-4fe4-9112-0a4df1920db2",
   "metadata": {},
   "outputs": [],
   "source": [
    "ax = sns.scatterplot(\n",
    "    data=adata.var, x=\"means\", y=\"dispersions\", hue=\"highly_deviant\", s=5\n",
    ")\n",
    "ax.set_xlim(None, 1.5)\n",
    "ax.set_ylim(None, 3)\n",
    "plt.show()"
   ]
  },
  {
   "cell_type": "code",
   "execution_count": null,
   "id": "a4f57b47-82ac-4fb7-95fe-c06a9f98c72f",
   "metadata": {},
   "outputs": [],
   "source": []
  },
  {
   "cell_type": "code",
   "execution_count": null,
   "id": "f24576a6-8b66-4fc6-9d3d-0342602a2427",
   "metadata": {},
   "outputs": [],
   "source": [
    "#Dimensionality reduction"
   ]
  },
  {
   "cell_type": "code",
   "execution_count": null,
   "id": "075de5cd-0beb-4ebc-8722-c48341536758",
   "metadata": {},
   "outputs": [],
   "source": [
    "adata.X = adata.layers[\"log1p_norm\"]"
   ]
  },
  {
   "cell_type": "code",
   "execution_count": null,
   "id": "c29ad1d0-eeb0-46f3-96e9-b134576e05c7",
   "metadata": {},
   "outputs": [],
   "source": [
    "#PCA\n",
    "adata.var[\"highly_variable\"] = adata.var[\"highly_deviant\"]\n",
    "sc.pp.pca(adata, svd_solver=\"arpack\", use_highly_variable=True)"
   ]
  },
  {
   "cell_type": "code",
   "execution_count": null,
   "id": "52f51a0e-ea05-435a-b659-241ba2323564",
   "metadata": {},
   "outputs": [],
   "source": [
    "sc.pl.pca_scatter(adata, color=\"total_counts\")"
   ]
  },
  {
   "cell_type": "code",
   "execution_count": null,
   "id": "b83d957e-9312-4598-961a-198afd21cb83",
   "metadata": {},
   "outputs": [],
   "source": []
  },
  {
   "cell_type": "code",
   "execution_count": null,
   "id": "701b708c-c8dc-4136-b69f-71e2c4b48b5d",
   "metadata": {},
   "outputs": [],
   "source": [
    "#t-SNE\n",
    "sc.tl.tsne(adata, use_rep=\"X_pca\")"
   ]
  },
  {
   "cell_type": "code",
   "execution_count": null,
   "id": "380dd0b0-b6e1-4925-9275-6ecfcf352e8a",
   "metadata": {},
   "outputs": [],
   "source": [
    "sc.pl.tsne(adata, color=\"total_counts\")"
   ]
  },
  {
   "cell_type": "code",
   "execution_count": null,
   "id": "e1efb470-e8a3-4a27-b536-19fb69e7950b",
   "metadata": {},
   "outputs": [],
   "source": []
  },
  {
   "cell_type": "code",
   "execution_count": null,
   "id": "4bc4e9b5-aa52-41eb-8557-ea0d8df1e5c7",
   "metadata": {},
   "outputs": [],
   "source": [
    "#UMAPS\n",
    "sc.pp.neighbors(adata)\n",
    "sc.tl.umap(adata)"
   ]
  },
  {
   "cell_type": "code",
   "execution_count": null,
   "id": "8f3659f6-6d9b-45c7-a513-d62e4f127a12",
   "metadata": {},
   "outputs": [],
   "source": [
    "sc.pl.umap(adata, color=\"total_counts\")"
   ]
  },
  {
   "cell_type": "code",
   "execution_count": null,
   "id": "7ea071cf-fbfa-4c6e-b72e-0a2e12403a9b",
   "metadata": {},
   "outputs": [],
   "source": []
  },
  {
   "cell_type": "code",
   "execution_count": null,
   "id": "af0c0fc3-3ce6-4ac0-a7b7-c09397bd781c",
   "metadata": {},
   "outputs": [],
   "source": []
  },
  {
   "cell_type": "code",
   "execution_count": null,
   "id": "1478fea1-ea96-4024-9d33-dfcc918018eb",
   "metadata": {},
   "outputs": [],
   "source": [
    "#Genes high Var\n",
    "sc.pl.pca_variance_ratio(adata, log=True) # put it at the right place, see the most variable genes"
   ]
  },
  {
   "cell_type": "code",
   "execution_count": null,
   "id": "8e0d5ce0-3273-4e9c-b6dc-d2f902293470",
   "metadata": {},
   "outputs": [],
   "source": []
  },
  {
   "cell_type": "code",
   "execution_count": null,
   "id": "2edafefd-f2e3-4d2f-a5df-48fefc11c539",
   "metadata": {},
   "outputs": [],
   "source": []
  },
  {
   "cell_type": "code",
   "execution_count": null,
   "id": "9c2b53f6-fdb2-41f4-819f-6db5712918f0",
   "metadata": {},
   "outputs": [],
   "source": []
  },
  {
   "cell_type": "code",
   "execution_count": null,
   "id": "a86bf951-27d6-44e2-aa96-5d48d901df6a",
   "metadata": {},
   "outputs": [],
   "source": [
    "#Mapping\n",
    "sc.pp.neighbors(adata, n_pcs=30) #adapter le nombre selon valeur coude trouve avec PCA\n",
    "sc.tl.umap(adata)"
   ]
  },
  {
   "cell_type": "code",
   "execution_count": null,
   "id": "0a085489-5157-4df8-b298-f7523f9c1727",
   "metadata": {},
   "outputs": [],
   "source": []
  },
  {
   "cell_type": "code",
   "execution_count": null,
   "id": "dd831ee5-5f6d-4254-af68-3497bdccc6a9",
   "metadata": {},
   "outputs": [],
   "source": [
    "sc.tl.leiden(adata)"
   ]
  },
  {
   "cell_type": "code",
   "execution_count": null,
   "id": "9e1bdb9a-af5d-45de-b4af-60a819e71f87",
   "metadata": {},
   "outputs": [],
   "source": []
  },
  {
   "cell_type": "code",
   "execution_count": null,
   "id": "9197b20b-d251-4b5e-b05f-8ab964f0125b",
   "metadata": {},
   "outputs": [],
   "source": []
  },
  {
   "cell_type": "code",
   "execution_count": null,
   "id": "ea8ab9b6-ea35-43ba-812f-bc555a1228e9",
   "metadata": {},
   "outputs": [],
   "source": []
  },
  {
   "cell_type": "code",
   "execution_count": null,
   "id": "95d8d2d3-3b75-48e4-94c0-8ba12a76b9af",
   "metadata": {},
   "outputs": [],
   "source": []
  },
  {
   "cell_type": "code",
   "execution_count": null,
   "id": "d8dbf3a8-9a37-4ccf-9a96-e7f8be1e2b48",
   "metadata": {},
   "outputs": [],
   "source": []
  },
  {
   "cell_type": "code",
   "execution_count": null,
   "id": "42ebc38a-4b21-427f-93fa-f98b6ceb45c3",
   "metadata": {},
   "outputs": [],
   "source": []
  },
  {
   "cell_type": "code",
   "execution_count": null,
   "id": "c1db083c-7dd8-491c-82ef-7ababec5edb5",
   "metadata": {},
   "outputs": [],
   "source": []
  },
  {
   "cell_type": "code",
   "execution_count": null,
   "id": "cffe5310-32ae-4d3d-bb4b-66e085e64d6e",
   "metadata": {},
   "outputs": [],
   "source": []
  },
  {
   "cell_type": "code",
   "execution_count": null,
   "id": "d8c01958-dd38-4020-bdf4-195372145059",
   "metadata": {},
   "outputs": [],
   "source": []
  },
  {
   "cell_type": "code",
   "execution_count": null,
   "id": "b3d7bbcc-f99d-4c60-be0e-eb58a102e442",
   "metadata": {},
   "outputs": [],
   "source": []
  },
  {
   "cell_type": "code",
   "execution_count": null,
   "id": "b3db2a92-6884-461e-9ec2-9d48d31e3e45",
   "metadata": {},
   "outputs": [],
   "source": []
  },
  {
   "cell_type": "code",
   "execution_count": null,
   "id": "7bbdb423-6887-447b-961a-08ff49308f3d",
   "metadata": {},
   "outputs": [],
   "source": []
  },
  {
   "cell_type": "code",
   "execution_count": null,
   "id": "7071d27b-49c9-472a-9e21-26fffe10c4d2",
   "metadata": {},
   "outputs": [],
   "source": []
  },
  {
   "cell_type": "code",
   "execution_count": null,
   "id": "3fe132b0-51e0-40c2-b9b0-180f0fdcc565",
   "metadata": {},
   "outputs": [],
   "source": []
  },
  {
   "cell_type": "code",
   "execution_count": null,
   "id": "1d5291ac-2ade-414a-8d97-28518cfa7634",
   "metadata": {},
   "outputs": [],
   "source": []
  },
  {
   "cell_type": "code",
   "execution_count": null,
   "id": "78700274-1000-4a38-a7c7-b3d97ced3e96",
   "metadata": {},
   "outputs": [],
   "source": []
  },
  {
   "cell_type": "code",
   "execution_count": null,
   "id": "36b6617b-ce43-4fa3-b220-200a716330d0",
   "metadata": {},
   "outputs": [],
   "source": []
  },
  {
   "cell_type": "code",
   "execution_count": null,
   "id": "c7cb7118-c16b-4884-b88d-dcdee62d6a7f",
   "metadata": {},
   "outputs": [],
   "source": []
  },
  {
   "cell_type": "code",
   "execution_count": null,
   "id": "4d839773-4f44-4f7f-b0a8-355fbf83066b",
   "metadata": {},
   "outputs": [],
   "source": []
  },
  {
   "cell_type": "code",
   "execution_count": null,
   "id": "083ddc8b-d11c-4df8-81e7-d82790fcab87",
   "metadata": {},
   "outputs": [],
   "source": []
  },
  {
   "cell_type": "code",
   "execution_count": null,
   "id": "8e3dbf0d-71b4-4c62-9f2d-f653ddf61940",
   "metadata": {},
   "outputs": [],
   "source": []
  },
  {
   "cell_type": "code",
   "execution_count": null,
   "id": "a06f6155-a889-4925-b439-f97cb41a9464",
   "metadata": {},
   "outputs": [],
   "source": []
  },
  {
   "cell_type": "code",
   "execution_count": null,
   "id": "dcd96eb8-c82f-4bba-9346-b69f15edd1e8",
   "metadata": {},
   "outputs": [],
   "source": []
  },
  {
   "cell_type": "code",
   "execution_count": null,
   "id": "800fef37-f4cf-4028-9888-f4eec9cddcb9",
   "metadata": {},
   "outputs": [],
   "source": []
  },
  {
   "cell_type": "code",
   "execution_count": null,
   "id": "207e1614-392e-4572-92fb-fc704ea2599b",
   "metadata": {},
   "outputs": [],
   "source": []
  },
  {
   "cell_type": "code",
   "execution_count": null,
   "id": "aeb281d7-4f71-4bd9-a4d5-04515952fa90",
   "metadata": {},
   "outputs": [],
   "source": []
  },
  {
   "cell_type": "code",
   "execution_count": null,
   "id": "be1fc615-9464-4d36-a8d6-34e0ca618ca5",
   "metadata": {},
   "outputs": [],
   "source": []
  }
 ],
 "metadata": {
  "kernelspec": {
   "display_name": "Python 3 (ipykernel)",
   "language": "python",
   "name": "python3"
  },
  "language_info": {
   "codemirror_mode": {
    "name": "ipython",
    "version": 3
   },
   "file_extension": ".py",
   "mimetype": "text/x-python",
   "name": "python",
   "nbconvert_exporter": "python",
   "pygments_lexer": "ipython3",
   "version": "3.12.8"
  }
 },
 "nbformat": 4,
 "nbformat_minor": 5
}
