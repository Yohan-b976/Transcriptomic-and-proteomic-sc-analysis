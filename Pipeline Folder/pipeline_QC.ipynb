{
 "cells": [
  {
   "cell_type": "code",
   "execution_count": null,
   "id": "d2125d4f-59b0-432e-90ed-a9eb270da41b",
   "metadata": {},
   "outputs": [],
   "source": [
    "import scanpy as sc\n",
    "import os\n",
    "import seaborn as sns\n",
    "import matplotlib.pyplot as plt\n",
    "import pandas as pd\n",
    "import doubletdetection\n",
    "from scipy.stats import median_abs_deviation as mad\n",
    "import numpy as np"
   ]
  },
  {
   "cell_type": "code",
   "execution_count": null,
   "id": "26ad6dcf-e7e4-4b77-963c-c858422f9b2f",
   "metadata": {},
   "outputs": [],
   "source": [
    "import anndata2ri\n",
    "import logging\n",
    "\n",
    "import rpy2.rinterface_lib.callbacks as rcb\n",
    "import rpy2.robjects as ro\n",
    "\n",
    "rcb.logger.setLevel(logging.ERROR)\n",
    "ro.pandas2ri.activate()\n",
    "anndata2ri.activate()\n",
    "\n",
    "%load_ext rpy2.ipython"
   ]
  },
  {
   "cell_type": "code",
   "execution_count": null,
   "id": "751d7031-ca9a-4390-b619-fe44875d2c31",
   "metadata": {},
   "outputs": [],
   "source": [
    "%%R\n",
    "library(Seurat)\n",
    "library(scater)\n",
    "library(scDblFinder)\n",
    "library(BiocParallel)"
   ]
  },
  {
   "cell_type": "code",
   "execution_count": null,
   "id": "3be971c0-3260-4908-a393-c1ee5e419d15",
   "metadata": {},
   "outputs": [],
   "source": [
    "import warnings \n",
    "warnings.simplefilter(\"ignore\", FutureWarning)\n",
    "warnings.simplefilter(\"ignore\", UserWarning)\n",
    "warnings.simplefilter(\"ignore\", RuntimeWarning)"
   ]
  },
  {
   "cell_type": "code",
   "execution_count": null,
   "id": "f1da8f80-6318-4d5d-beee-4b782d4dc00a",
   "metadata": {},
   "outputs": [],
   "source": [
    "path_filtered_files_h5 = 'C:/Users/test/Documents/yohan/Data processing pipeline/scRNA/Data/h5_files_filtered'"
   ]
  },
  {
   "cell_type": "code",
   "execution_count": null,
   "id": "61dc7883-6b0e-4864-b312-39abe4ded12e",
   "metadata": {},
   "outputs": [],
   "source": [
    "adatas = [x for x in os.listdir(path_filtered_files_h5 ) \n",
    "          if x.endswith('.h5')]"
   ]
  },
  {
   "cell_type": "code",
   "execution_count": null,
   "id": "d4c10a07-e4f5-437b-ab0f-3d1a1ebe0abe",
   "metadata": {},
   "outputs": [],
   "source": [
    "def load_it(adata):\n",
    "    samp= adata.split('_')[5]\n",
    "    dpi_end = adata.split('_')[6]\n",
    "    dpi = dpi_end.split('.')[0]\n",
    "    adata = sc.read_10x_h5(path_filtered_files_h5 + '/' + adata)\n",
    "    adata.obs['Sample'] = samp\n",
    "    adata.obs['dpi'] = dpi\n",
    "    adata.obs['Id'] = adata.obs['Sample'] + '_' + adata.obs['dpi']\n",
    "    adata.obs.index = adata.obs.index + '-' + samp + '_' + dpi\n",
    "    remove = ['Sample','dpi']\n",
    "\n",
    "    adata.obs = adata.obs[[x for x in adata.obs.columns if x not in remove]]\n",
    "    return adata"
   ]
  },
  {
   "cell_type": "code",
   "execution_count": null,
   "id": "ebffd71a-b47b-4e10-8bd3-6fb8a81302be",
   "metadata": {},
   "outputs": [],
   "source": [
    "adatas = [load_it(ad) for ad in adatas]"
   ]
  },
  {
   "cell_type": "code",
   "execution_count": null,
   "id": "77f09312-e1be-479c-bcc7-dbb074551d0c",
   "metadata": {},
   "outputs": [],
   "source": [
    "adatas"
   ]
  },
  {
   "cell_type": "code",
   "execution_count": null,
   "id": "48891d65-529f-4d41-ac8f-193b74098020",
   "metadata": {},
   "outputs": [],
   "source": [
    "for ad in adatas:\n",
    "    ad.var_names_make_unique()"
   ]
  },
  {
   "cell_type": "code",
   "execution_count": null,
   "id": "8b14388c-d228-480b-99da-dac51e002bcc",
   "metadata": {},
   "outputs": [],
   "source": [
    "def qc(adata):\n",
    "    sc.pp.filter_cells(adata, min_genes = 200)\n",
    "    adata.var[\"mt\"] = adata.var_names.str.startswith(\"MT-\")\n",
    "    adata.var[\"ribo\"] = adata.var_names.str.startswith(\"RPS\", \"RPL\")\n",
    "    adata.var[\"hb\"] = adata.var_names.str.startswith(\"^HB[^(P)]\")\n",
    "    sc.pp.calculate_qc_metrics(adata,qc_vars=[\"mt\",\"ribo\",\"hb\"], inplace = True, percent_top = [20], log1p=True)\n",
    "\n",
    "    remove = ['total_counts_mt', 'log1p_total_counts_mt', 'total_counts_ribo',\n",
    "              'log1p_total_counts_ribo','total_counts_hb','log1p_total_counts_hb']\n",
    "\n",
    "    adata.obs = adata.obs[[x for x in adata.obs.columns if x not in remove]]\n",
    "    return adata"
   ]
  },
  {
   "cell_type": "code",
   "execution_count": null,
   "id": "6a74c5e6-1b09-46ce-b214-220f3bfd5f17",
   "metadata": {},
   "outputs": [],
   "source": [
    "adatas = [qc(ad) for ad in adatas]"
   ]
  },
  {
   "cell_type": "code",
   "execution_count": null,
   "id": "c66c0d66-43a7-4e1f-a707-ef556f203090",
   "metadata": {},
   "outputs": [],
   "source": []
  },
  {
   "cell_type": "code",
   "execution_count": null,
   "id": "902365b6-74bf-4c0e-b7b6-8857d2ed290d",
   "metadata": {},
   "outputs": [],
   "source": [
    "data_mat = [x.X.T for x in adatas]"
   ]
  },
  {
   "cell_type": "code",
   "execution_count": null,
   "id": "e394aa4d-9908-4632-b1a0-df7cca937bd1",
   "metadata": {},
   "outputs": [],
   "source": [
    "#scDbFinder"
   ]
  },
  {
   "cell_type": "code",
   "execution_count": null,
   "id": "c67cde49-dd55-4f6b-8d51-25983b6ff9fc",
   "metadata": {},
   "outputs": [],
   "source": [
    "%%R -i data_mat -o doublet_scores_list -o doublet_classes_list\n",
    "\n",
    "doublet_scores_list <- list()\n",
    "doublet_classes_list <- list()\n",
    "\n",
    "\n",
    "for (i in seq_along(data_mat)) {\n",
    "  current_data <- data_mat[[i]]\n",
    "  set.seed(123)\n",
    "  sce <- scDblFinder(\n",
    "    SingleCellExperiment(\n",
    "      list(counts = current_data)\n",
    "    )\n",
    "  )\n",
    "  doublet_scores_list[[i]] <- sce$scDblFinder.score\n",
    "  doublet_classes_list[[i]] <- sce$scDblFinder.class\n",
    "}"
   ]
  },
  {
   "cell_type": "code",
   "execution_count": null,
   "id": "fe07a618-ddd9-4136-a912-f8e391a5d14c",
   "metadata": {},
   "outputs": [],
   "source": []
  },
  {
   "cell_type": "code",
   "execution_count": null,
   "id": "4bcbb11a-b901-4fc4-889d-5dcff41c9857",
   "metadata": {},
   "outputs": [],
   "source": [
    "for i,ad in enumerate(adatas):\n",
    "    ad.obs[\"scDblFinder_score\"] = doublet_scores_list[i]\n",
    "    ad.obs[\"scDblFinder_class\"] = doublet_classes_list[i]\n",
    "    print(ad.obs['Id'][0])\n",
    "    ad.obs.scDblFinder_class.value_counts()"
   ]
  },
  {
   "cell_type": "code",
   "execution_count": null,
   "id": "4857024e-60e8-4b9f-9d15-954aec347e90",
   "metadata": {},
   "outputs": [],
   "source": []
  },
  {
   "cell_type": "code",
   "execution_count": null,
   "id": "e3513d05-fb1c-484c-8e7b-fc81ee77eee1",
   "metadata": {},
   "outputs": [],
   "source": [
    "def pp(adata):\n",
    "    adata = adata[adata.obs.pct_counts_mt < 6] \n",
    "    \n",
    "    bool_vector = mad_outlier(adata, 'log1p_total_counts', 5) +\\\n",
    "            mad_outlier(adata, 'log1p_n_genes_by_counts', 5) +\\\n",
    "            mad_outlier(adata, 'pct_counts_in_top_20_genes', 5) +\\\n",
    "            mad_outlier(adata, 'pct_counts_mt', 3, upper_only = True)\n",
    "    adata = adata[~bool_vector]\n",
    "\n",
    "    adata.uns['cells_removed'] = sum(bool_vector)\n",
    "\n",
    "    doublets = clf.fit(adata.X).predict(p_thresh=1e-16, voter_thresh=0.6)\n",
    "    doublet_score = clf.doublet_score()\n",
    "\n",
    "    adata.obs[\"doublet_dbd\"] = doublets\n",
    "    adata.obs[\"doublet_score_dbd\"] = doublet_score\n",
    "\n",
    "    adata.uns['doublets_removed_dbd'] = adata.obs.doublet_dbd.sum()\n",
    "    #adata = adata[adata.obs.doublet == 0]\n",
    "\n",
    "    return adata"
   ]
  },
  {
   "cell_type": "code",
   "execution_count": null,
   "id": "b9f08c28-6b60-49e9-9f0e-2f66d07b0979",
   "metadata": {},
   "outputs": [],
   "source": [
    "adatas = [pp(ad) for ad in adatas]"
   ]
  },
  {
   "cell_type": "code",
   "execution_count": null,
   "id": "3b76ca8a-f352-4b53-83af-f80cc6e54e68",
   "metadata": {},
   "outputs": [],
   "source": []
  },
  {
   "cell_type": "code",
   "execution_count": null,
   "id": "0aed037b-ffbf-44a6-96b1-511a804bf306",
   "metadata": {},
   "outputs": [],
   "source": []
  },
  {
   "cell_type": "code",
   "execution_count": null,
   "id": "869c1f2e-7f22-4fb1-94c0-6982439384b9",
   "metadata": {},
   "outputs": [],
   "source": [
    "# partie avec choix de la prédiction en fonction d'une méthode machine learning ou pondérée"
   ]
  },
  {
   "cell_type": "code",
   "execution_count": null,
   "id": "4ebd94ca-c813-47cd-9450-3f62b03a6d30",
   "metadata": {},
   "outputs": [],
   "source": []
  },
  {
   "cell_type": "code",
   "execution_count": null,
   "id": "9c1f877a-ae74-4214-81c8-79f14368245b",
   "metadata": {},
   "outputs": [],
   "source": []
  },
  {
   "cell_type": "code",
   "execution_count": null,
   "id": "5dbf7ee3-9212-4cf9-98fe-7a263ffdab6e",
   "metadata": {},
   "outputs": [],
   "source": [
    "for adata in adatas:\n",
    "    print(len(adata), adata.uns['cells_removed'], adata.uns['doublets_removed_dbd'])"
   ]
  },
  {
   "cell_type": "code",
   "execution_count": null,
   "id": "178b823f-ec11-42bc-95ae-6e786fec815f",
   "metadata": {},
   "outputs": [],
   "source": []
  },
  {
   "cell_type": "code",
   "execution_count": null,
   "id": "c2eafbb3-25f1-4c4b-83c3-d0544ceb3454",
   "metadata": {},
   "outputs": [],
   "source": []
  },
  {
   "cell_type": "code",
   "execution_count": null,
   "id": "1b29b06f-ff75-4986-b730-45ff2409c989",
   "metadata": {},
   "outputs": [],
   "source": [
    "os.makedirs('C:/Users/test/Documents/yohan/Data processing pipeline/scRNA/Output/processed_data', exist_ok = True)"
   ]
  },
  {
   "cell_type": "code",
   "execution_count": null,
   "id": "41592779-f7ed-401d-86da-b3be31b2a2d3",
   "metadata": {},
   "outputs": [],
   "source": [
    "for ad in adatas:\n",
    "    unique_id = ad.obs['Id'][0]\n",
    "    file_path = os.path.join(\"processed_data\", f'adata_{unique_id}.h5ad')\n",
    "    ad.write(file_path)\n",
    "    print(f\"Saved: {file_path}\")"
   ]
  },
  {
   "cell_type": "code",
   "execution_count": null,
   "id": "118e10f2-5db7-4110-b481-148737068309",
   "metadata": {},
   "outputs": [],
   "source": []
  },
  {
   "cell_type": "code",
   "execution_count": null,
   "id": "c858cdf0-32eb-4e43-9476-1818787866b4",
   "metadata": {},
   "outputs": [],
   "source": []
  },
  {
   "cell_type": "code",
   "execution_count": null,
   "id": "5d4e219b-af0e-4ab6-8293-26ce23c5afa2",
   "metadata": {},
   "outputs": [],
   "source": []
  },
  {
   "cell_type": "code",
   "execution_count": null,
   "id": "942b5b7d-72e3-4db3-b213-f1b3be307a89",
   "metadata": {},
   "outputs": [],
   "source": []
  },
  {
   "cell_type": "code",
   "execution_count": null,
   "id": "883aa469-2f19-4b9b-8031-741db4068101",
   "metadata": {},
   "outputs": [],
   "source": []
  },
  {
   "cell_type": "code",
   "execution_count": null,
   "id": "af4beb94-117c-4aed-aa67-b34d23ad69ee",
   "metadata": {},
   "outputs": [],
   "source": []
  },
  {
   "cell_type": "code",
   "execution_count": null,
   "id": "ae45be71-00a2-40a8-95a6-6d6bcbeffe95",
   "metadata": {},
   "outputs": [],
   "source": []
  },
  {
   "cell_type": "code",
   "execution_count": null,
   "id": "cc70e46e-08a2-4bd6-93df-23037c3c7389",
   "metadata": {},
   "outputs": [],
   "source": []
  },
  {
   "cell_type": "code",
   "execution_count": null,
   "id": "3c899be0-04a0-4a03-b298-c12e0e886a08",
   "metadata": {},
   "outputs": [],
   "source": []
  },
  {
   "cell_type": "code",
   "execution_count": null,
   "id": "0c2981ef-720f-474e-bce9-7adcb2013b3e",
   "metadata": {},
   "outputs": [],
   "source": []
  },
  {
   "cell_type": "code",
   "execution_count": null,
   "id": "efcb7727-2526-4c1c-ae3e-475abf637173",
   "metadata": {},
   "outputs": [],
   "source": []
  },
  {
   "cell_type": "code",
   "execution_count": null,
   "id": "c8162095-cb70-4bcc-b481-4cab8a485b64",
   "metadata": {},
   "outputs": [],
   "source": []
  },
  {
   "cell_type": "code",
   "execution_count": null,
   "id": "e2e91268-46a3-437d-92c0-07fc73fcfc4b",
   "metadata": {},
   "outputs": [],
   "source": []
  },
  {
   "cell_type": "code",
   "execution_count": null,
   "id": "ce21f742-6629-40d2-a105-ad8065d3356c",
   "metadata": {},
   "outputs": [],
   "source": []
  },
  {
   "cell_type": "code",
   "execution_count": null,
   "id": "adf6d003-962e-431a-a8f7-ddc228139eb6",
   "metadata": {},
   "outputs": [],
   "source": []
  },
  {
   "cell_type": "code",
   "execution_count": null,
   "id": "1a107df9-2ad2-46df-ad4f-5d1fb61f1457",
   "metadata": {},
   "outputs": [],
   "source": []
  },
  {
   "cell_type": "code",
   "execution_count": null,
   "id": "94324f73-73ae-4042-b2ff-5d06f5e8022b",
   "metadata": {},
   "outputs": [],
   "source": []
  },
  {
   "cell_type": "code",
   "execution_count": null,
   "id": "1d603c57-fe5e-478b-9e20-32a718304d22",
   "metadata": {},
   "outputs": [],
   "source": []
  }
 ],
 "metadata": {
  "kernelspec": {
   "display_name": "Python 3 (ipykernel)",
   "language": "python",
   "name": "python3"
  },
  "language_info": {
   "codemirror_mode": {
    "name": "ipython",
    "version": 3
   },
   "file_extension": ".py",
   "mimetype": "text/x-python",
   "name": "python",
   "nbconvert_exporter": "python",
   "pygments_lexer": "ipython3",
   "version": "3.12.8"
  }
 },
 "nbformat": 4,
 "nbformat_minor": 5
}
