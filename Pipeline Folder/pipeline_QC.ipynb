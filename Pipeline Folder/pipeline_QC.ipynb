{
 "cells": [
  {
   "cell_type": "code",
   "execution_count": 1,
   "id": "d2125d4f-59b0-432e-90ed-a9eb270da41b",
   "metadata": {},
   "outputs": [],
   "source": [
    "import scanpy as sc\n",
    "import os\n",
    "import seaborn as sns\n",
    "import matplotlib.pyplot as plt\n",
    "import pandas as pd\n",
    "import doubletdetection\n",
    "from scipy.stats import median_abs_deviation as mad\n",
    "import numpy as np"
   ]
  },
  {
   "cell_type": "code",
   "execution_count": 2,
   "id": "b124cbdf-91d1-4b8e-8f35-40025a9ba40e",
   "metadata": {},
   "outputs": [
    {
     "name": "stdout",
     "output_type": "stream",
     "text": [
      "R_HOME: /home/ybeaumatin/anaconda3/envs/annot/lib/R\n",
      "R_LIBS: /home/ybeaumatin/anaconda3/envs/annot/lib/R/library\n"
     ]
    }
   ],
   "source": [
    "#connect env R to env python \n",
    "os.environ['R_HOME'] = r\"/home/ybeaumatin/anaconda3/envs/annot/lib/R\"\n",
    "os.environ['R_LIBS'] = r\"/home/ybeaumatin/anaconda3/envs/annot/lib/R/library\"\n",
    "\n",
    "print(\"R_HOME:\", os.environ['R_HOME'])\n",
    "print(\"R_LIBS:\", os.environ['R_LIBS'])"
   ]
  },
  {
   "cell_type": "code",
   "execution_count": 3,
   "id": "0c82d1c0-fa93-4e61-8c1f-03aaccb699d1",
   "metadata": {},
   "outputs": [
    {
     "name": "stdout",
     "output_type": "stream",
     "text": [
      "[1] \"R version 4.3.3 (2024-02-29)\"\n",
      "\n"
     ]
    }
   ],
   "source": [
    "import rpy2.robjects as ro\n",
    "print(ro.r(\"R.version.string\"))"
   ]
  },
  {
   "cell_type": "code",
   "execution_count": 4,
   "id": "26ad6dcf-e7e4-4b77-963c-c858422f9b2f",
   "metadata": {},
   "outputs": [
    {
     "name": "stderr",
     "output_type": "stream",
     "text": [
      "/tmp/ipykernel_367528/3964782999.py:9: DeprecationWarning: The global conversion available with activate() is deprecated and will be removed in the next major release. Use a local converter.\n",
      "  anndata2ri.activate()\n"
     ]
    }
   ],
   "source": [
    "import anndata2ri\n",
    "import logging\n",
    "\n",
    "import rpy2.rinterface_lib.callbacks as rcb\n",
    "import rpy2.robjects as ro\n",
    "\n",
    "rcb.logger.setLevel(logging.ERROR)\n",
    "ro.pandas2ri.activate()\n",
    "anndata2ri.activate()\n",
    "%load_ext rpy2.ipython"
   ]
  },
  {
   "cell_type": "code",
   "execution_count": 5,
   "id": "65856a8b-6321-44fb-aaf4-2af85c99fbcc",
   "metadata": {},
   "outputs": [
    {
     "name": "stdout",
     "output_type": "stream",
     "text": [
      "hello world"
     ]
    },
    {
     "ename": "ValueError",
     "evalue": "Not an rpy2 R object and unable to map it to one: np.str_('value')",
     "output_type": "error",
     "traceback": [
      "\u001b[0;31m---------------------------------------------------------------------------\u001b[0m",
      "\u001b[0;31mAttributeError\u001b[0m                            Traceback (most recent call last)",
      "File \u001b[0;32m~/anaconda3/envs/annot/lib/python3.11/site-packages/rpy2/rinterface_lib/conversion.py:179\u001b[0m, in \u001b[0;36m_get_cdata\u001b[0;34m(obj)\u001b[0m\n\u001b[1;32m    178\u001b[0m \u001b[38;5;28;01mtry\u001b[39;00m:\n\u001b[0;32m--> 179\u001b[0m     cdata \u001b[38;5;241m=\u001b[39m \u001b[43mobj\u001b[49m\u001b[38;5;241;43m.\u001b[39;49m\u001b[43m__sexp__\u001b[49m\u001b[38;5;241m.\u001b[39m_cdata\n\u001b[1;32m    180\u001b[0m \u001b[38;5;28;01mexcept\u001b[39;00m \u001b[38;5;167;01mAttributeError\u001b[39;00m:\n",
      "\u001b[0;31mAttributeError\u001b[0m: 'numpy.str_' object has no attribute '__sexp__'",
      "\nDuring handling of the above exception, another exception occurred:\n",
      "\u001b[0;31mValueError\u001b[0m                                Traceback (most recent call last)",
      "Cell \u001b[0;32mIn[5], line 1\u001b[0m\n\u001b[0;32m----> 1\u001b[0m \u001b[43mget_ipython\u001b[49m\u001b[43m(\u001b[49m\u001b[43m)\u001b[49m\u001b[38;5;241;43m.\u001b[39;49m\u001b[43mrun_cell_magic\u001b[49m\u001b[43m(\u001b[49m\u001b[38;5;124;43m'\u001b[39;49m\u001b[38;5;124;43mR\u001b[39;49m\u001b[38;5;124;43m'\u001b[39;49m\u001b[43m,\u001b[49m\u001b[43m \u001b[49m\u001b[38;5;124;43m'\u001b[39;49m\u001b[38;5;124;43m'\u001b[39;49m\u001b[43m,\u001b[49m\u001b[43m \u001b[49m\u001b[38;5;124;43m'\u001b[39;49m\u001b[38;5;124;43mcat(\u001b[39;49m\u001b[38;5;124;43m\"\u001b[39;49m\u001b[38;5;124;43mhello world\u001b[39;49m\u001b[38;5;124;43m\"\u001b[39;49m\u001b[38;5;124;43m)\u001b[39;49m\u001b[38;5;130;43;01m\\n\u001b[39;49;00m\u001b[38;5;124;43m'\u001b[39;49m\u001b[43m)\u001b[49m\n",
      "File \u001b[0;32m~/anaconda3/envs/annot/lib/python3.11/site-packages/IPython/core/interactiveshell.py:2541\u001b[0m, in \u001b[0;36mInteractiveShell.run_cell_magic\u001b[0;34m(self, magic_name, line, cell)\u001b[0m\n\u001b[1;32m   2539\u001b[0m \u001b[38;5;28;01mwith\u001b[39;00m \u001b[38;5;28mself\u001b[39m\u001b[38;5;241m.\u001b[39mbuiltin_trap:\n\u001b[1;32m   2540\u001b[0m     args \u001b[38;5;241m=\u001b[39m (magic_arg_s, cell)\n\u001b[0;32m-> 2541\u001b[0m     result \u001b[38;5;241m=\u001b[39m \u001b[43mfn\u001b[49m\u001b[43m(\u001b[49m\u001b[38;5;241;43m*\u001b[39;49m\u001b[43margs\u001b[49m\u001b[43m,\u001b[49m\u001b[43m \u001b[49m\u001b[38;5;241;43m*\u001b[39;49m\u001b[38;5;241;43m*\u001b[39;49m\u001b[43mkwargs\u001b[49m\u001b[43m)\u001b[49m\n\u001b[1;32m   2543\u001b[0m \u001b[38;5;66;03m# The code below prevents the output from being displayed\u001b[39;00m\n\u001b[1;32m   2544\u001b[0m \u001b[38;5;66;03m# when using magics with decorator @output_can_be_silenced\u001b[39;00m\n\u001b[1;32m   2545\u001b[0m \u001b[38;5;66;03m# when the last Python token in the expression is a ';'.\u001b[39;00m\n\u001b[1;32m   2546\u001b[0m \u001b[38;5;28;01mif\u001b[39;00m \u001b[38;5;28mgetattr\u001b[39m(fn, magic\u001b[38;5;241m.\u001b[39mMAGIC_OUTPUT_CAN_BE_SILENCED, \u001b[38;5;28;01mFalse\u001b[39;00m):\n",
      "File \u001b[0;32m~/anaconda3/envs/annot/lib/python3.11/site-packages/rpy2/ipython/rmagic.py:935\u001b[0m, in \u001b[0;36mRMagics.R\u001b[0;34m(self, line, cell, local_ns)\u001b[0m\n\u001b[1;32m    927\u001b[0m                 \u001b[38;5;28;01mif\u001b[39;00m \u001b[38;5;28mself\u001b[39m\u001b[38;5;241m.\u001b[39mcache_display_data:\n\u001b[1;32m    928\u001b[0m                     stack\u001b[38;5;241m.\u001b[39menter_context(\n\u001b[1;32m    929\u001b[0m                         rpy2\u001b[38;5;241m.\u001b[39mrinterface_lib\n\u001b[1;32m    930\u001b[0m                         \u001b[38;5;241m.\u001b[39mcallbacks\n\u001b[0;32m   (...)\u001b[0m\n\u001b[1;32m    933\u001b[0m                                        \u001b[38;5;124m'\u001b[39m\u001b[38;5;124mconsolewrite_print\u001b[39m\u001b[38;5;124m'\u001b[39m,\n\u001b[1;32m    934\u001b[0m                                        \u001b[38;5;28mself\u001b[39m\u001b[38;5;241m.\u001b[39mwrite_console_regular))\n\u001b[0;32m--> 935\u001b[0m                 \u001b[43mcell_display\u001b[49m\u001b[43m(\u001b[49m\u001b[43mresult\u001b[49m\u001b[43m,\u001b[49m\u001b[43m \u001b[49m\u001b[43margs\u001b[49m\u001b[43m)\u001b[49m\n\u001b[1;32m    936\u001b[0m                 text_output \u001b[38;5;241m+\u001b[39m\u001b[38;5;241m=\u001b[39m \u001b[38;5;28mself\u001b[39m\u001b[38;5;241m.\u001b[39mflush()\n\u001b[1;32m    938\u001b[0m \u001b[38;5;28;01mexcept\u001b[39;00m RInterpreterError \u001b[38;5;28;01mas\u001b[39;00m e:\n\u001b[1;32m    939\u001b[0m     \u001b[38;5;66;03m# TODO: Maybe we should make this red or something?\u001b[39;00m\n",
      "File \u001b[0;32m~/anaconda3/envs/annot/lib/python3.11/site-packages/rpy2/ipython/rmagic.py:134\u001b[0m, in \u001b[0;36mCELL_DISPLAY_DEFAULT\u001b[0;34m(res, args)\u001b[0m\n\u001b[1;32m    133\u001b[0m \u001b[38;5;28;01mdef\u001b[39;00m\u001b[38;5;250m \u001b[39m\u001b[38;5;21mCELL_DISPLAY_DEFAULT\u001b[39m(res, args):\n\u001b[0;32m--> 134\u001b[0m     \u001b[38;5;28;01mreturn\u001b[39;00m \u001b[43mro\u001b[49m\u001b[38;5;241;43m.\u001b[39;49m\u001b[43mr\u001b[49m\u001b[38;5;241;43m.\u001b[39;49m\u001b[43mshow\u001b[49m\u001b[43m(\u001b[49m\u001b[43mres\u001b[49m\u001b[43m)\u001b[49m\n",
      "File \u001b[0;32m~/anaconda3/envs/annot/lib/python3.11/site-packages/rpy2/robjects/functions.py:208\u001b[0m, in \u001b[0;36mSignatureTranslatedFunction.__call__\u001b[0;34m(self, *args, **kwargs)\u001b[0m\n\u001b[1;32m    206\u001b[0m         v \u001b[38;5;241m=\u001b[39m kwargs\u001b[38;5;241m.\u001b[39mpop(k)\n\u001b[1;32m    207\u001b[0m         kwargs[r_k] \u001b[38;5;241m=\u001b[39m v\n\u001b[0;32m--> 208\u001b[0m \u001b[38;5;28;01mreturn\u001b[39;00m (\u001b[38;5;28;43msuper\u001b[39;49m\u001b[43m(\u001b[49m\u001b[43mSignatureTranslatedFunction\u001b[49m\u001b[43m,\u001b[49m\u001b[43m \u001b[49m\u001b[38;5;28;43mself\u001b[39;49m\u001b[43m)\u001b[49m\n\u001b[1;32m    209\u001b[0m \u001b[43m        \u001b[49m\u001b[38;5;241;43m.\u001b[39;49m\u001b[38;5;21;43m__call__\u001b[39;49m\u001b[43m(\u001b[49m\u001b[38;5;241;43m*\u001b[39;49m\u001b[43margs\u001b[49m\u001b[43m,\u001b[49m\u001b[43m \u001b[49m\u001b[38;5;241;43m*\u001b[39;49m\u001b[38;5;241;43m*\u001b[39;49m\u001b[43mkwargs\u001b[49m\u001b[43m)\u001b[49m)\n",
      "File \u001b[0;32m~/anaconda3/envs/annot/lib/python3.11/site-packages/rpy2/robjects/functions.py:131\u001b[0m, in \u001b[0;36mFunction.__call__\u001b[0;34m(self, *args, **kwargs)\u001b[0m\n\u001b[1;32m    129\u001b[0m     \u001b[38;5;28;01melse\u001b[39;00m:\n\u001b[1;32m    130\u001b[0m         new_kwargs[k] \u001b[38;5;241m=\u001b[39m cv\u001b[38;5;241m.\u001b[39mpy2rpy(v)\n\u001b[0;32m--> 131\u001b[0m res \u001b[38;5;241m=\u001b[39m \u001b[38;5;28;43msuper\u001b[39;49m\u001b[43m(\u001b[49m\u001b[43mFunction\u001b[49m\u001b[43m,\u001b[49m\u001b[43m \u001b[49m\u001b[38;5;28;43mself\u001b[39;49m\u001b[43m)\u001b[49m\u001b[38;5;241;43m.\u001b[39;49m\u001b[38;5;21;43m__call__\u001b[39;49m\u001b[43m(\u001b[49m\u001b[38;5;241;43m*\u001b[39;49m\u001b[43mnew_args\u001b[49m\u001b[43m,\u001b[49m\u001b[43m \u001b[49m\u001b[38;5;241;43m*\u001b[39;49m\u001b[38;5;241;43m*\u001b[39;49m\u001b[43mnew_kwargs\u001b[49m\u001b[43m)\u001b[49m\n\u001b[1;32m    132\u001b[0m res \u001b[38;5;241m=\u001b[39m cv\u001b[38;5;241m.\u001b[39mrpy2py(res)\n\u001b[1;32m    133\u001b[0m \u001b[38;5;28;01mreturn\u001b[39;00m res\n",
      "File \u001b[0;32m~/anaconda3/envs/annot/lib/python3.11/site-packages/rpy2/rinterface_lib/conversion.py:45\u001b[0m, in \u001b[0;36m_cdata_res_to_rinterface.<locals>._\u001b[0;34m(*args, **kwargs)\u001b[0m\n\u001b[1;32m     44\u001b[0m \u001b[38;5;28;01mdef\u001b[39;00m\u001b[38;5;250m \u001b[39m\u001b[38;5;21m_\u001b[39m(\u001b[38;5;241m*\u001b[39margs, \u001b[38;5;241m*\u001b[39m\u001b[38;5;241m*\u001b[39mkwargs):\n\u001b[0;32m---> 45\u001b[0m     cdata \u001b[38;5;241m=\u001b[39m \u001b[43mfunction\u001b[49m\u001b[43m(\u001b[49m\u001b[38;5;241;43m*\u001b[39;49m\u001b[43margs\u001b[49m\u001b[43m,\u001b[49m\u001b[43m \u001b[49m\u001b[38;5;241;43m*\u001b[39;49m\u001b[38;5;241;43m*\u001b[39;49m\u001b[43mkwargs\u001b[49m\u001b[43m)\u001b[49m\n\u001b[1;32m     46\u001b[0m     \u001b[38;5;66;03m# TODO: test cdata is of the expected CType\u001b[39;00m\n\u001b[1;32m     47\u001b[0m     \u001b[38;5;28;01mreturn\u001b[39;00m _cdata_to_rinterface(cdata)\n",
      "File \u001b[0;32m~/anaconda3/envs/annot/lib/python3.11/site-packages/rpy2/rinterface.py:807\u001b[0m, in \u001b[0;36mSexpClosure.__call__\u001b[0;34m(self, *args, **kwargs)\u001b[0m\n\u001b[1;32m    804\u001b[0m error_occured \u001b[38;5;241m=\u001b[39m _rinterface\u001b[38;5;241m.\u001b[39mffi\u001b[38;5;241m.\u001b[39mnew(\u001b[38;5;124m'\u001b[39m\u001b[38;5;124mint *\u001b[39m\u001b[38;5;124m'\u001b[39m, \u001b[38;5;241m0\u001b[39m)\n\u001b[1;32m    805\u001b[0m \u001b[38;5;28;01mwith\u001b[39;00m memorymanagement\u001b[38;5;241m.\u001b[39mrmemory() \u001b[38;5;28;01mas\u001b[39;00m rmemory:\n\u001b[1;32m    806\u001b[0m     call_r \u001b[38;5;241m=\u001b[39m rmemory\u001b[38;5;241m.\u001b[39mprotect(\n\u001b[0;32m--> 807\u001b[0m         \u001b[43m_rinterface\u001b[49m\u001b[38;5;241;43m.\u001b[39;49m\u001b[43mbuild_rcall\u001b[49m\u001b[43m(\u001b[49m\u001b[38;5;28;43mself\u001b[39;49m\u001b[38;5;241;43m.\u001b[39;49m\u001b[43m__sexp__\u001b[49m\u001b[38;5;241;43m.\u001b[39;49m\u001b[43m_cdata\u001b[49m\u001b[43m,\u001b[49m\u001b[43m \u001b[49m\u001b[43margs\u001b[49m\u001b[43m,\u001b[49m\n\u001b[1;32m    808\u001b[0m \u001b[43m                                \u001b[49m\u001b[43mkwargs\u001b[49m\u001b[38;5;241;43m.\u001b[39;49m\u001b[43mitems\u001b[49m\u001b[43m(\u001b[49m\u001b[43m)\u001b[49m\u001b[43m)\u001b[49m)\n\u001b[1;32m    809\u001b[0m     call_context \u001b[38;5;241m=\u001b[39m evaluation_context\u001b[38;5;241m.\u001b[39mget()\n\u001b[1;32m    810\u001b[0m     res \u001b[38;5;241m=\u001b[39m rmemory\u001b[38;5;241m.\u001b[39mprotect(\n\u001b[1;32m    811\u001b[0m         openrlib\u001b[38;5;241m.\u001b[39mrlib\u001b[38;5;241m.\u001b[39mR_tryEval(\n\u001b[1;32m    812\u001b[0m             call_r,\n\u001b[1;32m    813\u001b[0m             call_context\u001b[38;5;241m.\u001b[39m__sexp__\u001b[38;5;241m.\u001b[39m_cdata,\n\u001b[1;32m    814\u001b[0m             error_occured)\n\u001b[1;32m    815\u001b[0m     )\n",
      "File \u001b[0;32m~/anaconda3/envs/annot/lib/python3.11/site-packages/rpy2/rinterface_lib/_rinterface_capi.py:317\u001b[0m, in \u001b[0;36mbuild_rcall\u001b[0;34m(rfunction, args, kwargs)\u001b[0m\n\u001b[1;32m    315\u001b[0m item \u001b[38;5;241m=\u001b[39m rlib\u001b[38;5;241m.\u001b[39mCDR(rcall)\n\u001b[1;32m    316\u001b[0m \u001b[38;5;28;01mfor\u001b[39;00m val \u001b[38;5;129;01min\u001b[39;00m args:\n\u001b[0;32m--> 317\u001b[0m     cdata \u001b[38;5;241m=\u001b[39m rmemory\u001b[38;5;241m.\u001b[39mprotect(\u001b[43mconversion\u001b[49m\u001b[38;5;241;43m.\u001b[39;49m\u001b[43m_get_cdata\u001b[49m\u001b[43m(\u001b[49m\u001b[43mval\u001b[49m\u001b[43m)\u001b[49m)\n\u001b[1;32m    318\u001b[0m     rlib\u001b[38;5;241m.\u001b[39mSETCAR(item, cdata)\n\u001b[1;32m    319\u001b[0m     item \u001b[38;5;241m=\u001b[39m rlib\u001b[38;5;241m.\u001b[39mCDR(item)\n",
      "File \u001b[0;32m~/anaconda3/envs/annot/lib/python3.11/site-packages/rpy2/rinterface_lib/conversion.py:181\u001b[0m, in \u001b[0;36m_get_cdata\u001b[0;34m(obj)\u001b[0m\n\u001b[1;32m    179\u001b[0m         cdata \u001b[38;5;241m=\u001b[39m obj\u001b[38;5;241m.\u001b[39m__sexp__\u001b[38;5;241m.\u001b[39m_cdata\n\u001b[1;32m    180\u001b[0m     \u001b[38;5;28;01mexcept\u001b[39;00m \u001b[38;5;167;01mAttributeError\u001b[39;00m:\n\u001b[0;32m--> 181\u001b[0m         \u001b[38;5;28;01mraise\u001b[39;00m \u001b[38;5;167;01mValueError\u001b[39;00m(\u001b[38;5;124m'\u001b[39m\u001b[38;5;124mNot an rpy2 R object and unable \u001b[39m\u001b[38;5;124m'\u001b[39m\n\u001b[1;32m    182\u001b[0m                          \u001b[38;5;124m'\u001b[39m\u001b[38;5;124mto map it to one: \u001b[39m\u001b[38;5;132;01m%s\u001b[39;00m\u001b[38;5;124m'\u001b[39m \u001b[38;5;241m%\u001b[39m \u001b[38;5;28mrepr\u001b[39m(obj))\n\u001b[1;32m    183\u001b[0m \u001b[38;5;28;01melse\u001b[39;00m:\n\u001b[1;32m    184\u001b[0m     cdata \u001b[38;5;241m=\u001b[39m \u001b[38;5;28mcls\u001b[39m(obj)\n",
      "\u001b[0;31mValueError\u001b[0m: Not an rpy2 R object and unable to map it to one: np.str_('value')"
     ]
    }
   ],
   "source": [
    "%%R\n",
    "cat(\"hello world\")"
   ]
  },
  {
   "cell_type": "code",
   "execution_count": 6,
   "id": "751d7031-ca9a-4390-b619-fe44875d2c31",
   "metadata": {},
   "outputs": [
    {
     "name": "stdout",
     "output_type": "stream",
     "text": [
      "\n",
      "    WARNING: The R package \"reticulate\" only fixed recently\n",
      "    an issue that caused a segfault when used with rpy2:\n",
      "    https://github.com/rstudio/reticulate/pull/1188\n",
      "    Make sure that you use a version of that package that includes\n",
      "    the fix.\n",
      "    "
     ]
    },
    {
     "ename": "ValueError",
     "evalue": "Not an rpy2 R object and unable to map it to one: np.str_('value')",
     "output_type": "error",
     "traceback": [
      "\u001b[0;31m---------------------------------------------------------------------------\u001b[0m",
      "\u001b[0;31mAttributeError\u001b[0m                            Traceback (most recent call last)",
      "File \u001b[0;32m~/anaconda3/envs/annot/lib/python3.11/site-packages/rpy2/rinterface_lib/conversion.py:179\u001b[0m, in \u001b[0;36m_get_cdata\u001b[0;34m(obj)\u001b[0m\n\u001b[1;32m    178\u001b[0m \u001b[38;5;28;01mtry\u001b[39;00m:\n\u001b[0;32m--> 179\u001b[0m     cdata \u001b[38;5;241m=\u001b[39m \u001b[43mobj\u001b[49m\u001b[38;5;241;43m.\u001b[39;49m\u001b[43m__sexp__\u001b[49m\u001b[38;5;241m.\u001b[39m_cdata\n\u001b[1;32m    180\u001b[0m \u001b[38;5;28;01mexcept\u001b[39;00m \u001b[38;5;167;01mAttributeError\u001b[39;00m:\n",
      "\u001b[0;31mAttributeError\u001b[0m: 'numpy.str_' object has no attribute '__sexp__'",
      "\nDuring handling of the above exception, another exception occurred:\n",
      "\u001b[0;31mValueError\u001b[0m                                Traceback (most recent call last)",
      "Cell \u001b[0;32mIn[6], line 1\u001b[0m\n\u001b[0;32m----> 1\u001b[0m \u001b[43mget_ipython\u001b[49m\u001b[43m(\u001b[49m\u001b[43m)\u001b[49m\u001b[38;5;241;43m.\u001b[39;49m\u001b[43mrun_cell_magic\u001b[49m\u001b[43m(\u001b[49m\u001b[38;5;124;43m'\u001b[39;49m\u001b[38;5;124;43mR\u001b[39;49m\u001b[38;5;124;43m'\u001b[39;49m\u001b[43m,\u001b[49m\u001b[43m \u001b[49m\u001b[38;5;124;43m'\u001b[39;49m\u001b[38;5;124;43m'\u001b[39;49m\u001b[43m,\u001b[49m\u001b[43m \u001b[49m\u001b[38;5;124;43m'\u001b[39;49m\u001b[38;5;124;43mlibrary(Seurat)\u001b[39;49m\u001b[38;5;130;43;01m\\n\u001b[39;49;00m\u001b[38;5;124;43mlibrary(scater)\u001b[39;49m\u001b[38;5;130;43;01m\\n\u001b[39;49;00m\u001b[38;5;124;43mlibrary(scDblFinder)\u001b[39;49m\u001b[38;5;130;43;01m\\n\u001b[39;49;00m\u001b[38;5;124;43mlibrary(BiocParallel)\u001b[39;49m\u001b[38;5;130;43;01m\\n\u001b[39;49;00m\u001b[38;5;124;43m'\u001b[39;49m\u001b[43m)\u001b[49m\n",
      "File \u001b[0;32m~/anaconda3/envs/annot/lib/python3.11/site-packages/IPython/core/interactiveshell.py:2541\u001b[0m, in \u001b[0;36mInteractiveShell.run_cell_magic\u001b[0;34m(self, magic_name, line, cell)\u001b[0m\n\u001b[1;32m   2539\u001b[0m \u001b[38;5;28;01mwith\u001b[39;00m \u001b[38;5;28mself\u001b[39m\u001b[38;5;241m.\u001b[39mbuiltin_trap:\n\u001b[1;32m   2540\u001b[0m     args \u001b[38;5;241m=\u001b[39m (magic_arg_s, cell)\n\u001b[0;32m-> 2541\u001b[0m     result \u001b[38;5;241m=\u001b[39m \u001b[43mfn\u001b[49m\u001b[43m(\u001b[49m\u001b[38;5;241;43m*\u001b[39;49m\u001b[43margs\u001b[49m\u001b[43m,\u001b[49m\u001b[43m \u001b[49m\u001b[38;5;241;43m*\u001b[39;49m\u001b[38;5;241;43m*\u001b[39;49m\u001b[43mkwargs\u001b[49m\u001b[43m)\u001b[49m\n\u001b[1;32m   2543\u001b[0m \u001b[38;5;66;03m# The code below prevents the output from being displayed\u001b[39;00m\n\u001b[1;32m   2544\u001b[0m \u001b[38;5;66;03m# when using magics with decorator @output_can_be_silenced\u001b[39;00m\n\u001b[1;32m   2545\u001b[0m \u001b[38;5;66;03m# when the last Python token in the expression is a ';'.\u001b[39;00m\n\u001b[1;32m   2546\u001b[0m \u001b[38;5;28;01mif\u001b[39;00m \u001b[38;5;28mgetattr\u001b[39m(fn, magic\u001b[38;5;241m.\u001b[39mMAGIC_OUTPUT_CAN_BE_SILENCED, \u001b[38;5;28;01mFalse\u001b[39;00m):\n",
      "File \u001b[0;32m~/anaconda3/envs/annot/lib/python3.11/site-packages/rpy2/ipython/rmagic.py:935\u001b[0m, in \u001b[0;36mRMagics.R\u001b[0;34m(self, line, cell, local_ns)\u001b[0m\n\u001b[1;32m    927\u001b[0m                 \u001b[38;5;28;01mif\u001b[39;00m \u001b[38;5;28mself\u001b[39m\u001b[38;5;241m.\u001b[39mcache_display_data:\n\u001b[1;32m    928\u001b[0m                     stack\u001b[38;5;241m.\u001b[39menter_context(\n\u001b[1;32m    929\u001b[0m                         rpy2\u001b[38;5;241m.\u001b[39mrinterface_lib\n\u001b[1;32m    930\u001b[0m                         \u001b[38;5;241m.\u001b[39mcallbacks\n\u001b[0;32m   (...)\u001b[0m\n\u001b[1;32m    933\u001b[0m                                        \u001b[38;5;124m'\u001b[39m\u001b[38;5;124mconsolewrite_print\u001b[39m\u001b[38;5;124m'\u001b[39m,\n\u001b[1;32m    934\u001b[0m                                        \u001b[38;5;28mself\u001b[39m\u001b[38;5;241m.\u001b[39mwrite_console_regular))\n\u001b[0;32m--> 935\u001b[0m                 \u001b[43mcell_display\u001b[49m\u001b[43m(\u001b[49m\u001b[43mresult\u001b[49m\u001b[43m,\u001b[49m\u001b[43m \u001b[49m\u001b[43margs\u001b[49m\u001b[43m)\u001b[49m\n\u001b[1;32m    936\u001b[0m                 text_output \u001b[38;5;241m+\u001b[39m\u001b[38;5;241m=\u001b[39m \u001b[38;5;28mself\u001b[39m\u001b[38;5;241m.\u001b[39mflush()\n\u001b[1;32m    938\u001b[0m \u001b[38;5;28;01mexcept\u001b[39;00m RInterpreterError \u001b[38;5;28;01mas\u001b[39;00m e:\n\u001b[1;32m    939\u001b[0m     \u001b[38;5;66;03m# TODO: Maybe we should make this red or something?\u001b[39;00m\n",
      "File \u001b[0;32m~/anaconda3/envs/annot/lib/python3.11/site-packages/rpy2/ipython/rmagic.py:134\u001b[0m, in \u001b[0;36mCELL_DISPLAY_DEFAULT\u001b[0;34m(res, args)\u001b[0m\n\u001b[1;32m    133\u001b[0m \u001b[38;5;28;01mdef\u001b[39;00m\u001b[38;5;250m \u001b[39m\u001b[38;5;21mCELL_DISPLAY_DEFAULT\u001b[39m(res, args):\n\u001b[0;32m--> 134\u001b[0m     \u001b[38;5;28;01mreturn\u001b[39;00m \u001b[43mro\u001b[49m\u001b[38;5;241;43m.\u001b[39;49m\u001b[43mr\u001b[49m\u001b[38;5;241;43m.\u001b[39;49m\u001b[43mshow\u001b[49m\u001b[43m(\u001b[49m\u001b[43mres\u001b[49m\u001b[43m)\u001b[49m\n",
      "File \u001b[0;32m~/anaconda3/envs/annot/lib/python3.11/site-packages/rpy2/robjects/functions.py:208\u001b[0m, in \u001b[0;36mSignatureTranslatedFunction.__call__\u001b[0;34m(self, *args, **kwargs)\u001b[0m\n\u001b[1;32m    206\u001b[0m         v \u001b[38;5;241m=\u001b[39m kwargs\u001b[38;5;241m.\u001b[39mpop(k)\n\u001b[1;32m    207\u001b[0m         kwargs[r_k] \u001b[38;5;241m=\u001b[39m v\n\u001b[0;32m--> 208\u001b[0m \u001b[38;5;28;01mreturn\u001b[39;00m (\u001b[38;5;28;43msuper\u001b[39;49m\u001b[43m(\u001b[49m\u001b[43mSignatureTranslatedFunction\u001b[49m\u001b[43m,\u001b[49m\u001b[43m \u001b[49m\u001b[38;5;28;43mself\u001b[39;49m\u001b[43m)\u001b[49m\n\u001b[1;32m    209\u001b[0m \u001b[43m        \u001b[49m\u001b[38;5;241;43m.\u001b[39;49m\u001b[38;5;21;43m__call__\u001b[39;49m\u001b[43m(\u001b[49m\u001b[38;5;241;43m*\u001b[39;49m\u001b[43margs\u001b[49m\u001b[43m,\u001b[49m\u001b[43m \u001b[49m\u001b[38;5;241;43m*\u001b[39;49m\u001b[38;5;241;43m*\u001b[39;49m\u001b[43mkwargs\u001b[49m\u001b[43m)\u001b[49m)\n",
      "File \u001b[0;32m~/anaconda3/envs/annot/lib/python3.11/site-packages/rpy2/robjects/functions.py:131\u001b[0m, in \u001b[0;36mFunction.__call__\u001b[0;34m(self, *args, **kwargs)\u001b[0m\n\u001b[1;32m    129\u001b[0m     \u001b[38;5;28;01melse\u001b[39;00m:\n\u001b[1;32m    130\u001b[0m         new_kwargs[k] \u001b[38;5;241m=\u001b[39m cv\u001b[38;5;241m.\u001b[39mpy2rpy(v)\n\u001b[0;32m--> 131\u001b[0m res \u001b[38;5;241m=\u001b[39m \u001b[38;5;28;43msuper\u001b[39;49m\u001b[43m(\u001b[49m\u001b[43mFunction\u001b[49m\u001b[43m,\u001b[49m\u001b[43m \u001b[49m\u001b[38;5;28;43mself\u001b[39;49m\u001b[43m)\u001b[49m\u001b[38;5;241;43m.\u001b[39;49m\u001b[38;5;21;43m__call__\u001b[39;49m\u001b[43m(\u001b[49m\u001b[38;5;241;43m*\u001b[39;49m\u001b[43mnew_args\u001b[49m\u001b[43m,\u001b[49m\u001b[43m \u001b[49m\u001b[38;5;241;43m*\u001b[39;49m\u001b[38;5;241;43m*\u001b[39;49m\u001b[43mnew_kwargs\u001b[49m\u001b[43m)\u001b[49m\n\u001b[1;32m    132\u001b[0m res \u001b[38;5;241m=\u001b[39m cv\u001b[38;5;241m.\u001b[39mrpy2py(res)\n\u001b[1;32m    133\u001b[0m \u001b[38;5;28;01mreturn\u001b[39;00m res\n",
      "File \u001b[0;32m~/anaconda3/envs/annot/lib/python3.11/site-packages/rpy2/rinterface_lib/conversion.py:45\u001b[0m, in \u001b[0;36m_cdata_res_to_rinterface.<locals>._\u001b[0;34m(*args, **kwargs)\u001b[0m\n\u001b[1;32m     44\u001b[0m \u001b[38;5;28;01mdef\u001b[39;00m\u001b[38;5;250m \u001b[39m\u001b[38;5;21m_\u001b[39m(\u001b[38;5;241m*\u001b[39margs, \u001b[38;5;241m*\u001b[39m\u001b[38;5;241m*\u001b[39mkwargs):\n\u001b[0;32m---> 45\u001b[0m     cdata \u001b[38;5;241m=\u001b[39m \u001b[43mfunction\u001b[49m\u001b[43m(\u001b[49m\u001b[38;5;241;43m*\u001b[39;49m\u001b[43margs\u001b[49m\u001b[43m,\u001b[49m\u001b[43m \u001b[49m\u001b[38;5;241;43m*\u001b[39;49m\u001b[38;5;241;43m*\u001b[39;49m\u001b[43mkwargs\u001b[49m\u001b[43m)\u001b[49m\n\u001b[1;32m     46\u001b[0m     \u001b[38;5;66;03m# TODO: test cdata is of the expected CType\u001b[39;00m\n\u001b[1;32m     47\u001b[0m     \u001b[38;5;28;01mreturn\u001b[39;00m _cdata_to_rinterface(cdata)\n",
      "File \u001b[0;32m~/anaconda3/envs/annot/lib/python3.11/site-packages/rpy2/rinterface.py:807\u001b[0m, in \u001b[0;36mSexpClosure.__call__\u001b[0;34m(self, *args, **kwargs)\u001b[0m\n\u001b[1;32m    804\u001b[0m error_occured \u001b[38;5;241m=\u001b[39m _rinterface\u001b[38;5;241m.\u001b[39mffi\u001b[38;5;241m.\u001b[39mnew(\u001b[38;5;124m'\u001b[39m\u001b[38;5;124mint *\u001b[39m\u001b[38;5;124m'\u001b[39m, \u001b[38;5;241m0\u001b[39m)\n\u001b[1;32m    805\u001b[0m \u001b[38;5;28;01mwith\u001b[39;00m memorymanagement\u001b[38;5;241m.\u001b[39mrmemory() \u001b[38;5;28;01mas\u001b[39;00m rmemory:\n\u001b[1;32m    806\u001b[0m     call_r \u001b[38;5;241m=\u001b[39m rmemory\u001b[38;5;241m.\u001b[39mprotect(\n\u001b[0;32m--> 807\u001b[0m         \u001b[43m_rinterface\u001b[49m\u001b[38;5;241;43m.\u001b[39;49m\u001b[43mbuild_rcall\u001b[49m\u001b[43m(\u001b[49m\u001b[38;5;28;43mself\u001b[39;49m\u001b[38;5;241;43m.\u001b[39;49m\u001b[43m__sexp__\u001b[49m\u001b[38;5;241;43m.\u001b[39;49m\u001b[43m_cdata\u001b[49m\u001b[43m,\u001b[49m\u001b[43m \u001b[49m\u001b[43margs\u001b[49m\u001b[43m,\u001b[49m\n\u001b[1;32m    808\u001b[0m \u001b[43m                                \u001b[49m\u001b[43mkwargs\u001b[49m\u001b[38;5;241;43m.\u001b[39;49m\u001b[43mitems\u001b[49m\u001b[43m(\u001b[49m\u001b[43m)\u001b[49m\u001b[43m)\u001b[49m)\n\u001b[1;32m    809\u001b[0m     call_context \u001b[38;5;241m=\u001b[39m evaluation_context\u001b[38;5;241m.\u001b[39mget()\n\u001b[1;32m    810\u001b[0m     res \u001b[38;5;241m=\u001b[39m rmemory\u001b[38;5;241m.\u001b[39mprotect(\n\u001b[1;32m    811\u001b[0m         openrlib\u001b[38;5;241m.\u001b[39mrlib\u001b[38;5;241m.\u001b[39mR_tryEval(\n\u001b[1;32m    812\u001b[0m             call_r,\n\u001b[1;32m    813\u001b[0m             call_context\u001b[38;5;241m.\u001b[39m__sexp__\u001b[38;5;241m.\u001b[39m_cdata,\n\u001b[1;32m    814\u001b[0m             error_occured)\n\u001b[1;32m    815\u001b[0m     )\n",
      "File \u001b[0;32m~/anaconda3/envs/annot/lib/python3.11/site-packages/rpy2/rinterface_lib/_rinterface_capi.py:317\u001b[0m, in \u001b[0;36mbuild_rcall\u001b[0;34m(rfunction, args, kwargs)\u001b[0m\n\u001b[1;32m    315\u001b[0m item \u001b[38;5;241m=\u001b[39m rlib\u001b[38;5;241m.\u001b[39mCDR(rcall)\n\u001b[1;32m    316\u001b[0m \u001b[38;5;28;01mfor\u001b[39;00m val \u001b[38;5;129;01min\u001b[39;00m args:\n\u001b[0;32m--> 317\u001b[0m     cdata \u001b[38;5;241m=\u001b[39m rmemory\u001b[38;5;241m.\u001b[39mprotect(\u001b[43mconversion\u001b[49m\u001b[38;5;241;43m.\u001b[39;49m\u001b[43m_get_cdata\u001b[49m\u001b[43m(\u001b[49m\u001b[43mval\u001b[49m\u001b[43m)\u001b[49m)\n\u001b[1;32m    318\u001b[0m     rlib\u001b[38;5;241m.\u001b[39mSETCAR(item, cdata)\n\u001b[1;32m    319\u001b[0m     item \u001b[38;5;241m=\u001b[39m rlib\u001b[38;5;241m.\u001b[39mCDR(item)\n",
      "File \u001b[0;32m~/anaconda3/envs/annot/lib/python3.11/site-packages/rpy2/rinterface_lib/conversion.py:181\u001b[0m, in \u001b[0;36m_get_cdata\u001b[0;34m(obj)\u001b[0m\n\u001b[1;32m    179\u001b[0m         cdata \u001b[38;5;241m=\u001b[39m obj\u001b[38;5;241m.\u001b[39m__sexp__\u001b[38;5;241m.\u001b[39m_cdata\n\u001b[1;32m    180\u001b[0m     \u001b[38;5;28;01mexcept\u001b[39;00m \u001b[38;5;167;01mAttributeError\u001b[39;00m:\n\u001b[0;32m--> 181\u001b[0m         \u001b[38;5;28;01mraise\u001b[39;00m \u001b[38;5;167;01mValueError\u001b[39;00m(\u001b[38;5;124m'\u001b[39m\u001b[38;5;124mNot an rpy2 R object and unable \u001b[39m\u001b[38;5;124m'\u001b[39m\n\u001b[1;32m    182\u001b[0m                          \u001b[38;5;124m'\u001b[39m\u001b[38;5;124mto map it to one: \u001b[39m\u001b[38;5;132;01m%s\u001b[39;00m\u001b[38;5;124m'\u001b[39m \u001b[38;5;241m%\u001b[39m \u001b[38;5;28mrepr\u001b[39m(obj))\n\u001b[1;32m    183\u001b[0m \u001b[38;5;28;01melse\u001b[39;00m:\n\u001b[1;32m    184\u001b[0m     cdata \u001b[38;5;241m=\u001b[39m \u001b[38;5;28mcls\u001b[39m(obj)\n",
      "\u001b[0;31mValueError\u001b[0m: Not an rpy2 R object and unable to map it to one: np.str_('value')"
     ]
    }
   ],
   "source": [
    "%%R\n",
    "library(Seurat)\n",
    "library(scater)\n",
    "library(scDblFinder)\n",
    "library(BiocParallel)"
   ]
  },
  {
   "cell_type": "code",
   "execution_count": 12,
   "id": "3be971c0-3260-4908-a393-c1ee5e419d15",
   "metadata": {},
   "outputs": [],
   "source": [
    "import warnings \n",
    "warnings.simplefilter(\"ignore\", FutureWarning)\n",
    "warnings.simplefilter(\"ignore\", UserWarning)\n",
    "warnings.simplefilter(\"ignore\", RuntimeWarning)"
   ]
  },
  {
   "cell_type": "code",
   "execution_count": 14,
   "id": "f1da8f80-6318-4d5d-beee-4b782d4dc00a",
   "metadata": {},
   "outputs": [],
   "source": [
    "path_filtered_files_h5 = '/home/ybeaumatin/Documents/Data processing pipeline/scRNA/Data/h5_files_filtered'"
   ]
  },
  {
   "cell_type": "code",
   "execution_count": 15,
   "id": "61dc7883-6b0e-4864-b312-39abe4ded12e",
   "metadata": {},
   "outputs": [],
   "source": [
    "adatas = [x for x in os.listdir(path_filtered_files_h5 ) \n",
    "          if x.endswith('.h5')]"
   ]
  },
  {
   "cell_type": "code",
   "execution_count": 16,
   "id": "d4c10a07-e4f5-437b-ab0f-3d1a1ebe0abe",
   "metadata": {},
   "outputs": [],
   "source": [
    "def load_it(adata):\n",
    "    samp= adata.split('_')[5]\n",
    "    dpi_end = adata.split('_')[6]\n",
    "    dpi = dpi_end.split('.')[0]\n",
    "    adata = sc.read_10x_h5(path_filtered_files_h5 + '/' + adata)\n",
    "    adata.obs['Sample'] = samp\n",
    "    adata.obs['dpi'] = dpi\n",
    "    adata.obs['Id'] = adata.obs['Sample'] + '_' + adata.obs['dpi']\n",
    "    adata.obs.index = adata.obs.index + '-' + samp + '_' + dpi\n",
    "    remove = ['Sample','dpi']\n",
    "\n",
    "    adata.obs = adata.obs[[x for x in adata.obs.columns if x not in remove]]\n",
    "    return adata"
   ]
  },
  {
   "cell_type": "code",
   "execution_count": 17,
   "id": "ebffd71a-b47b-4e10-8bd3-6fb8a81302be",
   "metadata": {},
   "outputs": [],
   "source": [
    "adatas = [load_it(ad) for ad in adatas]"
   ]
  },
  {
   "cell_type": "code",
   "execution_count": 18,
   "id": "77f09312-e1be-479c-bcc7-dbb074551d0c",
   "metadata": {},
   "outputs": [
    {
     "data": {
      "text/plain": [
       "[AnnData object with n_obs × n_vars = 9137 × 18087\n",
       "     obs: 'Id'\n",
       "     var: 'gene_ids', 'feature_types', 'genome',\n",
       " AnnData object with n_obs × n_vars = 10542 × 18087\n",
       "     obs: 'Id'\n",
       "     var: 'gene_ids', 'feature_types', 'genome',\n",
       " AnnData object with n_obs × n_vars = 8525 × 18087\n",
       "     obs: 'Id'\n",
       "     var: 'gene_ids', 'feature_types', 'genome',\n",
       " AnnData object with n_obs × n_vars = 11004 × 18087\n",
       "     obs: 'Id'\n",
       "     var: 'gene_ids', 'feature_types', 'genome']"
      ]
     },
     "execution_count": 18,
     "metadata": {},
     "output_type": "execute_result"
    }
   ],
   "source": [
    "adatas"
   ]
  },
  {
   "cell_type": "code",
   "execution_count": 19,
   "id": "48891d65-529f-4d41-ac8f-193b74098020",
   "metadata": {},
   "outputs": [],
   "source": [
    "for ad in adatas:\n",
    "    ad.var_names_make_unique()"
   ]
  },
  {
   "cell_type": "code",
   "execution_count": 20,
   "id": "8b14388c-d228-480b-99da-dac51e002bcc",
   "metadata": {},
   "outputs": [],
   "source": [
    "def qc(adata):\n",
    "    sc.pp.filter_cells(adata, min_genes = 200)\n",
    "    adata.var[\"mt\"] = adata.var_names.str.startswith(\"MT-\")\n",
    "    adata.var[\"ribo\"] = adata.var_names.str.startswith(\"RPS\", \"RPL\")\n",
    "    adata.var[\"hb\"] = adata.var_names.str.startswith(\"^HB[^(P)]\")\n",
    "    sc.pp.calculate_qc_metrics(adata,qc_vars=[\"mt\",\"ribo\",\"hb\"], inplace = True, percent_top = [20], log1p=True)\n",
    "\n",
    "    remove = ['total_counts_mt', 'log1p_total_counts_mt', 'total_counts_ribo',\n",
    "              'log1p_total_counts_ribo','total_counts_hb','log1p_total_counts_hb']\n",
    "\n",
    "    adata.obs = adata.obs[[x for x in adata.obs.columns if x not in remove]]\n",
    "    return adata"
   ]
  },
  {
   "cell_type": "code",
   "execution_count": 21,
   "id": "6a74c5e6-1b09-46ce-b214-220f3bfd5f17",
   "metadata": {},
   "outputs": [],
   "source": [
    "adatas = [qc(ad) for ad in adatas]"
   ]
  },
  {
   "cell_type": "code",
   "execution_count": 22,
   "id": "c66c0d66-43a7-4e1f-a707-ef556f203090",
   "metadata": {},
   "outputs": [
    {
     "data": {
      "text/html": [
       "<div>\n",
       "<style scoped>\n",
       "    .dataframe tbody tr th:only-of-type {\n",
       "        vertical-align: middle;\n",
       "    }\n",
       "\n",
       "    .dataframe tbody tr th {\n",
       "        vertical-align: top;\n",
       "    }\n",
       "\n",
       "    .dataframe thead th {\n",
       "        text-align: right;\n",
       "    }\n",
       "</style>\n",
       "<table border=\"1\" class=\"dataframe\">\n",
       "  <thead>\n",
       "    <tr style=\"text-align: right;\">\n",
       "      <th></th>\n",
       "      <th>Id</th>\n",
       "      <th>n_genes</th>\n",
       "      <th>n_genes_by_counts</th>\n",
       "      <th>log1p_n_genes_by_counts</th>\n",
       "      <th>total_counts</th>\n",
       "      <th>log1p_total_counts</th>\n",
       "      <th>pct_counts_in_top_20_genes</th>\n",
       "      <th>pct_counts_mt</th>\n",
       "      <th>pct_counts_ribo</th>\n",
       "      <th>pct_counts_hb</th>\n",
       "    </tr>\n",
       "  </thead>\n",
       "  <tbody>\n",
       "    <tr>\n",
       "      <th>AAACAAGCAGCTCGCTATGTTGAC-1-Inf_J6</th>\n",
       "      <td>Inf_J6</td>\n",
       "      <td>4730</td>\n",
       "      <td>4730</td>\n",
       "      <td>8.461892</td>\n",
       "      <td>14274.0</td>\n",
       "      <td>9.566265</td>\n",
       "      <td>18.775396</td>\n",
       "      <td>0.175144</td>\n",
       "      <td>0.0</td>\n",
       "      <td>0.0</td>\n",
       "    </tr>\n",
       "    <tr>\n",
       "      <th>AAACCAATCACCTAATATGTTGAC-1-Inf_J6</th>\n",
       "      <td>Inf_J6</td>\n",
       "      <td>8415</td>\n",
       "      <td>8415</td>\n",
       "      <td>9.037890</td>\n",
       "      <td>54307.0</td>\n",
       "      <td>10.902427</td>\n",
       "      <td>19.159593</td>\n",
       "      <td>0.252270</td>\n",
       "      <td>0.0</td>\n",
       "      <td>0.0</td>\n",
       "    </tr>\n",
       "    <tr>\n",
       "      <th>AAACCAATCATTATGCATGTTGAC-1-Inf_J6</th>\n",
       "      <td>Inf_J6</td>\n",
       "      <td>5073</td>\n",
       "      <td>5073</td>\n",
       "      <td>8.531885</td>\n",
       "      <td>18919.0</td>\n",
       "      <td>9.847975</td>\n",
       "      <td>29.494159</td>\n",
       "      <td>0.190285</td>\n",
       "      <td>0.0</td>\n",
       "      <td>0.0</td>\n",
       "    </tr>\n",
       "    <tr>\n",
       "      <th>AAACCAATCATTGCATATGTTGAC-1-Inf_J6</th>\n",
       "      <td>Inf_J6</td>\n",
       "      <td>5705</td>\n",
       "      <td>5705</td>\n",
       "      <td>8.649274</td>\n",
       "      <td>20530.0</td>\n",
       "      <td>9.929691</td>\n",
       "      <td>16.585485</td>\n",
       "      <td>0.998539</td>\n",
       "      <td>0.0</td>\n",
       "      <td>0.0</td>\n",
       "    </tr>\n",
       "    <tr>\n",
       "      <th>AAACCAATCCAAATTCATGTTGAC-1-Inf_J6</th>\n",
       "      <td>Inf_J6</td>\n",
       "      <td>5398</td>\n",
       "      <td>5398</td>\n",
       "      <td>8.593969</td>\n",
       "      <td>14307.0</td>\n",
       "      <td>9.568574</td>\n",
       "      <td>6.304606</td>\n",
       "      <td>0.146781</td>\n",
       "      <td>0.0</td>\n",
       "      <td>0.0</td>\n",
       "    </tr>\n",
       "    <tr>\n",
       "      <th>...</th>\n",
       "      <td>...</td>\n",
       "      <td>...</td>\n",
       "      <td>...</td>\n",
       "      <td>...</td>\n",
       "      <td>...</td>\n",
       "      <td>...</td>\n",
       "      <td>...</td>\n",
       "      <td>...</td>\n",
       "      <td>...</td>\n",
       "      <td>...</td>\n",
       "    </tr>\n",
       "    <tr>\n",
       "      <th>TTTGGCGGTAACTACCATGTTGAC-1-Inf_J6</th>\n",
       "      <td>Inf_J6</td>\n",
       "      <td>2631</td>\n",
       "      <td>2631</td>\n",
       "      <td>7.875499</td>\n",
       "      <td>4842.0</td>\n",
       "      <td>8.485290</td>\n",
       "      <td>15.386204</td>\n",
       "      <td>0.309789</td>\n",
       "      <td>0.0</td>\n",
       "      <td>0.0</td>\n",
       "    </tr>\n",
       "    <tr>\n",
       "      <th>TTTGGCGGTAAGCGTAATGTTGAC-1-Inf_J6</th>\n",
       "      <td>Inf_J6</td>\n",
       "      <td>4769</td>\n",
       "      <td>4769</td>\n",
       "      <td>8.470102</td>\n",
       "      <td>15426.0</td>\n",
       "      <td>9.643874</td>\n",
       "      <td>15.493323</td>\n",
       "      <td>0.187994</td>\n",
       "      <td>0.0</td>\n",
       "      <td>0.0</td>\n",
       "    </tr>\n",
       "    <tr>\n",
       "      <th>TTTGGCGGTCTGTGATATGTTGAC-1-Inf_J6</th>\n",
       "      <td>Inf_J6</td>\n",
       "      <td>3147</td>\n",
       "      <td>3147</td>\n",
       "      <td>8.054523</td>\n",
       "      <td>7126.0</td>\n",
       "      <td>8.871646</td>\n",
       "      <td>22.537188</td>\n",
       "      <td>0.266629</td>\n",
       "      <td>0.0</td>\n",
       "      <td>0.0</td>\n",
       "    </tr>\n",
       "    <tr>\n",
       "      <th>TTTGGCGGTTGGATGAATGTTGAC-1-Inf_J6</th>\n",
       "      <td>Inf_J6</td>\n",
       "      <td>4975</td>\n",
       "      <td>4975</td>\n",
       "      <td>8.512382</td>\n",
       "      <td>15833.0</td>\n",
       "      <td>9.669915</td>\n",
       "      <td>15.208741</td>\n",
       "      <td>0.025264</td>\n",
       "      <td>0.0</td>\n",
       "      <td>0.0</td>\n",
       "    </tr>\n",
       "    <tr>\n",
       "      <th>TTTGTGAGTGTCCAATATGTTGAC-1-Inf_J6</th>\n",
       "      <td>Inf_J6</td>\n",
       "      <td>4306</td>\n",
       "      <td>4306</td>\n",
       "      <td>8.367997</td>\n",
       "      <td>12490.0</td>\n",
       "      <td>9.432764</td>\n",
       "      <td>24.171337</td>\n",
       "      <td>0.144115</td>\n",
       "      <td>0.0</td>\n",
       "      <td>0.0</td>\n",
       "    </tr>\n",
       "  </tbody>\n",
       "</table>\n",
       "<p>9128 rows × 10 columns</p>\n",
       "</div>"
      ],
      "text/plain": [
       "                                       Id  n_genes  n_genes_by_counts  \\\n",
       "AAACAAGCAGCTCGCTATGTTGAC-1-Inf_J6  Inf_J6     4730               4730   \n",
       "AAACCAATCACCTAATATGTTGAC-1-Inf_J6  Inf_J6     8415               8415   \n",
       "AAACCAATCATTATGCATGTTGAC-1-Inf_J6  Inf_J6     5073               5073   \n",
       "AAACCAATCATTGCATATGTTGAC-1-Inf_J6  Inf_J6     5705               5705   \n",
       "AAACCAATCCAAATTCATGTTGAC-1-Inf_J6  Inf_J6     5398               5398   \n",
       "...                                   ...      ...                ...   \n",
       "TTTGGCGGTAACTACCATGTTGAC-1-Inf_J6  Inf_J6     2631               2631   \n",
       "TTTGGCGGTAAGCGTAATGTTGAC-1-Inf_J6  Inf_J6     4769               4769   \n",
       "TTTGGCGGTCTGTGATATGTTGAC-1-Inf_J6  Inf_J6     3147               3147   \n",
       "TTTGGCGGTTGGATGAATGTTGAC-1-Inf_J6  Inf_J6     4975               4975   \n",
       "TTTGTGAGTGTCCAATATGTTGAC-1-Inf_J6  Inf_J6     4306               4306   \n",
       "\n",
       "                                   log1p_n_genes_by_counts  total_counts  \\\n",
       "AAACAAGCAGCTCGCTATGTTGAC-1-Inf_J6                 8.461892       14274.0   \n",
       "AAACCAATCACCTAATATGTTGAC-1-Inf_J6                 9.037890       54307.0   \n",
       "AAACCAATCATTATGCATGTTGAC-1-Inf_J6                 8.531885       18919.0   \n",
       "AAACCAATCATTGCATATGTTGAC-1-Inf_J6                 8.649274       20530.0   \n",
       "AAACCAATCCAAATTCATGTTGAC-1-Inf_J6                 8.593969       14307.0   \n",
       "...                                                    ...           ...   \n",
       "TTTGGCGGTAACTACCATGTTGAC-1-Inf_J6                 7.875499        4842.0   \n",
       "TTTGGCGGTAAGCGTAATGTTGAC-1-Inf_J6                 8.470102       15426.0   \n",
       "TTTGGCGGTCTGTGATATGTTGAC-1-Inf_J6                 8.054523        7126.0   \n",
       "TTTGGCGGTTGGATGAATGTTGAC-1-Inf_J6                 8.512382       15833.0   \n",
       "TTTGTGAGTGTCCAATATGTTGAC-1-Inf_J6                 8.367997       12490.0   \n",
       "\n",
       "                                   log1p_total_counts  \\\n",
       "AAACAAGCAGCTCGCTATGTTGAC-1-Inf_J6            9.566265   \n",
       "AAACCAATCACCTAATATGTTGAC-1-Inf_J6           10.902427   \n",
       "AAACCAATCATTATGCATGTTGAC-1-Inf_J6            9.847975   \n",
       "AAACCAATCATTGCATATGTTGAC-1-Inf_J6            9.929691   \n",
       "AAACCAATCCAAATTCATGTTGAC-1-Inf_J6            9.568574   \n",
       "...                                               ...   \n",
       "TTTGGCGGTAACTACCATGTTGAC-1-Inf_J6            8.485290   \n",
       "TTTGGCGGTAAGCGTAATGTTGAC-1-Inf_J6            9.643874   \n",
       "TTTGGCGGTCTGTGATATGTTGAC-1-Inf_J6            8.871646   \n",
       "TTTGGCGGTTGGATGAATGTTGAC-1-Inf_J6            9.669915   \n",
       "TTTGTGAGTGTCCAATATGTTGAC-1-Inf_J6            9.432764   \n",
       "\n",
       "                                   pct_counts_in_top_20_genes  pct_counts_mt  \\\n",
       "AAACAAGCAGCTCGCTATGTTGAC-1-Inf_J6                   18.775396       0.175144   \n",
       "AAACCAATCACCTAATATGTTGAC-1-Inf_J6                   19.159593       0.252270   \n",
       "AAACCAATCATTATGCATGTTGAC-1-Inf_J6                   29.494159       0.190285   \n",
       "AAACCAATCATTGCATATGTTGAC-1-Inf_J6                   16.585485       0.998539   \n",
       "AAACCAATCCAAATTCATGTTGAC-1-Inf_J6                    6.304606       0.146781   \n",
       "...                                                       ...            ...   \n",
       "TTTGGCGGTAACTACCATGTTGAC-1-Inf_J6                   15.386204       0.309789   \n",
       "TTTGGCGGTAAGCGTAATGTTGAC-1-Inf_J6                   15.493323       0.187994   \n",
       "TTTGGCGGTCTGTGATATGTTGAC-1-Inf_J6                   22.537188       0.266629   \n",
       "TTTGGCGGTTGGATGAATGTTGAC-1-Inf_J6                   15.208741       0.025264   \n",
       "TTTGTGAGTGTCCAATATGTTGAC-1-Inf_J6                   24.171337       0.144115   \n",
       "\n",
       "                                   pct_counts_ribo  pct_counts_hb  \n",
       "AAACAAGCAGCTCGCTATGTTGAC-1-Inf_J6              0.0            0.0  \n",
       "AAACCAATCACCTAATATGTTGAC-1-Inf_J6              0.0            0.0  \n",
       "AAACCAATCATTATGCATGTTGAC-1-Inf_J6              0.0            0.0  \n",
       "AAACCAATCATTGCATATGTTGAC-1-Inf_J6              0.0            0.0  \n",
       "AAACCAATCCAAATTCATGTTGAC-1-Inf_J6              0.0            0.0  \n",
       "...                                            ...            ...  \n",
       "TTTGGCGGTAACTACCATGTTGAC-1-Inf_J6              0.0            0.0  \n",
       "TTTGGCGGTAAGCGTAATGTTGAC-1-Inf_J6              0.0            0.0  \n",
       "TTTGGCGGTCTGTGATATGTTGAC-1-Inf_J6              0.0            0.0  \n",
       "TTTGGCGGTTGGATGAATGTTGAC-1-Inf_J6              0.0            0.0  \n",
       "TTTGTGAGTGTCCAATATGTTGAC-1-Inf_J6              0.0            0.0  \n",
       "\n",
       "[9128 rows x 10 columns]"
      ]
     },
     "execution_count": 22,
     "metadata": {},
     "output_type": "execute_result"
    }
   ],
   "source": [
    "adatas[0].obs"
   ]
  },
  {
   "cell_type": "code",
   "execution_count": null,
   "id": "e394aa4d-9908-4632-b1a0-df7cca937bd1",
   "metadata": {},
   "outputs": [],
   "source": [
    "#scDbFinder"
   ]
  },
  {
   "cell_type": "code",
   "execution_count": null,
   "id": "aea4dfe2-7e3c-42f0-bfb1-2bcb733c2be9",
   "metadata": {},
   "outputs": [],
   "source": []
  },
  {
   "cell_type": "code",
   "execution_count": null,
   "id": "c67cde49-dd55-4f6b-8d51-25983b6ff9fc",
   "metadata": {},
   "outputs": [],
   "source": [
    "for idx, adata in enumerate(adatas):\n",
    "\n",
    "    counts = np.array(adata.X) \n",
    "    print(counts.shape)\n",
    "\n",
    "\n",
    "    ro.r.assign(\"counts_data\", counts)\n",
    "    ro.r(f\"sce_{idx} <- SingleCellExperiment(list(counts=counts_data))\")\n",
    "    ro.r(f\"set.seed(123)\")\n",
    "    ro.r(f\"sce_{idx} <- scDblFinder(sce_{idx})\")\n",
    "\n",
    "    ro.r(f\"doublet_score_{idx} <- sce_{idx}$scDblFinder.score\")\n",
    "    ro.r(f\"doublet_class_{idx} <- sce_{idx}$scDblFinder.class\")\n",
    "    \n",
    "    # Extraire les résultats en Python si nécessaire\n",
    "    doublet_score = ro.r(f\"doublet_score_{idx}\")\n",
    "    doublet_class = ro.r(f\"doublet_class_{idx}\")"
   ]
  },
  {
   "cell_type": "code",
   "execution_count": null,
   "id": "d9dca444-4a1b-4309-90aa-14c80dcda74c",
   "metadata": {},
   "outputs": [],
   "source": []
  },
  {
   "cell_type": "code",
   "execution_count": null,
   "id": "a2e419d2-d99b-42bb-8dd6-041ce79deb98",
   "metadata": {},
   "outputs": [],
   "source": []
  },
  {
   "cell_type": "code",
   "execution_count": null,
   "id": "f61de6e0-00d8-403a-af59-c50d5b442d70",
   "metadata": {},
   "outputs": [],
   "source": [
    "print(adatas[0].X.shape)\n",
    "print(type(adatas[0].X))"
   ]
  },
  {
   "cell_type": "code",
   "execution_count": null,
   "id": "8a9130c8-629b-49df-88be-c4c61544cbbc",
   "metadata": {},
   "outputs": [],
   "source": []
  },
  {
   "cell_type": "code",
   "execution_count": 23,
   "id": "55b99a2a-8dc9-47ce-a443-bc933d75100b",
   "metadata": {},
   "outputs": [],
   "source": [
    "def mad_outlier(adata, metric, nmads, upper_only = False):\n",
    "    M = adata.obs[metric]\n",
    "    \n",
    "    if not upper_only:\n",
    "        return (M < np.median(M) - nmads * mad(M)) | (M > np.median(M) + nmads * mad(M))\n",
    "    \n",
    "    return (M > np.median(M) + nmads * mad(M))"
   ]
  },
  {
   "cell_type": "code",
   "execution_count": 24,
   "id": "caa18660-a4ae-49c4-98cc-b6816268d96a",
   "metadata": {},
   "outputs": [],
   "source": [
    "clf = doubletdetection.BoostClassifier(\n",
    "    n_iters=10,\n",
    "    clustering_algorithm=\"louvain\",\n",
    "    standard_scaling=True,\n",
    "    pseudocount=0.1,\n",
    "    n_jobs=-1)"
   ]
  },
  {
   "cell_type": "code",
   "execution_count": 25,
   "id": "e3513d05-fb1c-484c-8e7b-fc81ee77eee1",
   "metadata": {},
   "outputs": [],
   "source": [
    "def pp(adata):\n",
    "    adata = adata[adata.obs.pct_counts_mt < 6] \n",
    "    \n",
    "    bool_vector = mad_outlier(adata, 'log1p_total_counts', 5) +\\\n",
    "            mad_outlier(adata, 'log1p_n_genes_by_counts', 5) +\\\n",
    "            mad_outlier(adata, 'pct_counts_in_top_20_genes', 5) +\\\n",
    "            mad_outlier(adata, 'pct_counts_mt', 3, upper_only = True)\n",
    "    adata = adata[~bool_vector]\n",
    "\n",
    "    adata.uns['cells_removed'] = sum(bool_vector)\n",
    "\n",
    "    doublets = clf.fit(adata.X).predict(p_thresh=1e-16, voter_thresh=0.6)\n",
    "    doublet_score = clf.doublet_score()\n",
    "\n",
    "    adata.obs[\"doublet_dbd\"] = doublets\n",
    "    adata.obs[\"doublet_score_dbd\"] = doublet_score\n",
    "\n",
    "    adata.uns['doublets_removed_dbd'] = adata.obs.doublet_dbd.sum()\n",
    "    adata = adata[adata.obs.doublet_dbd == 0]\n",
    "    #adata = adata[adata.obs.scDblFinder_class == 0]\n",
    "\n",
    "    return adata"
   ]
  },
  {
   "cell_type": "code",
   "execution_count": 26,
   "id": "b9f08c28-6b60-49e9-9f0e-2f66d07b0979",
   "metadata": {},
   "outputs": [
    {
     "data": {
      "application/vnd.jupyter.widget-view+json": {
       "model_id": "db144690c0084840a8c90dd0994be9be",
       "version_major": 2,
       "version_minor": 0
      },
      "text/plain": [
       "  0%|          | 0/10 [00:00<?, ?it/s]"
      ]
     },
     "metadata": {},
     "output_type": "display_data"
    },
    {
     "ename": "AttributeError",
     "evalue": "'csr_matrix' object has no attribute 'A'",
     "output_type": "error",
     "traceback": [
      "\u001b[0;31m---------------------------------------------------------------------------\u001b[0m",
      "\u001b[0;31mAttributeError\u001b[0m                            Traceback (most recent call last)",
      "Cell \u001b[0;32mIn[26], line 1\u001b[0m\n\u001b[0;32m----> 1\u001b[0m adatas \u001b[38;5;241m=\u001b[39m \u001b[43m[\u001b[49m\u001b[43mpp\u001b[49m\u001b[43m(\u001b[49m\u001b[43mad\u001b[49m\u001b[43m)\u001b[49m\u001b[43m \u001b[49m\u001b[38;5;28;43;01mfor\u001b[39;49;00m\u001b[43m \u001b[49m\u001b[43mad\u001b[49m\u001b[43m \u001b[49m\u001b[38;5;129;43;01min\u001b[39;49;00m\u001b[43m \u001b[49m\u001b[43madatas\u001b[49m\u001b[43m]\u001b[49m\n",
      "Cell \u001b[0;32mIn[26], line 1\u001b[0m, in \u001b[0;36m<listcomp>\u001b[0;34m(.0)\u001b[0m\n\u001b[0;32m----> 1\u001b[0m adatas \u001b[38;5;241m=\u001b[39m [\u001b[43mpp\u001b[49m\u001b[43m(\u001b[49m\u001b[43mad\u001b[49m\u001b[43m)\u001b[49m \u001b[38;5;28;01mfor\u001b[39;00m ad \u001b[38;5;129;01min\u001b[39;00m adatas]\n",
      "Cell \u001b[0;32mIn[25], line 12\u001b[0m, in \u001b[0;36mpp\u001b[0;34m(adata)\u001b[0m\n\u001b[1;32m      8\u001b[0m adata \u001b[38;5;241m=\u001b[39m adata[\u001b[38;5;241m~\u001b[39mbool_vector]\n\u001b[1;32m     10\u001b[0m adata\u001b[38;5;241m.\u001b[39muns[\u001b[38;5;124m'\u001b[39m\u001b[38;5;124mcells_removed\u001b[39m\u001b[38;5;124m'\u001b[39m] \u001b[38;5;241m=\u001b[39m \u001b[38;5;28msum\u001b[39m(bool_vector)\n\u001b[0;32m---> 12\u001b[0m doublets \u001b[38;5;241m=\u001b[39m \u001b[43mclf\u001b[49m\u001b[38;5;241;43m.\u001b[39;49m\u001b[43mfit\u001b[49m\u001b[43m(\u001b[49m\u001b[43madata\u001b[49m\u001b[38;5;241;43m.\u001b[39;49m\u001b[43mX\u001b[49m\u001b[43m)\u001b[49m\u001b[38;5;241m.\u001b[39mpredict(p_thresh\u001b[38;5;241m=\u001b[39m\u001b[38;5;241m1e-16\u001b[39m, voter_thresh\u001b[38;5;241m=\u001b[39m\u001b[38;5;241m0.6\u001b[39m)\n\u001b[1;32m     13\u001b[0m doublet_score \u001b[38;5;241m=\u001b[39m clf\u001b[38;5;241m.\u001b[39mdoublet_score()\n\u001b[1;32m     15\u001b[0m adata\u001b[38;5;241m.\u001b[39mobs[\u001b[38;5;124m\"\u001b[39m\u001b[38;5;124mdoublet_dbd\u001b[39m\u001b[38;5;124m\"\u001b[39m] \u001b[38;5;241m=\u001b[39m doublets\n",
      "File \u001b[0;32m~/anaconda3/envs/annot/lib/python3.11/site-packages/doubletdetection/doubletdetection.py:208\u001b[0m, in \u001b[0;36mBoostClassifier.fit\u001b[0;34m(self, raw_counts)\u001b[0m\n\u001b[1;32m    206\u001b[0m \u001b[38;5;28;01mif\u001b[39;00m \u001b[38;5;28mself\u001b[39m\u001b[38;5;241m.\u001b[39mverbose:\n\u001b[1;32m    207\u001b[0m     \u001b[38;5;28mprint\u001b[39m(\u001b[38;5;124m\"\u001b[39m\u001b[38;5;124mIteration \u001b[39m\u001b[38;5;132;01m{:3}\u001b[39;00m\u001b[38;5;124m/\u001b[39m\u001b[38;5;132;01m{}\u001b[39;00m\u001b[38;5;124m\"\u001b[39m\u001b[38;5;241m.\u001b[39mformat(i \u001b[38;5;241m+\u001b[39m \u001b[38;5;241m1\u001b[39m, \u001b[38;5;28mself\u001b[39m\u001b[38;5;241m.\u001b[39mn_iters))\n\u001b[0;32m--> 208\u001b[0m \u001b[38;5;28mself\u001b[39m\u001b[38;5;241m.\u001b[39mall_scores_[i], \u001b[38;5;28mself\u001b[39m\u001b[38;5;241m.\u001b[39mall_log_p_values_[i] \u001b[38;5;241m=\u001b[39m \u001b[38;5;28;43mself\u001b[39;49m\u001b[38;5;241;43m.\u001b[39;49m\u001b[43m_one_fit\u001b[49m\u001b[43m(\u001b[49m\u001b[43m)\u001b[49m\n\u001b[1;32m    209\u001b[0m all_communities[i] \u001b[38;5;241m=\u001b[39m \u001b[38;5;28mself\u001b[39m\u001b[38;5;241m.\u001b[39mcommunities_\n\u001b[1;32m    210\u001b[0m all_parents\u001b[38;5;241m.\u001b[39mappend(\u001b[38;5;28mself\u001b[39m\u001b[38;5;241m.\u001b[39mparents_)\n",
      "File \u001b[0;32m~/anaconda3/envs/annot/lib/python3.11/site-packages/doubletdetection/doubletdetection.py:308\u001b[0m, in \u001b[0;36mBoostClassifier._one_fit\u001b[0;34m(self)\u001b[0m\n\u001b[1;32m    306\u001b[0m scaled_aug_counts \u001b[38;5;241m=\u001b[39m aug_counts \u001b[38;5;241m*\u001b[39m np\u001b[38;5;241m.\u001b[39mmedian(aug_lib_size)\n\u001b[1;32m    307\u001b[0m \u001b[38;5;28;01mif\u001b[39;00m \u001b[38;5;28mself\u001b[39m\u001b[38;5;241m.\u001b[39mpseudocount \u001b[38;5;241m!=\u001b[39m \u001b[38;5;241m1\u001b[39m:\n\u001b[0;32m--> 308\u001b[0m     aug_counts \u001b[38;5;241m=\u001b[39m np\u001b[38;5;241m.\u001b[39mlog(\u001b[43mscaled_aug_counts\u001b[49m\u001b[38;5;241;43m.\u001b[39;49m\u001b[43mA\u001b[49m \u001b[38;5;241m+\u001b[39m \u001b[38;5;241m0.1\u001b[39m)\n\u001b[1;32m    309\u001b[0m \u001b[38;5;28;01melse\u001b[39;00m:\n\u001b[1;32m    310\u001b[0m     aug_counts \u001b[38;5;241m=\u001b[39m np\u001b[38;5;241m.\u001b[39mlog1p(scaled_aug_counts)\n",
      "\u001b[0;31mAttributeError\u001b[0m: 'csr_matrix' object has no attribute 'A'"
     ]
    }
   ],
   "source": [
    "adatas = [pp(ad) for ad in adatas]"
   ]
  },
  {
   "cell_type": "code",
   "execution_count": null,
   "id": "3b76ca8a-f352-4b53-83af-f80cc6e54e68",
   "metadata": {},
   "outputs": [],
   "source": []
  },
  {
   "cell_type": "code",
   "execution_count": null,
   "id": "0aed037b-ffbf-44a6-96b1-511a804bf306",
   "metadata": {},
   "outputs": [],
   "source": []
  },
  {
   "cell_type": "code",
   "execution_count": null,
   "id": "869c1f2e-7f22-4fb1-94c0-6982439384b9",
   "metadata": {},
   "outputs": [],
   "source": [
    "# partie avec choix de la prédiction en fonction d'une méthode machine learning ou pondérée"
   ]
  },
  {
   "cell_type": "code",
   "execution_count": null,
   "id": "4ebd94ca-c813-47cd-9450-3f62b03a6d30",
   "metadata": {},
   "outputs": [],
   "source": []
  },
  {
   "cell_type": "code",
   "execution_count": null,
   "id": "9c1f877a-ae74-4214-81c8-79f14368245b",
   "metadata": {},
   "outputs": [],
   "source": []
  },
  {
   "cell_type": "code",
   "execution_count": null,
   "id": "5dbf7ee3-9212-4cf9-98fe-7a263ffdab6e",
   "metadata": {},
   "outputs": [],
   "source": [
    "for adata in adatas:\n",
    "    print(len(adata), adata.uns['cells_removed'], adata.uns['doublets_removed_dbd'])"
   ]
  },
  {
   "cell_type": "code",
   "execution_count": null,
   "id": "178b823f-ec11-42bc-95ae-6e786fec815f",
   "metadata": {},
   "outputs": [],
   "source": []
  },
  {
   "cell_type": "code",
   "execution_count": null,
   "id": "c2eafbb3-25f1-4c4b-83c3-d0544ceb3454",
   "metadata": {},
   "outputs": [],
   "source": []
  },
  {
   "cell_type": "code",
   "execution_count": null,
   "id": "1b29b06f-ff75-4986-b730-45ff2409c989",
   "metadata": {},
   "outputs": [],
   "source": [
    "os.makedirs('C:/Users/test/Documents/yohan/Data processing pipeline/scRNA/Output/processed_data', exist_ok = True)"
   ]
  },
  {
   "cell_type": "code",
   "execution_count": null,
   "id": "41592779-f7ed-401d-86da-b3be31b2a2d3",
   "metadata": {},
   "outputs": [],
   "source": [
    "for ad in adatas:\n",
    "    unique_id = ad.obs['Id'][0]\n",
    "    file_path = os.path.join(\"processed_data\", f'adata_{unique_id}.h5ad')\n",
    "    ad.write(file_path)\n",
    "    print(f\"Saved: {file_path}\")"
   ]
  },
  {
   "cell_type": "code",
   "execution_count": null,
   "id": "118e10f2-5db7-4110-b481-148737068309",
   "metadata": {},
   "outputs": [],
   "source": []
  },
  {
   "cell_type": "code",
   "execution_count": null,
   "id": "c858cdf0-32eb-4e43-9476-1818787866b4",
   "metadata": {},
   "outputs": [],
   "source": []
  },
  {
   "cell_type": "code",
   "execution_count": null,
   "id": "5d4e219b-af0e-4ab6-8293-26ce23c5afa2",
   "metadata": {},
   "outputs": [],
   "source": []
  },
  {
   "cell_type": "code",
   "execution_count": null,
   "id": "942b5b7d-72e3-4db3-b213-f1b3be307a89",
   "metadata": {},
   "outputs": [],
   "source": []
  },
  {
   "cell_type": "code",
   "execution_count": null,
   "id": "883aa469-2f19-4b9b-8031-741db4068101",
   "metadata": {},
   "outputs": [],
   "source": []
  },
  {
   "cell_type": "code",
   "execution_count": null,
   "id": "af4beb94-117c-4aed-aa67-b34d23ad69ee",
   "metadata": {},
   "outputs": [],
   "source": []
  },
  {
   "cell_type": "code",
   "execution_count": null,
   "id": "ae45be71-00a2-40a8-95a6-6d6bcbeffe95",
   "metadata": {},
   "outputs": [],
   "source": []
  },
  {
   "cell_type": "code",
   "execution_count": null,
   "id": "cc70e46e-08a2-4bd6-93df-23037c3c7389",
   "metadata": {},
   "outputs": [],
   "source": []
  },
  {
   "cell_type": "code",
   "execution_count": null,
   "id": "3c899be0-04a0-4a03-b298-c12e0e886a08",
   "metadata": {},
   "outputs": [],
   "source": []
  },
  {
   "cell_type": "code",
   "execution_count": null,
   "id": "0c2981ef-720f-474e-bce9-7adcb2013b3e",
   "metadata": {},
   "outputs": [],
   "source": []
  },
  {
   "cell_type": "code",
   "execution_count": null,
   "id": "efcb7727-2526-4c1c-ae3e-475abf637173",
   "metadata": {},
   "outputs": [],
   "source": []
  },
  {
   "cell_type": "code",
   "execution_count": null,
   "id": "c8162095-cb70-4bcc-b481-4cab8a485b64",
   "metadata": {},
   "outputs": [],
   "source": []
  },
  {
   "cell_type": "code",
   "execution_count": null,
   "id": "e2e91268-46a3-437d-92c0-07fc73fcfc4b",
   "metadata": {},
   "outputs": [],
   "source": []
  },
  {
   "cell_type": "code",
   "execution_count": null,
   "id": "ce21f742-6629-40d2-a105-ad8065d3356c",
   "metadata": {},
   "outputs": [],
   "source": []
  },
  {
   "cell_type": "code",
   "execution_count": null,
   "id": "adf6d003-962e-431a-a8f7-ddc228139eb6",
   "metadata": {},
   "outputs": [],
   "source": []
  },
  {
   "cell_type": "code",
   "execution_count": null,
   "id": "1a107df9-2ad2-46df-ad4f-5d1fb61f1457",
   "metadata": {},
   "outputs": [],
   "source": []
  },
  {
   "cell_type": "code",
   "execution_count": null,
   "id": "94324f73-73ae-4042-b2ff-5d06f5e8022b",
   "metadata": {},
   "outputs": [],
   "source": []
  },
  {
   "cell_type": "code",
   "execution_count": null,
   "id": "1d603c57-fe5e-478b-9e20-32a718304d22",
   "metadata": {},
   "outputs": [],
   "source": []
  }
 ],
 "metadata": {
  "kernelspec": {
   "display_name": "Python 3 (ipykernel)",
   "language": "python",
   "name": "python3"
  },
  "language_info": {
   "codemirror_mode": {
    "name": "ipython",
    "version": 3
   },
   "file_extension": ".py",
   "mimetype": "text/x-python",
   "name": "python",
   "nbconvert_exporter": "python",
   "pygments_lexer": "ipython3",
   "version": "3.9.21"
  }
 },
 "nbformat": 4,
 "nbformat_minor": 5
}
