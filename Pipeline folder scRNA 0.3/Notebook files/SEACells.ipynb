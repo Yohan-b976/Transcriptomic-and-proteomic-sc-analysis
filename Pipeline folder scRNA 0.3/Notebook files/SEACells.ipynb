{
 "cells": [
  {
   "cell_type": "code",
   "execution_count": 1,
   "id": "da72f91f-a3ee-4612-ab73-646f66c6d0ce",
   "metadata": {},
   "outputs": [
    {
     "ename": "TypeError",
     "evalue": "metaclass conflict: the metaclass of a derived class must be a (non-strict) subclass of the metaclasses of all its bases",
     "output_type": "error",
     "traceback": [
      "\u001b[1;31m---------------------------------------------------------------------------\u001b[0m",
      "\u001b[1;31mTypeError\u001b[0m                                 Traceback (most recent call last)",
      "Cell \u001b[1;32mIn[1], line 1\u001b[0m\n\u001b[1;32m----> 1\u001b[0m \u001b[38;5;28;01mimport\u001b[39;00m \u001b[38;5;21;01mscanpy\u001b[39;00m \u001b[38;5;28;01mas\u001b[39;00m \u001b[38;5;21;01msc\u001b[39;00m\n\u001b[0;32m      2\u001b[0m \u001b[38;5;28;01mimport\u001b[39;00m \u001b[38;5;21;01mSEACells\u001b[39;00m\n\u001b[0;32m      3\u001b[0m \u001b[38;5;28;01mimport\u001b[39;00m \u001b[38;5;21;01mnumpy\u001b[39;00m \u001b[38;5;28;01mas\u001b[39;00m \u001b[38;5;21;01mnp\u001b[39;00m\n",
      "File \u001b[1;32m~\\anaconda3\\envs\\seacells_w\\lib\\site-packages\\scanpy\\__init__.py:16\u001b[0m\n\u001b[0;32m     14\u001b[0m \u001b[38;5;28;01mfrom\u001b[39;00m \u001b[38;5;21;01m.\u001b[39;00m \u001b[38;5;28;01mimport\u001b[39;00m tools \u001b[38;5;28;01mas\u001b[39;00m tl\n\u001b[0;32m     15\u001b[0m \u001b[38;5;28;01mfrom\u001b[39;00m \u001b[38;5;21;01m.\u001b[39;00m \u001b[38;5;28;01mimport\u001b[39;00m preprocessing \u001b[38;5;28;01mas\u001b[39;00m pp\n\u001b[1;32m---> 16\u001b[0m \u001b[38;5;28;01mfrom\u001b[39;00m \u001b[38;5;21;01m.\u001b[39;00m \u001b[38;5;28;01mimport\u001b[39;00m plotting \u001b[38;5;28;01mas\u001b[39;00m pl\n\u001b[0;32m     17\u001b[0m \u001b[38;5;28;01mfrom\u001b[39;00m \u001b[38;5;21;01m.\u001b[39;00m \u001b[38;5;28;01mimport\u001b[39;00m datasets, logging, queries, external, get, metrics\n\u001b[0;32m     19\u001b[0m \u001b[38;5;28;01mfrom\u001b[39;00m \u001b[38;5;21;01manndata\u001b[39;00m \u001b[38;5;28;01mimport\u001b[39;00m AnnData, concat\n",
      "File \u001b[1;32m~\\anaconda3\\envs\\seacells_w\\lib\\site-packages\\scanpy\\plotting\\__init__.py:1\u001b[0m\n\u001b[1;32m----> 1\u001b[0m \u001b[38;5;28;01mfrom\u001b[39;00m \u001b[38;5;21;01m.\u001b[39;00m\u001b[38;5;21;01m_anndata\u001b[39;00m \u001b[38;5;28;01mimport\u001b[39;00m (\n\u001b[0;32m      2\u001b[0m     scatter,\n\u001b[0;32m      3\u001b[0m     violin,\n\u001b[0;32m      4\u001b[0m     ranking,\n\u001b[0;32m      5\u001b[0m     clustermap,\n\u001b[0;32m      6\u001b[0m     tracksplot,\n\u001b[0;32m      7\u001b[0m     dendrogram,\n\u001b[0;32m      8\u001b[0m     correlation_matrix,\n\u001b[0;32m      9\u001b[0m     heatmap,\n\u001b[0;32m     10\u001b[0m )\n\u001b[0;32m     11\u001b[0m \u001b[38;5;28;01mfrom\u001b[39;00m \u001b[38;5;21;01m.\u001b[39;00m\u001b[38;5;21;01m_dotplot\u001b[39;00m \u001b[38;5;28;01mimport\u001b[39;00m DotPlot, dotplot\n\u001b[0;32m     12\u001b[0m \u001b[38;5;28;01mfrom\u001b[39;00m \u001b[38;5;21;01m.\u001b[39;00m\u001b[38;5;21;01m_matrixplot\u001b[39;00m \u001b[38;5;28;01mimport\u001b[39;00m MatrixPlot, matrixplot\n",
      "File \u001b[1;32m~\\anaconda3\\envs\\seacells_w\\lib\\site-packages\\scanpy\\plotting\\_anndata.py:28\u001b[0m\n\u001b[0;32m     26\u001b[0m \u001b[38;5;28;01mfrom\u001b[39;00m \u001b[38;5;21;01m.\u001b[39;00m\u001b[38;5;21;01m.\u001b[39;00m\u001b[38;5;21;01m_utils\u001b[39;00m \u001b[38;5;28;01mimport\u001b[39;00m sanitize_anndata, _doc_params, _check_use_raw\n\u001b[0;32m     27\u001b[0m \u001b[38;5;28;01mfrom\u001b[39;00m \u001b[38;5;21;01m.\u001b[39;00m\u001b[38;5;21;01m.\u001b[39;00m\u001b[38;5;21;01m_compat\u001b[39;00m \u001b[38;5;28;01mimport\u001b[39;00m Literal\n\u001b[1;32m---> 28\u001b[0m \u001b[38;5;28;01mfrom\u001b[39;00m \u001b[38;5;21;01m.\u001b[39;00m \u001b[38;5;28;01mimport\u001b[39;00m _utils\n\u001b[0;32m     29\u001b[0m \u001b[38;5;28;01mfrom\u001b[39;00m \u001b[38;5;21;01m.\u001b[39;00m\u001b[38;5;21;01m_utils\u001b[39;00m \u001b[38;5;28;01mimport\u001b[39;00m scatter_base, scatter_group, setup_axes, check_colornorm\n\u001b[0;32m     30\u001b[0m \u001b[38;5;28;01mfrom\u001b[39;00m \u001b[38;5;21;01m.\u001b[39;00m\u001b[38;5;21;01m_utils\u001b[39;00m \u001b[38;5;28;01mimport\u001b[39;00m ColorLike, _FontWeight, _FontSize\n",
      "File \u001b[1;32m~\\anaconda3\\envs\\seacells_w\\lib\\site-packages\\scanpy\\plotting\\_utils.py:35\u001b[0m\n\u001b[0;32m     29\u001b[0m _FontSize \u001b[38;5;241m=\u001b[39m Literal[\n\u001b[0;32m     30\u001b[0m     \u001b[38;5;124m'\u001b[39m\u001b[38;5;124mxx-small\u001b[39m\u001b[38;5;124m'\u001b[39m, \u001b[38;5;124m'\u001b[39m\u001b[38;5;124mx-small\u001b[39m\u001b[38;5;124m'\u001b[39m, \u001b[38;5;124m'\u001b[39m\u001b[38;5;124msmall\u001b[39m\u001b[38;5;124m'\u001b[39m, \u001b[38;5;124m'\u001b[39m\u001b[38;5;124mmedium\u001b[39m\u001b[38;5;124m'\u001b[39m, \u001b[38;5;124m'\u001b[39m\u001b[38;5;124mlarge\u001b[39m\u001b[38;5;124m'\u001b[39m, \u001b[38;5;124m'\u001b[39m\u001b[38;5;124mx-large\u001b[39m\u001b[38;5;124m'\u001b[39m, \u001b[38;5;124m'\u001b[39m\u001b[38;5;124mxx-large\u001b[39m\u001b[38;5;124m'\u001b[39m\n\u001b[0;32m     31\u001b[0m ]\n\u001b[0;32m     32\u001b[0m VBound \u001b[38;5;241m=\u001b[39m Union[\u001b[38;5;28mstr\u001b[39m, \u001b[38;5;28mfloat\u001b[39m, Callable[[Sequence[\u001b[38;5;28mfloat\u001b[39m]], \u001b[38;5;28mfloat\u001b[39m]]\n\u001b[1;32m---> 35\u001b[0m \u001b[38;5;28;01mclass\u001b[39;00m \u001b[38;5;21;01m_AxesSubplot\u001b[39;00m(Axes, axes\u001b[38;5;241m.\u001b[39mSubplotBase, ABC):\n\u001b[0;32m     36\u001b[0m \u001b[38;5;250m    \u001b[39m\u001b[38;5;124;03m\"\"\"Intersection between Axes and SubplotBase: Has methods of both\"\"\"\u001b[39;00m\n\u001b[0;32m     39\u001b[0m \u001b[38;5;66;03m# -------------------------------------------------------------------------------\u001b[39;00m\n\u001b[0;32m     40\u001b[0m \u001b[38;5;66;03m# Simple plotting functions\u001b[39;00m\n\u001b[0;32m     41\u001b[0m \u001b[38;5;66;03m# -------------------------------------------------------------------------------\u001b[39;00m\n",
      "\u001b[1;31mTypeError\u001b[0m: metaclass conflict: the metaclass of a derived class must be a (non-strict) subclass of the metaclasses of all its bases"
     ]
    }
   ],
   "source": [
    "import scanpy as sc\n",
    "import SEACells\n",
    "import numpy as np\n",
    "import pandas as pd\n",
    "#from sklearn.neighbors import NearestNeighbors"
   ]
  },
  {
   "cell_type": "code",
   "execution_count": 3,
   "id": "7713e6a8-6c7c-4158-b8e7-5dfa348238a3",
   "metadata": {},
   "outputs": [
    {
     "ename": "NameError",
     "evalue": "name 'sc' is not defined",
     "output_type": "error",
     "traceback": [
      "\u001b[1;31m---------------------------------------------------------------------------\u001b[0m",
      "\u001b[1;31mNameError\u001b[0m                                 Traceback (most recent call last)",
      "Cell \u001b[1;32mIn[3], line 1\u001b[0m\n\u001b[1;32m----> 1\u001b[0m adata \u001b[38;5;241m=\u001b[39m \u001b[43msc\u001b[49m\u001b[38;5;241m.\u001b[39mread(\u001b[38;5;124m'\u001b[39m\u001b[38;5;124mG:/Data processing pipeline 0.1 Yohan/scRNA/Output/annotation_finished_1_data_Xtrain/annotation_data_Xtrain.h5ad\u001b[39m\u001b[38;5;124m'\u001b[39m)\n",
      "\u001b[1;31mNameError\u001b[0m: name 'sc' is not defined"
     ]
    }
   ],
   "source": [
    "adata = sc.read('G:/Data processing pipeline 0.1 Yohan/scRNA/Output/annotation_finished_1_data_Xtrain/annotation_data_Xtrain.h5ad')"
   ]
  },
  {
   "cell_type": "code",
   "execution_count": null,
   "id": "1ec54275-2197-4a2d-a8ab-a4a59e95425a",
   "metadata": {},
   "outputs": [],
   "source": [
    "adata.X = adata.layers['log1p_norm_train'].copy()"
   ]
  },
  {
   "cell_type": "code",
   "execution_count": null,
   "id": "a3812ea0-547a-4e34-ab1d-789d1ad9c64f",
   "metadata": {},
   "outputs": [],
   "source": [
    "adata.obs['SEACell'] = 'Unk'"
   ]
  },
  {
   "cell_type": "code",
   "execution_count": null,
   "id": "4c570c62-8454-41fe-8fd9-a4de0ccbd9a4",
   "metadata": {},
   "outputs": [],
   "source": [
    "metacell_dict = {}  # dictionary of metacells\n",
    "n_SEACells  = 100    # number of meta cells per Id \n",
    "n_waypoint_eigs = 10"
   ]
  },
  {
   "cell_type": "code",
   "execution_count": null,
   "id": "3466fa98-4faf-4574-abfd-5108010cc861",
   "metadata": {},
   "outputs": [],
   "source": []
  },
  {
   "cell_type": "code",
   "execution_count": null,
   "id": "f5c35434-bce0-4b19-938c-1c3e5034daa0",
   "metadata": {},
   "outputs": [],
   "source": [
    "for sample_id in adata.obs['Id'].unique():\n",
    "    \n",
    "   adata_sub = adata[adata.obs['Id'] == sample_id].copy() \n",
    "\n",
    "   model = SEACells.core.SEACells(ad, \n",
    "                  build_kernel_on='X_scVI', \n",
    "                  n_SEACells=n_SEACells, \n",
    "                  n_waypoint_eigs=n_waypoint_eigs,\n",
    "                  convergence_epsilon = 1e-5)\n",
    "    model.construct_kernel_matrix()\n",
    "\n",
    "    model.initialize_archetypes()\n",
    "    SEACells.plot.plot_initialization(adata_sub, model)\n",
    "    model.fit(min_iter=10, max_iter=50)\n",
    "    model.plot_convergence()\n",
    "    adata[adata.obs['Id'] == sample_id].obs['SEACells'] = adata_sub.obs['SEACell']\n",
    "    \n"
   ]
  },
  {
   "cell_type": "code",
   "execution_count": null,
   "id": "6f6db175-9261-40bc-a87e-4d09fb462321",
   "metadata": {},
   "outputs": [],
   "source": [
    "meta_test_expression = []"
   ]
  },
  {
   "cell_type": "code",
   "execution_count": null,
   "id": "7c13af64-b002-4bfc-82e3-cdc8ae99898a",
   "metadata": {},
   "outputs": [],
   "source": [
    "for sample_id in adata_test.obs['Id'].unique():\n",
    "\n",
    "    adata_train_sub = metacell_dict[sample_id]\n",
    "    \n",
    "\n",
    "    # Sélectionner les cellules X_test du même `Id`\n",
    "    adata_test_sub = adata_test[adata_test.obs['Id'] == sample_id].copy()\n",
    "\n",
    "    if adata_test_sub.n_obs == 0:\n",
    "        print(f\" Aucune cellule test pour {sample_id}, passage\")\n",
    "        continue\n",
    "\n",
    "    # Trouver le plus proche voisin dans les métacellules correspondantes\n",
    "    nn = NearestNeighbors(n_neighbors=1, metric=\"euclidean\").fit(metacell_centers)\n",
    "    distances, indices = nn.kneighbors(adata_test_sub.obsm['X_pca'])\n",
    "\n",
    "    # Assigner chaque cellule X_test à une métacellule de X_train du même `Id`\n",
    "    adata_test_sub.obs['metacell'] = [metacell_centers.index[i] for i in indices.flatten()]\n",
    "\n",
    "    # 5. Calculer l'expression moyenne **par métacellule et par `Id`**\n",
    "    meta_expr = adata_test_sub.to_df().groupby(['metacell']).mean()\n",
    "    meta_expr['Id'] = sample_id  # Ajouter l'info `Id`\n",
    "    meta_test_expression.append(meta_expr)\n"
   ]
  },
  {
   "cell_type": "code",
   "execution_count": null,
   "id": "a3a9d97f-c9cf-435a-92e9-9c9cc352efb5",
   "metadata": {},
   "outputs": [],
   "source": []
  },
  {
   "cell_type": "code",
   "execution_count": null,
   "id": "3ad9d029-11c9-45ce-b70c-b77ca7dee30d",
   "metadata": {},
   "outputs": [],
   "source": []
  },
  {
   "cell_type": "code",
   "execution_count": null,
   "id": "06c4e03f-7575-4277-9999-2686a65d03f4",
   "metadata": {},
   "outputs": [],
   "source": []
  },
  {
   "cell_type": "code",
   "execution_count": null,
   "id": "a0349d4a-f9f0-4a13-8b44-19e9a159a3ac",
   "metadata": {},
   "outputs": [],
   "source": []
  },
  {
   "cell_type": "code",
   "execution_count": null,
   "id": "276cab94-6b92-4ee3-a1ee-76fcd9fabcbf",
   "metadata": {},
   "outputs": [],
   "source": []
  },
  {
   "cell_type": "code",
   "execution_count": null,
   "id": "e99cba83-2f97-465c-b1f8-92033c2116c8",
   "metadata": {},
   "outputs": [],
   "source": []
  },
  {
   "cell_type": "code",
   "execution_count": null,
   "id": "6094b809-bbcd-4ec0-a8f6-2d86b0fe2121",
   "metadata": {},
   "outputs": [],
   "source": []
  },
  {
   "cell_type": "code",
   "execution_count": null,
   "id": "4e5ad8e2-a6e8-449d-b41a-29c6c985427e",
   "metadata": {},
   "outputs": [],
   "source": [
    "\n",
    "for sample_id in adata_test.obs['Id'].unique():\n",
    "    print(f\"Projection de {sample_id}...\")\n",
    "\n",
    "    # Récupérer les métacellules de ce `Id` depuis X_train\n",
    "    if sample_id not in metacell_dict:\n",
    "        print(f\"⚠️ Aucune métacellule définie pour {sample_id}, passage\")\n",
    "        continue\n",
    "\n",
    "    adata_train_sub = metacell_dict[sample_id]\n",
    "    metacell_centers = adata_train_sub.to_df().groupby(adata_train_sub.obs['metacell']).mean()\n",
    "\n",
    "    # Sélectionner les cellules X_test du même `Id`\n",
    "    adata_test_sub = adata_test[adata_test.obs['Id'] == sample_id].copy()\n",
    "\n",
    "    if adata_test_sub.n_obs == 0:\n",
    "        print(f\"⚠️ Aucune cellule test pour {sample_id}, passage\")\n",
    "        continue\n",
    "\n",
    "    # Trouver le plus proche voisin dans les métacellules correspondantes\n",
    "    nn = NearestNeighbors(n_neighbors=1, metric=\"euclidean\").fit(metacell_centers)\n",
    "    distances, indices = nn.kneighbors(adata_test_sub.obsm['X_pca'])\n",
    "\n",
    "    # Assigner chaque cellule X_test à une métacellule de X_train du même `Id`\n",
    "    adata_test_sub.obs['metacell'] = [metacell_centers.index[i] for i in indices.flatten()]\n",
    "\n",
    "    # 5. Calculer l'expression moyenne **par métacellule et par `Id`**\n",
    "    meta_expr = adata_test_sub.to_df().groupby(['metacell']).mean()\n",
    "    meta_expr['Id'] = sample_id  # Ajouter l'info `Id`\n",
    "    meta_test_expression.append(meta_expr)\n",
    "\n",
    "# 6. Concaténer et sauvegarder les résultats\n",
    "meta_test_expression_df = pd.concat(meta_test_expression)\n",
    "meta_test_expression_df.to_csv(\"meta_test_expression_by_sample.csv\")\n",
    "\n",
    "print(\"✅ Métacellules générées et expression agrégée sauvegardée !\")"
   ]
  }
 ],
 "metadata": {
  "kernelspec": {
   "display_name": "Python 3 (ipykernel)",
   "language": "python",
   "name": "python3"
  },
  "language_info": {
   "codemirror_mode": {
    "name": "ipython",
    "version": 3
   },
   "file_extension": ".py",
   "mimetype": "text/x-python",
   "name": "python",
   "nbconvert_exporter": "python",
   "pygments_lexer": "ipython3",
   "version": "3.8.20"
  }
 },
 "nbformat": 4,
 "nbformat_minor": 5
}
