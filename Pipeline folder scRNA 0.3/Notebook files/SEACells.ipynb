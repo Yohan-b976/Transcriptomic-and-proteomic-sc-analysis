{
 "cells": [
  {
   "cell_type": "code",
   "execution_count": null,
   "id": "da72f91f-a3ee-4612-ab73-646f66c6d0ce",
   "metadata": {},
   "outputs": [],
   "source": [
    "import scanpy as sc\n",
    "import SEACells\n",
    "import numpy as np\n",
    "import pandas as pd\n",
    "from sklearn.neighbors import NearestNeighbors"
   ]
  },
  {
   "cell_type": "code",
   "execution_count": null,
   "id": "7713e6a8-6c7c-4158-b8e7-5dfa348238a3",
   "metadata": {},
   "outputs": [],
   "source": [
    "adata = sc.read('G:/Data processing pipeline 0.1 Yohan/scRNA/Output/annotation_finished_1_data_Xtrain/annotation_data_Xtrain.h5ad')"
   ]
  },
  {
   "cell_type": "code",
   "execution_count": null,
   "id": "1ec54275-2197-4a2d-a8ab-a4a59e95425a",
   "metadata": {},
   "outputs": [],
   "source": [
    "adata.X = adata.layers['log1p_norm_train'].copy()"
   ]
  },
  {
   "cell_type": "code",
   "execution_count": null,
   "id": "a3812ea0-547a-4e34-ab1d-789d1ad9c64f",
   "metadata": {},
   "outputs": [],
   "source": [
    "adata.obs['SEACell'] = 'Unk'"
   ]
  },
  {
   "cell_type": "code",
   "execution_count": null,
   "id": "4c570c62-8454-41fe-8fd9-a4de0ccbd9a4",
   "metadata": {},
   "outputs": [],
   "source": [
    "metacell_dict = {}  # dictionary of metacells\n",
    "n_SEACells  = 100    # number of meta cells per Id \n",
    "n_waypoint_eigs = 10"
   ]
  },
  {
   "cell_type": "code",
   "execution_count": null,
   "id": "3466fa98-4faf-4574-abfd-5108010cc861",
   "metadata": {},
   "outputs": [],
   "source": []
  },
  {
   "cell_type": "code",
   "execution_count": null,
   "id": "f5c35434-bce0-4b19-938c-1c3e5034daa0",
   "metadata": {},
   "outputs": [],
   "source": [
    "for sample_id in adata.obs['Id'].unique():\n",
    "    \n",
    "   adata_sub = adata[adata.obs['Id'] == sample_id].copy() \n",
    "\n",
    "   model = SEACells.core.SEACells(ad, \n",
    "                  build_kernel_on='X_scVI', \n",
    "                  n_SEACells=n_SEACells, \n",
    "                  n_waypoint_eigs=n_waypoint_eigs,\n",
    "                  convergence_epsilon = 1e-5)\n",
    "    model.construct_kernel_matrix()\n",
    "\n",
    "    model.initialize_archetypes()\n",
    "    SEACells.plot.plot_initialization(adata_sub, model)\n",
    "    model.fit(min_iter=10, max_iter=50)\n",
    "    model.plot_convergence()\n",
    "    adata[adata.obs['Id'] == sample_id].obs['SEACells'] = adata_sub.obs['SEACell']\n",
    "    \n"
   ]
  },
  {
   "cell_type": "code",
   "execution_count": null,
   "id": "6f6db175-9261-40bc-a87e-4d09fb462321",
   "metadata": {},
   "outputs": [],
   "source": [
    "meta_test_expression = []"
   ]
  },
  {
   "cell_type": "code",
   "execution_count": null,
   "id": "7c13af64-b002-4bfc-82e3-cdc8ae99898a",
   "metadata": {},
   "outputs": [],
   "source": [
    "for sample_id in adata_test.obs['Id'].unique():\n",
    "\n",
    "    adata_train_sub = metacell_dict[sample_id]\n",
    "    \n",
    "\n",
    "    # Sélectionner les cellules X_test du même `Id`\n",
    "    adata_test_sub = adata_test[adata_test.obs['Id'] == sample_id].copy()\n",
    "\n",
    "    if adata_test_sub.n_obs == 0:\n",
    "        print(f\" Aucune cellule test pour {sample_id}, passage\")\n",
    "        continue\n",
    "\n",
    "    # Trouver le plus proche voisin dans les métacellules correspondantes\n",
    "    nn = NearestNeighbors(n_neighbors=1, metric=\"euclidean\").fit(metacell_centers)\n",
    "    distances, indices = nn.kneighbors(adata_test_sub.obsm['X_pca'])\n",
    "\n",
    "    # Assigner chaque cellule X_test à une métacellule de X_train du même `Id`\n",
    "    adata_test_sub.obs['metacell'] = [metacell_centers.index[i] for i in indices.flatten()]\n",
    "\n",
    "    # 5. Calculer l'expression moyenne **par métacellule et par `Id`**\n",
    "    meta_expr = adata_test_sub.to_df().groupby(['metacell']).mean()\n",
    "    meta_expr['Id'] = sample_id  # Ajouter l'info `Id`\n",
    "    meta_test_expression.append(meta_expr)\n"
   ]
  },
  {
   "cell_type": "code",
   "execution_count": null,
   "id": "a3a9d97f-c9cf-435a-92e9-9c9cc352efb5",
   "metadata": {},
   "outputs": [],
   "source": []
  },
  {
   "cell_type": "code",
   "execution_count": null,
   "id": "3ad9d029-11c9-45ce-b70c-b77ca7dee30d",
   "metadata": {},
   "outputs": [],
   "source": []
  },
  {
   "cell_type": "code",
   "execution_count": null,
   "id": "06c4e03f-7575-4277-9999-2686a65d03f4",
   "metadata": {},
   "outputs": [],
   "source": []
  },
  {
   "cell_type": "code",
   "execution_count": null,
   "id": "a0349d4a-f9f0-4a13-8b44-19e9a159a3ac",
   "metadata": {},
   "outputs": [],
   "source": []
  },
  {
   "cell_type": "code",
   "execution_count": null,
   "id": "276cab94-6b92-4ee3-a1ee-76fcd9fabcbf",
   "metadata": {},
   "outputs": [],
   "source": []
  },
  {
   "cell_type": "code",
   "execution_count": null,
   "id": "e99cba83-2f97-465c-b1f8-92033c2116c8",
   "metadata": {},
   "outputs": [],
   "source": []
  },
  {
   "cell_type": "code",
   "execution_count": null,
   "id": "6094b809-bbcd-4ec0-a8f6-2d86b0fe2121",
   "metadata": {},
   "outputs": [],
   "source": []
  },
  {
   "cell_type": "code",
   "execution_count": null,
   "id": "4e5ad8e2-a6e8-449d-b41a-29c6c985427e",
   "metadata": {},
   "outputs": [],
   "source": [
    "\n",
    "for sample_id in adata_test.obs['Id'].unique():\n",
    "    print(f\"Projection de {sample_id}...\")\n",
    "\n",
    "    # Récupérer les métacellules de ce `Id` depuis X_train\n",
    "    if sample_id not in metacell_dict:\n",
    "        print(f\"⚠️ Aucune métacellule définie pour {sample_id}, passage\")\n",
    "        continue\n",
    "\n",
    "    adata_train_sub = metacell_dict[sample_id]\n",
    "    metacell_centers = adata_train_sub.to_df().groupby(adata_train_sub.obs['metacell']).mean()\n",
    "\n",
    "    # Sélectionner les cellules X_test du même `Id`\n",
    "    adata_test_sub = adata_test[adata_test.obs['Id'] == sample_id].copy()\n",
    "\n",
    "    if adata_test_sub.n_obs == 0:\n",
    "        print(f\"⚠️ Aucune cellule test pour {sample_id}, passage\")\n",
    "        continue\n",
    "\n",
    "    # Trouver le plus proche voisin dans les métacellules correspondantes\n",
    "    nn = NearestNeighbors(n_neighbors=1, metric=\"euclidean\").fit(metacell_centers)\n",
    "    distances, indices = nn.kneighbors(adata_test_sub.obsm['X_pca'])\n",
    "\n",
    "    # Assigner chaque cellule X_test à une métacellule de X_train du même `Id`\n",
    "    adata_test_sub.obs['metacell'] = [metacell_centers.index[i] for i in indices.flatten()]\n",
    "\n",
    "    # 5. Calculer l'expression moyenne **par métacellule et par `Id`**\n",
    "    meta_expr = adata_test_sub.to_df().groupby(['metacell']).mean()\n",
    "    meta_expr['Id'] = sample_id  # Ajouter l'info `Id`\n",
    "    meta_test_expression.append(meta_expr)\n",
    "\n",
    "# 6. Concaténer et sauvegarder les résultats\n",
    "meta_test_expression_df = pd.concat(meta_test_expression)\n",
    "meta_test_expression_df.to_csv(\"meta_test_expression_by_sample.csv\")\n",
    "\n",
    "print(\"✅ Métacellules générées et expression agrégée sauvegardée !\")"
   ]
  }
 ],
 "metadata": {
  "kernelspec": {
   "display_name": "Python 3 (ipykernel)",
   "language": "python",
   "name": "python3"
  },
  "language_info": {
   "codemirror_mode": {
    "name": "ipython",
    "version": 3
   },
   "file_extension": ".py",
   "mimetype": "text/x-python",
   "name": "python",
   "nbconvert_exporter": "python",
   "pygments_lexer": "ipython3",
   "version": "3.11.11"
  }
 },
 "nbformat": 4,
 "nbformat_minor": 5
}
