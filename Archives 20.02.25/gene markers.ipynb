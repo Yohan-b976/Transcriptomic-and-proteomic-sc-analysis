{
 "cells": [
  {
   "cell_type": "code",
   "execution_count": null,
   "id": "999ed169-ca6f-4d7e-9120-5921f4d7f8a3",
   "metadata": {},
   "outputs": [],
   "source": [
    "Gene_marker = {\n",
    "    \"\":\"\",\n",
    "    \"\":\"\",\n",
    "    \"\":\"\",\n",
    "    \"\":\"\"\n",
    "}"
   ]
  },
  {
   "cell_type": "code",
   "execution_count": 5,
   "id": "36ce4729-968b-48f2-94d3-1eb690db33f5",
   "metadata": {},
   "outputs": [
    {
     "name": "stdout",
     "output_type": "stream",
     "text": [
      "\"\":\"\",\n",
      "\"\":\"\",\n",
      "\"\":\"\",\n",
      "\"\":\"\",\n",
      "\"\":\"\",\n",
      "\"\":\"\",\n",
      "\"\":\"\",\n",
      "\"\":\"\",\n",
      "\"\":\"\",\n",
      "\"\":\"\",\n",
      "\"\":\"\",\n",
      "\"\":\"\",\n",
      "\"\":\"\",\n",
      "\"\":\"\",\n",
      "\"\":\"\",\n",
      "\"\":\"\",\n",
      "\"\":\"\",\n",
      "\"\":\"\",\n",
      "\"\":\"\",\n",
      "\"\":\"\",\n",
      "\"\":\"\",\n",
      "\"\":\"\",\n",
      "\"\":\"\",\n",
      "\"\":\"\",\n",
      "\"\":\"\",\n",
      "\"\":\"\",\n",
      "\"\":\"\",\n",
      "\"\":\"\",\n",
      "\"\":\"\",\n",
      "\"\":\"\",\n"
     ]
    }
   ],
   "source": [
    "for _ in range(30):\n",
    "    print('\"\":\"\",')"
   ]
  },
  {
   "cell_type": "code",
   "execution_count": null,
   "id": "5439a461-5ca7-440b-8aaf-4d319d0f7138",
   "metadata": {},
   "outputs": [],
   "source": [
    "Gene_marker_scatlas = {\n",
    "    \"Cellules basales\": [\"TP63\", \"KRT5\", \"KRT15\"],\n",
    "    \"Cellules basales-2\": [\"CXCL14\", \"RNF43\", \"LGR6\", \"LRP4\"],\n",
    "    \"Cellules en transition basale (TAB)\": [\"NOTUM\", \"FGF3\", \"FGF19\"],\n",
    "    \"Cellules sécrétoires club\": [\"SCGB1A1\", \"BPIFB1\"],\n",
    "    \"Cellules ciliées\": [\"FOXJ1\", \"PIFO\", \"TPPP3\", \"SNTN\"],\n",
    "    \"Cellules tuft-1\": [\"ASCL2\"],\n",
    "    \"Cellules tuft-2\": [\"TRPM5\"],\n",
    "    \"Ionocytes\": [\"FOXI1\"],\n",
    "    \"Cellules neuroendocrines pulmonaires (PNECs)\": [\"ASCL1\"],\n",
    "    \"Cellules immuno-préparées (immune-primed)\": [\"CXCL1\", \"CXCL2\", \"CXCL8\", \"CCL2\", \"CCL20\", \"SAA1\", \"SAA2\", \"IFITM1\", \"IFITM2\", \"IFITM3\"]\n",
    "}"
   ]
  },
  {
   "cell_type": "code",
   "execution_count": null,
   "id": "5ec02ddf-14ca-41e0-85f2-85065d0b989b",
   "metadata": {},
   "outputs": [],
   "source": []
  },
  {
   "cell_type": "code",
   "execution_count": null,
   "id": "2b38ffc9-92a5-4ee1-8a58-874d11fafe4e",
   "metadata": {},
   "outputs": [],
   "source": [
    "Gene_marker_nasal_airway = {\n",
    "    \"Basal Cells\": [\"KRT5\", \"KRT15\"],\n",
    "    \"Goblet Cells\": [\"MUC5AC\"],\n",
    "    \"Ciliated Cells\": [\"FOXJ1\", \"TUBB4B\"],\n",
    "    \"Tuft Cells\": [\"POU2F3\", \"ASCL2\", \"TRPM5\"],\n",
    "    \"Ionocytes\": [\"FOXI1\"],\n",
    "    \"Pulmonary Neuroendocrine Cells (PNECs)\": [\"ASCL1\"],\n",
    "    \"Transitioning Airway Basal (TAB) Cells\": [\"NOTUM\", \"FGF3\", \"FGF19\"]\n",
    "}"
   ]
  },
  {
   "cell_type": "code",
   "execution_count": null,
   "id": "1bd65514-bafe-4355-af2d-fee5b94df638",
   "metadata": {},
   "outputs": [],
   "source": []
  },
  {
   "cell_type": "code",
   "execution_count": null,
   "id": "21136f39-0386-4175-82ce-f58af4612585",
   "metadata": {},
   "outputs": [],
   "source": [
    "Gene_marker_deprez_2020 = {\n",
    "    \"Cellules basales\": [\"KRT5\", \"TP63\", \"DLK2\"],\n",
    "    \"Cellules suprabasales\": [\"KRT19\", \"NOTCH3\"],\n",
    "    \"Cellules sécrétoires\": [\"SCGB1A1\", \"TFF3\", \"MUC5AC\", \"MUC5B\"],\n",
    "    \"Cellules ciliées\": [\"FOXJ1\", \"TPPP3\", \"SNTN\"],\n",
    "    \"Cellules deutérosomales\": [\"DEUP1\", \"FOXN4\", \"CDC20B\"],\n",
    "    \"Cellules mucineuses\": [\"MUC5B\"],\n",
    "    \"Cellules séreuses\": [\"LTF\", \"LYZ\", \"PIP\"],\n",
    "    \"Cellules rares\": [\"NREP\", \"STMN1\", \"MDK\"],\n",
    "    \"Ionocytes\": [\"FOXI1\", \"ASCL3\", \"CFTR\"],\n",
    "    \"Cellules neuroendocrines pulmonaires (PNECs)\": [\"ASCL1\", \"PCSK1N\", \"SCGN\", \"NEB\"],\n",
    "    \"Cellules tuft\": [\"LRMP\", \"RGS13\"],\n",
    "    \"Cellules endothéliales\": [\"ACKR1\"],\n",
    "    \"Fibroblastes\": [\"FBLN1\"],\n",
    "    \"Cellules musculaires lisses\": [\"DES\", \"ACTA2\", \"MYL9\"],\n",
    "    \"Péricytes\": [\"PDGFRB\", \"MCAM\", \"RERGL\"],\n",
    "    \"Macrophages\": [\"TYROBP\", \"APOC1\", \"C1QA\"],\n",
    "    \"Monocytes\": [\"SDS\", \"C15orf48\"],\n",
    "    \"Cellules dendritiques\": [\"FNIP2\", \"CST3\"],\n",
    "    \"Mastocytes\": [\"TPSAB1\", \"CPA3\", \"HPGDS\"],\n",
    "    \"Cellules T\": [\"IL32\", \"CD3D\", \"CCL5\", \"LTB\"],\n",
    "    \"Cellules B\": [\"MS4A1\", \"CD79A\"],\n",
    "    \"Plasmocytes\": [\"IGJ\", \"SSR4\", \"MZB1\"]\n",
    "}\n"
   ]
  },
  {
   "cell_type": "code",
   "execution_count": null,
   "id": "b49ab24e-d561-41f3-98fa-a28a4b5dba1e",
   "metadata": {},
   "outputs": [],
   "source": []
  },
  {
   "cell_type": "code",
   "execution_count": null,
   "id": "bed5c6d6-fbfc-42f3-a8c7-114c89a137ac",
   "metadata": {},
   "outputs": [],
   "source": []
  },
  {
   "cell_type": "code",
   "execution_count": null,
   "id": "501d4be8-930c-4c93-a06b-58148a01d014",
   "metadata": {},
   "outputs": [],
   "source": []
  },
  {
   "cell_type": "code",
   "execution_count": null,
   "id": "aaa4154a-ce24-40c8-8c8e-342afe3915da",
   "metadata": {},
   "outputs": [],
   "source": []
  },
  {
   "cell_type": "code",
   "execution_count": null,
   "id": "076d4839-e5c1-4c15-aaf9-5da206d5cf22",
   "metadata": {},
   "outputs": [],
   "source": []
  }
 ],
 "metadata": {
  "kernelspec": {
   "display_name": "Python 3 (ipykernel)",
   "language": "python",
   "name": "python3"
  },
  "language_info": {
   "codemirror_mode": {
    "name": "ipython",
    "version": 3
   },
   "file_extension": ".py",
   "mimetype": "text/x-python",
   "name": "python",
   "nbconvert_exporter": "python",
   "pygments_lexer": "ipython3",
   "version": "3.11.8"
  }
 },
 "nbformat": 4,
 "nbformat_minor": 5
}
