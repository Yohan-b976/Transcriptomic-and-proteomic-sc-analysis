{
 "cells": [
  {
   "cell_type": "code",
   "execution_count": 21,
   "id": "aeb9ac6c-833a-4c44-bfdf-46763869f035",
   "metadata": {},
   "outputs": [],
   "source": [
    "import scanpy as sc\n",
    "import os\n",
    "import seaborn as sns\n",
    "import matplotlib.pyplot as plt\n",
    "import pandas as pd"
   ]
  },
  {
   "cell_type": "code",
   "execution_count": 2,
   "id": "feef9f09-6504-44f3-a7b3-bc4b9c56141d",
   "metadata": {},
   "outputs": [],
   "source": [
    "import warnings \n",
    "warnings.simplefilter(\"ignore\", FutureWarning)\n",
    "warnings.simplefilter(\"ignore\", UserWarning)\n",
    "warnings.simplefilter(\"ignore\", RuntimeWarning)"
   ]
  },
  {
   "cell_type": "code",
   "execution_count": null,
   "id": "d767237b-7f3b-4575-b819-7717ed3ac7cb",
   "metadata": {},
   "outputs": [],
   "source": [
    "adata = sc.read_10x_h5(\"/home/ybeaumatin/Documents/Dataset init/Raw data/cellranger_output/per_sample_outs/Inf_J3/count/sample_filtered_feature_bc_matrix.h5\").T\n",
    "adata"
   ]
  },
  {
   "cell_type": "code",
   "execution_count": 91,
   "id": "2f0a2753-f3f2-4643-98e5-5181a8c7dfb9",
   "metadata": {},
   "outputs": [
    {
     "data": {
      "text/html": [
       "<div>\n",
       "<style scoped>\n",
       "    .dataframe tbody tr th:only-of-type {\n",
       "        vertical-align: middle;\n",
       "    }\n",
       "\n",
       "    .dataframe tbody tr th {\n",
       "        vertical-align: top;\n",
       "    }\n",
       "\n",
       "    .dataframe thead th {\n",
       "        text-align: right;\n",
       "    }\n",
       "</style>\n",
       "<table border=\"1\" class=\"dataframe\">\n",
       "  <thead>\n",
       "    <tr style=\"text-align: right;\">\n",
       "      <th></th>\n",
       "      <th>gene_ids</th>\n",
       "      <th>feature_types</th>\n",
       "      <th>genome</th>\n",
       "    </tr>\n",
       "  </thead>\n",
       "  <tbody>\n",
       "    <tr>\n",
       "      <th>SAMD11</th>\n",
       "      <td>ENSG00000187634</td>\n",
       "      <td>Gene Expression</td>\n",
       "      <td>refdata-gex-GRCh38-2020-A_customprobe1</td>\n",
       "    </tr>\n",
       "    <tr>\n",
       "      <th>NOC2L</th>\n",
       "      <td>ENSG00000188976</td>\n",
       "      <td>Gene Expression</td>\n",
       "      <td>refdata-gex-GRCh38-2020-A_customprobe1</td>\n",
       "    </tr>\n",
       "    <tr>\n",
       "      <th>KLHL17</th>\n",
       "      <td>ENSG00000187961</td>\n",
       "      <td>Gene Expression</td>\n",
       "      <td>refdata-gex-GRCh38-2020-A_customprobe1</td>\n",
       "    </tr>\n",
       "    <tr>\n",
       "      <th>PLEKHN1</th>\n",
       "      <td>ENSG00000187583</td>\n",
       "      <td>Gene Expression</td>\n",
       "      <td>refdata-gex-GRCh38-2020-A_customprobe1</td>\n",
       "    </tr>\n",
       "    <tr>\n",
       "      <th>PERM1</th>\n",
       "      <td>ENSG00000187642</td>\n",
       "      <td>Gene Expression</td>\n",
       "      <td>refdata-gex-GRCh38-2020-A_customprobe1</td>\n",
       "    </tr>\n",
       "    <tr>\n",
       "      <th>...</th>\n",
       "      <td>...</td>\n",
       "      <td>...</td>\n",
       "      <td>...</td>\n",
       "    </tr>\n",
       "    <tr>\n",
       "      <th>EGFP</th>\n",
       "      <td>EGFP</td>\n",
       "      <td>Gene Expression</td>\n",
       "      <td>refdata-gex-GRCh38-2020-A_customprobe1</td>\n",
       "    </tr>\n",
       "    <tr>\n",
       "      <th>REPLI</th>\n",
       "      <td>REPLI</td>\n",
       "      <td>Gene Expression</td>\n",
       "      <td>refdata-gex-GRCh38-2020-A_customprobe1</td>\n",
       "    </tr>\n",
       "    <tr>\n",
       "      <th>GLYCO</th>\n",
       "      <td>GLYCO</td>\n",
       "      <td>Gene Expression</td>\n",
       "      <td>refdata-gex-GRCh38-2020-A_customprobe1</td>\n",
       "    </tr>\n",
       "    <tr>\n",
       "      <th>MEMB</th>\n",
       "      <td>MEMB</td>\n",
       "      <td>Gene Expression</td>\n",
       "      <td>refdata-gex-GRCh38-2020-A_customprobe1</td>\n",
       "    </tr>\n",
       "    <tr>\n",
       "      <th>NUCL</th>\n",
       "      <td>NUCL</td>\n",
       "      <td>Gene Expression</td>\n",
       "      <td>refdata-gex-GRCh38-2020-A_customprobe1</td>\n",
       "    </tr>\n",
       "  </tbody>\n",
       "</table>\n",
       "<p>18087 rows × 3 columns</p>\n",
       "</div>"
      ],
      "text/plain": [
       "                gene_ids    feature_types  \\\n",
       "SAMD11   ENSG00000187634  Gene Expression   \n",
       "NOC2L    ENSG00000188976  Gene Expression   \n",
       "KLHL17   ENSG00000187961  Gene Expression   \n",
       "PLEKHN1  ENSG00000187583  Gene Expression   \n",
       "PERM1    ENSG00000187642  Gene Expression   \n",
       "...                  ...              ...   \n",
       "EGFP                EGFP  Gene Expression   \n",
       "REPLI              REPLI  Gene Expression   \n",
       "GLYCO              GLYCO  Gene Expression   \n",
       "MEMB                MEMB  Gene Expression   \n",
       "NUCL                NUCL  Gene Expression   \n",
       "\n",
       "                                         genome  \n",
       "SAMD11   refdata-gex-GRCh38-2020-A_customprobe1  \n",
       "NOC2L    refdata-gex-GRCh38-2020-A_customprobe1  \n",
       "KLHL17   refdata-gex-GRCh38-2020-A_customprobe1  \n",
       "PLEKHN1  refdata-gex-GRCh38-2020-A_customprobe1  \n",
       "PERM1    refdata-gex-GRCh38-2020-A_customprobe1  \n",
       "...                                         ...  \n",
       "EGFP     refdata-gex-GRCh38-2020-A_customprobe1  \n",
       "REPLI    refdata-gex-GRCh38-2020-A_customprobe1  \n",
       "GLYCO    refdata-gex-GRCh38-2020-A_customprobe1  \n",
       "MEMB     refdata-gex-GRCh38-2020-A_customprobe1  \n",
       "NUCL     refdata-gex-GRCh38-2020-A_customprobe1  \n",
       "\n",
       "[18087 rows x 3 columns]"
      ]
     },
     "execution_count": 91,
     "metadata": {},
     "output_type": "execute_result"
    }
   ],
   "source": [
    "adata.obs"
   ]
  },
  {
   "cell_type": "code",
   "execution_count": 13,
   "id": "f321dec7-4a7b-4223-a55a-108a0e022f04",
   "metadata": {},
   "outputs": [
    {
     "data": {
      "text/html": [
       "<div>\n",
       "<style scoped>\n",
       "    .dataframe tbody tr th:only-of-type {\n",
       "        vertical-align: middle;\n",
       "    }\n",
       "\n",
       "    .dataframe tbody tr th {\n",
       "        vertical-align: top;\n",
       "    }\n",
       "\n",
       "    .dataframe thead th {\n",
       "        text-align: right;\n",
       "    }\n",
       "</style>\n",
       "<table border=\"1\" class=\"dataframe\">\n",
       "  <thead>\n",
       "    <tr style=\"text-align: right;\">\n",
       "      <th></th>\n",
       "    </tr>\n",
       "  </thead>\n",
       "  <tbody>\n",
       "    <tr>\n",
       "      <th>AAACAAGCAAGAACAAAGTAGGCT-1</th>\n",
       "    </tr>\n",
       "    <tr>\n",
       "      <th>AAACAAGCACAATGGCAGTAGGCT-1</th>\n",
       "    </tr>\n",
       "    <tr>\n",
       "      <th>AAACAAGCACACTAAGAGTAGGCT-1</th>\n",
       "    </tr>\n",
       "    <tr>\n",
       "      <th>AAACAAGCACCGTTTGAGTAGGCT-1</th>\n",
       "    </tr>\n",
       "    <tr>\n",
       "      <th>AAACAAGCACTTCGATAGTAGGCT-1</th>\n",
       "    </tr>\n",
       "    <tr>\n",
       "      <th>...</th>\n",
       "    </tr>\n",
       "    <tr>\n",
       "      <th>TTTGTGAGTCCTTATTAGTAGGCT-1</th>\n",
       "    </tr>\n",
       "    <tr>\n",
       "      <th>TTTGTGAGTCGAAGTAAGTAGGCT-1</th>\n",
       "    </tr>\n",
       "    <tr>\n",
       "      <th>TTTGTGAGTGCTGATTAGTAGGCT-1</th>\n",
       "    </tr>\n",
       "    <tr>\n",
       "      <th>TTTGTGAGTGTCCAATAGTAGGCT-1</th>\n",
       "    </tr>\n",
       "    <tr>\n",
       "      <th>TTTGTGAGTTTCCACCAGTAGGCT-1</th>\n",
       "    </tr>\n",
       "  </tbody>\n",
       "</table>\n",
       "<p>11004 rows × 0 columns</p>\n",
       "</div>"
      ],
      "text/plain": [
       "Empty DataFrame\n",
       "Columns: []\n",
       "Index: [AAACAAGCAAGAACAAAGTAGGCT-1, AAACAAGCACAATGGCAGTAGGCT-1, AAACAAGCACACTAAGAGTAGGCT-1, AAACAAGCACCGTTTGAGTAGGCT-1, AAACAAGCACTTCGATAGTAGGCT-1, AAACAAGCATGGTCAAAGTAGGCT-1, AAACCAATCAAACCGGAGTAGGCT-1, AAACCAATCAACTTGTAGTAGGCT-1, AAACCAATCACCTAATAGTAGGCT-1, AAACCAATCATAATCCAGTAGGCT-1, AAACCAATCCTTTGTCAGTAGGCT-1, AAACCAATCGAAGTTAAGTAGGCT-1, AAACCAATCTAGCGGAAGTAGGCT-1, AAACCAGGTCAGTGCCAGTAGGCT-1, AAACCAGGTGGATGCGAGTAGGCT-1, AAACCAGGTGTGGCTCAGTAGGCT-1, AAACCAGGTTAGGCGGAGTAGGCT-1, AAACCAGGTTCGGTCAAGTAGGCT-1, AAACCGGTCACAACAAAGTAGGCT-1, AAACCGGTCATCCCAAAGTAGGCT-1, AAACCGGTCGATTACTAGTAGGCT-1, AAACCGGTCGCAGGACAGTAGGCT-1, AAACGGGCAATCCACTAGTAGGCT-1, AAACGGGCAATCGTTCAGTAGGCT-1, AAACGGGCATCCACCAAGTAGGCT-1, AAACGGGCATCCCAATAGTAGGCT-1, AAACGGGCATGCCTCAAGTAGGCT-1, AAACGTTCATATTTCGAGTAGGCT-1, AAACGTTCATCATGTCAGTAGGCT-1, AAACGTTCATGTTTCAAGTAGGCT-1, AAACGTTCATTTCGCGAGTAGGCT-1, AAACTGGGTAGCCTTGAGTAGGCT-1, AAACTGGGTCATCAGTAGTAGGCT-1, AAACTGGGTCATGAAGAGTAGGCT-1, AAACTGGGTCCATAGTAGTAGGCT-1, AAACTGGGTGTTAGTCAGTAGGCT-1, AAACTGGGTTAAGTCCAGTAGGCT-1, AAACTGGGTTAGCGGGAGTAGGCT-1, AAACTGGGTTGTTGGTAGTAGGCT-1, AAACTGTCAAAGCCTAAGTAGGCT-1, AAACTGTCAAAGTGCCAGTAGGCT-1, AAACTGTCAACAGCACAGTAGGCT-1, AAACTGTCAAGTCGCGAGTAGGCT-1, AAACTGTCAAGTGCACAGTAGGCT-1, AAACTGTCACTTTACAAGTAGGCT-1, AAACTGTCAGGATGCTAGTAGGCT-1, AAACTGTCAGTAATACAGTAGGCT-1, AAACTGTCATCTATCAAGTAGGCT-1, AAACTGTCATTCAGGAAGTAGGCT-1, AAAGATGCAAACAAGAAGTAGGCT-1, AAAGATGCAACAGCACAGTAGGCT-1, AAAGATGCACAATCGAAGTAGGCT-1, AAAGATGCACCAACAAAGTAGGCT-1, AAAGATGCAGGCAACTAGTAGGCT-1, AAAGATGCATTACTTGAGTAGGCT-1, AAAGCATGTACGATTCAGTAGGCT-1, AAAGCATGTCAGGGCAAGTAGGCT-1, AAAGCATGTCATTATGAGTAGGCT-1, AAAGCATGTCGTTGCAAGTAGGCT-1, AAAGCATGTGATTAGGAGTAGGCT-1, AAAGCATGTGGGTGTGAGTAGGCT-1, AAAGCATGTTCCGCAAAGTAGGCT-1, AAAGCATGTTGTTGGTAGTAGGCT-1, AAAGCATGTTGTTTGAAGTAGGCT-1, AAAGCCTAGCAGCCAAAGTAGGCT-1, AAAGCCTAGCGAAGTTAGTAGGCT-1, AAAGCCTAGCTCGATCAGTAGGCT-1, AAAGCCTAGGTTTCGCAGTAGGCT-1, AAAGCCTAGTTACACTAGTAGGCT-1, AAAGCCTAGTTAGGCGAGTAGGCT-1, AAAGCCTAGTTTCAGTAGTAGGCT-1, AAAGCGAAGAGGTTTAAGTAGGCT-1, AAAGCGAAGATGAAGGAGTAGGCT-1, AAAGCGAAGGGATTTAAGTAGGCT-1, AAAGCGAAGTAATTGGAGTAGGCT-1, AAAGCGAAGTGATTAGAGTAGGCT-1, AAAGGCAAGACTAATGAGTAGGCT-1, AAAGGCAAGGAACTTAAGTAGGCT-1, AAAGGCAAGGCCTTCGAGTAGGCT-1, AAAGGCAAGTCTTGCAAGTAGGCT-1, AAAGGCTTCAAAGGGAAGTAGGCT-1, AAAGGCTTCCAAAGGTAGTAGGCT-1, AAAGGCTTCCATTAGTAGTAGGCT-1, AAAGGCTTCGACTTTGAGTAGGCT-1, AAAGGCTTCGTTCAATAGTAGGCT-1, AAAGGGATCAAGTTTCAGTAGGCT-1, AAAGGGATCATCCAGCAGTAGGCT-1, AAAGGGATCATGCGTCAGTAGGCT-1, AAAGGGATCCGCACCAAGTAGGCT-1, AAAGGGATCGATTATCAGTAGGCT-1, AAAGGGATCGGTACCTAGTAGGCT-1, AAAGGGATCTTTGGATAGTAGGCT-1, AAAGGTACAACAGCTAAGTAGGCT-1, AAAGGTACAAGCCACGAGTAGGCT-1, AAAGGTACACACTGGGAGTAGGCT-1, AAAGGTACATAGACCAAGTAGGCT-1, AAAGGTACATCGGGCAAGTAGGCT-1, AAAGGTACATGAGCTAAGTAGGCT-1, AAAGGTACATGGCCGAAGTAGGCT-1, AAAGGTGAGCGAAGAAAGTAGGCT-1, ...]\n",
       "\n",
       "[11004 rows x 0 columns]"
      ]
     },
     "execution_count": 13,
     "metadata": {},
     "output_type": "execute_result"
    }
   ],
   "source": [
    "adata.var"
   ]
  },
  {
   "cell_type": "code",
   "execution_count": 23,
   "id": "5124ba16-0cf7-440a-aadb-c6aa74e70d56",
   "metadata": {},
   "outputs": [
    {
     "data": {
      "text/plain": [
       "(18087, 11004)"
      ]
     },
     "execution_count": 23,
     "metadata": {},
     "output_type": "execute_result"
    }
   ],
   "source": [
    "adata.X.shape"
   ]
  },
  {
   "cell_type": "code",
   "execution_count": null,
   "id": "21f6d6e9-af6c-40f0-90a7-7121bc228f4e",
   "metadata": {},
   "outputs": [],
   "source": []
  },
  {
   "cell_type": "code",
   "execution_count": null,
   "id": "87f4b7f2-1080-44f3-903d-a7faa035e06b",
   "metadata": {},
   "outputs": [],
   "source": []
  },
  {
   "cell_type": "code",
   "execution_count": 3,
   "id": "43a563a7-ad7f-425e-94e2-d6637fdd3954",
   "metadata": {},
   "outputs": [],
   "source": [
    "path_files_h5 = 'C:/Users/test/Documents/yohan/h5_files'"
   ]
  },
  {
   "cell_type": "code",
   "execution_count": 4,
   "id": "8944df3e-20e1-4389-9ab0-1874b5deef68",
   "metadata": {},
   "outputs": [],
   "source": [
    "adatas = [x for x in os.listdir(path_files_h5 ) \n",
    "          if x.endswith('.h5')]"
   ]
  },
  {
   "cell_type": "code",
   "execution_count": 5,
   "id": "da3bdf5f-839c-444e-b640-ba6ec28fb245",
   "metadata": {},
   "outputs": [
    {
     "data": {
      "text/plain": [
       "['sample_filtered_feature_bc_matrix_Inf_J3_.h5',\n",
       " 'sample_filtered_feature_bc_matrix_Inf_J6_.h5',\n",
       " 'sample_filtered_feature_bc_matrix_Mock_J3_.h5',\n",
       " 'sample_filtered_feature_bc_matrix_Mock_J6_.h5']"
      ]
     },
     "execution_count": 5,
     "metadata": {},
     "output_type": "execute_result"
    }
   ],
   "source": [
    "adatas"
   ]
  },
  {
   "cell_type": "code",
   "execution_count": null,
   "id": "3f80881a-9745-46a1-a25f-14fa7d7daa3b",
   "metadata": {},
   "outputs": [],
   "source": []
  },
  {
   "cell_type": "code",
   "execution_count": 6,
   "id": "0a98356a-aa5f-425a-83d3-0a3ef20d3fd8",
   "metadata": {},
   "outputs": [],
   "source": [
    "def load_it(adata):\n",
    "    samp= adata.split('_')[5]\n",
    "    dpi = adata.split('_')[6]\n",
    "    adata = sc.read_10x_h5(path_files_h5 + '/' + adata)\n",
    "    adata.obs['Sample'] = samp\n",
    "    adata.obs['dpi'] = dpi\n",
    "    adata.obs['Id'] = adata.obs['Sample'] + '_' + adata.obs['dpi']\n",
    "    adata.obs.index = adata.obs.index + '-' + samp + '_' + dpi\n",
    "    return adata"
   ]
  },
  {
   "cell_type": "code",
   "execution_count": 7,
   "id": "0dd76834-e36a-4cd7-a670-c980ed6bc360",
   "metadata": {},
   "outputs": [],
   "source": [
    "adatas = [load_it(ad) for ad in adatas]"
   ]
  },
  {
   "cell_type": "code",
   "execution_count": 8,
   "id": "fecab33f-57bd-4ecc-895b-48f0a404620c",
   "metadata": {},
   "outputs": [
    {
     "data": {
      "text/plain": [
       "[AnnData object with n_obs × n_vars = 11004 × 18087\n",
       "     obs: 'Sample', 'dpi', 'Id'\n",
       "     var: 'gene_ids', 'feature_types', 'genome',\n",
       " AnnData object with n_obs × n_vars = 9137 × 18087\n",
       "     obs: 'Sample', 'dpi', 'Id'\n",
       "     var: 'gene_ids', 'feature_types', 'genome',\n",
       " AnnData object with n_obs × n_vars = 10542 × 18087\n",
       "     obs: 'Sample', 'dpi', 'Id'\n",
       "     var: 'gene_ids', 'feature_types', 'genome',\n",
       " AnnData object with n_obs × n_vars = 8525 × 18087\n",
       "     obs: 'Sample', 'dpi', 'Id'\n",
       "     var: 'gene_ids', 'feature_types', 'genome']"
      ]
     },
     "execution_count": 8,
     "metadata": {},
     "output_type": "execute_result"
    }
   ],
   "source": [
    "adatas"
   ]
  },
  {
   "cell_type": "code",
   "execution_count": 9,
   "id": "d7ecf788-a684-4746-98cd-8808e4a14c20",
   "metadata": {},
   "outputs": [
    {
     "data": {
      "text/plain": [
       "AAACAAGCAGCTCGCTATGTTGAC-1-Inf_J6    Inf_J6\n",
       "AAACCAATCACCTAATATGTTGAC-1-Inf_J6    Inf_J6\n",
       "AAACCAATCATTATGCATGTTGAC-1-Inf_J6    Inf_J6\n",
       "AAACCAATCATTGCATATGTTGAC-1-Inf_J6    Inf_J6\n",
       "AAACCAATCCAAATTCATGTTGAC-1-Inf_J6    Inf_J6\n",
       "                                      ...  \n",
       "TTTGGCGGTAACTACCATGTTGAC-1-Inf_J6    Inf_J6\n",
       "TTTGGCGGTAAGCGTAATGTTGAC-1-Inf_J6    Inf_J6\n",
       "TTTGGCGGTCTGTGATATGTTGAC-1-Inf_J6    Inf_J6\n",
       "TTTGGCGGTTGGATGAATGTTGAC-1-Inf_J6    Inf_J6\n",
       "TTTGTGAGTGTCCAATATGTTGAC-1-Inf_J6    Inf_J6\n",
       "Name: Id, Length: 9137, dtype: object"
      ]
     },
     "execution_count": 9,
     "metadata": {},
     "output_type": "execute_result"
    }
   ],
   "source": [
    "adatas[1].obs['Id']"
   ]
  },
  {
   "cell_type": "code",
   "execution_count": 10,
   "id": "ec7ff42d-1120-4e34-a19e-5777255ae9d5",
   "metadata": {},
   "outputs": [],
   "source": [
    "def qc(adata):\n",
    "    sc.pp.filter_cells(adata, min_genes = 200)\n",
    "    adata.var[\"mt\"] = adata.var_names.str.startswith(\"MT-\")\n",
    "    adata.var[\"ribo\"] = adata.var_names.str.startswith(\"RPS\", \"RPL\")\n",
    "    adata.var[\"hb\"] = adata.var_names.str.startswith(\"^HB[^(P)]\")\n",
    "    sc.pp.calculate_qc_metrics(adata,qc_vars=[\"mt\",\"ribo\",\"hb\"], inplace = True, percent_top = [20], log1p=True)\n",
    "\n",
    "    remove = ['total_counts_mt', 'log1p_total_counts_mt', 'total_counts_ribo',\n",
    "              'log1p_total_counts_ribo','total_counts_hb','log1p_total_counts_hb']\n",
    "\n",
    "    adata.obs = adata.obs[[x for x in adata.obs.columns if x not in remove]]\n",
    "    return adata"
   ]
  },
  {
   "cell_type": "code",
   "execution_count": null,
   "id": "57786ab1-a5ac-4f58-ba25-f006902f3627",
   "metadata": {},
   "outputs": [],
   "source": []
  },
  {
   "cell_type": "code",
   "execution_count": 11,
   "id": "9872cefd-e793-426c-85be-9dd8d82943b8",
   "metadata": {},
   "outputs": [],
   "source": [
    "adatas = [qc(ad) for ad in adatas]"
   ]
  },
  {
   "cell_type": "code",
   "execution_count": null,
   "id": "ae9db384-a565-46c0-b21c-dcb819cf0b3d",
   "metadata": {},
   "outputs": [],
   "source": []
  },
  {
   "cell_type": "code",
   "execution_count": null,
   "id": "cfb21820-b102-4701-9040-8c7543367d21",
   "metadata": {},
   "outputs": [],
   "source": []
  },
  {
   "cell_type": "code",
   "execution_count": 12,
   "id": "6318c685-2147-49d4-b3b6-bfc7a1990f0f",
   "metadata": {},
   "outputs": [],
   "source": [
    "df = pd.concat([x.obs for x in adatas])"
   ]
  },
  {
   "cell_type": "code",
   "execution_count": 13,
   "id": "5117a6d8-d98f-4bfe-a953-9589963d0294",
   "metadata": {},
   "outputs": [],
   "source": [
    "df = df.sort_values('Id')"
   ]
  },
  {
   "cell_type": "code",
   "execution_count": 14,
   "id": "538643eb-38d4-4d25-8d84-b78501868b07",
   "metadata": {},
   "outputs": [
    {
     "data": {
      "text/html": [
       "<div>\n",
       "<style scoped>\n",
       "    .dataframe tbody tr th:only-of-type {\n",
       "        vertical-align: middle;\n",
       "    }\n",
       "\n",
       "    .dataframe tbody tr th {\n",
       "        vertical-align: top;\n",
       "    }\n",
       "\n",
       "    .dataframe thead th {\n",
       "        text-align: right;\n",
       "    }\n",
       "</style>\n",
       "<table border=\"1\" class=\"dataframe\">\n",
       "  <thead>\n",
       "    <tr style=\"text-align: right;\">\n",
       "      <th></th>\n",
       "      <th>Sample</th>\n",
       "      <th>dpi</th>\n",
       "      <th>Id</th>\n",
       "      <th>n_genes</th>\n",
       "      <th>n_genes_by_counts</th>\n",
       "      <th>log1p_n_genes_by_counts</th>\n",
       "      <th>total_counts</th>\n",
       "      <th>log1p_total_counts</th>\n",
       "      <th>pct_counts_in_top_20_genes</th>\n",
       "      <th>pct_counts_mt</th>\n",
       "      <th>pct_counts_ribo</th>\n",
       "      <th>pct_counts_hb</th>\n",
       "    </tr>\n",
       "  </thead>\n",
       "  <tbody>\n",
       "    <tr>\n",
       "      <th>AAACAAGCAAGAACAAAGTAGGCT-1-Inf_J3</th>\n",
       "      <td>Inf</td>\n",
       "      <td>J3</td>\n",
       "      <td>Inf_J3</td>\n",
       "      <td>4997</td>\n",
       "      <td>4997</td>\n",
       "      <td>8.516793</td>\n",
       "      <td>15760.0</td>\n",
       "      <td>9.665294</td>\n",
       "      <td>16.935279</td>\n",
       "      <td>0.158629</td>\n",
       "      <td>0.0</td>\n",
       "      <td>0.0</td>\n",
       "    </tr>\n",
       "    <tr>\n",
       "      <th>GGGATTTAGTCAACTTAGTAGGCT-1-Inf_J3</th>\n",
       "      <td>Inf</td>\n",
       "      <td>J3</td>\n",
       "      <td>Inf_J3</td>\n",
       "      <td>784</td>\n",
       "      <td>784</td>\n",
       "      <td>6.665684</td>\n",
       "      <td>1067.0</td>\n",
       "      <td>6.973543</td>\n",
       "      <td>12.277413</td>\n",
       "      <td>0.749766</td>\n",
       "      <td>0.0</td>\n",
       "      <td>0.0</td>\n",
       "    </tr>\n",
       "    <tr>\n",
       "      <th>GGGATTTAGTCAATAGAGTAGGCT-1-Inf_J3</th>\n",
       "      <td>Inf</td>\n",
       "      <td>J3</td>\n",
       "      <td>Inf_J3</td>\n",
       "      <td>5445</td>\n",
       "      <td>5445</td>\n",
       "      <td>8.602637</td>\n",
       "      <td>19537.0</td>\n",
       "      <td>9.880116</td>\n",
       "      <td>20.018427</td>\n",
       "      <td>0.255925</td>\n",
       "      <td>0.0</td>\n",
       "      <td>0.0</td>\n",
       "    </tr>\n",
       "    <tr>\n",
       "      <th>GGGATTTAGTGAGTTAAGTAGGCT-1-Inf_J3</th>\n",
       "      <td>Inf</td>\n",
       "      <td>J3</td>\n",
       "      <td>Inf_J3</td>\n",
       "      <td>3588</td>\n",
       "      <td>3588</td>\n",
       "      <td>8.185629</td>\n",
       "      <td>8861.0</td>\n",
       "      <td>9.089528</td>\n",
       "      <td>22.345108</td>\n",
       "      <td>0.812549</td>\n",
       "      <td>0.0</td>\n",
       "      <td>0.0</td>\n",
       "    </tr>\n",
       "    <tr>\n",
       "      <th>GGGATTTAGTGCTGAGAGTAGGCT-1-Inf_J3</th>\n",
       "      <td>Inf</td>\n",
       "      <td>J3</td>\n",
       "      <td>Inf_J3</td>\n",
       "      <td>6869</td>\n",
       "      <td>6869</td>\n",
       "      <td>8.834919</td>\n",
       "      <td>29560.0</td>\n",
       "      <td>10.294211</td>\n",
       "      <td>25.889716</td>\n",
       "      <td>0.121786</td>\n",
       "      <td>0.0</td>\n",
       "      <td>0.0</td>\n",
       "    </tr>\n",
       "    <tr>\n",
       "      <th>...</th>\n",
       "      <td>...</td>\n",
       "      <td>...</td>\n",
       "      <td>...</td>\n",
       "      <td>...</td>\n",
       "      <td>...</td>\n",
       "      <td>...</td>\n",
       "      <td>...</td>\n",
       "      <td>...</td>\n",
       "      <td>...</td>\n",
       "      <td>...</td>\n",
       "      <td>...</td>\n",
       "      <td>...</td>\n",
       "    </tr>\n",
       "    <tr>\n",
       "      <th>CCCTGAGTCGGTTATTAACGGGAA-1-Mock_J6</th>\n",
       "      <td>Mock</td>\n",
       "      <td>J6</td>\n",
       "      <td>Mock_J6</td>\n",
       "      <td>5235</td>\n",
       "      <td>5235</td>\n",
       "      <td>8.563313</td>\n",
       "      <td>17313.0</td>\n",
       "      <td>9.759271</td>\n",
       "      <td>23.716283</td>\n",
       "      <td>0.011552</td>\n",
       "      <td>0.0</td>\n",
       "      <td>0.0</td>\n",
       "    </tr>\n",
       "    <tr>\n",
       "      <th>CCCTGAGTCCATTAACAACGGGAA-1-Mock_J6</th>\n",
       "      <td>Mock</td>\n",
       "      <td>J6</td>\n",
       "      <td>Mock_J6</td>\n",
       "      <td>5539</td>\n",
       "      <td>5539</td>\n",
       "      <td>8.619750</td>\n",
       "      <td>17541.0</td>\n",
       "      <td>9.772353</td>\n",
       "      <td>12.986717</td>\n",
       "      <td>0.000000</td>\n",
       "      <td>0.0</td>\n",
       "      <td>0.0</td>\n",
       "    </tr>\n",
       "    <tr>\n",
       "      <th>CCCTGACCAATAAGGAAACGGGAA-1-Mock_J6</th>\n",
       "      <td>Mock</td>\n",
       "      <td>J6</td>\n",
       "      <td>Mock_J6</td>\n",
       "      <td>6839</td>\n",
       "      <td>6839</td>\n",
       "      <td>8.830543</td>\n",
       "      <td>30371.0</td>\n",
       "      <td>10.321277</td>\n",
       "      <td>19.330941</td>\n",
       "      <td>0.240361</td>\n",
       "      <td>0.0</td>\n",
       "      <td>0.0</td>\n",
       "    </tr>\n",
       "    <tr>\n",
       "      <th>CCCTGTGAGAGGCGGAAACGGGAA-1-Mock_J6</th>\n",
       "      <td>Mock</td>\n",
       "      <td>J6</td>\n",
       "      <td>Mock_J6</td>\n",
       "      <td>4824</td>\n",
       "      <td>4824</td>\n",
       "      <td>8.481566</td>\n",
       "      <td>15062.0</td>\n",
       "      <td>9.619997</td>\n",
       "      <td>21.072899</td>\n",
       "      <td>0.179259</td>\n",
       "      <td>0.0</td>\n",
       "      <td>0.0</td>\n",
       "    </tr>\n",
       "    <tr>\n",
       "      <th>TTTGTGAGTGCGTACCAACGGGAA-1-Mock_J6</th>\n",
       "      <td>Mock</td>\n",
       "      <td>J6</td>\n",
       "      <td>Mock_J6</td>\n",
       "      <td>886</td>\n",
       "      <td>886</td>\n",
       "      <td>6.787845</td>\n",
       "      <td>1245.0</td>\n",
       "      <td>7.127694</td>\n",
       "      <td>16.144578</td>\n",
       "      <td>4.337349</td>\n",
       "      <td>0.0</td>\n",
       "      <td>0.0</td>\n",
       "    </tr>\n",
       "  </tbody>\n",
       "</table>\n",
       "<p>39192 rows × 12 columns</p>\n",
       "</div>"
      ],
      "text/plain": [
       "                                   Sample dpi       Id  n_genes  \\\n",
       "AAACAAGCAAGAACAAAGTAGGCT-1-Inf_J3     Inf  J3   Inf_J3     4997   \n",
       "GGGATTTAGTCAACTTAGTAGGCT-1-Inf_J3     Inf  J3   Inf_J3      784   \n",
       "GGGATTTAGTCAATAGAGTAGGCT-1-Inf_J3     Inf  J3   Inf_J3     5445   \n",
       "GGGATTTAGTGAGTTAAGTAGGCT-1-Inf_J3     Inf  J3   Inf_J3     3588   \n",
       "GGGATTTAGTGCTGAGAGTAGGCT-1-Inf_J3     Inf  J3   Inf_J3     6869   \n",
       "...                                   ...  ..      ...      ...   \n",
       "CCCTGAGTCGGTTATTAACGGGAA-1-Mock_J6   Mock  J6  Mock_J6     5235   \n",
       "CCCTGAGTCCATTAACAACGGGAA-1-Mock_J6   Mock  J6  Mock_J6     5539   \n",
       "CCCTGACCAATAAGGAAACGGGAA-1-Mock_J6   Mock  J6  Mock_J6     6839   \n",
       "CCCTGTGAGAGGCGGAAACGGGAA-1-Mock_J6   Mock  J6  Mock_J6     4824   \n",
       "TTTGTGAGTGCGTACCAACGGGAA-1-Mock_J6   Mock  J6  Mock_J6      886   \n",
       "\n",
       "                                    n_genes_by_counts  \\\n",
       "AAACAAGCAAGAACAAAGTAGGCT-1-Inf_J3                4997   \n",
       "GGGATTTAGTCAACTTAGTAGGCT-1-Inf_J3                 784   \n",
       "GGGATTTAGTCAATAGAGTAGGCT-1-Inf_J3                5445   \n",
       "GGGATTTAGTGAGTTAAGTAGGCT-1-Inf_J3                3588   \n",
       "GGGATTTAGTGCTGAGAGTAGGCT-1-Inf_J3                6869   \n",
       "...                                               ...   \n",
       "CCCTGAGTCGGTTATTAACGGGAA-1-Mock_J6               5235   \n",
       "CCCTGAGTCCATTAACAACGGGAA-1-Mock_J6               5539   \n",
       "CCCTGACCAATAAGGAAACGGGAA-1-Mock_J6               6839   \n",
       "CCCTGTGAGAGGCGGAAACGGGAA-1-Mock_J6               4824   \n",
       "TTTGTGAGTGCGTACCAACGGGAA-1-Mock_J6                886   \n",
       "\n",
       "                                    log1p_n_genes_by_counts  total_counts  \\\n",
       "AAACAAGCAAGAACAAAGTAGGCT-1-Inf_J3                  8.516793       15760.0   \n",
       "GGGATTTAGTCAACTTAGTAGGCT-1-Inf_J3                  6.665684        1067.0   \n",
       "GGGATTTAGTCAATAGAGTAGGCT-1-Inf_J3                  8.602637       19537.0   \n",
       "GGGATTTAGTGAGTTAAGTAGGCT-1-Inf_J3                  8.185629        8861.0   \n",
       "GGGATTTAGTGCTGAGAGTAGGCT-1-Inf_J3                  8.834919       29560.0   \n",
       "...                                                     ...           ...   \n",
       "CCCTGAGTCGGTTATTAACGGGAA-1-Mock_J6                 8.563313       17313.0   \n",
       "CCCTGAGTCCATTAACAACGGGAA-1-Mock_J6                 8.619750       17541.0   \n",
       "CCCTGACCAATAAGGAAACGGGAA-1-Mock_J6                 8.830543       30371.0   \n",
       "CCCTGTGAGAGGCGGAAACGGGAA-1-Mock_J6                 8.481566       15062.0   \n",
       "TTTGTGAGTGCGTACCAACGGGAA-1-Mock_J6                 6.787845        1245.0   \n",
       "\n",
       "                                    log1p_total_counts  \\\n",
       "AAACAAGCAAGAACAAAGTAGGCT-1-Inf_J3             9.665294   \n",
       "GGGATTTAGTCAACTTAGTAGGCT-1-Inf_J3             6.973543   \n",
       "GGGATTTAGTCAATAGAGTAGGCT-1-Inf_J3             9.880116   \n",
       "GGGATTTAGTGAGTTAAGTAGGCT-1-Inf_J3             9.089528   \n",
       "GGGATTTAGTGCTGAGAGTAGGCT-1-Inf_J3            10.294211   \n",
       "...                                                ...   \n",
       "CCCTGAGTCGGTTATTAACGGGAA-1-Mock_J6            9.759271   \n",
       "CCCTGAGTCCATTAACAACGGGAA-1-Mock_J6            9.772353   \n",
       "CCCTGACCAATAAGGAAACGGGAA-1-Mock_J6           10.321277   \n",
       "CCCTGTGAGAGGCGGAAACGGGAA-1-Mock_J6            9.619997   \n",
       "TTTGTGAGTGCGTACCAACGGGAA-1-Mock_J6            7.127694   \n",
       "\n",
       "                                    pct_counts_in_top_20_genes  pct_counts_mt  \\\n",
       "AAACAAGCAAGAACAAAGTAGGCT-1-Inf_J3                    16.935279       0.158629   \n",
       "GGGATTTAGTCAACTTAGTAGGCT-1-Inf_J3                    12.277413       0.749766   \n",
       "GGGATTTAGTCAATAGAGTAGGCT-1-Inf_J3                    20.018427       0.255925   \n",
       "GGGATTTAGTGAGTTAAGTAGGCT-1-Inf_J3                    22.345108       0.812549   \n",
       "GGGATTTAGTGCTGAGAGTAGGCT-1-Inf_J3                    25.889716       0.121786   \n",
       "...                                                        ...            ...   \n",
       "CCCTGAGTCGGTTATTAACGGGAA-1-Mock_J6                   23.716283       0.011552   \n",
       "CCCTGAGTCCATTAACAACGGGAA-1-Mock_J6                   12.986717       0.000000   \n",
       "CCCTGACCAATAAGGAAACGGGAA-1-Mock_J6                   19.330941       0.240361   \n",
       "CCCTGTGAGAGGCGGAAACGGGAA-1-Mock_J6                   21.072899       0.179259   \n",
       "TTTGTGAGTGCGTACCAACGGGAA-1-Mock_J6                   16.144578       4.337349   \n",
       "\n",
       "                                    pct_counts_ribo  pct_counts_hb  \n",
       "AAACAAGCAAGAACAAAGTAGGCT-1-Inf_J3               0.0            0.0  \n",
       "GGGATTTAGTCAACTTAGTAGGCT-1-Inf_J3               0.0            0.0  \n",
       "GGGATTTAGTCAATAGAGTAGGCT-1-Inf_J3               0.0            0.0  \n",
       "GGGATTTAGTGAGTTAAGTAGGCT-1-Inf_J3               0.0            0.0  \n",
       "GGGATTTAGTGCTGAGAGTAGGCT-1-Inf_J3               0.0            0.0  \n",
       "...                                             ...            ...  \n",
       "CCCTGAGTCGGTTATTAACGGGAA-1-Mock_J6              0.0            0.0  \n",
       "CCCTGAGTCCATTAACAACGGGAA-1-Mock_J6              0.0            0.0  \n",
       "CCCTGACCAATAAGGAAACGGGAA-1-Mock_J6              0.0            0.0  \n",
       "CCCTGTGAGAGGCGGAAACGGGAA-1-Mock_J6              0.0            0.0  \n",
       "TTTGTGAGTGCGTACCAACGGGAA-1-Mock_J6              0.0            0.0  \n",
       "\n",
       "[39192 rows x 12 columns]"
      ]
     },
     "execution_count": 14,
     "metadata": {},
     "output_type": "execute_result"
    }
   ],
   "source": [
    "df\n"
   ]
  },
  {
   "cell_type": "code",
   "execution_count": null,
   "id": "4e357f75-7edf-49a2-8434-f8b6db93bc65",
   "metadata": {},
   "outputs": [],
   "source": []
  },
  {
   "cell_type": "code",
   "execution_count": 15,
   "id": "7e0a6975-79e8-49df-b091-10a13d45d0e0",
   "metadata": {},
   "outputs": [
    {
     "data": {
      "image/png": "[encoded data removed]",
      "text/plain": [
       "<Figure size 750x200 with 4 Axes>"
      ]
     },
     "metadata": {},
     "output_type": "display_data"
    }
   ],
   "source": [
    "value = \"log1p_total_counts\"\n",
    "\n",
    "sns.set(style=\"white\", rc={\"axes.facecolor\": (0, 0, 0, 0)})\n",
    "\n",
    "g = sns.FacetGrid(df, row=\"Id\", hue=\"Id\", aspect=15, height=0.5, palette=\"tab20\")\n",
    "\n",
    "g.map(sns.kdeplot, value, clip_on=False, fill=True, alpha=1, linewidth=1.5)\n",
    "g.map(sns.kdeplot, value, clip_on=False, color=\"w\", lw=2)\n",
    "\n",
    "g.map(plt.axhline, y=0, lw=2, clip_on=False)\n",
    "\n",
    "def label(x, color, label):\n",
    "    ax = plt.gca()\n",
    "    ax.text(0, .2, label, fontweight=\"bold\", color=color,\n",
    "            ha=\"left\", va=\"center\", transform=ax.transAxes)\n",
    "\n",
    "g.map(label, value)\n",
    "\n",
    "g.figure.subplots_adjust(hspace=-.6)\n",
    "\n",
    "g.set_titles(\"\")\n",
    "g.set(yticks=[], ylabel=\"\")\n",
    "g.despine(bottom=True, left=True)\n",
    "\n",
    "for ax in g.axes.flat:\n",
    "    ax.axvline(x=df[value].median(), color='r', linestyle='-')\n",
    "\n",
    "\n",
    "plt.show()"
   ]
  },
  {
   "cell_type": "code",
   "execution_count": 16,
   "id": "8e97c743-cc7b-4ba0-ad48-f983c8f4d5ea",
   "metadata": {},
   "outputs": [
    {
     "data": {
      "image/png": "[encoded data removed]",
      "text/plain": [
       "<Figure size 750x200 with 4 Axes>"
      ]
     },
     "metadata": {},
     "output_type": "display_data"
    }
   ],
   "source": [
    "value = 'pct_counts_in_top_20_genes'\n",
    "\n",
    "\n",
    "sns.set(style=\"white\", rc={\"axes.facecolor\": (0, 0, 0, 0)})\n",
    "\n",
    "g = sns.FacetGrid(df, row=\"Id\", hue=\"Id\", aspect=15, height=0.5, palette=\"tab20\")\n",
    "\n",
    "g.map(sns.kdeplot, value, clip_on=False, fill=True, alpha=1, linewidth=1.5)\n",
    "g.map(sns.kdeplot, value, clip_on=False, color=\"w\", lw=2)\n",
    "\n",
    "g.map(plt.axhline, y=0, lw=2, clip_on=False)\n",
    "\n",
    "def label(x, color, label):\n",
    "    ax = plt.gca()\n",
    "    ax.text(0, .2, label, fontweight=\"bold\", color=color,\n",
    "            ha=\"left\", va=\"center\", transform=ax.transAxes)\n",
    "\n",
    "g.map(label, value)\n",
    "\n",
    "g.figure.subplots_adjust(hspace=-.6)\n",
    "\n",
    "g.set_titles(\"\")\n",
    "g.set(yticks=[], ylabel=\"\")\n",
    "g.despine(bottom=True, left=True)\n",
    "\n",
    "for ax in g.axes.flat:\n",
    "    ax.axvline(x=df[value].median(), color='r', linestyle='-')\n",
    "\n",
    "\n",
    "plt.show()"
   ]
  },
  {
   "cell_type": "code",
   "execution_count": 17,
   "id": "d24d1435-2820-4821-ad67-d1e9ccbab0fd",
   "metadata": {},
   "outputs": [
    {
     "data": {
      "image/png": "[encoded data removed]",
      "text/plain": [
       "<Figure size 750x200 with 4 Axes>"
      ]
     },
     "metadata": {},
     "output_type": "display_data"
    }
   ],
   "source": [
    "value = \"n_genes\"\n",
    "\n",
    "\n",
    "\n",
    "sns.set(style=\"white\", rc={\"axes.facecolor\": (0, 0, 0, 0)})\n",
    "\n",
    "g = sns.FacetGrid(df, row=\"Id\", hue=\"Id\", aspect=15, height=0.5, palette=\"tab20\")\n",
    "\n",
    "g.map(sns.kdeplot, value, clip_on=False, fill=True, alpha=1, linewidth=1.5)\n",
    "g.map(sns.kdeplot, value, clip_on=False, color=\"w\", lw=2)\n",
    "\n",
    "g.map(plt.axhline, y=0, lw=2, clip_on=False)\n",
    "\n",
    "def label(x, color, label):\n",
    "    ax = plt.gca()\n",
    "    ax.text(0, .2, label, fontweight=\"bold\", color=color,\n",
    "            ha=\"left\", va=\"center\", transform=ax.transAxes)\n",
    "\n",
    "g.map(label, value)\n",
    "\n",
    "g.figure.subplots_adjust(hspace=-.6)\n",
    "\n",
    "g.set_titles(\"\")\n",
    "g.set(yticks=[], ylabel=\"\")\n",
    "g.despine(bottom=True, left=True)\n",
    "\n",
    "for ax in g.axes.flat:\n",
    "    ax.axvline(x=df[value].median(), color='r', linestyle='-')\n",
    "\n",
    "\n",
    "plt.show()"
   ]
  },
  {
   "cell_type": "code",
   "execution_count": 18,
   "id": "6a547aec-bf94-4107-863b-28973746b571",
   "metadata": {},
   "outputs": [
    {
     "data": {
      "image/png": "[encoded data removed]",
      "text/plain": [
       "<Figure size 750x200 with 4 Axes>"
      ]
     },
     "metadata": {},
     "output_type": "display_data"
    }
   ],
   "source": [
    "value = \"pct_counts_mt\"\n",
    "\n",
    "\n",
    "\n",
    "\n",
    "sns.set(style=\"white\", rc={\"axes.facecolor\": (0, 0, 0, 0)})\n",
    "\n",
    "g = sns.FacetGrid(df, row=\"Id\", hue=\"Id\", aspect=15, height=0.5, palette=\"tab20\")\n",
    "\n",
    "g.map(sns.kdeplot, value, clip_on=False, fill=True, alpha=1, linewidth=1.5)\n",
    "g.map(sns.kdeplot, value, clip_on=False, color=\"w\", lw=2)\n",
    "\n",
    "g.map(plt.axhline, y=0, lw=2, clip_on=False)\n",
    "\n",
    "def label(x, color, label):\n",
    "    ax = plt.gca()\n",
    "    ax.text(0, .2, label, fontweight=\"bold\", color=color,\n",
    "            ha=\"left\", va=\"center\", transform=ax.transAxes)\n",
    "\n",
    "g.map(label, value)\n",
    "\n",
    "g.figure.subplots_adjust(hspace=-.6)\n",
    "\n",
    "g.set_titles(\"\")\n",
    "g.set(yticks=[], ylabel=\"\")\n",
    "g.despine(bottom=True, left=True)\n",
    "\n",
    "for ax in g.axes.flat:\n",
    "    ax.axvline(x=df[value].median(), color='r', linestyle='-')\n",
    "\n",
    "\n",
    "plt.show()"
   ]
  },
  {
   "cell_type": "code",
   "execution_count": null,
   "id": "ec990709-47dc-4c25-b089-60693ba8b76b",
   "metadata": {},
   "outputs": [],
   "source": []
  },
  {
   "cell_type": "code",
   "execution_count": null,
   "id": "82646f7c-54a5-49ff-a4b5-0ea0646d7bf6",
   "metadata": {},
   "outputs": [],
   "source": []
  },
  {
   "cell_type": "code",
   "execution_count": 3,
   "id": "48932361-1e83-42a3-aca1-6c931bd749c3",
   "metadata": {},
   "outputs": [],
   "source": [
    "import doubletdetection\n",
    "from scipy.stats import median_abs_deviation as mad\n",
    "import numpy as np"
   ]
  },
  {
   "cell_type": "code",
   "execution_count": null,
   "id": "dde72c1b-eeb4-4194-abda-b87669b0c405",
   "metadata": {},
   "outputs": [],
   "source": []
  },
  {
   "cell_type": "code",
   "execution_count": null,
   "id": "d063af9e-4f5f-4716-8fd5-af9709512fbc",
   "metadata": {},
   "outputs": [],
   "source": []
  },
  {
   "cell_type": "code",
   "execution_count": null,
   "id": "7acadc85-ffb5-44bf-a751-53cf897a5d4d",
   "metadata": {},
   "outputs": [],
   "source": []
  },
  {
   "cell_type": "code",
   "execution_count": 23,
   "id": "a99bb2f8-a04f-4d35-8cf0-120fb9c4af93",
   "metadata": {},
   "outputs": [
    {
     "data": {
      "text/plain": [
       "GGGTTATAGCCTGCCAAACGGGAA-1-Mock_J6     9.919705\n",
       "GGGTTATAGCTTAAAGAACGGGAA-1-Mock_J6     9.611797\n",
       "GGGTTATAGGCTGGTAAACGGGAA-1-Mock_J6     9.168372\n",
       "GGGTTATAGGCTTATTAACGGGAA-1-Mock_J6     9.535318\n",
       "GGGTTATAGGGTTTCCAACGGGAA-1-Mock_J6     9.509407\n",
       "                                        ...    \n",
       "CCCTGAGTCGGTTATTAACGGGAA-1-Mock_J6     9.759271\n",
       "CCCTGAGTCCATTAACAACGGGAA-1-Mock_J6     9.772353\n",
       "CCCTGACCAATAAGGAAACGGGAA-1-Mock_J6    10.321277\n",
       "CCCTGTGAGAGGCGGAAACGGGAA-1-Mock_J6     9.619997\n",
       "TTTGTGAGTGCGTACCAACGGGAA-1-Mock_J6     7.127694\n",
       "Name: log1p_total_counts, Length: 8525, dtype: float32"
      ]
     },
     "execution_count": 23,
     "metadata": {},
     "output_type": "execute_result"
    }
   ],
   "source": [
    "a = df[df.Id == 'Mock_J6'].log1p_total_counts\n",
    "a"
   ]
  },
  {
   "cell_type": "code",
   "execution_count": 24,
   "id": "52db6078-009c-4749-90bc-45552ae57387",
   "metadata": {},
   "outputs": [
    {
     "data": {
      "text/plain": [
       "np.float32(9.634562)"
      ]
     },
     "execution_count": 24,
     "metadata": {},
     "output_type": "execute_result"
    }
   ],
   "source": [
    "np.median(a)"
   ]
  },
  {
   "cell_type": "code",
   "execution_count": 25,
   "id": "61b392e2-7a1c-4abb-8895-f5ed6a5732a7",
   "metadata": {},
   "outputs": [
    {
     "data": {
      "text/plain": [
       "np.float32(7.835369)"
      ]
     },
     "execution_count": 25,
     "metadata": {},
     "output_type": "execute_result"
    }
   ],
   "source": [
    "np.median(a) - 5 * mad(a)"
   ]
  },
  {
   "cell_type": "code",
   "execution_count": 26,
   "id": "5af33dc1-fd84-47a5-a7ab-f227e0fe819f",
   "metadata": {},
   "outputs": [
    {
     "data": {
      "text/plain": [
       "np.float32(11.433754)"
      ]
     },
     "execution_count": 26,
     "metadata": {},
     "output_type": "execute_result"
    }
   ],
   "source": [
    "np.median(a) + 5 * mad(a)"
   ]
  },
  {
   "cell_type": "code",
   "execution_count": null,
   "id": "66be803f-d3a3-4b12-86f5-a78c79107a40",
   "metadata": {},
   "outputs": [],
   "source": []
  },
  {
   "cell_type": "code",
   "execution_count": 27,
   "id": "8e1e55c7-b0da-480a-af68-8a392ad41b23",
   "metadata": {},
   "outputs": [
    {
     "data": {
      "image/png": "[encoded data removed]",
      "text/plain": [
       "<Figure size 500x500 with 1 Axes>"
      ]
     },
     "metadata": {},
     "output_type": "display_data"
    }
   ],
   "source": [
    "\n",
    "ax = sns.displot(a)\n",
    "\n",
    "plt.axvline(np.median(a) - 5 * mad(a))\n",
    "plt.axvline(np.median(a) + 5 * mad(a))\n",
    "%matplotlib inline\n",
    "plt.show()"
   ]
  },
  {
   "cell_type": "code",
   "execution_count": 28,
   "id": "fa86547f-bb7b-47fa-a707-e1d59f57b0af",
   "metadata": {},
   "outputs": [],
   "source": [
    "def mad_outlier(adata, metric, nmads, upper_only = False):\n",
    "    M = adata.obs[metric]\n",
    "    \n",
    "    if not upper_only:\n",
    "        return (M < np.median(M) - nmads * mad(M)) | (M > np.median(M) + nmads * mad(M))\n",
    "    \n",
    "    return (M > np.median(M) + nmads * mad(M))"
   ]
  },
  {
   "cell_type": "code",
   "execution_count": 29,
   "id": "587a5d44-2e8e-40fa-8db8-8caafb0a5c42",
   "metadata": {},
   "outputs": [],
   "source": [
    "clf = doubletdetection.BoostClassifier(\n",
    "    n_iters=10,\n",
    "    clustering_algorithm=\"louvain\",\n",
    "    standard_scaling=True,\n",
    "    pseudocount=0.1,\n",
    "    n_jobs=-1)"
   ]
  },
  {
   "cell_type": "code",
   "execution_count": 30,
   "id": "d0750865-a5ab-4496-b0de-15bd16adcb0c",
   "metadata": {},
   "outputs": [],
   "source": [
    "clf = doubletdetection.BoostClassifier(\n",
    "    n_iters=10,\n",
    "    clustering_algorithm=\"louvain\",\n",
    "    standard_scaling=True,\n",
    "    pseudocount=0.1,\n",
    "    n_jobs=-1)"
   ]
  },
  {
   "cell_type": "code",
   "execution_count": 31,
   "id": "f592f430-d058-46fa-b7e0-9a63d82125f8",
   "metadata": {},
   "outputs": [],
   "source": [
    "clf = doubletdetection.BoostClassifier(\n",
    "    boost_rate=0.25,\n",
    "    n_components=30, n_top_var_genes=10000, replace=False, clustering_algorithm='phenograph', clustering_kwargs=None, n_iters=10, normalizer=None, pseudocount=0.1, random_state=0, verbose=False, standard_scaling=False, n_jobs=1)"
   ]
  },
  {
   "cell_type": "code",
   "execution_count": 32,
   "id": "d6affa57-d4d3-4be5-8c0f-91591d3f438b",
   "metadata": {},
   "outputs": [],
   "source": [
    "def pp(adata):\n",
    "    adata = adata[adata.obs.pct_counts_mt < 25] #you can lower this based on the overal distribution of your dataset\n",
    "    \n",
    "    bool_vector = mad_outlier(adata, 'log1p_total_counts', 5) +\\\n",
    "            mad_outlier(adata, 'log1p_n_genes_by_counts', 5) +\\\n",
    "            mad_outlier(adata, 'pct_counts_in_top_20_genes', 5) +\\\n",
    "            mad_outlier(adata, 'pct_counts_mt', 3, upper_only = True)\n",
    "    adata = adata[~bool_vector]\n",
    "\n",
    "    adata.uns['cells_removed'] = sum(bool_vector)\n",
    "\n",
    "    doublets = clf.fit(adata.X).predict(p_thresh=1e-16, voter_thresh=0.5)\n",
    "    doublet_score = clf.doublet_score()\n",
    "\n",
    "    adata.obs[\"doublet\"] = doublets\n",
    "    adata.obs[\"doublet_score\"] = doublet_score\n",
    "\n",
    "    adata.uns['doublets_removed'] = adata.obs.doublet.sum()\n",
    "    adata = adata[adata.obs.doublet == 0]\n",
    "\n",
    "    return adata"
   ]
  },
  {
   "cell_type": "code",
   "execution_count": 33,
   "id": "09bee1e4-e537-4486-8257-2fdc7467e9ee",
   "metadata": {},
   "outputs": [
    {
     "data": {
      "application/vnd.jupyter.widget-view+json": {
       "model_id": "9923f17b7fc24e8fa2db61baedea9ea7",
       "version_major": 2,
       "version_minor": 0
      },
      "text/plain": [
       "  0%|          | 0/10 [00:00<?, ?it/s]"
      ]
     },
     "metadata": {},
     "output_type": "display_data"
    },
    {
     "data": {
      "application/vnd.jupyter.widget-view+json": {
       "model_id": "d06896d280cf445e8aff4559bf072b4c",
       "version_major": 2,
       "version_minor": 0
      },
      "text/plain": [
       "  0%|          | 0/10 [00:00<?, ?it/s]"
      ]
     },
     "metadata": {},
     "output_type": "display_data"
    },
    {
     "data": {
      "application/vnd.jupyter.widget-view+json": {
       "model_id": "df527cbae93c4f79b9d9a0e39b20dc44",
       "version_major": 2,
       "version_minor": 0
      },
      "text/plain": [
       "  0%|          | 0/10 [00:00<?, ?it/s]"
      ]
     },
     "metadata": {},
     "output_type": "display_data"
    },
    {
     "data": {
      "application/vnd.jupyter.widget-view+json": {
       "model_id": "7fb81d4a95c143cea400ebd5dbeb0e9f",
       "version_major": 2,
       "version_minor": 0
      },
      "text/plain": [
       "  0%|          | 0/10 [00:00<?, ?it/s]"
      ]
     },
     "metadata": {},
     "output_type": "display_data"
    }
   ],
   "source": [
    "adatas = [pp(ad) for ad in adatas]"
   ]
  },
  {
   "cell_type": "code",
   "execution_count": null,
   "id": "c29717a4-b8f9-47fb-bad0-ddf94bb2480e",
   "metadata": {},
   "outputs": [],
   "source": []
  },
  {
   "cell_type": "code",
   "execution_count": 34,
   "id": "7a02393e-36f8-4510-aea2-1023ffe2410b",
   "metadata": {},
   "outputs": [
    {
     "name": "stdout",
     "output_type": "stream",
     "text": [
      "7123 2292 1570.0\n",
      "5994 1841 1282.0\n",
      "6822 2467 1242.0\n",
      "5198 1717 1598.0\n"
     ]
    }
   ],
   "source": [
    "for adata in adatas:\n",
    "    print(len(adata), adata.uns['cells_removed'], adata.uns['doublets_removed'])"
   ]
  },
  {
   "cell_type": "code",
   "execution_count": null,
   "id": "5fe51246-bd80-4796-8bb1-f072b372739d",
   "metadata": {},
   "outputs": [],
   "source": []
  },
  {
   "cell_type": "code",
   "execution_count": 30,
   "id": "f6720483-8e5a-4231-a55b-866abe28015c",
   "metadata": {},
   "outputs": [
    {
     "ename": "NameError",
     "evalue": "name 'adatas' is not defined",
     "output_type": "error",
     "traceback": [
      "\u001b[1;31m---------------------------------------------------------------------------\u001b[0m",
      "\u001b[1;31mNameError\u001b[0m                                 Traceback (most recent call last)",
      "Cell \u001b[1;32mIn[30], line 1\u001b[0m\n\u001b[1;32m----> 1\u001b[0m df2 \u001b[38;5;241m=\u001b[39m pd\u001b[38;5;241m.\u001b[39mconcat([x\u001b[38;5;241m.\u001b[39mobs \u001b[38;5;28;01mfor\u001b[39;00m x \u001b[38;5;129;01min\u001b[39;00m \u001b[43madatas\u001b[49m])\n\u001b[0;32m      2\u001b[0m df2 \u001b[38;5;241m=\u001b[39m df2\u001b[38;5;241m.\u001b[39msort_values(\u001b[38;5;124m'\u001b[39m\u001b[38;5;124mId\u001b[39m\u001b[38;5;124m'\u001b[39m)\n",
      "\u001b[1;31mNameError\u001b[0m: name 'adatas' is not defined"
     ]
    }
   ],
   "source": [
    "df2 = pd.concat([x.obs for x in adatas])\n",
    "df2 = df2.sort_values('Id')"
   ]
  },
  {
   "cell_type": "code",
   "execution_count": null,
   "id": "7736e6aa-35a7-4ed9-a696-0bb4a2ea412d",
   "metadata": {},
   "outputs": [],
   "source": []
  },
  {
   "cell_type": "code",
   "execution_count": 37,
   "id": "99e0f989-4c65-4cc3-b03b-3f59478025f7",
   "metadata": {},
   "outputs": [
    {
     "data": {
      "image/png": "[encoded data removed]",
      "text/plain": [
       "<Figure size 750x200 with 4 Axes>"
      ]
     },
     "metadata": {},
     "output_type": "display_data"
    }
   ],
   "source": [
    "#value = \"pct_counts_mt\"\n",
    "#value = \"n_genes\"\n",
    "value = 'pct_counts_in_top_20_genes'\n",
    "#value = \"log1p_total_counts\"\n",
    "\n",
    "sns.set(style=\"white\", rc={\"axes.facecolor\": (0, 0, 0, 0)})\n",
    "\n",
    "g = sns.FacetGrid(df2, row=\"Id\", hue=\"Id\", aspect=15, height=0.5, palette=\"tab20\")\n",
    "\n",
    "g.map(sns.kdeplot, value, clip_on=False, fill=True, alpha=1, linewidth=1.5)\n",
    "g.map(sns.kdeplot, value, clip_on=False, color=\"w\", lw=2)\n",
    "\n",
    "g.map(plt.axhline, y=0, lw=2, clip_on=False)\n",
    "\n",
    "def label(x, color, label):\n",
    "    ax = plt.gca()\n",
    "    ax.text(0, .2, label, fontweight=\"bold\", color=color,\n",
    "            ha=\"left\", va=\"center\", transform=ax.transAxes)\n",
    "\n",
    "g.map(label, value)\n",
    "\n",
    "g.figure.subplots_adjust(hspace=-.6)\n",
    "\n",
    "g.set_titles(\"\")\n",
    "g.set(yticks=[], ylabel=\"\")\n",
    "g.despine(bottom=True, left=True)\n",
    "\n",
    "for ax in g.axes.flat:\n",
    "    ax.axvline(x=df2[value].median(), color='r', linestyle='-')\n",
    "\n",
    "\n",
    "plt.show()"
   ]
  },
  {
   "cell_type": "code",
   "execution_count": null,
   "id": "cfba4a78-a8f5-46fb-b04a-996e5481389e",
   "metadata": {},
   "outputs": [],
   "source": []
  },
  {
   "cell_type": "code",
   "execution_count": 38,
   "id": "896794d8-c4da-4bcb-8a05-1f012af75640",
   "metadata": {},
   "outputs": [
    {
     "data": {
      "image/png": "[encoded data removed]",
      "text/plain": [
       "<Figure size 750x200 with 4 Axes>"
      ]
     },
     "metadata": {},
     "output_type": "display_data"
    }
   ],
   "source": [
    "#value = \"pct_counts_mt\"\n",
    "value = \"n_genes\"\n",
    "\n",
    "#value = \"log1p_total_counts\"\n",
    "\n",
    "sns.set(style=\"white\", rc={\"axes.facecolor\": (0, 0, 0, 0)})\n",
    "\n",
    "g = sns.FacetGrid(df2, row=\"Id\", hue=\"Id\", aspect=15, height=0.5, palette=\"tab20\")\n",
    "\n",
    "g.map(sns.kdeplot, value, clip_on=False, fill=True, alpha=1, linewidth=1.5)\n",
    "g.map(sns.kdeplot, value, clip_on=False, color=\"w\", lw=2)\n",
    "\n",
    "g.map(plt.axhline, y=0, lw=2, clip_on=False)\n",
    "\n",
    "def label(x, color, label):\n",
    "    ax = plt.gca()\n",
    "    ax.text(0, .2, label, fontweight=\"bold\", color=color,\n",
    "            ha=\"left\", va=\"center\", transform=ax.transAxes)\n",
    "\n",
    "g.map(label, value)\n",
    "\n",
    "g.figure.subplots_adjust(hspace=-.6)\n",
    "\n",
    "g.set_titles(\"\")\n",
    "g.set(yticks=[], ylabel=\"\")\n",
    "g.despine(bottom=True, left=True)\n",
    "\n",
    "for ax in g.axes.flat:\n",
    "    ax.axvline(x=df2[value].median(), color='r', linestyle='-')\n",
    "\n",
    "\n",
    "plt.show()"
   ]
  },
  {
   "cell_type": "code",
   "execution_count": null,
   "id": "9ef6ff54-b751-420e-b5e5-2f12072e372a",
   "metadata": {},
   "outputs": [],
   "source": []
  },
  {
   "cell_type": "code",
   "execution_count": null,
   "id": "20cecf53-46ac-40f5-8d93-11259bf5b3ad",
   "metadata": {},
   "outputs": [],
   "source": []
  },
  {
   "cell_type": "code",
   "execution_count": 39,
   "id": "4b9fcd3b-8a25-45a9-b761-56b3fc7fb3d8",
   "metadata": {},
   "outputs": [
    {
     "data": {
      "image/png": "[encoded data removed]",
      "text/plain": [
       "<Figure size 750x200 with 4 Axes>"
      ]
     },
     "metadata": {},
     "output_type": "display_data"
    }
   ],
   "source": [
    "#value = \"pct_counts_mt\"\n",
    "value = \"log1p_total_counts\"\n",
    "\n",
    "sns.set(style=\"white\", rc={\"axes.facecolor\": (0, 0, 0, 0)})\n",
    "\n",
    "g = sns.FacetGrid(df2, row=\"Id\", hue=\"Id\", aspect=15, height=0.5, palette=\"tab20\")\n",
    "\n",
    "g.map(sns.kdeplot, value, clip_on=False, fill=True, alpha=1, linewidth=1.5)\n",
    "g.map(sns.kdeplot, value, clip_on=False, color=\"w\", lw=2)\n",
    "\n",
    "g.map(plt.axhline, y=0, lw=2, clip_on=False)\n",
    "\n",
    "def label(x, color, label):\n",
    "    ax = plt.gca()\n",
    "    ax.text(0, .2, label, fontweight=\"bold\", color=color,\n",
    "            ha=\"left\", va=\"center\", transform=ax.transAxes)\n",
    "\n",
    "g.map(label, value)\n",
    "\n",
    "g.figure.subplots_adjust(hspace=-.6)\n",
    "\n",
    "g.set_titles(\"\")\n",
    "g.set(yticks=[], ylabel=\"\")\n",
    "g.despine(bottom=True, left=True)\n",
    "\n",
    "for ax in g.axes.flat:\n",
    "    ax.axvline(x=df2[value].median(), color='r', linestyle='-')\n",
    "\n",
    "\n",
    "plt.show()"
   ]
  },
  {
   "cell_type": "code",
   "execution_count": null,
   "id": "12b91e5b-06ce-45f0-9c2b-684cc6907f04",
   "metadata": {},
   "outputs": [],
   "source": []
  },
  {
   "cell_type": "code",
   "execution_count": null,
   "id": "aa59ebbc-6ebd-4f6d-8c50-6676c808c02b",
   "metadata": {},
   "outputs": [],
   "source": []
  },
  {
   "cell_type": "code",
   "execution_count": 40,
   "id": "50b5968b-1a18-467c-9abb-4f98f4cd45f4",
   "metadata": {},
   "outputs": [
    {
     "data": {
      "image/png": "[encoded data removed]",
      "text/plain": [
       "<Figure size 750x200 with 4 Axes>"
      ]
     },
     "metadata": {},
     "output_type": "display_data"
    }
   ],
   "source": [
    "value = \"pct_counts_mt\"\n",
    "\n",
    "\n",
    "sns.set(style=\"white\", rc={\"axes.facecolor\": (0, 0, 0, 0)})\n",
    "\n",
    "g = sns.FacetGrid(df2, row=\"Id\", hue=\"Id\", aspect=15, height=0.5, palette=\"tab20\")\n",
    "\n",
    "g.map(sns.kdeplot, value, clip_on=False, fill=True, alpha=1, linewidth=1.5)\n",
    "g.map(sns.kdeplot, value, clip_on=False, color=\"w\", lw=2)\n",
    "\n",
    "g.map(plt.axhline, y=0, lw=2, clip_on=False)\n",
    "\n",
    "def label(x, color, label):\n",
    "    ax = plt.gca()\n",
    "    ax.text(0, .2, label, fontweight=\"bold\", color=color,\n",
    "            ha=\"left\", va=\"center\", transform=ax.transAxes)\n",
    "\n",
    "g.map(label, value)\n",
    "\n",
    "g.figure.subplots_adjust(hspace=-.6)\n",
    "\n",
    "g.set_titles(\"\")\n",
    "g.set(yticks=[], ylabel=\"\")\n",
    "g.despine(bottom=True, left=True)\n",
    "\n",
    "for ax in g.axes.flat:\n",
    "    ax.axvline(x=df2[value].median(), color='r', linestyle='-')\n",
    "\n",
    "\n",
    "plt.show()"
   ]
  },
  {
   "cell_type": "code",
   "execution_count": 41,
   "id": "c12e0128-1783-4ac9-a849-27de506077c9",
   "metadata": {},
   "outputs": [],
   "source": [
    "os.makedirs(\"processed_data\", exist_ok = True)"
   ]
  },
  {
   "cell_type": "code",
   "execution_count": 42,
   "id": "eb6a2448-6566-4d68-afbb-5f5de6e2231c",
   "metadata": {},
   "outputs": [
    {
     "name": "stdout",
     "output_type": "stream",
     "text": [
      "Saved: processed_data\\adata_Inf_J3.h5ad\n",
      "Saved: processed_data\\adata_Inf_J6.h5ad\n",
      "Saved: processed_data\\adata_Mock_J3.h5ad\n",
      "Saved: processed_data\\adata_Mock_J6.h5ad\n"
     ]
    }
   ],
   "source": [
    "for ad in adatas:\n",
    "    unique_id = ad.obs['Id'][0]\n",
    "    file_path = os.path.join(\"processed_data\", f'adata_{unique_id}.h5ad')\n",
    "    ad.write(file_path)\n",
    "    print(f\"Saved: {file_path}\")"
   ]
  },
  {
   "cell_type": "code",
   "execution_count": null,
   "id": "886a9f82-69a1-4232-95fd-7ac7e98852b1",
   "metadata": {},
   "outputs": [],
   "source": []
  },
  {
   "cell_type": "code",
   "execution_count": null,
   "id": "ba535de7-c0e9-4df2-a752-6d9809419f7c",
   "metadata": {},
   "outputs": [],
   "source": []
  },
  {
   "cell_type": "code",
   "execution_count": 4,
   "id": "0e1a4d7b-5a7f-4a59-a08c-1f3b9de833d1",
   "metadata": {},
   "outputs": [],
   "source": [
    "adatas2 = [sc.read_h5ad(\"processed_data/\" + x) for x in os.listdir(\"processed_data\")]"
   ]
  },
  {
   "cell_type": "code",
   "execution_count": 5,
   "id": "1d938c78-e9bd-4b59-a44e-f3fb7dea019c",
   "metadata": {},
   "outputs": [
    {
     "data": {
      "text/plain": [
       "[AnnData object with n_obs × n_vars = 7123 × 18087\n",
       "     obs: 'Sample', 'dpi', 'Id', 'n_genes', 'n_genes_by_counts', 'log1p_n_genes_by_counts', 'total_counts', 'log1p_total_counts', 'pct_counts_in_top_20_genes', 'pct_counts_mt', 'pct_counts_ribo', 'pct_counts_hb', 'doublet', 'doublet_score'\n",
       "     var: 'gene_ids', 'feature_types', 'genome', 'mt', 'ribo', 'hb', 'n_cells_by_counts', 'mean_counts', 'log1p_mean_counts', 'pct_dropout_by_counts', 'total_counts', 'log1p_total_counts'\n",
       "     uns: 'cells_removed', 'doublets_removed',\n",
       " AnnData object with n_obs × n_vars = 5994 × 18087\n",
       "     obs: 'Sample', 'dpi', 'Id', 'n_genes', 'n_genes_by_counts', 'log1p_n_genes_by_counts', 'total_counts', 'log1p_total_counts', 'pct_counts_in_top_20_genes', 'pct_counts_mt', 'pct_counts_ribo', 'pct_counts_hb', 'doublet', 'doublet_score'\n",
       "     var: 'gene_ids', 'feature_types', 'genome', 'mt', 'ribo', 'hb', 'n_cells_by_counts', 'mean_counts', 'log1p_mean_counts', 'pct_dropout_by_counts', 'total_counts', 'log1p_total_counts'\n",
       "     uns: 'cells_removed', 'doublets_removed',\n",
       " AnnData object with n_obs × n_vars = 6822 × 18087\n",
       "     obs: 'Sample', 'dpi', 'Id', 'n_genes', 'n_genes_by_counts', 'log1p_n_genes_by_counts', 'total_counts', 'log1p_total_counts', 'pct_counts_in_top_20_genes', 'pct_counts_mt', 'pct_counts_ribo', 'pct_counts_hb', 'doublet', 'doublet_score'\n",
       "     var: 'gene_ids', 'feature_types', 'genome', 'mt', 'ribo', 'hb', 'n_cells_by_counts', 'mean_counts', 'log1p_mean_counts', 'pct_dropout_by_counts', 'total_counts', 'log1p_total_counts'\n",
       "     uns: 'cells_removed', 'doublets_removed',\n",
       " AnnData object with n_obs × n_vars = 5198 × 18087\n",
       "     obs: 'Sample', 'dpi', 'Id', 'n_genes', 'n_genes_by_counts', 'log1p_n_genes_by_counts', 'total_counts', 'log1p_total_counts', 'pct_counts_in_top_20_genes', 'pct_counts_mt', 'pct_counts_ribo', 'pct_counts_hb', 'doublet', 'doublet_score'\n",
       "     var: 'gene_ids', 'feature_types', 'genome', 'mt', 'ribo', 'hb', 'n_cells_by_counts', 'mean_counts', 'log1p_mean_counts', 'pct_dropout_by_counts', 'total_counts', 'log1p_total_counts'\n",
       "     uns: 'cells_removed', 'doublets_removed']"
      ]
     },
     "execution_count": 5,
     "metadata": {},
     "output_type": "execute_result"
    }
   ],
   "source": [
    "adatas2"
   ]
  },
  {
   "cell_type": "code",
   "execution_count": null,
   "id": "ada67b5f-c8ba-4bff-be37-88ba3fadbea7",
   "metadata": {},
   "outputs": [],
   "source": []
  },
  {
   "cell_type": "code",
   "execution_count": 6,
   "id": "81a50e95-711a-4db0-8fc9-2502b4f4392c",
   "metadata": {},
   "outputs": [],
   "source": [
    "import anndata as adf"
   ]
  },
  {
   "cell_type": "code",
   "execution_count": 7,
   "id": "6b5fb59a-540a-4609-96c3-717ab894189e",
   "metadata": {},
   "outputs": [
    {
     "name": "stdout",
     "output_type": "stream",
     "text": [
      "AnnData0:\n",
      "obs.index is unique: True\n",
      "var.index is unique: False\n",
      "AnnData1:\n",
      "obs.index is unique: True\n",
      "var.index is unique: False\n",
      "AnnData2:\n",
      "obs.index is unique: True\n",
      "var.index is unique: False\n",
      "AnnData3:\n",
      "obs.index is unique: True\n",
      "var.index is unique: False\n"
     ]
    }
   ],
   "source": [
    "for i, ad in enumerate(adatas2):\n",
    "    print(f\"AnnData{i}:\")\n",
    "    print(f\"obs.index is unique: {ad.obs.index.is_unique}\")\n",
    "    print(f\"var.index is unique: {ad.var.index.is_unique}\")"
   ]
  },
  {
   "cell_type": "code",
   "execution_count": 59,
   "id": "fa0f7b18-4f5d-471a-a012-d505fedd14ab",
   "metadata": {},
   "outputs": [
    {
     "name": "stdout",
     "output_type": "stream",
     "text": [
      "AnnData 0 has 3 duplicated genes: ['TBCE', 'HSPA14', 'TMSB15B']\n",
      "AnnData 1 has 3 duplicated genes: ['TBCE', 'HSPA14', 'TMSB15B']\n",
      "AnnData 2 has 3 duplicated genes: ['TBCE', 'HSPA14', 'TMSB15B']\n",
      "AnnData 3 has 3 duplicated genes: ['TBCE', 'HSPA14', 'TMSB15B']\n"
     ]
    }
   ],
   "source": [
    "for i, ad in enumerate(adatas2):\n",
    "    duplicates = ad.var.index[ad.var.index.duplicated()].tolist()\n",
    "    print(f\"AnnData {i} has {len(duplicates)} duplicated genes: {duplicates[:10]}\")"
   ]
  },
  {
   "cell_type": "code",
   "execution_count": 8,
   "id": "ee12ecef-37bf-4fdc-bba0-eff587e4bd40",
   "metadata": {},
   "outputs": [
    {
     "name": "stdout",
     "output_type": "stream",
     "text": [
      "AnnData0:\n",
      "obs.index is unique: True\n",
      "var.index is unique: False\n",
      "Duplicated var.index values:\n",
      "TBCE       2\n",
      "HSPA14     2\n",
      "TMSB15B    2\n",
      "Name: count, dtype: int64\n",
      "\n",
      "First 10 duplicated values:\n",
      "['TBCE', 'TBCE', 'HSPA14', 'HSPA14', 'TMSB15B', 'TMSB15B']\n",
      "\n",
      "\n",
      "AnnData1:\n",
      "obs.index is unique: True\n",
      "var.index is unique: False\n",
      "Duplicated var.index values:\n",
      "TBCE       2\n",
      "HSPA14     2\n",
      "TMSB15B    2\n",
      "Name: count, dtype: int64\n",
      "\n",
      "First 10 duplicated values:\n",
      "['TBCE', 'TBCE', 'HSPA14', 'HSPA14', 'TMSB15B', 'TMSB15B']\n",
      "\n",
      "\n",
      "AnnData2:\n",
      "obs.index is unique: True\n",
      "var.index is unique: False\n",
      "Duplicated var.index values:\n",
      "TBCE       2\n",
      "HSPA14     2\n",
      "TMSB15B    2\n",
      "Name: count, dtype: int64\n",
      "\n",
      "First 10 duplicated values:\n",
      "['TBCE', 'TBCE', 'HSPA14', 'HSPA14', 'TMSB15B', 'TMSB15B']\n",
      "\n",
      "\n",
      "AnnData3:\n",
      "obs.index is unique: True\n",
      "var.index is unique: False\n",
      "Duplicated var.index values:\n",
      "TBCE       2\n",
      "HSPA14     2\n",
      "TMSB15B    2\n",
      "Name: count, dtype: int64\n",
      "\n",
      "First 10 duplicated values:\n",
      "['TBCE', 'TBCE', 'HSPA14', 'HSPA14', 'TMSB15B', 'TMSB15B']\n",
      "\n",
      "\n"
     ]
    }
   ],
   "source": [
    "for i, ad in enumerate(adatas2):\n",
    "    print(f\"AnnData{i}:\")\n",
    "    print(f\"obs.index is unique: {ad.obs.index.is_unique}\")\n",
    "    print(f\"var.index is unique: {ad.var.index.is_unique}\")\n",
    "    \n",
    "    if not ad.var.index.is_unique:\n",
    "        duplicates = ad.var.index[ad.var.index.duplicated(keep=False)]\n",
    "        print(\"Duplicated var.index values:\")\n",
    "        print(duplicates.value_counts())\n",
    "        print(\"\\nFirst 10 duplicated values:\")\n",
    "        print(duplicates[:10].tolist())\n",
    "    \n",
    "    print(\"\\n\")"
   ]
  },
  {
   "cell_type": "code",
   "execution_count": 10,
   "id": "4b12ad1a-cb1c-4e7b-91da-71913a31e5cb",
   "metadata": {},
   "outputs": [
    {
     "name": "stdout",
     "output_type": "stream",
     "text": [
      "AnnData0:\n",
      "obs.index is unique: True\n",
      "var.index is unique: False\n",
      "\n",
      "Duplicated var.index values with corresponding gene_ids:\n",
      "var.index: TBCE, gene_ids: ENSG00000285053\n",
      "var.index: TBCE, gene_ids: ENSG00000284770\n",
      "var.index: HSPA14, gene_ids: ENSG00000284024\n",
      "var.index: HSPA14, gene_ids: ENSG00000187522\n",
      "var.index: TMSB15B, gene_ids: ENSG00000158427\n",
      "var.index: TMSB15B, gene_ids: ENSG00000269226\n",
      "\n",
      "Total number of duplicates: 6\n",
      "\n",
      "\n",
      "AnnData1:\n",
      "obs.index is unique: True\n",
      "var.index is unique: False\n",
      "\n",
      "Duplicated var.index values with corresponding gene_ids:\n",
      "var.index: TBCE, gene_ids: ENSG00000285053\n",
      "var.index: TBCE, gene_ids: ENSG00000284770\n",
      "var.index: HSPA14, gene_ids: ENSG00000284024\n",
      "var.index: HSPA14, gene_ids: ENSG00000187522\n",
      "var.index: TMSB15B, gene_ids: ENSG00000158427\n",
      "var.index: TMSB15B, gene_ids: ENSG00000269226\n",
      "\n",
      "Total number of duplicates: 6\n",
      "\n",
      "\n",
      "AnnData2:\n",
      "obs.index is unique: True\n",
      "var.index is unique: False\n",
      "\n",
      "Duplicated var.index values with corresponding gene_ids:\n",
      "var.index: TBCE, gene_ids: ENSG00000285053\n",
      "var.index: TBCE, gene_ids: ENSG00000284770\n",
      "var.index: HSPA14, gene_ids: ENSG00000284024\n",
      "var.index: HSPA14, gene_ids: ENSG00000187522\n",
      "var.index: TMSB15B, gene_ids: ENSG00000158427\n",
      "var.index: TMSB15B, gene_ids: ENSG00000269226\n",
      "\n",
      "Total number of duplicates: 6\n",
      "\n",
      "\n",
      "AnnData3:\n",
      "obs.index is unique: True\n",
      "var.index is unique: False\n",
      "\n",
      "Duplicated var.index values with corresponding gene_ids:\n",
      "var.index: TBCE, gene_ids: ENSG00000285053\n",
      "var.index: TBCE, gene_ids: ENSG00000284770\n",
      "var.index: HSPA14, gene_ids: ENSG00000284024\n",
      "var.index: HSPA14, gene_ids: ENSG00000187522\n",
      "var.index: TMSB15B, gene_ids: ENSG00000158427\n",
      "var.index: TMSB15B, gene_ids: ENSG00000269226\n",
      "\n",
      "Total number of duplicates: 6\n",
      "\n",
      "\n"
     ]
    }
   ],
   "source": [
    "for i, ad in enumerate(adatas2):\n",
    "    print(f\"AnnData{i}:\")\n",
    "    print(f\"obs.index is unique: {ad.obs.index.is_unique}\")\n",
    "    print(f\"var.index is unique: {ad.var.index.is_unique}\")\n",
    "    \n",
    "    if not ad.var.index.is_unique:\n",
    "        # Identifier les index dupliqués\n",
    "        duplicate_mask = ad.var.index.duplicated(keep=False)\n",
    "        duplicates = ad.var[duplicate_mask]\n",
    "        \n",
    "        print(\"\\nDuplicated var.index values with corresponding gene_ids:\")\n",
    "        for idx, row in duplicates.iterrows():\n",
    "            print(f\"var.index: {idx}, gene_ids: {row['gene_ids']}\")\n",
    "        \n",
    "        print(f\"\\nTotal number of duplicates: {duplicate_mask.sum()}\")\n",
    "    \n",
    "    print(\"\\n\")\n"
   ]
  },
  {
   "cell_type": "code",
   "execution_count": null,
   "id": "448ca2c5-01d7-4ed8-b34b-21aed8571e53",
   "metadata": {},
   "outputs": [],
   "source": []
  },
  {
   "cell_type": "code",
   "execution_count": null,
   "id": "c919ebd9-87cb-440a-847d-399db30ef777",
   "metadata": {},
   "outputs": [],
   "source": [
    "#value = \"pct_counts_mt\"\n",
    "#value = \"n_genes\"\n",
    "value = 'pct_counts_in_top_20_genes'\n",
    "#value = \"log1p_total_counts\""
   ]
  },
  {
   "cell_type": "code",
   "execution_count": null,
   "id": "13235b9c-d2fd-46cf-8bb1-177d054376bd",
   "metadata": {},
   "outputs": [],
   "source": []
  },
  {
   "cell_type": "code",
   "execution_count": 13,
   "id": "740ae2f8-75a6-4231-9eee-f21ac038e687",
   "metadata": {},
   "outputs": [],
   "source": [
    "for ad in adatas2:\n",
    "    ad.var_names_make_unique()\n"
   ]
  },
  {
   "cell_type": "code",
   "execution_count": 14,
   "id": "1a6fa62e-c75c-402f-89fa-166d87efbe3c",
   "metadata": {},
   "outputs": [],
   "source": [
    "adata_uni = adf.concat(adatas2, axis=0, join=\"outer\", index_unique=\"-\")\n"
   ]
  },
  {
   "cell_type": "code",
   "execution_count": 34,
   "id": "653334c1-e9ca-46ce-bb33-0a0d0f2a758f",
   "metadata": {},
   "outputs": [
    {
     "data": {
      "text/plain": [
       "AnnData object with n_obs × n_vars = 25137 × 18087\n",
       "    obs: 'Sample', 'dpi', 'Id', 'n_genes', 'n_genes_by_counts', 'log1p_n_genes_by_counts', 'total_counts', 'log1p_total_counts', 'pct_counts_in_top_20_genes', 'pct_counts_mt', 'pct_counts_ribo', 'pct_counts_hb', 'doublet', 'doublet_score'"
      ]
     },
     "execution_count": 34,
     "metadata": {},
     "output_type": "execute_result"
    }
   ],
   "source": [
    "adata_uni"
   ]
  },
  {
   "cell_type": "code",
   "execution_count": 31,
   "id": "541608f3-4abe-4cf3-80f3-26f9b7d9054c",
   "metadata": {},
   "outputs": [
    {
     "data": {
      "image/png": "[encoded data removed]",
      "text/plain": [
       "<Figure size 810.02x480 with 2 Axes>"
      ]
     },
     "metadata": {},
     "output_type": "display_data"
    }
   ],
   "source": [
    "%matplotlib inline\n",
    "sc.pl.scatter(adata_uni, \"total_counts\", \"n_genes_by_counts\", color=\"pct_counts_mt\")"
   ]
  },
  {
   "cell_type": "code",
   "execution_count": null,
   "id": "2e4d618d-3e90-4d89-aff5-a135ed726f9a",
   "metadata": {},
   "outputs": [],
   "source": []
  },
  {
   "cell_type": "code",
   "execution_count": null,
   "id": "33b85451-17e1-439b-aa25-2385c0fed218",
   "metadata": {},
   "outputs": [],
   "source": []
  }
 ],
 "metadata": {
  "kernelspec": {
   "display_name": "Python 3 (ipykernel)",
   "language": "python",
   "name": "python3"
  },
  "language_info": {
   "codemirror_mode": {
    "name": "ipython",
    "version": 3
   },
   "file_extension": ".py",
   "mimetype": "text/x-python",
   "name": "python",
   "nbconvert_exporter": "python",
   "pygments_lexer": "ipython3",
   "version": "3.9.21"
  }
 },
 "nbformat": 4,
 "nbformat_minor": 5
}
